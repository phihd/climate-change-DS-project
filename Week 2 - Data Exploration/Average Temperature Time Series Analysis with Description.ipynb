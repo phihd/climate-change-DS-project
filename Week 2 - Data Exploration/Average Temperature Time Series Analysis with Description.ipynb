{
 "cells": [
  {
   "cell_type": "markdown",
   "metadata": {},
   "source": [
    "# Importing the necessary libraries\n"
   ]
  },
  {
   "cell_type": "code",
   "execution_count": 1,
   "metadata": {},
   "outputs": [
    {
     "data": {
      "text/plain": [
       "'4.1.0'"
      ]
     },
     "execution_count": 1,
     "metadata": {},
     "output_type": "execute_result"
    }
   ],
   "source": [
    "import plotly\n",
    "plotly.__version__"
   ]
  },
  {
   "cell_type": "code",
   "execution_count": 15,
   "metadata": {},
   "outputs": [],
   "source": [
    "import plotly.express as ex\n",
    "import plotly.graph_objs as go\n",
    "import pandas as pd\n",
    "import numpy as np           \n",
    "from scipy.io import netcdf  \n",
    "from mpl_toolkits.basemap import Basemap"
   ]
  },
  {
   "cell_type": "markdown",
   "metadata": {},
   "source": [
    "# Description of the Data and Analysis"
   ]
  },
  {
   "cell_type": "markdown",
   "metadata": {},
   "source": [
    "\"Temperature Anomaly\" is the difference between the long-term average temperature  and the temperature that is actually occurring. In other words, the long-term average temperature is one that would be expected; the anomaly is the difference between what you would expect and what is happening.\n",
    "\n",
    "A positive anomaly means that the temperature was warmer than normal; a negative anomaly indicates that the temperature was cooler than normal. Actual temperature measurements are often difficult to gather. Some areas in the world have few temperature measurement stations, and temperatures must be estimated over large regions. Using anomalies allows more accurate descriptions over larger areas than actual temperatures and provides a frame of reference that allows easier analysis. \n",
    "\n"
   ]
  },
  {
   "cell_type": "markdown",
   "metadata": {},
   "source": [
    "# Importing CSV Dataset"
   ]
  },
  {
   "cell_type": "code",
   "execution_count": 16,
   "metadata": {},
   "outputs": [
    {
     "data": {
      "text/html": [
       "<div>\n",
       "<style scoped>\n",
       "    .dataframe tbody tr th:only-of-type {\n",
       "        vertical-align: middle;\n",
       "    }\n",
       "\n",
       "    .dataframe tbody tr th {\n",
       "        vertical-align: top;\n",
       "    }\n",
       "\n",
       "    .dataframe thead th {\n",
       "        text-align: right;\n",
       "    }\n",
       "</style>\n",
       "<table border=\"1\" class=\"dataframe\">\n",
       "  <thead>\n",
       "    <tr style=\"text-align: right;\">\n",
       "      <th></th>\n",
       "      <th>Source</th>\n",
       "      <th>Year</th>\n",
       "      <th>Mean</th>\n",
       "    </tr>\n",
       "  </thead>\n",
       "  <tbody>\n",
       "    <tr>\n",
       "      <th>0</th>\n",
       "      <td>GCAG</td>\n",
       "      <td>2016</td>\n",
       "      <td>0.9363</td>\n",
       "    </tr>\n",
       "    <tr>\n",
       "      <th>1</th>\n",
       "      <td>GISTEMP</td>\n",
       "      <td>2016</td>\n",
       "      <td>0.9900</td>\n",
       "    </tr>\n",
       "    <tr>\n",
       "      <th>2</th>\n",
       "      <td>GCAG</td>\n",
       "      <td>2015</td>\n",
       "      <td>0.8998</td>\n",
       "    </tr>\n",
       "    <tr>\n",
       "      <th>3</th>\n",
       "      <td>GISTEMP</td>\n",
       "      <td>2015</td>\n",
       "      <td>0.8700</td>\n",
       "    </tr>\n",
       "    <tr>\n",
       "      <th>4</th>\n",
       "      <td>GCAG</td>\n",
       "      <td>2014</td>\n",
       "      <td>0.7408</td>\n",
       "    </tr>\n",
       "  </tbody>\n",
       "</table>\n",
       "</div>"
      ],
      "text/plain": [
       "    Source  Year    Mean\n",
       "0     GCAG  2016  0.9363\n",
       "1  GISTEMP  2016  0.9900\n",
       "2     GCAG  2015  0.8998\n",
       "3  GISTEMP  2015  0.8700\n",
       "4     GCAG  2014  0.7408"
      ]
     },
     "execution_count": 16,
     "metadata": {},
     "output_type": "execute_result"
    }
   ],
   "source": [
    "# Dataset available at: https://datahub.io/core/global-temp#readme\n",
    "df = pd.read_csv(\"annual_csv.csv\")\n",
    "df.head()"
   ]
  },
  {
   "cell_type": "markdown",
   "metadata": {},
   "source": [
    "NOAA National Climatic Data Center (NCDC)'s \n",
    "Global component of Climate at a Glance (GCAG):\n",
    "\n",
    "Global temperature anomaly data come from the Global Historical Climatology Network-Monthly (GHCN-M) data set and International Comprehensive Ocean-Atmosphere Data Set (ICOADS), which have data from 1880 to the present. These two datasets are blended into a single product to produce the combined global land and ocean temperature anomalies. The available timeseries of global-scale temperature anomalies are calculated with respect to the 20th century average.\n",
    "\n",
    "Average global mean temperature anomalies in degrees Celsius relative to a base period. GISTEMP base period: 1951-1980. GCAG base period: 20th century average. The term temperature anomaly means a departure from a reference value or long-term average. A positive anomaly indicates that the observed temperature was warmer than the reference value, while a negative anomaly indicates that the observed temperature was cooler than the reference value."
   ]
  },
  {
   "cell_type": "markdown",
   "metadata": {},
   "source": [
    "# Testing the Plotly's basic plot"
   ]
  },
  {
   "cell_type": "code",
   "execution_count": 17,
   "metadata": {},
   "outputs": [
    {
     "data": {
      "application/vnd.plotly.v1+json": {
       "config": {
        "plotlyServerURL": "https://plot.ly"
       },
       "data": [
        {
         "hoverlabel": {
          "namelength": 0
         },
         "hovertemplate": "Year=%{x}<br>Mean=%{y}",
         "legendgroup": "",
         "line": {
          "color": "#636efa",
          "dash": "solid"
         },
         "mode": "lines",
         "name": "",
         "showlegend": false,
         "type": "scatter",
         "x": [
          2016,
          2016,
          2015,
          2015,
          2014,
          2014,
          2013,
          2013,
          2012,
          2012,
          2011,
          2011,
          2010,
          2010,
          2009,
          2009,
          2008,
          2008,
          2007,
          2007,
          2006,
          2006,
          2005,
          2005,
          2004,
          2004,
          2003,
          2003,
          2002,
          2002,
          2001,
          2001,
          2000,
          2000,
          1999,
          1999,
          1998,
          1998,
          1997,
          1997,
          1996,
          1996,
          1995,
          1995,
          1994,
          1994,
          1993,
          1993,
          1992,
          1992,
          1991,
          1991,
          1990,
          1990,
          1989,
          1989,
          1988,
          1988,
          1987,
          1987,
          1986,
          1986,
          1985,
          1985,
          1984,
          1984,
          1983,
          1983,
          1982,
          1982,
          1981,
          1981,
          1980,
          1980,
          1979,
          1979,
          1978,
          1978,
          1977,
          1977,
          1976,
          1976,
          1975,
          1975,
          1974,
          1974,
          1973,
          1973,
          1972,
          1972,
          1971,
          1971,
          1970,
          1970,
          1969,
          1969,
          1968,
          1968,
          1967,
          1967,
          1966,
          1966,
          1965,
          1965,
          1964,
          1964,
          1963,
          1963,
          1962,
          1962,
          1961,
          1961,
          1960,
          1960,
          1959,
          1959,
          1958,
          1958,
          1957,
          1957,
          1956,
          1956,
          1955,
          1955,
          1954,
          1954,
          1953,
          1953,
          1952,
          1952,
          1951,
          1951,
          1950,
          1950,
          1949,
          1949,
          1948,
          1948,
          1947,
          1947,
          1946,
          1946,
          1945,
          1945,
          1944,
          1944,
          1943,
          1943,
          1942,
          1942,
          1941,
          1941,
          1940,
          1940,
          1939,
          1939,
          1938,
          1938,
          1937,
          1937,
          1936,
          1936,
          1935,
          1935,
          1934,
          1934,
          1933,
          1933,
          1932,
          1932,
          1931,
          1931,
          1930,
          1930,
          1929,
          1929,
          1928,
          1928,
          1927,
          1927,
          1926,
          1926,
          1925,
          1925,
          1924,
          1924,
          1923,
          1923,
          1922,
          1922,
          1921,
          1921,
          1920,
          1920,
          1919,
          1919,
          1918,
          1918,
          1917,
          1917,
          1916,
          1916,
          1915,
          1915,
          1914,
          1914,
          1913,
          1913,
          1912,
          1912,
          1911,
          1911,
          1910,
          1910,
          1909,
          1909,
          1908,
          1908,
          1907,
          1907,
          1906,
          1906,
          1905,
          1905,
          1904,
          1904,
          1903,
          1903,
          1902,
          1902,
          1901,
          1901,
          1900,
          1900,
          1899,
          1899,
          1898,
          1898,
          1897,
          1897,
          1896,
          1896,
          1895,
          1895,
          1894,
          1894,
          1893,
          1893,
          1892,
          1892,
          1891,
          1891,
          1890,
          1890,
          1889,
          1889,
          1888,
          1888,
          1887,
          1887,
          1886,
          1886,
          1885,
          1885,
          1884,
          1884,
          1883,
          1883,
          1882,
          1882,
          1881,
          1881,
          1880,
          1880
         ],
         "xaxis": "x",
         "y": [
          0.9363,
          0.99,
          0.8998,
          0.87,
          0.7408,
          0.74,
          0.6679,
          0.65,
          0.624,
          0.63,
          0.5788,
          0.6,
          0.7014,
          0.71,
          0.6367,
          0.64,
          0.5419,
          0.54,
          0.61,
          0.66,
          0.6125,
          0.63,
          0.6585,
          0.69,
          0.5783,
          0.55,
          0.6134,
          0.62,
          0.6023,
          0.63,
          0.5473,
          0.55,
          0.4262,
          0.42,
          0.4438,
          0.42,
          0.6344,
          0.64,
          0.5187,
          0.48,
          0.3228,
          0.35,
          0.4577,
          0.46,
          0.3409,
          0.32,
          0.2853,
          0.24,
          0.2571,
          0.23,
          0.4055,
          0.43,
          0.4328,
          0.44,
          0.297,
          0.29,
          0.3757,
          0.41,
          0.3696,
          0.33,
          0.2296,
          0.19,
          0.1342,
          0.12,
          0.149,
          0.15,
          0.3411,
          0.3,
          0.1815,
          0.13,
          0.2999,
          0.33,
          0.2637,
          0.27,
          0.2273,
          0.17,
          0.1123,
          0.07,
          0.1978,
          0.18,
          -0.0792,
          -0.11,
          0.0034,
          -0.02,
          -0.0719,
          -0.07,
          0.1641,
          0.15,
          0.0264,
          0.01,
          -0.0783,
          -0.09,
          0.0372,
          0.02,
          0.0929,
          0.07,
          -0.0296,
          -0.07,
          -0.0131,
          -0.02,
          -0.0227,
          -0.05,
          -0.078,
          -0.1,
          -0.1495,
          -0.2,
          0.1068,
          0.06,
          0.0888,
          0.03,
          0.0775,
          0.05,
          0.0204,
          -0.02,
          0.0596,
          0.03,
          0.1095,
          0.07,
          0.0488,
          0.04,
          -0.199,
          -0.2,
          -0.1354,
          -0.15,
          -0.1165,
          -0.13,
          0.0952,
          0.08,
          0.0248,
          0.01,
          -0.0132,
          -0.07,
          -0.1616,
          -0.18,
          -0.0568,
          -0.09,
          -0.0487,
          -0.09,
          -0.0477,
          -0.05,
          -0.004,
          -0.04,
          0.171,
          0.12,
          0.2928,
          0.25,
          0.157,
          0.13,
          0.1538,
          0.09,
          0.196,
          0.12,
          0.0947,
          0.08,
          -0.0139,
          -0.03,
          -0.0288,
          -0.03,
          -0.0157,
          -0.03,
          -0.1134,
          -0.15,
          -0.1392,
          -0.2,
          -0.1015,
          -0.14,
          -0.2439,
          -0.29,
          -0.1168,
          -0.17,
          -0.0686,
          -0.09,
          -0.1003,
          -0.15,
          -0.2985,
          -0.36,
          -0.1774,
          -0.21,
          -0.1546,
          -0.21,
          -0.0667,
          -0.1,
          -0.1481,
          -0.21,
          -0.2486,
          -0.28,
          -0.2156,
          -0.24,
          -0.2304,
          -0.28,
          -0.1485,
          -0.21,
          -0.2105,
          -0.27,
          -0.2055,
          -0.22,
          -0.2084,
          -0.26,
          -0.3146,
          -0.4,
          -0.293,
          -0.34,
          -0.0693,
          -0.11,
          -0.1395,
          -0.16,
          -0.3162,
          -0.34,
          -0.3288,
          -0.35,
          -0.4332,
          -0.44,
          -0.3789,
          -0.42,
          -0.4261,
          -0.47,
          -0.4396,
          -0.43,
          -0.3706,
          -0.4,
          -0.2174,
          -0.23,
          -0.2931,
          -0.28,
          -0.4194,
          -0.44,
          -0.3369,
          -0.35,
          -0.2463,
          -0.27,
          -0.1417,
          -0.15,
          -0.0679,
          -0.09,
          -0.1173,
          -0.16,
          -0.2546,
          -0.28,
          -0.1224,
          -0.11,
          -0.0974,
          -0.15,
          -0.229,
          -0.21,
          -0.2808,
          -0.31,
          -0.3212,
          -0.3,
          -0.3062,
          -0.27,
          -0.2532,
          -0.24,
          -0.322,
          -0.37,
          -0.0982,
          -0.12,
          -0.1471,
          -0.2,
          -0.2489,
          -0.33,
          -0.2003,
          -0.31,
          -0.2125,
          -0.32,
          -0.2009,
          -0.28,
          -0.1424,
          -0.21,
          -0.0648,
          -0.1,
          -0.0628,
          -0.12,
          -0.1148,
          -0.2
         ],
         "yaxis": "y"
        }
       ],
       "layout": {
        "height": 600,
        "legend": {
         "tracegroupgap": 0
        },
        "margin": {
         "t": 60
        },
        "template": {
         "data": {
          "bar": [
           {
            "error_x": {
             "color": "#2a3f5f"
            },
            "error_y": {
             "color": "#2a3f5f"
            },
            "marker": {
             "line": {
              "color": "#E5ECF6",
              "width": 0.5
             }
            },
            "type": "bar"
           }
          ],
          "barpolar": [
           {
            "marker": {
             "line": {
              "color": "#E5ECF6",
              "width": 0.5
             }
            },
            "type": "barpolar"
           }
          ],
          "carpet": [
           {
            "aaxis": {
             "endlinecolor": "#2a3f5f",
             "gridcolor": "white",
             "linecolor": "white",
             "minorgridcolor": "white",
             "startlinecolor": "#2a3f5f"
            },
            "baxis": {
             "endlinecolor": "#2a3f5f",
             "gridcolor": "white",
             "linecolor": "white",
             "minorgridcolor": "white",
             "startlinecolor": "#2a3f5f"
            },
            "type": "carpet"
           }
          ],
          "choropleth": [
           {
            "colorbar": {
             "outlinewidth": 0,
             "ticks": ""
            },
            "type": "choropleth"
           }
          ],
          "contour": [
           {
            "colorbar": {
             "outlinewidth": 0,
             "ticks": ""
            },
            "colorscale": [
             [
              0,
              "#0d0887"
             ],
             [
              0.1111111111111111,
              "#46039f"
             ],
             [
              0.2222222222222222,
              "#7201a8"
             ],
             [
              0.3333333333333333,
              "#9c179e"
             ],
             [
              0.4444444444444444,
              "#bd3786"
             ],
             [
              0.5555555555555556,
              "#d8576b"
             ],
             [
              0.6666666666666666,
              "#ed7953"
             ],
             [
              0.7777777777777778,
              "#fb9f3a"
             ],
             [
              0.8888888888888888,
              "#fdca26"
             ],
             [
              1,
              "#f0f921"
             ]
            ],
            "type": "contour"
           }
          ],
          "contourcarpet": [
           {
            "colorbar": {
             "outlinewidth": 0,
             "ticks": ""
            },
            "type": "contourcarpet"
           }
          ],
          "heatmap": [
           {
            "colorbar": {
             "outlinewidth": 0,
             "ticks": ""
            },
            "colorscale": [
             [
              0,
              "#0d0887"
             ],
             [
              0.1111111111111111,
              "#46039f"
             ],
             [
              0.2222222222222222,
              "#7201a8"
             ],
             [
              0.3333333333333333,
              "#9c179e"
             ],
             [
              0.4444444444444444,
              "#bd3786"
             ],
             [
              0.5555555555555556,
              "#d8576b"
             ],
             [
              0.6666666666666666,
              "#ed7953"
             ],
             [
              0.7777777777777778,
              "#fb9f3a"
             ],
             [
              0.8888888888888888,
              "#fdca26"
             ],
             [
              1,
              "#f0f921"
             ]
            ],
            "type": "heatmap"
           }
          ],
          "heatmapgl": [
           {
            "colorbar": {
             "outlinewidth": 0,
             "ticks": ""
            },
            "colorscale": [
             [
              0,
              "#0d0887"
             ],
             [
              0.1111111111111111,
              "#46039f"
             ],
             [
              0.2222222222222222,
              "#7201a8"
             ],
             [
              0.3333333333333333,
              "#9c179e"
             ],
             [
              0.4444444444444444,
              "#bd3786"
             ],
             [
              0.5555555555555556,
              "#d8576b"
             ],
             [
              0.6666666666666666,
              "#ed7953"
             ],
             [
              0.7777777777777778,
              "#fb9f3a"
             ],
             [
              0.8888888888888888,
              "#fdca26"
             ],
             [
              1,
              "#f0f921"
             ]
            ],
            "type": "heatmapgl"
           }
          ],
          "histogram": [
           {
            "marker": {
             "colorbar": {
              "outlinewidth": 0,
              "ticks": ""
             }
            },
            "type": "histogram"
           }
          ],
          "histogram2d": [
           {
            "colorbar": {
             "outlinewidth": 0,
             "ticks": ""
            },
            "colorscale": [
             [
              0,
              "#0d0887"
             ],
             [
              0.1111111111111111,
              "#46039f"
             ],
             [
              0.2222222222222222,
              "#7201a8"
             ],
             [
              0.3333333333333333,
              "#9c179e"
             ],
             [
              0.4444444444444444,
              "#bd3786"
             ],
             [
              0.5555555555555556,
              "#d8576b"
             ],
             [
              0.6666666666666666,
              "#ed7953"
             ],
             [
              0.7777777777777778,
              "#fb9f3a"
             ],
             [
              0.8888888888888888,
              "#fdca26"
             ],
             [
              1,
              "#f0f921"
             ]
            ],
            "type": "histogram2d"
           }
          ],
          "histogram2dcontour": [
           {
            "colorbar": {
             "outlinewidth": 0,
             "ticks": ""
            },
            "colorscale": [
             [
              0,
              "#0d0887"
             ],
             [
              0.1111111111111111,
              "#46039f"
             ],
             [
              0.2222222222222222,
              "#7201a8"
             ],
             [
              0.3333333333333333,
              "#9c179e"
             ],
             [
              0.4444444444444444,
              "#bd3786"
             ],
             [
              0.5555555555555556,
              "#d8576b"
             ],
             [
              0.6666666666666666,
              "#ed7953"
             ],
             [
              0.7777777777777778,
              "#fb9f3a"
             ],
             [
              0.8888888888888888,
              "#fdca26"
             ],
             [
              1,
              "#f0f921"
             ]
            ],
            "type": "histogram2dcontour"
           }
          ],
          "mesh3d": [
           {
            "colorbar": {
             "outlinewidth": 0,
             "ticks": ""
            },
            "type": "mesh3d"
           }
          ],
          "parcoords": [
           {
            "line": {
             "colorbar": {
              "outlinewidth": 0,
              "ticks": ""
             }
            },
            "type": "parcoords"
           }
          ],
          "scatter": [
           {
            "marker": {
             "colorbar": {
              "outlinewidth": 0,
              "ticks": ""
             }
            },
            "type": "scatter"
           }
          ],
          "scatter3d": [
           {
            "line": {
             "colorbar": {
              "outlinewidth": 0,
              "ticks": ""
             }
            },
            "marker": {
             "colorbar": {
              "outlinewidth": 0,
              "ticks": ""
             }
            },
            "type": "scatter3d"
           }
          ],
          "scattercarpet": [
           {
            "marker": {
             "colorbar": {
              "outlinewidth": 0,
              "ticks": ""
             }
            },
            "type": "scattercarpet"
           }
          ],
          "scattergeo": [
           {
            "marker": {
             "colorbar": {
              "outlinewidth": 0,
              "ticks": ""
             }
            },
            "type": "scattergeo"
           }
          ],
          "scattergl": [
           {
            "marker": {
             "colorbar": {
              "outlinewidth": 0,
              "ticks": ""
             }
            },
            "type": "scattergl"
           }
          ],
          "scattermapbox": [
           {
            "marker": {
             "colorbar": {
              "outlinewidth": 0,
              "ticks": ""
             }
            },
            "type": "scattermapbox"
           }
          ],
          "scatterpolar": [
           {
            "marker": {
             "colorbar": {
              "outlinewidth": 0,
              "ticks": ""
             }
            },
            "type": "scatterpolar"
           }
          ],
          "scatterpolargl": [
           {
            "marker": {
             "colorbar": {
              "outlinewidth": 0,
              "ticks": ""
             }
            },
            "type": "scatterpolargl"
           }
          ],
          "scatterternary": [
           {
            "marker": {
             "colorbar": {
              "outlinewidth": 0,
              "ticks": ""
             }
            },
            "type": "scatterternary"
           }
          ],
          "surface": [
           {
            "colorbar": {
             "outlinewidth": 0,
             "ticks": ""
            },
            "colorscale": [
             [
              0,
              "#0d0887"
             ],
             [
              0.1111111111111111,
              "#46039f"
             ],
             [
              0.2222222222222222,
              "#7201a8"
             ],
             [
              0.3333333333333333,
              "#9c179e"
             ],
             [
              0.4444444444444444,
              "#bd3786"
             ],
             [
              0.5555555555555556,
              "#d8576b"
             ],
             [
              0.6666666666666666,
              "#ed7953"
             ],
             [
              0.7777777777777778,
              "#fb9f3a"
             ],
             [
              0.8888888888888888,
              "#fdca26"
             ],
             [
              1,
              "#f0f921"
             ]
            ],
            "type": "surface"
           }
          ],
          "table": [
           {
            "cells": {
             "fill": {
              "color": "#EBF0F8"
             },
             "line": {
              "color": "white"
             }
            },
            "header": {
             "fill": {
              "color": "#C8D4E3"
             },
             "line": {
              "color": "white"
             }
            },
            "type": "table"
           }
          ]
         },
         "layout": {
          "annotationdefaults": {
           "arrowcolor": "#2a3f5f",
           "arrowhead": 0,
           "arrowwidth": 1
          },
          "colorscale": {
           "diverging": [
            [
             0,
             "#8e0152"
            ],
            [
             0.1,
             "#c51b7d"
            ],
            [
             0.2,
             "#de77ae"
            ],
            [
             0.3,
             "#f1b6da"
            ],
            [
             0.4,
             "#fde0ef"
            ],
            [
             0.5,
             "#f7f7f7"
            ],
            [
             0.6,
             "#e6f5d0"
            ],
            [
             0.7,
             "#b8e186"
            ],
            [
             0.8,
             "#7fbc41"
            ],
            [
             0.9,
             "#4d9221"
            ],
            [
             1,
             "#276419"
            ]
           ],
           "sequential": [
            [
             0,
             "#0d0887"
            ],
            [
             0.1111111111111111,
             "#46039f"
            ],
            [
             0.2222222222222222,
             "#7201a8"
            ],
            [
             0.3333333333333333,
             "#9c179e"
            ],
            [
             0.4444444444444444,
             "#bd3786"
            ],
            [
             0.5555555555555556,
             "#d8576b"
            ],
            [
             0.6666666666666666,
             "#ed7953"
            ],
            [
             0.7777777777777778,
             "#fb9f3a"
            ],
            [
             0.8888888888888888,
             "#fdca26"
            ],
            [
             1,
             "#f0f921"
            ]
           ],
           "sequentialminus": [
            [
             0,
             "#0d0887"
            ],
            [
             0.1111111111111111,
             "#46039f"
            ],
            [
             0.2222222222222222,
             "#7201a8"
            ],
            [
             0.3333333333333333,
             "#9c179e"
            ],
            [
             0.4444444444444444,
             "#bd3786"
            ],
            [
             0.5555555555555556,
             "#d8576b"
            ],
            [
             0.6666666666666666,
             "#ed7953"
            ],
            [
             0.7777777777777778,
             "#fb9f3a"
            ],
            [
             0.8888888888888888,
             "#fdca26"
            ],
            [
             1,
             "#f0f921"
            ]
           ]
          },
          "colorway": [
           "#636efa",
           "#EF553B",
           "#00cc96",
           "#ab63fa",
           "#FFA15A",
           "#19d3f3",
           "#FF6692",
           "#B6E880",
           "#FF97FF",
           "#FECB52"
          ],
          "font": {
           "color": "#2a3f5f"
          },
          "geo": {
           "bgcolor": "white",
           "lakecolor": "white",
           "landcolor": "#E5ECF6",
           "showlakes": true,
           "showland": true,
           "subunitcolor": "white"
          },
          "hoverlabel": {
           "align": "left"
          },
          "hovermode": "closest",
          "mapbox": {
           "style": "light"
          },
          "paper_bgcolor": "white",
          "plot_bgcolor": "#E5ECF6",
          "polar": {
           "angularaxis": {
            "gridcolor": "white",
            "linecolor": "white",
            "ticks": ""
           },
           "bgcolor": "#E5ECF6",
           "radialaxis": {
            "gridcolor": "white",
            "linecolor": "white",
            "ticks": ""
           }
          },
          "scene": {
           "xaxis": {
            "backgroundcolor": "#E5ECF6",
            "gridcolor": "white",
            "gridwidth": 2,
            "linecolor": "white",
            "showbackground": true,
            "ticks": "",
            "zerolinecolor": "white"
           },
           "yaxis": {
            "backgroundcolor": "#E5ECF6",
            "gridcolor": "white",
            "gridwidth": 2,
            "linecolor": "white",
            "showbackground": true,
            "ticks": "",
            "zerolinecolor": "white"
           },
           "zaxis": {
            "backgroundcolor": "#E5ECF6",
            "gridcolor": "white",
            "gridwidth": 2,
            "linecolor": "white",
            "showbackground": true,
            "ticks": "",
            "zerolinecolor": "white"
           }
          },
          "shapedefaults": {
           "line": {
            "color": "#2a3f5f"
           }
          },
          "ternary": {
           "aaxis": {
            "gridcolor": "white",
            "linecolor": "white",
            "ticks": ""
           },
           "baxis": {
            "gridcolor": "white",
            "linecolor": "white",
            "ticks": ""
           },
           "bgcolor": "#E5ECF6",
           "caxis": {
            "gridcolor": "white",
            "linecolor": "white",
            "ticks": ""
           }
          },
          "title": {
           "x": 0.05
          },
          "xaxis": {
           "automargin": true,
           "gridcolor": "white",
           "linecolor": "white",
           "ticks": "",
           "zerolinecolor": "white",
           "zerolinewidth": 2
          },
          "yaxis": {
           "automargin": true,
           "gridcolor": "white",
           "linecolor": "white",
           "ticks": "",
           "zerolinecolor": "white",
           "zerolinewidth": 2
          }
         }
        },
        "xaxis": {
         "anchor": "y",
         "domain": [
          0,
          0.98
         ],
         "title": {
          "text": "Year"
         }
        },
        "yaxis": {
         "anchor": "x",
         "domain": [
          0,
          1
         ],
         "title": {
          "text": "Mean"
         }
        }
       }
      },
      "text/html": [
       "<div>\n",
       "        \n",
       "        \n",
       "            <div id=\"8fe3277b-667a-40f1-8a74-11fe57489585\" class=\"plotly-graph-div\" style=\"height:600px; width:100%;\"></div>\n",
       "            <script type=\"text/javascript\">\n",
       "                require([\"plotly\"], function(Plotly) {\n",
       "                    window.PLOTLYENV=window.PLOTLYENV || {};\n",
       "                    \n",
       "                if (document.getElementById(\"8fe3277b-667a-40f1-8a74-11fe57489585\")) {\n",
       "                    Plotly.newPlot(\n",
       "                        '8fe3277b-667a-40f1-8a74-11fe57489585',\n",
       "                        [{\"hoverlabel\": {\"namelength\": 0}, \"hovertemplate\": \"Year=%{x}<br>Mean=%{y}\", \"legendgroup\": \"\", \"line\": {\"color\": \"#636efa\", \"dash\": \"solid\"}, \"mode\": \"lines\", \"name\": \"\", \"showlegend\": false, \"type\": \"scatter\", \"x\": [2016, 2016, 2015, 2015, 2014, 2014, 2013, 2013, 2012, 2012, 2011, 2011, 2010, 2010, 2009, 2009, 2008, 2008, 2007, 2007, 2006, 2006, 2005, 2005, 2004, 2004, 2003, 2003, 2002, 2002, 2001, 2001, 2000, 2000, 1999, 1999, 1998, 1998, 1997, 1997, 1996, 1996, 1995, 1995, 1994, 1994, 1993, 1993, 1992, 1992, 1991, 1991, 1990, 1990, 1989, 1989, 1988, 1988, 1987, 1987, 1986, 1986, 1985, 1985, 1984, 1984, 1983, 1983, 1982, 1982, 1981, 1981, 1980, 1980, 1979, 1979, 1978, 1978, 1977, 1977, 1976, 1976, 1975, 1975, 1974, 1974, 1973, 1973, 1972, 1972, 1971, 1971, 1970, 1970, 1969, 1969, 1968, 1968, 1967, 1967, 1966, 1966, 1965, 1965, 1964, 1964, 1963, 1963, 1962, 1962, 1961, 1961, 1960, 1960, 1959, 1959, 1958, 1958, 1957, 1957, 1956, 1956, 1955, 1955, 1954, 1954, 1953, 1953, 1952, 1952, 1951, 1951, 1950, 1950, 1949, 1949, 1948, 1948, 1947, 1947, 1946, 1946, 1945, 1945, 1944, 1944, 1943, 1943, 1942, 1942, 1941, 1941, 1940, 1940, 1939, 1939, 1938, 1938, 1937, 1937, 1936, 1936, 1935, 1935, 1934, 1934, 1933, 1933, 1932, 1932, 1931, 1931, 1930, 1930, 1929, 1929, 1928, 1928, 1927, 1927, 1926, 1926, 1925, 1925, 1924, 1924, 1923, 1923, 1922, 1922, 1921, 1921, 1920, 1920, 1919, 1919, 1918, 1918, 1917, 1917, 1916, 1916, 1915, 1915, 1914, 1914, 1913, 1913, 1912, 1912, 1911, 1911, 1910, 1910, 1909, 1909, 1908, 1908, 1907, 1907, 1906, 1906, 1905, 1905, 1904, 1904, 1903, 1903, 1902, 1902, 1901, 1901, 1900, 1900, 1899, 1899, 1898, 1898, 1897, 1897, 1896, 1896, 1895, 1895, 1894, 1894, 1893, 1893, 1892, 1892, 1891, 1891, 1890, 1890, 1889, 1889, 1888, 1888, 1887, 1887, 1886, 1886, 1885, 1885, 1884, 1884, 1883, 1883, 1882, 1882, 1881, 1881, 1880, 1880], \"xaxis\": \"x\", \"y\": [0.9363, 0.99, 0.8998, 0.87, 0.7408, 0.74, 0.6679, 0.65, 0.624, 0.63, 0.5788, 0.6, 0.7014, 0.71, 0.6367, 0.64, 0.5419, 0.54, 0.61, 0.66, 0.6125, 0.63, 0.6585, 0.69, 0.5783, 0.55, 0.6134, 0.62, 0.6023, 0.63, 0.5473, 0.55, 0.4262, 0.42, 0.4438, 0.42, 0.6344, 0.64, 0.5187, 0.48, 0.3228, 0.35, 0.4577, 0.46, 0.3409, 0.32, 0.2853, 0.24, 0.2571, 0.23, 0.4055, 0.43, 0.4328, 0.44, 0.297, 0.29, 0.3757, 0.41, 0.3696, 0.33, 0.2296, 0.19, 0.1342, 0.12, 0.149, 0.15, 0.3411, 0.3, 0.1815, 0.13, 0.2999, 0.33, 0.2637, 0.27, 0.2273, 0.17, 0.1123, 0.07, 0.1978, 0.18, -0.0792, -0.11, 0.0034, -0.02, -0.0719, -0.07, 0.1641, 0.15, 0.0264, 0.01, -0.0783, -0.09, 0.0372, 0.02, 0.0929, 0.07, -0.0296, -0.07, -0.0131, -0.02, -0.0227, -0.05, -0.078, -0.1, -0.1495, -0.2, 0.1068, 0.06, 0.0888, 0.03, 0.0775, 0.05, 0.0204, -0.02, 0.0596, 0.03, 0.1095, 0.07, 0.0488, 0.04, -0.199, -0.2, -0.1354, -0.15, -0.1165, -0.13, 0.0952, 0.08, 0.0248, 0.01, -0.0132, -0.07, -0.1616, -0.18, -0.0568, -0.09, -0.0487, -0.09, -0.0477, -0.05, -0.004, -0.04, 0.171, 0.12, 0.2928, 0.25, 0.157, 0.13, 0.1538, 0.09, 0.196, 0.12, 0.0947, 0.08, -0.0139, -0.03, -0.0288, -0.03, -0.0157, -0.03, -0.1134, -0.15, -0.1392, -0.2, -0.1015, -0.14, -0.2439, -0.29, -0.1168, -0.17, -0.0686, -0.09, -0.1003, -0.15, -0.2985, -0.36, -0.1774, -0.21, -0.1546, -0.21, -0.0667, -0.1, -0.1481, -0.21, -0.2486, -0.28, -0.2156, -0.24, -0.2304, -0.28, -0.1485, -0.21, -0.2105, -0.27, -0.2055, -0.22, -0.2084, -0.26, -0.3146, -0.4, -0.293, -0.34, -0.0693, -0.11, -0.1395, -0.16, -0.3162, -0.34, -0.3288, -0.35, -0.4332, -0.44, -0.3789, -0.42, -0.4261, -0.47, -0.4396, -0.43, -0.3706, -0.4, -0.2174, -0.23, -0.2931, -0.28, -0.4194, -0.44, -0.3369, -0.35, -0.2463, -0.27, -0.1417, -0.15, -0.0679, -0.09, -0.1173, -0.16, -0.2546, -0.28, -0.1224, -0.11, -0.0974, -0.15, -0.229, -0.21, -0.2808, -0.31, -0.3212, -0.3, -0.3062, -0.27, -0.2532, -0.24, -0.322, -0.37, -0.0982, -0.12, -0.1471, -0.2, -0.2489, -0.33, -0.2003, -0.31, -0.2125, -0.32, -0.2009, -0.28, -0.1424, -0.21, -0.0648, -0.1, -0.0628, -0.12, -0.1148, -0.2], \"yaxis\": \"y\"}],\n",
       "                        {\"height\": 600, \"legend\": {\"tracegroupgap\": 0}, \"margin\": {\"t\": 60}, \"template\": {\"data\": {\"bar\": [{\"error_x\": {\"color\": \"#2a3f5f\"}, \"error_y\": {\"color\": \"#2a3f5f\"}, \"marker\": {\"line\": {\"color\": \"#E5ECF6\", \"width\": 0.5}}, \"type\": \"bar\"}], \"barpolar\": [{\"marker\": {\"line\": {\"color\": \"#E5ECF6\", \"width\": 0.5}}, \"type\": \"barpolar\"}], \"carpet\": [{\"aaxis\": {\"endlinecolor\": \"#2a3f5f\", \"gridcolor\": \"white\", \"linecolor\": \"white\", \"minorgridcolor\": \"white\", \"startlinecolor\": \"#2a3f5f\"}, \"baxis\": {\"endlinecolor\": \"#2a3f5f\", \"gridcolor\": \"white\", \"linecolor\": \"white\", \"minorgridcolor\": \"white\", \"startlinecolor\": \"#2a3f5f\"}, \"type\": \"carpet\"}], \"choropleth\": [{\"colorbar\": {\"outlinewidth\": 0, \"ticks\": \"\"}, \"type\": \"choropleth\"}], \"contour\": [{\"colorbar\": {\"outlinewidth\": 0, \"ticks\": \"\"}, \"colorscale\": [[0.0, \"#0d0887\"], [0.1111111111111111, \"#46039f\"], [0.2222222222222222, \"#7201a8\"], [0.3333333333333333, \"#9c179e\"], [0.4444444444444444, \"#bd3786\"], [0.5555555555555556, \"#d8576b\"], [0.6666666666666666, \"#ed7953\"], [0.7777777777777778, \"#fb9f3a\"], [0.8888888888888888, \"#fdca26\"], [1.0, \"#f0f921\"]], \"type\": \"contour\"}], \"contourcarpet\": [{\"colorbar\": {\"outlinewidth\": 0, \"ticks\": \"\"}, \"type\": \"contourcarpet\"}], \"heatmap\": [{\"colorbar\": {\"outlinewidth\": 0, \"ticks\": \"\"}, \"colorscale\": [[0.0, \"#0d0887\"], [0.1111111111111111, \"#46039f\"], [0.2222222222222222, \"#7201a8\"], [0.3333333333333333, \"#9c179e\"], [0.4444444444444444, \"#bd3786\"], [0.5555555555555556, \"#d8576b\"], [0.6666666666666666, \"#ed7953\"], [0.7777777777777778, \"#fb9f3a\"], [0.8888888888888888, \"#fdca26\"], [1.0, \"#f0f921\"]], \"type\": \"heatmap\"}], \"heatmapgl\": [{\"colorbar\": {\"outlinewidth\": 0, \"ticks\": \"\"}, \"colorscale\": [[0.0, \"#0d0887\"], [0.1111111111111111, \"#46039f\"], [0.2222222222222222, \"#7201a8\"], [0.3333333333333333, \"#9c179e\"], [0.4444444444444444, \"#bd3786\"], [0.5555555555555556, \"#d8576b\"], [0.6666666666666666, \"#ed7953\"], [0.7777777777777778, \"#fb9f3a\"], [0.8888888888888888, \"#fdca26\"], [1.0, \"#f0f921\"]], \"type\": \"heatmapgl\"}], \"histogram\": [{\"marker\": {\"colorbar\": {\"outlinewidth\": 0, \"ticks\": \"\"}}, \"type\": \"histogram\"}], \"histogram2d\": [{\"colorbar\": {\"outlinewidth\": 0, \"ticks\": \"\"}, \"colorscale\": [[0.0, \"#0d0887\"], [0.1111111111111111, \"#46039f\"], [0.2222222222222222, \"#7201a8\"], [0.3333333333333333, \"#9c179e\"], [0.4444444444444444, \"#bd3786\"], [0.5555555555555556, \"#d8576b\"], [0.6666666666666666, \"#ed7953\"], [0.7777777777777778, \"#fb9f3a\"], [0.8888888888888888, \"#fdca26\"], [1.0, \"#f0f921\"]], \"type\": \"histogram2d\"}], \"histogram2dcontour\": [{\"colorbar\": {\"outlinewidth\": 0, \"ticks\": \"\"}, \"colorscale\": [[0.0, \"#0d0887\"], [0.1111111111111111, \"#46039f\"], [0.2222222222222222, \"#7201a8\"], [0.3333333333333333, \"#9c179e\"], [0.4444444444444444, \"#bd3786\"], [0.5555555555555556, \"#d8576b\"], [0.6666666666666666, \"#ed7953\"], [0.7777777777777778, \"#fb9f3a\"], [0.8888888888888888, \"#fdca26\"], [1.0, \"#f0f921\"]], \"type\": \"histogram2dcontour\"}], \"mesh3d\": [{\"colorbar\": {\"outlinewidth\": 0, \"ticks\": \"\"}, \"type\": \"mesh3d\"}], \"parcoords\": [{\"line\": {\"colorbar\": {\"outlinewidth\": 0, \"ticks\": \"\"}}, \"type\": \"parcoords\"}], \"scatter\": [{\"marker\": {\"colorbar\": {\"outlinewidth\": 0, \"ticks\": \"\"}}, \"type\": \"scatter\"}], \"scatter3d\": [{\"line\": {\"colorbar\": {\"outlinewidth\": 0, \"ticks\": \"\"}}, \"marker\": {\"colorbar\": {\"outlinewidth\": 0, \"ticks\": \"\"}}, \"type\": \"scatter3d\"}], \"scattercarpet\": [{\"marker\": {\"colorbar\": {\"outlinewidth\": 0, \"ticks\": \"\"}}, \"type\": \"scattercarpet\"}], \"scattergeo\": [{\"marker\": {\"colorbar\": {\"outlinewidth\": 0, \"ticks\": \"\"}}, \"type\": \"scattergeo\"}], \"scattergl\": [{\"marker\": {\"colorbar\": {\"outlinewidth\": 0, \"ticks\": \"\"}}, \"type\": \"scattergl\"}], \"scattermapbox\": [{\"marker\": {\"colorbar\": {\"outlinewidth\": 0, \"ticks\": \"\"}}, \"type\": \"scattermapbox\"}], \"scatterpolar\": [{\"marker\": {\"colorbar\": {\"outlinewidth\": 0, \"ticks\": \"\"}}, \"type\": \"scatterpolar\"}], \"scatterpolargl\": [{\"marker\": {\"colorbar\": {\"outlinewidth\": 0, \"ticks\": \"\"}}, \"type\": \"scatterpolargl\"}], \"scatterternary\": [{\"marker\": {\"colorbar\": {\"outlinewidth\": 0, \"ticks\": \"\"}}, \"type\": \"scatterternary\"}], \"surface\": [{\"colorbar\": {\"outlinewidth\": 0, \"ticks\": \"\"}, \"colorscale\": [[0.0, \"#0d0887\"], [0.1111111111111111, \"#46039f\"], [0.2222222222222222, \"#7201a8\"], [0.3333333333333333, \"#9c179e\"], [0.4444444444444444, \"#bd3786\"], [0.5555555555555556, \"#d8576b\"], [0.6666666666666666, \"#ed7953\"], [0.7777777777777778, \"#fb9f3a\"], [0.8888888888888888, \"#fdca26\"], [1.0, \"#f0f921\"]], \"type\": \"surface\"}], \"table\": [{\"cells\": {\"fill\": {\"color\": \"#EBF0F8\"}, \"line\": {\"color\": \"white\"}}, \"header\": {\"fill\": {\"color\": \"#C8D4E3\"}, \"line\": {\"color\": \"white\"}}, \"type\": \"table\"}]}, \"layout\": {\"annotationdefaults\": {\"arrowcolor\": \"#2a3f5f\", \"arrowhead\": 0, \"arrowwidth\": 1}, \"colorscale\": {\"diverging\": [[0, \"#8e0152\"], [0.1, \"#c51b7d\"], [0.2, \"#de77ae\"], [0.3, \"#f1b6da\"], [0.4, \"#fde0ef\"], [0.5, \"#f7f7f7\"], [0.6, \"#e6f5d0\"], [0.7, \"#b8e186\"], [0.8, \"#7fbc41\"], [0.9, \"#4d9221\"], [1, \"#276419\"]], \"sequential\": [[0.0, \"#0d0887\"], [0.1111111111111111, \"#46039f\"], [0.2222222222222222, \"#7201a8\"], [0.3333333333333333, \"#9c179e\"], [0.4444444444444444, \"#bd3786\"], [0.5555555555555556, \"#d8576b\"], [0.6666666666666666, \"#ed7953\"], [0.7777777777777778, \"#fb9f3a\"], [0.8888888888888888, \"#fdca26\"], [1.0, \"#f0f921\"]], \"sequentialminus\": [[0.0, \"#0d0887\"], [0.1111111111111111, \"#46039f\"], [0.2222222222222222, \"#7201a8\"], [0.3333333333333333, \"#9c179e\"], [0.4444444444444444, \"#bd3786\"], [0.5555555555555556, \"#d8576b\"], [0.6666666666666666, \"#ed7953\"], [0.7777777777777778, \"#fb9f3a\"], [0.8888888888888888, \"#fdca26\"], [1.0, \"#f0f921\"]]}, \"colorway\": [\"#636efa\", \"#EF553B\", \"#00cc96\", \"#ab63fa\", \"#FFA15A\", \"#19d3f3\", \"#FF6692\", \"#B6E880\", \"#FF97FF\", \"#FECB52\"], \"font\": {\"color\": \"#2a3f5f\"}, \"geo\": {\"bgcolor\": \"white\", \"lakecolor\": \"white\", \"landcolor\": \"#E5ECF6\", \"showlakes\": true, \"showland\": true, \"subunitcolor\": \"white\"}, \"hoverlabel\": {\"align\": \"left\"}, \"hovermode\": \"closest\", \"mapbox\": {\"style\": \"light\"}, \"paper_bgcolor\": \"white\", \"plot_bgcolor\": \"#E5ECF6\", \"polar\": {\"angularaxis\": {\"gridcolor\": \"white\", \"linecolor\": \"white\", \"ticks\": \"\"}, \"bgcolor\": \"#E5ECF6\", \"radialaxis\": {\"gridcolor\": \"white\", \"linecolor\": \"white\", \"ticks\": \"\"}}, \"scene\": {\"xaxis\": {\"backgroundcolor\": \"#E5ECF6\", \"gridcolor\": \"white\", \"gridwidth\": 2, \"linecolor\": \"white\", \"showbackground\": true, \"ticks\": \"\", \"zerolinecolor\": \"white\"}, \"yaxis\": {\"backgroundcolor\": \"#E5ECF6\", \"gridcolor\": \"white\", \"gridwidth\": 2, \"linecolor\": \"white\", \"showbackground\": true, \"ticks\": \"\", \"zerolinecolor\": \"white\"}, \"zaxis\": {\"backgroundcolor\": \"#E5ECF6\", \"gridcolor\": \"white\", \"gridwidth\": 2, \"linecolor\": \"white\", \"showbackground\": true, \"ticks\": \"\", \"zerolinecolor\": \"white\"}}, \"shapedefaults\": {\"line\": {\"color\": \"#2a3f5f\"}}, \"ternary\": {\"aaxis\": {\"gridcolor\": \"white\", \"linecolor\": \"white\", \"ticks\": \"\"}, \"baxis\": {\"gridcolor\": \"white\", \"linecolor\": \"white\", \"ticks\": \"\"}, \"bgcolor\": \"#E5ECF6\", \"caxis\": {\"gridcolor\": \"white\", \"linecolor\": \"white\", \"ticks\": \"\"}}, \"title\": {\"x\": 0.05}, \"xaxis\": {\"automargin\": true, \"gridcolor\": \"white\", \"linecolor\": \"white\", \"ticks\": \"\", \"zerolinecolor\": \"white\", \"zerolinewidth\": 2}, \"yaxis\": {\"automargin\": true, \"gridcolor\": \"white\", \"linecolor\": \"white\", \"ticks\": \"\", \"zerolinecolor\": \"white\", \"zerolinewidth\": 2}}}, \"xaxis\": {\"anchor\": \"y\", \"domain\": [0.0, 0.98], \"title\": {\"text\": \"Year\"}}, \"yaxis\": {\"anchor\": \"x\", \"domain\": [0.0, 1.0], \"title\": {\"text\": \"Mean\"}}},\n",
       "                        {\"responsive\": true}\n",
       "                    ).then(function(){\n",
       "                            \n",
       "var gd = document.getElementById('8fe3277b-667a-40f1-8a74-11fe57489585');\n",
       "var x = new MutationObserver(function (mutations, observer) {{\n",
       "        var display = window.getComputedStyle(gd).display;\n",
       "        if (!display || display === 'none') {{\n",
       "            console.log([gd, 'removed!']);\n",
       "            Plotly.purge(gd);\n",
       "            observer.disconnect();\n",
       "        }}\n",
       "}});\n",
       "\n",
       "// Listen for the removal of the full notebook cells\n",
       "var notebookContainer = gd.closest('#notebook-container');\n",
       "if (notebookContainer) {{\n",
       "    x.observe(notebookContainer, {childList: true});\n",
       "}}\n",
       "\n",
       "// Listen for the clearing of the current output cell\n",
       "var outputEl = gd.closest('.output');\n",
       "if (outputEl) {{\n",
       "    x.observe(outputEl, {childList: true});\n",
       "}}\n",
       "\n",
       "                        })\n",
       "                };\n",
       "                });\n",
       "            </script>\n",
       "        </div>"
      ]
     },
     "metadata": {},
     "output_type": "display_data"
    }
   ],
   "source": [
    "fig = ex.line(df, x = 'Year', y = 'Mean')\n",
    "fig.show()"
   ]
  },
  {
   "cell_type": "markdown",
   "metadata": {},
   "source": [
    "#  Cleaning and unifying messy and complex data sets "
   ]
  },
  {
   "cell_type": "code",
   "execution_count": 18,
   "metadata": {},
   "outputs": [],
   "source": [
    "# Only the GCAG data and its columns 'Year' and 'Mean' will be used for this analysis\n",
    "GCAG_df = df[df.Source == 'GCAG'][['Year','Mean']].rename(columns={\"Mean\": \"GCAG_Mean\"})\n",
    "\n",
    "# GISTEMP Global Land-Ocean Temperature Index\n",
    "GISTEMP_df = df[df.Source == 'GISTEMP'][['Mean']].rename(columns={\"Mean\": \"GISTEMP_Mean\"})\n",
    "\n",
    "GCAG_df.index = range(len(GCAG_df))\n",
    "GISTEMP_df.index = range(len(GISTEMP_df))"
   ]
  },
  {
   "cell_type": "code",
   "execution_count": 19,
   "metadata": {},
   "outputs": [
    {
     "data": {
      "text/html": [
       "<div>\n",
       "<style scoped>\n",
       "    .dataframe tbody tr th:only-of-type {\n",
       "        vertical-align: middle;\n",
       "    }\n",
       "\n",
       "    .dataframe tbody tr th {\n",
       "        vertical-align: top;\n",
       "    }\n",
       "\n",
       "    .dataframe thead th {\n",
       "        text-align: right;\n",
       "    }\n",
       "</style>\n",
       "<table border=\"1\" class=\"dataframe\">\n",
       "  <thead>\n",
       "    <tr style=\"text-align: right;\">\n",
       "      <th></th>\n",
       "      <th>Year</th>\n",
       "      <th>GCAG_Mean</th>\n",
       "    </tr>\n",
       "  </thead>\n",
       "  <tbody>\n",
       "    <tr>\n",
       "      <th>0</th>\n",
       "      <td>2016</td>\n",
       "      <td>0.9363</td>\n",
       "    </tr>\n",
       "    <tr>\n",
       "      <th>1</th>\n",
       "      <td>2015</td>\n",
       "      <td>0.8998</td>\n",
       "    </tr>\n",
       "    <tr>\n",
       "      <th>2</th>\n",
       "      <td>2014</td>\n",
       "      <td>0.7408</td>\n",
       "    </tr>\n",
       "    <tr>\n",
       "      <th>3</th>\n",
       "      <td>2013</td>\n",
       "      <td>0.6679</td>\n",
       "    </tr>\n",
       "    <tr>\n",
       "      <th>4</th>\n",
       "      <td>2012</td>\n",
       "      <td>0.6240</td>\n",
       "    </tr>\n",
       "  </tbody>\n",
       "</table>\n",
       "</div>"
      ],
      "text/plain": [
       "   Year  GCAG_Mean\n",
       "0  2016     0.9363\n",
       "1  2015     0.8998\n",
       "2  2014     0.7408\n",
       "3  2013     0.6679\n",
       "4  2012     0.6240"
      ]
     },
     "execution_count": 19,
     "metadata": {},
     "output_type": "execute_result"
    }
   ],
   "source": [
    "GCAG_df.head()"
   ]
  },
  {
   "cell_type": "code",
   "execution_count": 20,
   "metadata": {},
   "outputs": [
    {
     "data": {
      "text/html": [
       "<div>\n",
       "<style scoped>\n",
       "    .dataframe tbody tr th:only-of-type {\n",
       "        vertical-align: middle;\n",
       "    }\n",
       "\n",
       "    .dataframe tbody tr th {\n",
       "        vertical-align: top;\n",
       "    }\n",
       "\n",
       "    .dataframe thead th {\n",
       "        text-align: right;\n",
       "    }\n",
       "</style>\n",
       "<table border=\"1\" class=\"dataframe\">\n",
       "  <thead>\n",
       "    <tr style=\"text-align: right;\">\n",
       "      <th></th>\n",
       "      <th>GISTEMP_Mean</th>\n",
       "    </tr>\n",
       "  </thead>\n",
       "  <tbody>\n",
       "    <tr>\n",
       "      <th>0</th>\n",
       "      <td>0.99</td>\n",
       "    </tr>\n",
       "    <tr>\n",
       "      <th>1</th>\n",
       "      <td>0.87</td>\n",
       "    </tr>\n",
       "    <tr>\n",
       "      <th>2</th>\n",
       "      <td>0.74</td>\n",
       "    </tr>\n",
       "    <tr>\n",
       "      <th>3</th>\n",
       "      <td>0.65</td>\n",
       "    </tr>\n",
       "    <tr>\n",
       "      <th>4</th>\n",
       "      <td>0.63</td>\n",
       "    </tr>\n",
       "  </tbody>\n",
       "</table>\n",
       "</div>"
      ],
      "text/plain": [
       "   GISTEMP_Mean\n",
       "0          0.99\n",
       "1          0.87\n",
       "2          0.74\n",
       "3          0.65\n",
       "4          0.63"
      ]
     },
     "execution_count": 20,
     "metadata": {},
     "output_type": "execute_result"
    }
   ],
   "source": [
    "GISTEMP_df.head()"
   ]
  },
  {
   "cell_type": "markdown",
   "metadata": {},
   "source": [
    "# Concatenating GCAG and GISTEMP Mean Data"
   ]
  },
  {
   "cell_type": "code",
   "execution_count": 21,
   "metadata": {},
   "outputs": [
    {
     "data": {
      "text/html": [
       "<div>\n",
       "<style scoped>\n",
       "    .dataframe tbody tr th:only-of-type {\n",
       "        vertical-align: middle;\n",
       "    }\n",
       "\n",
       "    .dataframe tbody tr th {\n",
       "        vertical-align: top;\n",
       "    }\n",
       "\n",
       "    .dataframe thead th {\n",
       "        text-align: right;\n",
       "    }\n",
       "</style>\n",
       "<table border=\"1\" class=\"dataframe\">\n",
       "  <thead>\n",
       "    <tr style=\"text-align: right;\">\n",
       "      <th></th>\n",
       "      <th>Year</th>\n",
       "      <th>GCAG_Mean</th>\n",
       "      <th>GISTEMP_Mean</th>\n",
       "    </tr>\n",
       "  </thead>\n",
       "  <tbody>\n",
       "    <tr>\n",
       "      <th>0</th>\n",
       "      <td>2016</td>\n",
       "      <td>0.9363</td>\n",
       "      <td>0.99</td>\n",
       "    </tr>\n",
       "    <tr>\n",
       "      <th>1</th>\n",
       "      <td>2015</td>\n",
       "      <td>0.8998</td>\n",
       "      <td>0.87</td>\n",
       "    </tr>\n",
       "    <tr>\n",
       "      <th>2</th>\n",
       "      <td>2014</td>\n",
       "      <td>0.7408</td>\n",
       "      <td>0.74</td>\n",
       "    </tr>\n",
       "    <tr>\n",
       "      <th>3</th>\n",
       "      <td>2013</td>\n",
       "      <td>0.6679</td>\n",
       "      <td>0.65</td>\n",
       "    </tr>\n",
       "    <tr>\n",
       "      <th>4</th>\n",
       "      <td>2012</td>\n",
       "      <td>0.6240</td>\n",
       "      <td>0.63</td>\n",
       "    </tr>\n",
       "  </tbody>\n",
       "</table>\n",
       "</div>"
      ],
      "text/plain": [
       "   Year  GCAG_Mean  GISTEMP_Mean\n",
       "0  2016     0.9363          0.99\n",
       "1  2015     0.8998          0.87\n",
       "2  2014     0.7408          0.74\n",
       "3  2013     0.6679          0.65\n",
       "4  2012     0.6240          0.63"
      ]
     },
     "execution_count": 21,
     "metadata": {},
     "output_type": "execute_result"
    }
   ],
   "source": [
    "df_final = pd.concat([GCAG_df,GISTEMP_df],axis = 1)\n",
    "df_final.head()"
   ]
  },
  {
   "cell_type": "markdown",
   "metadata": {},
   "source": [
    "# Visualization with the Plotly"
   ]
  },
  {
   "cell_type": "code",
   "execution_count": 22,
   "metadata": {},
   "outputs": [
    {
     "data": {
      "application/vnd.plotly.v1+json": {
       "config": {
        "plotlyServerURL": "https://plot.ly"
       },
       "data": [
        {
         "line": {
          "color": "INDIANRED"
         },
         "name": "GCAG_Mean",
         "opacity": 0.8,
         "type": "scatter",
         "x": [
          2016,
          2015,
          2014,
          2013,
          2012,
          2011,
          2010,
          2009,
          2008,
          2007,
          2006,
          2005,
          2004,
          2003,
          2002,
          2001,
          2000,
          1999,
          1998,
          1997,
          1996,
          1995,
          1994,
          1993,
          1992,
          1991,
          1990,
          1989,
          1988,
          1987,
          1986,
          1985,
          1984,
          1983,
          1982,
          1981,
          1980,
          1979,
          1978,
          1977,
          1976,
          1975,
          1974,
          1973,
          1972,
          1971,
          1970,
          1969,
          1968,
          1967,
          1966,
          1965,
          1964,
          1963,
          1962,
          1961,
          1960,
          1959,
          1958,
          1957,
          1956,
          1955,
          1954,
          1953,
          1952,
          1951,
          1950,
          1949,
          1948,
          1947,
          1946,
          1945,
          1944,
          1943,
          1942,
          1941,
          1940,
          1939,
          1938,
          1937,
          1936,
          1935,
          1934,
          1933,
          1932,
          1931,
          1930,
          1929,
          1928,
          1927,
          1926,
          1925,
          1924,
          1923,
          1922,
          1921,
          1920,
          1919,
          1918,
          1917,
          1916,
          1915,
          1914,
          1913,
          1912,
          1911,
          1910,
          1909,
          1908,
          1907,
          1906,
          1905,
          1904,
          1903,
          1902,
          1901,
          1900,
          1899,
          1898,
          1897,
          1896,
          1895,
          1894,
          1893,
          1892,
          1891,
          1890,
          1889,
          1888,
          1887,
          1886,
          1885,
          1884,
          1883,
          1882,
          1881,
          1880
         ],
         "y": [
          0.9363,
          0.8998,
          0.7408,
          0.6679,
          0.624,
          0.5788,
          0.7014,
          0.6367,
          0.5419,
          0.61,
          0.6125,
          0.6585,
          0.5783,
          0.6134,
          0.6023,
          0.5473,
          0.4262,
          0.4438,
          0.6344,
          0.5187,
          0.3228,
          0.4577,
          0.3409,
          0.2853,
          0.2571,
          0.4055,
          0.4328,
          0.297,
          0.3757,
          0.3696,
          0.2296,
          0.1342,
          0.149,
          0.3411,
          0.1815,
          0.2999,
          0.2637,
          0.2273,
          0.1123,
          0.1978,
          -0.0792,
          0.0034,
          -0.0719,
          0.1641,
          0.0264,
          -0.0783,
          0.0372,
          0.0929,
          -0.0296,
          -0.0131,
          -0.0227,
          -0.078,
          -0.1495,
          0.1068,
          0.0888,
          0.0775,
          0.0204,
          0.0596,
          0.1095,
          0.0488,
          -0.199,
          -0.1354,
          -0.1165,
          0.0952,
          0.0248,
          -0.0132,
          -0.1616,
          -0.0568,
          -0.0487,
          -0.0477,
          -0.004,
          0.171,
          0.2928,
          0.157,
          0.1538,
          0.196,
          0.0947,
          -0.0139,
          -0.0288,
          -0.0157,
          -0.1134,
          -0.1392,
          -0.1015,
          -0.2439,
          -0.1168,
          -0.0686,
          -0.1003,
          -0.2985,
          -0.1774,
          -0.1546,
          -0.0667,
          -0.1481,
          -0.2486,
          -0.2156,
          -0.2304,
          -0.1485,
          -0.2105,
          -0.2055,
          -0.2084,
          -0.3146,
          -0.293,
          -0.0693,
          -0.1395,
          -0.3162,
          -0.3288,
          -0.4332,
          -0.3789,
          -0.4261,
          -0.4396,
          -0.3706,
          -0.2174,
          -0.2931,
          -0.4194,
          -0.3369,
          -0.2463,
          -0.1417,
          -0.0679,
          -0.1173,
          -0.2546,
          -0.1224,
          -0.0974,
          -0.229,
          -0.2808,
          -0.3212,
          -0.3062,
          -0.2532,
          -0.322,
          -0.0982,
          -0.1471,
          -0.2489,
          -0.2003,
          -0.2125,
          -0.2009,
          -0.1424,
          -0.0648,
          -0.0628,
          -0.1148
         ]
        },
        {
         "line": {
          "color": "TEAL"
         },
         "name": "GISTEMP_Mean",
         "opacity": 0.8,
         "type": "scatter",
         "x": [
          2016,
          2015,
          2014,
          2013,
          2012,
          2011,
          2010,
          2009,
          2008,
          2007,
          2006,
          2005,
          2004,
          2003,
          2002,
          2001,
          2000,
          1999,
          1998,
          1997,
          1996,
          1995,
          1994,
          1993,
          1992,
          1991,
          1990,
          1989,
          1988,
          1987,
          1986,
          1985,
          1984,
          1983,
          1982,
          1981,
          1980,
          1979,
          1978,
          1977,
          1976,
          1975,
          1974,
          1973,
          1972,
          1971,
          1970,
          1969,
          1968,
          1967,
          1966,
          1965,
          1964,
          1963,
          1962,
          1961,
          1960,
          1959,
          1958,
          1957,
          1956,
          1955,
          1954,
          1953,
          1952,
          1951,
          1950,
          1949,
          1948,
          1947,
          1946,
          1945,
          1944,
          1943,
          1942,
          1941,
          1940,
          1939,
          1938,
          1937,
          1936,
          1935,
          1934,
          1933,
          1932,
          1931,
          1930,
          1929,
          1928,
          1927,
          1926,
          1925,
          1924,
          1923,
          1922,
          1921,
          1920,
          1919,
          1918,
          1917,
          1916,
          1915,
          1914,
          1913,
          1912,
          1911,
          1910,
          1909,
          1908,
          1907,
          1906,
          1905,
          1904,
          1903,
          1902,
          1901,
          1900,
          1899,
          1898,
          1897,
          1896,
          1895,
          1894,
          1893,
          1892,
          1891,
          1890,
          1889,
          1888,
          1887,
          1886,
          1885,
          1884,
          1883,
          1882,
          1881,
          1880
         ],
         "y": [
          0.99,
          0.87,
          0.74,
          0.65,
          0.63,
          0.6,
          0.71,
          0.64,
          0.54,
          0.66,
          0.63,
          0.69,
          0.55,
          0.62,
          0.63,
          0.55,
          0.42,
          0.42,
          0.64,
          0.48,
          0.35,
          0.46,
          0.32,
          0.24,
          0.23,
          0.43,
          0.44,
          0.29,
          0.41,
          0.33,
          0.19,
          0.12,
          0.15,
          0.3,
          0.13,
          0.33,
          0.27,
          0.17,
          0.07,
          0.18,
          -0.11,
          -0.02,
          -0.07,
          0.15,
          0.01,
          -0.09,
          0.02,
          0.07,
          -0.07,
          -0.02,
          -0.05,
          -0.1,
          -0.2,
          0.06,
          0.03,
          0.05,
          -0.02,
          0.03,
          0.07,
          0.04,
          -0.2,
          -0.15,
          -0.13,
          0.08,
          0.01,
          -0.07,
          -0.18,
          -0.09,
          -0.09,
          -0.05,
          -0.04,
          0.12,
          0.25,
          0.13,
          0.09,
          0.12,
          0.08,
          -0.03,
          -0.03,
          -0.03,
          -0.15,
          -0.2,
          -0.14,
          -0.29,
          -0.17,
          -0.09,
          -0.15,
          -0.36,
          -0.21,
          -0.21,
          -0.1,
          -0.21,
          -0.28,
          -0.24,
          -0.28,
          -0.21,
          -0.27,
          -0.22,
          -0.26,
          -0.4,
          -0.34,
          -0.11,
          -0.16,
          -0.34,
          -0.35,
          -0.44,
          -0.42,
          -0.47,
          -0.43,
          -0.4,
          -0.23,
          -0.28,
          -0.44,
          -0.35,
          -0.27,
          -0.15,
          -0.09,
          -0.16,
          -0.28,
          -0.11,
          -0.15,
          -0.21,
          -0.31,
          -0.3,
          -0.27,
          -0.24,
          -0.37,
          -0.12,
          -0.2,
          -0.33,
          -0.31,
          -0.32,
          -0.28,
          -0.21,
          -0.1,
          -0.12,
          -0.2
         ]
        }
       ],
       "layout": {
        "paper_bgcolor": "rgba(233,233,233,1)",
        "plot_bgcolor": "rgba(240,235,228,1)",
        "template": {
         "data": {
          "bar": [
           {
            "error_x": {
             "color": "#2a3f5f"
            },
            "error_y": {
             "color": "#2a3f5f"
            },
            "marker": {
             "line": {
              "color": "#E5ECF6",
              "width": 0.5
             }
            },
            "type": "bar"
           }
          ],
          "barpolar": [
           {
            "marker": {
             "line": {
              "color": "#E5ECF6",
              "width": 0.5
             }
            },
            "type": "barpolar"
           }
          ],
          "carpet": [
           {
            "aaxis": {
             "endlinecolor": "#2a3f5f",
             "gridcolor": "white",
             "linecolor": "white",
             "minorgridcolor": "white",
             "startlinecolor": "#2a3f5f"
            },
            "baxis": {
             "endlinecolor": "#2a3f5f",
             "gridcolor": "white",
             "linecolor": "white",
             "minorgridcolor": "white",
             "startlinecolor": "#2a3f5f"
            },
            "type": "carpet"
           }
          ],
          "choropleth": [
           {
            "colorbar": {
             "outlinewidth": 0,
             "ticks": ""
            },
            "type": "choropleth"
           }
          ],
          "contour": [
           {
            "colorbar": {
             "outlinewidth": 0,
             "ticks": ""
            },
            "colorscale": [
             [
              0,
              "#0d0887"
             ],
             [
              0.1111111111111111,
              "#46039f"
             ],
             [
              0.2222222222222222,
              "#7201a8"
             ],
             [
              0.3333333333333333,
              "#9c179e"
             ],
             [
              0.4444444444444444,
              "#bd3786"
             ],
             [
              0.5555555555555556,
              "#d8576b"
             ],
             [
              0.6666666666666666,
              "#ed7953"
             ],
             [
              0.7777777777777778,
              "#fb9f3a"
             ],
             [
              0.8888888888888888,
              "#fdca26"
             ],
             [
              1,
              "#f0f921"
             ]
            ],
            "type": "contour"
           }
          ],
          "contourcarpet": [
           {
            "colorbar": {
             "outlinewidth": 0,
             "ticks": ""
            },
            "type": "contourcarpet"
           }
          ],
          "heatmap": [
           {
            "colorbar": {
             "outlinewidth": 0,
             "ticks": ""
            },
            "colorscale": [
             [
              0,
              "#0d0887"
             ],
             [
              0.1111111111111111,
              "#46039f"
             ],
             [
              0.2222222222222222,
              "#7201a8"
             ],
             [
              0.3333333333333333,
              "#9c179e"
             ],
             [
              0.4444444444444444,
              "#bd3786"
             ],
             [
              0.5555555555555556,
              "#d8576b"
             ],
             [
              0.6666666666666666,
              "#ed7953"
             ],
             [
              0.7777777777777778,
              "#fb9f3a"
             ],
             [
              0.8888888888888888,
              "#fdca26"
             ],
             [
              1,
              "#f0f921"
             ]
            ],
            "type": "heatmap"
           }
          ],
          "heatmapgl": [
           {
            "colorbar": {
             "outlinewidth": 0,
             "ticks": ""
            },
            "colorscale": [
             [
              0,
              "#0d0887"
             ],
             [
              0.1111111111111111,
              "#46039f"
             ],
             [
              0.2222222222222222,
              "#7201a8"
             ],
             [
              0.3333333333333333,
              "#9c179e"
             ],
             [
              0.4444444444444444,
              "#bd3786"
             ],
             [
              0.5555555555555556,
              "#d8576b"
             ],
             [
              0.6666666666666666,
              "#ed7953"
             ],
             [
              0.7777777777777778,
              "#fb9f3a"
             ],
             [
              0.8888888888888888,
              "#fdca26"
             ],
             [
              1,
              "#f0f921"
             ]
            ],
            "type": "heatmapgl"
           }
          ],
          "histogram": [
           {
            "marker": {
             "colorbar": {
              "outlinewidth": 0,
              "ticks": ""
             }
            },
            "type": "histogram"
           }
          ],
          "histogram2d": [
           {
            "colorbar": {
             "outlinewidth": 0,
             "ticks": ""
            },
            "colorscale": [
             [
              0,
              "#0d0887"
             ],
             [
              0.1111111111111111,
              "#46039f"
             ],
             [
              0.2222222222222222,
              "#7201a8"
             ],
             [
              0.3333333333333333,
              "#9c179e"
             ],
             [
              0.4444444444444444,
              "#bd3786"
             ],
             [
              0.5555555555555556,
              "#d8576b"
             ],
             [
              0.6666666666666666,
              "#ed7953"
             ],
             [
              0.7777777777777778,
              "#fb9f3a"
             ],
             [
              0.8888888888888888,
              "#fdca26"
             ],
             [
              1,
              "#f0f921"
             ]
            ],
            "type": "histogram2d"
           }
          ],
          "histogram2dcontour": [
           {
            "colorbar": {
             "outlinewidth": 0,
             "ticks": ""
            },
            "colorscale": [
             [
              0,
              "#0d0887"
             ],
             [
              0.1111111111111111,
              "#46039f"
             ],
             [
              0.2222222222222222,
              "#7201a8"
             ],
             [
              0.3333333333333333,
              "#9c179e"
             ],
             [
              0.4444444444444444,
              "#bd3786"
             ],
             [
              0.5555555555555556,
              "#d8576b"
             ],
             [
              0.6666666666666666,
              "#ed7953"
             ],
             [
              0.7777777777777778,
              "#fb9f3a"
             ],
             [
              0.8888888888888888,
              "#fdca26"
             ],
             [
              1,
              "#f0f921"
             ]
            ],
            "type": "histogram2dcontour"
           }
          ],
          "mesh3d": [
           {
            "colorbar": {
             "outlinewidth": 0,
             "ticks": ""
            },
            "type": "mesh3d"
           }
          ],
          "parcoords": [
           {
            "line": {
             "colorbar": {
              "outlinewidth": 0,
              "ticks": ""
             }
            },
            "type": "parcoords"
           }
          ],
          "scatter": [
           {
            "marker": {
             "colorbar": {
              "outlinewidth": 0,
              "ticks": ""
             }
            },
            "type": "scatter"
           }
          ],
          "scatter3d": [
           {
            "line": {
             "colorbar": {
              "outlinewidth": 0,
              "ticks": ""
             }
            },
            "marker": {
             "colorbar": {
              "outlinewidth": 0,
              "ticks": ""
             }
            },
            "type": "scatter3d"
           }
          ],
          "scattercarpet": [
           {
            "marker": {
             "colorbar": {
              "outlinewidth": 0,
              "ticks": ""
             }
            },
            "type": "scattercarpet"
           }
          ],
          "scattergeo": [
           {
            "marker": {
             "colorbar": {
              "outlinewidth": 0,
              "ticks": ""
             }
            },
            "type": "scattergeo"
           }
          ],
          "scattergl": [
           {
            "marker": {
             "colorbar": {
              "outlinewidth": 0,
              "ticks": ""
             }
            },
            "type": "scattergl"
           }
          ],
          "scattermapbox": [
           {
            "marker": {
             "colorbar": {
              "outlinewidth": 0,
              "ticks": ""
             }
            },
            "type": "scattermapbox"
           }
          ],
          "scatterpolar": [
           {
            "marker": {
             "colorbar": {
              "outlinewidth": 0,
              "ticks": ""
             }
            },
            "type": "scatterpolar"
           }
          ],
          "scatterpolargl": [
           {
            "marker": {
             "colorbar": {
              "outlinewidth": 0,
              "ticks": ""
             }
            },
            "type": "scatterpolargl"
           }
          ],
          "scatterternary": [
           {
            "marker": {
             "colorbar": {
              "outlinewidth": 0,
              "ticks": ""
             }
            },
            "type": "scatterternary"
           }
          ],
          "surface": [
           {
            "colorbar": {
             "outlinewidth": 0,
             "ticks": ""
            },
            "colorscale": [
             [
              0,
              "#0d0887"
             ],
             [
              0.1111111111111111,
              "#46039f"
             ],
             [
              0.2222222222222222,
              "#7201a8"
             ],
             [
              0.3333333333333333,
              "#9c179e"
             ],
             [
              0.4444444444444444,
              "#bd3786"
             ],
             [
              0.5555555555555556,
              "#d8576b"
             ],
             [
              0.6666666666666666,
              "#ed7953"
             ],
             [
              0.7777777777777778,
              "#fb9f3a"
             ],
             [
              0.8888888888888888,
              "#fdca26"
             ],
             [
              1,
              "#f0f921"
             ]
            ],
            "type": "surface"
           }
          ],
          "table": [
           {
            "cells": {
             "fill": {
              "color": "#EBF0F8"
             },
             "line": {
              "color": "white"
             }
            },
            "header": {
             "fill": {
              "color": "#C8D4E3"
             },
             "line": {
              "color": "white"
             }
            },
            "type": "table"
           }
          ]
         },
         "layout": {
          "annotationdefaults": {
           "arrowcolor": "#2a3f5f",
           "arrowhead": 0,
           "arrowwidth": 1
          },
          "colorscale": {
           "diverging": [
            [
             0,
             "#8e0152"
            ],
            [
             0.1,
             "#c51b7d"
            ],
            [
             0.2,
             "#de77ae"
            ],
            [
             0.3,
             "#f1b6da"
            ],
            [
             0.4,
             "#fde0ef"
            ],
            [
             0.5,
             "#f7f7f7"
            ],
            [
             0.6,
             "#e6f5d0"
            ],
            [
             0.7,
             "#b8e186"
            ],
            [
             0.8,
             "#7fbc41"
            ],
            [
             0.9,
             "#4d9221"
            ],
            [
             1,
             "#276419"
            ]
           ],
           "sequential": [
            [
             0,
             "#0d0887"
            ],
            [
             0.1111111111111111,
             "#46039f"
            ],
            [
             0.2222222222222222,
             "#7201a8"
            ],
            [
             0.3333333333333333,
             "#9c179e"
            ],
            [
             0.4444444444444444,
             "#bd3786"
            ],
            [
             0.5555555555555556,
             "#d8576b"
            ],
            [
             0.6666666666666666,
             "#ed7953"
            ],
            [
             0.7777777777777778,
             "#fb9f3a"
            ],
            [
             0.8888888888888888,
             "#fdca26"
            ],
            [
             1,
             "#f0f921"
            ]
           ],
           "sequentialminus": [
            [
             0,
             "#0d0887"
            ],
            [
             0.1111111111111111,
             "#46039f"
            ],
            [
             0.2222222222222222,
             "#7201a8"
            ],
            [
             0.3333333333333333,
             "#9c179e"
            ],
            [
             0.4444444444444444,
             "#bd3786"
            ],
            [
             0.5555555555555556,
             "#d8576b"
            ],
            [
             0.6666666666666666,
             "#ed7953"
            ],
            [
             0.7777777777777778,
             "#fb9f3a"
            ],
            [
             0.8888888888888888,
             "#fdca26"
            ],
            [
             1,
             "#f0f921"
            ]
           ]
          },
          "colorway": [
           "#636efa",
           "#EF553B",
           "#00cc96",
           "#ab63fa",
           "#FFA15A",
           "#19d3f3",
           "#FF6692",
           "#B6E880",
           "#FF97FF",
           "#FECB52"
          ],
          "font": {
           "color": "#2a3f5f"
          },
          "geo": {
           "bgcolor": "white",
           "lakecolor": "white",
           "landcolor": "#E5ECF6",
           "showlakes": true,
           "showland": true,
           "subunitcolor": "white"
          },
          "hoverlabel": {
           "align": "left"
          },
          "hovermode": "closest",
          "mapbox": {
           "style": "light"
          },
          "paper_bgcolor": "white",
          "plot_bgcolor": "#E5ECF6",
          "polar": {
           "angularaxis": {
            "gridcolor": "white",
            "linecolor": "white",
            "ticks": ""
           },
           "bgcolor": "#E5ECF6",
           "radialaxis": {
            "gridcolor": "white",
            "linecolor": "white",
            "ticks": ""
           }
          },
          "scene": {
           "xaxis": {
            "backgroundcolor": "#E5ECF6",
            "gridcolor": "white",
            "gridwidth": 2,
            "linecolor": "white",
            "showbackground": true,
            "ticks": "",
            "zerolinecolor": "white"
           },
           "yaxis": {
            "backgroundcolor": "#E5ECF6",
            "gridcolor": "white",
            "gridwidth": 2,
            "linecolor": "white",
            "showbackground": true,
            "ticks": "",
            "zerolinecolor": "white"
           },
           "zaxis": {
            "backgroundcolor": "#E5ECF6",
            "gridcolor": "white",
            "gridwidth": 2,
            "linecolor": "white",
            "showbackground": true,
            "ticks": "",
            "zerolinecolor": "white"
           }
          },
          "shapedefaults": {
           "line": {
            "color": "#2a3f5f"
           }
          },
          "ternary": {
           "aaxis": {
            "gridcolor": "white",
            "linecolor": "white",
            "ticks": ""
           },
           "baxis": {
            "gridcolor": "white",
            "linecolor": "white",
            "ticks": ""
           },
           "bgcolor": "#E5ECF6",
           "caxis": {
            "gridcolor": "white",
            "linecolor": "white",
            "ticks": ""
           }
          },
          "title": {
           "x": 0.05
          },
          "xaxis": {
           "automargin": true,
           "gridcolor": "white",
           "linecolor": "white",
           "ticks": "",
           "zerolinecolor": "white",
           "zerolinewidth": 2
          },
          "yaxis": {
           "automargin": true,
           "gridcolor": "white",
           "linecolor": "white",
           "ticks": "",
           "zerolinecolor": "white",
           "zerolinewidth": 2
          }
         }
        },
        "title": {
         "font": {
          "family": "Times New Roman",
          "size": 22
         },
         "text": "Change in Temperature between 1880 ~ 2016",
         "x": 0.5
        },
        "xaxis": {
         "color": "black",
         "showgrid": true,
         "title": {
          "text": "Year"
         }
        },
        "yaxis": {
         "color": "black",
         "showgrid": true,
         "title": {
          "text": "Temperature Change"
         }
        }
       }
      },
      "text/html": [
       "<div>\n",
       "        \n",
       "        \n",
       "            <div id=\"afde997d-04ce-4630-ab62-fc9d6e2b5a05\" class=\"plotly-graph-div\" style=\"height:525px; width:100%;\"></div>\n",
       "            <script type=\"text/javascript\">\n",
       "                require([\"plotly\"], function(Plotly) {\n",
       "                    window.PLOTLYENV=window.PLOTLYENV || {};\n",
       "                    \n",
       "                if (document.getElementById(\"afde997d-04ce-4630-ab62-fc9d6e2b5a05\")) {\n",
       "                    Plotly.newPlot(\n",
       "                        'afde997d-04ce-4630-ab62-fc9d6e2b5a05',\n",
       "                        [{\"line\": {\"color\": \"INDIANRED\"}, \"name\": \"GCAG_Mean\", \"opacity\": 0.8, \"type\": \"scatter\", \"x\": [2016, 2015, 2014, 2013, 2012, 2011, 2010, 2009, 2008, 2007, 2006, 2005, 2004, 2003, 2002, 2001, 2000, 1999, 1998, 1997, 1996, 1995, 1994, 1993, 1992, 1991, 1990, 1989, 1988, 1987, 1986, 1985, 1984, 1983, 1982, 1981, 1980, 1979, 1978, 1977, 1976, 1975, 1974, 1973, 1972, 1971, 1970, 1969, 1968, 1967, 1966, 1965, 1964, 1963, 1962, 1961, 1960, 1959, 1958, 1957, 1956, 1955, 1954, 1953, 1952, 1951, 1950, 1949, 1948, 1947, 1946, 1945, 1944, 1943, 1942, 1941, 1940, 1939, 1938, 1937, 1936, 1935, 1934, 1933, 1932, 1931, 1930, 1929, 1928, 1927, 1926, 1925, 1924, 1923, 1922, 1921, 1920, 1919, 1918, 1917, 1916, 1915, 1914, 1913, 1912, 1911, 1910, 1909, 1908, 1907, 1906, 1905, 1904, 1903, 1902, 1901, 1900, 1899, 1898, 1897, 1896, 1895, 1894, 1893, 1892, 1891, 1890, 1889, 1888, 1887, 1886, 1885, 1884, 1883, 1882, 1881, 1880], \"y\": [0.9363, 0.8998, 0.7408, 0.6679, 0.624, 0.5788, 0.7014, 0.6367, 0.5419, 0.61, 0.6125, 0.6585, 0.5783, 0.6134, 0.6023, 0.5473, 0.4262, 0.4438, 0.6344, 0.5187, 0.3228, 0.4577, 0.3409, 0.2853, 0.2571, 0.4055, 0.4328, 0.297, 0.3757, 0.3696, 0.2296, 0.1342, 0.149, 0.3411, 0.1815, 0.2999, 0.2637, 0.2273, 0.1123, 0.1978, -0.0792, 0.0034, -0.0719, 0.1641, 0.0264, -0.0783, 0.0372, 0.0929, -0.0296, -0.0131, -0.0227, -0.078, -0.1495, 0.1068, 0.0888, 0.0775, 0.0204, 0.0596, 0.1095, 0.0488, -0.199, -0.1354, -0.1165, 0.0952, 0.0248, -0.0132, -0.1616, -0.0568, -0.0487, -0.0477, -0.004, 0.171, 0.2928, 0.157, 0.1538, 0.196, 0.0947, -0.0139, -0.0288, -0.0157, -0.1134, -0.1392, -0.1015, -0.2439, -0.1168, -0.0686, -0.1003, -0.2985, -0.1774, -0.1546, -0.0667, -0.1481, -0.2486, -0.2156, -0.2304, -0.1485, -0.2105, -0.2055, -0.2084, -0.3146, -0.293, -0.0693, -0.1395, -0.3162, -0.3288, -0.4332, -0.3789, -0.4261, -0.4396, -0.3706, -0.2174, -0.2931, -0.4194, -0.3369, -0.2463, -0.1417, -0.0679, -0.1173, -0.2546, -0.1224, -0.0974, -0.229, -0.2808, -0.3212, -0.3062, -0.2532, -0.322, -0.0982, -0.1471, -0.2489, -0.2003, -0.2125, -0.2009, -0.1424, -0.0648, -0.0628, -0.1148]}, {\"line\": {\"color\": \"TEAL\"}, \"name\": \"GISTEMP_Mean\", \"opacity\": 0.8, \"type\": \"scatter\", \"x\": [2016, 2015, 2014, 2013, 2012, 2011, 2010, 2009, 2008, 2007, 2006, 2005, 2004, 2003, 2002, 2001, 2000, 1999, 1998, 1997, 1996, 1995, 1994, 1993, 1992, 1991, 1990, 1989, 1988, 1987, 1986, 1985, 1984, 1983, 1982, 1981, 1980, 1979, 1978, 1977, 1976, 1975, 1974, 1973, 1972, 1971, 1970, 1969, 1968, 1967, 1966, 1965, 1964, 1963, 1962, 1961, 1960, 1959, 1958, 1957, 1956, 1955, 1954, 1953, 1952, 1951, 1950, 1949, 1948, 1947, 1946, 1945, 1944, 1943, 1942, 1941, 1940, 1939, 1938, 1937, 1936, 1935, 1934, 1933, 1932, 1931, 1930, 1929, 1928, 1927, 1926, 1925, 1924, 1923, 1922, 1921, 1920, 1919, 1918, 1917, 1916, 1915, 1914, 1913, 1912, 1911, 1910, 1909, 1908, 1907, 1906, 1905, 1904, 1903, 1902, 1901, 1900, 1899, 1898, 1897, 1896, 1895, 1894, 1893, 1892, 1891, 1890, 1889, 1888, 1887, 1886, 1885, 1884, 1883, 1882, 1881, 1880], \"y\": [0.99, 0.87, 0.74, 0.65, 0.63, 0.6, 0.71, 0.64, 0.54, 0.66, 0.63, 0.69, 0.55, 0.62, 0.63, 0.55, 0.42, 0.42, 0.64, 0.48, 0.35, 0.46, 0.32, 0.24, 0.23, 0.43, 0.44, 0.29, 0.41, 0.33, 0.19, 0.12, 0.15, 0.3, 0.13, 0.33, 0.27, 0.17, 0.07, 0.18, -0.11, -0.02, -0.07, 0.15, 0.01, -0.09, 0.02, 0.07, -0.07, -0.02, -0.05, -0.1, -0.2, 0.06, 0.03, 0.05, -0.02, 0.03, 0.07, 0.04, -0.2, -0.15, -0.13, 0.08, 0.01, -0.07, -0.18, -0.09, -0.09, -0.05, -0.04, 0.12, 0.25, 0.13, 0.09, 0.12, 0.08, -0.03, -0.03, -0.03, -0.15, -0.2, -0.14, -0.29, -0.17, -0.09, -0.15, -0.36, -0.21, -0.21, -0.1, -0.21, -0.28, -0.24, -0.28, -0.21, -0.27, -0.22, -0.26, -0.4, -0.34, -0.11, -0.16, -0.34, -0.35, -0.44, -0.42, -0.47, -0.43, -0.4, -0.23, -0.28, -0.44, -0.35, -0.27, -0.15, -0.09, -0.16, -0.28, -0.11, -0.15, -0.21, -0.31, -0.3, -0.27, -0.24, -0.37, -0.12, -0.2, -0.33, -0.31, -0.32, -0.28, -0.21, -0.1, -0.12, -0.2]}],\n",
       "                        {\"paper_bgcolor\": \"rgba(233,233,233,1)\", \"plot_bgcolor\": \"rgba(240,235,228,1)\", \"template\": {\"data\": {\"bar\": [{\"error_x\": {\"color\": \"#2a3f5f\"}, \"error_y\": {\"color\": \"#2a3f5f\"}, \"marker\": {\"line\": {\"color\": \"#E5ECF6\", \"width\": 0.5}}, \"type\": \"bar\"}], \"barpolar\": [{\"marker\": {\"line\": {\"color\": \"#E5ECF6\", \"width\": 0.5}}, \"type\": \"barpolar\"}], \"carpet\": [{\"aaxis\": {\"endlinecolor\": \"#2a3f5f\", \"gridcolor\": \"white\", \"linecolor\": \"white\", \"minorgridcolor\": \"white\", \"startlinecolor\": \"#2a3f5f\"}, \"baxis\": {\"endlinecolor\": \"#2a3f5f\", \"gridcolor\": \"white\", \"linecolor\": \"white\", \"minorgridcolor\": \"white\", \"startlinecolor\": \"#2a3f5f\"}, \"type\": \"carpet\"}], \"choropleth\": [{\"colorbar\": {\"outlinewidth\": 0, \"ticks\": \"\"}, \"type\": \"choropleth\"}], \"contour\": [{\"colorbar\": {\"outlinewidth\": 0, \"ticks\": \"\"}, \"colorscale\": [[0.0, \"#0d0887\"], [0.1111111111111111, \"#46039f\"], [0.2222222222222222, \"#7201a8\"], [0.3333333333333333, \"#9c179e\"], [0.4444444444444444, \"#bd3786\"], [0.5555555555555556, \"#d8576b\"], [0.6666666666666666, \"#ed7953\"], [0.7777777777777778, \"#fb9f3a\"], [0.8888888888888888, \"#fdca26\"], [1.0, \"#f0f921\"]], \"type\": \"contour\"}], \"contourcarpet\": [{\"colorbar\": {\"outlinewidth\": 0, \"ticks\": \"\"}, \"type\": \"contourcarpet\"}], \"heatmap\": [{\"colorbar\": {\"outlinewidth\": 0, \"ticks\": \"\"}, \"colorscale\": [[0.0, \"#0d0887\"], [0.1111111111111111, \"#46039f\"], [0.2222222222222222, \"#7201a8\"], [0.3333333333333333, \"#9c179e\"], [0.4444444444444444, \"#bd3786\"], [0.5555555555555556, \"#d8576b\"], [0.6666666666666666, \"#ed7953\"], [0.7777777777777778, \"#fb9f3a\"], [0.8888888888888888, \"#fdca26\"], [1.0, \"#f0f921\"]], \"type\": \"heatmap\"}], \"heatmapgl\": [{\"colorbar\": {\"outlinewidth\": 0, \"ticks\": \"\"}, \"colorscale\": [[0.0, \"#0d0887\"], [0.1111111111111111, \"#46039f\"], [0.2222222222222222, \"#7201a8\"], [0.3333333333333333, \"#9c179e\"], [0.4444444444444444, \"#bd3786\"], [0.5555555555555556, \"#d8576b\"], [0.6666666666666666, \"#ed7953\"], [0.7777777777777778, \"#fb9f3a\"], [0.8888888888888888, \"#fdca26\"], [1.0, \"#f0f921\"]], \"type\": \"heatmapgl\"}], \"histogram\": [{\"marker\": {\"colorbar\": {\"outlinewidth\": 0, \"ticks\": \"\"}}, \"type\": \"histogram\"}], \"histogram2d\": [{\"colorbar\": {\"outlinewidth\": 0, \"ticks\": \"\"}, \"colorscale\": [[0.0, \"#0d0887\"], [0.1111111111111111, \"#46039f\"], [0.2222222222222222, \"#7201a8\"], [0.3333333333333333, \"#9c179e\"], [0.4444444444444444, \"#bd3786\"], [0.5555555555555556, \"#d8576b\"], [0.6666666666666666, \"#ed7953\"], [0.7777777777777778, \"#fb9f3a\"], [0.8888888888888888, \"#fdca26\"], [1.0, \"#f0f921\"]], \"type\": \"histogram2d\"}], \"histogram2dcontour\": [{\"colorbar\": {\"outlinewidth\": 0, \"ticks\": \"\"}, \"colorscale\": [[0.0, \"#0d0887\"], [0.1111111111111111, \"#46039f\"], [0.2222222222222222, \"#7201a8\"], [0.3333333333333333, \"#9c179e\"], [0.4444444444444444, \"#bd3786\"], [0.5555555555555556, \"#d8576b\"], [0.6666666666666666, \"#ed7953\"], [0.7777777777777778, \"#fb9f3a\"], [0.8888888888888888, \"#fdca26\"], [1.0, \"#f0f921\"]], \"type\": \"histogram2dcontour\"}], \"mesh3d\": [{\"colorbar\": {\"outlinewidth\": 0, \"ticks\": \"\"}, \"type\": \"mesh3d\"}], \"parcoords\": [{\"line\": {\"colorbar\": {\"outlinewidth\": 0, \"ticks\": \"\"}}, \"type\": \"parcoords\"}], \"scatter\": [{\"marker\": {\"colorbar\": {\"outlinewidth\": 0, \"ticks\": \"\"}}, \"type\": \"scatter\"}], \"scatter3d\": [{\"line\": {\"colorbar\": {\"outlinewidth\": 0, \"ticks\": \"\"}}, \"marker\": {\"colorbar\": {\"outlinewidth\": 0, \"ticks\": \"\"}}, \"type\": \"scatter3d\"}], \"scattercarpet\": [{\"marker\": {\"colorbar\": {\"outlinewidth\": 0, \"ticks\": \"\"}}, \"type\": \"scattercarpet\"}], \"scattergeo\": [{\"marker\": {\"colorbar\": {\"outlinewidth\": 0, \"ticks\": \"\"}}, \"type\": \"scattergeo\"}], \"scattergl\": [{\"marker\": {\"colorbar\": {\"outlinewidth\": 0, \"ticks\": \"\"}}, \"type\": \"scattergl\"}], \"scattermapbox\": [{\"marker\": {\"colorbar\": {\"outlinewidth\": 0, \"ticks\": \"\"}}, \"type\": \"scattermapbox\"}], \"scatterpolar\": [{\"marker\": {\"colorbar\": {\"outlinewidth\": 0, \"ticks\": \"\"}}, \"type\": \"scatterpolar\"}], \"scatterpolargl\": [{\"marker\": {\"colorbar\": {\"outlinewidth\": 0, \"ticks\": \"\"}}, \"type\": \"scatterpolargl\"}], \"scatterternary\": [{\"marker\": {\"colorbar\": {\"outlinewidth\": 0, \"ticks\": \"\"}}, \"type\": \"scatterternary\"}], \"surface\": [{\"colorbar\": {\"outlinewidth\": 0, \"ticks\": \"\"}, \"colorscale\": [[0.0, \"#0d0887\"], [0.1111111111111111, \"#46039f\"], [0.2222222222222222, \"#7201a8\"], [0.3333333333333333, \"#9c179e\"], [0.4444444444444444, \"#bd3786\"], [0.5555555555555556, \"#d8576b\"], [0.6666666666666666, \"#ed7953\"], [0.7777777777777778, \"#fb9f3a\"], [0.8888888888888888, \"#fdca26\"], [1.0, \"#f0f921\"]], \"type\": \"surface\"}], \"table\": [{\"cells\": {\"fill\": {\"color\": \"#EBF0F8\"}, \"line\": {\"color\": \"white\"}}, \"header\": {\"fill\": {\"color\": \"#C8D4E3\"}, \"line\": {\"color\": \"white\"}}, \"type\": \"table\"}]}, \"layout\": {\"annotationdefaults\": {\"arrowcolor\": \"#2a3f5f\", \"arrowhead\": 0, \"arrowwidth\": 1}, \"colorscale\": {\"diverging\": [[0, \"#8e0152\"], [0.1, \"#c51b7d\"], [0.2, \"#de77ae\"], [0.3, \"#f1b6da\"], [0.4, \"#fde0ef\"], [0.5, \"#f7f7f7\"], [0.6, \"#e6f5d0\"], [0.7, \"#b8e186\"], [0.8, \"#7fbc41\"], [0.9, \"#4d9221\"], [1, \"#276419\"]], \"sequential\": [[0.0, \"#0d0887\"], [0.1111111111111111, \"#46039f\"], [0.2222222222222222, \"#7201a8\"], [0.3333333333333333, \"#9c179e\"], [0.4444444444444444, \"#bd3786\"], [0.5555555555555556, \"#d8576b\"], [0.6666666666666666, \"#ed7953\"], [0.7777777777777778, \"#fb9f3a\"], [0.8888888888888888, \"#fdca26\"], [1.0, \"#f0f921\"]], \"sequentialminus\": [[0.0, \"#0d0887\"], [0.1111111111111111, \"#46039f\"], [0.2222222222222222, \"#7201a8\"], [0.3333333333333333, \"#9c179e\"], [0.4444444444444444, \"#bd3786\"], [0.5555555555555556, \"#d8576b\"], [0.6666666666666666, \"#ed7953\"], [0.7777777777777778, \"#fb9f3a\"], [0.8888888888888888, \"#fdca26\"], [1.0, \"#f0f921\"]]}, \"colorway\": [\"#636efa\", \"#EF553B\", \"#00cc96\", \"#ab63fa\", \"#FFA15A\", \"#19d3f3\", \"#FF6692\", \"#B6E880\", \"#FF97FF\", \"#FECB52\"], \"font\": {\"color\": \"#2a3f5f\"}, \"geo\": {\"bgcolor\": \"white\", \"lakecolor\": \"white\", \"landcolor\": \"#E5ECF6\", \"showlakes\": true, \"showland\": true, \"subunitcolor\": \"white\"}, \"hoverlabel\": {\"align\": \"left\"}, \"hovermode\": \"closest\", \"mapbox\": {\"style\": \"light\"}, \"paper_bgcolor\": \"white\", \"plot_bgcolor\": \"#E5ECF6\", \"polar\": {\"angularaxis\": {\"gridcolor\": \"white\", \"linecolor\": \"white\", \"ticks\": \"\"}, \"bgcolor\": \"#E5ECF6\", \"radialaxis\": {\"gridcolor\": \"white\", \"linecolor\": \"white\", \"ticks\": \"\"}}, \"scene\": {\"xaxis\": {\"backgroundcolor\": \"#E5ECF6\", \"gridcolor\": \"white\", \"gridwidth\": 2, \"linecolor\": \"white\", \"showbackground\": true, \"ticks\": \"\", \"zerolinecolor\": \"white\"}, \"yaxis\": {\"backgroundcolor\": \"#E5ECF6\", \"gridcolor\": \"white\", \"gridwidth\": 2, \"linecolor\": \"white\", \"showbackground\": true, \"ticks\": \"\", \"zerolinecolor\": \"white\"}, \"zaxis\": {\"backgroundcolor\": \"#E5ECF6\", \"gridcolor\": \"white\", \"gridwidth\": 2, \"linecolor\": \"white\", \"showbackground\": true, \"ticks\": \"\", \"zerolinecolor\": \"white\"}}, \"shapedefaults\": {\"line\": {\"color\": \"#2a3f5f\"}}, \"ternary\": {\"aaxis\": {\"gridcolor\": \"white\", \"linecolor\": \"white\", \"ticks\": \"\"}, \"baxis\": {\"gridcolor\": \"white\", \"linecolor\": \"white\", \"ticks\": \"\"}, \"bgcolor\": \"#E5ECF6\", \"caxis\": {\"gridcolor\": \"white\", \"linecolor\": \"white\", \"ticks\": \"\"}}, \"title\": {\"x\": 0.05}, \"xaxis\": {\"automargin\": true, \"gridcolor\": \"white\", \"linecolor\": \"white\", \"ticks\": \"\", \"zerolinecolor\": \"white\", \"zerolinewidth\": 2}, \"yaxis\": {\"automargin\": true, \"gridcolor\": \"white\", \"linecolor\": \"white\", \"ticks\": \"\", \"zerolinecolor\": \"white\", \"zerolinewidth\": 2}}}, \"title\": {\"font\": {\"family\": \"Times New Roman\", \"size\": 22}, \"text\": \"Change in Temperature between 1880 ~ 2016\", \"x\": 0.5}, \"xaxis\": {\"color\": \"black\", \"showgrid\": true, \"title\": {\"text\": \"Year\"}}, \"yaxis\": {\"color\": \"black\", \"showgrid\": true, \"title\": {\"text\": \"Temperature Change\"}}},\n",
       "                        {\"responsive\": true}\n",
       "                    ).then(function(){\n",
       "                            \n",
       "var gd = document.getElementById('afde997d-04ce-4630-ab62-fc9d6e2b5a05');\n",
       "var x = new MutationObserver(function (mutations, observer) {{\n",
       "        var display = window.getComputedStyle(gd).display;\n",
       "        if (!display || display === 'none') {{\n",
       "            console.log([gd, 'removed!']);\n",
       "            Plotly.purge(gd);\n",
       "            observer.disconnect();\n",
       "        }}\n",
       "}});\n",
       "\n",
       "// Listen for the removal of the full notebook cells\n",
       "var notebookContainer = gd.closest('#notebook-container');\n",
       "if (notebookContainer) {{\n",
       "    x.observe(notebookContainer, {childList: true});\n",
       "}}\n",
       "\n",
       "// Listen for the clearing of the current output cell\n",
       "var outputEl = gd.closest('.output');\n",
       "if (outputEl) {{\n",
       "    x.observe(outputEl, {childList: true});\n",
       "}}\n",
       "\n",
       "                        })\n",
       "                };\n",
       "                });\n",
       "            </script>\n",
       "        </div>"
      ]
     },
     "metadata": {},
     "output_type": "display_data"
    }
   ],
   "source": [
    "fig = go.Figure(layout = go.Layout(\n",
    "        xaxis=dict(showgrid = True,title = \"Year\",color = 'black'),\n",
    "        yaxis=dict(showgrid = True,title = \"Temperature Change\",color = 'black'),\n",
    "    ))\n",
    "\n",
    "fig.add_trace(go.Scatter(\n",
    "                x=df_final.Year,\n",
    "                y=df_final['GCAG_Mean'],\n",
    "                name=\"GCAG_Mean\",\n",
    "                line_color='INDIANRED',\n",
    "                opacity=0.8))\n",
    "\n",
    "fig.add_trace(go.Scatter(\n",
    "                x=df_final.Year,\n",
    "                y=df_final['GISTEMP_Mean'],\n",
    "                name=\"GISTEMP_Mean\",\n",
    "                line_color='TEAL',\n",
    "                opacity=0.8))\n",
    "\n",
    "# Use date string to set xaxis range\n",
    "fig.update_layout(title_text = \"Change in Temperature between 1880 ~ 2016\", title_x=0.5, title_font_family=\"Times New Roman\", \\\n",
    "                  title_font_size = 22, paper_bgcolor = 'rgba(233,233,233,1)', plot_bgcolor = 'rgba(240,235,228,1)')\n",
    "fig.show()"
   ]
  },
  {
   "cell_type": "markdown",
   "metadata": {},
   "source": [
    "# Applying Linear Predictive Model with 'sklearn'"
   ]
  },
  {
   "cell_type": "code",
   "execution_count": 23,
   "metadata": {},
   "outputs": [],
   "source": [
    "from sklearn.linear_model import LinearRegression"
   ]
  },
  {
   "cell_type": "code",
   "execution_count": 24,
   "metadata": {},
   "outputs": [],
   "source": [
    "X = df_final.iloc[:,0:1]\n",
    "GCAG_y = df_final.iloc[:,1]\n",
    "GISTEMP_y = df_final.iloc[:,2]"
   ]
  },
  {
   "cell_type": "code",
   "execution_count": 25,
   "metadata": {},
   "outputs": [
    {
     "data": {
      "text/plain": [
       "LinearRegression()"
      ]
     },
     "execution_count": 25,
     "metadata": {},
     "output_type": "execute_result"
    }
   ],
   "source": [
    "model = LinearRegression()\n",
    "model.fit(X,GCAG_y)"
   ]
  },
  {
   "cell_type": "code",
   "execution_count": 26,
   "metadata": {},
   "outputs": [],
   "source": [
    "pred_gcag = model.predict(X)"
   ]
  },
  {
   "cell_type": "code",
   "execution_count": 27,
   "metadata": {},
   "outputs": [
    {
     "data": {
      "text/plain": [
       "LinearRegression()"
      ]
     },
     "execution_count": 27,
     "metadata": {},
     "output_type": "execute_result"
    }
   ],
   "source": [
    "model.fit(X,GISTEMP_y)"
   ]
  },
  {
   "cell_type": "code",
   "execution_count": 28,
   "metadata": {},
   "outputs": [],
   "source": [
    "pred_gistemp = model.predict(X)"
   ]
  },
  {
   "cell_type": "markdown",
   "metadata": {},
   "source": [
    "# Visualization of the regression result to the previous plot"
   ]
  },
  {
   "cell_type": "code",
   "execution_count": 29,
   "metadata": {},
   "outputs": [
    {
     "data": {
      "application/vnd.plotly.v1+json": {
       "config": {
        "plotlyServerURL": "https://plot.ly"
       },
       "data": [
        {
         "line": {
          "color": "rgb(203, 67, 53)"
         },
         "name": "GCAG_Mean",
         "opacity": 0.8,
         "type": "scatter",
         "x": [
          2016,
          2015,
          2014,
          2013,
          2012,
          2011,
          2010,
          2009,
          2008,
          2007,
          2006,
          2005,
          2004,
          2003,
          2002,
          2001,
          2000,
          1999,
          1998,
          1997,
          1996,
          1995,
          1994,
          1993,
          1992,
          1991,
          1990,
          1989,
          1988,
          1987,
          1986,
          1985,
          1984,
          1983,
          1982,
          1981,
          1980,
          1979,
          1978,
          1977,
          1976,
          1975,
          1974,
          1973,
          1972,
          1971,
          1970,
          1969,
          1968,
          1967,
          1966,
          1965,
          1964,
          1963,
          1962,
          1961,
          1960,
          1959,
          1958,
          1957,
          1956,
          1955,
          1954,
          1953,
          1952,
          1951,
          1950,
          1949,
          1948,
          1947,
          1946,
          1945,
          1944,
          1943,
          1942,
          1941,
          1940,
          1939,
          1938,
          1937,
          1936,
          1935,
          1934,
          1933,
          1932,
          1931,
          1930,
          1929,
          1928,
          1927,
          1926,
          1925,
          1924,
          1923,
          1922,
          1921,
          1920,
          1919,
          1918,
          1917,
          1916,
          1915,
          1914,
          1913,
          1912,
          1911,
          1910,
          1909,
          1908,
          1907,
          1906,
          1905,
          1904,
          1903,
          1902,
          1901,
          1900,
          1899,
          1898,
          1897,
          1896,
          1895,
          1894,
          1893,
          1892,
          1891,
          1890,
          1889,
          1888,
          1887,
          1886,
          1885,
          1884,
          1883,
          1882,
          1881,
          1880
         ],
         "y": [
          0.9363,
          0.8998,
          0.7408,
          0.6679,
          0.624,
          0.5788,
          0.7014,
          0.6367,
          0.5419,
          0.61,
          0.6125,
          0.6585,
          0.5783,
          0.6134,
          0.6023,
          0.5473,
          0.4262,
          0.4438,
          0.6344,
          0.5187,
          0.3228,
          0.4577,
          0.3409,
          0.2853,
          0.2571,
          0.4055,
          0.4328,
          0.297,
          0.3757,
          0.3696,
          0.2296,
          0.1342,
          0.149,
          0.3411,
          0.1815,
          0.2999,
          0.2637,
          0.2273,
          0.1123,
          0.1978,
          -0.0792,
          0.0034,
          -0.0719,
          0.1641,
          0.0264,
          -0.0783,
          0.0372,
          0.0929,
          -0.0296,
          -0.0131,
          -0.0227,
          -0.078,
          -0.1495,
          0.1068,
          0.0888,
          0.0775,
          0.0204,
          0.0596,
          0.1095,
          0.0488,
          -0.199,
          -0.1354,
          -0.1165,
          0.0952,
          0.0248,
          -0.0132,
          -0.1616,
          -0.0568,
          -0.0487,
          -0.0477,
          -0.004,
          0.171,
          0.2928,
          0.157,
          0.1538,
          0.196,
          0.0947,
          -0.0139,
          -0.0288,
          -0.0157,
          -0.1134,
          -0.1392,
          -0.1015,
          -0.2439,
          -0.1168,
          -0.0686,
          -0.1003,
          -0.2985,
          -0.1774,
          -0.1546,
          -0.0667,
          -0.1481,
          -0.2486,
          -0.2156,
          -0.2304,
          -0.1485,
          -0.2105,
          -0.2055,
          -0.2084,
          -0.3146,
          -0.293,
          -0.0693,
          -0.1395,
          -0.3162,
          -0.3288,
          -0.4332,
          -0.3789,
          -0.4261,
          -0.4396,
          -0.3706,
          -0.2174,
          -0.2931,
          -0.4194,
          -0.3369,
          -0.2463,
          -0.1417,
          -0.0679,
          -0.1173,
          -0.2546,
          -0.1224,
          -0.0974,
          -0.229,
          -0.2808,
          -0.3212,
          -0.3062,
          -0.2532,
          -0.322,
          -0.0982,
          -0.1471,
          -0.2489,
          -0.2003,
          -0.2125,
          -0.2009,
          -0.1424,
          -0.0648,
          -0.0628,
          -0.1148
         ]
        },
        {
         "line": {
          "color": "rgb(40, 116, 166)"
         },
         "name": "GISTEMP_Mean",
         "opacity": 0.8,
         "type": "scatter",
         "x": [
          2016,
          2015,
          2014,
          2013,
          2012,
          2011,
          2010,
          2009,
          2008,
          2007,
          2006,
          2005,
          2004,
          2003,
          2002,
          2001,
          2000,
          1999,
          1998,
          1997,
          1996,
          1995,
          1994,
          1993,
          1992,
          1991,
          1990,
          1989,
          1988,
          1987,
          1986,
          1985,
          1984,
          1983,
          1982,
          1981,
          1980,
          1979,
          1978,
          1977,
          1976,
          1975,
          1974,
          1973,
          1972,
          1971,
          1970,
          1969,
          1968,
          1967,
          1966,
          1965,
          1964,
          1963,
          1962,
          1961,
          1960,
          1959,
          1958,
          1957,
          1956,
          1955,
          1954,
          1953,
          1952,
          1951,
          1950,
          1949,
          1948,
          1947,
          1946,
          1945,
          1944,
          1943,
          1942,
          1941,
          1940,
          1939,
          1938,
          1937,
          1936,
          1935,
          1934,
          1933,
          1932,
          1931,
          1930,
          1929,
          1928,
          1927,
          1926,
          1925,
          1924,
          1923,
          1922,
          1921,
          1920,
          1919,
          1918,
          1917,
          1916,
          1915,
          1914,
          1913,
          1912,
          1911,
          1910,
          1909,
          1908,
          1907,
          1906,
          1905,
          1904,
          1903,
          1902,
          1901,
          1900,
          1899,
          1898,
          1897,
          1896,
          1895,
          1894,
          1893,
          1892,
          1891,
          1890,
          1889,
          1888,
          1887,
          1886,
          1885,
          1884,
          1883,
          1882,
          1881,
          1880
         ],
         "y": [
          0.99,
          0.87,
          0.74,
          0.65,
          0.63,
          0.6,
          0.71,
          0.64,
          0.54,
          0.66,
          0.63,
          0.69,
          0.55,
          0.62,
          0.63,
          0.55,
          0.42,
          0.42,
          0.64,
          0.48,
          0.35,
          0.46,
          0.32,
          0.24,
          0.23,
          0.43,
          0.44,
          0.29,
          0.41,
          0.33,
          0.19,
          0.12,
          0.15,
          0.3,
          0.13,
          0.33,
          0.27,
          0.17,
          0.07,
          0.18,
          -0.11,
          -0.02,
          -0.07,
          0.15,
          0.01,
          -0.09,
          0.02,
          0.07,
          -0.07,
          -0.02,
          -0.05,
          -0.1,
          -0.2,
          0.06,
          0.03,
          0.05,
          -0.02,
          0.03,
          0.07,
          0.04,
          -0.2,
          -0.15,
          -0.13,
          0.08,
          0.01,
          -0.07,
          -0.18,
          -0.09,
          -0.09,
          -0.05,
          -0.04,
          0.12,
          0.25,
          0.13,
          0.09,
          0.12,
          0.08,
          -0.03,
          -0.03,
          -0.03,
          -0.15,
          -0.2,
          -0.14,
          -0.29,
          -0.17,
          -0.09,
          -0.15,
          -0.36,
          -0.21,
          -0.21,
          -0.1,
          -0.21,
          -0.28,
          -0.24,
          -0.28,
          -0.21,
          -0.27,
          -0.22,
          -0.26,
          -0.4,
          -0.34,
          -0.11,
          -0.16,
          -0.34,
          -0.35,
          -0.44,
          -0.42,
          -0.47,
          -0.43,
          -0.4,
          -0.23,
          -0.28,
          -0.44,
          -0.35,
          -0.27,
          -0.15,
          -0.09,
          -0.16,
          -0.28,
          -0.11,
          -0.15,
          -0.21,
          -0.31,
          -0.3,
          -0.27,
          -0.24,
          -0.37,
          -0.12,
          -0.2,
          -0.33,
          -0.31,
          -0.32,
          -0.28,
          -0.21,
          -0.1,
          -0.12,
          -0.2
         ]
        },
        {
         "line": {
          "color": "rgb(22, 160, 133)"
         },
         "name": "GCAG_Predicted",
         "opacity": 0.8,
         "type": "scatter",
         "x": [
          2016,
          2015,
          2014,
          2013,
          2012,
          2011,
          2010,
          2009,
          2008,
          2007,
          2006,
          2005,
          2004,
          2003,
          2002,
          2001,
          2000,
          1999,
          1998,
          1997,
          1996,
          1995,
          1994,
          1993,
          1992,
          1991,
          1990,
          1989,
          1988,
          1987,
          1986,
          1985,
          1984,
          1983,
          1982,
          1981,
          1980,
          1979,
          1978,
          1977,
          1976,
          1975,
          1974,
          1973,
          1972,
          1971,
          1970,
          1969,
          1968,
          1967,
          1966,
          1965,
          1964,
          1963,
          1962,
          1961,
          1960,
          1959,
          1958,
          1957,
          1956,
          1955,
          1954,
          1953,
          1952,
          1951,
          1950,
          1949,
          1948,
          1947,
          1946,
          1945,
          1944,
          1943,
          1942,
          1941,
          1940,
          1939,
          1938,
          1937,
          1936,
          1935,
          1934,
          1933,
          1932,
          1931,
          1930,
          1929,
          1928,
          1927,
          1926,
          1925,
          1924,
          1923,
          1922,
          1921,
          1920,
          1919,
          1918,
          1917,
          1916,
          1915,
          1914,
          1913,
          1912,
          1911,
          1910,
          1909,
          1908,
          1907,
          1906,
          1905,
          1904,
          1903,
          1902,
          1901,
          1900,
          1899,
          1898,
          1897,
          1896,
          1895,
          1894,
          1893,
          1892,
          1891,
          1890,
          1889,
          1888,
          1887,
          1886,
          1885,
          1884,
          1883,
          1882,
          1881,
          1880
         ],
         "y": [
          0.5125597905426851,
          0.5057397399518369,
          0.49891968936098685,
          0.4920996387701386,
          0.4852795881792886,
          0.4784595375884404,
          0.47163948699759217,
          0.46481943640674217,
          0.45799938581589394,
          0.4511793352250457,
          0.4443592846341957,
          0.4375392340433475,
          0.43071918345249927,
          0.42389913286164926,
          0.41707908227080104,
          0.4102590316799528,
          0.4034389810891028,
          0.3966189304982546,
          0.38979887990740636,
          0.38297882931655636,
          0.37615877872570813,
          0.3693387281348599,
          0.3625186775440099,
          0.3556986269531617,
          0.34887857636231345,
          0.34205852577146345,
          0.3352384751806152,
          0.3284184245897652,
          0.321598373998917,
          0.31477832340806877,
          0.30795827281721877,
          0.30113822222637054,
          0.2943181716355223,
          0.2874981210446723,
          0.2806780704538241,
          0.27385801986297587,
          0.26703796927212586,
          0.26021791868127764,
          0.2533978680904294,
          0.2465778174995794,
          0.23975776690873118,
          0.23293771631788296,
          0.22611766572703296,
          0.21929761513618473,
          0.2124775645453365,
          0.2056575139544865,
          0.19883746336363828,
          0.19201741277278828,
          0.18519736218194005,
          0.17837731159109182,
          0.17155726100024182,
          0.1647372104093936,
          0.15791715981854537,
          0.15109710922769537,
          0.14427705863684714,
          0.13745700804599892,
          0.13063695745514892,
          0.12381690686430069,
          0.11699685627345247,
          0.11017680568260246,
          0.10335675509175424,
          0.09653670450090601,
          0.08971665391005601,
          0.08289660331920778,
          0.07607655272835956,
          0.06925650213750956,
          0.06243645154666133,
          0.055616400955813106,
          0.048796350364963104,
          0.04197629977411488,
          0.035156249183264876,
          0.02833619859241665,
          0.021516148001568425,
          0.014696097410718423,
          0.007876046819870197,
          0.0010559962290219715,
          -0.0057640543618280304,
          -0.012584104952676256,
          -0.01940415554352448,
          -0.026224206134374484,
          -0.03304425672522271,
          -0.039864307316070935,
          -0.04668435790692094,
          -0.05350440849776916,
          -0.06032445908861739,
          -0.06714450967946739,
          -0.07396456027031562,
          -0.08078461086116384,
          -0.08760466145201384,
          -0.09442471204286207,
          -0.1012447626337103,
          -0.1080648132245603,
          -0.11488486381540852,
          -0.12170491440625852,
          -0.12852496499710675,
          -0.13534501558795498,
          -0.14216506617880498,
          -0.1489851167696532,
          -0.15580516736050143,
          -0.16262521795135143,
          -0.16944526854219966,
          -0.17626531913304788,
          -0.18308536972389788,
          -0.1899054203147461,
          -0.19672547090559434,
          -0.20354552149644434,
          -0.21036557208729256,
          -0.2171856226781408,
          -0.2240056732689908,
          -0.23082572385983902,
          -0.23764577445068724,
          -0.24446582504153724,
          -0.25128587563238547,
          -0.2581059262232337,
          -0.2649259768140837,
          -0.2717460274049319,
          -0.2785660779957819,
          -0.28538612858663015,
          -0.2922061791774784,
          -0.2990262297683284,
          -0.3058462803591766,
          -0.31266633095002483,
          -0.31948638154087483,
          -0.32630643213172306,
          -0.3331264827225713,
          -0.3399465333134213,
          -0.3467665839042695,
          -0.35358663449511774,
          -0.36040668508596774,
          -0.36722673567681596,
          -0.3740467862676642,
          -0.3808668368585142,
          -0.3876868874493624,
          -0.39450693804021064,
          -0.40132698863106064,
          -0.40814703922190887,
          -0.4149670898127571
         ]
        },
        {
         "line": {
          "color": "rgb(142, 68, 173)"
         },
         "name": "GISTEMP_Predicted",
         "opacity": 0.8,
         "type": "scatter",
         "x": [
          2016,
          2015,
          2014,
          2013,
          2012,
          2011,
          2010,
          2009,
          2008,
          2007,
          2006,
          2005,
          2004,
          2003,
          2002,
          2001,
          2000,
          1999,
          1998,
          1997,
          1996,
          1995,
          1994,
          1993,
          1992,
          1991,
          1990,
          1989,
          1988,
          1987,
          1986,
          1985,
          1984,
          1983,
          1982,
          1981,
          1980,
          1979,
          1978,
          1977,
          1976,
          1975,
          1974,
          1973,
          1972,
          1971,
          1970,
          1969,
          1968,
          1967,
          1966,
          1965,
          1964,
          1963,
          1962,
          1961,
          1960,
          1959,
          1958,
          1957,
          1956,
          1955,
          1954,
          1953,
          1952,
          1951,
          1950,
          1949,
          1948,
          1947,
          1946,
          1945,
          1944,
          1943,
          1942,
          1941,
          1940,
          1939,
          1938,
          1937,
          1936,
          1935,
          1934,
          1933,
          1932,
          1931,
          1930,
          1929,
          1928,
          1927,
          1926,
          1925,
          1924,
          1923,
          1922,
          1921,
          1920,
          1919,
          1918,
          1917,
          1916,
          1915,
          1914,
          1913,
          1912,
          1911,
          1910,
          1909,
          1908,
          1907,
          1906,
          1905,
          1904,
          1903,
          1902,
          1901,
          1900,
          1899,
          1898,
          1897,
          1896,
          1895,
          1894,
          1893,
          1892,
          1891,
          1890,
          1889,
          1888,
          1887,
          1886,
          1885,
          1884,
          1883,
          1882,
          1881,
          1880
         ],
         "y": [
          0.5108790860044436,
          0.5037246812403158,
          0.4965702764761897,
          0.4894158717120618,
          0.4822614669479339,
          0.4751070621838078,
          0.46795265741967995,
          0.46079825265555385,
          0.453643847891426,
          0.4464894431272981,
          0.439335038363172,
          0.43218063359904413,
          0.42502622883491803,
          0.41787182407079015,
          0.4107174193066623,
          0.4035630145425362,
          0.3964086097784083,
          0.38925420501428043,
          0.38209980025015433,
          0.37494539548602646,
          0.36779099072190036,
          0.3606365859577725,
          0.3534821811936446,
          0.3463277764295185,
          0.33917337166539063,
          0.33201896690126453,
          0.32486456213713666,
          0.3177101573730088,
          0.3105557526088827,
          0.3034013478447548,
          0.2962469430806287,
          0.28909253831650084,
          0.28193813355237296,
          0.27478372878824686,
          0.267629324024119,
          0.2604749192599929,
          0.253320514495865,
          0.24616610973173714,
          0.23901170496761104,
          0.23185730020348316,
          0.22470289543935706,
          0.2175484906752292,
          0.21039408591110131,
          0.20323968114697522,
          0.19608527638284734,
          0.18893087161872124,
          0.18177646685459337,
          0.1746220620904655,
          0.1674676573263394,
          0.16031325256221152,
          0.15315884779808542,
          0.14600444303395754,
          0.13885003826982967,
          0.13169563350570357,
          0.1245412287415757,
          0.1173868239774496,
          0.11023241921332172,
          0.10307801444919384,
          0.09592360968506775,
          0.08876920492093987,
          0.08161480015681377,
          0.0744603953926859,
          0.06730599062855802,
          0.06015158586443192,
          0.05299718110030405,
          0.04584277633617795,
          0.03868837157205007,
          0.0315339668079222,
          0.0243795620437961,
          0.017225157279668224,
          0.010070752515542125,
          0.00291634775141425,
          -0.004238057012713625,
          -0.011392461776839724,
          -0.0185468665409676,
          -0.025701271305093698,
          -0.03285567606922157,
          -0.04001008083334945,
          -0.04716448559747555,
          -0.05431889036160342,
          -0.06147329512572952,
          -0.0686276998898574,
          -0.07578210465398527,
          -0.08293650941811137,
          -0.09009091418223925,
          -0.09724531894636534,
          -0.10439972371049322,
          -0.1115541284746211,
          -0.1187085332387472,
          -0.12586293800287507,
          -0.13301734276700117,
          -0.14017174753112904,
          -0.14732615229525692,
          -0.15448055705938302,
          -0.1616349618235109,
          -0.168789366587637,
          -0.17594377135176487,
          -0.18309817611589274,
          -0.19025258088001884,
          -0.19740698564414672,
          -0.20456139040827281,
          -0.2117157951724007,
          -0.21887019993652856,
          -0.22602460470065466,
          -0.23317900946478254,
          -0.24033341422890864,
          -0.2474878189930365,
          -0.2546422237571644,
          -0.2617966285212905,
          -0.26895103328541836,
          -0.27610543804954446,
          -0.28325984281367234,
          -0.2904142475778002,
          -0.2975686523419263,
          -0.3047230571060542,
          -0.31187746187018206,
          -0.31903186663430816,
          -0.32618627139843603,
          -0.33334067616256213,
          -0.34049508092669,
          -0.3476494856908179,
          -0.354803890454944,
          -0.36195829521907186,
          -0.36911269998319796,
          -0.37626710474732583,
          -0.3834215095114537,
          -0.3905759142755798,
          -0.3977303190397077,
          -0.4048847238038338,
          -0.41203912856796165,
          -0.41919353333208953,
          -0.42634793809621563,
          -0.4335023428603435,
          -0.4406567476244696,
          -0.4478111523885975,
          -0.45496555715272535,
          -0.46211996191685145
         ]
        }
       ],
       "layout": {
        "paper_bgcolor": "rgba(233,233,233,1)",
        "plot_bgcolor": "rgba(240,235,228,1)",
        "template": {
         "data": {
          "bar": [
           {
            "error_x": {
             "color": "#2a3f5f"
            },
            "error_y": {
             "color": "#2a3f5f"
            },
            "marker": {
             "line": {
              "color": "#E5ECF6",
              "width": 0.5
             }
            },
            "type": "bar"
           }
          ],
          "barpolar": [
           {
            "marker": {
             "line": {
              "color": "#E5ECF6",
              "width": 0.5
             }
            },
            "type": "barpolar"
           }
          ],
          "carpet": [
           {
            "aaxis": {
             "endlinecolor": "#2a3f5f",
             "gridcolor": "white",
             "linecolor": "white",
             "minorgridcolor": "white",
             "startlinecolor": "#2a3f5f"
            },
            "baxis": {
             "endlinecolor": "#2a3f5f",
             "gridcolor": "white",
             "linecolor": "white",
             "minorgridcolor": "white",
             "startlinecolor": "#2a3f5f"
            },
            "type": "carpet"
           }
          ],
          "choropleth": [
           {
            "colorbar": {
             "outlinewidth": 0,
             "ticks": ""
            },
            "type": "choropleth"
           }
          ],
          "contour": [
           {
            "colorbar": {
             "outlinewidth": 0,
             "ticks": ""
            },
            "colorscale": [
             [
              0,
              "#0d0887"
             ],
             [
              0.1111111111111111,
              "#46039f"
             ],
             [
              0.2222222222222222,
              "#7201a8"
             ],
             [
              0.3333333333333333,
              "#9c179e"
             ],
             [
              0.4444444444444444,
              "#bd3786"
             ],
             [
              0.5555555555555556,
              "#d8576b"
             ],
             [
              0.6666666666666666,
              "#ed7953"
             ],
             [
              0.7777777777777778,
              "#fb9f3a"
             ],
             [
              0.8888888888888888,
              "#fdca26"
             ],
             [
              1,
              "#f0f921"
             ]
            ],
            "type": "contour"
           }
          ],
          "contourcarpet": [
           {
            "colorbar": {
             "outlinewidth": 0,
             "ticks": ""
            },
            "type": "contourcarpet"
           }
          ],
          "heatmap": [
           {
            "colorbar": {
             "outlinewidth": 0,
             "ticks": ""
            },
            "colorscale": [
             [
              0,
              "#0d0887"
             ],
             [
              0.1111111111111111,
              "#46039f"
             ],
             [
              0.2222222222222222,
              "#7201a8"
             ],
             [
              0.3333333333333333,
              "#9c179e"
             ],
             [
              0.4444444444444444,
              "#bd3786"
             ],
             [
              0.5555555555555556,
              "#d8576b"
             ],
             [
              0.6666666666666666,
              "#ed7953"
             ],
             [
              0.7777777777777778,
              "#fb9f3a"
             ],
             [
              0.8888888888888888,
              "#fdca26"
             ],
             [
              1,
              "#f0f921"
             ]
            ],
            "type": "heatmap"
           }
          ],
          "heatmapgl": [
           {
            "colorbar": {
             "outlinewidth": 0,
             "ticks": ""
            },
            "colorscale": [
             [
              0,
              "#0d0887"
             ],
             [
              0.1111111111111111,
              "#46039f"
             ],
             [
              0.2222222222222222,
              "#7201a8"
             ],
             [
              0.3333333333333333,
              "#9c179e"
             ],
             [
              0.4444444444444444,
              "#bd3786"
             ],
             [
              0.5555555555555556,
              "#d8576b"
             ],
             [
              0.6666666666666666,
              "#ed7953"
             ],
             [
              0.7777777777777778,
              "#fb9f3a"
             ],
             [
              0.8888888888888888,
              "#fdca26"
             ],
             [
              1,
              "#f0f921"
             ]
            ],
            "type": "heatmapgl"
           }
          ],
          "histogram": [
           {
            "marker": {
             "colorbar": {
              "outlinewidth": 0,
              "ticks": ""
             }
            },
            "type": "histogram"
           }
          ],
          "histogram2d": [
           {
            "colorbar": {
             "outlinewidth": 0,
             "ticks": ""
            },
            "colorscale": [
             [
              0,
              "#0d0887"
             ],
             [
              0.1111111111111111,
              "#46039f"
             ],
             [
              0.2222222222222222,
              "#7201a8"
             ],
             [
              0.3333333333333333,
              "#9c179e"
             ],
             [
              0.4444444444444444,
              "#bd3786"
             ],
             [
              0.5555555555555556,
              "#d8576b"
             ],
             [
              0.6666666666666666,
              "#ed7953"
             ],
             [
              0.7777777777777778,
              "#fb9f3a"
             ],
             [
              0.8888888888888888,
              "#fdca26"
             ],
             [
              1,
              "#f0f921"
             ]
            ],
            "type": "histogram2d"
           }
          ],
          "histogram2dcontour": [
           {
            "colorbar": {
             "outlinewidth": 0,
             "ticks": ""
            },
            "colorscale": [
             [
              0,
              "#0d0887"
             ],
             [
              0.1111111111111111,
              "#46039f"
             ],
             [
              0.2222222222222222,
              "#7201a8"
             ],
             [
              0.3333333333333333,
              "#9c179e"
             ],
             [
              0.4444444444444444,
              "#bd3786"
             ],
             [
              0.5555555555555556,
              "#d8576b"
             ],
             [
              0.6666666666666666,
              "#ed7953"
             ],
             [
              0.7777777777777778,
              "#fb9f3a"
             ],
             [
              0.8888888888888888,
              "#fdca26"
             ],
             [
              1,
              "#f0f921"
             ]
            ],
            "type": "histogram2dcontour"
           }
          ],
          "mesh3d": [
           {
            "colorbar": {
             "outlinewidth": 0,
             "ticks": ""
            },
            "type": "mesh3d"
           }
          ],
          "parcoords": [
           {
            "line": {
             "colorbar": {
              "outlinewidth": 0,
              "ticks": ""
             }
            },
            "type": "parcoords"
           }
          ],
          "scatter": [
           {
            "marker": {
             "colorbar": {
              "outlinewidth": 0,
              "ticks": ""
             }
            },
            "type": "scatter"
           }
          ],
          "scatter3d": [
           {
            "line": {
             "colorbar": {
              "outlinewidth": 0,
              "ticks": ""
             }
            },
            "marker": {
             "colorbar": {
              "outlinewidth": 0,
              "ticks": ""
             }
            },
            "type": "scatter3d"
           }
          ],
          "scattercarpet": [
           {
            "marker": {
             "colorbar": {
              "outlinewidth": 0,
              "ticks": ""
             }
            },
            "type": "scattercarpet"
           }
          ],
          "scattergeo": [
           {
            "marker": {
             "colorbar": {
              "outlinewidth": 0,
              "ticks": ""
             }
            },
            "type": "scattergeo"
           }
          ],
          "scattergl": [
           {
            "marker": {
             "colorbar": {
              "outlinewidth": 0,
              "ticks": ""
             }
            },
            "type": "scattergl"
           }
          ],
          "scattermapbox": [
           {
            "marker": {
             "colorbar": {
              "outlinewidth": 0,
              "ticks": ""
             }
            },
            "type": "scattermapbox"
           }
          ],
          "scatterpolar": [
           {
            "marker": {
             "colorbar": {
              "outlinewidth": 0,
              "ticks": ""
             }
            },
            "type": "scatterpolar"
           }
          ],
          "scatterpolargl": [
           {
            "marker": {
             "colorbar": {
              "outlinewidth": 0,
              "ticks": ""
             }
            },
            "type": "scatterpolargl"
           }
          ],
          "scatterternary": [
           {
            "marker": {
             "colorbar": {
              "outlinewidth": 0,
              "ticks": ""
             }
            },
            "type": "scatterternary"
           }
          ],
          "surface": [
           {
            "colorbar": {
             "outlinewidth": 0,
             "ticks": ""
            },
            "colorscale": [
             [
              0,
              "#0d0887"
             ],
             [
              0.1111111111111111,
              "#46039f"
             ],
             [
              0.2222222222222222,
              "#7201a8"
             ],
             [
              0.3333333333333333,
              "#9c179e"
             ],
             [
              0.4444444444444444,
              "#bd3786"
             ],
             [
              0.5555555555555556,
              "#d8576b"
             ],
             [
              0.6666666666666666,
              "#ed7953"
             ],
             [
              0.7777777777777778,
              "#fb9f3a"
             ],
             [
              0.8888888888888888,
              "#fdca26"
             ],
             [
              1,
              "#f0f921"
             ]
            ],
            "type": "surface"
           }
          ],
          "table": [
           {
            "cells": {
             "fill": {
              "color": "#EBF0F8"
             },
             "line": {
              "color": "white"
             }
            },
            "header": {
             "fill": {
              "color": "#C8D4E3"
             },
             "line": {
              "color": "white"
             }
            },
            "type": "table"
           }
          ]
         },
         "layout": {
          "annotationdefaults": {
           "arrowcolor": "#2a3f5f",
           "arrowhead": 0,
           "arrowwidth": 1
          },
          "colorscale": {
           "diverging": [
            [
             0,
             "#8e0152"
            ],
            [
             0.1,
             "#c51b7d"
            ],
            [
             0.2,
             "#de77ae"
            ],
            [
             0.3,
             "#f1b6da"
            ],
            [
             0.4,
             "#fde0ef"
            ],
            [
             0.5,
             "#f7f7f7"
            ],
            [
             0.6,
             "#e6f5d0"
            ],
            [
             0.7,
             "#b8e186"
            ],
            [
             0.8,
             "#7fbc41"
            ],
            [
             0.9,
             "#4d9221"
            ],
            [
             1,
             "#276419"
            ]
           ],
           "sequential": [
            [
             0,
             "#0d0887"
            ],
            [
             0.1111111111111111,
             "#46039f"
            ],
            [
             0.2222222222222222,
             "#7201a8"
            ],
            [
             0.3333333333333333,
             "#9c179e"
            ],
            [
             0.4444444444444444,
             "#bd3786"
            ],
            [
             0.5555555555555556,
             "#d8576b"
            ],
            [
             0.6666666666666666,
             "#ed7953"
            ],
            [
             0.7777777777777778,
             "#fb9f3a"
            ],
            [
             0.8888888888888888,
             "#fdca26"
            ],
            [
             1,
             "#f0f921"
            ]
           ],
           "sequentialminus": [
            [
             0,
             "#0d0887"
            ],
            [
             0.1111111111111111,
             "#46039f"
            ],
            [
             0.2222222222222222,
             "#7201a8"
            ],
            [
             0.3333333333333333,
             "#9c179e"
            ],
            [
             0.4444444444444444,
             "#bd3786"
            ],
            [
             0.5555555555555556,
             "#d8576b"
            ],
            [
             0.6666666666666666,
             "#ed7953"
            ],
            [
             0.7777777777777778,
             "#fb9f3a"
            ],
            [
             0.8888888888888888,
             "#fdca26"
            ],
            [
             1,
             "#f0f921"
            ]
           ]
          },
          "colorway": [
           "#636efa",
           "#EF553B",
           "#00cc96",
           "#ab63fa",
           "#FFA15A",
           "#19d3f3",
           "#FF6692",
           "#B6E880",
           "#FF97FF",
           "#FECB52"
          ],
          "font": {
           "color": "#2a3f5f"
          },
          "geo": {
           "bgcolor": "white",
           "lakecolor": "white",
           "landcolor": "#E5ECF6",
           "showlakes": true,
           "showland": true,
           "subunitcolor": "white"
          },
          "hoverlabel": {
           "align": "left"
          },
          "hovermode": "closest",
          "mapbox": {
           "style": "light"
          },
          "paper_bgcolor": "white",
          "plot_bgcolor": "#E5ECF6",
          "polar": {
           "angularaxis": {
            "gridcolor": "white",
            "linecolor": "white",
            "ticks": ""
           },
           "bgcolor": "#E5ECF6",
           "radialaxis": {
            "gridcolor": "white",
            "linecolor": "white",
            "ticks": ""
           }
          },
          "scene": {
           "xaxis": {
            "backgroundcolor": "#E5ECF6",
            "gridcolor": "white",
            "gridwidth": 2,
            "linecolor": "white",
            "showbackground": true,
            "ticks": "",
            "zerolinecolor": "white"
           },
           "yaxis": {
            "backgroundcolor": "#E5ECF6",
            "gridcolor": "white",
            "gridwidth": 2,
            "linecolor": "white",
            "showbackground": true,
            "ticks": "",
            "zerolinecolor": "white"
           },
           "zaxis": {
            "backgroundcolor": "#E5ECF6",
            "gridcolor": "white",
            "gridwidth": 2,
            "linecolor": "white",
            "showbackground": true,
            "ticks": "",
            "zerolinecolor": "white"
           }
          },
          "shapedefaults": {
           "line": {
            "color": "#2a3f5f"
           }
          },
          "ternary": {
           "aaxis": {
            "gridcolor": "white",
            "linecolor": "white",
            "ticks": ""
           },
           "baxis": {
            "gridcolor": "white",
            "linecolor": "white",
            "ticks": ""
           },
           "bgcolor": "#E5ECF6",
           "caxis": {
            "gridcolor": "white",
            "linecolor": "white",
            "ticks": ""
           }
          },
          "title": {
           "x": 0.05
          },
          "xaxis": {
           "automargin": true,
           "gridcolor": "white",
           "linecolor": "white",
           "ticks": "",
           "zerolinecolor": "white",
           "zerolinewidth": 2
          },
          "yaxis": {
           "automargin": true,
           "gridcolor": "white",
           "linecolor": "white",
           "ticks": "",
           "zerolinecolor": "white",
           "zerolinewidth": 2
          }
         }
        },
        "title": {
         "font": {
          "family": "Times New Roman",
          "size": 22
         },
         "text": "Change in Temperature between 1880 ~ 2016",
         "x": 0.5
        },
        "xaxis": {
         "color": "black",
         "showgrid": true,
         "title": {
          "text": "Year"
         }
        },
        "yaxis": {
         "color": "black",
         "showgrid": true,
         "title": {
          "text": "Temperature Change"
         }
        }
       }
      },
      "text/html": [
       "<div>\n",
       "        \n",
       "        \n",
       "            <div id=\"d16f0a89-bd99-4d85-aa5b-f2d942b552bb\" class=\"plotly-graph-div\" style=\"height:525px; width:100%;\"></div>\n",
       "            <script type=\"text/javascript\">\n",
       "                require([\"plotly\"], function(Plotly) {\n",
       "                    window.PLOTLYENV=window.PLOTLYENV || {};\n",
       "                    \n",
       "                if (document.getElementById(\"d16f0a89-bd99-4d85-aa5b-f2d942b552bb\")) {\n",
       "                    Plotly.newPlot(\n",
       "                        'd16f0a89-bd99-4d85-aa5b-f2d942b552bb',\n",
       "                        [{\"line\": {\"color\": \"rgb(203, 67, 53)\"}, \"name\": \"GCAG_Mean\", \"opacity\": 0.8, \"type\": \"scatter\", \"x\": [2016, 2015, 2014, 2013, 2012, 2011, 2010, 2009, 2008, 2007, 2006, 2005, 2004, 2003, 2002, 2001, 2000, 1999, 1998, 1997, 1996, 1995, 1994, 1993, 1992, 1991, 1990, 1989, 1988, 1987, 1986, 1985, 1984, 1983, 1982, 1981, 1980, 1979, 1978, 1977, 1976, 1975, 1974, 1973, 1972, 1971, 1970, 1969, 1968, 1967, 1966, 1965, 1964, 1963, 1962, 1961, 1960, 1959, 1958, 1957, 1956, 1955, 1954, 1953, 1952, 1951, 1950, 1949, 1948, 1947, 1946, 1945, 1944, 1943, 1942, 1941, 1940, 1939, 1938, 1937, 1936, 1935, 1934, 1933, 1932, 1931, 1930, 1929, 1928, 1927, 1926, 1925, 1924, 1923, 1922, 1921, 1920, 1919, 1918, 1917, 1916, 1915, 1914, 1913, 1912, 1911, 1910, 1909, 1908, 1907, 1906, 1905, 1904, 1903, 1902, 1901, 1900, 1899, 1898, 1897, 1896, 1895, 1894, 1893, 1892, 1891, 1890, 1889, 1888, 1887, 1886, 1885, 1884, 1883, 1882, 1881, 1880], \"y\": [0.9363, 0.8998, 0.7408, 0.6679, 0.624, 0.5788, 0.7014, 0.6367, 0.5419, 0.61, 0.6125, 0.6585, 0.5783, 0.6134, 0.6023, 0.5473, 0.4262, 0.4438, 0.6344, 0.5187, 0.3228, 0.4577, 0.3409, 0.2853, 0.2571, 0.4055, 0.4328, 0.297, 0.3757, 0.3696, 0.2296, 0.1342, 0.149, 0.3411, 0.1815, 0.2999, 0.2637, 0.2273, 0.1123, 0.1978, -0.0792, 0.0034, -0.0719, 0.1641, 0.0264, -0.0783, 0.0372, 0.0929, -0.0296, -0.0131, -0.0227, -0.078, -0.1495, 0.1068, 0.0888, 0.0775, 0.0204, 0.0596, 0.1095, 0.0488, -0.199, -0.1354, -0.1165, 0.0952, 0.0248, -0.0132, -0.1616, -0.0568, -0.0487, -0.0477, -0.004, 0.171, 0.2928, 0.157, 0.1538, 0.196, 0.0947, -0.0139, -0.0288, -0.0157, -0.1134, -0.1392, -0.1015, -0.2439, -0.1168, -0.0686, -0.1003, -0.2985, -0.1774, -0.1546, -0.0667, -0.1481, -0.2486, -0.2156, -0.2304, -0.1485, -0.2105, -0.2055, -0.2084, -0.3146, -0.293, -0.0693, -0.1395, -0.3162, -0.3288, -0.4332, -0.3789, -0.4261, -0.4396, -0.3706, -0.2174, -0.2931, -0.4194, -0.3369, -0.2463, -0.1417, -0.0679, -0.1173, -0.2546, -0.1224, -0.0974, -0.229, -0.2808, -0.3212, -0.3062, -0.2532, -0.322, -0.0982, -0.1471, -0.2489, -0.2003, -0.2125, -0.2009, -0.1424, -0.0648, -0.0628, -0.1148]}, {\"line\": {\"color\": \"rgb(40, 116, 166)\"}, \"name\": \"GISTEMP_Mean\", \"opacity\": 0.8, \"type\": \"scatter\", \"x\": [2016, 2015, 2014, 2013, 2012, 2011, 2010, 2009, 2008, 2007, 2006, 2005, 2004, 2003, 2002, 2001, 2000, 1999, 1998, 1997, 1996, 1995, 1994, 1993, 1992, 1991, 1990, 1989, 1988, 1987, 1986, 1985, 1984, 1983, 1982, 1981, 1980, 1979, 1978, 1977, 1976, 1975, 1974, 1973, 1972, 1971, 1970, 1969, 1968, 1967, 1966, 1965, 1964, 1963, 1962, 1961, 1960, 1959, 1958, 1957, 1956, 1955, 1954, 1953, 1952, 1951, 1950, 1949, 1948, 1947, 1946, 1945, 1944, 1943, 1942, 1941, 1940, 1939, 1938, 1937, 1936, 1935, 1934, 1933, 1932, 1931, 1930, 1929, 1928, 1927, 1926, 1925, 1924, 1923, 1922, 1921, 1920, 1919, 1918, 1917, 1916, 1915, 1914, 1913, 1912, 1911, 1910, 1909, 1908, 1907, 1906, 1905, 1904, 1903, 1902, 1901, 1900, 1899, 1898, 1897, 1896, 1895, 1894, 1893, 1892, 1891, 1890, 1889, 1888, 1887, 1886, 1885, 1884, 1883, 1882, 1881, 1880], \"y\": [0.99, 0.87, 0.74, 0.65, 0.63, 0.6, 0.71, 0.64, 0.54, 0.66, 0.63, 0.69, 0.55, 0.62, 0.63, 0.55, 0.42, 0.42, 0.64, 0.48, 0.35, 0.46, 0.32, 0.24, 0.23, 0.43, 0.44, 0.29, 0.41, 0.33, 0.19, 0.12, 0.15, 0.3, 0.13, 0.33, 0.27, 0.17, 0.07, 0.18, -0.11, -0.02, -0.07, 0.15, 0.01, -0.09, 0.02, 0.07, -0.07, -0.02, -0.05, -0.1, -0.2, 0.06, 0.03, 0.05, -0.02, 0.03, 0.07, 0.04, -0.2, -0.15, -0.13, 0.08, 0.01, -0.07, -0.18, -0.09, -0.09, -0.05, -0.04, 0.12, 0.25, 0.13, 0.09, 0.12, 0.08, -0.03, -0.03, -0.03, -0.15, -0.2, -0.14, -0.29, -0.17, -0.09, -0.15, -0.36, -0.21, -0.21, -0.1, -0.21, -0.28, -0.24, -0.28, -0.21, -0.27, -0.22, -0.26, -0.4, -0.34, -0.11, -0.16, -0.34, -0.35, -0.44, -0.42, -0.47, -0.43, -0.4, -0.23, -0.28, -0.44, -0.35, -0.27, -0.15, -0.09, -0.16, -0.28, -0.11, -0.15, -0.21, -0.31, -0.3, -0.27, -0.24, -0.37, -0.12, -0.2, -0.33, -0.31, -0.32, -0.28, -0.21, -0.1, -0.12, -0.2]}, {\"line\": {\"color\": \"rgb(22, 160, 133)\"}, \"name\": \"GCAG_Predicted\", \"opacity\": 0.8, \"type\": \"scatter\", \"x\": [2016, 2015, 2014, 2013, 2012, 2011, 2010, 2009, 2008, 2007, 2006, 2005, 2004, 2003, 2002, 2001, 2000, 1999, 1998, 1997, 1996, 1995, 1994, 1993, 1992, 1991, 1990, 1989, 1988, 1987, 1986, 1985, 1984, 1983, 1982, 1981, 1980, 1979, 1978, 1977, 1976, 1975, 1974, 1973, 1972, 1971, 1970, 1969, 1968, 1967, 1966, 1965, 1964, 1963, 1962, 1961, 1960, 1959, 1958, 1957, 1956, 1955, 1954, 1953, 1952, 1951, 1950, 1949, 1948, 1947, 1946, 1945, 1944, 1943, 1942, 1941, 1940, 1939, 1938, 1937, 1936, 1935, 1934, 1933, 1932, 1931, 1930, 1929, 1928, 1927, 1926, 1925, 1924, 1923, 1922, 1921, 1920, 1919, 1918, 1917, 1916, 1915, 1914, 1913, 1912, 1911, 1910, 1909, 1908, 1907, 1906, 1905, 1904, 1903, 1902, 1901, 1900, 1899, 1898, 1897, 1896, 1895, 1894, 1893, 1892, 1891, 1890, 1889, 1888, 1887, 1886, 1885, 1884, 1883, 1882, 1881, 1880], \"y\": [0.5125597905426851, 0.5057397399518369, 0.49891968936098685, 0.4920996387701386, 0.4852795881792886, 0.4784595375884404, 0.47163948699759217, 0.46481943640674217, 0.45799938581589394, 0.4511793352250457, 0.4443592846341957, 0.4375392340433475, 0.43071918345249927, 0.42389913286164926, 0.41707908227080104, 0.4102590316799528, 0.4034389810891028, 0.3966189304982546, 0.38979887990740636, 0.38297882931655636, 0.37615877872570813, 0.3693387281348599, 0.3625186775440099, 0.3556986269531617, 0.34887857636231345, 0.34205852577146345, 0.3352384751806152, 0.3284184245897652, 0.321598373998917, 0.31477832340806877, 0.30795827281721877, 0.30113822222637054, 0.2943181716355223, 0.2874981210446723, 0.2806780704538241, 0.27385801986297587, 0.26703796927212586, 0.26021791868127764, 0.2533978680904294, 0.2465778174995794, 0.23975776690873118, 0.23293771631788296, 0.22611766572703296, 0.21929761513618473, 0.2124775645453365, 0.2056575139544865, 0.19883746336363828, 0.19201741277278828, 0.18519736218194005, 0.17837731159109182, 0.17155726100024182, 0.1647372104093936, 0.15791715981854537, 0.15109710922769537, 0.14427705863684714, 0.13745700804599892, 0.13063695745514892, 0.12381690686430069, 0.11699685627345247, 0.11017680568260246, 0.10335675509175424, 0.09653670450090601, 0.08971665391005601, 0.08289660331920778, 0.07607655272835956, 0.06925650213750956, 0.06243645154666133, 0.055616400955813106, 0.048796350364963104, 0.04197629977411488, 0.035156249183264876, 0.02833619859241665, 0.021516148001568425, 0.014696097410718423, 0.007876046819870197, 0.0010559962290219715, -0.0057640543618280304, -0.012584104952676256, -0.01940415554352448, -0.026224206134374484, -0.03304425672522271, -0.039864307316070935, -0.04668435790692094, -0.05350440849776916, -0.06032445908861739, -0.06714450967946739, -0.07396456027031562, -0.08078461086116384, -0.08760466145201384, -0.09442471204286207, -0.1012447626337103, -0.1080648132245603, -0.11488486381540852, -0.12170491440625852, -0.12852496499710675, -0.13534501558795498, -0.14216506617880498, -0.1489851167696532, -0.15580516736050143, -0.16262521795135143, -0.16944526854219966, -0.17626531913304788, -0.18308536972389788, -0.1899054203147461, -0.19672547090559434, -0.20354552149644434, -0.21036557208729256, -0.2171856226781408, -0.2240056732689908, -0.23082572385983902, -0.23764577445068724, -0.24446582504153724, -0.25128587563238547, -0.2581059262232337, -0.2649259768140837, -0.2717460274049319, -0.2785660779957819, -0.28538612858663015, -0.2922061791774784, -0.2990262297683284, -0.3058462803591766, -0.31266633095002483, -0.31948638154087483, -0.32630643213172306, -0.3331264827225713, -0.3399465333134213, -0.3467665839042695, -0.35358663449511774, -0.36040668508596774, -0.36722673567681596, -0.3740467862676642, -0.3808668368585142, -0.3876868874493624, -0.39450693804021064, -0.40132698863106064, -0.40814703922190887, -0.4149670898127571]}, {\"line\": {\"color\": \"rgb(142, 68, 173)\"}, \"name\": \"GISTEMP_Predicted\", \"opacity\": 0.8, \"type\": \"scatter\", \"x\": [2016, 2015, 2014, 2013, 2012, 2011, 2010, 2009, 2008, 2007, 2006, 2005, 2004, 2003, 2002, 2001, 2000, 1999, 1998, 1997, 1996, 1995, 1994, 1993, 1992, 1991, 1990, 1989, 1988, 1987, 1986, 1985, 1984, 1983, 1982, 1981, 1980, 1979, 1978, 1977, 1976, 1975, 1974, 1973, 1972, 1971, 1970, 1969, 1968, 1967, 1966, 1965, 1964, 1963, 1962, 1961, 1960, 1959, 1958, 1957, 1956, 1955, 1954, 1953, 1952, 1951, 1950, 1949, 1948, 1947, 1946, 1945, 1944, 1943, 1942, 1941, 1940, 1939, 1938, 1937, 1936, 1935, 1934, 1933, 1932, 1931, 1930, 1929, 1928, 1927, 1926, 1925, 1924, 1923, 1922, 1921, 1920, 1919, 1918, 1917, 1916, 1915, 1914, 1913, 1912, 1911, 1910, 1909, 1908, 1907, 1906, 1905, 1904, 1903, 1902, 1901, 1900, 1899, 1898, 1897, 1896, 1895, 1894, 1893, 1892, 1891, 1890, 1889, 1888, 1887, 1886, 1885, 1884, 1883, 1882, 1881, 1880], \"y\": [0.5108790860044436, 0.5037246812403158, 0.4965702764761897, 0.4894158717120618, 0.4822614669479339, 0.4751070621838078, 0.46795265741967995, 0.46079825265555385, 0.453643847891426, 0.4464894431272981, 0.439335038363172, 0.43218063359904413, 0.42502622883491803, 0.41787182407079015, 0.4107174193066623, 0.4035630145425362, 0.3964086097784083, 0.38925420501428043, 0.38209980025015433, 0.37494539548602646, 0.36779099072190036, 0.3606365859577725, 0.3534821811936446, 0.3463277764295185, 0.33917337166539063, 0.33201896690126453, 0.32486456213713666, 0.3177101573730088, 0.3105557526088827, 0.3034013478447548, 0.2962469430806287, 0.28909253831650084, 0.28193813355237296, 0.27478372878824686, 0.267629324024119, 0.2604749192599929, 0.253320514495865, 0.24616610973173714, 0.23901170496761104, 0.23185730020348316, 0.22470289543935706, 0.2175484906752292, 0.21039408591110131, 0.20323968114697522, 0.19608527638284734, 0.18893087161872124, 0.18177646685459337, 0.1746220620904655, 0.1674676573263394, 0.16031325256221152, 0.15315884779808542, 0.14600444303395754, 0.13885003826982967, 0.13169563350570357, 0.1245412287415757, 0.1173868239774496, 0.11023241921332172, 0.10307801444919384, 0.09592360968506775, 0.08876920492093987, 0.08161480015681377, 0.0744603953926859, 0.06730599062855802, 0.06015158586443192, 0.05299718110030405, 0.04584277633617795, 0.03868837157205007, 0.0315339668079222, 0.0243795620437961, 0.017225157279668224, 0.010070752515542125, 0.00291634775141425, -0.004238057012713625, -0.011392461776839724, -0.0185468665409676, -0.025701271305093698, -0.03285567606922157, -0.04001008083334945, -0.04716448559747555, -0.05431889036160342, -0.06147329512572952, -0.0686276998898574, -0.07578210465398527, -0.08293650941811137, -0.09009091418223925, -0.09724531894636534, -0.10439972371049322, -0.1115541284746211, -0.1187085332387472, -0.12586293800287507, -0.13301734276700117, -0.14017174753112904, -0.14732615229525692, -0.15448055705938302, -0.1616349618235109, -0.168789366587637, -0.17594377135176487, -0.18309817611589274, -0.19025258088001884, -0.19740698564414672, -0.20456139040827281, -0.2117157951724007, -0.21887019993652856, -0.22602460470065466, -0.23317900946478254, -0.24033341422890864, -0.2474878189930365, -0.2546422237571644, -0.2617966285212905, -0.26895103328541836, -0.27610543804954446, -0.28325984281367234, -0.2904142475778002, -0.2975686523419263, -0.3047230571060542, -0.31187746187018206, -0.31903186663430816, -0.32618627139843603, -0.33334067616256213, -0.34049508092669, -0.3476494856908179, -0.354803890454944, -0.36195829521907186, -0.36911269998319796, -0.37626710474732583, -0.3834215095114537, -0.3905759142755798, -0.3977303190397077, -0.4048847238038338, -0.41203912856796165, -0.41919353333208953, -0.42634793809621563, -0.4335023428603435, -0.4406567476244696, -0.4478111523885975, -0.45496555715272535, -0.46211996191685145]}],\n",
       "                        {\"paper_bgcolor\": \"rgba(233,233,233,1)\", \"plot_bgcolor\": \"rgba(240,235,228,1)\", \"template\": {\"data\": {\"bar\": [{\"error_x\": {\"color\": \"#2a3f5f\"}, \"error_y\": {\"color\": \"#2a3f5f\"}, \"marker\": {\"line\": {\"color\": \"#E5ECF6\", \"width\": 0.5}}, \"type\": \"bar\"}], \"barpolar\": [{\"marker\": {\"line\": {\"color\": \"#E5ECF6\", \"width\": 0.5}}, \"type\": \"barpolar\"}], \"carpet\": [{\"aaxis\": {\"endlinecolor\": \"#2a3f5f\", \"gridcolor\": \"white\", \"linecolor\": \"white\", \"minorgridcolor\": \"white\", \"startlinecolor\": \"#2a3f5f\"}, \"baxis\": {\"endlinecolor\": \"#2a3f5f\", \"gridcolor\": \"white\", \"linecolor\": \"white\", \"minorgridcolor\": \"white\", \"startlinecolor\": \"#2a3f5f\"}, \"type\": \"carpet\"}], \"choropleth\": [{\"colorbar\": {\"outlinewidth\": 0, \"ticks\": \"\"}, \"type\": \"choropleth\"}], \"contour\": [{\"colorbar\": {\"outlinewidth\": 0, \"ticks\": \"\"}, \"colorscale\": [[0.0, \"#0d0887\"], [0.1111111111111111, \"#46039f\"], [0.2222222222222222, \"#7201a8\"], [0.3333333333333333, \"#9c179e\"], [0.4444444444444444, \"#bd3786\"], [0.5555555555555556, \"#d8576b\"], [0.6666666666666666, \"#ed7953\"], [0.7777777777777778, \"#fb9f3a\"], [0.8888888888888888, \"#fdca26\"], [1.0, \"#f0f921\"]], \"type\": \"contour\"}], \"contourcarpet\": [{\"colorbar\": {\"outlinewidth\": 0, \"ticks\": \"\"}, \"type\": \"contourcarpet\"}], \"heatmap\": [{\"colorbar\": {\"outlinewidth\": 0, \"ticks\": \"\"}, \"colorscale\": [[0.0, \"#0d0887\"], [0.1111111111111111, \"#46039f\"], [0.2222222222222222, \"#7201a8\"], [0.3333333333333333, \"#9c179e\"], [0.4444444444444444, \"#bd3786\"], [0.5555555555555556, \"#d8576b\"], [0.6666666666666666, \"#ed7953\"], [0.7777777777777778, \"#fb9f3a\"], [0.8888888888888888, \"#fdca26\"], [1.0, \"#f0f921\"]], \"type\": \"heatmap\"}], \"heatmapgl\": [{\"colorbar\": {\"outlinewidth\": 0, \"ticks\": \"\"}, \"colorscale\": [[0.0, \"#0d0887\"], [0.1111111111111111, \"#46039f\"], [0.2222222222222222, \"#7201a8\"], [0.3333333333333333, \"#9c179e\"], [0.4444444444444444, \"#bd3786\"], [0.5555555555555556, \"#d8576b\"], [0.6666666666666666, \"#ed7953\"], [0.7777777777777778, \"#fb9f3a\"], [0.8888888888888888, \"#fdca26\"], [1.0, \"#f0f921\"]], \"type\": \"heatmapgl\"}], \"histogram\": [{\"marker\": {\"colorbar\": {\"outlinewidth\": 0, \"ticks\": \"\"}}, \"type\": \"histogram\"}], \"histogram2d\": [{\"colorbar\": {\"outlinewidth\": 0, \"ticks\": \"\"}, \"colorscale\": [[0.0, \"#0d0887\"], [0.1111111111111111, \"#46039f\"], [0.2222222222222222, \"#7201a8\"], [0.3333333333333333, \"#9c179e\"], [0.4444444444444444, \"#bd3786\"], [0.5555555555555556, \"#d8576b\"], [0.6666666666666666, \"#ed7953\"], [0.7777777777777778, \"#fb9f3a\"], [0.8888888888888888, \"#fdca26\"], [1.0, \"#f0f921\"]], \"type\": \"histogram2d\"}], \"histogram2dcontour\": [{\"colorbar\": {\"outlinewidth\": 0, \"ticks\": \"\"}, \"colorscale\": [[0.0, \"#0d0887\"], [0.1111111111111111, \"#46039f\"], [0.2222222222222222, \"#7201a8\"], [0.3333333333333333, \"#9c179e\"], [0.4444444444444444, \"#bd3786\"], [0.5555555555555556, \"#d8576b\"], [0.6666666666666666, \"#ed7953\"], [0.7777777777777778, \"#fb9f3a\"], [0.8888888888888888, \"#fdca26\"], [1.0, \"#f0f921\"]], \"type\": \"histogram2dcontour\"}], \"mesh3d\": [{\"colorbar\": {\"outlinewidth\": 0, \"ticks\": \"\"}, \"type\": \"mesh3d\"}], \"parcoords\": [{\"line\": {\"colorbar\": {\"outlinewidth\": 0, \"ticks\": \"\"}}, \"type\": \"parcoords\"}], \"scatter\": [{\"marker\": {\"colorbar\": {\"outlinewidth\": 0, \"ticks\": \"\"}}, \"type\": \"scatter\"}], \"scatter3d\": [{\"line\": {\"colorbar\": {\"outlinewidth\": 0, \"ticks\": \"\"}}, \"marker\": {\"colorbar\": {\"outlinewidth\": 0, \"ticks\": \"\"}}, \"type\": \"scatter3d\"}], \"scattercarpet\": [{\"marker\": {\"colorbar\": {\"outlinewidth\": 0, \"ticks\": \"\"}}, \"type\": \"scattercarpet\"}], \"scattergeo\": [{\"marker\": {\"colorbar\": {\"outlinewidth\": 0, \"ticks\": \"\"}}, \"type\": \"scattergeo\"}], \"scattergl\": [{\"marker\": {\"colorbar\": {\"outlinewidth\": 0, \"ticks\": \"\"}}, \"type\": \"scattergl\"}], \"scattermapbox\": [{\"marker\": {\"colorbar\": {\"outlinewidth\": 0, \"ticks\": \"\"}}, \"type\": \"scattermapbox\"}], \"scatterpolar\": [{\"marker\": {\"colorbar\": {\"outlinewidth\": 0, \"ticks\": \"\"}}, \"type\": \"scatterpolar\"}], \"scatterpolargl\": [{\"marker\": {\"colorbar\": {\"outlinewidth\": 0, \"ticks\": \"\"}}, \"type\": \"scatterpolargl\"}], \"scatterternary\": [{\"marker\": {\"colorbar\": {\"outlinewidth\": 0, \"ticks\": \"\"}}, \"type\": \"scatterternary\"}], \"surface\": [{\"colorbar\": {\"outlinewidth\": 0, \"ticks\": \"\"}, \"colorscale\": [[0.0, \"#0d0887\"], [0.1111111111111111, \"#46039f\"], [0.2222222222222222, \"#7201a8\"], [0.3333333333333333, \"#9c179e\"], [0.4444444444444444, \"#bd3786\"], [0.5555555555555556, \"#d8576b\"], [0.6666666666666666, \"#ed7953\"], [0.7777777777777778, \"#fb9f3a\"], [0.8888888888888888, \"#fdca26\"], [1.0, \"#f0f921\"]], \"type\": \"surface\"}], \"table\": [{\"cells\": {\"fill\": {\"color\": \"#EBF0F8\"}, \"line\": {\"color\": \"white\"}}, \"header\": {\"fill\": {\"color\": \"#C8D4E3\"}, \"line\": {\"color\": \"white\"}}, \"type\": \"table\"}]}, \"layout\": {\"annotationdefaults\": {\"arrowcolor\": \"#2a3f5f\", \"arrowhead\": 0, \"arrowwidth\": 1}, \"colorscale\": {\"diverging\": [[0, \"#8e0152\"], [0.1, \"#c51b7d\"], [0.2, \"#de77ae\"], [0.3, \"#f1b6da\"], [0.4, \"#fde0ef\"], [0.5, \"#f7f7f7\"], [0.6, \"#e6f5d0\"], [0.7, \"#b8e186\"], [0.8, \"#7fbc41\"], [0.9, \"#4d9221\"], [1, \"#276419\"]], \"sequential\": [[0.0, \"#0d0887\"], [0.1111111111111111, \"#46039f\"], [0.2222222222222222, \"#7201a8\"], [0.3333333333333333, \"#9c179e\"], [0.4444444444444444, \"#bd3786\"], [0.5555555555555556, \"#d8576b\"], [0.6666666666666666, \"#ed7953\"], [0.7777777777777778, \"#fb9f3a\"], [0.8888888888888888, \"#fdca26\"], [1.0, \"#f0f921\"]], \"sequentialminus\": [[0.0, \"#0d0887\"], [0.1111111111111111, \"#46039f\"], [0.2222222222222222, \"#7201a8\"], [0.3333333333333333, \"#9c179e\"], [0.4444444444444444, \"#bd3786\"], [0.5555555555555556, \"#d8576b\"], [0.6666666666666666, \"#ed7953\"], [0.7777777777777778, \"#fb9f3a\"], [0.8888888888888888, \"#fdca26\"], [1.0, \"#f0f921\"]]}, \"colorway\": [\"#636efa\", \"#EF553B\", \"#00cc96\", \"#ab63fa\", \"#FFA15A\", \"#19d3f3\", \"#FF6692\", \"#B6E880\", \"#FF97FF\", \"#FECB52\"], \"font\": {\"color\": \"#2a3f5f\"}, \"geo\": {\"bgcolor\": \"white\", \"lakecolor\": \"white\", \"landcolor\": \"#E5ECF6\", \"showlakes\": true, \"showland\": true, \"subunitcolor\": \"white\"}, \"hoverlabel\": {\"align\": \"left\"}, \"hovermode\": \"closest\", \"mapbox\": {\"style\": \"light\"}, \"paper_bgcolor\": \"white\", \"plot_bgcolor\": \"#E5ECF6\", \"polar\": {\"angularaxis\": {\"gridcolor\": \"white\", \"linecolor\": \"white\", \"ticks\": \"\"}, \"bgcolor\": \"#E5ECF6\", \"radialaxis\": {\"gridcolor\": \"white\", \"linecolor\": \"white\", \"ticks\": \"\"}}, \"scene\": {\"xaxis\": {\"backgroundcolor\": \"#E5ECF6\", \"gridcolor\": \"white\", \"gridwidth\": 2, \"linecolor\": \"white\", \"showbackground\": true, \"ticks\": \"\", \"zerolinecolor\": \"white\"}, \"yaxis\": {\"backgroundcolor\": \"#E5ECF6\", \"gridcolor\": \"white\", \"gridwidth\": 2, \"linecolor\": \"white\", \"showbackground\": true, \"ticks\": \"\", \"zerolinecolor\": \"white\"}, \"zaxis\": {\"backgroundcolor\": \"#E5ECF6\", \"gridcolor\": \"white\", \"gridwidth\": 2, \"linecolor\": \"white\", \"showbackground\": true, \"ticks\": \"\", \"zerolinecolor\": \"white\"}}, \"shapedefaults\": {\"line\": {\"color\": \"#2a3f5f\"}}, \"ternary\": {\"aaxis\": {\"gridcolor\": \"white\", \"linecolor\": \"white\", \"ticks\": \"\"}, \"baxis\": {\"gridcolor\": \"white\", \"linecolor\": \"white\", \"ticks\": \"\"}, \"bgcolor\": \"#E5ECF6\", \"caxis\": {\"gridcolor\": \"white\", \"linecolor\": \"white\", \"ticks\": \"\"}}, \"title\": {\"x\": 0.05}, \"xaxis\": {\"automargin\": true, \"gridcolor\": \"white\", \"linecolor\": \"white\", \"ticks\": \"\", \"zerolinecolor\": \"white\", \"zerolinewidth\": 2}, \"yaxis\": {\"automargin\": true, \"gridcolor\": \"white\", \"linecolor\": \"white\", \"ticks\": \"\", \"zerolinecolor\": \"white\", \"zerolinewidth\": 2}}}, \"title\": {\"font\": {\"family\": \"Times New Roman\", \"size\": 22}, \"text\": \"Change in Temperature between 1880 ~ 2016\", \"x\": 0.5}, \"xaxis\": {\"color\": \"black\", \"showgrid\": true, \"title\": {\"text\": \"Year\"}}, \"yaxis\": {\"color\": \"black\", \"showgrid\": true, \"title\": {\"text\": \"Temperature Change\"}}},\n",
       "                        {\"responsive\": true}\n",
       "                    ).then(function(){\n",
       "                            \n",
       "var gd = document.getElementById('d16f0a89-bd99-4d85-aa5b-f2d942b552bb');\n",
       "var x = new MutationObserver(function (mutations, observer) {{\n",
       "        var display = window.getComputedStyle(gd).display;\n",
       "        if (!display || display === 'none') {{\n",
       "            console.log([gd, 'removed!']);\n",
       "            Plotly.purge(gd);\n",
       "            observer.disconnect();\n",
       "        }}\n",
       "}});\n",
       "\n",
       "// Listen for the removal of the full notebook cells\n",
       "var notebookContainer = gd.closest('#notebook-container');\n",
       "if (notebookContainer) {{\n",
       "    x.observe(notebookContainer, {childList: true});\n",
       "}}\n",
       "\n",
       "// Listen for the clearing of the current output cell\n",
       "var outputEl = gd.closest('.output');\n",
       "if (outputEl) {{\n",
       "    x.observe(outputEl, {childList: true});\n",
       "}}\n",
       "\n",
       "                        })\n",
       "                };\n",
       "                });\n",
       "            </script>\n",
       "        </div>"
      ]
     },
     "metadata": {},
     "output_type": "display_data"
    }
   ],
   "source": [
    "fig = go.Figure( layout=go.Layout(\n",
    "        xaxis=dict(showgrid = True,title = \"Year\", color = 'black'),\n",
    "        yaxis=dict(showgrid = True,title = \"Temperature Change\", color = 'black'),\n",
    "    ))\n",
    "\n",
    "fig.add_trace(go.Scatter(\n",
    "                x=df_final.Year,\n",
    "                y=df_final['GCAG_Mean'],\n",
    "                name=\"GCAG_Mean\",\n",
    "                line_color= 'rgb(203, 67, 53)',\n",
    "                opacity=0.8))\n",
    "\n",
    "fig.add_trace(go.Scatter(\n",
    "                x=df_final.Year,\n",
    "                y=df_final['GISTEMP_Mean'],\n",
    "                name=\"GISTEMP_Mean\",\n",
    "                line_color='rgb(40, 116, 166)',\n",
    "                opacity=0.8))\n",
    "\n",
    "fig.add_trace(go.Scatter(\n",
    "                x = df_final.Year,\n",
    "                y = pred_gcag,\n",
    "                name=\"GCAG_Predicted\",\n",
    "                line_color='rgb(22, 160, 133)',\n",
    "                opacity=0.8))\n",
    "\n",
    "fig.add_trace(go.Scatter(\n",
    "                x = df_final.Year,\n",
    "                y = pred_gistemp,\n",
    "                name=\"GISTEMP_Predicted\",\n",
    "                line_color='rgb(142, 68, 173)',\n",
    "                opacity=0.8))\n",
    "\n",
    "# Use date string to set xaxis range\n",
    "fig.update_layout(title_text = \"Change in Temperature between 1880 ~ 2016\", title_x=0.5, title_font_family=\"Times New Roman\", \\\n",
    "                  title_font_size = 22, paper_bgcolor = 'rgba(233,233,233,1)', plot_bgcolor = 'rgba(240,235,228,1)')\n",
    "fig.show()"
   ]
  },
  {
   "cell_type": "markdown",
   "metadata": {},
   "source": [
    "## Smoother prediction line with Polynomial Features"
   ]
  },
  {
   "cell_type": "code",
   "execution_count": 30,
   "metadata": {},
   "outputs": [
    {
     "data": {
      "text/plain": [
       "LinearRegression()"
      ]
     },
     "execution_count": 30,
     "metadata": {},
     "output_type": "execute_result"
    }
   ],
   "source": [
    "from sklearn.preprocessing import PolynomialFeatures\n",
    "poly_reg = PolynomialFeatures(degree = 2)\n",
    "X_poly = poly_reg.fit_transform(X)\n",
    "poly_reg.fit(X_poly, GCAG_y)\n",
    "lin_reg_2 = LinearRegression()\n",
    "lin_reg_2.fit(X_poly, GCAG_y)"
   ]
  },
  {
   "cell_type": "code",
   "execution_count": 31,
   "metadata": {},
   "outputs": [
    {
     "data": {
      "text/plain": [
       "LinearRegression()"
      ]
     },
     "execution_count": 31,
     "metadata": {},
     "output_type": "execute_result"
    }
   ],
   "source": [
    "poly_reg.fit(X_poly, GISTEMP_y)\n",
    "lin_reg_3 = LinearRegression()\n",
    "lin_reg_3.fit(X_poly, GISTEMP_y)"
   ]
  },
  {
   "cell_type": "code",
   "execution_count": 32,
   "metadata": {},
   "outputs": [],
   "source": [
    "pred_poly_gcag = lin_reg_2.predict(X_poly)"
   ]
  },
  {
   "cell_type": "code",
   "execution_count": 33,
   "metadata": {},
   "outputs": [],
   "source": [
    "pred_poly_gistemp = lin_reg_3.predict(X_poly)"
   ]
  },
  {
   "cell_type": "code",
   "execution_count": 34,
   "metadata": {
    "scrolled": false
   },
   "outputs": [
    {
     "data": {
      "application/vnd.plotly.v1+json": {
       "config": {
        "plotlyServerURL": "https://plot.ly"
       },
       "data": [
        {
         "line": {
          "color": "rgb(203, 67, 53)"
         },
         "name": "GCAG_Mean",
         "opacity": 0.8,
         "type": "scatter",
         "x": [
          2016,
          2015,
          2014,
          2013,
          2012,
          2011,
          2010,
          2009,
          2008,
          2007,
          2006,
          2005,
          2004,
          2003,
          2002,
          2001,
          2000,
          1999,
          1998,
          1997,
          1996,
          1995,
          1994,
          1993,
          1992,
          1991,
          1990,
          1989,
          1988,
          1987,
          1986,
          1985,
          1984,
          1983,
          1982,
          1981,
          1980,
          1979,
          1978,
          1977,
          1976,
          1975,
          1974,
          1973,
          1972,
          1971,
          1970,
          1969,
          1968,
          1967,
          1966,
          1965,
          1964,
          1963,
          1962,
          1961,
          1960,
          1959,
          1958,
          1957,
          1956,
          1955,
          1954,
          1953,
          1952,
          1951,
          1950,
          1949,
          1948,
          1947,
          1946,
          1945,
          1944,
          1943,
          1942,
          1941,
          1940,
          1939,
          1938,
          1937,
          1936,
          1935,
          1934,
          1933,
          1932,
          1931,
          1930,
          1929,
          1928,
          1927,
          1926,
          1925,
          1924,
          1923,
          1922,
          1921,
          1920,
          1919,
          1918,
          1917,
          1916,
          1915,
          1914,
          1913,
          1912,
          1911,
          1910,
          1909,
          1908,
          1907,
          1906,
          1905,
          1904,
          1903,
          1902,
          1901,
          1900,
          1899,
          1898,
          1897,
          1896,
          1895,
          1894,
          1893,
          1892,
          1891,
          1890,
          1889,
          1888,
          1887,
          1886,
          1885,
          1884,
          1883,
          1882,
          1881,
          1880
         ],
         "y": [
          0.9363,
          0.8998,
          0.7408,
          0.6679,
          0.624,
          0.5788,
          0.7014,
          0.6367,
          0.5419,
          0.61,
          0.6125,
          0.6585,
          0.5783,
          0.6134,
          0.6023,
          0.5473,
          0.4262,
          0.4438,
          0.6344,
          0.5187,
          0.3228,
          0.4577,
          0.3409,
          0.2853,
          0.2571,
          0.4055,
          0.4328,
          0.297,
          0.3757,
          0.3696,
          0.2296,
          0.1342,
          0.149,
          0.3411,
          0.1815,
          0.2999,
          0.2637,
          0.2273,
          0.1123,
          0.1978,
          -0.0792,
          0.0034,
          -0.0719,
          0.1641,
          0.0264,
          -0.0783,
          0.0372,
          0.0929,
          -0.0296,
          -0.0131,
          -0.0227,
          -0.078,
          -0.1495,
          0.1068,
          0.0888,
          0.0775,
          0.0204,
          0.0596,
          0.1095,
          0.0488,
          -0.199,
          -0.1354,
          -0.1165,
          0.0952,
          0.0248,
          -0.0132,
          -0.1616,
          -0.0568,
          -0.0487,
          -0.0477,
          -0.004,
          0.171,
          0.2928,
          0.157,
          0.1538,
          0.196,
          0.0947,
          -0.0139,
          -0.0288,
          -0.0157,
          -0.1134,
          -0.1392,
          -0.1015,
          -0.2439,
          -0.1168,
          -0.0686,
          -0.1003,
          -0.2985,
          -0.1774,
          -0.1546,
          -0.0667,
          -0.1481,
          -0.2486,
          -0.2156,
          -0.2304,
          -0.1485,
          -0.2105,
          -0.2055,
          -0.2084,
          -0.3146,
          -0.293,
          -0.0693,
          -0.1395,
          -0.3162,
          -0.3288,
          -0.4332,
          -0.3789,
          -0.4261,
          -0.4396,
          -0.3706,
          -0.2174,
          -0.2931,
          -0.4194,
          -0.3369,
          -0.2463,
          -0.1417,
          -0.0679,
          -0.1173,
          -0.2546,
          -0.1224,
          -0.0974,
          -0.229,
          -0.2808,
          -0.3212,
          -0.3062,
          -0.2532,
          -0.322,
          -0.0982,
          -0.1471,
          -0.2489,
          -0.2003,
          -0.2125,
          -0.2009,
          -0.1424,
          -0.0648,
          -0.0628,
          -0.1148
         ]
        },
        {
         "line": {
          "color": "rgb(40, 116, 166)"
         },
         "name": "GISTEMP_Mean",
         "opacity": 0.8,
         "type": "scatter",
         "x": [
          2016,
          2015,
          2014,
          2013,
          2012,
          2011,
          2010,
          2009,
          2008,
          2007,
          2006,
          2005,
          2004,
          2003,
          2002,
          2001,
          2000,
          1999,
          1998,
          1997,
          1996,
          1995,
          1994,
          1993,
          1992,
          1991,
          1990,
          1989,
          1988,
          1987,
          1986,
          1985,
          1984,
          1983,
          1982,
          1981,
          1980,
          1979,
          1978,
          1977,
          1976,
          1975,
          1974,
          1973,
          1972,
          1971,
          1970,
          1969,
          1968,
          1967,
          1966,
          1965,
          1964,
          1963,
          1962,
          1961,
          1960,
          1959,
          1958,
          1957,
          1956,
          1955,
          1954,
          1953,
          1952,
          1951,
          1950,
          1949,
          1948,
          1947,
          1946,
          1945,
          1944,
          1943,
          1942,
          1941,
          1940,
          1939,
          1938,
          1937,
          1936,
          1935,
          1934,
          1933,
          1932,
          1931,
          1930,
          1929,
          1928,
          1927,
          1926,
          1925,
          1924,
          1923,
          1922,
          1921,
          1920,
          1919,
          1918,
          1917,
          1916,
          1915,
          1914,
          1913,
          1912,
          1911,
          1910,
          1909,
          1908,
          1907,
          1906,
          1905,
          1904,
          1903,
          1902,
          1901,
          1900,
          1899,
          1898,
          1897,
          1896,
          1895,
          1894,
          1893,
          1892,
          1891,
          1890,
          1889,
          1888,
          1887,
          1886,
          1885,
          1884,
          1883,
          1882,
          1881,
          1880
         ],
         "y": [
          0.99,
          0.87,
          0.74,
          0.65,
          0.63,
          0.6,
          0.71,
          0.64,
          0.54,
          0.66,
          0.63,
          0.69,
          0.55,
          0.62,
          0.63,
          0.55,
          0.42,
          0.42,
          0.64,
          0.48,
          0.35,
          0.46,
          0.32,
          0.24,
          0.23,
          0.43,
          0.44,
          0.29,
          0.41,
          0.33,
          0.19,
          0.12,
          0.15,
          0.3,
          0.13,
          0.33,
          0.27,
          0.17,
          0.07,
          0.18,
          -0.11,
          -0.02,
          -0.07,
          0.15,
          0.01,
          -0.09,
          0.02,
          0.07,
          -0.07,
          -0.02,
          -0.05,
          -0.1,
          -0.2,
          0.06,
          0.03,
          0.05,
          -0.02,
          0.03,
          0.07,
          0.04,
          -0.2,
          -0.15,
          -0.13,
          0.08,
          0.01,
          -0.07,
          -0.18,
          -0.09,
          -0.09,
          -0.05,
          -0.04,
          0.12,
          0.25,
          0.13,
          0.09,
          0.12,
          0.08,
          -0.03,
          -0.03,
          -0.03,
          -0.15,
          -0.2,
          -0.14,
          -0.29,
          -0.17,
          -0.09,
          -0.15,
          -0.36,
          -0.21,
          -0.21,
          -0.1,
          -0.21,
          -0.28,
          -0.24,
          -0.28,
          -0.21,
          -0.27,
          -0.22,
          -0.26,
          -0.4,
          -0.34,
          -0.11,
          -0.16,
          -0.34,
          -0.35,
          -0.44,
          -0.42,
          -0.47,
          -0.43,
          -0.4,
          -0.23,
          -0.28,
          -0.44,
          -0.35,
          -0.27,
          -0.15,
          -0.09,
          -0.16,
          -0.28,
          -0.11,
          -0.15,
          -0.21,
          -0.31,
          -0.3,
          -0.27,
          -0.24,
          -0.37,
          -0.12,
          -0.2,
          -0.33,
          -0.31,
          -0.32,
          -0.28,
          -0.21,
          -0.1,
          -0.12,
          -0.2
         ]
        },
        {
         "line": {
          "color": "rgb(22, 160, 133)"
         },
         "name": "GCAG_Predicted Poly",
         "opacity": 0.8,
         "type": "scatter",
         "x": [
          2016,
          2015,
          2014,
          2013,
          2012,
          2011,
          2010,
          2009,
          2008,
          2007,
          2006,
          2005,
          2004,
          2003,
          2002,
          2001,
          2000,
          1999,
          1998,
          1997,
          1996,
          1995,
          1994,
          1993,
          1992,
          1991,
          1990,
          1989,
          1988,
          1987,
          1986,
          1985,
          1984,
          1983,
          1982,
          1981,
          1980,
          1979,
          1978,
          1977,
          1976,
          1975,
          1974,
          1973,
          1972,
          1971,
          1970,
          1969,
          1968,
          1967,
          1966,
          1965,
          1964,
          1963,
          1962,
          1961,
          1960,
          1959,
          1958,
          1957,
          1956,
          1955,
          1954,
          1953,
          1952,
          1951,
          1950,
          1949,
          1948,
          1947,
          1946,
          1945,
          1944,
          1943,
          1942,
          1941,
          1940,
          1939,
          1938,
          1937,
          1936,
          1935,
          1934,
          1933,
          1932,
          1931,
          1930,
          1929,
          1928,
          1927,
          1926,
          1925,
          1924,
          1923,
          1922,
          1921,
          1920,
          1919,
          1918,
          1917,
          1916,
          1915,
          1914,
          1913,
          1912,
          1911,
          1910,
          1909,
          1908,
          1907,
          1906,
          1905,
          1904,
          1903,
          1902,
          1901,
          1900,
          1899,
          1898,
          1897,
          1896,
          1895,
          1894,
          1893,
          1892,
          1891,
          1890,
          1889,
          1888,
          1887,
          1886,
          1885,
          1884,
          1883,
          1882,
          1881,
          1880
         ],
         "y": [
          0.7511258504230796,
          0.7337808266022421,
          0.7165917283108456,
          0.6995585555486628,
          0.6826813083158072,
          0.6659599866124495,
          0.6493945904382485,
          0.6329851197933749,
          0.6167315746778854,
          0.6006339550918369,
          0.5846922610349452,
          0.5689064925074376,
          0.553276649509371,
          0.5378027320405181,
          0.5224847401009924,
          0.5073226736909646,
          0.4923165328100936,
          0.47746631745854984,
          0.46277202763650394,
          0.4482336633436148,
          0.43385122458010983,
          0.4196247113458753,
          0.40555412364113863,
          0.39163946146561557,
          0.3778807248194198,
          0.36427791370266505,
          0.3508310281151239,
          0.33754006805691006,
          0.32440503352819405,
          0.3114259245286348,
          0.29860274105845974,
          0.2859354831176688,
          0.27342415070614834,
          0.2610687438239552,
          0.24886926247114616,
          0.2368257066476076,
          0.22493807635339635,
          0.2132063715885124,
          0.2016305923531263,
          0.19021073864689697,
          0.17894681046999494,
          0.16783880782259075,
          0.15688673070434334,
          0.14609057911548007,
          0.13545035305600095,
          0.12496605252579229,
          0.11463767752491094,
          0.10446522805347058,
          0.09444870411124384,
          0.0845881056983444,
          0.07488343281488596,
          0.06533468546064114,
          0.055941863635780464,
          0.04670496734019025,
          0.03762399657409787,
          0.02869895133716227,
          0.019929831629610817,
          0.011316637451500355,
          0.0028593688026035124,
          -0.005441974316966025,
          -0.01358739190709457,
          -0.021576883968009497,
          -0.02941045049959712,
          -0.037088091501686904,
          -0.044609806974619914,
          -0.05197559691822562,
          -0.059185461332447176,
          -0.06623940021722774,
          -0.07313741357285153,
          -0.07987950139909117,
          -0.08646566369588982,
          -0.09289590046347485,
          -0.09917021170173257,
          -0.1052885974105493,
          -0.11125105759009557,
          -0.11705759224037138,
          -0.12270820136114935,
          -0.12820288495277055,
          -0.1335416430150076,
          -0.1387244755478605,
          -0.14375138255144293,
          -0.14862236402569806,
          -0.1533374199706259,
          -0.15789655038611272,
          -0.16229975527238594,
          -0.16654703462933185,
          -0.17063838845677992,
          -0.17457381675507122,
          -0.17835331952403521,
          -0.18197689676350137,
          -0.1854445484737539,
          -0.188756274654736,
          -0.19191207530622023,
          -0.19491195042849085,
          -0.19775590002143417,
          -0.2004439240849365,
          -0.2029760226192252,
          -0.20535219562412976,
          -0.20757244309976386,
          -0.20963676504595696,
          -0.2115451614628796,
          -0.21329763235053179,
          -0.21489417770868613,
          -0.21633479753762686,
          -0.21761949183724028,
          -0.2187482606074127,
          -0.2197211038483715,
          -0.22053802156000302,
          -0.22119901374219353,
          -0.22170408039517042,
          -0.22205322151876317,
          -0.22224643711308545,
          -0.22228372717796674,
          -0.22216509171357757,
          -0.2218905307198611,
          -0.22146004419670362,
          -0.22087363214438938,
          -0.22013129456269098,
          -0.21923303145149475,
          -0.21817884281114175,
          -0.21696872864146144,
          -0.21560268894234014,
          -0.21408072371394837,
          -0.21240283295628615,
          -0.21056901666912609,
          -0.20857927485280925,
          -0.20643360750710826,
          -0.20413201463207997,
          -0.2016744962276107,
          -0.1990610522939278,
          -0.19629168283091758,
          -0.19336638783846638,
          -0.19028516731680156,
          -0.1870480212657526,
          -0.18365494968531948,
          -0.1801059525756159,
          -0.17640102993664186
         ]
        },
        {
         "line": {
          "color": "rgb(142, 68, 173)"
         },
         "name": "GISTEMP_Predicted Poly",
         "opacity": 0.8,
         "type": "scatter",
         "x": [
          2016,
          2015,
          2014,
          2013,
          2012,
          2011,
          2010,
          2009,
          2008,
          2007,
          2006,
          2005,
          2004,
          2003,
          2002,
          2001,
          2000,
          1999,
          1998,
          1997,
          1996,
          1995,
          1994,
          1993,
          1992,
          1991,
          1990,
          1989,
          1988,
          1987,
          1986,
          1985,
          1984,
          1983,
          1982,
          1981,
          1980,
          1979,
          1978,
          1977,
          1976,
          1975,
          1974,
          1973,
          1972,
          1971,
          1970,
          1969,
          1968,
          1967,
          1966,
          1965,
          1964,
          1963,
          1962,
          1961,
          1960,
          1959,
          1958,
          1957,
          1956,
          1955,
          1954,
          1953,
          1952,
          1951,
          1950,
          1949,
          1948,
          1947,
          1946,
          1945,
          1944,
          1943,
          1942,
          1941,
          1940,
          1939,
          1938,
          1937,
          1936,
          1935,
          1934,
          1933,
          1932,
          1931,
          1930,
          1929,
          1928,
          1927,
          1926,
          1925,
          1924,
          1923,
          1922,
          1921,
          1920,
          1919,
          1918,
          1917,
          1916,
          1915,
          1914,
          1913,
          1912,
          1911,
          1910,
          1909,
          1908,
          1907,
          1906,
          1905,
          1904,
          1903,
          1902,
          1901,
          1900,
          1899,
          1898,
          1897,
          1896,
          1895,
          1894,
          1893,
          1892,
          1891,
          1890,
          1889,
          1888,
          1887,
          1886,
          1885,
          1884,
          1883,
          1882,
          1881,
          1880
         ],
         "y": [
          0.7609860521550331,
          0.7427975165311977,
          0.7247724495126135,
          0.7069108510994511,
          0.6892127212914829,
          0.6716780600889365,
          0.6543068674917549,
          0.6370991434998245,
          0.6200548881133159,
          0.6031741013320016,
          0.5864567831561089,
          0.5699029335854675,
          0.5535125526203046,
          0.5372856402603361,
          0.5212221965057893,
          0.5053222213564936,
          0.4895857148126197,
          0.4740126768740538,
          0.4586031075407391,
          0.44335700681284607,
          0.42827437469020424,
          0.4133552111729841,
          0.39859951626095835,
          0.38400728995441114,
          0.3695785322531151,
          0.35531324315718393,
          0.3412114226665608,
          0.3272730707813025,
          0.31349818750129543,
          0.29988677282671006,
          0.28643882675748955,
          0.2731543492934634,
          0.26003334043491577,
          0.2470758001815625,
          0.23428172853363094,
          0.22165112549095056,
          0.2091839910536919,
          0.19688032522168442,
          0.18474012799509865,
          0.17276339937370722,
          0.16095013935779434,
          0.1493003479470758,
          0.13781402514183583,
          0.12649117094190387,
          0.11533178534716626,
          0.1043358683579072,
          0.09350341997384248,
          0.08283444019525632,
          0.0723289290218645,
          0.061986886453894385,
          0.05180831249117546,
          0.04179320713387824,
          0.03194157038183221,
          0.022253402235207886,
          0.012728702693948435,
          0.0033674717578833224,
          -0.005830290572760077,
          -0.014864584298152295,
          -0.0237354094181228,
          -0.032442765932898965,
          -0.040986653842196574,
          -0.049367073146299845,
          -0.05758402384492456,
          -0.06563750593835493,
          -0.07352751942630675,
          -0.08125406430906423,
          -0.0888171405864,
          -0.0962167482583709,
          -0.10345288732514746,
          -0.11052555778644546,
          -0.11743475964254912,
          -0.12418049289323108,
          -0.13076275753866184,
          -0.1371815535786709,
          -0.14343688101342877,
          -0.14952873984276494,
          -0.15545713006690676,
          -0.16122205168557002,
          -0.16682350469892526,
          -0.17226148910702932,
          -0.17753600490971166,
          -0.18264705210719967,
          -0.18759463069920912,
          -0.1923787406859674,
          -0.19699938206736078,
          -0.201456554843503,
          -0.20575025901416666,
          -0.20988049457963598,
          -0.2138472615396836,
          -0.21765055989448,
          -0.22129038964385472,
          -0.2247667507879214,
          -0.2280796433267369,
          -0.23122906726007386,
          -0.23421502258827331,
          -0.2370375093109942,
          -0.23969652742846392,
          -0.24219207694051192,
          -0.2445241578473656,
          -0.2466927701487407,
          -0.24869791384492146,
          -0.25053958893562367,
          -0.25221779542113154,
          -0.2537325333012177,
          -0.255083802575939,
          -0.25627160324546594,
          -0.25729593530951433,
          -0.2581567987683684,
          -0.25885419362180073,
          -0.2593881198699819,
          -0.25975857751274134,
          -0.2599655665502496,
          -0.26000908698233616,
          -0.25988913880922837,
          -0.259605722030642,
          -0.25915883664674766,
          -0.2585484826576021,
          -0.25777466006303484,
          -0.2568373688632164,
          -0.25573660905797624,
          -0.25447238064754174,
          -0.2530446836316287,
          -0.2514535180105213,
          -0.2496988837839922,
          -0.2477807809522119,
          -0.2456992095150099,
          -0.24345416947255671,
          -0.24104566082468182,
          -0.23847368357144205,
          -0.23573823771300795,
          -0.23283932324915213,
          -0.22977694018004513,
          -0.22655108850551642,
          -0.22316176822573652,
          -0.21960897934053492,
          -0.21589272185013897,
          -0.21201299575426447
         ]
        }
       ],
       "layout": {
        "paper_bgcolor": "rgba(233,233,233,1)",
        "plot_bgcolor": "rgba(240,235,228,1)",
        "template": {
         "data": {
          "bar": [
           {
            "error_x": {
             "color": "#2a3f5f"
            },
            "error_y": {
             "color": "#2a3f5f"
            },
            "marker": {
             "line": {
              "color": "#E5ECF6",
              "width": 0.5
             }
            },
            "type": "bar"
           }
          ],
          "barpolar": [
           {
            "marker": {
             "line": {
              "color": "#E5ECF6",
              "width": 0.5
             }
            },
            "type": "barpolar"
           }
          ],
          "carpet": [
           {
            "aaxis": {
             "endlinecolor": "#2a3f5f",
             "gridcolor": "white",
             "linecolor": "white",
             "minorgridcolor": "white",
             "startlinecolor": "#2a3f5f"
            },
            "baxis": {
             "endlinecolor": "#2a3f5f",
             "gridcolor": "white",
             "linecolor": "white",
             "minorgridcolor": "white",
             "startlinecolor": "#2a3f5f"
            },
            "type": "carpet"
           }
          ],
          "choropleth": [
           {
            "colorbar": {
             "outlinewidth": 0,
             "ticks": ""
            },
            "type": "choropleth"
           }
          ],
          "contour": [
           {
            "colorbar": {
             "outlinewidth": 0,
             "ticks": ""
            },
            "colorscale": [
             [
              0,
              "#0d0887"
             ],
             [
              0.1111111111111111,
              "#46039f"
             ],
             [
              0.2222222222222222,
              "#7201a8"
             ],
             [
              0.3333333333333333,
              "#9c179e"
             ],
             [
              0.4444444444444444,
              "#bd3786"
             ],
             [
              0.5555555555555556,
              "#d8576b"
             ],
             [
              0.6666666666666666,
              "#ed7953"
             ],
             [
              0.7777777777777778,
              "#fb9f3a"
             ],
             [
              0.8888888888888888,
              "#fdca26"
             ],
             [
              1,
              "#f0f921"
             ]
            ],
            "type": "contour"
           }
          ],
          "contourcarpet": [
           {
            "colorbar": {
             "outlinewidth": 0,
             "ticks": ""
            },
            "type": "contourcarpet"
           }
          ],
          "heatmap": [
           {
            "colorbar": {
             "outlinewidth": 0,
             "ticks": ""
            },
            "colorscale": [
             [
              0,
              "#0d0887"
             ],
             [
              0.1111111111111111,
              "#46039f"
             ],
             [
              0.2222222222222222,
              "#7201a8"
             ],
             [
              0.3333333333333333,
              "#9c179e"
             ],
             [
              0.4444444444444444,
              "#bd3786"
             ],
             [
              0.5555555555555556,
              "#d8576b"
             ],
             [
              0.6666666666666666,
              "#ed7953"
             ],
             [
              0.7777777777777778,
              "#fb9f3a"
             ],
             [
              0.8888888888888888,
              "#fdca26"
             ],
             [
              1,
              "#f0f921"
             ]
            ],
            "type": "heatmap"
           }
          ],
          "heatmapgl": [
           {
            "colorbar": {
             "outlinewidth": 0,
             "ticks": ""
            },
            "colorscale": [
             [
              0,
              "#0d0887"
             ],
             [
              0.1111111111111111,
              "#46039f"
             ],
             [
              0.2222222222222222,
              "#7201a8"
             ],
             [
              0.3333333333333333,
              "#9c179e"
             ],
             [
              0.4444444444444444,
              "#bd3786"
             ],
             [
              0.5555555555555556,
              "#d8576b"
             ],
             [
              0.6666666666666666,
              "#ed7953"
             ],
             [
              0.7777777777777778,
              "#fb9f3a"
             ],
             [
              0.8888888888888888,
              "#fdca26"
             ],
             [
              1,
              "#f0f921"
             ]
            ],
            "type": "heatmapgl"
           }
          ],
          "histogram": [
           {
            "marker": {
             "colorbar": {
              "outlinewidth": 0,
              "ticks": ""
             }
            },
            "type": "histogram"
           }
          ],
          "histogram2d": [
           {
            "colorbar": {
             "outlinewidth": 0,
             "ticks": ""
            },
            "colorscale": [
             [
              0,
              "#0d0887"
             ],
             [
              0.1111111111111111,
              "#46039f"
             ],
             [
              0.2222222222222222,
              "#7201a8"
             ],
             [
              0.3333333333333333,
              "#9c179e"
             ],
             [
              0.4444444444444444,
              "#bd3786"
             ],
             [
              0.5555555555555556,
              "#d8576b"
             ],
             [
              0.6666666666666666,
              "#ed7953"
             ],
             [
              0.7777777777777778,
              "#fb9f3a"
             ],
             [
              0.8888888888888888,
              "#fdca26"
             ],
             [
              1,
              "#f0f921"
             ]
            ],
            "type": "histogram2d"
           }
          ],
          "histogram2dcontour": [
           {
            "colorbar": {
             "outlinewidth": 0,
             "ticks": ""
            },
            "colorscale": [
             [
              0,
              "#0d0887"
             ],
             [
              0.1111111111111111,
              "#46039f"
             ],
             [
              0.2222222222222222,
              "#7201a8"
             ],
             [
              0.3333333333333333,
              "#9c179e"
             ],
             [
              0.4444444444444444,
              "#bd3786"
             ],
             [
              0.5555555555555556,
              "#d8576b"
             ],
             [
              0.6666666666666666,
              "#ed7953"
             ],
             [
              0.7777777777777778,
              "#fb9f3a"
             ],
             [
              0.8888888888888888,
              "#fdca26"
             ],
             [
              1,
              "#f0f921"
             ]
            ],
            "type": "histogram2dcontour"
           }
          ],
          "mesh3d": [
           {
            "colorbar": {
             "outlinewidth": 0,
             "ticks": ""
            },
            "type": "mesh3d"
           }
          ],
          "parcoords": [
           {
            "line": {
             "colorbar": {
              "outlinewidth": 0,
              "ticks": ""
             }
            },
            "type": "parcoords"
           }
          ],
          "scatter": [
           {
            "marker": {
             "colorbar": {
              "outlinewidth": 0,
              "ticks": ""
             }
            },
            "type": "scatter"
           }
          ],
          "scatter3d": [
           {
            "line": {
             "colorbar": {
              "outlinewidth": 0,
              "ticks": ""
             }
            },
            "marker": {
             "colorbar": {
              "outlinewidth": 0,
              "ticks": ""
             }
            },
            "type": "scatter3d"
           }
          ],
          "scattercarpet": [
           {
            "marker": {
             "colorbar": {
              "outlinewidth": 0,
              "ticks": ""
             }
            },
            "type": "scattercarpet"
           }
          ],
          "scattergeo": [
           {
            "marker": {
             "colorbar": {
              "outlinewidth": 0,
              "ticks": ""
             }
            },
            "type": "scattergeo"
           }
          ],
          "scattergl": [
           {
            "marker": {
             "colorbar": {
              "outlinewidth": 0,
              "ticks": ""
             }
            },
            "type": "scattergl"
           }
          ],
          "scattermapbox": [
           {
            "marker": {
             "colorbar": {
              "outlinewidth": 0,
              "ticks": ""
             }
            },
            "type": "scattermapbox"
           }
          ],
          "scatterpolar": [
           {
            "marker": {
             "colorbar": {
              "outlinewidth": 0,
              "ticks": ""
             }
            },
            "type": "scatterpolar"
           }
          ],
          "scatterpolargl": [
           {
            "marker": {
             "colorbar": {
              "outlinewidth": 0,
              "ticks": ""
             }
            },
            "type": "scatterpolargl"
           }
          ],
          "scatterternary": [
           {
            "marker": {
             "colorbar": {
              "outlinewidth": 0,
              "ticks": ""
             }
            },
            "type": "scatterternary"
           }
          ],
          "surface": [
           {
            "colorbar": {
             "outlinewidth": 0,
             "ticks": ""
            },
            "colorscale": [
             [
              0,
              "#0d0887"
             ],
             [
              0.1111111111111111,
              "#46039f"
             ],
             [
              0.2222222222222222,
              "#7201a8"
             ],
             [
              0.3333333333333333,
              "#9c179e"
             ],
             [
              0.4444444444444444,
              "#bd3786"
             ],
             [
              0.5555555555555556,
              "#d8576b"
             ],
             [
              0.6666666666666666,
              "#ed7953"
             ],
             [
              0.7777777777777778,
              "#fb9f3a"
             ],
             [
              0.8888888888888888,
              "#fdca26"
             ],
             [
              1,
              "#f0f921"
             ]
            ],
            "type": "surface"
           }
          ],
          "table": [
           {
            "cells": {
             "fill": {
              "color": "#EBF0F8"
             },
             "line": {
              "color": "white"
             }
            },
            "header": {
             "fill": {
              "color": "#C8D4E3"
             },
             "line": {
              "color": "white"
             }
            },
            "type": "table"
           }
          ]
         },
         "layout": {
          "annotationdefaults": {
           "arrowcolor": "#2a3f5f",
           "arrowhead": 0,
           "arrowwidth": 1
          },
          "colorscale": {
           "diverging": [
            [
             0,
             "#8e0152"
            ],
            [
             0.1,
             "#c51b7d"
            ],
            [
             0.2,
             "#de77ae"
            ],
            [
             0.3,
             "#f1b6da"
            ],
            [
             0.4,
             "#fde0ef"
            ],
            [
             0.5,
             "#f7f7f7"
            ],
            [
             0.6,
             "#e6f5d0"
            ],
            [
             0.7,
             "#b8e186"
            ],
            [
             0.8,
             "#7fbc41"
            ],
            [
             0.9,
             "#4d9221"
            ],
            [
             1,
             "#276419"
            ]
           ],
           "sequential": [
            [
             0,
             "#0d0887"
            ],
            [
             0.1111111111111111,
             "#46039f"
            ],
            [
             0.2222222222222222,
             "#7201a8"
            ],
            [
             0.3333333333333333,
             "#9c179e"
            ],
            [
             0.4444444444444444,
             "#bd3786"
            ],
            [
             0.5555555555555556,
             "#d8576b"
            ],
            [
             0.6666666666666666,
             "#ed7953"
            ],
            [
             0.7777777777777778,
             "#fb9f3a"
            ],
            [
             0.8888888888888888,
             "#fdca26"
            ],
            [
             1,
             "#f0f921"
            ]
           ],
           "sequentialminus": [
            [
             0,
             "#0d0887"
            ],
            [
             0.1111111111111111,
             "#46039f"
            ],
            [
             0.2222222222222222,
             "#7201a8"
            ],
            [
             0.3333333333333333,
             "#9c179e"
            ],
            [
             0.4444444444444444,
             "#bd3786"
            ],
            [
             0.5555555555555556,
             "#d8576b"
            ],
            [
             0.6666666666666666,
             "#ed7953"
            ],
            [
             0.7777777777777778,
             "#fb9f3a"
            ],
            [
             0.8888888888888888,
             "#fdca26"
            ],
            [
             1,
             "#f0f921"
            ]
           ]
          },
          "colorway": [
           "#636efa",
           "#EF553B",
           "#00cc96",
           "#ab63fa",
           "#FFA15A",
           "#19d3f3",
           "#FF6692",
           "#B6E880",
           "#FF97FF",
           "#FECB52"
          ],
          "font": {
           "color": "#2a3f5f"
          },
          "geo": {
           "bgcolor": "white",
           "lakecolor": "white",
           "landcolor": "#E5ECF6",
           "showlakes": true,
           "showland": true,
           "subunitcolor": "white"
          },
          "hoverlabel": {
           "align": "left"
          },
          "hovermode": "closest",
          "mapbox": {
           "style": "light"
          },
          "paper_bgcolor": "white",
          "plot_bgcolor": "#E5ECF6",
          "polar": {
           "angularaxis": {
            "gridcolor": "white",
            "linecolor": "white",
            "ticks": ""
           },
           "bgcolor": "#E5ECF6",
           "radialaxis": {
            "gridcolor": "white",
            "linecolor": "white",
            "ticks": ""
           }
          },
          "scene": {
           "xaxis": {
            "backgroundcolor": "#E5ECF6",
            "gridcolor": "white",
            "gridwidth": 2,
            "linecolor": "white",
            "showbackground": true,
            "ticks": "",
            "zerolinecolor": "white"
           },
           "yaxis": {
            "backgroundcolor": "#E5ECF6",
            "gridcolor": "white",
            "gridwidth": 2,
            "linecolor": "white",
            "showbackground": true,
            "ticks": "",
            "zerolinecolor": "white"
           },
           "zaxis": {
            "backgroundcolor": "#E5ECF6",
            "gridcolor": "white",
            "gridwidth": 2,
            "linecolor": "white",
            "showbackground": true,
            "ticks": "",
            "zerolinecolor": "white"
           }
          },
          "shapedefaults": {
           "line": {
            "color": "#2a3f5f"
           }
          },
          "ternary": {
           "aaxis": {
            "gridcolor": "white",
            "linecolor": "white",
            "ticks": ""
           },
           "baxis": {
            "gridcolor": "white",
            "linecolor": "white",
            "ticks": ""
           },
           "bgcolor": "#E5ECF6",
           "caxis": {
            "gridcolor": "white",
            "linecolor": "white",
            "ticks": ""
           }
          },
          "title": {
           "x": 0.05
          },
          "xaxis": {
           "automargin": true,
           "gridcolor": "white",
           "linecolor": "white",
           "ticks": "",
           "zerolinecolor": "white",
           "zerolinewidth": 2
          },
          "yaxis": {
           "automargin": true,
           "gridcolor": "white",
           "linecolor": "white",
           "ticks": "",
           "zerolinecolor": "white",
           "zerolinewidth": 2
          }
         }
        },
        "title": {
         "font": {
          "family": "Times New Roman",
          "size": 22
         },
         "text": "Global Average Temperature 1880 - 2016",
         "x": 0.5
        },
        "xaxis": {
         "color": "black",
         "showgrid": true,
         "title": {
          "font": {
           "family": "Times New Roman",
           "size": 16
          },
          "text": "Year"
         }
        },
        "yaxis": {
         "color": "black",
         "showgrid": true,
         "title": {
          "font": {
           "family": "Times New Roman",
           "size": 16
          },
          "text": "Global Temperature Anomaly"
         }
        }
       }
      },
      "text/html": [
       "<div>\n",
       "        \n",
       "        \n",
       "            <div id=\"26a60b57-fb6a-4eb8-af7e-a76343730666\" class=\"plotly-graph-div\" style=\"height:525px; width:100%;\"></div>\n",
       "            <script type=\"text/javascript\">\n",
       "                require([\"plotly\"], function(Plotly) {\n",
       "                    window.PLOTLYENV=window.PLOTLYENV || {};\n",
       "                    \n",
       "                if (document.getElementById(\"26a60b57-fb6a-4eb8-af7e-a76343730666\")) {\n",
       "                    Plotly.newPlot(\n",
       "                        '26a60b57-fb6a-4eb8-af7e-a76343730666',\n",
       "                        [{\"line\": {\"color\": \"rgb(203, 67, 53)\"}, \"name\": \"GCAG_Mean\", \"opacity\": 0.8, \"type\": \"scatter\", \"x\": [2016, 2015, 2014, 2013, 2012, 2011, 2010, 2009, 2008, 2007, 2006, 2005, 2004, 2003, 2002, 2001, 2000, 1999, 1998, 1997, 1996, 1995, 1994, 1993, 1992, 1991, 1990, 1989, 1988, 1987, 1986, 1985, 1984, 1983, 1982, 1981, 1980, 1979, 1978, 1977, 1976, 1975, 1974, 1973, 1972, 1971, 1970, 1969, 1968, 1967, 1966, 1965, 1964, 1963, 1962, 1961, 1960, 1959, 1958, 1957, 1956, 1955, 1954, 1953, 1952, 1951, 1950, 1949, 1948, 1947, 1946, 1945, 1944, 1943, 1942, 1941, 1940, 1939, 1938, 1937, 1936, 1935, 1934, 1933, 1932, 1931, 1930, 1929, 1928, 1927, 1926, 1925, 1924, 1923, 1922, 1921, 1920, 1919, 1918, 1917, 1916, 1915, 1914, 1913, 1912, 1911, 1910, 1909, 1908, 1907, 1906, 1905, 1904, 1903, 1902, 1901, 1900, 1899, 1898, 1897, 1896, 1895, 1894, 1893, 1892, 1891, 1890, 1889, 1888, 1887, 1886, 1885, 1884, 1883, 1882, 1881, 1880], \"y\": [0.9363, 0.8998, 0.7408, 0.6679, 0.624, 0.5788, 0.7014, 0.6367, 0.5419, 0.61, 0.6125, 0.6585, 0.5783, 0.6134, 0.6023, 0.5473, 0.4262, 0.4438, 0.6344, 0.5187, 0.3228, 0.4577, 0.3409, 0.2853, 0.2571, 0.4055, 0.4328, 0.297, 0.3757, 0.3696, 0.2296, 0.1342, 0.149, 0.3411, 0.1815, 0.2999, 0.2637, 0.2273, 0.1123, 0.1978, -0.0792, 0.0034, -0.0719, 0.1641, 0.0264, -0.0783, 0.0372, 0.0929, -0.0296, -0.0131, -0.0227, -0.078, -0.1495, 0.1068, 0.0888, 0.0775, 0.0204, 0.0596, 0.1095, 0.0488, -0.199, -0.1354, -0.1165, 0.0952, 0.0248, -0.0132, -0.1616, -0.0568, -0.0487, -0.0477, -0.004, 0.171, 0.2928, 0.157, 0.1538, 0.196, 0.0947, -0.0139, -0.0288, -0.0157, -0.1134, -0.1392, -0.1015, -0.2439, -0.1168, -0.0686, -0.1003, -0.2985, -0.1774, -0.1546, -0.0667, -0.1481, -0.2486, -0.2156, -0.2304, -0.1485, -0.2105, -0.2055, -0.2084, -0.3146, -0.293, -0.0693, -0.1395, -0.3162, -0.3288, -0.4332, -0.3789, -0.4261, -0.4396, -0.3706, -0.2174, -0.2931, -0.4194, -0.3369, -0.2463, -0.1417, -0.0679, -0.1173, -0.2546, -0.1224, -0.0974, -0.229, -0.2808, -0.3212, -0.3062, -0.2532, -0.322, -0.0982, -0.1471, -0.2489, -0.2003, -0.2125, -0.2009, -0.1424, -0.0648, -0.0628, -0.1148]}, {\"line\": {\"color\": \"rgb(40, 116, 166)\"}, \"name\": \"GISTEMP_Mean\", \"opacity\": 0.8, \"type\": \"scatter\", \"x\": [2016, 2015, 2014, 2013, 2012, 2011, 2010, 2009, 2008, 2007, 2006, 2005, 2004, 2003, 2002, 2001, 2000, 1999, 1998, 1997, 1996, 1995, 1994, 1993, 1992, 1991, 1990, 1989, 1988, 1987, 1986, 1985, 1984, 1983, 1982, 1981, 1980, 1979, 1978, 1977, 1976, 1975, 1974, 1973, 1972, 1971, 1970, 1969, 1968, 1967, 1966, 1965, 1964, 1963, 1962, 1961, 1960, 1959, 1958, 1957, 1956, 1955, 1954, 1953, 1952, 1951, 1950, 1949, 1948, 1947, 1946, 1945, 1944, 1943, 1942, 1941, 1940, 1939, 1938, 1937, 1936, 1935, 1934, 1933, 1932, 1931, 1930, 1929, 1928, 1927, 1926, 1925, 1924, 1923, 1922, 1921, 1920, 1919, 1918, 1917, 1916, 1915, 1914, 1913, 1912, 1911, 1910, 1909, 1908, 1907, 1906, 1905, 1904, 1903, 1902, 1901, 1900, 1899, 1898, 1897, 1896, 1895, 1894, 1893, 1892, 1891, 1890, 1889, 1888, 1887, 1886, 1885, 1884, 1883, 1882, 1881, 1880], \"y\": [0.99, 0.87, 0.74, 0.65, 0.63, 0.6, 0.71, 0.64, 0.54, 0.66, 0.63, 0.69, 0.55, 0.62, 0.63, 0.55, 0.42, 0.42, 0.64, 0.48, 0.35, 0.46, 0.32, 0.24, 0.23, 0.43, 0.44, 0.29, 0.41, 0.33, 0.19, 0.12, 0.15, 0.3, 0.13, 0.33, 0.27, 0.17, 0.07, 0.18, -0.11, -0.02, -0.07, 0.15, 0.01, -0.09, 0.02, 0.07, -0.07, -0.02, -0.05, -0.1, -0.2, 0.06, 0.03, 0.05, -0.02, 0.03, 0.07, 0.04, -0.2, -0.15, -0.13, 0.08, 0.01, -0.07, -0.18, -0.09, -0.09, -0.05, -0.04, 0.12, 0.25, 0.13, 0.09, 0.12, 0.08, -0.03, -0.03, -0.03, -0.15, -0.2, -0.14, -0.29, -0.17, -0.09, -0.15, -0.36, -0.21, -0.21, -0.1, -0.21, -0.28, -0.24, -0.28, -0.21, -0.27, -0.22, -0.26, -0.4, -0.34, -0.11, -0.16, -0.34, -0.35, -0.44, -0.42, -0.47, -0.43, -0.4, -0.23, -0.28, -0.44, -0.35, -0.27, -0.15, -0.09, -0.16, -0.28, -0.11, -0.15, -0.21, -0.31, -0.3, -0.27, -0.24, -0.37, -0.12, -0.2, -0.33, -0.31, -0.32, -0.28, -0.21, -0.1, -0.12, -0.2]}, {\"line\": {\"color\": \"rgb(22, 160, 133)\"}, \"name\": \"GCAG_Predicted Poly\", \"opacity\": 0.8, \"type\": \"scatter\", \"x\": [2016, 2015, 2014, 2013, 2012, 2011, 2010, 2009, 2008, 2007, 2006, 2005, 2004, 2003, 2002, 2001, 2000, 1999, 1998, 1997, 1996, 1995, 1994, 1993, 1992, 1991, 1990, 1989, 1988, 1987, 1986, 1985, 1984, 1983, 1982, 1981, 1980, 1979, 1978, 1977, 1976, 1975, 1974, 1973, 1972, 1971, 1970, 1969, 1968, 1967, 1966, 1965, 1964, 1963, 1962, 1961, 1960, 1959, 1958, 1957, 1956, 1955, 1954, 1953, 1952, 1951, 1950, 1949, 1948, 1947, 1946, 1945, 1944, 1943, 1942, 1941, 1940, 1939, 1938, 1937, 1936, 1935, 1934, 1933, 1932, 1931, 1930, 1929, 1928, 1927, 1926, 1925, 1924, 1923, 1922, 1921, 1920, 1919, 1918, 1917, 1916, 1915, 1914, 1913, 1912, 1911, 1910, 1909, 1908, 1907, 1906, 1905, 1904, 1903, 1902, 1901, 1900, 1899, 1898, 1897, 1896, 1895, 1894, 1893, 1892, 1891, 1890, 1889, 1888, 1887, 1886, 1885, 1884, 1883, 1882, 1881, 1880], \"y\": [0.7511258504230796, 0.7337808266022421, 0.7165917283108456, 0.6995585555486628, 0.6826813083158072, 0.6659599866124495, 0.6493945904382485, 0.6329851197933749, 0.6167315746778854, 0.6006339550918369, 0.5846922610349452, 0.5689064925074376, 0.553276649509371, 0.5378027320405181, 0.5224847401009924, 0.5073226736909646, 0.4923165328100936, 0.47746631745854984, 0.46277202763650394, 0.4482336633436148, 0.43385122458010983, 0.4196247113458753, 0.40555412364113863, 0.39163946146561557, 0.3778807248194198, 0.36427791370266505, 0.3508310281151239, 0.33754006805691006, 0.32440503352819405, 0.3114259245286348, 0.29860274105845974, 0.2859354831176688, 0.27342415070614834, 0.2610687438239552, 0.24886926247114616, 0.2368257066476076, 0.22493807635339635, 0.2132063715885124, 0.2016305923531263, 0.19021073864689697, 0.17894681046999494, 0.16783880782259075, 0.15688673070434334, 0.14609057911548007, 0.13545035305600095, 0.12496605252579229, 0.11463767752491094, 0.10446522805347058, 0.09444870411124384, 0.0845881056983444, 0.07488343281488596, 0.06533468546064114, 0.055941863635780464, 0.04670496734019025, 0.03762399657409787, 0.02869895133716227, 0.019929831629610817, 0.011316637451500355, 0.0028593688026035124, -0.005441974316966025, -0.01358739190709457, -0.021576883968009497, -0.02941045049959712, -0.037088091501686904, -0.044609806974619914, -0.05197559691822562, -0.059185461332447176, -0.06623940021722774, -0.07313741357285153, -0.07987950139909117, -0.08646566369588982, -0.09289590046347485, -0.09917021170173257, -0.1052885974105493, -0.11125105759009557, -0.11705759224037138, -0.12270820136114935, -0.12820288495277055, -0.1335416430150076, -0.1387244755478605, -0.14375138255144293, -0.14862236402569806, -0.1533374199706259, -0.15789655038611272, -0.16229975527238594, -0.16654703462933185, -0.17063838845677992, -0.17457381675507122, -0.17835331952403521, -0.18197689676350137, -0.1854445484737539, -0.188756274654736, -0.19191207530622023, -0.19491195042849085, -0.19775590002143417, -0.2004439240849365, -0.2029760226192252, -0.20535219562412976, -0.20757244309976386, -0.20963676504595696, -0.2115451614628796, -0.21329763235053179, -0.21489417770868613, -0.21633479753762686, -0.21761949183724028, -0.2187482606074127, -0.2197211038483715, -0.22053802156000302, -0.22119901374219353, -0.22170408039517042, -0.22205322151876317, -0.22224643711308545, -0.22228372717796674, -0.22216509171357757, -0.2218905307198611, -0.22146004419670362, -0.22087363214438938, -0.22013129456269098, -0.21923303145149475, -0.21817884281114175, -0.21696872864146144, -0.21560268894234014, -0.21408072371394837, -0.21240283295628615, -0.21056901666912609, -0.20857927485280925, -0.20643360750710826, -0.20413201463207997, -0.2016744962276107, -0.1990610522939278, -0.19629168283091758, -0.19336638783846638, -0.19028516731680156, -0.1870480212657526, -0.18365494968531948, -0.1801059525756159, -0.17640102993664186]}, {\"line\": {\"color\": \"rgb(142, 68, 173)\"}, \"name\": \"GISTEMP_Predicted Poly\", \"opacity\": 0.8, \"type\": \"scatter\", \"x\": [2016, 2015, 2014, 2013, 2012, 2011, 2010, 2009, 2008, 2007, 2006, 2005, 2004, 2003, 2002, 2001, 2000, 1999, 1998, 1997, 1996, 1995, 1994, 1993, 1992, 1991, 1990, 1989, 1988, 1987, 1986, 1985, 1984, 1983, 1982, 1981, 1980, 1979, 1978, 1977, 1976, 1975, 1974, 1973, 1972, 1971, 1970, 1969, 1968, 1967, 1966, 1965, 1964, 1963, 1962, 1961, 1960, 1959, 1958, 1957, 1956, 1955, 1954, 1953, 1952, 1951, 1950, 1949, 1948, 1947, 1946, 1945, 1944, 1943, 1942, 1941, 1940, 1939, 1938, 1937, 1936, 1935, 1934, 1933, 1932, 1931, 1930, 1929, 1928, 1927, 1926, 1925, 1924, 1923, 1922, 1921, 1920, 1919, 1918, 1917, 1916, 1915, 1914, 1913, 1912, 1911, 1910, 1909, 1908, 1907, 1906, 1905, 1904, 1903, 1902, 1901, 1900, 1899, 1898, 1897, 1896, 1895, 1894, 1893, 1892, 1891, 1890, 1889, 1888, 1887, 1886, 1885, 1884, 1883, 1882, 1881, 1880], \"y\": [0.7609860521550331, 0.7427975165311977, 0.7247724495126135, 0.7069108510994511, 0.6892127212914829, 0.6716780600889365, 0.6543068674917549, 0.6370991434998245, 0.6200548881133159, 0.6031741013320016, 0.5864567831561089, 0.5699029335854675, 0.5535125526203046, 0.5372856402603361, 0.5212221965057893, 0.5053222213564936, 0.4895857148126197, 0.4740126768740538, 0.4586031075407391, 0.44335700681284607, 0.42827437469020424, 0.4133552111729841, 0.39859951626095835, 0.38400728995441114, 0.3695785322531151, 0.35531324315718393, 0.3412114226665608, 0.3272730707813025, 0.31349818750129543, 0.29988677282671006, 0.28643882675748955, 0.2731543492934634, 0.26003334043491577, 0.2470758001815625, 0.23428172853363094, 0.22165112549095056, 0.2091839910536919, 0.19688032522168442, 0.18474012799509865, 0.17276339937370722, 0.16095013935779434, 0.1493003479470758, 0.13781402514183583, 0.12649117094190387, 0.11533178534716626, 0.1043358683579072, 0.09350341997384248, 0.08283444019525632, 0.0723289290218645, 0.061986886453894385, 0.05180831249117546, 0.04179320713387824, 0.03194157038183221, 0.022253402235207886, 0.012728702693948435, 0.0033674717578833224, -0.005830290572760077, -0.014864584298152295, -0.0237354094181228, -0.032442765932898965, -0.040986653842196574, -0.049367073146299845, -0.05758402384492456, -0.06563750593835493, -0.07352751942630675, -0.08125406430906423, -0.0888171405864, -0.0962167482583709, -0.10345288732514746, -0.11052555778644546, -0.11743475964254912, -0.12418049289323108, -0.13076275753866184, -0.1371815535786709, -0.14343688101342877, -0.14952873984276494, -0.15545713006690676, -0.16122205168557002, -0.16682350469892526, -0.17226148910702932, -0.17753600490971166, -0.18264705210719967, -0.18759463069920912, -0.1923787406859674, -0.19699938206736078, -0.201456554843503, -0.20575025901416666, -0.20988049457963598, -0.2138472615396836, -0.21765055989448, -0.22129038964385472, -0.2247667507879214, -0.2280796433267369, -0.23122906726007386, -0.23421502258827331, -0.2370375093109942, -0.23969652742846392, -0.24219207694051192, -0.2445241578473656, -0.2466927701487407, -0.24869791384492146, -0.25053958893562367, -0.25221779542113154, -0.2537325333012177, -0.255083802575939, -0.25627160324546594, -0.25729593530951433, -0.2581567987683684, -0.25885419362180073, -0.2593881198699819, -0.25975857751274134, -0.2599655665502496, -0.26000908698233616, -0.25988913880922837, -0.259605722030642, -0.25915883664674766, -0.2585484826576021, -0.25777466006303484, -0.2568373688632164, -0.25573660905797624, -0.25447238064754174, -0.2530446836316287, -0.2514535180105213, -0.2496988837839922, -0.2477807809522119, -0.2456992095150099, -0.24345416947255671, -0.24104566082468182, -0.23847368357144205, -0.23573823771300795, -0.23283932324915213, -0.22977694018004513, -0.22655108850551642, -0.22316176822573652, -0.21960897934053492, -0.21589272185013897, -0.21201299575426447]}],\n",
       "                        {\"paper_bgcolor\": \"rgba(233,233,233,1)\", \"plot_bgcolor\": \"rgba(240,235,228,1)\", \"template\": {\"data\": {\"bar\": [{\"error_x\": {\"color\": \"#2a3f5f\"}, \"error_y\": {\"color\": \"#2a3f5f\"}, \"marker\": {\"line\": {\"color\": \"#E5ECF6\", \"width\": 0.5}}, \"type\": \"bar\"}], \"barpolar\": [{\"marker\": {\"line\": {\"color\": \"#E5ECF6\", \"width\": 0.5}}, \"type\": \"barpolar\"}], \"carpet\": [{\"aaxis\": {\"endlinecolor\": \"#2a3f5f\", \"gridcolor\": \"white\", \"linecolor\": \"white\", \"minorgridcolor\": \"white\", \"startlinecolor\": \"#2a3f5f\"}, \"baxis\": {\"endlinecolor\": \"#2a3f5f\", \"gridcolor\": \"white\", \"linecolor\": \"white\", \"minorgridcolor\": \"white\", \"startlinecolor\": \"#2a3f5f\"}, \"type\": \"carpet\"}], \"choropleth\": [{\"colorbar\": {\"outlinewidth\": 0, \"ticks\": \"\"}, \"type\": \"choropleth\"}], \"contour\": [{\"colorbar\": {\"outlinewidth\": 0, \"ticks\": \"\"}, \"colorscale\": [[0.0, \"#0d0887\"], [0.1111111111111111, \"#46039f\"], [0.2222222222222222, \"#7201a8\"], [0.3333333333333333, \"#9c179e\"], [0.4444444444444444, \"#bd3786\"], [0.5555555555555556, \"#d8576b\"], [0.6666666666666666, \"#ed7953\"], [0.7777777777777778, \"#fb9f3a\"], [0.8888888888888888, \"#fdca26\"], [1.0, \"#f0f921\"]], \"type\": \"contour\"}], \"contourcarpet\": [{\"colorbar\": {\"outlinewidth\": 0, \"ticks\": \"\"}, \"type\": \"contourcarpet\"}], \"heatmap\": [{\"colorbar\": {\"outlinewidth\": 0, \"ticks\": \"\"}, \"colorscale\": [[0.0, \"#0d0887\"], [0.1111111111111111, \"#46039f\"], [0.2222222222222222, \"#7201a8\"], [0.3333333333333333, \"#9c179e\"], [0.4444444444444444, \"#bd3786\"], [0.5555555555555556, \"#d8576b\"], [0.6666666666666666, \"#ed7953\"], [0.7777777777777778, \"#fb9f3a\"], [0.8888888888888888, \"#fdca26\"], [1.0, \"#f0f921\"]], \"type\": \"heatmap\"}], \"heatmapgl\": [{\"colorbar\": {\"outlinewidth\": 0, \"ticks\": \"\"}, \"colorscale\": [[0.0, \"#0d0887\"], [0.1111111111111111, \"#46039f\"], [0.2222222222222222, \"#7201a8\"], [0.3333333333333333, \"#9c179e\"], [0.4444444444444444, \"#bd3786\"], [0.5555555555555556, \"#d8576b\"], [0.6666666666666666, \"#ed7953\"], [0.7777777777777778, \"#fb9f3a\"], [0.8888888888888888, \"#fdca26\"], [1.0, \"#f0f921\"]], \"type\": \"heatmapgl\"}], \"histogram\": [{\"marker\": {\"colorbar\": {\"outlinewidth\": 0, \"ticks\": \"\"}}, \"type\": \"histogram\"}], \"histogram2d\": [{\"colorbar\": {\"outlinewidth\": 0, \"ticks\": \"\"}, \"colorscale\": [[0.0, \"#0d0887\"], [0.1111111111111111, \"#46039f\"], [0.2222222222222222, \"#7201a8\"], [0.3333333333333333, \"#9c179e\"], [0.4444444444444444, \"#bd3786\"], [0.5555555555555556, \"#d8576b\"], [0.6666666666666666, \"#ed7953\"], [0.7777777777777778, \"#fb9f3a\"], [0.8888888888888888, \"#fdca26\"], [1.0, \"#f0f921\"]], \"type\": \"histogram2d\"}], \"histogram2dcontour\": [{\"colorbar\": {\"outlinewidth\": 0, \"ticks\": \"\"}, \"colorscale\": [[0.0, \"#0d0887\"], [0.1111111111111111, \"#46039f\"], [0.2222222222222222, \"#7201a8\"], [0.3333333333333333, \"#9c179e\"], [0.4444444444444444, \"#bd3786\"], [0.5555555555555556, \"#d8576b\"], [0.6666666666666666, \"#ed7953\"], [0.7777777777777778, \"#fb9f3a\"], [0.8888888888888888, \"#fdca26\"], [1.0, \"#f0f921\"]], \"type\": \"histogram2dcontour\"}], \"mesh3d\": [{\"colorbar\": {\"outlinewidth\": 0, \"ticks\": \"\"}, \"type\": \"mesh3d\"}], \"parcoords\": [{\"line\": {\"colorbar\": {\"outlinewidth\": 0, \"ticks\": \"\"}}, \"type\": \"parcoords\"}], \"scatter\": [{\"marker\": {\"colorbar\": {\"outlinewidth\": 0, \"ticks\": \"\"}}, \"type\": \"scatter\"}], \"scatter3d\": [{\"line\": {\"colorbar\": {\"outlinewidth\": 0, \"ticks\": \"\"}}, \"marker\": {\"colorbar\": {\"outlinewidth\": 0, \"ticks\": \"\"}}, \"type\": \"scatter3d\"}], \"scattercarpet\": [{\"marker\": {\"colorbar\": {\"outlinewidth\": 0, \"ticks\": \"\"}}, \"type\": \"scattercarpet\"}], \"scattergeo\": [{\"marker\": {\"colorbar\": {\"outlinewidth\": 0, \"ticks\": \"\"}}, \"type\": \"scattergeo\"}], \"scattergl\": [{\"marker\": {\"colorbar\": {\"outlinewidth\": 0, \"ticks\": \"\"}}, \"type\": \"scattergl\"}], \"scattermapbox\": [{\"marker\": {\"colorbar\": {\"outlinewidth\": 0, \"ticks\": \"\"}}, \"type\": \"scattermapbox\"}], \"scatterpolar\": [{\"marker\": {\"colorbar\": {\"outlinewidth\": 0, \"ticks\": \"\"}}, \"type\": \"scatterpolar\"}], \"scatterpolargl\": [{\"marker\": {\"colorbar\": {\"outlinewidth\": 0, \"ticks\": \"\"}}, \"type\": \"scatterpolargl\"}], \"scatterternary\": [{\"marker\": {\"colorbar\": {\"outlinewidth\": 0, \"ticks\": \"\"}}, \"type\": \"scatterternary\"}], \"surface\": [{\"colorbar\": {\"outlinewidth\": 0, \"ticks\": \"\"}, \"colorscale\": [[0.0, \"#0d0887\"], [0.1111111111111111, \"#46039f\"], [0.2222222222222222, \"#7201a8\"], [0.3333333333333333, \"#9c179e\"], [0.4444444444444444, \"#bd3786\"], [0.5555555555555556, \"#d8576b\"], [0.6666666666666666, \"#ed7953\"], [0.7777777777777778, \"#fb9f3a\"], [0.8888888888888888, \"#fdca26\"], [1.0, \"#f0f921\"]], \"type\": \"surface\"}], \"table\": [{\"cells\": {\"fill\": {\"color\": \"#EBF0F8\"}, \"line\": {\"color\": \"white\"}}, \"header\": {\"fill\": {\"color\": \"#C8D4E3\"}, \"line\": {\"color\": \"white\"}}, \"type\": \"table\"}]}, \"layout\": {\"annotationdefaults\": {\"arrowcolor\": \"#2a3f5f\", \"arrowhead\": 0, \"arrowwidth\": 1}, \"colorscale\": {\"diverging\": [[0, \"#8e0152\"], [0.1, \"#c51b7d\"], [0.2, \"#de77ae\"], [0.3, \"#f1b6da\"], [0.4, \"#fde0ef\"], [0.5, \"#f7f7f7\"], [0.6, \"#e6f5d0\"], [0.7, \"#b8e186\"], [0.8, \"#7fbc41\"], [0.9, \"#4d9221\"], [1, \"#276419\"]], \"sequential\": [[0.0, \"#0d0887\"], [0.1111111111111111, \"#46039f\"], [0.2222222222222222, \"#7201a8\"], [0.3333333333333333, \"#9c179e\"], [0.4444444444444444, \"#bd3786\"], [0.5555555555555556, \"#d8576b\"], [0.6666666666666666, \"#ed7953\"], [0.7777777777777778, \"#fb9f3a\"], [0.8888888888888888, \"#fdca26\"], [1.0, \"#f0f921\"]], \"sequentialminus\": [[0.0, \"#0d0887\"], [0.1111111111111111, \"#46039f\"], [0.2222222222222222, \"#7201a8\"], [0.3333333333333333, \"#9c179e\"], [0.4444444444444444, \"#bd3786\"], [0.5555555555555556, \"#d8576b\"], [0.6666666666666666, \"#ed7953\"], [0.7777777777777778, \"#fb9f3a\"], [0.8888888888888888, \"#fdca26\"], [1.0, \"#f0f921\"]]}, \"colorway\": [\"#636efa\", \"#EF553B\", \"#00cc96\", \"#ab63fa\", \"#FFA15A\", \"#19d3f3\", \"#FF6692\", \"#B6E880\", \"#FF97FF\", \"#FECB52\"], \"font\": {\"color\": \"#2a3f5f\"}, \"geo\": {\"bgcolor\": \"white\", \"lakecolor\": \"white\", \"landcolor\": \"#E5ECF6\", \"showlakes\": true, \"showland\": true, \"subunitcolor\": \"white\"}, \"hoverlabel\": {\"align\": \"left\"}, \"hovermode\": \"closest\", \"mapbox\": {\"style\": \"light\"}, \"paper_bgcolor\": \"white\", \"plot_bgcolor\": \"#E5ECF6\", \"polar\": {\"angularaxis\": {\"gridcolor\": \"white\", \"linecolor\": \"white\", \"ticks\": \"\"}, \"bgcolor\": \"#E5ECF6\", \"radialaxis\": {\"gridcolor\": \"white\", \"linecolor\": \"white\", \"ticks\": \"\"}}, \"scene\": {\"xaxis\": {\"backgroundcolor\": \"#E5ECF6\", \"gridcolor\": \"white\", \"gridwidth\": 2, \"linecolor\": \"white\", \"showbackground\": true, \"ticks\": \"\", \"zerolinecolor\": \"white\"}, \"yaxis\": {\"backgroundcolor\": \"#E5ECF6\", \"gridcolor\": \"white\", \"gridwidth\": 2, \"linecolor\": \"white\", \"showbackground\": true, \"ticks\": \"\", \"zerolinecolor\": \"white\"}, \"zaxis\": {\"backgroundcolor\": \"#E5ECF6\", \"gridcolor\": \"white\", \"gridwidth\": 2, \"linecolor\": \"white\", \"showbackground\": true, \"ticks\": \"\", \"zerolinecolor\": \"white\"}}, \"shapedefaults\": {\"line\": {\"color\": \"#2a3f5f\"}}, \"ternary\": {\"aaxis\": {\"gridcolor\": \"white\", \"linecolor\": \"white\", \"ticks\": \"\"}, \"baxis\": {\"gridcolor\": \"white\", \"linecolor\": \"white\", \"ticks\": \"\"}, \"bgcolor\": \"#E5ECF6\", \"caxis\": {\"gridcolor\": \"white\", \"linecolor\": \"white\", \"ticks\": \"\"}}, \"title\": {\"x\": 0.05}, \"xaxis\": {\"automargin\": true, \"gridcolor\": \"white\", \"linecolor\": \"white\", \"ticks\": \"\", \"zerolinecolor\": \"white\", \"zerolinewidth\": 2}, \"yaxis\": {\"automargin\": true, \"gridcolor\": \"white\", \"linecolor\": \"white\", \"ticks\": \"\", \"zerolinecolor\": \"white\", \"zerolinewidth\": 2}}}, \"title\": {\"font\": {\"family\": \"Times New Roman\", \"size\": 22}, \"text\": \"Global Average Temperature 1880 - 2016\", \"x\": 0.5}, \"xaxis\": {\"color\": \"black\", \"showgrid\": true, \"title\": {\"font\": {\"family\": \"Times New Roman\", \"size\": 16}, \"text\": \"Year\"}}, \"yaxis\": {\"color\": \"black\", \"showgrid\": true, \"title\": {\"font\": {\"family\": \"Times New Roman\", \"size\": 16}, \"text\": \"Global Temperature Anomaly\"}}},\n",
       "                        {\"responsive\": true}\n",
       "                    ).then(function(){\n",
       "                            \n",
       "var gd = document.getElementById('26a60b57-fb6a-4eb8-af7e-a76343730666');\n",
       "var x = new MutationObserver(function (mutations, observer) {{\n",
       "        var display = window.getComputedStyle(gd).display;\n",
       "        if (!display || display === 'none') {{\n",
       "            console.log([gd, 'removed!']);\n",
       "            Plotly.purge(gd);\n",
       "            observer.disconnect();\n",
       "        }}\n",
       "}});\n",
       "\n",
       "// Listen for the removal of the full notebook cells\n",
       "var notebookContainer = gd.closest('#notebook-container');\n",
       "if (notebookContainer) {{\n",
       "    x.observe(notebookContainer, {childList: true});\n",
       "}}\n",
       "\n",
       "// Listen for the clearing of the current output cell\n",
       "var outputEl = gd.closest('.output');\n",
       "if (outputEl) {{\n",
       "    x.observe(outputEl, {childList: true});\n",
       "}}\n",
       "\n",
       "                        })\n",
       "                };\n",
       "                });\n",
       "            </script>\n",
       "        </div>"
      ]
     },
     "metadata": {},
     "output_type": "display_data"
    }
   ],
   "source": [
    "fig = go.Figure( layout=go.Layout(\n",
    "        xaxis=dict(showgrid = True,title = \"Year\", title_font = dict(family = 'Times New Roman', size = 16), color = 'black'),\n",
    "        yaxis=dict(showgrid = True,title = \"Global Temperature Anomaly\", title_font = dict(family = 'Times New Roman', size = 16)\\\n",
    "                   , color = 'black'),\n",
    "    ))\n",
    "\n",
    "fig.add_trace(go.Scatter(\n",
    "                x=df_final.Year,\n",
    "                y=df_final['GCAG_Mean'],\n",
    "                name=\"GCAG_Mean\",\n",
    "                line_color='rgb(203, 67, 53)',\n",
    "                opacity=0.8))\n",
    "\n",
    "fig.add_trace(go.Scatter(\n",
    "                x=df_final.Year,\n",
    "                y=df_final['GISTEMP_Mean'],\n",
    "                name=\"GISTEMP_Mean\",\n",
    "                line_color='rgb(40, 116, 166)',\n",
    "                opacity=0.8))\n",
    "\n",
    "fig.add_trace(go.Scatter(\n",
    "                x = df_final.Year,\n",
    "                y = pred_poly_gcag,\n",
    "                name=\"GCAG_Predicted Poly\",\n",
    "                line_color='rgb(22, 160, 133)',\n",
    "                opacity=0.8))\n",
    "\n",
    "fig.add_trace(go.Scatter(\n",
    "                x = df_final.Year,\n",
    "                y = pred_poly_gistemp,\n",
    "                name=\"GISTEMP_Predicted Poly\",\n",
    "                line_color='rgb(142, 68, 173)',\n",
    "                opacity=0.8))\n",
    "\n",
    "# Use date string to set xaxis range\n",
    "fig.update_layout(title_text = \"Global Average Temperature 1880 - 2016\", title_x=0.5, title_font_family=\"Times New Roman\", \\\n",
    "                  title_font_size = 22, paper_bgcolor = 'rgba(233,233,233,1)', plot_bgcolor = 'rgba(240,235,228,1)')\n",
    "fig.show()"
   ]
  },
  {
   "cell_type": "markdown",
   "metadata": {},
   "source": [
    "## Prediction with a specific year as an argument\n",
    "Available from the starting year 1880 to infinity, based on the polynomial regression model"
   ]
  },
  {
   "cell_type": "code",
   "execution_count": 35,
   "metadata": {},
   "outputs": [
    {
     "name": "stdout",
     "output_type": "stream",
     "text": [
      "The temperature rise in GCAG is [0.8220652], and GISTEMPT is [0.83537488]\n"
     ]
    }
   ],
   "source": [
    "temp_rise_gcag = lin_reg_2.predict(poly_reg.fit_transform([[2020]]))\n",
    "temp_rise_gistemp = lin_reg_3.predict(poly_reg.fit_transform([[2020]]))\n",
    "print(\"The temperature rise in GCAG is {}, and GISTEMPT is {}\".format(temp_rise_gcag, temp_rise_gistemp))"
   ]
  },
  {
   "cell_type": "markdown",
   "metadata": {},
   "source": [
    " # Conclusion"
   ]
  },
  {
   "cell_type": "markdown",
   "metadata": {},
   "source": [
    "Based on the prediction model, the global mean temerature in the year 2020 was extimated to be 0.8220652, by GCAG, and 0.83537488, by GISTEMPT above the 1951 to 1980 average. And the value has been clearly increasing from the base period: 1951-1980. Therefore, this analysis concludes that global average temperature in increasing over time."
   ]
  },
  {
   "cell_type": "code",
   "execution_count": null,
   "metadata": {},
   "outputs": [],
   "source": []
  }
 ],
 "metadata": {
  "kernelspec": {
   "display_name": "Python 3",
   "language": "python",
   "name": "python3"
  },
  "language_info": {
   "codemirror_mode": {
    "name": "ipython",
    "version": 3
   },
   "file_extension": ".py",
   "mimetype": "text/x-python",
   "name": "python",
   "nbconvert_exporter": "python",
   "pygments_lexer": "ipython3",
   "version": "3.8.3"
  }
 },
 "nbformat": 4,
 "nbformat_minor": 4
}
