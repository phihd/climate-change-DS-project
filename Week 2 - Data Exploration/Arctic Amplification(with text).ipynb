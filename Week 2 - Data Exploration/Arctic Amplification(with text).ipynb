{
 "cells": [
  {
   "cell_type": "markdown",
   "metadata": {},
   "source": [
    "# Arctic amplification"
   ]
  },
  {
   "cell_type": "markdown",
   "metadata": {},
   "source": [
    "Since the mid-20th Century, average global temperatures have warmed about 0.6°C (1.1°F), but the warming has not occurred equally everywhere. Temperatures have increased about twice as fast in the Arctic as in the mid-latitudes, a phenomenon known as “Arctic amplification.”"
   ]
  },
  {
   "cell_type": "code",
   "execution_count": 1,
   "metadata": {},
   "outputs": [
    {
     "name": "stderr",
     "output_type": "stream",
     "text": [
      "C:\\Users\\ACER\\Anaconda3\\lib\\site-packages\\statsmodels\\tools\\_testing.py:19: FutureWarning: pandas.util.testing is deprecated. Use the functions in the public API at pandas.testing instead.\n",
      "  import pandas.util.testing as tm\n"
     ]
    }
   ],
   "source": [
    "import numpy as np\n",
    "import matplotlib.pyplot as plt\n",
    "import pandas as pd\n",
    "import seaborn as sns\n",
    "import statsmodels as sm\n",
    "from datetime import timedelta, datetime"
   ]
  },
  {
   "cell_type": "markdown",
   "metadata": {},
   "source": [
    "The data is Zonal annual means in CSV format of temperature anomalies, i.e. deviations from the corresponding 1951-1980 means, from [NASA GISS](https://data.giss.nasa.gov/gistemp/) (download [here](https://data.giss.nasa.gov/gistemp/tabledata_v4/ZonAnn.Ts+dSST.csv))"
   ]
  },
  {
   "cell_type": "code",
   "execution_count": 2,
   "metadata": {},
   "outputs": [],
   "source": [
    "missing_value = \"***\"\n",
    "df = pd.read_csv('ZonAnn.Ts+dSST.csv', index_col = 'Year', sep = ',', header = 0, na_values = missing_value)"
   ]
  },
  {
   "cell_type": "code",
   "execution_count": 3,
   "metadata": {},
   "outputs": [
    {
     "data": {
      "text/html": [
       "<div>\n",
       "<style scoped>\n",
       "    .dataframe tbody tr th:only-of-type {\n",
       "        vertical-align: middle;\n",
       "    }\n",
       "\n",
       "    .dataframe tbody tr th {\n",
       "        vertical-align: top;\n",
       "    }\n",
       "\n",
       "    .dataframe thead th {\n",
       "        text-align: right;\n",
       "    }\n",
       "</style>\n",
       "<table border=\"1\" class=\"dataframe\">\n",
       "  <thead>\n",
       "    <tr style=\"text-align: right;\">\n",
       "      <th></th>\n",
       "      <th>Glob</th>\n",
       "      <th>NHem</th>\n",
       "      <th>SHem</th>\n",
       "      <th>24N-90N</th>\n",
       "      <th>24S-24N</th>\n",
       "      <th>90S-24S</th>\n",
       "      <th>64N-90N</th>\n",
       "      <th>44N-64N</th>\n",
       "      <th>24N-44N</th>\n",
       "      <th>EQU-24N</th>\n",
       "      <th>24S-EQU</th>\n",
       "      <th>44S-24S</th>\n",
       "      <th>64S-44S</th>\n",
       "      <th>90S-64S</th>\n",
       "    </tr>\n",
       "    <tr>\n",
       "      <th>Year</th>\n",
       "      <th></th>\n",
       "      <th></th>\n",
       "      <th></th>\n",
       "      <th></th>\n",
       "      <th></th>\n",
       "      <th></th>\n",
       "      <th></th>\n",
       "      <th></th>\n",
       "      <th></th>\n",
       "      <th></th>\n",
       "      <th></th>\n",
       "      <th></th>\n",
       "      <th></th>\n",
       "      <th></th>\n",
       "    </tr>\n",
       "  </thead>\n",
       "  <tbody>\n",
       "    <tr>\n",
       "      <th>1880</th>\n",
       "      <td>-0.16</td>\n",
       "      <td>-0.28</td>\n",
       "      <td>-0.04</td>\n",
       "      <td>-0.36</td>\n",
       "      <td>-0.12</td>\n",
       "      <td>-0.01</td>\n",
       "      <td>-0.82</td>\n",
       "      <td>-0.44</td>\n",
       "      <td>-0.27</td>\n",
       "      <td>-0.15</td>\n",
       "      <td>-0.09</td>\n",
       "      <td>-0.03</td>\n",
       "      <td>0.05</td>\n",
       "      <td>0.65</td>\n",
       "    </tr>\n",
       "    <tr>\n",
       "      <th>1881</th>\n",
       "      <td>-0.07</td>\n",
       "      <td>-0.16</td>\n",
       "      <td>0.01</td>\n",
       "      <td>-0.33</td>\n",
       "      <td>0.11</td>\n",
       "      <td>-0.07</td>\n",
       "      <td>-0.91</td>\n",
       "      <td>-0.41</td>\n",
       "      <td>-0.19</td>\n",
       "      <td>0.10</td>\n",
       "      <td>0.12</td>\n",
       "      <td>-0.05</td>\n",
       "      <td>-0.07</td>\n",
       "      <td>0.57</td>\n",
       "    </tr>\n",
       "    <tr>\n",
       "      <th>1882</th>\n",
       "      <td>-0.10</td>\n",
       "      <td>-0.20</td>\n",
       "      <td>0.00</td>\n",
       "      <td>-0.29</td>\n",
       "      <td>-0.04</td>\n",
       "      <td>0.01</td>\n",
       "      <td>-1.40</td>\n",
       "      <td>-0.23</td>\n",
       "      <td>-0.13</td>\n",
       "      <td>-0.05</td>\n",
       "      <td>-0.03</td>\n",
       "      <td>0.02</td>\n",
       "      <td>0.04</td>\n",
       "      <td>0.60</td>\n",
       "    </tr>\n",
       "    <tr>\n",
       "      <th>1883</th>\n",
       "      <td>-0.16</td>\n",
       "      <td>-0.27</td>\n",
       "      <td>-0.06</td>\n",
       "      <td>-0.33</td>\n",
       "      <td>-0.16</td>\n",
       "      <td>-0.01</td>\n",
       "      <td>-0.20</td>\n",
       "      <td>-0.53</td>\n",
       "      <td>-0.24</td>\n",
       "      <td>-0.18</td>\n",
       "      <td>-0.14</td>\n",
       "      <td>-0.03</td>\n",
       "      <td>0.07</td>\n",
       "      <td>0.47</td>\n",
       "    </tr>\n",
       "    <tr>\n",
       "      <th>1884</th>\n",
       "      <td>-0.28</td>\n",
       "      <td>-0.43</td>\n",
       "      <td>-0.14</td>\n",
       "      <td>-0.61</td>\n",
       "      <td>-0.14</td>\n",
       "      <td>-0.14</td>\n",
       "      <td>-1.32</td>\n",
       "      <td>-0.64</td>\n",
       "      <td>-0.47</td>\n",
       "      <td>-0.13</td>\n",
       "      <td>-0.15</td>\n",
       "      <td>-0.19</td>\n",
       "      <td>-0.02</td>\n",
       "      <td>0.62</td>\n",
       "    </tr>\n",
       "  </tbody>\n",
       "</table>\n",
       "</div>"
      ],
      "text/plain": [
       "      Glob  NHem  SHem  24N-90N  24S-24N  90S-24S  64N-90N  44N-64N  24N-44N  \\\n",
       "Year                                                                           \n",
       "1880 -0.16 -0.28 -0.04    -0.36    -0.12    -0.01    -0.82    -0.44    -0.27   \n",
       "1881 -0.07 -0.16  0.01    -0.33     0.11    -0.07    -0.91    -0.41    -0.19   \n",
       "1882 -0.10 -0.20  0.00    -0.29    -0.04     0.01    -1.40    -0.23    -0.13   \n",
       "1883 -0.16 -0.27 -0.06    -0.33    -0.16    -0.01    -0.20    -0.53    -0.24   \n",
       "1884 -0.28 -0.43 -0.14    -0.61    -0.14    -0.14    -1.32    -0.64    -0.47   \n",
       "\n",
       "      EQU-24N  24S-EQU  44S-24S  64S-44S  90S-64S  \n",
       "Year                                               \n",
       "1880    -0.15    -0.09    -0.03     0.05     0.65  \n",
       "1881     0.10     0.12    -0.05    -0.07     0.57  \n",
       "1882    -0.05    -0.03     0.02     0.04     0.60  \n",
       "1883    -0.18    -0.14    -0.03     0.07     0.47  \n",
       "1884    -0.13    -0.15    -0.19    -0.02     0.62  "
      ]
     },
     "execution_count": 3,
     "metadata": {},
     "output_type": "execute_result"
    }
   ],
   "source": [
    "df.head()"
   ]
  },
  {
   "cell_type": "code",
   "execution_count": 4,
   "metadata": {},
   "outputs": [],
   "source": [
    "#df[['NHem', 'SHem']].plot(figsize = (10, 8))\n",
    "df_sm = df.rolling(10).mean()"
   ]
  },
  {
   "cell_type": "code",
   "execution_count": 5,
   "metadata": {},
   "outputs": [
    {
     "data": {
      "text/html": [
       "        <script type=\"text/javascript\">\n",
       "        window.PlotlyConfig = {MathJaxConfig: 'local'};\n",
       "        if (window.MathJax) {MathJax.Hub.Config({SVG: {font: \"STIX-Web\"}});}\n",
       "        if (typeof require !== 'undefined') {\n",
       "        require.undef(\"plotly\");\n",
       "        requirejs.config({\n",
       "            paths: {\n",
       "                'plotly': ['https://cdn.plot.ly/plotly-latest.min']\n",
       "            }\n",
       "        });\n",
       "        require(['plotly'], function(Plotly) {\n",
       "            window._Plotly = Plotly;\n",
       "        });\n",
       "        }\n",
       "        </script>\n",
       "        "
      ]
     },
     "metadata": {},
     "output_type": "display_data"
    },
    {
     "data": {
      "text/html": [
       "        <script type=\"text/javascript\">\n",
       "        window.PlotlyConfig = {MathJaxConfig: 'local'};\n",
       "        if (window.MathJax) {MathJax.Hub.Config({SVG: {font: \"STIX-Web\"}});}\n",
       "        if (typeof require !== 'undefined') {\n",
       "        require.undef(\"plotly\");\n",
       "        requirejs.config({\n",
       "            paths: {\n",
       "                'plotly': ['https://cdn.plot.ly/plotly-latest.min']\n",
       "            }\n",
       "        });\n",
       "        require(['plotly'], function(Plotly) {\n",
       "            window._Plotly = Plotly;\n",
       "        });\n",
       "        }\n",
       "        </script>\n",
       "        "
      ]
     },
     "metadata": {},
     "output_type": "display_data"
    }
   ],
   "source": [
    "import plotly.graph_objs as go\n",
    "import plotly.express as ex\n",
    "from plotly.offline import iplot, init_notebook_mode\n",
    "import cufflinks\n",
    "cufflinks.go_offline(connected=True)\n",
    "init_notebook_mode(connected=True)"
   ]
  },
  {
   "cell_type": "code",
   "execution_count": 6,
   "metadata": {},
   "outputs": [
    {
     "data": {
      "application/vnd.plotly.v1+json": {
       "config": {
        "plotlyServerURL": "https://plot.ly"
       },
       "data": [
        {
         "line": {
          "width": 1.5
         },
         "name": "NHem",
         "opacity": 0.8,
         "type": "scatter",
         "x": [
          1880,
          1881,
          1882,
          1883,
          1884,
          1885,
          1886,
          1887,
          1888,
          1889,
          1890,
          1891,
          1892,
          1893,
          1894,
          1895,
          1896,
          1897,
          1898,
          1899,
          1900,
          1901,
          1902,
          1903,
          1904,
          1905,
          1906,
          1907,
          1908,
          1909,
          1910,
          1911,
          1912,
          1913,
          1914,
          1915,
          1916,
          1917,
          1918,
          1919,
          1920,
          1921,
          1922,
          1923,
          1924,
          1925,
          1926,
          1927,
          1928,
          1929,
          1930,
          1931,
          1932,
          1933,
          1934,
          1935,
          1936,
          1937,
          1938,
          1939,
          1940,
          1941,
          1942,
          1943,
          1944,
          1945,
          1946,
          1947,
          1948,
          1949,
          1950,
          1951,
          1952,
          1953,
          1954,
          1955,
          1956,
          1957,
          1958,
          1959,
          1960,
          1961,
          1962,
          1963,
          1964,
          1965,
          1966,
          1967,
          1968,
          1969,
          1970,
          1971,
          1972,
          1973,
          1974,
          1975,
          1976,
          1977,
          1978,
          1979,
          1980,
          1981,
          1982,
          1983,
          1984,
          1985,
          1986,
          1987,
          1988,
          1989,
          1990,
          1991,
          1992,
          1993,
          1994,
          1995,
          1996,
          1997,
          1998,
          1999,
          2000,
          2001,
          2002,
          2003,
          2004,
          2005,
          2006,
          2007,
          2008,
          2009,
          2010,
          2011,
          2012,
          2013,
          2014,
          2015,
          2016,
          2017,
          2018,
          2019
         ],
         "y": [
          null,
          null,
          null,
          null,
          null,
          null,
          null,
          null,
          null,
          -0.29800000000000004,
          -0.30700000000000005,
          -0.317,
          -0.33599999999999997,
          -0.356,
          -0.351,
          -0.33799999999999997,
          -0.315,
          -0.28900000000000003,
          -0.294,
          -0.299,
          -0.26999999999999996,
          -0.25599999999999995,
          -0.24999999999999994,
          -0.24099999999999994,
          -0.25099999999999995,
          -0.25099999999999995,
          -0.2559999999999999,
          -0.2869999999999999,
          -0.30599999999999994,
          -0.3339999999999999,
          -0.3699999999999999,
          -0.3999999999999999,
          -0.4129999999999999,
          -0.4169999999999999,
          -0.3889999999999999,
          -0.37399999999999994,
          -0.3919999999999999,
          -0.4029999999999999,
          -0.39699999999999996,
          -0.3829999999999999,
          -0.3699999999999999,
          -0.33899999999999986,
          -0.3209999999999999,
          -0.30099999999999993,
          -0.29999999999999993,
          -0.29999999999999993,
          -0.2559999999999999,
          -0.2119999999999999,
          -0.18199999999999994,
          -0.1809999999999999,
          -0.1519999999999999,
          -0.1359999999999999,
          -0.11399999999999991,
          -0.11799999999999991,
          -0.09899999999999991,
          -0.09499999999999992,
          -0.10099999999999991,
          -0.07499999999999991,
          -0.04899999999999991,
          -0.005999999999999911,
          0.014000000000000087,
          0.03200000000000009,
          0.05100000000000009,
          0.09500000000000008,
          0.12200000000000008,
          0.1420000000000001,
          0.1490000000000001,
          0.1450000000000001,
          0.1270000000000001,
          0.1150000000000001,
          0.08200000000000011,
          0.06400000000000013,
          0.05700000000000013,
          0.06300000000000013,
          0.03400000000000012,
          0.015000000000000121,
          -0.01099999999999988,
          -0.01499999999999988,
          0.0020000000000001193,
          0.01700000000000012,
          0.04000000000000011,
          0.043000000000000115,
          0.050000000000000114,
          0.04000000000000011,
          0.02300000000000011,
          0.01800000000000011,
          0.03900000000000011,
          0.03800000000000012,
          0.01600000000000012,
          0.0010000000000001175,
          -0.010999999999999881,
          -0.03399999999999988,
          -0.06399999999999988,
          -0.06899999999999988,
          -0.06799999999999988,
          -0.058999999999999886,
          -0.07799999999999987,
          -0.06899999999999988,
          -0.05999999999999987,
          -0.04899999999999988,
          -0.027999999999999876,
          0.024000000000000125,
          0.04600000000000013,
          0.06200000000000013,
          0.08400000000000014,
          0.08900000000000015,
          0.12300000000000014,
          0.13600000000000012,
          0.17100000000000012,
          0.1900000000000001,
          0.22600000000000015,
          0.23000000000000015,
          0.23900000000000018,
          0.23300000000000018,
          0.2660000000000002,
          0.3240000000000002,
          0.3370000000000002,
          0.3640000000000002,
          0.39800000000000013,
          0.41900000000000015,
          0.4160000000000001,
          0.43900000000000006,
          0.49700000000000005,
          0.553,
          0.5820000000000001,
          0.6100000000000001,
          0.6660000000000001,
          0.6990000000000001,
          0.696,
          0.7209999999999999,
          0.7609999999999999,
          0.772,
          0.7819999999999999,
          0.7869999999999999,
          0.813,
          0.845,
          0.8939999999999999,
          0.9269999999999999,
          0.9629999999999999,
          1.012
         ]
        },
        {
         "line": {
          "width": 1.5
         },
         "name": "SHem",
         "opacity": 0.8,
         "type": "scatter",
         "x": [
          1880,
          1881,
          1882,
          1883,
          1884,
          1885,
          1886,
          1887,
          1888,
          1889,
          1890,
          1891,
          1892,
          1893,
          1894,
          1895,
          1896,
          1897,
          1898,
          1899,
          1900,
          1901,
          1902,
          1903,
          1904,
          1905,
          1906,
          1907,
          1908,
          1909,
          1910,
          1911,
          1912,
          1913,
          1914,
          1915,
          1916,
          1917,
          1918,
          1919,
          1920,
          1921,
          1922,
          1923,
          1924,
          1925,
          1926,
          1927,
          1928,
          1929,
          1930,
          1931,
          1932,
          1933,
          1934,
          1935,
          1936,
          1937,
          1938,
          1939,
          1940,
          1941,
          1942,
          1943,
          1944,
          1945,
          1946,
          1947,
          1948,
          1949,
          1950,
          1951,
          1952,
          1953,
          1954,
          1955,
          1956,
          1957,
          1958,
          1959,
          1960,
          1961,
          1962,
          1963,
          1964,
          1965,
          1966,
          1967,
          1968,
          1969,
          1970,
          1971,
          1972,
          1973,
          1974,
          1975,
          1976,
          1977,
          1978,
          1979,
          1980,
          1981,
          1982,
          1983,
          1984,
          1985,
          1986,
          1987,
          1988,
          1989,
          1990,
          1991,
          1992,
          1993,
          1994,
          1995,
          1996,
          1997,
          1998,
          1999,
          2000,
          2001,
          2002,
          2003,
          2004,
          2005,
          2006,
          2007,
          2008,
          2009,
          2010,
          2011,
          2012,
          2013,
          2014,
          2015,
          2016,
          2017,
          2018,
          2019
         ],
         "y": [
          null,
          null,
          null,
          null,
          null,
          null,
          null,
          null,
          null,
          -0.11000000000000001,
          -0.138,
          -0.158,
          -0.173,
          -0.182,
          -0.18899999999999997,
          -0.17999999999999997,
          -0.16299999999999998,
          -0.13999999999999996,
          -0.15399999999999997,
          -0.16399999999999998,
          -0.13799999999999996,
          -0.13699999999999996,
          -0.14399999999999996,
          -0.16499999999999998,
          -0.189,
          -0.19600000000000004,
          -0.21400000000000005,
          -0.23800000000000007,
          -0.25100000000000006,
          -0.28400000000000003,
          -0.32,
          -0.34700000000000003,
          -0.349,
          -0.33799999999999997,
          -0.303,
          -0.293,
          -0.30299999999999994,
          -0.30899999999999994,
          -0.2889999999999999,
          -0.2619999999999999,
          -0.24299999999999994,
          -0.22399999999999992,
          -0.22899999999999993,
          -0.23499999999999993,
          -0.2599999999999999,
          -0.2779999999999999,
          -0.2689999999999999,
          -0.2629999999999999,
          -0.2729999999999999,
          -0.29099999999999987,
          -0.2969999999999999,
          -0.2919999999999999,
          -0.28899999999999987,
          -0.28999999999999987,
          -0.27999999999999986,
          -0.27999999999999986,
          -0.28499999999999986,
          -0.27299999999999985,
          -0.2619999999999999,
          -0.23699999999999988,
          -0.1989999999999999,
          -0.1609999999999999,
          -0.1339999999999999,
          -0.1029999999999999,
          -0.06399999999999989,
          -0.024999999999999894,
          -0.015999999999999893,
          -0.012999999999999892,
          -0.014999999999999897,
          -0.021999999999999898,
          -0.051999999999999894,
          -0.08699999999999988,
          -0.09199999999999989,
          -0.0989999999999999,
          -0.1379999999999999,
          -0.1679999999999999,
          -0.1669999999999999,
          -0.1479999999999999,
          -0.13099999999999992,
          -0.11699999999999992,
          -0.10899999999999994,
          -0.08799999999999994,
          -0.08999999999999994,
          -0.08499999999999995,
          -0.07999999999999996,
          -0.06599999999999998,
          -0.05899999999999996,
          -0.07099999999999998,
          -0.07699999999999997,
          -0.05599999999999996,
          -0.03399999999999996,
          -0.038999999999999965,
          -0.012999999999999966,
          0.013000000000000034,
          0.03600000000000003,
          0.04500000000000003,
          0.055000000000000035,
          0.08600000000000003,
          0.10700000000000003,
          0.11700000000000003,
          0.14300000000000004,
          0.17200000000000004,
          0.17500000000000004,
          0.19000000000000003,
          0.21500000000000008,
          0.23700000000000004,
          0.25900000000000006,
          0.2760000000000001,
          0.30500000000000005,
          0.3080000000000001,
          0.3100000000000001,
          0.32300000000000006,
          0.33100000000000007,
          0.32100000000000006,
          0.31900000000000006,
          0.32700000000000007,
          0.3430000000000001,
          0.34400000000000003,
          0.35500000000000004,
          0.35600000000000004,
          0.34800000000000003,
          0.35200000000000004,
          0.376,
          0.39799999999999996,
          0.414,
          0.43299999999999994,
          0.44099999999999995,
          0.4469999999999999,
          0.43599999999999994,
          0.4669999999999999,
          0.4929999999999999,
          0.49599999999999983,
          0.48899999999999977,
          0.4949999999999998,
          0.5109999999999998,
          0.5229999999999998,
          0.5489999999999997,
          0.5679999999999998,
          0.5929999999999997,
          0.6089999999999998
         ]
        }
       ],
       "layout": {
        "paper_bgcolor": "rgb(245, 246, 250)",
        "plot_bgcolor": "rgb(245, 246, 250)",
        "template": {
         "data": {
          "bar": [
           {
            "error_x": {
             "color": "#2a3f5f"
            },
            "error_y": {
             "color": "#2a3f5f"
            },
            "marker": {
             "line": {
              "color": "#E5ECF6",
              "width": 0.5
             }
            },
            "type": "bar"
           }
          ],
          "barpolar": [
           {
            "marker": {
             "line": {
              "color": "#E5ECF6",
              "width": 0.5
             }
            },
            "type": "barpolar"
           }
          ],
          "carpet": [
           {
            "aaxis": {
             "endlinecolor": "#2a3f5f",
             "gridcolor": "white",
             "linecolor": "white",
             "minorgridcolor": "white",
             "startlinecolor": "#2a3f5f"
            },
            "baxis": {
             "endlinecolor": "#2a3f5f",
             "gridcolor": "white",
             "linecolor": "white",
             "minorgridcolor": "white",
             "startlinecolor": "#2a3f5f"
            },
            "type": "carpet"
           }
          ],
          "choropleth": [
           {
            "colorbar": {
             "outlinewidth": 0,
             "ticks": ""
            },
            "type": "choropleth"
           }
          ],
          "contour": [
           {
            "colorbar": {
             "outlinewidth": 0,
             "ticks": ""
            },
            "colorscale": [
             [
              0,
              "#0d0887"
             ],
             [
              0.1111111111111111,
              "#46039f"
             ],
             [
              0.2222222222222222,
              "#7201a8"
             ],
             [
              0.3333333333333333,
              "#9c179e"
             ],
             [
              0.4444444444444444,
              "#bd3786"
             ],
             [
              0.5555555555555556,
              "#d8576b"
             ],
             [
              0.6666666666666666,
              "#ed7953"
             ],
             [
              0.7777777777777778,
              "#fb9f3a"
             ],
             [
              0.8888888888888888,
              "#fdca26"
             ],
             [
              1,
              "#f0f921"
             ]
            ],
            "type": "contour"
           }
          ],
          "contourcarpet": [
           {
            "colorbar": {
             "outlinewidth": 0,
             "ticks": ""
            },
            "type": "contourcarpet"
           }
          ],
          "heatmap": [
           {
            "colorbar": {
             "outlinewidth": 0,
             "ticks": ""
            },
            "colorscale": [
             [
              0,
              "#0d0887"
             ],
             [
              0.1111111111111111,
              "#46039f"
             ],
             [
              0.2222222222222222,
              "#7201a8"
             ],
             [
              0.3333333333333333,
              "#9c179e"
             ],
             [
              0.4444444444444444,
              "#bd3786"
             ],
             [
              0.5555555555555556,
              "#d8576b"
             ],
             [
              0.6666666666666666,
              "#ed7953"
             ],
             [
              0.7777777777777778,
              "#fb9f3a"
             ],
             [
              0.8888888888888888,
              "#fdca26"
             ],
             [
              1,
              "#f0f921"
             ]
            ],
            "type": "heatmap"
           }
          ],
          "heatmapgl": [
           {
            "colorbar": {
             "outlinewidth": 0,
             "ticks": ""
            },
            "colorscale": [
             [
              0,
              "#0d0887"
             ],
             [
              0.1111111111111111,
              "#46039f"
             ],
             [
              0.2222222222222222,
              "#7201a8"
             ],
             [
              0.3333333333333333,
              "#9c179e"
             ],
             [
              0.4444444444444444,
              "#bd3786"
             ],
             [
              0.5555555555555556,
              "#d8576b"
             ],
             [
              0.6666666666666666,
              "#ed7953"
             ],
             [
              0.7777777777777778,
              "#fb9f3a"
             ],
             [
              0.8888888888888888,
              "#fdca26"
             ],
             [
              1,
              "#f0f921"
             ]
            ],
            "type": "heatmapgl"
           }
          ],
          "histogram": [
           {
            "marker": {
             "colorbar": {
              "outlinewidth": 0,
              "ticks": ""
             }
            },
            "type": "histogram"
           }
          ],
          "histogram2d": [
           {
            "colorbar": {
             "outlinewidth": 0,
             "ticks": ""
            },
            "colorscale": [
             [
              0,
              "#0d0887"
             ],
             [
              0.1111111111111111,
              "#46039f"
             ],
             [
              0.2222222222222222,
              "#7201a8"
             ],
             [
              0.3333333333333333,
              "#9c179e"
             ],
             [
              0.4444444444444444,
              "#bd3786"
             ],
             [
              0.5555555555555556,
              "#d8576b"
             ],
             [
              0.6666666666666666,
              "#ed7953"
             ],
             [
              0.7777777777777778,
              "#fb9f3a"
             ],
             [
              0.8888888888888888,
              "#fdca26"
             ],
             [
              1,
              "#f0f921"
             ]
            ],
            "type": "histogram2d"
           }
          ],
          "histogram2dcontour": [
           {
            "colorbar": {
             "outlinewidth": 0,
             "ticks": ""
            },
            "colorscale": [
             [
              0,
              "#0d0887"
             ],
             [
              0.1111111111111111,
              "#46039f"
             ],
             [
              0.2222222222222222,
              "#7201a8"
             ],
             [
              0.3333333333333333,
              "#9c179e"
             ],
             [
              0.4444444444444444,
              "#bd3786"
             ],
             [
              0.5555555555555556,
              "#d8576b"
             ],
             [
              0.6666666666666666,
              "#ed7953"
             ],
             [
              0.7777777777777778,
              "#fb9f3a"
             ],
             [
              0.8888888888888888,
              "#fdca26"
             ],
             [
              1,
              "#f0f921"
             ]
            ],
            "type": "histogram2dcontour"
           }
          ],
          "mesh3d": [
           {
            "colorbar": {
             "outlinewidth": 0,
             "ticks": ""
            },
            "type": "mesh3d"
           }
          ],
          "parcoords": [
           {
            "line": {
             "colorbar": {
              "outlinewidth": 0,
              "ticks": ""
             }
            },
            "type": "parcoords"
           }
          ],
          "pie": [
           {
            "automargin": true,
            "type": "pie"
           }
          ],
          "scatter": [
           {
            "marker": {
             "colorbar": {
              "outlinewidth": 0,
              "ticks": ""
             }
            },
            "type": "scatter"
           }
          ],
          "scatter3d": [
           {
            "line": {
             "colorbar": {
              "outlinewidth": 0,
              "ticks": ""
             }
            },
            "marker": {
             "colorbar": {
              "outlinewidth": 0,
              "ticks": ""
             }
            },
            "type": "scatter3d"
           }
          ],
          "scattercarpet": [
           {
            "marker": {
             "colorbar": {
              "outlinewidth": 0,
              "ticks": ""
             }
            },
            "type": "scattercarpet"
           }
          ],
          "scattergeo": [
           {
            "marker": {
             "colorbar": {
              "outlinewidth": 0,
              "ticks": ""
             }
            },
            "type": "scattergeo"
           }
          ],
          "scattergl": [
           {
            "marker": {
             "colorbar": {
              "outlinewidth": 0,
              "ticks": ""
             }
            },
            "type": "scattergl"
           }
          ],
          "scattermapbox": [
           {
            "marker": {
             "colorbar": {
              "outlinewidth": 0,
              "ticks": ""
             }
            },
            "type": "scattermapbox"
           }
          ],
          "scatterpolar": [
           {
            "marker": {
             "colorbar": {
              "outlinewidth": 0,
              "ticks": ""
             }
            },
            "type": "scatterpolar"
           }
          ],
          "scatterpolargl": [
           {
            "marker": {
             "colorbar": {
              "outlinewidth": 0,
              "ticks": ""
             }
            },
            "type": "scatterpolargl"
           }
          ],
          "scatterternary": [
           {
            "marker": {
             "colorbar": {
              "outlinewidth": 0,
              "ticks": ""
             }
            },
            "type": "scatterternary"
           }
          ],
          "surface": [
           {
            "colorbar": {
             "outlinewidth": 0,
             "ticks": ""
            },
            "colorscale": [
             [
              0,
              "#0d0887"
             ],
             [
              0.1111111111111111,
              "#46039f"
             ],
             [
              0.2222222222222222,
              "#7201a8"
             ],
             [
              0.3333333333333333,
              "#9c179e"
             ],
             [
              0.4444444444444444,
              "#bd3786"
             ],
             [
              0.5555555555555556,
              "#d8576b"
             ],
             [
              0.6666666666666666,
              "#ed7953"
             ],
             [
              0.7777777777777778,
              "#fb9f3a"
             ],
             [
              0.8888888888888888,
              "#fdca26"
             ],
             [
              1,
              "#f0f921"
             ]
            ],
            "type": "surface"
           }
          ],
          "table": [
           {
            "cells": {
             "fill": {
              "color": "#EBF0F8"
             },
             "line": {
              "color": "white"
             }
            },
            "header": {
             "fill": {
              "color": "#C8D4E3"
             },
             "line": {
              "color": "white"
             }
            },
            "type": "table"
           }
          ]
         },
         "layout": {
          "annotationdefaults": {
           "arrowcolor": "#2a3f5f",
           "arrowhead": 0,
           "arrowwidth": 1
          },
          "coloraxis": {
           "colorbar": {
            "outlinewidth": 0,
            "ticks": ""
           }
          },
          "colorscale": {
           "diverging": [
            [
             0,
             "#8e0152"
            ],
            [
             0.1,
             "#c51b7d"
            ],
            [
             0.2,
             "#de77ae"
            ],
            [
             0.3,
             "#f1b6da"
            ],
            [
             0.4,
             "#fde0ef"
            ],
            [
             0.5,
             "#f7f7f7"
            ],
            [
             0.6,
             "#e6f5d0"
            ],
            [
             0.7,
             "#b8e186"
            ],
            [
             0.8,
             "#7fbc41"
            ],
            [
             0.9,
             "#4d9221"
            ],
            [
             1,
             "#276419"
            ]
           ],
           "sequential": [
            [
             0,
             "#0d0887"
            ],
            [
             0.1111111111111111,
             "#46039f"
            ],
            [
             0.2222222222222222,
             "#7201a8"
            ],
            [
             0.3333333333333333,
             "#9c179e"
            ],
            [
             0.4444444444444444,
             "#bd3786"
            ],
            [
             0.5555555555555556,
             "#d8576b"
            ],
            [
             0.6666666666666666,
             "#ed7953"
            ],
            [
             0.7777777777777778,
             "#fb9f3a"
            ],
            [
             0.8888888888888888,
             "#fdca26"
            ],
            [
             1,
             "#f0f921"
            ]
           ],
           "sequentialminus": [
            [
             0,
             "#0d0887"
            ],
            [
             0.1111111111111111,
             "#46039f"
            ],
            [
             0.2222222222222222,
             "#7201a8"
            ],
            [
             0.3333333333333333,
             "#9c179e"
            ],
            [
             0.4444444444444444,
             "#bd3786"
            ],
            [
             0.5555555555555556,
             "#d8576b"
            ],
            [
             0.6666666666666666,
             "#ed7953"
            ],
            [
             0.7777777777777778,
             "#fb9f3a"
            ],
            [
             0.8888888888888888,
             "#fdca26"
            ],
            [
             1,
             "#f0f921"
            ]
           ]
          },
          "colorway": [
           "#636efa",
           "#EF553B",
           "#00cc96",
           "#ab63fa",
           "#FFA15A",
           "#19d3f3",
           "#FF6692",
           "#B6E880",
           "#FF97FF",
           "#FECB52"
          ],
          "font": {
           "color": "#2a3f5f"
          },
          "geo": {
           "bgcolor": "white",
           "lakecolor": "white",
           "landcolor": "#E5ECF6",
           "showlakes": true,
           "showland": true,
           "subunitcolor": "white"
          },
          "hoverlabel": {
           "align": "left"
          },
          "hovermode": "closest",
          "mapbox": {
           "style": "light"
          },
          "paper_bgcolor": "white",
          "plot_bgcolor": "#E5ECF6",
          "polar": {
           "angularaxis": {
            "gridcolor": "white",
            "linecolor": "white",
            "ticks": ""
           },
           "bgcolor": "#E5ECF6",
           "radialaxis": {
            "gridcolor": "white",
            "linecolor": "white",
            "ticks": ""
           }
          },
          "scene": {
           "xaxis": {
            "backgroundcolor": "#E5ECF6",
            "gridcolor": "white",
            "gridwidth": 2,
            "linecolor": "white",
            "showbackground": true,
            "ticks": "",
            "zerolinecolor": "white"
           },
           "yaxis": {
            "backgroundcolor": "#E5ECF6",
            "gridcolor": "white",
            "gridwidth": 2,
            "linecolor": "white",
            "showbackground": true,
            "ticks": "",
            "zerolinecolor": "white"
           },
           "zaxis": {
            "backgroundcolor": "#E5ECF6",
            "gridcolor": "white",
            "gridwidth": 2,
            "linecolor": "white",
            "showbackground": true,
            "ticks": "",
            "zerolinecolor": "white"
           }
          },
          "shapedefaults": {
           "line": {
            "color": "#2a3f5f"
           }
          },
          "ternary": {
           "aaxis": {
            "gridcolor": "white",
            "linecolor": "white",
            "ticks": ""
           },
           "baxis": {
            "gridcolor": "white",
            "linecolor": "white",
            "ticks": ""
           },
           "bgcolor": "#E5ECF6",
           "caxis": {
            "gridcolor": "white",
            "linecolor": "white",
            "ticks": ""
           }
          },
          "title": {
           "x": 0.05
          },
          "xaxis": {
           "automargin": true,
           "gridcolor": "white",
           "linecolor": "white",
           "ticks": "",
           "title": {
            "standoff": 15
           },
           "zerolinecolor": "white",
           "zerolinewidth": 2
          },
          "yaxis": {
           "automargin": true,
           "gridcolor": "white",
           "linecolor": "white",
           "ticks": "",
           "title": {
            "standoff": 15
           },
           "zerolinecolor": "white",
           "zerolinewidth": 2
          }
         }
        },
        "title": {
         "font": {
          "size": 22
         },
         "text": "Global mean sea level (mm)",
         "x": 0.5
        },
        "xaxis": {
         "color": "black",
         "title": {
          "text": "Year"
         }
        },
        "yaxis": {
         "color": "black",
         "title": {
          "text": "GMSL variation (mm)"
         }
        }
       }
      },
      "text/html": [
       "<div>                            <div id=\"aa0ffd42-cc75-44c0-8de9-7d0e8894ebd9\" class=\"plotly-graph-div\" style=\"height:525px; width:100%;\"></div>            <script type=\"text/javascript\">                require([\"plotly\"], function(Plotly) {                    window.PLOTLYENV=window.PLOTLYENV || {};                                    if (document.getElementById(\"aa0ffd42-cc75-44c0-8de9-7d0e8894ebd9\")) {                    Plotly.newPlot(                        \"aa0ffd42-cc75-44c0-8de9-7d0e8894ebd9\",                        [{\"line\": {\"width\": 1.5}, \"name\": \"NHem\", \"opacity\": 0.8, \"type\": \"scatter\", \"x\": [1880, 1881, 1882, 1883, 1884, 1885, 1886, 1887, 1888, 1889, 1890, 1891, 1892, 1893, 1894, 1895, 1896, 1897, 1898, 1899, 1900, 1901, 1902, 1903, 1904, 1905, 1906, 1907, 1908, 1909, 1910, 1911, 1912, 1913, 1914, 1915, 1916, 1917, 1918, 1919, 1920, 1921, 1922, 1923, 1924, 1925, 1926, 1927, 1928, 1929, 1930, 1931, 1932, 1933, 1934, 1935, 1936, 1937, 1938, 1939, 1940, 1941, 1942, 1943, 1944, 1945, 1946, 1947, 1948, 1949, 1950, 1951, 1952, 1953, 1954, 1955, 1956, 1957, 1958, 1959, 1960, 1961, 1962, 1963, 1964, 1965, 1966, 1967, 1968, 1969, 1970, 1971, 1972, 1973, 1974, 1975, 1976, 1977, 1978, 1979, 1980, 1981, 1982, 1983, 1984, 1985, 1986, 1987, 1988, 1989, 1990, 1991, 1992, 1993, 1994, 1995, 1996, 1997, 1998, 1999, 2000, 2001, 2002, 2003, 2004, 2005, 2006, 2007, 2008, 2009, 2010, 2011, 2012, 2013, 2014, 2015, 2016, 2017, 2018, 2019], \"y\": [null, null, null, null, null, null, null, null, null, -0.29800000000000004, -0.30700000000000005, -0.317, -0.33599999999999997, -0.356, -0.351, -0.33799999999999997, -0.315, -0.28900000000000003, -0.294, -0.299, -0.26999999999999996, -0.25599999999999995, -0.24999999999999994, -0.24099999999999994, -0.25099999999999995, -0.25099999999999995, -0.2559999999999999, -0.2869999999999999, -0.30599999999999994, -0.3339999999999999, -0.3699999999999999, -0.3999999999999999, -0.4129999999999999, -0.4169999999999999, -0.3889999999999999, -0.37399999999999994, -0.3919999999999999, -0.4029999999999999, -0.39699999999999996, -0.3829999999999999, -0.3699999999999999, -0.33899999999999986, -0.3209999999999999, -0.30099999999999993, -0.29999999999999993, -0.29999999999999993, -0.2559999999999999, -0.2119999999999999, -0.18199999999999994, -0.1809999999999999, -0.1519999999999999, -0.1359999999999999, -0.11399999999999991, -0.11799999999999991, -0.09899999999999991, -0.09499999999999992, -0.10099999999999991, -0.07499999999999991, -0.04899999999999991, -0.005999999999999911, 0.014000000000000087, 0.03200000000000009, 0.05100000000000009, 0.09500000000000008, 0.12200000000000008, 0.1420000000000001, 0.1490000000000001, 0.1450000000000001, 0.1270000000000001, 0.1150000000000001, 0.08200000000000011, 0.06400000000000013, 0.05700000000000013, 0.06300000000000013, 0.03400000000000012, 0.015000000000000121, -0.01099999999999988, -0.01499999999999988, 0.0020000000000001193, 0.01700000000000012, 0.04000000000000011, 0.043000000000000115, 0.050000000000000114, 0.04000000000000011, 0.02300000000000011, 0.01800000000000011, 0.03900000000000011, 0.03800000000000012, 0.01600000000000012, 0.0010000000000001175, -0.010999999999999881, -0.03399999999999988, -0.06399999999999988, -0.06899999999999988, -0.06799999999999988, -0.058999999999999886, -0.07799999999999987, -0.06899999999999988, -0.05999999999999987, -0.04899999999999988, -0.027999999999999876, 0.024000000000000125, 0.04600000000000013, 0.06200000000000013, 0.08400000000000014, 0.08900000000000015, 0.12300000000000014, 0.13600000000000012, 0.17100000000000012, 0.1900000000000001, 0.22600000000000015, 0.23000000000000015, 0.23900000000000018, 0.23300000000000018, 0.2660000000000002, 0.3240000000000002, 0.3370000000000002, 0.3640000000000002, 0.39800000000000013, 0.41900000000000015, 0.4160000000000001, 0.43900000000000006, 0.49700000000000005, 0.553, 0.5820000000000001, 0.6100000000000001, 0.6660000000000001, 0.6990000000000001, 0.696, 0.7209999999999999, 0.7609999999999999, 0.772, 0.7819999999999999, 0.7869999999999999, 0.813, 0.845, 0.8939999999999999, 0.9269999999999999, 0.9629999999999999, 1.012]}, {\"line\": {\"width\": 1.5}, \"name\": \"SHem\", \"opacity\": 0.8, \"type\": \"scatter\", \"x\": [1880, 1881, 1882, 1883, 1884, 1885, 1886, 1887, 1888, 1889, 1890, 1891, 1892, 1893, 1894, 1895, 1896, 1897, 1898, 1899, 1900, 1901, 1902, 1903, 1904, 1905, 1906, 1907, 1908, 1909, 1910, 1911, 1912, 1913, 1914, 1915, 1916, 1917, 1918, 1919, 1920, 1921, 1922, 1923, 1924, 1925, 1926, 1927, 1928, 1929, 1930, 1931, 1932, 1933, 1934, 1935, 1936, 1937, 1938, 1939, 1940, 1941, 1942, 1943, 1944, 1945, 1946, 1947, 1948, 1949, 1950, 1951, 1952, 1953, 1954, 1955, 1956, 1957, 1958, 1959, 1960, 1961, 1962, 1963, 1964, 1965, 1966, 1967, 1968, 1969, 1970, 1971, 1972, 1973, 1974, 1975, 1976, 1977, 1978, 1979, 1980, 1981, 1982, 1983, 1984, 1985, 1986, 1987, 1988, 1989, 1990, 1991, 1992, 1993, 1994, 1995, 1996, 1997, 1998, 1999, 2000, 2001, 2002, 2003, 2004, 2005, 2006, 2007, 2008, 2009, 2010, 2011, 2012, 2013, 2014, 2015, 2016, 2017, 2018, 2019], \"y\": [null, null, null, null, null, null, null, null, null, -0.11000000000000001, -0.138, -0.158, -0.173, -0.182, -0.18899999999999997, -0.17999999999999997, -0.16299999999999998, -0.13999999999999996, -0.15399999999999997, -0.16399999999999998, -0.13799999999999996, -0.13699999999999996, -0.14399999999999996, -0.16499999999999998, -0.189, -0.19600000000000004, -0.21400000000000005, -0.23800000000000007, -0.25100000000000006, -0.28400000000000003, -0.32, -0.34700000000000003, -0.349, -0.33799999999999997, -0.303, -0.293, -0.30299999999999994, -0.30899999999999994, -0.2889999999999999, -0.2619999999999999, -0.24299999999999994, -0.22399999999999992, -0.22899999999999993, -0.23499999999999993, -0.2599999999999999, -0.2779999999999999, -0.2689999999999999, -0.2629999999999999, -0.2729999999999999, -0.29099999999999987, -0.2969999999999999, -0.2919999999999999, -0.28899999999999987, -0.28999999999999987, -0.27999999999999986, -0.27999999999999986, -0.28499999999999986, -0.27299999999999985, -0.2619999999999999, -0.23699999999999988, -0.1989999999999999, -0.1609999999999999, -0.1339999999999999, -0.1029999999999999, -0.06399999999999989, -0.024999999999999894, -0.015999999999999893, -0.012999999999999892, -0.014999999999999897, -0.021999999999999898, -0.051999999999999894, -0.08699999999999988, -0.09199999999999989, -0.0989999999999999, -0.1379999999999999, -0.1679999999999999, -0.1669999999999999, -0.1479999999999999, -0.13099999999999992, -0.11699999999999992, -0.10899999999999994, -0.08799999999999994, -0.08999999999999994, -0.08499999999999995, -0.07999999999999996, -0.06599999999999998, -0.05899999999999996, -0.07099999999999998, -0.07699999999999997, -0.05599999999999996, -0.03399999999999996, -0.038999999999999965, -0.012999999999999966, 0.013000000000000034, 0.03600000000000003, 0.04500000000000003, 0.055000000000000035, 0.08600000000000003, 0.10700000000000003, 0.11700000000000003, 0.14300000000000004, 0.17200000000000004, 0.17500000000000004, 0.19000000000000003, 0.21500000000000008, 0.23700000000000004, 0.25900000000000006, 0.2760000000000001, 0.30500000000000005, 0.3080000000000001, 0.3100000000000001, 0.32300000000000006, 0.33100000000000007, 0.32100000000000006, 0.31900000000000006, 0.32700000000000007, 0.3430000000000001, 0.34400000000000003, 0.35500000000000004, 0.35600000000000004, 0.34800000000000003, 0.35200000000000004, 0.376, 0.39799999999999996, 0.414, 0.43299999999999994, 0.44099999999999995, 0.4469999999999999, 0.43599999999999994, 0.4669999999999999, 0.4929999999999999, 0.49599999999999983, 0.48899999999999977, 0.4949999999999998, 0.5109999999999998, 0.5229999999999998, 0.5489999999999997, 0.5679999999999998, 0.5929999999999997, 0.6089999999999998]}],                        {\"paper_bgcolor\": \"rgb(245, 246, 250)\", \"plot_bgcolor\": \"rgb(245, 246, 250)\", \"template\": {\"data\": {\"bar\": [{\"error_x\": {\"color\": \"#2a3f5f\"}, \"error_y\": {\"color\": \"#2a3f5f\"}, \"marker\": {\"line\": {\"color\": \"#E5ECF6\", \"width\": 0.5}}, \"type\": \"bar\"}], \"barpolar\": [{\"marker\": {\"line\": {\"color\": \"#E5ECF6\", \"width\": 0.5}}, \"type\": \"barpolar\"}], \"carpet\": [{\"aaxis\": {\"endlinecolor\": \"#2a3f5f\", \"gridcolor\": \"white\", \"linecolor\": \"white\", \"minorgridcolor\": \"white\", \"startlinecolor\": \"#2a3f5f\"}, \"baxis\": {\"endlinecolor\": \"#2a3f5f\", \"gridcolor\": \"white\", \"linecolor\": \"white\", \"minorgridcolor\": \"white\", \"startlinecolor\": \"#2a3f5f\"}, \"type\": \"carpet\"}], \"choropleth\": [{\"colorbar\": {\"outlinewidth\": 0, \"ticks\": \"\"}, \"type\": \"choropleth\"}], \"contour\": [{\"colorbar\": {\"outlinewidth\": 0, \"ticks\": \"\"}, \"colorscale\": [[0.0, \"#0d0887\"], [0.1111111111111111, \"#46039f\"], [0.2222222222222222, \"#7201a8\"], [0.3333333333333333, \"#9c179e\"], [0.4444444444444444, \"#bd3786\"], [0.5555555555555556, \"#d8576b\"], [0.6666666666666666, \"#ed7953\"], [0.7777777777777778, \"#fb9f3a\"], [0.8888888888888888, \"#fdca26\"], [1.0, \"#f0f921\"]], \"type\": \"contour\"}], \"contourcarpet\": [{\"colorbar\": {\"outlinewidth\": 0, \"ticks\": \"\"}, \"type\": \"contourcarpet\"}], \"heatmap\": [{\"colorbar\": {\"outlinewidth\": 0, \"ticks\": \"\"}, \"colorscale\": [[0.0, \"#0d0887\"], [0.1111111111111111, \"#46039f\"], [0.2222222222222222, \"#7201a8\"], [0.3333333333333333, \"#9c179e\"], [0.4444444444444444, \"#bd3786\"], [0.5555555555555556, \"#d8576b\"], [0.6666666666666666, \"#ed7953\"], [0.7777777777777778, \"#fb9f3a\"], [0.8888888888888888, \"#fdca26\"], [1.0, \"#f0f921\"]], \"type\": \"heatmap\"}], \"heatmapgl\": [{\"colorbar\": {\"outlinewidth\": 0, \"ticks\": \"\"}, \"colorscale\": [[0.0, \"#0d0887\"], [0.1111111111111111, \"#46039f\"], [0.2222222222222222, \"#7201a8\"], [0.3333333333333333, \"#9c179e\"], [0.4444444444444444, \"#bd3786\"], [0.5555555555555556, \"#d8576b\"], [0.6666666666666666, \"#ed7953\"], [0.7777777777777778, \"#fb9f3a\"], [0.8888888888888888, \"#fdca26\"], [1.0, \"#f0f921\"]], \"type\": \"heatmapgl\"}], \"histogram\": [{\"marker\": {\"colorbar\": {\"outlinewidth\": 0, \"ticks\": \"\"}}, \"type\": \"histogram\"}], \"histogram2d\": [{\"colorbar\": {\"outlinewidth\": 0, \"ticks\": \"\"}, \"colorscale\": [[0.0, \"#0d0887\"], [0.1111111111111111, \"#46039f\"], [0.2222222222222222, \"#7201a8\"], [0.3333333333333333, \"#9c179e\"], [0.4444444444444444, \"#bd3786\"], [0.5555555555555556, \"#d8576b\"], [0.6666666666666666, \"#ed7953\"], [0.7777777777777778, \"#fb9f3a\"], [0.8888888888888888, \"#fdca26\"], [1.0, \"#f0f921\"]], \"type\": \"histogram2d\"}], \"histogram2dcontour\": [{\"colorbar\": {\"outlinewidth\": 0, \"ticks\": \"\"}, \"colorscale\": [[0.0, \"#0d0887\"], [0.1111111111111111, \"#46039f\"], [0.2222222222222222, \"#7201a8\"], [0.3333333333333333, \"#9c179e\"], [0.4444444444444444, \"#bd3786\"], [0.5555555555555556, \"#d8576b\"], [0.6666666666666666, \"#ed7953\"], [0.7777777777777778, \"#fb9f3a\"], [0.8888888888888888, \"#fdca26\"], [1.0, \"#f0f921\"]], \"type\": \"histogram2dcontour\"}], \"mesh3d\": [{\"colorbar\": {\"outlinewidth\": 0, \"ticks\": \"\"}, \"type\": \"mesh3d\"}], \"parcoords\": [{\"line\": {\"colorbar\": {\"outlinewidth\": 0, \"ticks\": \"\"}}, \"type\": \"parcoords\"}], \"pie\": [{\"automargin\": true, \"type\": \"pie\"}], \"scatter\": [{\"marker\": {\"colorbar\": {\"outlinewidth\": 0, \"ticks\": \"\"}}, \"type\": \"scatter\"}], \"scatter3d\": [{\"line\": {\"colorbar\": {\"outlinewidth\": 0, \"ticks\": \"\"}}, \"marker\": {\"colorbar\": {\"outlinewidth\": 0, \"ticks\": \"\"}}, \"type\": \"scatter3d\"}], \"scattercarpet\": [{\"marker\": {\"colorbar\": {\"outlinewidth\": 0, \"ticks\": \"\"}}, \"type\": \"scattercarpet\"}], \"scattergeo\": [{\"marker\": {\"colorbar\": {\"outlinewidth\": 0, \"ticks\": \"\"}}, \"type\": \"scattergeo\"}], \"scattergl\": [{\"marker\": {\"colorbar\": {\"outlinewidth\": 0, \"ticks\": \"\"}}, \"type\": \"scattergl\"}], \"scattermapbox\": [{\"marker\": {\"colorbar\": {\"outlinewidth\": 0, \"ticks\": \"\"}}, \"type\": \"scattermapbox\"}], \"scatterpolar\": [{\"marker\": {\"colorbar\": {\"outlinewidth\": 0, \"ticks\": \"\"}}, \"type\": \"scatterpolar\"}], \"scatterpolargl\": [{\"marker\": {\"colorbar\": {\"outlinewidth\": 0, \"ticks\": \"\"}}, \"type\": \"scatterpolargl\"}], \"scatterternary\": [{\"marker\": {\"colorbar\": {\"outlinewidth\": 0, \"ticks\": \"\"}}, \"type\": \"scatterternary\"}], \"surface\": [{\"colorbar\": {\"outlinewidth\": 0, \"ticks\": \"\"}, \"colorscale\": [[0.0, \"#0d0887\"], [0.1111111111111111, \"#46039f\"], [0.2222222222222222, \"#7201a8\"], [0.3333333333333333, \"#9c179e\"], [0.4444444444444444, \"#bd3786\"], [0.5555555555555556, \"#d8576b\"], [0.6666666666666666, \"#ed7953\"], [0.7777777777777778, \"#fb9f3a\"], [0.8888888888888888, \"#fdca26\"], [1.0, \"#f0f921\"]], \"type\": \"surface\"}], \"table\": [{\"cells\": {\"fill\": {\"color\": \"#EBF0F8\"}, \"line\": {\"color\": \"white\"}}, \"header\": {\"fill\": {\"color\": \"#C8D4E3\"}, \"line\": {\"color\": \"white\"}}, \"type\": \"table\"}]}, \"layout\": {\"annotationdefaults\": {\"arrowcolor\": \"#2a3f5f\", \"arrowhead\": 0, \"arrowwidth\": 1}, \"coloraxis\": {\"colorbar\": {\"outlinewidth\": 0, \"ticks\": \"\"}}, \"colorscale\": {\"diverging\": [[0, \"#8e0152\"], [0.1, \"#c51b7d\"], [0.2, \"#de77ae\"], [0.3, \"#f1b6da\"], [0.4, \"#fde0ef\"], [0.5, \"#f7f7f7\"], [0.6, \"#e6f5d0\"], [0.7, \"#b8e186\"], [0.8, \"#7fbc41\"], [0.9, \"#4d9221\"], [1, \"#276419\"]], \"sequential\": [[0.0, \"#0d0887\"], [0.1111111111111111, \"#46039f\"], [0.2222222222222222, \"#7201a8\"], [0.3333333333333333, \"#9c179e\"], [0.4444444444444444, \"#bd3786\"], [0.5555555555555556, \"#d8576b\"], [0.6666666666666666, \"#ed7953\"], [0.7777777777777778, \"#fb9f3a\"], [0.8888888888888888, \"#fdca26\"], [1.0, \"#f0f921\"]], \"sequentialminus\": [[0.0, \"#0d0887\"], [0.1111111111111111, \"#46039f\"], [0.2222222222222222, \"#7201a8\"], [0.3333333333333333, \"#9c179e\"], [0.4444444444444444, \"#bd3786\"], [0.5555555555555556, \"#d8576b\"], [0.6666666666666666, \"#ed7953\"], [0.7777777777777778, \"#fb9f3a\"], [0.8888888888888888, \"#fdca26\"], [1.0, \"#f0f921\"]]}, \"colorway\": [\"#636efa\", \"#EF553B\", \"#00cc96\", \"#ab63fa\", \"#FFA15A\", \"#19d3f3\", \"#FF6692\", \"#B6E880\", \"#FF97FF\", \"#FECB52\"], \"font\": {\"color\": \"#2a3f5f\"}, \"geo\": {\"bgcolor\": \"white\", \"lakecolor\": \"white\", \"landcolor\": \"#E5ECF6\", \"showlakes\": true, \"showland\": true, \"subunitcolor\": \"white\"}, \"hoverlabel\": {\"align\": \"left\"}, \"hovermode\": \"closest\", \"mapbox\": {\"style\": \"light\"}, \"paper_bgcolor\": \"white\", \"plot_bgcolor\": \"#E5ECF6\", \"polar\": {\"angularaxis\": {\"gridcolor\": \"white\", \"linecolor\": \"white\", \"ticks\": \"\"}, \"bgcolor\": \"#E5ECF6\", \"radialaxis\": {\"gridcolor\": \"white\", \"linecolor\": \"white\", \"ticks\": \"\"}}, \"scene\": {\"xaxis\": {\"backgroundcolor\": \"#E5ECF6\", \"gridcolor\": \"white\", \"gridwidth\": 2, \"linecolor\": \"white\", \"showbackground\": true, \"ticks\": \"\", \"zerolinecolor\": \"white\"}, \"yaxis\": {\"backgroundcolor\": \"#E5ECF6\", \"gridcolor\": \"white\", \"gridwidth\": 2, \"linecolor\": \"white\", \"showbackground\": true, \"ticks\": \"\", \"zerolinecolor\": \"white\"}, \"zaxis\": {\"backgroundcolor\": \"#E5ECF6\", \"gridcolor\": \"white\", \"gridwidth\": 2, \"linecolor\": \"white\", \"showbackground\": true, \"ticks\": \"\", \"zerolinecolor\": \"white\"}}, \"shapedefaults\": {\"line\": {\"color\": \"#2a3f5f\"}}, \"ternary\": {\"aaxis\": {\"gridcolor\": \"white\", \"linecolor\": \"white\", \"ticks\": \"\"}, \"baxis\": {\"gridcolor\": \"white\", \"linecolor\": \"white\", \"ticks\": \"\"}, \"bgcolor\": \"#E5ECF6\", \"caxis\": {\"gridcolor\": \"white\", \"linecolor\": \"white\", \"ticks\": \"\"}}, \"title\": {\"x\": 0.05}, \"xaxis\": {\"automargin\": true, \"gridcolor\": \"white\", \"linecolor\": \"white\", \"ticks\": \"\", \"title\": {\"standoff\": 15}, \"zerolinecolor\": \"white\", \"zerolinewidth\": 2}, \"yaxis\": {\"automargin\": true, \"gridcolor\": \"white\", \"linecolor\": \"white\", \"ticks\": \"\", \"title\": {\"standoff\": 15}, \"zerolinecolor\": \"white\", \"zerolinewidth\": 2}}}, \"title\": {\"font\": {\"size\": 22}, \"text\": \"Global mean sea level (mm)\", \"x\": 0.5}, \"xaxis\": {\"color\": \"black\", \"title\": {\"text\": \"Year\"}}, \"yaxis\": {\"color\": \"black\", \"title\": {\"text\": \"GMSL variation (mm)\"}}},                        {\"responsive\": true}                    ).then(function(){\n",
       "                            \n",
       "var gd = document.getElementById('aa0ffd42-cc75-44c0-8de9-7d0e8894ebd9');\n",
       "var x = new MutationObserver(function (mutations, observer) {{\n",
       "        var display = window.getComputedStyle(gd).display;\n",
       "        if (!display || display === 'none') {{\n",
       "            console.log([gd, 'removed!']);\n",
       "            Plotly.purge(gd);\n",
       "            observer.disconnect();\n",
       "        }}\n",
       "}});\n",
       "\n",
       "// Listen for the removal of the full notebook cells\n",
       "var notebookContainer = gd.closest('#notebook-container');\n",
       "if (notebookContainer) {{\n",
       "    x.observe(notebookContainer, {childList: true});\n",
       "}}\n",
       "\n",
       "// Listen for the clearing of the current output cell\n",
       "var outputEl = gd.closest('.output');\n",
       "if (outputEl) {{\n",
       "    x.observe(outputEl, {childList: true});\n",
       "}}\n",
       "\n",
       "                        })                };                });            </script>        </div>"
      ]
     },
     "metadata": {},
     "output_type": "display_data"
    }
   ],
   "source": [
    "fig = go.Figure( layout=go.Layout(xaxis=dict(title = \"Year\", color = 'black'),\n",
    "        yaxis=dict(title = \"GMSL variation (mm)\", color = 'black'),\n",
    "    ))\n",
    "\n",
    "fig.add_trace(go.Scatter(\n",
    "                x=df_sm.index,\n",
    "                y=df_sm['NHem'],\n",
    "                name=\"NHem\",\n",
    "                line_width = 1.5,\n",
    "                opacity=0.8))\n",
    "\n",
    "fig.add_trace(go.Scatter(\n",
    "                x=df_sm.index,\n",
    "                y=df_sm['SHem'],\n",
    "                name=\"SHem\",\n",
    "                line_width = 1.5,\n",
    "                opacity=0.8))\n",
    "\n",
    "# Use date string to set xaxis range\n",
    "fig.update_layout(title_text = \"Global mean sea level (mm)\", title_x=0.5, title_font_size = 22,\n",
    "                  paper_bgcolor = 'rgb(245, 246, 250)', plot_bgcolor = 'rgb(245, 246, 250)')\n",
    "fig.show()"
   ]
  },
  {
   "cell_type": "markdown",
   "metadata": {},
   "source": [
    "The mean sea level is directly linked to the average temperature. Indeed, due to thermal expansion of water and ice melting, the higher the temperature, the higher the sea level. The graph above shows a clear trend of an increasing sea level in both hemispheres over the past decades. This increase is even more significant in the north hemisphere."
   ]
  },
  {
   "cell_type": "code",
   "execution_count": 7,
   "metadata": {},
   "outputs": [],
   "source": [
    "df1 = df_sm.iloc[:, 6 : 15]"
   ]
  },
  {
   "cell_type": "code",
   "execution_count": 8,
   "metadata": {},
   "outputs": [
    {
     "data": {
      "application/vnd.plotly.v1+json": {
       "config": {
        "plotlyServerURL": "https://plot.ly"
       },
       "data": [
        {
         "line": {
          "width": 1.5
         },
         "name": "64N-90N",
         "opacity": 0.8,
         "type": "scatter",
         "x": [
          1880,
          1881,
          1882,
          1883,
          1884,
          1885,
          1886,
          1887,
          1888,
          1889,
          1890,
          1891,
          1892,
          1893,
          1894,
          1895,
          1896,
          1897,
          1898,
          1899,
          1900,
          1901,
          1902,
          1903,
          1904,
          1905,
          1906,
          1907,
          1908,
          1909,
          1910,
          1911,
          1912,
          1913,
          1914,
          1915,
          1916,
          1917,
          1918,
          1919,
          1920,
          1921,
          1922,
          1923,
          1924,
          1925,
          1926,
          1927,
          1928,
          1929,
          1930,
          1931,
          1932,
          1933,
          1934,
          1935,
          1936,
          1937,
          1938,
          1939,
          1940,
          1941,
          1942,
          1943,
          1944,
          1945,
          1946,
          1947,
          1948,
          1949,
          1950,
          1951,
          1952,
          1953,
          1954,
          1955,
          1956,
          1957,
          1958,
          1959,
          1960,
          1961,
          1962,
          1963,
          1964,
          1965,
          1966,
          1967,
          1968,
          1969,
          1970,
          1971,
          1972,
          1973,
          1974,
          1975,
          1976,
          1977,
          1978,
          1979,
          1980,
          1981,
          1982,
          1983,
          1984,
          1985,
          1986,
          1987,
          1988,
          1989,
          1990,
          1991,
          1992,
          1993,
          1994,
          1995,
          1996,
          1997,
          1998,
          1999,
          2000,
          2001,
          2002,
          2003,
          2004,
          2005,
          2006,
          2007,
          2008,
          2009,
          2010,
          2011,
          2012,
          2013,
          2014,
          2015,
          2016,
          2017,
          2018,
          2019
         ],
         "y": [
          null,
          null,
          null,
          null,
          null,
          null,
          null,
          null,
          null,
          -1.1410000000000002,
          -1.171,
          -1.1940000000000002,
          -1.171,
          -1.2230000000000003,
          -1.1900000000000002,
          -1.1090000000000002,
          -1.044,
          -0.9280000000000002,
          -0.9120000000000001,
          -0.9500000000000002,
          -0.8950000000000002,
          -0.8260000000000002,
          -0.8520000000000001,
          -0.8110000000000002,
          -0.732,
          -0.674,
          -0.612,
          -0.616,
          -0.531,
          -0.5040000000000001,
          -0.5080000000000001,
          -0.4950000000000001,
          -0.4040000000000001,
          -0.4250000000000001,
          -0.44400000000000006,
          -0.4960000000000001,
          -0.5170000000000001,
          -0.54,
          -0.615,
          -0.609,
          -0.5509999999999999,
          -0.522,
          -0.5039999999999999,
          -0.4379999999999999,
          -0.35599999999999987,
          -0.3039999999999999,
          -0.19799999999999984,
          -0.11199999999999984,
          0.061000000000000165,
          0.14700000000000016,
          0.20300000000000015,
          0.2620000000000001,
          0.34400000000000014,
          0.3140000000000001,
          0.3590000000000001,
          0.40300000000000014,
          0.3870000000000001,
          0.5100000000000001,
          0.5900000000000001,
          0.6320000000000001,
          0.679,
          0.623,
          0.648,
          0.806,
          0.836,
          0.865,
          0.8230000000000001,
          0.806,
          0.6679999999999999,
          0.633,
          0.553,
          0.562,
          0.516,
          0.476,
          0.43900000000000006,
          0.35200000000000004,
          0.356,
          0.258,
          0.229,
          0.256,
          0.269,
          0.24500000000000002,
          0.263,
          0.14500000000000002,
          -0.0029999999999999914,
          -0.006999999999999995,
          -0.08399999999999999,
          -0.056999999999999995,
          -0.07299999999999998,
          -0.125,
          -0.179,
          -0.17200000000000001,
          -0.25400000000000006,
          -0.23100000000000004,
          -0.18300000000000005,
          -0.14500000000000005,
          -0.07600000000000004,
          -0.09600000000000004,
          -0.07900000000000003,
          -0.13600000000000004,
          -0.08900000000000004,
          0.027999999999999976,
          0.024999999999999974,
          0.03699999999999997,
          0.09199999999999997,
          0.12099999999999995,
          0.12899999999999995,
          0.07699999999999996,
          0.15199999999999994,
          0.24599999999999994,
          0.2779999999999999,
          0.24399999999999994,
          0.2679999999999999,
          0.30299999999999994,
          0.30099999999999993,
          0.3929999999999999,
          0.469,
          0.581,
          0.608,
          0.615,
          0.655,
          0.687,
          0.8290000000000001,
          0.925,
          0.9380000000000001,
          1.006,
          1.1030000000000002,
          1.2390000000000003,
          1.3070000000000004,
          1.4100000000000004,
          1.5340000000000003,
          1.6620000000000004,
          1.7570000000000003,
          1.7630000000000003,
          1.9200000000000004,
          1.9200000000000004,
          2.0700000000000007,
          2.109000000000001,
          2.170000000000001,
          2.2960000000000007
         ]
        },
        {
         "line": {
          "width": 1.5
         },
         "name": "44N-64N",
         "opacity": 0.8,
         "type": "scatter",
         "x": [
          1880,
          1881,
          1882,
          1883,
          1884,
          1885,
          1886,
          1887,
          1888,
          1889,
          1890,
          1891,
          1892,
          1893,
          1894,
          1895,
          1896,
          1897,
          1898,
          1899,
          1900,
          1901,
          1902,
          1903,
          1904,
          1905,
          1906,
          1907,
          1908,
          1909,
          1910,
          1911,
          1912,
          1913,
          1914,
          1915,
          1916,
          1917,
          1918,
          1919,
          1920,
          1921,
          1922,
          1923,
          1924,
          1925,
          1926,
          1927,
          1928,
          1929,
          1930,
          1931,
          1932,
          1933,
          1934,
          1935,
          1936,
          1937,
          1938,
          1939,
          1940,
          1941,
          1942,
          1943,
          1944,
          1945,
          1946,
          1947,
          1948,
          1949,
          1950,
          1951,
          1952,
          1953,
          1954,
          1955,
          1956,
          1957,
          1958,
          1959,
          1960,
          1961,
          1962,
          1963,
          1964,
          1965,
          1966,
          1967,
          1968,
          1969,
          1970,
          1971,
          1972,
          1973,
          1974,
          1975,
          1976,
          1977,
          1978,
          1979,
          1980,
          1981,
          1982,
          1983,
          1984,
          1985,
          1986,
          1987,
          1988,
          1989,
          1990,
          1991,
          1992,
          1993,
          1994,
          1995,
          1996,
          1997,
          1998,
          1999,
          2000,
          2001,
          2002,
          2003,
          2004,
          2005,
          2006,
          2007,
          2008,
          2009,
          2010,
          2011,
          2012,
          2013,
          2014,
          2015,
          2016,
          2017,
          2018,
          2019
         ],
         "y": [
          null,
          null,
          null,
          null,
          null,
          null,
          null,
          null,
          null,
          -0.44300000000000006,
          -0.45100000000000007,
          -0.44200000000000006,
          -0.48200000000000004,
          -0.481,
          -0.44699999999999995,
          -0.43199999999999994,
          -0.41999999999999993,
          -0.417,
          -0.394,
          -0.382,
          -0.34099999999999997,
          -0.31799999999999995,
          -0.304,
          -0.29300000000000004,
          -0.32100000000000006,
          -0.29200000000000004,
          -0.262,
          -0.28900000000000003,
          -0.325,
          -0.378,
          -0.39000000000000007,
          -0.4210000000000001,
          -0.449,
          -0.44000000000000006,
          -0.3970000000000001,
          -0.3910000000000001,
          -0.43900000000000017,
          -0.4160000000000001,
          -0.38900000000000007,
          -0.384,
          -0.38,
          -0.322,
          -0.28500000000000003,
          -0.267,
          -0.276,
          -0.24200000000000005,
          -0.17200000000000004,
          -0.14500000000000005,
          -0.13500000000000004,
          -0.14100000000000004,
          -0.11700000000000003,
          -0.13900000000000004,
          -0.07900000000000004,
          -0.11100000000000003,
          -0.05600000000000003,
          -0.08000000000000003,
          -0.08700000000000004,
          -0.06300000000000003,
          -0.008000000000000031,
          0.08099999999999997,
          0.07399999999999997,
          0.06799999999999998,
          0.04099999999999997,
          0.11499999999999996,
          0.12999999999999995,
          0.13199999999999995,
          0.11699999999999995,
          0.10099999999999995,
          0.09399999999999996,
          0.08299999999999996,
          0.05399999999999996,
          0.06499999999999996,
          0.06299999999999997,
          0.06999999999999997,
          0.0029999999999999636,
          -0.0050000000000000365,
          -0.047000000000000035,
          -0.012000000000000033,
          -0.030000000000000034,
          -0.029000000000000036,
          -0.005000000000000037,
          0.03199999999999996,
          0.07199999999999997,
          0.06799999999999996,
          0.06899999999999996,
          0.05599999999999996,
          0.08399999999999996,
          0.08799999999999997,
          0.07199999999999997,
          -0.007000000000000034,
          -0.013000000000000034,
          -0.05000000000000003,
          -0.12800000000000003,
          -0.13200000000000003,
          -0.11900000000000004,
          -0.056000000000000036,
          -0.06900000000000003,
          -0.07100000000000004,
          -0.06500000000000003,
          0.0029999999999999693,
          0.01799999999999997,
          0.09499999999999997,
          0.15199999999999997,
          0.194,
          0.209,
          0.14299999999999996,
          0.20299999999999999,
          0.19199999999999998,
          0.24499999999999997,
          0.307,
          0.39299999999999996,
          0.38099999999999995,
          0.41500000000000004,
          0.37500000000000006,
          0.417,
          0.542,
          0.5309999999999999,
          0.608,
          0.6449999999999999,
          0.6559999999999999,
          0.6479999999999999,
          0.6679999999999999,
          0.7239999999999999,
          0.7929999999999999,
          0.8389999999999999,
          0.8629999999999999,
          0.952,
          0.994,
          1.008,
          0.9879999999999999,
          0.9939999999999998,
          1.0019999999999998,
          0.9949999999999998,
          1.001,
          1.017,
          1.0419999999999998,
          1.0789999999999997,
          1.0839999999999996,
          1.0849999999999995,
          1.1679999999999997
         ]
        },
        {
         "line": {
          "width": 1.5
         },
         "name": "24N-44N",
         "opacity": 0.8,
         "type": "scatter",
         "x": [
          1880,
          1881,
          1882,
          1883,
          1884,
          1885,
          1886,
          1887,
          1888,
          1889,
          1890,
          1891,
          1892,
          1893,
          1894,
          1895,
          1896,
          1897,
          1898,
          1899,
          1900,
          1901,
          1902,
          1903,
          1904,
          1905,
          1906,
          1907,
          1908,
          1909,
          1910,
          1911,
          1912,
          1913,
          1914,
          1915,
          1916,
          1917,
          1918,
          1919,
          1920,
          1921,
          1922,
          1923,
          1924,
          1925,
          1926,
          1927,
          1928,
          1929,
          1930,
          1931,
          1932,
          1933,
          1934,
          1935,
          1936,
          1937,
          1938,
          1939,
          1940,
          1941,
          1942,
          1943,
          1944,
          1945,
          1946,
          1947,
          1948,
          1949,
          1950,
          1951,
          1952,
          1953,
          1954,
          1955,
          1956,
          1957,
          1958,
          1959,
          1960,
          1961,
          1962,
          1963,
          1964,
          1965,
          1966,
          1967,
          1968,
          1969,
          1970,
          1971,
          1972,
          1973,
          1974,
          1975,
          1976,
          1977,
          1978,
          1979,
          1980,
          1981,
          1982,
          1983,
          1984,
          1985,
          1986,
          1987,
          1988,
          1989,
          1990,
          1991,
          1992,
          1993,
          1994,
          1995,
          1996,
          1997,
          1998,
          1999,
          2000,
          2001,
          2002,
          2003,
          2004,
          2005,
          2006,
          2007,
          2008,
          2009,
          2010,
          2011,
          2012,
          2013,
          2014,
          2015,
          2016,
          2017,
          2018,
          2019
         ],
         "y": [
          null,
          null,
          null,
          null,
          null,
          null,
          null,
          null,
          null,
          -0.296,
          -0.296,
          -0.314,
          -0.31900000000000006,
          -0.3430000000000001,
          -0.31500000000000006,
          -0.29700000000000004,
          -0.28,
          -0.276,
          -0.275,
          -0.262,
          -0.251,
          -0.229,
          -0.244,
          -0.252,
          -0.28800000000000003,
          -0.32300000000000006,
          -0.3390000000000001,
          -0.36600000000000005,
          -0.3940000000000001,
          -0.42200000000000004,
          -0.45500000000000007,
          -0.487,
          -0.504,
          -0.49800000000000005,
          -0.4710000000000001,
          -0.4280000000000001,
          -0.41300000000000014,
          -0.4040000000000001,
          -0.38800000000000007,
          -0.37500000000000006,
          -0.36100000000000004,
          -0.324,
          -0.28800000000000003,
          -0.26400000000000007,
          -0.25900000000000006,
          -0.2580000000000001,
          -0.25500000000000006,
          -0.22500000000000003,
          -0.21300000000000002,
          -0.22100000000000003,
          -0.197,
          -0.201,
          -0.20800000000000002,
          -0.194,
          -0.18400000000000002,
          -0.18200000000000005,
          -0.18700000000000006,
          -0.17600000000000007,
          -0.15000000000000008,
          -0.10400000000000005,
          -0.10200000000000005,
          -0.08000000000000004,
          -0.05300000000000005,
          -0.030000000000000047,
          -0.007000000000000048,
          0.012999999999999953,
          0.05599999999999996,
          0.061999999999999965,
          0.05999999999999996,
          0.056999999999999974,
          0.06999999999999998,
          0.07399999999999998,
          0.08599999999999997,
          0.08899999999999997,
          0.07899999999999997,
          0.09799999999999998,
          0.07199999999999998,
          0.056999999999999974,
          0.06799999999999998,
          0.06699999999999998,
          0.07399999999999997,
          0.07999999999999997,
          0.07599999999999998,
          0.07499999999999998,
          0.06299999999999997,
          0.02799999999999998,
          0.04599999999999997,
          0.05199999999999998,
          0.03199999999999998,
          0.010999999999999977,
          -0.0060000000000000235,
          -0.03400000000000002,
          -0.07200000000000004,
          -0.08300000000000003,
          -0.08900000000000002,
          -0.08200000000000003,
          -0.11900000000000004,
          -0.10800000000000003,
          -0.10400000000000002,
          -0.07800000000000003,
          -0.06900000000000002,
          -0.050000000000000024,
          -0.034000000000000016,
          -0.043000000000000024,
          -0.03800000000000003,
          -0.03400000000000003,
          -0.0030000000000000248,
          0.002999999999999975,
          0.030999999999999972,
          0.04699999999999997,
          0.09299999999999997,
          0.10999999999999996,
          0.11499999999999996,
          0.11099999999999996,
          0.16599999999999998,
          0.19899999999999998,
          0.20600000000000002,
          0.217,
          0.259,
          0.308,
          0.31399999999999995,
          0.35699999999999993,
          0.418,
          0.483,
          0.507,
          0.532,
          0.5920000000000001,
          0.6380000000000001,
          0.6340000000000001,
          0.6290000000000001,
          0.6480000000000001,
          0.6370000000000001,
          0.6530000000000001,
          0.6690000000000002,
          0.6770000000000002,
          0.7200000000000001,
          0.7580000000000001,
          0.7940000000000002,
          0.8390000000000002,
          0.8710000000000002
         ]
        },
        {
         "line": {
          "width": 1.5
         },
         "name": "EQU-24N",
         "opacity": 0.8,
         "type": "scatter",
         "x": [
          1880,
          1881,
          1882,
          1883,
          1884,
          1885,
          1886,
          1887,
          1888,
          1889,
          1890,
          1891,
          1892,
          1893,
          1894,
          1895,
          1896,
          1897,
          1898,
          1899,
          1900,
          1901,
          1902,
          1903,
          1904,
          1905,
          1906,
          1907,
          1908,
          1909,
          1910,
          1911,
          1912,
          1913,
          1914,
          1915,
          1916,
          1917,
          1918,
          1919,
          1920,
          1921,
          1922,
          1923,
          1924,
          1925,
          1926,
          1927,
          1928,
          1929,
          1930,
          1931,
          1932,
          1933,
          1934,
          1935,
          1936,
          1937,
          1938,
          1939,
          1940,
          1941,
          1942,
          1943,
          1944,
          1945,
          1946,
          1947,
          1948,
          1949,
          1950,
          1951,
          1952,
          1953,
          1954,
          1955,
          1956,
          1957,
          1958,
          1959,
          1960,
          1961,
          1962,
          1963,
          1964,
          1965,
          1966,
          1967,
          1968,
          1969,
          1970,
          1971,
          1972,
          1973,
          1974,
          1975,
          1976,
          1977,
          1978,
          1979,
          1980,
          1981,
          1982,
          1983,
          1984,
          1985,
          1986,
          1987,
          1988,
          1989,
          1990,
          1991,
          1992,
          1993,
          1994,
          1995,
          1996,
          1997,
          1998,
          1999,
          2000,
          2001,
          2002,
          2003,
          2004,
          2005,
          2006,
          2007,
          2008,
          2009,
          2010,
          2011,
          2012,
          2013,
          2014,
          2015,
          2016,
          2017,
          2018,
          2019
         ],
         "y": [
          null,
          null,
          null,
          null,
          null,
          null,
          null,
          null,
          null,
          -0.08399999999999999,
          -0.095,
          -0.10400000000000001,
          -0.131,
          -0.154,
          -0.188,
          -0.19499999999999998,
          -0.16899999999999998,
          -0.12699999999999997,
          -0.15299999999999997,
          -0.172,
          -0.13599999999999995,
          -0.14299999999999996,
          -0.11299999999999996,
          -0.09499999999999997,
          -0.09099999999999997,
          -0.08899999999999998,
          -0.11699999999999999,
          -0.16099999999999998,
          -0.185,
          -0.213,
          -0.271,
          -0.308,
          -0.333,
          -0.34900000000000003,
          -0.319,
          -0.309,
          -0.33699999999999997,
          -0.376,
          -0.372,
          -0.351,
          -0.34099999999999997,
          -0.32699999999999996,
          -0.33299999999999996,
          -0.32599999999999996,
          -0.33999999999999997,
          -0.367,
          -0.316,
          -0.261,
          -0.23800000000000004,
          -0.24300000000000002,
          -0.21500000000000002,
          -0.17700000000000005,
          -0.16400000000000003,
          -0.16100000000000003,
          -0.16000000000000003,
          -0.14900000000000002,
          -0.15500000000000003,
          -0.14100000000000001,
          -0.14400000000000002,
          -0.128,
          -0.091,
          -0.045,
          -0.012999999999999994,
          0.0050000000000000044,
          0.042,
          0.069,
          0.07100000000000001,
          0.067,
          0.06200000000000001,
          0.05100000000000001,
          -0.005999999999999989,
          -0.060999999999999985,
          -0.07399999999999998,
          -0.05499999999999999,
          -0.07999999999999999,
          -0.12,
          -0.146,
          -0.13699999999999998,
          -0.088,
          -0.05799999999999998,
          -0.02199999999999998,
          -0.02899999999999998,
          -0.03299999999999998,
          -0.02799999999999998,
          -0.02799999999999998,
          -0.005999999999999983,
          0.039000000000000014,
          0.023000000000000013,
          -0.004999999999999985,
          0.023000000000000013,
          0.024000000000000014,
          0.0020000000000000183,
          0.014000000000000018,
          0.009000000000000018,
          1.9428902930940238e-17,
          -0.022999999999999982,
          -0.05199999999999998,
          -0.030999999999999982,
          -0.018999999999999982,
          -0.02899999999999998,
          -0.0029999999999999805,
          0.04800000000000002,
          0.06600000000000002,
          0.08700000000000002,
          0.11700000000000002,
          0.15200000000000002,
          0.183,
          0.22799999999999998,
          0.24999999999999994,
          0.23199999999999993,
          0.23699999999999993,
          0.2469999999999999,
          0.2419999999999999,
          0.2419999999999999,
          0.2639999999999999,
          0.30099999999999993,
          0.31399999999999995,
          0.3089999999999999,
          0.3369999999999999,
          0.346,
          0.32899999999999996,
          0.33699999999999997,
          0.372,
          0.40499999999999997,
          0.43199999999999994,
          0.45299999999999996,
          0.479,
          0.47400000000000003,
          0.44800000000000006,
          0.49700000000000005,
          0.548,
          0.5469999999999999,
          0.5399999999999999,
          0.5359999999999999,
          0.5489999999999998,
          0.5849999999999999,
          0.6239999999999999,
          0.6669999999999998,
          0.7069999999999999,
          0.7339999999999998
         ]
        },
        {
         "line": {
          "width": 1.5
         },
         "name": "24S-EQU",
         "opacity": 0.8,
         "type": "scatter",
         "x": [
          1880,
          1881,
          1882,
          1883,
          1884,
          1885,
          1886,
          1887,
          1888,
          1889,
          1890,
          1891,
          1892,
          1893,
          1894,
          1895,
          1896,
          1897,
          1898,
          1899,
          1900,
          1901,
          1902,
          1903,
          1904,
          1905,
          1906,
          1907,
          1908,
          1909,
          1910,
          1911,
          1912,
          1913,
          1914,
          1915,
          1916,
          1917,
          1918,
          1919,
          1920,
          1921,
          1922,
          1923,
          1924,
          1925,
          1926,
          1927,
          1928,
          1929,
          1930,
          1931,
          1932,
          1933,
          1934,
          1935,
          1936,
          1937,
          1938,
          1939,
          1940,
          1941,
          1942,
          1943,
          1944,
          1945,
          1946,
          1947,
          1948,
          1949,
          1950,
          1951,
          1952,
          1953,
          1954,
          1955,
          1956,
          1957,
          1958,
          1959,
          1960,
          1961,
          1962,
          1963,
          1964,
          1965,
          1966,
          1967,
          1968,
          1969,
          1970,
          1971,
          1972,
          1973,
          1974,
          1975,
          1976,
          1977,
          1978,
          1979,
          1980,
          1981,
          1982,
          1983,
          1984,
          1985,
          1986,
          1987,
          1988,
          1989,
          1990,
          1991,
          1992,
          1993,
          1994,
          1995,
          1996,
          1997,
          1998,
          1999,
          2000,
          2001,
          2002,
          2003,
          2004,
          2005,
          2006,
          2007,
          2008,
          2009,
          2010,
          2011,
          2012,
          2013,
          2014,
          2015,
          2016,
          2017,
          2018,
          2019
         ],
         "y": [
          null,
          null,
          null,
          null,
          null,
          null,
          null,
          null,
          null,
          -0.06699999999999999,
          -0.10499999999999998,
          -0.13299999999999995,
          -0.15599999999999997,
          -0.172,
          -0.175,
          -0.15499999999999997,
          -0.123,
          -0.073,
          -0.11099999999999999,
          -0.13199999999999998,
          -0.05899999999999998,
          -0.043999999999999984,
          -0.022999999999999982,
          -0.025999999999999985,
          -0.05499999999999998,
          -0.05899999999999998,
          -0.09,
          -0.13999999999999999,
          -0.15799999999999997,
          -0.201,
          -0.274,
          -0.31300000000000006,
          -0.31500000000000006,
          -0.29500000000000004,
          -0.24700000000000005,
          -0.24400000000000008,
          -0.26700000000000007,
          -0.2940000000000001,
          -0.2770000000000001,
          -0.24200000000000008,
          -0.20600000000000004,
          -0.18600000000000008,
          -0.2100000000000001,
          -0.22400000000000012,
          -0.2490000000000001,
          -0.26900000000000013,
          -0.22700000000000015,
          -0.1880000000000001,
          -0.17800000000000013,
          -0.19100000000000014,
          -0.19200000000000014,
          -0.16600000000000015,
          -0.14900000000000016,
          -0.15000000000000016,
          -0.15000000000000016,
          -0.15000000000000016,
          -0.17400000000000015,
          -0.16800000000000018,
          -0.1790000000000002,
          -0.1650000000000002,
          -0.1240000000000002,
          -0.08600000000000022,
          -0.0680000000000002,
          -0.047000000000000194,
          0.0029999999999998027,
          0.046999999999999806,
          0.0609999999999998,
          0.0629999999999998,
          0.0759999999999998,
          0.0749999999999998,
          0.0179999999999998,
          -0.0380000000000002,
          -0.0380000000000002,
          -0.0250000000000002,
          -0.08000000000000021,
          -0.1430000000000002,
          -0.1740000000000002,
          -0.1550000000000002,
          -0.1260000000000002,
          -0.1030000000000002,
          -0.07800000000000021,
          -0.0660000000000002,
          -0.0750000000000002,
          -0.07100000000000022,
          -0.05600000000000023,
          -0.015000000000000225,
          0.021999999999999777,
          -0.0050000000000002265,
          -0.03100000000000023,
          -0.0070000000000002265,
          0.0029999999999997737,
          -0.01900000000000023,
          0.011999999999999773,
          0.03199999999999977,
          0.02899999999999977,
          0.00999999999999977,
          0.0009999999999997682,
          0.03999999999999977,
          0.05699999999999977,
          0.05199999999999978,
          0.07399999999999977,
          0.1109999999999998,
          0.1139999999999998,
          0.1419999999999998,
          0.18899999999999978,
          0.22099999999999978,
          0.2589999999999998,
          0.29899999999999977,
          0.33599999999999974,
          0.32799999999999974,
          0.33599999999999974,
          0.36199999999999977,
          0.3699999999999998,
          0.34799999999999975,
          0.3529999999999998,
          0.3839999999999998,
          0.3899999999999998,
          0.3809999999999998,
          0.4179999999999998,
          0.4259999999999997,
          0.4179999999999997,
          0.4219999999999997,
          0.44999999999999973,
          0.4809999999999997,
          0.5009999999999997,
          0.5179999999999997,
          0.5399999999999997,
          0.5359999999999997,
          0.49899999999999967,
          0.5439999999999996,
          0.5819999999999996,
          0.5739999999999996,
          0.5679999999999995,
          0.5599999999999995,
          0.5709999999999995,
          0.6029999999999995,
          0.6549999999999996,
          0.6849999999999995,
          0.7059999999999995,
          0.7239999999999995
         ]
        },
        {
         "line": {
          "width": 1.5
         },
         "name": "44S-24S",
         "opacity": 0.8,
         "type": "scatter",
         "x": [
          1880,
          1881,
          1882,
          1883,
          1884,
          1885,
          1886,
          1887,
          1888,
          1889,
          1890,
          1891,
          1892,
          1893,
          1894,
          1895,
          1896,
          1897,
          1898,
          1899,
          1900,
          1901,
          1902,
          1903,
          1904,
          1905,
          1906,
          1907,
          1908,
          1909,
          1910,
          1911,
          1912,
          1913,
          1914,
          1915,
          1916,
          1917,
          1918,
          1919,
          1920,
          1921,
          1922,
          1923,
          1924,
          1925,
          1926,
          1927,
          1928,
          1929,
          1930,
          1931,
          1932,
          1933,
          1934,
          1935,
          1936,
          1937,
          1938,
          1939,
          1940,
          1941,
          1942,
          1943,
          1944,
          1945,
          1946,
          1947,
          1948,
          1949,
          1950,
          1951,
          1952,
          1953,
          1954,
          1955,
          1956,
          1957,
          1958,
          1959,
          1960,
          1961,
          1962,
          1963,
          1964,
          1965,
          1966,
          1967,
          1968,
          1969,
          1970,
          1971,
          1972,
          1973,
          1974,
          1975,
          1976,
          1977,
          1978,
          1979,
          1980,
          1981,
          1982,
          1983,
          1984,
          1985,
          1986,
          1987,
          1988,
          1989,
          1990,
          1991,
          1992,
          1993,
          1994,
          1995,
          1996,
          1997,
          1998,
          1999,
          2000,
          2001,
          2002,
          2003,
          2004,
          2005,
          2006,
          2007,
          2008,
          2009,
          2010,
          2011,
          2012,
          2013,
          2014,
          2015,
          2016,
          2017,
          2018,
          2019
         ],
         "y": [
          null,
          null,
          null,
          null,
          null,
          null,
          null,
          null,
          null,
          -0.154,
          -0.16799999999999998,
          -0.181,
          -0.181,
          -0.17099999999999999,
          -0.16699999999999998,
          -0.15399999999999997,
          -0.14899999999999997,
          -0.14099999999999996,
          -0.13799999999999996,
          -0.13899999999999996,
          -0.14999999999999997,
          -0.15899999999999997,
          -0.18899999999999997,
          -0.23099999999999996,
          -0.253,
          -0.26599999999999996,
          -0.271,
          -0.273,
          -0.274,
          -0.296,
          -0.301,
          -0.31799999999999995,
          -0.32699999999999996,
          -0.31999999999999995,
          -0.299,
          -0.28099999999999997,
          -0.2839999999999999,
          -0.2859999999999999,
          -0.26299999999999996,
          -0.23999999999999994,
          -0.22599999999999992,
          -0.20499999999999993,
          -0.1919999999999999,
          -0.1899999999999999,
          -0.21399999999999988,
          -0.2239999999999999,
          -0.2359999999999999,
          -0.24299999999999988,
          -0.2659999999999999,
          -0.29399999999999993,
          -0.30799999999999994,
          -0.3269999999999999,
          -0.32399999999999995,
          -0.31999999999999995,
          -0.29599999999999993,
          -0.30199999999999994,
          -0.29399999999999993,
          -0.283,
          -0.25999999999999995,
          -0.22099999999999995,
          -0.18499999999999997,
          -0.13899999999999996,
          -0.11299999999999996,
          -0.08399999999999996,
          -0.04999999999999997,
          -0.015999999999999966,
          -0.010999999999999965,
          -0.010999999999999965,
          -0.024999999999999967,
          -0.038999999999999965,
          -0.047999999999999966,
          -0.07399999999999997,
          -0.08899999999999997,
          -0.10399999999999995,
          -0.13999999999999996,
          -0.15899999999999995,
          -0.15099999999999997,
          -0.14099999999999996,
          -0.12899999999999998,
          -0.11399999999999999,
          -0.118,
          -0.082,
          -0.06300000000000001,
          -0.06500000000000002,
          -0.07700000000000003,
          -0.08400000000000002,
          -0.094,
          -0.094,
          -0.1,
          -0.097,
          -0.076,
          -0.087,
          -0.07999999999999999,
          -0.048,
          0.003999999999999998,
          0.04,
          0.074,
          0.10500000000000001,
          0.13999999999999999,
          0.16999999999999998,
          0.19399999999999998,
          0.219,
          0.221,
          0.21999999999999997,
          0.21399999999999997,
          0.23099999999999996,
          0.24599999999999994,
          0.2559999999999999,
          0.2729999999999999,
          0.2789999999999999,
          0.2809999999999999,
          0.2839999999999999,
          0.2859999999999999,
          0.2909999999999999,
          0.3009999999999999,
          0.29999999999999993,
          0.30799999999999994,
          0.31799999999999995,
          0.31899999999999995,
          0.32899999999999996,
          0.33399999999999996,
          0.36099999999999993,
          0.38999999999999996,
          0.40800000000000003,
          0.43000000000000005,
          0.45000000000000007,
          0.4680000000000001,
          0.4760000000000001,
          0.4900000000000001,
          0.5040000000000001,
          0.5250000000000001,
          0.531,
          0.538,
          0.557,
          0.5810000000000001,
          0.607,
          0.623,
          0.649,
          0.6759999999999999,
          0.6910000000000001
         ]
        },
        {
         "line": {
          "width": 1.5
         },
         "name": "64S-44S",
         "opacity": 0.8,
         "type": "scatter",
         "x": [
          1880,
          1881,
          1882,
          1883,
          1884,
          1885,
          1886,
          1887,
          1888,
          1889,
          1890,
          1891,
          1892,
          1893,
          1894,
          1895,
          1896,
          1897,
          1898,
          1899,
          1900,
          1901,
          1902,
          1903,
          1904,
          1905,
          1906,
          1907,
          1908,
          1909,
          1910,
          1911,
          1912,
          1913,
          1914,
          1915,
          1916,
          1917,
          1918,
          1919,
          1920,
          1921,
          1922,
          1923,
          1924,
          1925,
          1926,
          1927,
          1928,
          1929,
          1930,
          1931,
          1932,
          1933,
          1934,
          1935,
          1936,
          1937,
          1938,
          1939,
          1940,
          1941,
          1942,
          1943,
          1944,
          1945,
          1946,
          1947,
          1948,
          1949,
          1950,
          1951,
          1952,
          1953,
          1954,
          1955,
          1956,
          1957,
          1958,
          1959,
          1960,
          1961,
          1962,
          1963,
          1964,
          1965,
          1966,
          1967,
          1968,
          1969,
          1970,
          1971,
          1972,
          1973,
          1974,
          1975,
          1976,
          1977,
          1978,
          1979,
          1980,
          1981,
          1982,
          1983,
          1984,
          1985,
          1986,
          1987,
          1988,
          1989,
          1990,
          1991,
          1992,
          1993,
          1994,
          1995,
          1996,
          1997,
          1998,
          1999,
          2000,
          2001,
          2002,
          2003,
          2004,
          2005,
          2006,
          2007,
          2008,
          2009,
          2010,
          2011,
          2012,
          2013,
          2014,
          2015,
          2016,
          2017,
          2018,
          2019
         ],
         "y": [
          null,
          null,
          null,
          null,
          null,
          null,
          null,
          null,
          null,
          -0.091,
          -0.12300000000000003,
          -0.14,
          -0.165,
          -0.192,
          -0.225,
          -0.242,
          -0.23499999999999996,
          -0.23599999999999993,
          -0.23499999999999993,
          -0.24199999999999994,
          -0.24399999999999994,
          -0.25299999999999995,
          -0.27499999999999997,
          -0.29499999999999993,
          -0.30899999999999994,
          -0.31399999999999995,
          -0.323,
          -0.333,
          -0.36,
          -0.39,
          -0.40599999999999997,
          -0.426,
          -0.41200000000000003,
          -0.41200000000000003,
          -0.38099999999999995,
          -0.367,
          -0.362,
          -0.33399999999999996,
          -0.30899999999999994,
          -0.2889999999999999,
          -0.2919999999999999,
          -0.27699999999999986,
          -0.2759999999999999,
          -0.2769999999999999,
          -0.30399999999999994,
          -0.3359999999999999,
          -0.36399999999999993,
          -0.3999999999999999,
          -0.4249999999999998,
          -0.43699999999999983,
          -0.4359999999999998,
          -0.43799999999999983,
          -0.4629999999999998,
          -0.46999999999999975,
          -0.46299999999999975,
          -0.44999999999999973,
          -0.4379999999999997,
          -0.4189999999999997,
          -0.38199999999999973,
          -0.3569999999999997,
          -0.32999999999999974,
          -0.3049999999999997,
          -0.2569999999999997,
          -0.20899999999999969,
          -0.1809999999999997,
          -0.1389999999999997,
          -0.1299999999999997,
          -0.1119999999999997,
          -0.11999999999999969,
          -0.11599999999999969,
          -0.11199999999999968,
          -0.11299999999999968,
          -0.10999999999999968,
          -0.13399999999999967,
          -0.14399999999999966,
          -0.15199999999999966,
          -0.12599999999999967,
          -0.11999999999999966,
          -0.10899999999999968,
          -0.11999999999999969,
          -0.1109999999999997,
          -0.1119999999999997,
          -0.1169999999999997,
          -0.1099999999999997,
          -0.09699999999999971,
          -0.09199999999999972,
          -0.10799999999999972,
          -0.10799999999999972,
          -0.09999999999999973,
          -0.06099999999999972,
          -0.05099999999999971,
          -0.017999999999999707,
          -0.012999999999999706,
          0.012000000000000295,
          0.011000000000000296,
          0.028000000000000302,
          0.0640000000000003,
          0.09700000000000031,
          0.11000000000000032,
          0.13000000000000034,
          0.16400000000000034,
          0.18700000000000033,
          0.22100000000000036,
          0.25400000000000034,
          0.29400000000000037,
          0.32400000000000034,
          0.3270000000000003,
          0.3210000000000003,
          0.32800000000000035,
          0.3250000000000003,
          0.3250000000000003,
          0.3150000000000003,
          0.31600000000000034,
          0.31400000000000033,
          0.3050000000000003,
          0.27600000000000036,
          0.27900000000000036,
          0.29000000000000037,
          0.3010000000000003,
          0.29000000000000037,
          0.26300000000000034,
          0.25800000000000034,
          0.25600000000000034,
          0.24100000000000033,
          0.24100000000000033,
          0.24400000000000036,
          0.23500000000000032,
          0.20600000000000032,
          0.1840000000000003,
          0.1800000000000003,
          0.1900000000000003,
          0.18400000000000033,
          0.17200000000000032,
          0.17000000000000032,
          0.1650000000000003,
          0.1650000000000003,
          0.17100000000000032,
          0.19900000000000032,
          0.2270000000000003,
          0.25100000000000033
         ]
        },
        {
         "line": {
          "width": 1.5
         },
         "name": "90S-64S",
         "opacity": 0.8,
         "type": "scatter",
         "x": [
          1880,
          1881,
          1882,
          1883,
          1884,
          1885,
          1886,
          1887,
          1888,
          1889,
          1890,
          1891,
          1892,
          1893,
          1894,
          1895,
          1896,
          1897,
          1898,
          1899,
          1900,
          1901,
          1902,
          1903,
          1904,
          1905,
          1906,
          1907,
          1908,
          1909,
          1910,
          1911,
          1912,
          1913,
          1914,
          1915,
          1916,
          1917,
          1918,
          1919,
          1920,
          1921,
          1922,
          1923,
          1924,
          1925,
          1926,
          1927,
          1928,
          1929,
          1930,
          1931,
          1932,
          1933,
          1934,
          1935,
          1936,
          1937,
          1938,
          1939,
          1940,
          1941,
          1942,
          1943,
          1944,
          1945,
          1946,
          1947,
          1948,
          1949,
          1950,
          1951,
          1952,
          1953,
          1954,
          1955,
          1956,
          1957,
          1958,
          1959,
          1960,
          1961,
          1962,
          1963,
          1964,
          1965,
          1966,
          1967,
          1968,
          1969,
          1970,
          1971,
          1972,
          1973,
          1974,
          1975,
          1976,
          1977,
          1978,
          1979,
          1980,
          1981,
          1982,
          1983,
          1984,
          1985,
          1986,
          1987,
          1988,
          1989,
          1990,
          1991,
          1992,
          1993,
          1994,
          1995,
          1996,
          1997,
          1998,
          1999,
          2000,
          2001,
          2002,
          2003,
          2004,
          2005,
          2006,
          2007,
          2008,
          2009,
          2010,
          2011,
          2012,
          2013,
          2014,
          2015,
          2016,
          2017,
          2018,
          2019
         ],
         "y": [
          null,
          null,
          null,
          null,
          null,
          null,
          null,
          null,
          null,
          0.5109999999999999,
          0.4579999999999999,
          0.38299999999999995,
          0.32899999999999996,
          0.275,
          0.173,
          0.03200000000000001,
          -0.0010000000000000009,
          0.008000000000000002,
          0.03,
          0.04400000000000001,
          0.057000000000000016,
          0.09800000000000002,
          0.085,
          0.04400000000000001,
          -0.045999999999999985,
          -0.01699999999999998,
          -0.10999999999999999,
          -0.267,
          -0.233,
          -0.344,
          -0.352,
          -0.369,
          -0.524,
          -0.5790000000000001,
          -0.4840000000000001,
          -0.649,
          -0.683,
          -0.557,
          -0.6529999999999999,
          -0.577,
          -0.707,
          -0.7959999999999999,
          -0.6609999999999998,
          -0.6109999999999999,
          -0.6279999999999999,
          -0.5159999999999999,
          -0.4739999999999999,
          -0.618,
          -0.8019999999999999,
          -0.929,
          -1.0740000000000003,
          -1.0310000000000001,
          -1.1020000000000003,
          -1.1620000000000004,
          -1.1660000000000004,
          -1.2510000000000003,
          -1.1910000000000003,
          -1.0170000000000006,
          -0.8910000000000006,
          -0.9440000000000005,
          -0.6900000000000004,
          -0.6950000000000004,
          -0.6860000000000003,
          -0.4580000000000003,
          -0.4940000000000003,
          -0.4990000000000003,
          -0.5110000000000003,
          -0.5670000000000004,
          -0.6170000000000003,
          -0.6530000000000002,
          -0.7350000000000003,
          -0.7590000000000002,
          -0.7180000000000002,
          -0.9410000000000002,
          -0.9280000000000003,
          -0.6300000000000002,
          -0.5390000000000004,
          -0.47100000000000025,
          -0.3890000000000003,
          -0.23000000000000026,
          -0.22000000000000025,
          -0.13000000000000025,
          -0.14700000000000024,
          -0.04300000000000024,
          -0.002000000000000235,
          -0.12600000000000022,
          -0.19200000000000023,
          -0.21100000000000022,
          -0.1660000000000002,
          -0.1440000000000002,
          -0.03700000000000021,
          -0.015000000000000211,
          0.09399999999999979,
          0.1309999999999998,
          0.2329999999999998,
          0.26199999999999973,
          0.22699999999999973,
          0.22399999999999975,
          0.23599999999999977,
          0.2289999999999998,
          0.2559999999999998,
          0.27399999999999974,
          0.21899999999999978,
          0.18999999999999978,
          0.17799999999999977,
          0.15399999999999975,
          0.16699999999999976,
          0.14099999999999974,
          0.22399999999999975,
          0.27999999999999975,
          0.25999999999999973,
          0.29499999999999976,
          0.34399999999999975,
          0.3099999999999997,
          0.2519999999999997,
          0.26399999999999973,
          0.3949999999999997,
          0.39399999999999974,
          0.32199999999999973,
          0.2909999999999997,
          0.2819999999999997,
          0.21699999999999972,
          0.2549999999999997,
          0.3289999999999997,
          0.3399999999999997,
          0.3949999999999997,
          0.3229999999999996,
          0.4519999999999996,
          0.4979999999999996,
          0.5899999999999996,
          0.6099999999999997,
          0.6809999999999996,
          0.6369999999999997,
          0.6829999999999996,
          0.7339999999999998,
          0.6279999999999998,
          0.6169999999999998,
          0.5399999999999998,
          0.5699999999999997,
          0.5609999999999997
         ]
        }
       ],
       "layout": {
        "height": 800,
        "paper_bgcolor": "rgb(245, 246, 250)",
        "plot_bgcolor": "rgb(245, 246, 250)",
        "template": {
         "data": {
          "bar": [
           {
            "error_x": {
             "color": "#2a3f5f"
            },
            "error_y": {
             "color": "#2a3f5f"
            },
            "marker": {
             "line": {
              "color": "#E5ECF6",
              "width": 0.5
             }
            },
            "type": "bar"
           }
          ],
          "barpolar": [
           {
            "marker": {
             "line": {
              "color": "#E5ECF6",
              "width": 0.5
             }
            },
            "type": "barpolar"
           }
          ],
          "carpet": [
           {
            "aaxis": {
             "endlinecolor": "#2a3f5f",
             "gridcolor": "white",
             "linecolor": "white",
             "minorgridcolor": "white",
             "startlinecolor": "#2a3f5f"
            },
            "baxis": {
             "endlinecolor": "#2a3f5f",
             "gridcolor": "white",
             "linecolor": "white",
             "minorgridcolor": "white",
             "startlinecolor": "#2a3f5f"
            },
            "type": "carpet"
           }
          ],
          "choropleth": [
           {
            "colorbar": {
             "outlinewidth": 0,
             "ticks": ""
            },
            "type": "choropleth"
           }
          ],
          "contour": [
           {
            "colorbar": {
             "outlinewidth": 0,
             "ticks": ""
            },
            "colorscale": [
             [
              0,
              "#0d0887"
             ],
             [
              0.1111111111111111,
              "#46039f"
             ],
             [
              0.2222222222222222,
              "#7201a8"
             ],
             [
              0.3333333333333333,
              "#9c179e"
             ],
             [
              0.4444444444444444,
              "#bd3786"
             ],
             [
              0.5555555555555556,
              "#d8576b"
             ],
             [
              0.6666666666666666,
              "#ed7953"
             ],
             [
              0.7777777777777778,
              "#fb9f3a"
             ],
             [
              0.8888888888888888,
              "#fdca26"
             ],
             [
              1,
              "#f0f921"
             ]
            ],
            "type": "contour"
           }
          ],
          "contourcarpet": [
           {
            "colorbar": {
             "outlinewidth": 0,
             "ticks": ""
            },
            "type": "contourcarpet"
           }
          ],
          "heatmap": [
           {
            "colorbar": {
             "outlinewidth": 0,
             "ticks": ""
            },
            "colorscale": [
             [
              0,
              "#0d0887"
             ],
             [
              0.1111111111111111,
              "#46039f"
             ],
             [
              0.2222222222222222,
              "#7201a8"
             ],
             [
              0.3333333333333333,
              "#9c179e"
             ],
             [
              0.4444444444444444,
              "#bd3786"
             ],
             [
              0.5555555555555556,
              "#d8576b"
             ],
             [
              0.6666666666666666,
              "#ed7953"
             ],
             [
              0.7777777777777778,
              "#fb9f3a"
             ],
             [
              0.8888888888888888,
              "#fdca26"
             ],
             [
              1,
              "#f0f921"
             ]
            ],
            "type": "heatmap"
           }
          ],
          "heatmapgl": [
           {
            "colorbar": {
             "outlinewidth": 0,
             "ticks": ""
            },
            "colorscale": [
             [
              0,
              "#0d0887"
             ],
             [
              0.1111111111111111,
              "#46039f"
             ],
             [
              0.2222222222222222,
              "#7201a8"
             ],
             [
              0.3333333333333333,
              "#9c179e"
             ],
             [
              0.4444444444444444,
              "#bd3786"
             ],
             [
              0.5555555555555556,
              "#d8576b"
             ],
             [
              0.6666666666666666,
              "#ed7953"
             ],
             [
              0.7777777777777778,
              "#fb9f3a"
             ],
             [
              0.8888888888888888,
              "#fdca26"
             ],
             [
              1,
              "#f0f921"
             ]
            ],
            "type": "heatmapgl"
           }
          ],
          "histogram": [
           {
            "marker": {
             "colorbar": {
              "outlinewidth": 0,
              "ticks": ""
             }
            },
            "type": "histogram"
           }
          ],
          "histogram2d": [
           {
            "colorbar": {
             "outlinewidth": 0,
             "ticks": ""
            },
            "colorscale": [
             [
              0,
              "#0d0887"
             ],
             [
              0.1111111111111111,
              "#46039f"
             ],
             [
              0.2222222222222222,
              "#7201a8"
             ],
             [
              0.3333333333333333,
              "#9c179e"
             ],
             [
              0.4444444444444444,
              "#bd3786"
             ],
             [
              0.5555555555555556,
              "#d8576b"
             ],
             [
              0.6666666666666666,
              "#ed7953"
             ],
             [
              0.7777777777777778,
              "#fb9f3a"
             ],
             [
              0.8888888888888888,
              "#fdca26"
             ],
             [
              1,
              "#f0f921"
             ]
            ],
            "type": "histogram2d"
           }
          ],
          "histogram2dcontour": [
           {
            "colorbar": {
             "outlinewidth": 0,
             "ticks": ""
            },
            "colorscale": [
             [
              0,
              "#0d0887"
             ],
             [
              0.1111111111111111,
              "#46039f"
             ],
             [
              0.2222222222222222,
              "#7201a8"
             ],
             [
              0.3333333333333333,
              "#9c179e"
             ],
             [
              0.4444444444444444,
              "#bd3786"
             ],
             [
              0.5555555555555556,
              "#d8576b"
             ],
             [
              0.6666666666666666,
              "#ed7953"
             ],
             [
              0.7777777777777778,
              "#fb9f3a"
             ],
             [
              0.8888888888888888,
              "#fdca26"
             ],
             [
              1,
              "#f0f921"
             ]
            ],
            "type": "histogram2dcontour"
           }
          ],
          "mesh3d": [
           {
            "colorbar": {
             "outlinewidth": 0,
             "ticks": ""
            },
            "type": "mesh3d"
           }
          ],
          "parcoords": [
           {
            "line": {
             "colorbar": {
              "outlinewidth": 0,
              "ticks": ""
             }
            },
            "type": "parcoords"
           }
          ],
          "pie": [
           {
            "automargin": true,
            "type": "pie"
           }
          ],
          "scatter": [
           {
            "marker": {
             "colorbar": {
              "outlinewidth": 0,
              "ticks": ""
             }
            },
            "type": "scatter"
           }
          ],
          "scatter3d": [
           {
            "line": {
             "colorbar": {
              "outlinewidth": 0,
              "ticks": ""
             }
            },
            "marker": {
             "colorbar": {
              "outlinewidth": 0,
              "ticks": ""
             }
            },
            "type": "scatter3d"
           }
          ],
          "scattercarpet": [
           {
            "marker": {
             "colorbar": {
              "outlinewidth": 0,
              "ticks": ""
             }
            },
            "type": "scattercarpet"
           }
          ],
          "scattergeo": [
           {
            "marker": {
             "colorbar": {
              "outlinewidth": 0,
              "ticks": ""
             }
            },
            "type": "scattergeo"
           }
          ],
          "scattergl": [
           {
            "marker": {
             "colorbar": {
              "outlinewidth": 0,
              "ticks": ""
             }
            },
            "type": "scattergl"
           }
          ],
          "scattermapbox": [
           {
            "marker": {
             "colorbar": {
              "outlinewidth": 0,
              "ticks": ""
             }
            },
            "type": "scattermapbox"
           }
          ],
          "scatterpolar": [
           {
            "marker": {
             "colorbar": {
              "outlinewidth": 0,
              "ticks": ""
             }
            },
            "type": "scatterpolar"
           }
          ],
          "scatterpolargl": [
           {
            "marker": {
             "colorbar": {
              "outlinewidth": 0,
              "ticks": ""
             }
            },
            "type": "scatterpolargl"
           }
          ],
          "scatterternary": [
           {
            "marker": {
             "colorbar": {
              "outlinewidth": 0,
              "ticks": ""
             }
            },
            "type": "scatterternary"
           }
          ],
          "surface": [
           {
            "colorbar": {
             "outlinewidth": 0,
             "ticks": ""
            },
            "colorscale": [
             [
              0,
              "#0d0887"
             ],
             [
              0.1111111111111111,
              "#46039f"
             ],
             [
              0.2222222222222222,
              "#7201a8"
             ],
             [
              0.3333333333333333,
              "#9c179e"
             ],
             [
              0.4444444444444444,
              "#bd3786"
             ],
             [
              0.5555555555555556,
              "#d8576b"
             ],
             [
              0.6666666666666666,
              "#ed7953"
             ],
             [
              0.7777777777777778,
              "#fb9f3a"
             ],
             [
              0.8888888888888888,
              "#fdca26"
             ],
             [
              1,
              "#f0f921"
             ]
            ],
            "type": "surface"
           }
          ],
          "table": [
           {
            "cells": {
             "fill": {
              "color": "#EBF0F8"
             },
             "line": {
              "color": "white"
             }
            },
            "header": {
             "fill": {
              "color": "#C8D4E3"
             },
             "line": {
              "color": "white"
             }
            },
            "type": "table"
           }
          ]
         },
         "layout": {
          "annotationdefaults": {
           "arrowcolor": "#2a3f5f",
           "arrowhead": 0,
           "arrowwidth": 1
          },
          "coloraxis": {
           "colorbar": {
            "outlinewidth": 0,
            "ticks": ""
           }
          },
          "colorscale": {
           "diverging": [
            [
             0,
             "#8e0152"
            ],
            [
             0.1,
             "#c51b7d"
            ],
            [
             0.2,
             "#de77ae"
            ],
            [
             0.3,
             "#f1b6da"
            ],
            [
             0.4,
             "#fde0ef"
            ],
            [
             0.5,
             "#f7f7f7"
            ],
            [
             0.6,
             "#e6f5d0"
            ],
            [
             0.7,
             "#b8e186"
            ],
            [
             0.8,
             "#7fbc41"
            ],
            [
             0.9,
             "#4d9221"
            ],
            [
             1,
             "#276419"
            ]
           ],
           "sequential": [
            [
             0,
             "#0d0887"
            ],
            [
             0.1111111111111111,
             "#46039f"
            ],
            [
             0.2222222222222222,
             "#7201a8"
            ],
            [
             0.3333333333333333,
             "#9c179e"
            ],
            [
             0.4444444444444444,
             "#bd3786"
            ],
            [
             0.5555555555555556,
             "#d8576b"
            ],
            [
             0.6666666666666666,
             "#ed7953"
            ],
            [
             0.7777777777777778,
             "#fb9f3a"
            ],
            [
             0.8888888888888888,
             "#fdca26"
            ],
            [
             1,
             "#f0f921"
            ]
           ],
           "sequentialminus": [
            [
             0,
             "#0d0887"
            ],
            [
             0.1111111111111111,
             "#46039f"
            ],
            [
             0.2222222222222222,
             "#7201a8"
            ],
            [
             0.3333333333333333,
             "#9c179e"
            ],
            [
             0.4444444444444444,
             "#bd3786"
            ],
            [
             0.5555555555555556,
             "#d8576b"
            ],
            [
             0.6666666666666666,
             "#ed7953"
            ],
            [
             0.7777777777777778,
             "#fb9f3a"
            ],
            [
             0.8888888888888888,
             "#fdca26"
            ],
            [
             1,
             "#f0f921"
            ]
           ]
          },
          "colorway": [
           "#636efa",
           "#EF553B",
           "#00cc96",
           "#ab63fa",
           "#FFA15A",
           "#19d3f3",
           "#FF6692",
           "#B6E880",
           "#FF97FF",
           "#FECB52"
          ],
          "font": {
           "color": "#2a3f5f"
          },
          "geo": {
           "bgcolor": "white",
           "lakecolor": "white",
           "landcolor": "#E5ECF6",
           "showlakes": true,
           "showland": true,
           "subunitcolor": "white"
          },
          "hoverlabel": {
           "align": "left"
          },
          "hovermode": "closest",
          "mapbox": {
           "style": "light"
          },
          "paper_bgcolor": "white",
          "plot_bgcolor": "#E5ECF6",
          "polar": {
           "angularaxis": {
            "gridcolor": "white",
            "linecolor": "white",
            "ticks": ""
           },
           "bgcolor": "#E5ECF6",
           "radialaxis": {
            "gridcolor": "white",
            "linecolor": "white",
            "ticks": ""
           }
          },
          "scene": {
           "xaxis": {
            "backgroundcolor": "#E5ECF6",
            "gridcolor": "white",
            "gridwidth": 2,
            "linecolor": "white",
            "showbackground": true,
            "ticks": "",
            "zerolinecolor": "white"
           },
           "yaxis": {
            "backgroundcolor": "#E5ECF6",
            "gridcolor": "white",
            "gridwidth": 2,
            "linecolor": "white",
            "showbackground": true,
            "ticks": "",
            "zerolinecolor": "white"
           },
           "zaxis": {
            "backgroundcolor": "#E5ECF6",
            "gridcolor": "white",
            "gridwidth": 2,
            "linecolor": "white",
            "showbackground": true,
            "ticks": "",
            "zerolinecolor": "white"
           }
          },
          "shapedefaults": {
           "line": {
            "color": "#2a3f5f"
           }
          },
          "ternary": {
           "aaxis": {
            "gridcolor": "white",
            "linecolor": "white",
            "ticks": ""
           },
           "baxis": {
            "gridcolor": "white",
            "linecolor": "white",
            "ticks": ""
           },
           "bgcolor": "#E5ECF6",
           "caxis": {
            "gridcolor": "white",
            "linecolor": "white",
            "ticks": ""
           }
          },
          "title": {
           "x": 0.05
          },
          "xaxis": {
           "automargin": true,
           "gridcolor": "white",
           "linecolor": "white",
           "ticks": "",
           "title": {
            "standoff": 15
           },
           "zerolinecolor": "white",
           "zerolinewidth": 2
          },
          "yaxis": {
           "automargin": true,
           "gridcolor": "white",
           "linecolor": "white",
           "ticks": "",
           "title": {
            "standoff": 15
           },
           "zerolinecolor": "white",
           "zerolinewidth": 2
          }
         }
        },
        "title": {
         "font": {
          "size": 22
         },
         "text": "Global mean sea level (mm)",
         "x": 0.5
        },
        "xaxis": {
         "color": "black",
         "title": {
          "text": "Year"
         }
        },
        "yaxis": {
         "color": "black",
         "title": {
          "text": "GMSL variation (mm)"
         }
        }
       }
      },
      "text/html": [
       "<div>                            <div id=\"2ccc67b5-6374-486f-8096-12ed53b4ec8a\" class=\"plotly-graph-div\" style=\"height:800px; width:100%;\"></div>            <script type=\"text/javascript\">                require([\"plotly\"], function(Plotly) {                    window.PLOTLYENV=window.PLOTLYENV || {};                                    if (document.getElementById(\"2ccc67b5-6374-486f-8096-12ed53b4ec8a\")) {                    Plotly.newPlot(                        \"2ccc67b5-6374-486f-8096-12ed53b4ec8a\",                        [{\"line\": {\"width\": 1.5}, \"name\": \"64N-90N\", \"opacity\": 0.8, \"type\": \"scatter\", \"x\": [1880, 1881, 1882, 1883, 1884, 1885, 1886, 1887, 1888, 1889, 1890, 1891, 1892, 1893, 1894, 1895, 1896, 1897, 1898, 1899, 1900, 1901, 1902, 1903, 1904, 1905, 1906, 1907, 1908, 1909, 1910, 1911, 1912, 1913, 1914, 1915, 1916, 1917, 1918, 1919, 1920, 1921, 1922, 1923, 1924, 1925, 1926, 1927, 1928, 1929, 1930, 1931, 1932, 1933, 1934, 1935, 1936, 1937, 1938, 1939, 1940, 1941, 1942, 1943, 1944, 1945, 1946, 1947, 1948, 1949, 1950, 1951, 1952, 1953, 1954, 1955, 1956, 1957, 1958, 1959, 1960, 1961, 1962, 1963, 1964, 1965, 1966, 1967, 1968, 1969, 1970, 1971, 1972, 1973, 1974, 1975, 1976, 1977, 1978, 1979, 1980, 1981, 1982, 1983, 1984, 1985, 1986, 1987, 1988, 1989, 1990, 1991, 1992, 1993, 1994, 1995, 1996, 1997, 1998, 1999, 2000, 2001, 2002, 2003, 2004, 2005, 2006, 2007, 2008, 2009, 2010, 2011, 2012, 2013, 2014, 2015, 2016, 2017, 2018, 2019], \"y\": [null, null, null, null, null, null, null, null, null, -1.1410000000000002, -1.171, -1.1940000000000002, -1.171, -1.2230000000000003, -1.1900000000000002, -1.1090000000000002, -1.044, -0.9280000000000002, -0.9120000000000001, -0.9500000000000002, -0.8950000000000002, -0.8260000000000002, -0.8520000000000001, -0.8110000000000002, -0.732, -0.674, -0.612, -0.616, -0.531, -0.5040000000000001, -0.5080000000000001, -0.4950000000000001, -0.4040000000000001, -0.4250000000000001, -0.44400000000000006, -0.4960000000000001, -0.5170000000000001, -0.54, -0.615, -0.609, -0.5509999999999999, -0.522, -0.5039999999999999, -0.4379999999999999, -0.35599999999999987, -0.3039999999999999, -0.19799999999999984, -0.11199999999999984, 0.061000000000000165, 0.14700000000000016, 0.20300000000000015, 0.2620000000000001, 0.34400000000000014, 0.3140000000000001, 0.3590000000000001, 0.40300000000000014, 0.3870000000000001, 0.5100000000000001, 0.5900000000000001, 0.6320000000000001, 0.679, 0.623, 0.648, 0.806, 0.836, 0.865, 0.8230000000000001, 0.806, 0.6679999999999999, 0.633, 0.553, 0.562, 0.516, 0.476, 0.43900000000000006, 0.35200000000000004, 0.356, 0.258, 0.229, 0.256, 0.269, 0.24500000000000002, 0.263, 0.14500000000000002, -0.0029999999999999914, -0.006999999999999995, -0.08399999999999999, -0.056999999999999995, -0.07299999999999998, -0.125, -0.179, -0.17200000000000001, -0.25400000000000006, -0.23100000000000004, -0.18300000000000005, -0.14500000000000005, -0.07600000000000004, -0.09600000000000004, -0.07900000000000003, -0.13600000000000004, -0.08900000000000004, 0.027999999999999976, 0.024999999999999974, 0.03699999999999997, 0.09199999999999997, 0.12099999999999995, 0.12899999999999995, 0.07699999999999996, 0.15199999999999994, 0.24599999999999994, 0.2779999999999999, 0.24399999999999994, 0.2679999999999999, 0.30299999999999994, 0.30099999999999993, 0.3929999999999999, 0.469, 0.581, 0.608, 0.615, 0.655, 0.687, 0.8290000000000001, 0.925, 0.9380000000000001, 1.006, 1.1030000000000002, 1.2390000000000003, 1.3070000000000004, 1.4100000000000004, 1.5340000000000003, 1.6620000000000004, 1.7570000000000003, 1.7630000000000003, 1.9200000000000004, 1.9200000000000004, 2.0700000000000007, 2.109000000000001, 2.170000000000001, 2.2960000000000007]}, {\"line\": {\"width\": 1.5}, \"name\": \"44N-64N\", \"opacity\": 0.8, \"type\": \"scatter\", \"x\": [1880, 1881, 1882, 1883, 1884, 1885, 1886, 1887, 1888, 1889, 1890, 1891, 1892, 1893, 1894, 1895, 1896, 1897, 1898, 1899, 1900, 1901, 1902, 1903, 1904, 1905, 1906, 1907, 1908, 1909, 1910, 1911, 1912, 1913, 1914, 1915, 1916, 1917, 1918, 1919, 1920, 1921, 1922, 1923, 1924, 1925, 1926, 1927, 1928, 1929, 1930, 1931, 1932, 1933, 1934, 1935, 1936, 1937, 1938, 1939, 1940, 1941, 1942, 1943, 1944, 1945, 1946, 1947, 1948, 1949, 1950, 1951, 1952, 1953, 1954, 1955, 1956, 1957, 1958, 1959, 1960, 1961, 1962, 1963, 1964, 1965, 1966, 1967, 1968, 1969, 1970, 1971, 1972, 1973, 1974, 1975, 1976, 1977, 1978, 1979, 1980, 1981, 1982, 1983, 1984, 1985, 1986, 1987, 1988, 1989, 1990, 1991, 1992, 1993, 1994, 1995, 1996, 1997, 1998, 1999, 2000, 2001, 2002, 2003, 2004, 2005, 2006, 2007, 2008, 2009, 2010, 2011, 2012, 2013, 2014, 2015, 2016, 2017, 2018, 2019], \"y\": [null, null, null, null, null, null, null, null, null, -0.44300000000000006, -0.45100000000000007, -0.44200000000000006, -0.48200000000000004, -0.481, -0.44699999999999995, -0.43199999999999994, -0.41999999999999993, -0.417, -0.394, -0.382, -0.34099999999999997, -0.31799999999999995, -0.304, -0.29300000000000004, -0.32100000000000006, -0.29200000000000004, -0.262, -0.28900000000000003, -0.325, -0.378, -0.39000000000000007, -0.4210000000000001, -0.449, -0.44000000000000006, -0.3970000000000001, -0.3910000000000001, -0.43900000000000017, -0.4160000000000001, -0.38900000000000007, -0.384, -0.38, -0.322, -0.28500000000000003, -0.267, -0.276, -0.24200000000000005, -0.17200000000000004, -0.14500000000000005, -0.13500000000000004, -0.14100000000000004, -0.11700000000000003, -0.13900000000000004, -0.07900000000000004, -0.11100000000000003, -0.05600000000000003, -0.08000000000000003, -0.08700000000000004, -0.06300000000000003, -0.008000000000000031, 0.08099999999999997, 0.07399999999999997, 0.06799999999999998, 0.04099999999999997, 0.11499999999999996, 0.12999999999999995, 0.13199999999999995, 0.11699999999999995, 0.10099999999999995, 0.09399999999999996, 0.08299999999999996, 0.05399999999999996, 0.06499999999999996, 0.06299999999999997, 0.06999999999999997, 0.0029999999999999636, -0.0050000000000000365, -0.047000000000000035, -0.012000000000000033, -0.030000000000000034, -0.029000000000000036, -0.005000000000000037, 0.03199999999999996, 0.07199999999999997, 0.06799999999999996, 0.06899999999999996, 0.05599999999999996, 0.08399999999999996, 0.08799999999999997, 0.07199999999999997, -0.007000000000000034, -0.013000000000000034, -0.05000000000000003, -0.12800000000000003, -0.13200000000000003, -0.11900000000000004, -0.056000000000000036, -0.06900000000000003, -0.07100000000000004, -0.06500000000000003, 0.0029999999999999693, 0.01799999999999997, 0.09499999999999997, 0.15199999999999997, 0.194, 0.209, 0.14299999999999996, 0.20299999999999999, 0.19199999999999998, 0.24499999999999997, 0.307, 0.39299999999999996, 0.38099999999999995, 0.41500000000000004, 0.37500000000000006, 0.417, 0.542, 0.5309999999999999, 0.608, 0.6449999999999999, 0.6559999999999999, 0.6479999999999999, 0.6679999999999999, 0.7239999999999999, 0.7929999999999999, 0.8389999999999999, 0.8629999999999999, 0.952, 0.994, 1.008, 0.9879999999999999, 0.9939999999999998, 1.0019999999999998, 0.9949999999999998, 1.001, 1.017, 1.0419999999999998, 1.0789999999999997, 1.0839999999999996, 1.0849999999999995, 1.1679999999999997]}, {\"line\": {\"width\": 1.5}, \"name\": \"24N-44N\", \"opacity\": 0.8, \"type\": \"scatter\", \"x\": [1880, 1881, 1882, 1883, 1884, 1885, 1886, 1887, 1888, 1889, 1890, 1891, 1892, 1893, 1894, 1895, 1896, 1897, 1898, 1899, 1900, 1901, 1902, 1903, 1904, 1905, 1906, 1907, 1908, 1909, 1910, 1911, 1912, 1913, 1914, 1915, 1916, 1917, 1918, 1919, 1920, 1921, 1922, 1923, 1924, 1925, 1926, 1927, 1928, 1929, 1930, 1931, 1932, 1933, 1934, 1935, 1936, 1937, 1938, 1939, 1940, 1941, 1942, 1943, 1944, 1945, 1946, 1947, 1948, 1949, 1950, 1951, 1952, 1953, 1954, 1955, 1956, 1957, 1958, 1959, 1960, 1961, 1962, 1963, 1964, 1965, 1966, 1967, 1968, 1969, 1970, 1971, 1972, 1973, 1974, 1975, 1976, 1977, 1978, 1979, 1980, 1981, 1982, 1983, 1984, 1985, 1986, 1987, 1988, 1989, 1990, 1991, 1992, 1993, 1994, 1995, 1996, 1997, 1998, 1999, 2000, 2001, 2002, 2003, 2004, 2005, 2006, 2007, 2008, 2009, 2010, 2011, 2012, 2013, 2014, 2015, 2016, 2017, 2018, 2019], \"y\": [null, null, null, null, null, null, null, null, null, -0.296, -0.296, -0.314, -0.31900000000000006, -0.3430000000000001, -0.31500000000000006, -0.29700000000000004, -0.28, -0.276, -0.275, -0.262, -0.251, -0.229, -0.244, -0.252, -0.28800000000000003, -0.32300000000000006, -0.3390000000000001, -0.36600000000000005, -0.3940000000000001, -0.42200000000000004, -0.45500000000000007, -0.487, -0.504, -0.49800000000000005, -0.4710000000000001, -0.4280000000000001, -0.41300000000000014, -0.4040000000000001, -0.38800000000000007, -0.37500000000000006, -0.36100000000000004, -0.324, -0.28800000000000003, -0.26400000000000007, -0.25900000000000006, -0.2580000000000001, -0.25500000000000006, -0.22500000000000003, -0.21300000000000002, -0.22100000000000003, -0.197, -0.201, -0.20800000000000002, -0.194, -0.18400000000000002, -0.18200000000000005, -0.18700000000000006, -0.17600000000000007, -0.15000000000000008, -0.10400000000000005, -0.10200000000000005, -0.08000000000000004, -0.05300000000000005, -0.030000000000000047, -0.007000000000000048, 0.012999999999999953, 0.05599999999999996, 0.061999999999999965, 0.05999999999999996, 0.056999999999999974, 0.06999999999999998, 0.07399999999999998, 0.08599999999999997, 0.08899999999999997, 0.07899999999999997, 0.09799999999999998, 0.07199999999999998, 0.056999999999999974, 0.06799999999999998, 0.06699999999999998, 0.07399999999999997, 0.07999999999999997, 0.07599999999999998, 0.07499999999999998, 0.06299999999999997, 0.02799999999999998, 0.04599999999999997, 0.05199999999999998, 0.03199999999999998, 0.010999999999999977, -0.0060000000000000235, -0.03400000000000002, -0.07200000000000004, -0.08300000000000003, -0.08900000000000002, -0.08200000000000003, -0.11900000000000004, -0.10800000000000003, -0.10400000000000002, -0.07800000000000003, -0.06900000000000002, -0.050000000000000024, -0.034000000000000016, -0.043000000000000024, -0.03800000000000003, -0.03400000000000003, -0.0030000000000000248, 0.002999999999999975, 0.030999999999999972, 0.04699999999999997, 0.09299999999999997, 0.10999999999999996, 0.11499999999999996, 0.11099999999999996, 0.16599999999999998, 0.19899999999999998, 0.20600000000000002, 0.217, 0.259, 0.308, 0.31399999999999995, 0.35699999999999993, 0.418, 0.483, 0.507, 0.532, 0.5920000000000001, 0.6380000000000001, 0.6340000000000001, 0.6290000000000001, 0.6480000000000001, 0.6370000000000001, 0.6530000000000001, 0.6690000000000002, 0.6770000000000002, 0.7200000000000001, 0.7580000000000001, 0.7940000000000002, 0.8390000000000002, 0.8710000000000002]}, {\"line\": {\"width\": 1.5}, \"name\": \"EQU-24N\", \"opacity\": 0.8, \"type\": \"scatter\", \"x\": [1880, 1881, 1882, 1883, 1884, 1885, 1886, 1887, 1888, 1889, 1890, 1891, 1892, 1893, 1894, 1895, 1896, 1897, 1898, 1899, 1900, 1901, 1902, 1903, 1904, 1905, 1906, 1907, 1908, 1909, 1910, 1911, 1912, 1913, 1914, 1915, 1916, 1917, 1918, 1919, 1920, 1921, 1922, 1923, 1924, 1925, 1926, 1927, 1928, 1929, 1930, 1931, 1932, 1933, 1934, 1935, 1936, 1937, 1938, 1939, 1940, 1941, 1942, 1943, 1944, 1945, 1946, 1947, 1948, 1949, 1950, 1951, 1952, 1953, 1954, 1955, 1956, 1957, 1958, 1959, 1960, 1961, 1962, 1963, 1964, 1965, 1966, 1967, 1968, 1969, 1970, 1971, 1972, 1973, 1974, 1975, 1976, 1977, 1978, 1979, 1980, 1981, 1982, 1983, 1984, 1985, 1986, 1987, 1988, 1989, 1990, 1991, 1992, 1993, 1994, 1995, 1996, 1997, 1998, 1999, 2000, 2001, 2002, 2003, 2004, 2005, 2006, 2007, 2008, 2009, 2010, 2011, 2012, 2013, 2014, 2015, 2016, 2017, 2018, 2019], \"y\": [null, null, null, null, null, null, null, null, null, -0.08399999999999999, -0.095, -0.10400000000000001, -0.131, -0.154, -0.188, -0.19499999999999998, -0.16899999999999998, -0.12699999999999997, -0.15299999999999997, -0.172, -0.13599999999999995, -0.14299999999999996, -0.11299999999999996, -0.09499999999999997, -0.09099999999999997, -0.08899999999999998, -0.11699999999999999, -0.16099999999999998, -0.185, -0.213, -0.271, -0.308, -0.333, -0.34900000000000003, -0.319, -0.309, -0.33699999999999997, -0.376, -0.372, -0.351, -0.34099999999999997, -0.32699999999999996, -0.33299999999999996, -0.32599999999999996, -0.33999999999999997, -0.367, -0.316, -0.261, -0.23800000000000004, -0.24300000000000002, -0.21500000000000002, -0.17700000000000005, -0.16400000000000003, -0.16100000000000003, -0.16000000000000003, -0.14900000000000002, -0.15500000000000003, -0.14100000000000001, -0.14400000000000002, -0.128, -0.091, -0.045, -0.012999999999999994, 0.0050000000000000044, 0.042, 0.069, 0.07100000000000001, 0.067, 0.06200000000000001, 0.05100000000000001, -0.005999999999999989, -0.060999999999999985, -0.07399999999999998, -0.05499999999999999, -0.07999999999999999, -0.12, -0.146, -0.13699999999999998, -0.088, -0.05799999999999998, -0.02199999999999998, -0.02899999999999998, -0.03299999999999998, -0.02799999999999998, -0.02799999999999998, -0.005999999999999983, 0.039000000000000014, 0.023000000000000013, -0.004999999999999985, 0.023000000000000013, 0.024000000000000014, 0.0020000000000000183, 0.014000000000000018, 0.009000000000000018, 1.9428902930940238e-17, -0.022999999999999982, -0.05199999999999998, -0.030999999999999982, -0.018999999999999982, -0.02899999999999998, -0.0029999999999999805, 0.04800000000000002, 0.06600000000000002, 0.08700000000000002, 0.11700000000000002, 0.15200000000000002, 0.183, 0.22799999999999998, 0.24999999999999994, 0.23199999999999993, 0.23699999999999993, 0.2469999999999999, 0.2419999999999999, 0.2419999999999999, 0.2639999999999999, 0.30099999999999993, 0.31399999999999995, 0.3089999999999999, 0.3369999999999999, 0.346, 0.32899999999999996, 0.33699999999999997, 0.372, 0.40499999999999997, 0.43199999999999994, 0.45299999999999996, 0.479, 0.47400000000000003, 0.44800000000000006, 0.49700000000000005, 0.548, 0.5469999999999999, 0.5399999999999999, 0.5359999999999999, 0.5489999999999998, 0.5849999999999999, 0.6239999999999999, 0.6669999999999998, 0.7069999999999999, 0.7339999999999998]}, {\"line\": {\"width\": 1.5}, \"name\": \"24S-EQU\", \"opacity\": 0.8, \"type\": \"scatter\", \"x\": [1880, 1881, 1882, 1883, 1884, 1885, 1886, 1887, 1888, 1889, 1890, 1891, 1892, 1893, 1894, 1895, 1896, 1897, 1898, 1899, 1900, 1901, 1902, 1903, 1904, 1905, 1906, 1907, 1908, 1909, 1910, 1911, 1912, 1913, 1914, 1915, 1916, 1917, 1918, 1919, 1920, 1921, 1922, 1923, 1924, 1925, 1926, 1927, 1928, 1929, 1930, 1931, 1932, 1933, 1934, 1935, 1936, 1937, 1938, 1939, 1940, 1941, 1942, 1943, 1944, 1945, 1946, 1947, 1948, 1949, 1950, 1951, 1952, 1953, 1954, 1955, 1956, 1957, 1958, 1959, 1960, 1961, 1962, 1963, 1964, 1965, 1966, 1967, 1968, 1969, 1970, 1971, 1972, 1973, 1974, 1975, 1976, 1977, 1978, 1979, 1980, 1981, 1982, 1983, 1984, 1985, 1986, 1987, 1988, 1989, 1990, 1991, 1992, 1993, 1994, 1995, 1996, 1997, 1998, 1999, 2000, 2001, 2002, 2003, 2004, 2005, 2006, 2007, 2008, 2009, 2010, 2011, 2012, 2013, 2014, 2015, 2016, 2017, 2018, 2019], \"y\": [null, null, null, null, null, null, null, null, null, -0.06699999999999999, -0.10499999999999998, -0.13299999999999995, -0.15599999999999997, -0.172, -0.175, -0.15499999999999997, -0.123, -0.073, -0.11099999999999999, -0.13199999999999998, -0.05899999999999998, -0.043999999999999984, -0.022999999999999982, -0.025999999999999985, -0.05499999999999998, -0.05899999999999998, -0.09, -0.13999999999999999, -0.15799999999999997, -0.201, -0.274, -0.31300000000000006, -0.31500000000000006, -0.29500000000000004, -0.24700000000000005, -0.24400000000000008, -0.26700000000000007, -0.2940000000000001, -0.2770000000000001, -0.24200000000000008, -0.20600000000000004, -0.18600000000000008, -0.2100000000000001, -0.22400000000000012, -0.2490000000000001, -0.26900000000000013, -0.22700000000000015, -0.1880000000000001, -0.17800000000000013, -0.19100000000000014, -0.19200000000000014, -0.16600000000000015, -0.14900000000000016, -0.15000000000000016, -0.15000000000000016, -0.15000000000000016, -0.17400000000000015, -0.16800000000000018, -0.1790000000000002, -0.1650000000000002, -0.1240000000000002, -0.08600000000000022, -0.0680000000000002, -0.047000000000000194, 0.0029999999999998027, 0.046999999999999806, 0.0609999999999998, 0.0629999999999998, 0.0759999999999998, 0.0749999999999998, 0.0179999999999998, -0.0380000000000002, -0.0380000000000002, -0.0250000000000002, -0.08000000000000021, -0.1430000000000002, -0.1740000000000002, -0.1550000000000002, -0.1260000000000002, -0.1030000000000002, -0.07800000000000021, -0.0660000000000002, -0.0750000000000002, -0.07100000000000022, -0.05600000000000023, -0.015000000000000225, 0.021999999999999777, -0.0050000000000002265, -0.03100000000000023, -0.0070000000000002265, 0.0029999999999997737, -0.01900000000000023, 0.011999999999999773, 0.03199999999999977, 0.02899999999999977, 0.00999999999999977, 0.0009999999999997682, 0.03999999999999977, 0.05699999999999977, 0.05199999999999978, 0.07399999999999977, 0.1109999999999998, 0.1139999999999998, 0.1419999999999998, 0.18899999999999978, 0.22099999999999978, 0.2589999999999998, 0.29899999999999977, 0.33599999999999974, 0.32799999999999974, 0.33599999999999974, 0.36199999999999977, 0.3699999999999998, 0.34799999999999975, 0.3529999999999998, 0.3839999999999998, 0.3899999999999998, 0.3809999999999998, 0.4179999999999998, 0.4259999999999997, 0.4179999999999997, 0.4219999999999997, 0.44999999999999973, 0.4809999999999997, 0.5009999999999997, 0.5179999999999997, 0.5399999999999997, 0.5359999999999997, 0.49899999999999967, 0.5439999999999996, 0.5819999999999996, 0.5739999999999996, 0.5679999999999995, 0.5599999999999995, 0.5709999999999995, 0.6029999999999995, 0.6549999999999996, 0.6849999999999995, 0.7059999999999995, 0.7239999999999995]}, {\"line\": {\"width\": 1.5}, \"name\": \"44S-24S\", \"opacity\": 0.8, \"type\": \"scatter\", \"x\": [1880, 1881, 1882, 1883, 1884, 1885, 1886, 1887, 1888, 1889, 1890, 1891, 1892, 1893, 1894, 1895, 1896, 1897, 1898, 1899, 1900, 1901, 1902, 1903, 1904, 1905, 1906, 1907, 1908, 1909, 1910, 1911, 1912, 1913, 1914, 1915, 1916, 1917, 1918, 1919, 1920, 1921, 1922, 1923, 1924, 1925, 1926, 1927, 1928, 1929, 1930, 1931, 1932, 1933, 1934, 1935, 1936, 1937, 1938, 1939, 1940, 1941, 1942, 1943, 1944, 1945, 1946, 1947, 1948, 1949, 1950, 1951, 1952, 1953, 1954, 1955, 1956, 1957, 1958, 1959, 1960, 1961, 1962, 1963, 1964, 1965, 1966, 1967, 1968, 1969, 1970, 1971, 1972, 1973, 1974, 1975, 1976, 1977, 1978, 1979, 1980, 1981, 1982, 1983, 1984, 1985, 1986, 1987, 1988, 1989, 1990, 1991, 1992, 1993, 1994, 1995, 1996, 1997, 1998, 1999, 2000, 2001, 2002, 2003, 2004, 2005, 2006, 2007, 2008, 2009, 2010, 2011, 2012, 2013, 2014, 2015, 2016, 2017, 2018, 2019], \"y\": [null, null, null, null, null, null, null, null, null, -0.154, -0.16799999999999998, -0.181, -0.181, -0.17099999999999999, -0.16699999999999998, -0.15399999999999997, -0.14899999999999997, -0.14099999999999996, -0.13799999999999996, -0.13899999999999996, -0.14999999999999997, -0.15899999999999997, -0.18899999999999997, -0.23099999999999996, -0.253, -0.26599999999999996, -0.271, -0.273, -0.274, -0.296, -0.301, -0.31799999999999995, -0.32699999999999996, -0.31999999999999995, -0.299, -0.28099999999999997, -0.2839999999999999, -0.2859999999999999, -0.26299999999999996, -0.23999999999999994, -0.22599999999999992, -0.20499999999999993, -0.1919999999999999, -0.1899999999999999, -0.21399999999999988, -0.2239999999999999, -0.2359999999999999, -0.24299999999999988, -0.2659999999999999, -0.29399999999999993, -0.30799999999999994, -0.3269999999999999, -0.32399999999999995, -0.31999999999999995, -0.29599999999999993, -0.30199999999999994, -0.29399999999999993, -0.283, -0.25999999999999995, -0.22099999999999995, -0.18499999999999997, -0.13899999999999996, -0.11299999999999996, -0.08399999999999996, -0.04999999999999997, -0.015999999999999966, -0.010999999999999965, -0.010999999999999965, -0.024999999999999967, -0.038999999999999965, -0.047999999999999966, -0.07399999999999997, -0.08899999999999997, -0.10399999999999995, -0.13999999999999996, -0.15899999999999995, -0.15099999999999997, -0.14099999999999996, -0.12899999999999998, -0.11399999999999999, -0.118, -0.082, -0.06300000000000001, -0.06500000000000002, -0.07700000000000003, -0.08400000000000002, -0.094, -0.094, -0.1, -0.097, -0.076, -0.087, -0.07999999999999999, -0.048, 0.003999999999999998, 0.04, 0.074, 0.10500000000000001, 0.13999999999999999, 0.16999999999999998, 0.19399999999999998, 0.219, 0.221, 0.21999999999999997, 0.21399999999999997, 0.23099999999999996, 0.24599999999999994, 0.2559999999999999, 0.2729999999999999, 0.2789999999999999, 0.2809999999999999, 0.2839999999999999, 0.2859999999999999, 0.2909999999999999, 0.3009999999999999, 0.29999999999999993, 0.30799999999999994, 0.31799999999999995, 0.31899999999999995, 0.32899999999999996, 0.33399999999999996, 0.36099999999999993, 0.38999999999999996, 0.40800000000000003, 0.43000000000000005, 0.45000000000000007, 0.4680000000000001, 0.4760000000000001, 0.4900000000000001, 0.5040000000000001, 0.5250000000000001, 0.531, 0.538, 0.557, 0.5810000000000001, 0.607, 0.623, 0.649, 0.6759999999999999, 0.6910000000000001]}, {\"line\": {\"width\": 1.5}, \"name\": \"64S-44S\", \"opacity\": 0.8, \"type\": \"scatter\", \"x\": [1880, 1881, 1882, 1883, 1884, 1885, 1886, 1887, 1888, 1889, 1890, 1891, 1892, 1893, 1894, 1895, 1896, 1897, 1898, 1899, 1900, 1901, 1902, 1903, 1904, 1905, 1906, 1907, 1908, 1909, 1910, 1911, 1912, 1913, 1914, 1915, 1916, 1917, 1918, 1919, 1920, 1921, 1922, 1923, 1924, 1925, 1926, 1927, 1928, 1929, 1930, 1931, 1932, 1933, 1934, 1935, 1936, 1937, 1938, 1939, 1940, 1941, 1942, 1943, 1944, 1945, 1946, 1947, 1948, 1949, 1950, 1951, 1952, 1953, 1954, 1955, 1956, 1957, 1958, 1959, 1960, 1961, 1962, 1963, 1964, 1965, 1966, 1967, 1968, 1969, 1970, 1971, 1972, 1973, 1974, 1975, 1976, 1977, 1978, 1979, 1980, 1981, 1982, 1983, 1984, 1985, 1986, 1987, 1988, 1989, 1990, 1991, 1992, 1993, 1994, 1995, 1996, 1997, 1998, 1999, 2000, 2001, 2002, 2003, 2004, 2005, 2006, 2007, 2008, 2009, 2010, 2011, 2012, 2013, 2014, 2015, 2016, 2017, 2018, 2019], \"y\": [null, null, null, null, null, null, null, null, null, -0.091, -0.12300000000000003, -0.14, -0.165, -0.192, -0.225, -0.242, -0.23499999999999996, -0.23599999999999993, -0.23499999999999993, -0.24199999999999994, -0.24399999999999994, -0.25299999999999995, -0.27499999999999997, -0.29499999999999993, -0.30899999999999994, -0.31399999999999995, -0.323, -0.333, -0.36, -0.39, -0.40599999999999997, -0.426, -0.41200000000000003, -0.41200000000000003, -0.38099999999999995, -0.367, -0.362, -0.33399999999999996, -0.30899999999999994, -0.2889999999999999, -0.2919999999999999, -0.27699999999999986, -0.2759999999999999, -0.2769999999999999, -0.30399999999999994, -0.3359999999999999, -0.36399999999999993, -0.3999999999999999, -0.4249999999999998, -0.43699999999999983, -0.4359999999999998, -0.43799999999999983, -0.4629999999999998, -0.46999999999999975, -0.46299999999999975, -0.44999999999999973, -0.4379999999999997, -0.4189999999999997, -0.38199999999999973, -0.3569999999999997, -0.32999999999999974, -0.3049999999999997, -0.2569999999999997, -0.20899999999999969, -0.1809999999999997, -0.1389999999999997, -0.1299999999999997, -0.1119999999999997, -0.11999999999999969, -0.11599999999999969, -0.11199999999999968, -0.11299999999999968, -0.10999999999999968, -0.13399999999999967, -0.14399999999999966, -0.15199999999999966, -0.12599999999999967, -0.11999999999999966, -0.10899999999999968, -0.11999999999999969, -0.1109999999999997, -0.1119999999999997, -0.1169999999999997, -0.1099999999999997, -0.09699999999999971, -0.09199999999999972, -0.10799999999999972, -0.10799999999999972, -0.09999999999999973, -0.06099999999999972, -0.05099999999999971, -0.017999999999999707, -0.012999999999999706, 0.012000000000000295, 0.011000000000000296, 0.028000000000000302, 0.0640000000000003, 0.09700000000000031, 0.11000000000000032, 0.13000000000000034, 0.16400000000000034, 0.18700000000000033, 0.22100000000000036, 0.25400000000000034, 0.29400000000000037, 0.32400000000000034, 0.3270000000000003, 0.3210000000000003, 0.32800000000000035, 0.3250000000000003, 0.3250000000000003, 0.3150000000000003, 0.31600000000000034, 0.31400000000000033, 0.3050000000000003, 0.27600000000000036, 0.27900000000000036, 0.29000000000000037, 0.3010000000000003, 0.29000000000000037, 0.26300000000000034, 0.25800000000000034, 0.25600000000000034, 0.24100000000000033, 0.24100000000000033, 0.24400000000000036, 0.23500000000000032, 0.20600000000000032, 0.1840000000000003, 0.1800000000000003, 0.1900000000000003, 0.18400000000000033, 0.17200000000000032, 0.17000000000000032, 0.1650000000000003, 0.1650000000000003, 0.17100000000000032, 0.19900000000000032, 0.2270000000000003, 0.25100000000000033]}, {\"line\": {\"width\": 1.5}, \"name\": \"90S-64S\", \"opacity\": 0.8, \"type\": \"scatter\", \"x\": [1880, 1881, 1882, 1883, 1884, 1885, 1886, 1887, 1888, 1889, 1890, 1891, 1892, 1893, 1894, 1895, 1896, 1897, 1898, 1899, 1900, 1901, 1902, 1903, 1904, 1905, 1906, 1907, 1908, 1909, 1910, 1911, 1912, 1913, 1914, 1915, 1916, 1917, 1918, 1919, 1920, 1921, 1922, 1923, 1924, 1925, 1926, 1927, 1928, 1929, 1930, 1931, 1932, 1933, 1934, 1935, 1936, 1937, 1938, 1939, 1940, 1941, 1942, 1943, 1944, 1945, 1946, 1947, 1948, 1949, 1950, 1951, 1952, 1953, 1954, 1955, 1956, 1957, 1958, 1959, 1960, 1961, 1962, 1963, 1964, 1965, 1966, 1967, 1968, 1969, 1970, 1971, 1972, 1973, 1974, 1975, 1976, 1977, 1978, 1979, 1980, 1981, 1982, 1983, 1984, 1985, 1986, 1987, 1988, 1989, 1990, 1991, 1992, 1993, 1994, 1995, 1996, 1997, 1998, 1999, 2000, 2001, 2002, 2003, 2004, 2005, 2006, 2007, 2008, 2009, 2010, 2011, 2012, 2013, 2014, 2015, 2016, 2017, 2018, 2019], \"y\": [null, null, null, null, null, null, null, null, null, 0.5109999999999999, 0.4579999999999999, 0.38299999999999995, 0.32899999999999996, 0.275, 0.173, 0.03200000000000001, -0.0010000000000000009, 0.008000000000000002, 0.03, 0.04400000000000001, 0.057000000000000016, 0.09800000000000002, 0.085, 0.04400000000000001, -0.045999999999999985, -0.01699999999999998, -0.10999999999999999, -0.267, -0.233, -0.344, -0.352, -0.369, -0.524, -0.5790000000000001, -0.4840000000000001, -0.649, -0.683, -0.557, -0.6529999999999999, -0.577, -0.707, -0.7959999999999999, -0.6609999999999998, -0.6109999999999999, -0.6279999999999999, -0.5159999999999999, -0.4739999999999999, -0.618, -0.8019999999999999, -0.929, -1.0740000000000003, -1.0310000000000001, -1.1020000000000003, -1.1620000000000004, -1.1660000000000004, -1.2510000000000003, -1.1910000000000003, -1.0170000000000006, -0.8910000000000006, -0.9440000000000005, -0.6900000000000004, -0.6950000000000004, -0.6860000000000003, -0.4580000000000003, -0.4940000000000003, -0.4990000000000003, -0.5110000000000003, -0.5670000000000004, -0.6170000000000003, -0.6530000000000002, -0.7350000000000003, -0.7590000000000002, -0.7180000000000002, -0.9410000000000002, -0.9280000000000003, -0.6300000000000002, -0.5390000000000004, -0.47100000000000025, -0.3890000000000003, -0.23000000000000026, -0.22000000000000025, -0.13000000000000025, -0.14700000000000024, -0.04300000000000024, -0.002000000000000235, -0.12600000000000022, -0.19200000000000023, -0.21100000000000022, -0.1660000000000002, -0.1440000000000002, -0.03700000000000021, -0.015000000000000211, 0.09399999999999979, 0.1309999999999998, 0.2329999999999998, 0.26199999999999973, 0.22699999999999973, 0.22399999999999975, 0.23599999999999977, 0.2289999999999998, 0.2559999999999998, 0.27399999999999974, 0.21899999999999978, 0.18999999999999978, 0.17799999999999977, 0.15399999999999975, 0.16699999999999976, 0.14099999999999974, 0.22399999999999975, 0.27999999999999975, 0.25999999999999973, 0.29499999999999976, 0.34399999999999975, 0.3099999999999997, 0.2519999999999997, 0.26399999999999973, 0.3949999999999997, 0.39399999999999974, 0.32199999999999973, 0.2909999999999997, 0.2819999999999997, 0.21699999999999972, 0.2549999999999997, 0.3289999999999997, 0.3399999999999997, 0.3949999999999997, 0.3229999999999996, 0.4519999999999996, 0.4979999999999996, 0.5899999999999996, 0.6099999999999997, 0.6809999999999996, 0.6369999999999997, 0.6829999999999996, 0.7339999999999998, 0.6279999999999998, 0.6169999999999998, 0.5399999999999998, 0.5699999999999997, 0.5609999999999997]}],                        {\"height\": 800, \"paper_bgcolor\": \"rgb(245, 246, 250)\", \"plot_bgcolor\": \"rgb(245, 246, 250)\", \"template\": {\"data\": {\"bar\": [{\"error_x\": {\"color\": \"#2a3f5f\"}, \"error_y\": {\"color\": \"#2a3f5f\"}, \"marker\": {\"line\": {\"color\": \"#E5ECF6\", \"width\": 0.5}}, \"type\": \"bar\"}], \"barpolar\": [{\"marker\": {\"line\": {\"color\": \"#E5ECF6\", \"width\": 0.5}}, \"type\": \"barpolar\"}], \"carpet\": [{\"aaxis\": {\"endlinecolor\": \"#2a3f5f\", \"gridcolor\": \"white\", \"linecolor\": \"white\", \"minorgridcolor\": \"white\", \"startlinecolor\": \"#2a3f5f\"}, \"baxis\": {\"endlinecolor\": \"#2a3f5f\", \"gridcolor\": \"white\", \"linecolor\": \"white\", \"minorgridcolor\": \"white\", \"startlinecolor\": \"#2a3f5f\"}, \"type\": \"carpet\"}], \"choropleth\": [{\"colorbar\": {\"outlinewidth\": 0, \"ticks\": \"\"}, \"type\": \"choropleth\"}], \"contour\": [{\"colorbar\": {\"outlinewidth\": 0, \"ticks\": \"\"}, \"colorscale\": [[0.0, \"#0d0887\"], [0.1111111111111111, \"#46039f\"], [0.2222222222222222, \"#7201a8\"], [0.3333333333333333, \"#9c179e\"], [0.4444444444444444, \"#bd3786\"], [0.5555555555555556, \"#d8576b\"], [0.6666666666666666, \"#ed7953\"], [0.7777777777777778, \"#fb9f3a\"], [0.8888888888888888, \"#fdca26\"], [1.0, \"#f0f921\"]], \"type\": \"contour\"}], \"contourcarpet\": [{\"colorbar\": {\"outlinewidth\": 0, \"ticks\": \"\"}, \"type\": \"contourcarpet\"}], \"heatmap\": [{\"colorbar\": {\"outlinewidth\": 0, \"ticks\": \"\"}, \"colorscale\": [[0.0, \"#0d0887\"], [0.1111111111111111, \"#46039f\"], [0.2222222222222222, \"#7201a8\"], [0.3333333333333333, \"#9c179e\"], [0.4444444444444444, \"#bd3786\"], [0.5555555555555556, \"#d8576b\"], [0.6666666666666666, \"#ed7953\"], [0.7777777777777778, \"#fb9f3a\"], [0.8888888888888888, \"#fdca26\"], [1.0, \"#f0f921\"]], \"type\": \"heatmap\"}], \"heatmapgl\": [{\"colorbar\": {\"outlinewidth\": 0, \"ticks\": \"\"}, \"colorscale\": [[0.0, \"#0d0887\"], [0.1111111111111111, \"#46039f\"], [0.2222222222222222, \"#7201a8\"], [0.3333333333333333, \"#9c179e\"], [0.4444444444444444, \"#bd3786\"], [0.5555555555555556, \"#d8576b\"], [0.6666666666666666, \"#ed7953\"], [0.7777777777777778, \"#fb9f3a\"], [0.8888888888888888, \"#fdca26\"], [1.0, \"#f0f921\"]], \"type\": \"heatmapgl\"}], \"histogram\": [{\"marker\": {\"colorbar\": {\"outlinewidth\": 0, \"ticks\": \"\"}}, \"type\": \"histogram\"}], \"histogram2d\": [{\"colorbar\": {\"outlinewidth\": 0, \"ticks\": \"\"}, \"colorscale\": [[0.0, \"#0d0887\"], [0.1111111111111111, \"#46039f\"], [0.2222222222222222, \"#7201a8\"], [0.3333333333333333, \"#9c179e\"], [0.4444444444444444, \"#bd3786\"], [0.5555555555555556, \"#d8576b\"], [0.6666666666666666, \"#ed7953\"], [0.7777777777777778, \"#fb9f3a\"], [0.8888888888888888, \"#fdca26\"], [1.0, \"#f0f921\"]], \"type\": \"histogram2d\"}], \"histogram2dcontour\": [{\"colorbar\": {\"outlinewidth\": 0, \"ticks\": \"\"}, \"colorscale\": [[0.0, \"#0d0887\"], [0.1111111111111111, \"#46039f\"], [0.2222222222222222, \"#7201a8\"], [0.3333333333333333, \"#9c179e\"], [0.4444444444444444, \"#bd3786\"], [0.5555555555555556, \"#d8576b\"], [0.6666666666666666, \"#ed7953\"], [0.7777777777777778, \"#fb9f3a\"], [0.8888888888888888, \"#fdca26\"], [1.0, \"#f0f921\"]], \"type\": \"histogram2dcontour\"}], \"mesh3d\": [{\"colorbar\": {\"outlinewidth\": 0, \"ticks\": \"\"}, \"type\": \"mesh3d\"}], \"parcoords\": [{\"line\": {\"colorbar\": {\"outlinewidth\": 0, \"ticks\": \"\"}}, \"type\": \"parcoords\"}], \"pie\": [{\"automargin\": true, \"type\": \"pie\"}], \"scatter\": [{\"marker\": {\"colorbar\": {\"outlinewidth\": 0, \"ticks\": \"\"}}, \"type\": \"scatter\"}], \"scatter3d\": [{\"line\": {\"colorbar\": {\"outlinewidth\": 0, \"ticks\": \"\"}}, \"marker\": {\"colorbar\": {\"outlinewidth\": 0, \"ticks\": \"\"}}, \"type\": \"scatter3d\"}], \"scattercarpet\": [{\"marker\": {\"colorbar\": {\"outlinewidth\": 0, \"ticks\": \"\"}}, \"type\": \"scattercarpet\"}], \"scattergeo\": [{\"marker\": {\"colorbar\": {\"outlinewidth\": 0, \"ticks\": \"\"}}, \"type\": \"scattergeo\"}], \"scattergl\": [{\"marker\": {\"colorbar\": {\"outlinewidth\": 0, \"ticks\": \"\"}}, \"type\": \"scattergl\"}], \"scattermapbox\": [{\"marker\": {\"colorbar\": {\"outlinewidth\": 0, \"ticks\": \"\"}}, \"type\": \"scattermapbox\"}], \"scatterpolar\": [{\"marker\": {\"colorbar\": {\"outlinewidth\": 0, \"ticks\": \"\"}}, \"type\": \"scatterpolar\"}], \"scatterpolargl\": [{\"marker\": {\"colorbar\": {\"outlinewidth\": 0, \"ticks\": \"\"}}, \"type\": \"scatterpolargl\"}], \"scatterternary\": [{\"marker\": {\"colorbar\": {\"outlinewidth\": 0, \"ticks\": \"\"}}, \"type\": \"scatterternary\"}], \"surface\": [{\"colorbar\": {\"outlinewidth\": 0, \"ticks\": \"\"}, \"colorscale\": [[0.0, \"#0d0887\"], [0.1111111111111111, \"#46039f\"], [0.2222222222222222, \"#7201a8\"], [0.3333333333333333, \"#9c179e\"], [0.4444444444444444, \"#bd3786\"], [0.5555555555555556, \"#d8576b\"], [0.6666666666666666, \"#ed7953\"], [0.7777777777777778, \"#fb9f3a\"], [0.8888888888888888, \"#fdca26\"], [1.0, \"#f0f921\"]], \"type\": \"surface\"}], \"table\": [{\"cells\": {\"fill\": {\"color\": \"#EBF0F8\"}, \"line\": {\"color\": \"white\"}}, \"header\": {\"fill\": {\"color\": \"#C8D4E3\"}, \"line\": {\"color\": \"white\"}}, \"type\": \"table\"}]}, \"layout\": {\"annotationdefaults\": {\"arrowcolor\": \"#2a3f5f\", \"arrowhead\": 0, \"arrowwidth\": 1}, \"coloraxis\": {\"colorbar\": {\"outlinewidth\": 0, \"ticks\": \"\"}}, \"colorscale\": {\"diverging\": [[0, \"#8e0152\"], [0.1, \"#c51b7d\"], [0.2, \"#de77ae\"], [0.3, \"#f1b6da\"], [0.4, \"#fde0ef\"], [0.5, \"#f7f7f7\"], [0.6, \"#e6f5d0\"], [0.7, \"#b8e186\"], [0.8, \"#7fbc41\"], [0.9, \"#4d9221\"], [1, \"#276419\"]], \"sequential\": [[0.0, \"#0d0887\"], [0.1111111111111111, \"#46039f\"], [0.2222222222222222, \"#7201a8\"], [0.3333333333333333, \"#9c179e\"], [0.4444444444444444, \"#bd3786\"], [0.5555555555555556, \"#d8576b\"], [0.6666666666666666, \"#ed7953\"], [0.7777777777777778, \"#fb9f3a\"], [0.8888888888888888, \"#fdca26\"], [1.0, \"#f0f921\"]], \"sequentialminus\": [[0.0, \"#0d0887\"], [0.1111111111111111, \"#46039f\"], [0.2222222222222222, \"#7201a8\"], [0.3333333333333333, \"#9c179e\"], [0.4444444444444444, \"#bd3786\"], [0.5555555555555556, \"#d8576b\"], [0.6666666666666666, \"#ed7953\"], [0.7777777777777778, \"#fb9f3a\"], [0.8888888888888888, \"#fdca26\"], [1.0, \"#f0f921\"]]}, \"colorway\": [\"#636efa\", \"#EF553B\", \"#00cc96\", \"#ab63fa\", \"#FFA15A\", \"#19d3f3\", \"#FF6692\", \"#B6E880\", \"#FF97FF\", \"#FECB52\"], \"font\": {\"color\": \"#2a3f5f\"}, \"geo\": {\"bgcolor\": \"white\", \"lakecolor\": \"white\", \"landcolor\": \"#E5ECF6\", \"showlakes\": true, \"showland\": true, \"subunitcolor\": \"white\"}, \"hoverlabel\": {\"align\": \"left\"}, \"hovermode\": \"closest\", \"mapbox\": {\"style\": \"light\"}, \"paper_bgcolor\": \"white\", \"plot_bgcolor\": \"#E5ECF6\", \"polar\": {\"angularaxis\": {\"gridcolor\": \"white\", \"linecolor\": \"white\", \"ticks\": \"\"}, \"bgcolor\": \"#E5ECF6\", \"radialaxis\": {\"gridcolor\": \"white\", \"linecolor\": \"white\", \"ticks\": \"\"}}, \"scene\": {\"xaxis\": {\"backgroundcolor\": \"#E5ECF6\", \"gridcolor\": \"white\", \"gridwidth\": 2, \"linecolor\": \"white\", \"showbackground\": true, \"ticks\": \"\", \"zerolinecolor\": \"white\"}, \"yaxis\": {\"backgroundcolor\": \"#E5ECF6\", \"gridcolor\": \"white\", \"gridwidth\": 2, \"linecolor\": \"white\", \"showbackground\": true, \"ticks\": \"\", \"zerolinecolor\": \"white\"}, \"zaxis\": {\"backgroundcolor\": \"#E5ECF6\", \"gridcolor\": \"white\", \"gridwidth\": 2, \"linecolor\": \"white\", \"showbackground\": true, \"ticks\": \"\", \"zerolinecolor\": \"white\"}}, \"shapedefaults\": {\"line\": {\"color\": \"#2a3f5f\"}}, \"ternary\": {\"aaxis\": {\"gridcolor\": \"white\", \"linecolor\": \"white\", \"ticks\": \"\"}, \"baxis\": {\"gridcolor\": \"white\", \"linecolor\": \"white\", \"ticks\": \"\"}, \"bgcolor\": \"#E5ECF6\", \"caxis\": {\"gridcolor\": \"white\", \"linecolor\": \"white\", \"ticks\": \"\"}}, \"title\": {\"x\": 0.05}, \"xaxis\": {\"automargin\": true, \"gridcolor\": \"white\", \"linecolor\": \"white\", \"ticks\": \"\", \"title\": {\"standoff\": 15}, \"zerolinecolor\": \"white\", \"zerolinewidth\": 2}, \"yaxis\": {\"automargin\": true, \"gridcolor\": \"white\", \"linecolor\": \"white\", \"ticks\": \"\", \"title\": {\"standoff\": 15}, \"zerolinecolor\": \"white\", \"zerolinewidth\": 2}}}, \"title\": {\"font\": {\"size\": 22}, \"text\": \"Global mean sea level (mm)\", \"x\": 0.5}, \"xaxis\": {\"color\": \"black\", \"title\": {\"text\": \"Year\"}}, \"yaxis\": {\"color\": \"black\", \"title\": {\"text\": \"GMSL variation (mm)\"}}},                        {\"responsive\": true}                    ).then(function(){\n",
       "                            \n",
       "var gd = document.getElementById('2ccc67b5-6374-486f-8096-12ed53b4ec8a');\n",
       "var x = new MutationObserver(function (mutations, observer) {{\n",
       "        var display = window.getComputedStyle(gd).display;\n",
       "        if (!display || display === 'none') {{\n",
       "            console.log([gd, 'removed!']);\n",
       "            Plotly.purge(gd);\n",
       "            observer.disconnect();\n",
       "        }}\n",
       "}});\n",
       "\n",
       "// Listen for the removal of the full notebook cells\n",
       "var notebookContainer = gd.closest('#notebook-container');\n",
       "if (notebookContainer) {{\n",
       "    x.observe(notebookContainer, {childList: true});\n",
       "}}\n",
       "\n",
       "// Listen for the clearing of the current output cell\n",
       "var outputEl = gd.closest('.output');\n",
       "if (outputEl) {{\n",
       "    x.observe(outputEl, {childList: true});\n",
       "}}\n",
       "\n",
       "                        })                };                });            </script>        </div>"
      ]
     },
     "metadata": {},
     "output_type": "display_data"
    }
   ],
   "source": [
    "fig = go.Figure( layout=go.Layout(xaxis=dict(title = \"Year\", color = 'black'),\n",
    "        yaxis=dict(title = \"GMSL variation (mm)\", color = 'black'),\n",
    "    ))\n",
    "for i in range(df1.columns.size):\n",
    "    fig.add_trace(go.Scatter(\n",
    "                    x=df1.index,\n",
    "                    y=df1.iloc[:,i],\n",
    "                    name=df1.columns[i],\n",
    "                    line_width = 1.5,\n",
    "                    opacity=0.8))\n",
    "\n",
    "# Use date string to set xaxis range\n",
    "fig.update_layout(title_text = \"Global mean sea level (mm)\", title_x=0.5, title_font_size = 22,\n",
    "                  paper_bgcolor = 'rgb(245, 246, 250)', plot_bgcolor = 'rgb(245, 246, 250)',\n",
    "                 height = 800)\n",
    "fig.show()"
   ]
  },
  {
   "cell_type": "markdown",
   "metadata": {},
   "source": [
    "(In the chart, we can see that the trend reverses: In the past, the further up north the lower the temperature varies. Today, the further up north the higher the temperature varies. Especially the arctic region (64N - 90N) is rising sharply and far ahead of other regions. Also, the temperature anomolies of 2 poles fluctuates much more significantly than that of other regions.)"
   ]
  },
  {
   "cell_type": "markdown",
   "metadata": {},
   "source": [
    "The graph above shows the different mean sea level variation depending on the latitude. Earth has been split into eigh geographical areas from the north pole to the south pole. The global trend shows an increase in the mean sea level in all these areas. However, it is clear that the fluctuations are not all the same. The two poles are particularly sensitive and observe higher variation. The north pole is the area with the highest increase, this is due to the fact that this area is only composed of water. The melting of sea ice and the large amount of water in this area make it sensitive to thermal expansion resulting in a high increase in the mean sea level. The south pole, due to the fact it's a continent does not observe such a huge increase. However, this area also describes significant variations which is also a marker of climate change. "
   ]
  },
  {
   "cell_type": "code",
   "execution_count": null,
   "metadata": {},
   "outputs": [],
   "source": []
  }
 ],
 "metadata": {
  "kernelspec": {
   "display_name": "Python 3",
   "language": "python",
   "name": "python3"
  },
  "language_info": {
   "codemirror_mode": {
    "name": "ipython",
    "version": 3
   },
   "file_extension": ".py",
   "mimetype": "text/x-python",
   "name": "python",
   "nbconvert_exporter": "python",
   "pygments_lexer": "ipython3",
   "version": "3.7.3"
  }
 },
 "nbformat": 4,
 "nbformat_minor": 2
}
