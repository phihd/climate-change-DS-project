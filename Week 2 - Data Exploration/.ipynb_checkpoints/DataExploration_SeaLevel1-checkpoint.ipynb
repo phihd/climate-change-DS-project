{
 "cells": [
  {
   "cell_type": "markdown",
   "metadata": {},
   "source": [
    "# Data exploration - Sea Level 1"
   ]
  },
  {
   "cell_type": "code",
   "execution_count": 1,
   "metadata": {},
   "outputs": [
    {
     "name": "stderr",
     "output_type": "stream",
     "text": [
      "C:\\Users\\ACER\\Anaconda3\\lib\\site-packages\\statsmodels\\tools\\_testing.py:19: FutureWarning: pandas.util.testing is deprecated. Use the functions in the public API at pandas.testing instead.\n",
      "  import pandas.util.testing as tm\n"
     ]
    }
   ],
   "source": [
    "import numpy as np\n",
    "import matplotlib.pyplot as plt\n",
    "import pandas as pd\n",
    "import seaborn as sns\n",
    "import statsmodels as sm"
   ]
  },
  {
   "cell_type": "markdown",
   "metadata": {},
   "source": [
    "The dataset is an excel file with 6 sheets with 6 coresponding factors: Land, Population, GDP, Agriculture, Urban Extent, and Wetland affected by Sea Level Rise (SLR), from [The World Bank](https://datacatalog.worldbank.org/dataset/world-sea-level-rise-dataset) (download [here](https://development-data-hub-s3-public.s3.amazonaws.com/ddhfiles/172666/slr-impacts_nov2010.xls))"
   ]
  },
  {
   "cell_type": "code",
   "execution_count": 2,
   "metadata": {},
   "outputs": [],
   "source": [
    "df_all_sheets = pd.read_excel('slr-impacts_nov2010.xls', skiprows = 6, sheet_name = None)\n",
    "df1 = df_all_sheets['Land']\n",
    "df2 = df_all_sheets['Population']\n",
    "df3 = df_all_sheets['GDP']\n",
    "df4 = df_all_sheets['Agriculture']\n",
    "df5 = df_all_sheets['UrbanExtent']\n",
    "df6 = df_all_sheets['Wetland']"
   ]
  },
  {
   "cell_type": "markdown",
   "metadata": {},
   "source": [
    "## 1. Land"
   ]
  },
  {
   "cell_type": "markdown",
   "metadata": {},
   "source": [
    "All 6 sheets have a same format, let's explore the first one (Land) in detail and apply same operations to the others."
   ]
  },
  {
   "cell_type": "code",
   "execution_count": 3,
   "metadata": {
    "scrolled": true
   },
   "outputs": [
    {
     "data": {
      "text/html": [
       "<div>\n",
       "<style scoped>\n",
       "    .dataframe tbody tr th:only-of-type {\n",
       "        vertical-align: middle;\n",
       "    }\n",
       "\n",
       "    .dataframe tbody tr th {\n",
       "        vertical-align: top;\n",
       "    }\n",
       "\n",
       "    .dataframe thead th {\n",
       "        text-align: right;\n",
       "    }\n",
       "</style>\n",
       "<table border=\"1\" class=\"dataframe\">\n",
       "  <thead>\n",
       "    <tr style=\"text-align: right;\">\n",
       "      <th></th>\n",
       "      <th>Unnamed: 0</th>\n",
       "      <th>Unnamed: 1</th>\n",
       "      <th>Unnamed: 2</th>\n",
       "      <th>Unnamed: 3</th>\n",
       "      <th>Unnamed: 4</th>\n",
       "      <th>Unnamed: 5</th>\n",
       "      <th>Unnamed: 6</th>\n",
       "      <th>Unnamed: 7</th>\n",
       "      <th>Unnamed: 8</th>\n",
       "      <th>Unnamed: 9</th>\n",
       "      <th>Unnamed: 10</th>\n",
       "      <th>Unnamed: 11</th>\n",
       "      <th>Unnamed: 12</th>\n",
       "    </tr>\n",
       "  </thead>\n",
       "  <tbody>\n",
       "    <tr>\n",
       "      <th>0</th>\n",
       "      <td>NaN</td>\n",
       "      <td>Global</td>\n",
       "      <td>64334381.0</td>\n",
       "      <td>220703.0</td>\n",
       "      <td>332720.0</td>\n",
       "      <td>478682.0</td>\n",
       "      <td>639442.0</td>\n",
       "      <td>802895.0</td>\n",
       "      <td>0.343056</td>\n",
       "      <td>0.517173</td>\n",
       "      <td>0.744053</td>\n",
       "      <td>0.993935</td>\n",
       "      <td>1.248003</td>\n",
       "    </tr>\n",
       "    <tr>\n",
       "      <th>1</th>\n",
       "      <td>NaN</td>\n",
       "      <td>NaN</td>\n",
       "      <td>NaN</td>\n",
       "      <td>NaN</td>\n",
       "      <td>NaN</td>\n",
       "      <td>NaN</td>\n",
       "      <td>NaN</td>\n",
       "      <td>NaN</td>\n",
       "      <td>NaN</td>\n",
       "      <td>NaN</td>\n",
       "      <td>NaN</td>\n",
       "      <td>NaN</td>\n",
       "      <td>NaN</td>\n",
       "    </tr>\n",
       "    <tr>\n",
       "      <th>2</th>\n",
       "      <td>NaN</td>\n",
       "      <td>Latin America / Caribbean</td>\n",
       "      <td>18806598.0</td>\n",
       "      <td>67188.0</td>\n",
       "      <td>104507.0</td>\n",
       "      <td>152210.0</td>\n",
       "      <td>197104.0</td>\n",
       "      <td>237795.0</td>\n",
       "      <td>0.357258</td>\n",
       "      <td>0.555693</td>\n",
       "      <td>0.809344</td>\n",
       "      <td>1.048058</td>\n",
       "      <td>1.264423</td>\n",
       "    </tr>\n",
       "    <tr>\n",
       "      <th>3</th>\n",
       "      <td>NaN</td>\n",
       "      <td>NaN</td>\n",
       "      <td>NaN</td>\n",
       "      <td>NaN</td>\n",
       "      <td>NaN</td>\n",
       "      <td>NaN</td>\n",
       "      <td>NaN</td>\n",
       "      <td>NaN</td>\n",
       "      <td>NaN</td>\n",
       "      <td>NaN</td>\n",
       "      <td>NaN</td>\n",
       "      <td>NaN</td>\n",
       "      <td>NaN</td>\n",
       "    </tr>\n",
       "    <tr>\n",
       "      <th>4</th>\n",
       "      <td>ARG</td>\n",
       "      <td>Argentina</td>\n",
       "      <td>2736391.0</td>\n",
       "      <td>9083.0</td>\n",
       "      <td>14331.0</td>\n",
       "      <td>20131.0</td>\n",
       "      <td>25362.0</td>\n",
       "      <td>30806.0</td>\n",
       "      <td>0.331934</td>\n",
       "      <td>0.523719</td>\n",
       "      <td>0.735677</td>\n",
       "      <td>0.926841</td>\n",
       "      <td>1.125789</td>\n",
       "    </tr>\n",
       "    <tr>\n",
       "      <th>5</th>\n",
       "      <td>BHS</td>\n",
       "      <td>Bahamas</td>\n",
       "      <td>13162.0</td>\n",
       "      <td>1523.0</td>\n",
       "      <td>2507.0</td>\n",
       "      <td>4080.0</td>\n",
       "      <td>6165.0</td>\n",
       "      <td>8146.0</td>\n",
       "      <td>11.571190</td>\n",
       "      <td>19.047257</td>\n",
       "      <td>30.998329</td>\n",
       "      <td>46.839386</td>\n",
       "      <td>61.890290</td>\n",
       "    </tr>\n",
       "    <tr>\n",
       "      <th>6</th>\n",
       "      <td>BLZ</td>\n",
       "      <td>Belize</td>\n",
       "      <td>22290.0</td>\n",
       "      <td>424.0</td>\n",
       "      <td>752.0</td>\n",
       "      <td>1089.0</td>\n",
       "      <td>1396.0</td>\n",
       "      <td>1703.0</td>\n",
       "      <td>1.902198</td>\n",
       "      <td>3.373710</td>\n",
       "      <td>4.885599</td>\n",
       "      <td>6.262898</td>\n",
       "      <td>7.640197</td>\n",
       "    </tr>\n",
       "    <tr>\n",
       "      <th>7</th>\n",
       "      <td>BRA</td>\n",
       "      <td>Brazil</td>\n",
       "      <td>8480395.0</td>\n",
       "      <td>11456.0</td>\n",
       "      <td>20673.0</td>\n",
       "      <td>34564.0</td>\n",
       "      <td>43970.0</td>\n",
       "      <td>51162.0</td>\n",
       "      <td>0.135088</td>\n",
       "      <td>0.243774</td>\n",
       "      <td>0.407575</td>\n",
       "      <td>0.518490</td>\n",
       "      <td>0.603297</td>\n",
       "    </tr>\n",
       "    <tr>\n",
       "      <th>8</th>\n",
       "      <td>CHL</td>\n",
       "      <td>Chile</td>\n",
       "      <td>721229.0</td>\n",
       "      <td>7266.0</td>\n",
       "      <td>9280.0</td>\n",
       "      <td>11249.0</td>\n",
       "      <td>12923.0</td>\n",
       "      <td>12923.0</td>\n",
       "      <td>1.007447</td>\n",
       "      <td>1.286693</td>\n",
       "      <td>1.559699</td>\n",
       "      <td>1.791803</td>\n",
       "      <td>1.791803</td>\n",
       "    </tr>\n",
       "    <tr>\n",
       "      <th>9</th>\n",
       "      <td>COL</td>\n",
       "      <td>Colombia</td>\n",
       "      <td>1141569.0</td>\n",
       "      <td>2405.0</td>\n",
       "      <td>3642.0</td>\n",
       "      <td>5335.0</td>\n",
       "      <td>7255.0</td>\n",
       "      <td>9124.0</td>\n",
       "      <td>0.210675</td>\n",
       "      <td>0.319035</td>\n",
       "      <td>0.467339</td>\n",
       "      <td>0.635529</td>\n",
       "      <td>0.799251</td>\n",
       "    </tr>\n",
       "  </tbody>\n",
       "</table>\n",
       "</div>"
      ],
      "text/plain": [
       "  Unnamed: 0                 Unnamed: 1  Unnamed: 2  Unnamed: 3  Unnamed: 4  \\\n",
       "0        NaN                     Global  64334381.0    220703.0    332720.0   \n",
       "1        NaN                        NaN         NaN         NaN         NaN   \n",
       "2        NaN  Latin America / Caribbean  18806598.0     67188.0    104507.0   \n",
       "3        NaN                        NaN         NaN         NaN         NaN   \n",
       "4        ARG                  Argentina   2736391.0      9083.0     14331.0   \n",
       "5        BHS                    Bahamas     13162.0      1523.0      2507.0   \n",
       "6        BLZ                     Belize     22290.0       424.0       752.0   \n",
       "7        BRA                     Brazil   8480395.0     11456.0     20673.0   \n",
       "8        CHL                      Chile    721229.0      7266.0      9280.0   \n",
       "9        COL                   Colombia   1141569.0      2405.0      3642.0   \n",
       "\n",
       "   Unnamed: 5  Unnamed: 6  Unnamed: 7  Unnamed: 8  Unnamed: 9  Unnamed: 10  \\\n",
       "0    478682.0    639442.0    802895.0    0.343056    0.517173     0.744053   \n",
       "1         NaN         NaN         NaN         NaN         NaN          NaN   \n",
       "2    152210.0    197104.0    237795.0    0.357258    0.555693     0.809344   \n",
       "3         NaN         NaN         NaN         NaN         NaN          NaN   \n",
       "4     20131.0     25362.0     30806.0    0.331934    0.523719     0.735677   \n",
       "5      4080.0      6165.0      8146.0   11.571190   19.047257    30.998329   \n",
       "6      1089.0      1396.0      1703.0    1.902198    3.373710     4.885599   \n",
       "7     34564.0     43970.0     51162.0    0.135088    0.243774     0.407575   \n",
       "8     11249.0     12923.0     12923.0    1.007447    1.286693     1.559699   \n",
       "9      5335.0      7255.0      9124.0    0.210675    0.319035     0.467339   \n",
       "\n",
       "   Unnamed: 11  Unnamed: 12  \n",
       "0     0.993935     1.248003  \n",
       "1          NaN          NaN  \n",
       "2     1.048058     1.264423  \n",
       "3          NaN          NaN  \n",
       "4     0.926841     1.125789  \n",
       "5    46.839386    61.890290  \n",
       "6     6.262898     7.640197  \n",
       "7     0.518490     0.603297  \n",
       "8     1.791803     1.791803  \n",
       "9     0.635529     0.799251  "
      ]
     },
     "execution_count": 3,
     "metadata": {},
     "output_type": "execute_result"
    }
   ],
   "source": [
    "df1.head(10)"
   ]
  },
  {
   "cell_type": "markdown",
   "metadata": {},
   "source": [
    "Columns of the dataframe is described below:\n",
    "    #1: Country code\n",
    "    #2: Country name\n",
    "    #3: Country Area (km^2)\n",
    "    #4 - 8: Numerical figures of an impacted factor when SLR 1m, 2m, 3m, 4m, or 5m\n",
    "    #9 - 13: Percentage of a factor impacted when SLR 1m, 2m, 3m, 4m, or 5m"
   ]
  },
  {
   "cell_type": "code",
   "execution_count": 4,
   "metadata": {
    "scrolled": false
   },
   "outputs": [
    {
     "data": {
      "text/html": [
       "<div>\n",
       "<style scoped>\n",
       "    .dataframe tbody tr th:only-of-type {\n",
       "        vertical-align: middle;\n",
       "    }\n",
       "\n",
       "    .dataframe tbody tr th {\n",
       "        vertical-align: top;\n",
       "    }\n",
       "\n",
       "    .dataframe thead th {\n",
       "        text-align: right;\n",
       "    }\n",
       "</style>\n",
       "<table border=\"1\" class=\"dataframe\">\n",
       "  <thead>\n",
       "    <tr style=\"text-align: right;\">\n",
       "      <th></th>\n",
       "      <th>CC</th>\n",
       "      <th>CN</th>\n",
       "      <th>CA</th>\n",
       "      <th>NA_1m</th>\n",
       "      <th>NA_2m</th>\n",
       "      <th>NA_3m</th>\n",
       "      <th>NA_4m</th>\n",
       "      <th>NA_5m</th>\n",
       "      <th>%A_1m</th>\n",
       "      <th>%A_2m</th>\n",
       "      <th>%A_3m</th>\n",
       "      <th>%A_4m</th>\n",
       "      <th>%A_5m</th>\n",
       "    </tr>\n",
       "  </thead>\n",
       "  <tbody>\n",
       "    <tr>\n",
       "      <th>1</th>\n",
       "      <td>NaN</td>\n",
       "      <td>Global</td>\n",
       "      <td>64334381</td>\n",
       "      <td>220703</td>\n",
       "      <td>332720</td>\n",
       "      <td>478682</td>\n",
       "      <td>639442</td>\n",
       "      <td>802895</td>\n",
       "      <td>0.343056</td>\n",
       "      <td>0.517173</td>\n",
       "      <td>0.744053</td>\n",
       "      <td>0.993935</td>\n",
       "      <td>1.248003</td>\n",
       "    </tr>\n",
       "    <tr>\n",
       "      <th>2</th>\n",
       "      <td>NaN</td>\n",
       "      <td>Latin America / Caribbean</td>\n",
       "      <td>18806598</td>\n",
       "      <td>67188</td>\n",
       "      <td>104507</td>\n",
       "      <td>152210</td>\n",
       "      <td>197104</td>\n",
       "      <td>237795</td>\n",
       "      <td>0.357258</td>\n",
       "      <td>0.555693</td>\n",
       "      <td>0.809344</td>\n",
       "      <td>1.048058</td>\n",
       "      <td>1.264423</td>\n",
       "    </tr>\n",
       "    <tr>\n",
       "      <th>3</th>\n",
       "      <td>ARG</td>\n",
       "      <td>Argentina</td>\n",
       "      <td>2736391</td>\n",
       "      <td>9083</td>\n",
       "      <td>14331</td>\n",
       "      <td>20131</td>\n",
       "      <td>25362</td>\n",
       "      <td>30806</td>\n",
       "      <td>0.331934</td>\n",
       "      <td>0.523719</td>\n",
       "      <td>0.735677</td>\n",
       "      <td>0.926841</td>\n",
       "      <td>1.125789</td>\n",
       "    </tr>\n",
       "    <tr>\n",
       "      <th>4</th>\n",
       "      <td>BHS</td>\n",
       "      <td>Bahamas</td>\n",
       "      <td>13162</td>\n",
       "      <td>1523</td>\n",
       "      <td>2507</td>\n",
       "      <td>4080</td>\n",
       "      <td>6165</td>\n",
       "      <td>8146</td>\n",
       "      <td>11.571190</td>\n",
       "      <td>19.047257</td>\n",
       "      <td>30.998329</td>\n",
       "      <td>46.839386</td>\n",
       "      <td>61.890290</td>\n",
       "    </tr>\n",
       "    <tr>\n",
       "      <th>5</th>\n",
       "      <td>BLZ</td>\n",
       "      <td>Belize</td>\n",
       "      <td>22290</td>\n",
       "      <td>424</td>\n",
       "      <td>752</td>\n",
       "      <td>1089</td>\n",
       "      <td>1396</td>\n",
       "      <td>1703</td>\n",
       "      <td>1.902198</td>\n",
       "      <td>3.373710</td>\n",
       "      <td>4.885599</td>\n",
       "      <td>6.262898</td>\n",
       "      <td>7.640197</td>\n",
       "    </tr>\n",
       "    <tr>\n",
       "      <th>6</th>\n",
       "      <td>BRA</td>\n",
       "      <td>Brazil</td>\n",
       "      <td>8480395</td>\n",
       "      <td>11456</td>\n",
       "      <td>20673</td>\n",
       "      <td>34564</td>\n",
       "      <td>43970</td>\n",
       "      <td>51162</td>\n",
       "      <td>0.135088</td>\n",
       "      <td>0.243774</td>\n",
       "      <td>0.407575</td>\n",
       "      <td>0.518490</td>\n",
       "      <td>0.603297</td>\n",
       "    </tr>\n",
       "    <tr>\n",
       "      <th>7</th>\n",
       "      <td>CHL</td>\n",
       "      <td>Chile</td>\n",
       "      <td>721229</td>\n",
       "      <td>7266</td>\n",
       "      <td>9280</td>\n",
       "      <td>11249</td>\n",
       "      <td>12923</td>\n",
       "      <td>12923</td>\n",
       "      <td>1.007447</td>\n",
       "      <td>1.286693</td>\n",
       "      <td>1.559699</td>\n",
       "      <td>1.791803</td>\n",
       "      <td>1.791803</td>\n",
       "    </tr>\n",
       "    <tr>\n",
       "      <th>8</th>\n",
       "      <td>COL</td>\n",
       "      <td>Colombia</td>\n",
       "      <td>1141569</td>\n",
       "      <td>2405</td>\n",
       "      <td>3642</td>\n",
       "      <td>5335</td>\n",
       "      <td>7255</td>\n",
       "      <td>9124</td>\n",
       "      <td>0.210675</td>\n",
       "      <td>0.319035</td>\n",
       "      <td>0.467339</td>\n",
       "      <td>0.635529</td>\n",
       "      <td>0.799251</td>\n",
       "    </tr>\n",
       "    <tr>\n",
       "      <th>9</th>\n",
       "      <td>CRI</td>\n",
       "      <td>Costa Rica</td>\n",
       "      <td>51015</td>\n",
       "      <td>184</td>\n",
       "      <td>258</td>\n",
       "      <td>373</td>\n",
       "      <td>544</td>\n",
       "      <td>778</td>\n",
       "      <td>0.360678</td>\n",
       "      <td>0.505734</td>\n",
       "      <td>0.731158</td>\n",
       "      <td>1.066353</td>\n",
       "      <td>1.525042</td>\n",
       "    </tr>\n",
       "    <tr>\n",
       "      <th>10</th>\n",
       "      <td>CUB</td>\n",
       "      <td>Cuba</td>\n",
       "      <td>111199</td>\n",
       "      <td>1766</td>\n",
       "      <td>3215</td>\n",
       "      <td>5355</td>\n",
       "      <td>8163</td>\n",
       "      <td>11181</td>\n",
       "      <td>1.588144</td>\n",
       "      <td>2.891213</td>\n",
       "      <td>4.815691</td>\n",
       "      <td>7.340893</td>\n",
       "      <td>10.054947</td>\n",
       "    </tr>\n",
       "  </tbody>\n",
       "</table>\n",
       "</div>"
      ],
      "text/plain": [
       "     CC                         CN        CA   NA_1m   NA_2m   NA_3m   NA_4m  \\\n",
       "1   NaN                     Global  64334381  220703  332720  478682  639442   \n",
       "2   NaN  Latin America / Caribbean  18806598   67188  104507  152210  197104   \n",
       "3   ARG                  Argentina   2736391    9083   14331   20131   25362   \n",
       "4   BHS                    Bahamas     13162    1523    2507    4080    6165   \n",
       "5   BLZ                     Belize     22290     424     752    1089    1396   \n",
       "6   BRA                     Brazil   8480395   11456   20673   34564   43970   \n",
       "7   CHL                      Chile    721229    7266    9280   11249   12923   \n",
       "8   COL                   Colombia   1141569    2405    3642    5335    7255   \n",
       "9   CRI                 Costa Rica     51015     184     258     373     544   \n",
       "10  CUB                       Cuba    111199    1766    3215    5355    8163   \n",
       "\n",
       "     NA_5m      %A_1m      %A_2m      %A_3m      %A_4m      %A_5m  \n",
       "1   802895   0.343056   0.517173   0.744053   0.993935   1.248003  \n",
       "2   237795   0.357258   0.555693   0.809344   1.048058   1.264423  \n",
       "3    30806   0.331934   0.523719   0.735677   0.926841   1.125789  \n",
       "4     8146  11.571190  19.047257  30.998329  46.839386  61.890290  \n",
       "5     1703   1.902198   3.373710   4.885599   6.262898   7.640197  \n",
       "6    51162   0.135088   0.243774   0.407575   0.518490   0.603297  \n",
       "7    12923   1.007447   1.286693   1.559699   1.791803   1.791803  \n",
       "8     9124   0.210675   0.319035   0.467339   0.635529   0.799251  \n",
       "9      778   0.360678   0.505734   0.731158   1.066353   1.525042  \n",
       "10   11181   1.588144   2.891213   4.815691   7.340893  10.054947  "
      ]
     },
     "execution_count": 4,
     "metadata": {},
     "output_type": "execute_result"
    }
   ],
   "source": [
    "df1.columns = ['CC', 'CN', 'CA', 'NA_1m', 'NA_2m', 'NA_3m', 'NA_4m', 'NA_5m', '%A_1m', '%A_2m', '%A_3m', '%A_4m', '%A_5m']\n",
    "df1.dropna(how = 'all', inplace = True)\n",
    "df1 = df1.reset_index(drop = True)\n",
    "df1.index += 1\n",
    "df1 = df1.astype(dict.fromkeys(['CA', 'NA_1m', 'NA_2m', 'NA_3m', 'NA_4m', 'NA_5m'], int))\n",
    "df1.head(10)"
   ]
  },
  {
   "cell_type": "markdown",
   "metadata": {},
   "source": [
    "Let's summarize data by regions"
   ]
  },
  {
   "cell_type": "code",
   "execution_count": 5,
   "metadata": {
    "scrolled": false
   },
   "outputs": [
    {
     "data": {
      "text/html": [
       "<div>\n",
       "<style scoped>\n",
       "    .dataframe tbody tr th:only-of-type {\n",
       "        vertical-align: middle;\n",
       "    }\n",
       "\n",
       "    .dataframe tbody tr th {\n",
       "        vertical-align: top;\n",
       "    }\n",
       "\n",
       "    .dataframe thead th {\n",
       "        text-align: right;\n",
       "    }\n",
       "</style>\n",
       "<table border=\"1\" class=\"dataframe\">\n",
       "  <thead>\n",
       "    <tr style=\"text-align: right;\">\n",
       "      <th></th>\n",
       "      <th>CC</th>\n",
       "      <th>CN</th>\n",
       "      <th>CA</th>\n",
       "      <th>NA_1m</th>\n",
       "      <th>NA_2m</th>\n",
       "      <th>NA_3m</th>\n",
       "      <th>NA_4m</th>\n",
       "      <th>NA_5m</th>\n",
       "      <th>%A_1m</th>\n",
       "      <th>%A_2m</th>\n",
       "      <th>%A_3m</th>\n",
       "      <th>%A_4m</th>\n",
       "      <th>%A_5m</th>\n",
       "    </tr>\n",
       "  </thead>\n",
       "  <tbody>\n",
       "    <tr>\n",
       "      <th>1</th>\n",
       "      <td>NaN</td>\n",
       "      <td>Global</td>\n",
       "      <td>64334381</td>\n",
       "      <td>220703</td>\n",
       "      <td>332720</td>\n",
       "      <td>478682</td>\n",
       "      <td>639442</td>\n",
       "      <td>802895</td>\n",
       "      <td>0.343056</td>\n",
       "      <td>0.517173</td>\n",
       "      <td>0.744053</td>\n",
       "      <td>0.993935</td>\n",
       "      <td>1.248003</td>\n",
       "    </tr>\n",
       "    <tr>\n",
       "      <th>2</th>\n",
       "      <td>NaN</td>\n",
       "      <td>Latin America / Caribbean</td>\n",
       "      <td>18806598</td>\n",
       "      <td>67188</td>\n",
       "      <td>104507</td>\n",
       "      <td>152210</td>\n",
       "      <td>197104</td>\n",
       "      <td>237795</td>\n",
       "      <td>0.357258</td>\n",
       "      <td>0.555693</td>\n",
       "      <td>0.809344</td>\n",
       "      <td>1.048058</td>\n",
       "      <td>1.264423</td>\n",
       "    </tr>\n",
       "    <tr>\n",
       "      <th>28</th>\n",
       "      <td>NaN</td>\n",
       "      <td>Middle East / North Africa</td>\n",
       "      <td>10050556</td>\n",
       "      <td>37841</td>\n",
       "      <td>47424</td>\n",
       "      <td>57656</td>\n",
       "      <td>67913</td>\n",
       "      <td>77783</td>\n",
       "      <td>0.376507</td>\n",
       "      <td>0.471854</td>\n",
       "      <td>0.573660</td>\n",
       "      <td>0.675714</td>\n",
       "      <td>0.773917</td>\n",
       "    </tr>\n",
       "    <tr>\n",
       "      <th>42</th>\n",
       "      <td>NaN</td>\n",
       "      <td>Sub-Saharan Africa</td>\n",
       "      <td>17139289</td>\n",
       "      <td>28021</td>\n",
       "      <td>37572</td>\n",
       "      <td>52268</td>\n",
       "      <td>69441</td>\n",
       "      <td>87155</td>\n",
       "      <td>0.163490</td>\n",
       "      <td>0.219216</td>\n",
       "      <td>0.304960</td>\n",
       "      <td>0.405157</td>\n",
       "      <td>0.508510</td>\n",
       "    </tr>\n",
       "    <tr>\n",
       "      <th>72</th>\n",
       "      <td>NaN</td>\n",
       "      <td>East Asia</td>\n",
       "      <td>14140767</td>\n",
       "      <td>74431</td>\n",
       "      <td>119925</td>\n",
       "      <td>178935</td>\n",
       "      <td>250006</td>\n",
       "      <td>326550</td>\n",
       "      <td>0.526358</td>\n",
       "      <td>0.848080</td>\n",
       "      <td>1.265384</td>\n",
       "      <td>1.767980</td>\n",
       "      <td>2.309281</td>\n",
       "    </tr>\n",
       "    <tr>\n",
       "      <th>86</th>\n",
       "      <td>NaN</td>\n",
       "      <td>South Asia</td>\n",
       "      <td>4197171</td>\n",
       "      <td>13222</td>\n",
       "      <td>23292</td>\n",
       "      <td>37613</td>\n",
       "      <td>54978</td>\n",
       "      <td>73612</td>\n",
       "      <td>0.315022</td>\n",
       "      <td>0.554945</td>\n",
       "      <td>0.896151</td>\n",
       "      <td>1.309882</td>\n",
       "      <td>1.753848</td>\n",
       "    </tr>\n",
       "  </tbody>\n",
       "</table>\n",
       "</div>"
      ],
      "text/plain": [
       "     CC                          CN        CA   NA_1m   NA_2m   NA_3m   NA_4m  \\\n",
       "1   NaN                      Global  64334381  220703  332720  478682  639442   \n",
       "2   NaN   Latin America / Caribbean  18806598   67188  104507  152210  197104   \n",
       "28  NaN  Middle East / North Africa  10050556   37841   47424   57656   67913   \n",
       "42  NaN          Sub-Saharan Africa  17139289   28021   37572   52268   69441   \n",
       "72  NaN                   East Asia  14140767   74431  119925  178935  250006   \n",
       "86  NaN                  South Asia   4197171   13222   23292   37613   54978   \n",
       "\n",
       "     NA_5m     %A_1m     %A_2m     %A_3m     %A_4m     %A_5m  \n",
       "1   802895  0.343056  0.517173  0.744053  0.993935  1.248003  \n",
       "2   237795  0.357258  0.555693  0.809344  1.048058  1.264423  \n",
       "28   77783  0.376507  0.471854  0.573660  0.675714  0.773917  \n",
       "42   87155  0.163490  0.219216  0.304960  0.405157  0.508510  \n",
       "72  326550  0.526358  0.848080  1.265384  1.767980  2.309281  \n",
       "86   73612  0.315022  0.554945  0.896151  1.309882  1.753848  "
      ]
     },
     "execution_count": 5,
     "metadata": {},
     "output_type": "execute_result"
    }
   ],
   "source": [
    "df1_regional = df1[df1['CC'].isna()]\n",
    "df1_regional"
   ]
  },
  {
   "cell_type": "code",
   "execution_count": 6,
   "metadata": {},
   "outputs": [
    {
     "data": {
      "image/png": "[encoded data removed]",
      "text/plain": [
       "<Figure size 432x432 with 1 Axes>"
      ]
     },
     "metadata": {
      "needs_background": "light"
     },
     "output_type": "display_data"
    }
   ],
   "source": [
    "plt.figure(figsize = (6, 6))\n",
    "plt1 = plt.barh(df1_regional['CN'], df1_regional['%A_1m'], alpha = 0.3)\n",
    "plt2 = plt.barh(df1_regional['CN'], df1_regional['%A_2m'], alpha = 0.3)\n",
    "plt3 = plt.barh(df1_regional['CN'], df1_regional['%A_3m'], alpha = 0.3)\n",
    "plt4 = plt.barh(df1_regional['CN'], df1_regional['%A_4m'], alpha = 0.3)\n",
    "plt5 = plt.barh(df1_regional['CN'], df1_regional['%A_5m'], alpha = 0.3)\n",
    "plt.xlabel('%')\n",
    "plt.grid(alpha = 0.2)\n",
    "plt.legend((plt1[0], plt2[0], plt3[0], plt4[0], plt5[0]), ('%A_1m', '%A_2m', '%A_3m', '%A_4m', '%A_5m'))\n",
    "plt.title(\"SLR impacted land by region (%)\", fontsize = 15)\n",
    "plt.show()"
   ]
  },
  {
   "cell_type": "code",
   "execution_count": 7,
   "metadata": {},
   "outputs": [
    {
     "data": {
      "text/html": [
       "<div>\n",
       "<style scoped>\n",
       "    .dataframe tbody tr th:only-of-type {\n",
       "        vertical-align: middle;\n",
       "    }\n",
       "\n",
       "    .dataframe tbody tr th {\n",
       "        vertical-align: top;\n",
       "    }\n",
       "\n",
       "    .dataframe thead th {\n",
       "        text-align: right;\n",
       "    }\n",
       "</style>\n",
       "<table border=\"1\" class=\"dataframe\">\n",
       "  <thead>\n",
       "    <tr style=\"text-align: right;\">\n",
       "      <th></th>\n",
       "      <th>CC</th>\n",
       "      <th>CN</th>\n",
       "      <th>CA</th>\n",
       "      <th>NA_1m</th>\n",
       "      <th>NA_2m</th>\n",
       "      <th>NA_3m</th>\n",
       "      <th>NA_4m</th>\n",
       "      <th>NA_5m</th>\n",
       "      <th>%A_1m</th>\n",
       "      <th>%A_2m</th>\n",
       "      <th>%A_3m</th>\n",
       "      <th>%A_4m</th>\n",
       "      <th>%A_5m</th>\n",
       "    </tr>\n",
       "  </thead>\n",
       "  <tbody>\n",
       "    <tr>\n",
       "      <th>4</th>\n",
       "      <td>BHS</td>\n",
       "      <td>Bahamas</td>\n",
       "      <td>13162</td>\n",
       "      <td>1523</td>\n",
       "      <td>2507</td>\n",
       "      <td>4080</td>\n",
       "      <td>6165</td>\n",
       "      <td>8146</td>\n",
       "      <td>11.571190</td>\n",
       "      <td>19.047257</td>\n",
       "      <td>30.998329</td>\n",
       "      <td>46.839386</td>\n",
       "      <td>61.890290</td>\n",
       "    </tr>\n",
       "    <tr>\n",
       "      <th>85</th>\n",
       "      <td>VNM</td>\n",
       "      <td>Vietnam</td>\n",
       "      <td>328535</td>\n",
       "      <td>16977</td>\n",
       "      <td>28090</td>\n",
       "      <td>38860</td>\n",
       "      <td>47080</td>\n",
       "      <td>52926</td>\n",
       "      <td>5.167486</td>\n",
       "      <td>8.550078</td>\n",
       "      <td>11.828268</td>\n",
       "      <td>14.330284</td>\n",
       "      <td>16.109699</td>\n",
       "    </tr>\n",
       "    <tr>\n",
       "      <th>36</th>\n",
       "      <td>QAT</td>\n",
       "      <td>Qatar</td>\n",
       "      <td>10973</td>\n",
       "      <td>296</td>\n",
       "      <td>545</td>\n",
       "      <td>856</td>\n",
       "      <td>1168</td>\n",
       "      <td>1454</td>\n",
       "      <td>2.697530</td>\n",
       "      <td>4.966737</td>\n",
       "      <td>7.800966</td>\n",
       "      <td>10.644309</td>\n",
       "      <td>13.250706</td>\n",
       "    </tr>\n",
       "    <tr>\n",
       "      <th>5</th>\n",
       "      <td>BLZ</td>\n",
       "      <td>Belize</td>\n",
       "      <td>22290</td>\n",
       "      <td>424</td>\n",
       "      <td>752</td>\n",
       "      <td>1089</td>\n",
       "      <td>1396</td>\n",
       "      <td>1703</td>\n",
       "      <td>1.902198</td>\n",
       "      <td>3.373710</td>\n",
       "      <td>4.885599</td>\n",
       "      <td>6.262898</td>\n",
       "      <td>7.640197</td>\n",
       "    </tr>\n",
       "    <tr>\n",
       "      <th>25</th>\n",
       "      <td>PRI</td>\n",
       "      <td>Puerto Rico</td>\n",
       "      <td>8985</td>\n",
       "      <td>147</td>\n",
       "      <td>234</td>\n",
       "      <td>331</td>\n",
       "      <td>432</td>\n",
       "      <td>529</td>\n",
       "      <td>1.636060</td>\n",
       "      <td>2.604341</td>\n",
       "      <td>3.683918</td>\n",
       "      <td>4.808013</td>\n",
       "      <td>5.887590</td>\n",
       "    </tr>\n",
       "    <tr>\n",
       "      <th>10</th>\n",
       "      <td>CUB</td>\n",
       "      <td>Cuba</td>\n",
       "      <td>111199</td>\n",
       "      <td>1766</td>\n",
       "      <td>3215</td>\n",
       "      <td>5355</td>\n",
       "      <td>8163</td>\n",
       "      <td>11181</td>\n",
       "      <td>1.588144</td>\n",
       "      <td>2.891213</td>\n",
       "      <td>4.815691</td>\n",
       "      <td>7.340893</td>\n",
       "      <td>10.054947</td>\n",
       "    </tr>\n",
       "    <tr>\n",
       "      <th>84</th>\n",
       "      <td>TWN</td>\n",
       "      <td>Taiwan China</td>\n",
       "      <td>36223</td>\n",
       "      <td>574</td>\n",
       "      <td>868</td>\n",
       "      <td>1204</td>\n",
       "      <td>1552</td>\n",
       "      <td>1882</td>\n",
       "      <td>1.584629</td>\n",
       "      <td>2.396268</td>\n",
       "      <td>3.323855</td>\n",
       "      <td>4.284571</td>\n",
       "      <td>5.195594</td>\n",
       "    </tr>\n",
       "    <tr>\n",
       "      <th>87</th>\n",
       "      <td>BGD</td>\n",
       "      <td>Bangladesh</td>\n",
       "      <td>136305</td>\n",
       "      <td>2062</td>\n",
       "      <td>3467</td>\n",
       "      <td>6365</td>\n",
       "      <td>11166</td>\n",
       "      <td>17611</td>\n",
       "      <td>1.512784</td>\n",
       "      <td>2.543560</td>\n",
       "      <td>4.669675</td>\n",
       "      <td>8.191923</td>\n",
       "      <td>12.920289</td>\n",
       "    </tr>\n",
       "    <tr>\n",
       "      <th>71</th>\n",
       "      <td>DJI</td>\n",
       "      <td>Djibouti</td>\n",
       "      <td>20903</td>\n",
       "      <td>307</td>\n",
       "      <td>331</td>\n",
       "      <td>365</td>\n",
       "      <td>408</td>\n",
       "      <td>460</td>\n",
       "      <td>1.468689</td>\n",
       "      <td>1.583505</td>\n",
       "      <td>1.746161</td>\n",
       "      <td>1.951873</td>\n",
       "      <td>2.200641</td>\n",
       "    </tr>\n",
       "    <tr>\n",
       "      <th>19</th>\n",
       "      <td>JAM</td>\n",
       "      <td>Jamaica</td>\n",
       "      <td>11060</td>\n",
       "      <td>147</td>\n",
       "      <td>206</td>\n",
       "      <td>285</td>\n",
       "      <td>377</td>\n",
       "      <td>462</td>\n",
       "      <td>1.329114</td>\n",
       "      <td>1.862568</td>\n",
       "      <td>2.576854</td>\n",
       "      <td>3.408680</td>\n",
       "      <td>4.177215</td>\n",
       "    </tr>\n",
       "  </tbody>\n",
       "</table>\n",
       "</div>"
      ],
      "text/plain": [
       "     CC            CN      CA  NA_1m  NA_2m  NA_3m  NA_4m  NA_5m      %A_1m  \\\n",
       "4   BHS       Bahamas   13162   1523   2507   4080   6165   8146  11.571190   \n",
       "85  VNM       Vietnam  328535  16977  28090  38860  47080  52926   5.167486   \n",
       "36  QAT         Qatar   10973    296    545    856   1168   1454   2.697530   \n",
       "5   BLZ        Belize   22290    424    752   1089   1396   1703   1.902198   \n",
       "25  PRI   Puerto Rico    8985    147    234    331    432    529   1.636060   \n",
       "10  CUB          Cuba  111199   1766   3215   5355   8163  11181   1.588144   \n",
       "84  TWN  Taiwan China   36223    574    868   1204   1552   1882   1.584629   \n",
       "87  BGD    Bangladesh  136305   2062   3467   6365  11166  17611   1.512784   \n",
       "71  DJI      Djibouti   20903    307    331    365    408    460   1.468689   \n",
       "19  JAM       Jamaica   11060    147    206    285    377    462   1.329114   \n",
       "\n",
       "        %A_2m      %A_3m      %A_4m      %A_5m  \n",
       "4   19.047257  30.998329  46.839386  61.890290  \n",
       "85   8.550078  11.828268  14.330284  16.109699  \n",
       "36   4.966737   7.800966  10.644309  13.250706  \n",
       "5    3.373710   4.885599   6.262898   7.640197  \n",
       "25   2.604341   3.683918   4.808013   5.887590  \n",
       "10   2.891213   4.815691   7.340893  10.054947  \n",
       "84   2.396268   3.323855   4.284571   5.195594  \n",
       "87   2.543560   4.669675   8.191923  12.920289  \n",
       "71   1.583505   1.746161   1.951873   2.200641  \n",
       "19   1.862568   2.576854   3.408680   4.177215  "
      ]
     },
     "execution_count": 7,
     "metadata": {},
     "output_type": "execute_result"
    }
   ],
   "source": [
    "df1_top10_1m = df1.sort_values(by = '%A_1m', ascending = False).head(10)\n",
    "df1_top10_1m"
   ]
  },
  {
   "cell_type": "code",
   "execution_count": 8,
   "metadata": {},
   "outputs": [
    {
     "data": {
      "image/png": "[encoded data removed]",
      "text/plain": [
       "<Figure size 432x432 with 1 Axes>"
      ]
     },
     "metadata": {
      "needs_background": "light"
     },
     "output_type": "display_data"
    }
   ],
   "source": [
    "plt.figure(figsize = (6, 6))\n",
    "plt1 = plt.barh(df1_top10_1m.iloc[::-1]['CN'], df1_top10_1m.iloc[::-1]['%A_1m'], alpha = 0.7)\n",
    "plt.xlabel('%')\n",
    "plt.grid(alpha = 0.2)\n",
    "plt.title(\"Top 10 SLR Impacted land by country (%)\", fontsize = 15)\n",
    "plt.show()"
   ]
  },
  {
   "cell_type": "markdown",
   "metadata": {},
   "source": [
    "\n",
    "## 2. Population"
   ]
  },
  {
   "cell_type": "code",
   "execution_count": 9,
   "metadata": {
    "scrolled": true
   },
   "outputs": [
    {
     "data": {
      "text/html": [
       "<div>\n",
       "<style scoped>\n",
       "    .dataframe tbody tr th:only-of-type {\n",
       "        vertical-align: middle;\n",
       "    }\n",
       "\n",
       "    .dataframe tbody tr th {\n",
       "        vertical-align: top;\n",
       "    }\n",
       "\n",
       "    .dataframe thead th {\n",
       "        text-align: right;\n",
       "    }\n",
       "</style>\n",
       "<table border=\"1\" class=\"dataframe\">\n",
       "  <thead>\n",
       "    <tr style=\"text-align: right;\">\n",
       "      <th></th>\n",
       "      <th>CC</th>\n",
       "      <th>CN</th>\n",
       "      <th>CP</th>\n",
       "      <th>NP_1m</th>\n",
       "      <th>NP_2m</th>\n",
       "      <th>NP_3m</th>\n",
       "      <th>NP_4m</th>\n",
       "      <th>NP_5m</th>\n",
       "      <th>%P_1m</th>\n",
       "      <th>%P_2m</th>\n",
       "      <th>%P_3m</th>\n",
       "      <th>%P_4m</th>\n",
       "      <th>%P_5m</th>\n",
       "    </tr>\n",
       "  </thead>\n",
       "  <tbody>\n",
       "    <tr>\n",
       "      <th>1</th>\n",
       "      <td>NaN</td>\n",
       "      <td>Global</td>\n",
       "      <td>4.473279e+09</td>\n",
       "      <td>57222477.0</td>\n",
       "      <td>90811035.0</td>\n",
       "      <td>134545478.0</td>\n",
       "      <td>185950096.0</td>\n",
       "      <td>250595419.0</td>\n",
       "      <td>1.279207</td>\n",
       "      <td>2.030078</td>\n",
       "      <td>3.007760</td>\n",
       "      <td>4.156908</td>\n",
       "      <td>5.602052</td>\n",
       "    </tr>\n",
       "    <tr>\n",
       "      <th>2</th>\n",
       "      <td>NaN</td>\n",
       "      <td>Latin America / Caribbean</td>\n",
       "      <td>5.015500e+08</td>\n",
       "      <td>2885928.0</td>\n",
       "      <td>4789715.0</td>\n",
       "      <td>7264534.0</td>\n",
       "      <td>10291790.0</td>\n",
       "      <td>13503335.0</td>\n",
       "      <td>0.575402</td>\n",
       "      <td>0.954983</td>\n",
       "      <td>1.448417</td>\n",
       "      <td>2.051997</td>\n",
       "      <td>2.692321</td>\n",
       "    </tr>\n",
       "    <tr>\n",
       "      <th>3</th>\n",
       "      <td>ARG</td>\n",
       "      <td>Argentina</td>\n",
       "      <td>3.703200e+07</td>\n",
       "      <td>199601.0</td>\n",
       "      <td>425596.0</td>\n",
       "      <td>664630.0</td>\n",
       "      <td>944211.0</td>\n",
       "      <td>1271972.0</td>\n",
       "      <td>0.538996</td>\n",
       "      <td>1.149266</td>\n",
       "      <td>1.794745</td>\n",
       "      <td>2.549716</td>\n",
       "      <td>3.434792</td>\n",
       "    </tr>\n",
       "    <tr>\n",
       "      <th>4</th>\n",
       "      <td>BHS</td>\n",
       "      <td>Bahamas, The</td>\n",
       "      <td>3.040000e+05</td>\n",
       "      <td>13869.0</td>\n",
       "      <td>20616.0</td>\n",
       "      <td>32069.0</td>\n",
       "      <td>54722.0</td>\n",
       "      <td>89742.0</td>\n",
       "      <td>4.562171</td>\n",
       "      <td>6.781579</td>\n",
       "      <td>10.549013</td>\n",
       "      <td>18.000658</td>\n",
       "      <td>29.520395</td>\n",
       "    </tr>\n",
       "    <tr>\n",
       "      <th>5</th>\n",
       "      <td>BLZ</td>\n",
       "      <td>Belize</td>\n",
       "      <td>2.260000e+05</td>\n",
       "      <td>5532.0</td>\n",
       "      <td>15438.0</td>\n",
       "      <td>23050.0</td>\n",
       "      <td>33676.0</td>\n",
       "      <td>42693.0</td>\n",
       "      <td>2.447788</td>\n",
       "      <td>6.830973</td>\n",
       "      <td>10.199115</td>\n",
       "      <td>14.900885</td>\n",
       "      <td>18.890708</td>\n",
       "    </tr>\n",
       "    <tr>\n",
       "      <th>6</th>\n",
       "      <td>BRA</td>\n",
       "      <td>Brazil</td>\n",
       "      <td>1.704060e+08</td>\n",
       "      <td>1026618.0</td>\n",
       "      <td>1710273.0</td>\n",
       "      <td>2692247.0</td>\n",
       "      <td>3969403.0</td>\n",
       "      <td>5296660.0</td>\n",
       "      <td>0.602454</td>\n",
       "      <td>1.003646</td>\n",
       "      <td>1.579902</td>\n",
       "      <td>2.329380</td>\n",
       "      <td>3.108259</td>\n",
       "    </tr>\n",
       "    <tr>\n",
       "      <th>7</th>\n",
       "      <td>CHL</td>\n",
       "      <td>Chile</td>\n",
       "      <td>1.521100e+07</td>\n",
       "      <td>39615.0</td>\n",
       "      <td>49111.0</td>\n",
       "      <td>59526.0</td>\n",
       "      <td>71714.0</td>\n",
       "      <td>71714.0</td>\n",
       "      <td>0.260437</td>\n",
       "      <td>0.322865</td>\n",
       "      <td>0.391335</td>\n",
       "      <td>0.471461</td>\n",
       "      <td>0.471461</td>\n",
       "    </tr>\n",
       "    <tr>\n",
       "      <th>8</th>\n",
       "      <td>COL</td>\n",
       "      <td>Colombia</td>\n",
       "      <td>4.210500e+07</td>\n",
       "      <td>142888.0</td>\n",
       "      <td>252587.0</td>\n",
       "      <td>385963.0</td>\n",
       "      <td>522346.0</td>\n",
       "      <td>650853.0</td>\n",
       "      <td>0.339361</td>\n",
       "      <td>0.599898</td>\n",
       "      <td>0.916668</td>\n",
       "      <td>1.240580</td>\n",
       "      <td>1.545786</td>\n",
       "    </tr>\n",
       "    <tr>\n",
       "      <th>9</th>\n",
       "      <td>CRI</td>\n",
       "      <td>Costa Rica</td>\n",
       "      <td>4.024000e+06</td>\n",
       "      <td>5152.0</td>\n",
       "      <td>7696.0</td>\n",
       "      <td>14387.0</td>\n",
       "      <td>23440.0</td>\n",
       "      <td>43917.0</td>\n",
       "      <td>0.128032</td>\n",
       "      <td>0.191252</td>\n",
       "      <td>0.357530</td>\n",
       "      <td>0.582505</td>\n",
       "      <td>1.091377</td>\n",
       "    </tr>\n",
       "    <tr>\n",
       "      <th>10</th>\n",
       "      <td>CUB</td>\n",
       "      <td>Cuba</td>\n",
       "      <td>1.119900e+07</td>\n",
       "      <td>77460.0</td>\n",
       "      <td>122735.0</td>\n",
       "      <td>181608.0</td>\n",
       "      <td>294205.0</td>\n",
       "      <td>427107.0</td>\n",
       "      <td>0.691669</td>\n",
       "      <td>1.095946</td>\n",
       "      <td>1.621645</td>\n",
       "      <td>2.627065</td>\n",
       "      <td>3.813796</td>\n",
       "    </tr>\n",
       "  </tbody>\n",
       "</table>\n",
       "</div>"
      ],
      "text/plain": [
       "     CC                         CN            CP       NP_1m       NP_2m  \\\n",
       "1   NaN                     Global  4.473279e+09  57222477.0  90811035.0   \n",
       "2   NaN  Latin America / Caribbean  5.015500e+08   2885928.0   4789715.0   \n",
       "3   ARG                  Argentina  3.703200e+07    199601.0    425596.0   \n",
       "4   BHS               Bahamas, The  3.040000e+05     13869.0     20616.0   \n",
       "5   BLZ                     Belize  2.260000e+05      5532.0     15438.0   \n",
       "6   BRA                     Brazil  1.704060e+08   1026618.0   1710273.0   \n",
       "7   CHL                      Chile  1.521100e+07     39615.0     49111.0   \n",
       "8   COL                   Colombia  4.210500e+07    142888.0    252587.0   \n",
       "9   CRI                 Costa Rica  4.024000e+06      5152.0      7696.0   \n",
       "10  CUB                       Cuba  1.119900e+07     77460.0    122735.0   \n",
       "\n",
       "          NP_3m        NP_4m        NP_5m     %P_1m     %P_2m      %P_3m  \\\n",
       "1   134545478.0  185950096.0  250595419.0  1.279207  2.030078   3.007760   \n",
       "2     7264534.0   10291790.0   13503335.0  0.575402  0.954983   1.448417   \n",
       "3      664630.0     944211.0    1271972.0  0.538996  1.149266   1.794745   \n",
       "4       32069.0      54722.0      89742.0  4.562171  6.781579  10.549013   \n",
       "5       23050.0      33676.0      42693.0  2.447788  6.830973  10.199115   \n",
       "6     2692247.0    3969403.0    5296660.0  0.602454  1.003646   1.579902   \n",
       "7       59526.0      71714.0      71714.0  0.260437  0.322865   0.391335   \n",
       "8      385963.0     522346.0     650853.0  0.339361  0.599898   0.916668   \n",
       "9       14387.0      23440.0      43917.0  0.128032  0.191252   0.357530   \n",
       "10     181608.0     294205.0     427107.0  0.691669  1.095946   1.621645   \n",
       "\n",
       "        %P_4m      %P_5m  \n",
       "1    4.156908   5.602052  \n",
       "2    2.051997   2.692321  \n",
       "3    2.549716   3.434792  \n",
       "4   18.000658  29.520395  \n",
       "5   14.900885  18.890708  \n",
       "6    2.329380   3.108259  \n",
       "7    0.471461   0.471461  \n",
       "8    1.240580   1.545786  \n",
       "9    0.582505   1.091377  \n",
       "10   2.627065   3.813796  "
      ]
     },
     "execution_count": 9,
     "metadata": {},
     "output_type": "execute_result"
    }
   ],
   "source": [
    "df2.columns = ['CC', 'CN', 'CP', 'NP_1m', 'NP_2m', 'NP_3m', 'NP_4m', 'NP_5m', '%P_1m', '%P_2m', '%P_3m', '%P_4m', '%P_5m']\n",
    "df2.dropna(how = 'all', inplace = True)\n",
    "df2 = df2.reset_index(drop = True)\n",
    "df2.index += 1\n",
    "df2.head(10)"
   ]
  },
  {
   "cell_type": "code",
   "execution_count": 10,
   "metadata": {},
   "outputs": [],
   "source": [
    "df2_regional = df2[df2['CC'].isna()]"
   ]
  },
  {
   "cell_type": "code",
   "execution_count": 11,
   "metadata": {},
   "outputs": [
    {
     "data": {
      "image/png": "[encoded data removed]",
      "text/plain": [
       "<Figure size 432x432 with 1 Axes>"
      ]
     },
     "metadata": {
      "needs_background": "light"
     },
     "output_type": "display_data"
    }
   ],
   "source": [
    "plt.figure(figsize = (6, 6))\n",
    "plt1 = plt.barh(df2_regional['CN'], df2_regional['%P_1m'], alpha = 0.3)\n",
    "plt2 = plt.barh(df2_regional['CN'], df2_regional['%P_2m'], alpha = 0.3)\n",
    "plt3 = plt.barh(df2_regional['CN'], df2_regional['%P_3m'], alpha = 0.3)\n",
    "plt4 = plt.barh(df2_regional['CN'], df2_regional['%P_4m'], alpha = 0.3)\n",
    "plt5 = plt.barh(df2_regional['CN'], df2_regional['%P_5m'], alpha = 0.3)\n",
    "plt.xlabel('%')\n",
    "plt.grid(alpha = 0.2)\n",
    "plt.legend((plt1[0], plt2[0], plt3[0], plt4[0], plt5[0]), ('%P_1m', '%P_2m', '%P_3m', '%P_4m', '%P_5m'))\n",
    "plt.title(\"SLR impacted population by region (%)\", fontsize = 15)\n",
    "plt.show()"
   ]
  },
  {
   "cell_type": "code",
   "execution_count": 12,
   "metadata": {},
   "outputs": [],
   "source": [
    "df2_top10_1m = df2.sort_values(by = '%P_1m', ascending = False).head(10)"
   ]
  },
  {
   "cell_type": "code",
   "execution_count": 13,
   "metadata": {},
   "outputs": [
    {
     "data": {
      "image/png": "[encoded data removed]",
      "text/plain": [
       "<Figure size 432x432 with 1 Axes>"
      ]
     },
     "metadata": {
      "needs_background": "light"
     },
     "output_type": "display_data"
    }
   ],
   "source": [
    "plt.figure(figsize = (6, 6))\n",
    "plt.barh(df2_top10_1m.iloc[::-1]['CN'], df2_top10_1m.iloc[::-1]['%P_1m'], alpha = 0.7)\n",
    "plt.xlabel('%')\n",
    "plt.grid(alpha = 0.2)\n",
    "plt.title(\"Top 10 SLR impacted population by country (%)\", fontsize = 15)\n",
    "plt.show()\n",
    "a = plt"
   ]
  },
  {
   "cell_type": "markdown",
   "metadata": {},
   "source": [
    "## 3. GDP"
   ]
  },
  {
   "cell_type": "code",
   "execution_count": 14,
   "metadata": {},
   "outputs": [
    {
     "data": {
      "text/html": [
       "<div>\n",
       "<style scoped>\n",
       "    .dataframe tbody tr th:only-of-type {\n",
       "        vertical-align: middle;\n",
       "    }\n",
       "\n",
       "    .dataframe tbody tr th {\n",
       "        vertical-align: top;\n",
       "    }\n",
       "\n",
       "    .dataframe thead th {\n",
       "        text-align: right;\n",
       "    }\n",
       "</style>\n",
       "<table border=\"1\" class=\"dataframe\">\n",
       "  <thead>\n",
       "    <tr style=\"text-align: right;\">\n",
       "      <th></th>\n",
       "      <th>CC</th>\n",
       "      <th>CN</th>\n",
       "      <th>CGDP</th>\n",
       "      <th>NGDP_1m</th>\n",
       "      <th>NGDP_2m</th>\n",
       "      <th>NGDP_3m</th>\n",
       "      <th>NGDP_4m</th>\n",
       "      <th>NGDP_5m</th>\n",
       "      <th>%GDP_1m</th>\n",
       "      <th>%GDP_2m</th>\n",
       "      <th>%GDP_3m</th>\n",
       "      <th>%GDP_4m</th>\n",
       "      <th>%GDP_5m</th>\n",
       "    </tr>\n",
       "  </thead>\n",
       "  <tbody>\n",
       "    <tr>\n",
       "      <th>1</th>\n",
       "      <td>NaN</td>\n",
       "      <td>Global</td>\n",
       "      <td>16936267</td>\n",
       "      <td>220436</td>\n",
       "      <td>359131</td>\n",
       "      <td>543207</td>\n",
       "      <td>793120</td>\n",
       "      <td>1028627</td>\n",
       "      <td>1.301562</td>\n",
       "      <td>2.120485</td>\n",
       "      <td>3.207360</td>\n",
       "      <td>4.682968</td>\n",
       "      <td>6.073517</td>\n",
       "    </tr>\n",
       "    <tr>\n",
       "      <th>2</th>\n",
       "      <td>NaN</td>\n",
       "      <td>Latin America / Caribbean</td>\n",
       "      <td>3649731</td>\n",
       "      <td>19743</td>\n",
       "      <td>36626</td>\n",
       "      <td>49569</td>\n",
       "      <td>67575</td>\n",
       "      <td>87061</td>\n",
       "      <td>0.540944</td>\n",
       "      <td>1.003526</td>\n",
       "      <td>1.358155</td>\n",
       "      <td>1.851506</td>\n",
       "      <td>2.385409</td>\n",
       "    </tr>\n",
       "    <tr>\n",
       "      <th>3</th>\n",
       "      <td>ARG</td>\n",
       "      <td>Argentina</td>\n",
       "      <td>439897</td>\n",
       "      <td>1362</td>\n",
       "      <td>3266</td>\n",
       "      <td>6058</td>\n",
       "      <td>8090</td>\n",
       "      <td>10036</td>\n",
       "      <td>0.309618</td>\n",
       "      <td>0.742447</td>\n",
       "      <td>1.377141</td>\n",
       "      <td>1.839067</td>\n",
       "      <td>2.281443</td>\n",
       "    </tr>\n",
       "    <tr>\n",
       "      <th>4</th>\n",
       "      <td>BHS</td>\n",
       "      <td>Bahamas</td>\n",
       "      <td>4962</td>\n",
       "      <td>235</td>\n",
       "      <td>397</td>\n",
       "      <td>721</td>\n",
       "      <td>927</td>\n",
       "      <td>1406</td>\n",
       "      <td>4.735994</td>\n",
       "      <td>8.000806</td>\n",
       "      <td>14.530431</td>\n",
       "      <td>18.681983</td>\n",
       "      <td>28.335349</td>\n",
       "    </tr>\n",
       "    <tr>\n",
       "      <th>5</th>\n",
       "      <td>BLZ</td>\n",
       "      <td>Belize</td>\n",
       "      <td>1312</td>\n",
       "      <td>27</td>\n",
       "      <td>46</td>\n",
       "      <td>73</td>\n",
       "      <td>104</td>\n",
       "      <td>131</td>\n",
       "      <td>2.057927</td>\n",
       "      <td>3.506098</td>\n",
       "      <td>5.564024</td>\n",
       "      <td>7.926829</td>\n",
       "      <td>9.984756</td>\n",
       "    </tr>\n",
       "    <tr>\n",
       "      <th>6</th>\n",
       "      <td>BRA</td>\n",
       "      <td>Brazil</td>\n",
       "      <td>1233633</td>\n",
       "      <td>7134</td>\n",
       "      <td>12432</td>\n",
       "      <td>15036</td>\n",
       "      <td>21623</td>\n",
       "      <td>30176</td>\n",
       "      <td>0.578292</td>\n",
       "      <td>1.007755</td>\n",
       "      <td>1.218839</td>\n",
       "      <td>1.752790</td>\n",
       "      <td>2.446108</td>\n",
       "    </tr>\n",
       "    <tr>\n",
       "      <th>7</th>\n",
       "      <td>CHL</td>\n",
       "      <td>Chile</td>\n",
       "      <td>135982</td>\n",
       "      <td>113</td>\n",
       "      <td>151</td>\n",
       "      <td>244</td>\n",
       "      <td>301</td>\n",
       "      <td>301</td>\n",
       "      <td>0.083099</td>\n",
       "      <td>0.111044</td>\n",
       "      <td>0.179436</td>\n",
       "      <td>0.221353</td>\n",
       "      <td>0.221353</td>\n",
       "    </tr>\n",
       "    <tr>\n",
       "      <th>8</th>\n",
       "      <td>COL</td>\n",
       "      <td>Colombia</td>\n",
       "      <td>296427</td>\n",
       "      <td>594</td>\n",
       "      <td>1500</td>\n",
       "      <td>2254</td>\n",
       "      <td>3103</td>\n",
       "      <td>3602</td>\n",
       "      <td>0.200387</td>\n",
       "      <td>0.506027</td>\n",
       "      <td>0.760390</td>\n",
       "      <td>1.046801</td>\n",
       "      <td>1.215139</td>\n",
       "    </tr>\n",
       "    <tr>\n",
       "      <th>9</th>\n",
       "      <td>CRI</td>\n",
       "      <td>Costa Rica</td>\n",
       "      <td>38381</td>\n",
       "      <td>43</td>\n",
       "      <td>67</td>\n",
       "      <td>113</td>\n",
       "      <td>149</td>\n",
       "      <td>217</td>\n",
       "      <td>0.112035</td>\n",
       "      <td>0.174566</td>\n",
       "      <td>0.294417</td>\n",
       "      <td>0.388213</td>\n",
       "      <td>0.565384</td>\n",
       "    </tr>\n",
       "    <tr>\n",
       "      <th>10</th>\n",
       "      <td>CUB</td>\n",
       "      <td>Cuba</td>\n",
       "      <td>19200</td>\n",
       "      <td>86</td>\n",
       "      <td>670</td>\n",
       "      <td>809</td>\n",
       "      <td>999</td>\n",
       "      <td>1236</td>\n",
       "      <td>0.447917</td>\n",
       "      <td>3.489583</td>\n",
       "      <td>4.213542</td>\n",
       "      <td>5.203125</td>\n",
       "      <td>6.437500</td>\n",
       "    </tr>\n",
       "  </tbody>\n",
       "</table>\n",
       "</div>"
      ],
      "text/plain": [
       "     CC                         CN      CGDP  NGDP_1m  NGDP_2m  NGDP_3m  \\\n",
       "1   NaN                     Global  16936267   220436   359131   543207   \n",
       "2   NaN  Latin America / Caribbean   3649731    19743    36626    49569   \n",
       "3   ARG                  Argentina    439897     1362     3266     6058   \n",
       "4   BHS                    Bahamas      4962      235      397      721   \n",
       "5   BLZ                     Belize      1312       27       46       73   \n",
       "6   BRA                     Brazil   1233633     7134    12432    15036   \n",
       "7   CHL                      Chile    135982      113      151      244   \n",
       "8   COL                   Colombia    296427      594     1500     2254   \n",
       "9   CRI                 Costa Rica     38381       43       67      113   \n",
       "10  CUB                       Cuba     19200       86      670      809   \n",
       "\n",
       "    NGDP_4m  NGDP_5m   %GDP_1m   %GDP_2m    %GDP_3m    %GDP_4m    %GDP_5m  \n",
       "1    793120  1028627  1.301562  2.120485   3.207360   4.682968   6.073517  \n",
       "2     67575    87061  0.540944  1.003526   1.358155   1.851506   2.385409  \n",
       "3      8090    10036  0.309618  0.742447   1.377141   1.839067   2.281443  \n",
       "4       927     1406  4.735994  8.000806  14.530431  18.681983  28.335349  \n",
       "5       104      131  2.057927  3.506098   5.564024   7.926829   9.984756  \n",
       "6     21623    30176  0.578292  1.007755   1.218839   1.752790   2.446108  \n",
       "7       301      301  0.083099  0.111044   0.179436   0.221353   0.221353  \n",
       "8      3103     3602  0.200387  0.506027   0.760390   1.046801   1.215139  \n",
       "9       149      217  0.112035  0.174566   0.294417   0.388213   0.565384  \n",
       "10      999     1236  0.447917  3.489583   4.213542   5.203125   6.437500  "
      ]
     },
     "execution_count": 14,
     "metadata": {},
     "output_type": "execute_result"
    }
   ],
   "source": [
    "df3.columns = ['CC', 'CN', 'CGDP', 'NGDP_1m', 'NGDP_2m', 'NGDP_3m', 'NGDP_4m', 'NGDP_5m', \n",
    "               '%GDP_1m', '%GDP_2m', '%GDP_3m', '%GDP_4m', '%GDP_5m']\n",
    "df3.dropna(how = 'all', inplace = True)\n",
    "df3 = df3.reset_index(drop = True)\n",
    "df3.index += 1\n",
    "df3 = df3.astype(dict.fromkeys(['CGDP', 'NGDP_1m', 'NGDP_2m', 'NGDP_3m', 'NGDP_4m', 'NGDP_5m'], int))\n",
    "df3.head(10)"
   ]
  },
  {
   "cell_type": "code",
   "execution_count": 15,
   "metadata": {},
   "outputs": [],
   "source": [
    "df3_regional = df3[df3['CC'].isna()]"
   ]
  },
  {
   "cell_type": "code",
   "execution_count": 16,
   "metadata": {},
   "outputs": [
    {
     "data": {
      "image/png": "[encoded data removed]",
      "text/plain": [
       "<Figure size 432x432 with 1 Axes>"
      ]
     },
     "metadata": {
      "needs_background": "light"
     },
     "output_type": "display_data"
    }
   ],
   "source": [
    "plt.figure(figsize = (6, 6))\n",
    "plt1 = plt.barh(df3_regional['CN'], df3_regional['%GDP_1m'], alpha = 0.3)\n",
    "plt2 = plt.barh(df3_regional['CN'], df3_regional['%GDP_2m'], alpha = 0.3)\n",
    "plt3 = plt.barh(df3_regional['CN'], df3_regional['%GDP_3m'], alpha = 0.3)\n",
    "plt4 = plt.barh(df3_regional['CN'], df3_regional['%GDP_4m'], alpha = 0.3)\n",
    "plt5 = plt.barh(df3_regional['CN'], df3_regional['%GDP_5m'], alpha = 0.3)\n",
    "plt.xlabel('%')\n",
    "plt.grid(alpha = 0.2)\n",
    "plt.legend((plt1[0], plt2[0], plt3[0], plt4[0], plt5[0]), ('%GDP_1m', '%GDP_2m', '%GDP_3m', '%GDP_4m', '%GDP_5m'))\n",
    "plt.title(\"SLR impacted GDP by region (%)\", fontsize = 15)\n",
    "plt.show()"
   ]
  },
  {
   "cell_type": "code",
   "execution_count": 17,
   "metadata": {},
   "outputs": [],
   "source": [
    "df3_top10_1m = df3.sort_values(by = '%GDP_1m', ascending = False).head(10)"
   ]
  },
  {
   "cell_type": "code",
   "execution_count": 18,
   "metadata": {},
   "outputs": [
    {
     "data": {
      "image/png": "[encoded data removed]",
      "text/plain": [
       "<Figure size 432x432 with 1 Axes>"
      ]
     },
     "metadata": {
      "needs_background": "light"
     },
     "output_type": "display_data"
    }
   ],
   "source": [
    "plt.figure(figsize = (6, 6))\n",
    "plt.barh(df3_top10_1m.iloc[::-1]['CN'], df3_top10_1m.iloc[::-1]['%GDP_1m'], alpha = 0.7)\n",
    "plt.xlabel('%')\n",
    "plt.grid(alpha = 0.2)\n",
    "plt.title(\"Top 10 SLR impacted GDP by country (%)\", fontsize = 15)\n",
    "plt.show()"
   ]
  },
  {
   "cell_type": "markdown",
   "metadata": {},
   "source": [
    "## 4. Agriculture"
   ]
  },
  {
   "cell_type": "code",
   "execution_count": 19,
   "metadata": {},
   "outputs": [
    {
     "data": {
      "text/html": [
       "<div>\n",
       "<style scoped>\n",
       "    .dataframe tbody tr th:only-of-type {\n",
       "        vertical-align: middle;\n",
       "    }\n",
       "\n",
       "    .dataframe tbody tr th {\n",
       "        vertical-align: top;\n",
       "    }\n",
       "\n",
       "    .dataframe thead th {\n",
       "        text-align: right;\n",
       "    }\n",
       "</style>\n",
       "<table border=\"1\" class=\"dataframe\">\n",
       "  <thead>\n",
       "    <tr style=\"text-align: right;\">\n",
       "      <th></th>\n",
       "      <th>CC</th>\n",
       "      <th>CN</th>\n",
       "      <th>CAg</th>\n",
       "      <th>NAg_1m</th>\n",
       "      <th>NAg_2m</th>\n",
       "      <th>NAg_3m</th>\n",
       "      <th>NAg_4m</th>\n",
       "      <th>NAg_5m</th>\n",
       "      <th>%Ag_1m</th>\n",
       "      <th>%Ag_2m</th>\n",
       "      <th>%Ag_3m</th>\n",
       "      <th>%Ag_4m</th>\n",
       "      <th>%Ag_5m</th>\n",
       "    </tr>\n",
       "  </thead>\n",
       "  <tbody>\n",
       "    <tr>\n",
       "      <th>1</th>\n",
       "      <td>NaN</td>\n",
       "      <td>Global</td>\n",
       "      <td>18202873</td>\n",
       "      <td>71621</td>\n",
       "      <td>125302</td>\n",
       "      <td>198048</td>\n",
       "      <td>286947</td>\n",
       "      <td>380965</td>\n",
       "      <td>0.393460</td>\n",
       "      <td>0.688364</td>\n",
       "      <td>1.088004</td>\n",
       "      <td>1.576383</td>\n",
       "      <td>2.092884</td>\n",
       "    </tr>\n",
       "    <tr>\n",
       "      <th>2</th>\n",
       "      <td>NaN</td>\n",
       "      <td>Latin America / Caribbean</td>\n",
       "      <td>4889156</td>\n",
       "      <td>16821</td>\n",
       "      <td>30290</td>\n",
       "      <td>47800</td>\n",
       "      <td>67318</td>\n",
       "      <td>87126</td>\n",
       "      <td>0.344047</td>\n",
       "      <td>0.619534</td>\n",
       "      <td>0.977674</td>\n",
       "      <td>1.376884</td>\n",
       "      <td>1.782025</td>\n",
       "    </tr>\n",
       "    <tr>\n",
       "      <th>3</th>\n",
       "      <td>ARG</td>\n",
       "      <td>Argentina</td>\n",
       "      <td>119236</td>\n",
       "      <td>4518</td>\n",
       "      <td>8709</td>\n",
       "      <td>13368</td>\n",
       "      <td>17691</td>\n",
       "      <td>22184</td>\n",
       "      <td>3.789124</td>\n",
       "      <td>7.304002</td>\n",
       "      <td>11.211379</td>\n",
       "      <td>14.836962</td>\n",
       "      <td>18.605119</td>\n",
       "    </tr>\n",
       "    <tr>\n",
       "      <th>4</th>\n",
       "      <td>BHS</td>\n",
       "      <td>Bahamas</td>\n",
       "      <td>4546</td>\n",
       "      <td>204</td>\n",
       "      <td>387</td>\n",
       "      <td>715</td>\n",
       "      <td>1229</td>\n",
       "      <td>1801</td>\n",
       "      <td>4.487462</td>\n",
       "      <td>8.512978</td>\n",
       "      <td>15.728113</td>\n",
       "      <td>27.034756</td>\n",
       "      <td>39.617246</td>\n",
       "    </tr>\n",
       "    <tr>\n",
       "      <th>5</th>\n",
       "      <td>BLZ</td>\n",
       "      <td>Belize</td>\n",
       "      <td>6306</td>\n",
       "      <td>60</td>\n",
       "      <td>161</td>\n",
       "      <td>275</td>\n",
       "      <td>394</td>\n",
       "      <td>534</td>\n",
       "      <td>0.951475</td>\n",
       "      <td>2.553124</td>\n",
       "      <td>4.360926</td>\n",
       "      <td>6.248018</td>\n",
       "      <td>8.468126</td>\n",
       "    </tr>\n",
       "    <tr>\n",
       "      <th>6</th>\n",
       "      <td>BRA</td>\n",
       "      <td>Brazil</td>\n",
       "      <td>3182399</td>\n",
       "      <td>2934</td>\n",
       "      <td>5841</td>\n",
       "      <td>10324</td>\n",
       "      <td>15525</td>\n",
       "      <td>20589</td>\n",
       "      <td>0.092195</td>\n",
       "      <td>0.183541</td>\n",
       "      <td>0.324409</td>\n",
       "      <td>0.487840</td>\n",
       "      <td>0.646965</td>\n",
       "    </tr>\n",
       "    <tr>\n",
       "      <th>7</th>\n",
       "      <td>CHL</td>\n",
       "      <td>Chile</td>\n",
       "      <td>112139</td>\n",
       "      <td>83</td>\n",
       "      <td>122</td>\n",
       "      <td>193</td>\n",
       "      <td>305</td>\n",
       "      <td>305</td>\n",
       "      <td>0.074015</td>\n",
       "      <td>0.108794</td>\n",
       "      <td>0.172108</td>\n",
       "      <td>0.271984</td>\n",
       "      <td>0.271984</td>\n",
       "    </tr>\n",
       "    <tr>\n",
       "      <th>8</th>\n",
       "      <td>COL</td>\n",
       "      <td>Colombia</td>\n",
       "      <td>223156</td>\n",
       "      <td>544</td>\n",
       "      <td>1008</td>\n",
       "      <td>1762</td>\n",
       "      <td>2734</td>\n",
       "      <td>3699</td>\n",
       "      <td>0.243776</td>\n",
       "      <td>0.451702</td>\n",
       "      <td>0.789582</td>\n",
       "      <td>1.225152</td>\n",
       "      <td>1.657585</td>\n",
       "    </tr>\n",
       "    <tr>\n",
       "      <th>9</th>\n",
       "      <td>CRI</td>\n",
       "      <td>Costa Rica</td>\n",
       "      <td>13629</td>\n",
       "      <td>25</td>\n",
       "      <td>43</td>\n",
       "      <td>73</td>\n",
       "      <td>135</td>\n",
       "      <td>213</td>\n",
       "      <td>0.183432</td>\n",
       "      <td>0.315504</td>\n",
       "      <td>0.535623</td>\n",
       "      <td>0.990535</td>\n",
       "      <td>1.562844</td>\n",
       "    </tr>\n",
       "    <tr>\n",
       "      <th>10</th>\n",
       "      <td>CUB</td>\n",
       "      <td>Cuba</td>\n",
       "      <td>48812</td>\n",
       "      <td>288</td>\n",
       "      <td>519</td>\n",
       "      <td>1108</td>\n",
       "      <td>1921</td>\n",
       "      <td>2838</td>\n",
       "      <td>0.590019</td>\n",
       "      <td>1.063263</td>\n",
       "      <td>2.269934</td>\n",
       "      <td>3.935508</td>\n",
       "      <td>5.814144</td>\n",
       "    </tr>\n",
       "  </tbody>\n",
       "</table>\n",
       "</div>"
      ],
      "text/plain": [
       "     CC                         CN       CAg  NAg_1m  NAg_2m  NAg_3m  NAg_4m  \\\n",
       "1   NaN                     Global  18202873   71621  125302  198048  286947   \n",
       "2   NaN  Latin America / Caribbean   4889156   16821   30290   47800   67318   \n",
       "3   ARG                  Argentina    119236    4518    8709   13368   17691   \n",
       "4   BHS                    Bahamas      4546     204     387     715    1229   \n",
       "5   BLZ                     Belize      6306      60     161     275     394   \n",
       "6   BRA                     Brazil   3182399    2934    5841   10324   15525   \n",
       "7   CHL                      Chile    112139      83     122     193     305   \n",
       "8   COL                   Colombia    223156     544    1008    1762    2734   \n",
       "9   CRI                 Costa Rica     13629      25      43      73     135   \n",
       "10  CUB                       Cuba     48812     288     519    1108    1921   \n",
       "\n",
       "    NAg_5m    %Ag_1m    %Ag_2m     %Ag_3m     %Ag_4m     %Ag_5m  \n",
       "1   380965  0.393460  0.688364   1.088004   1.576383   2.092884  \n",
       "2    87126  0.344047  0.619534   0.977674   1.376884   1.782025  \n",
       "3    22184  3.789124  7.304002  11.211379  14.836962  18.605119  \n",
       "4     1801  4.487462  8.512978  15.728113  27.034756  39.617246  \n",
       "5      534  0.951475  2.553124   4.360926   6.248018   8.468126  \n",
       "6    20589  0.092195  0.183541   0.324409   0.487840   0.646965  \n",
       "7      305  0.074015  0.108794   0.172108   0.271984   0.271984  \n",
       "8     3699  0.243776  0.451702   0.789582   1.225152   1.657585  \n",
       "9      213  0.183432  0.315504   0.535623   0.990535   1.562844  \n",
       "10    2838  0.590019  1.063263   2.269934   3.935508   5.814144  "
      ]
     },
     "execution_count": 19,
     "metadata": {},
     "output_type": "execute_result"
    }
   ],
   "source": [
    "df4.columns = ['CC', 'CN', 'CAg', 'NAg_1m', 'NAg_2m', 'NAg_3m', 'NAg_4m', 'NAg_5m', \n",
    "               '%Ag_1m', '%Ag_2m', '%Ag_3m', '%Ag_4m', '%Ag_5m']\n",
    "df4.dropna(how = 'all', inplace = True)\n",
    "df4 = df4.reset_index(drop = True)\n",
    "df4.index += 1\n",
    "df4 = df4.astype(dict.fromkeys(['CAg', 'NAg_1m', 'NAg_2m', 'NAg_3m', 'NAg_4m', 'NAg_5m'], int))\n",
    "df4.head(10)"
   ]
  },
  {
   "cell_type": "code",
   "execution_count": 20,
   "metadata": {},
   "outputs": [],
   "source": [
    "df4_regional = df4[df4['CC'].isna()]"
   ]
  },
  {
   "cell_type": "code",
   "execution_count": 21,
   "metadata": {},
   "outputs": [
    {
     "data": {
      "image/png": "[encoded data removed]",
      "text/plain": [
       "<Figure size 432x432 with 1 Axes>"
      ]
     },
     "metadata": {
      "needs_background": "light"
     },
     "output_type": "display_data"
    }
   ],
   "source": [
    "plt.figure(figsize = (6, 6))\n",
    "plt1 = plt.barh(df4_regional['CN'], df4_regional['%Ag_1m'], alpha = 0.3)\n",
    "plt2 = plt.barh(df4_regional['CN'], df4_regional['%Ag_2m'], alpha = 0.3)\n",
    "plt3 = plt.barh(df4_regional['CN'], df4_regional['%Ag_3m'], alpha = 0.3)\n",
    "plt4 = plt.barh(df4_regional['CN'], df4_regional['%Ag_4m'], alpha = 0.3)\n",
    "plt5 = plt.barh(df4_regional['CN'], df4_regional['%Ag_5m'], alpha = 0.3)\n",
    "plt.xlabel('%')\n",
    "plt.grid(alpha = 0.2)\n",
    "plt.legend((plt1[0], plt2[0], plt3[0], plt4[0], plt5[0]), ('%Ag_1m', '%Ag_2m', '%Ag_3m', '%Ag_4m', '%Ag_5m'))\n",
    "plt.title(\"SLR impacted population by region (%)\", fontsize = 15)\n",
    "plt.show()"
   ]
  },
  {
   "cell_type": "code",
   "execution_count": 22,
   "metadata": {},
   "outputs": [],
   "source": [
    "df4_top10_1m = df4.sort_values(by = '%Ag_1m', ascending = False).head(10)"
   ]
  },
  {
   "cell_type": "code",
   "execution_count": 23,
   "metadata": {},
   "outputs": [
    {
     "data": {
      "image/png": "[encoded data removed]",
      "text/plain": [
       "<Figure size 432x432 with 1 Axes>"
      ]
     },
     "metadata": {
      "needs_background": "light"
     },
     "output_type": "display_data"
    }
   ],
   "source": [
    "plt.figure(figsize = (6, 6))\n",
    "plt.barh(df4_top10_1m.iloc[::-1]['CN'], df4_top10_1m.iloc[::-1]['%Ag_1m'], alpha = 0.7)\n",
    "plt.xlabel('%')\n",
    "plt.grid(alpha = 0.2)\n",
    "plt.title(\"Top 10 SLR impacted agriculture by country (%)\", fontsize = 15)\n",
    "plt.show()"
   ]
  },
  {
   "cell_type": "markdown",
   "metadata": {},
   "source": [
    "## 5. UrbanExtent"
   ]
  },
  {
   "cell_type": "code",
   "execution_count": 24,
   "metadata": {},
   "outputs": [
    {
     "data": {
      "text/html": [
       "<div>\n",
       "<style scoped>\n",
       "    .dataframe tbody tr th:only-of-type {\n",
       "        vertical-align: middle;\n",
       "    }\n",
       "\n",
       "    .dataframe tbody tr th {\n",
       "        vertical-align: top;\n",
       "    }\n",
       "\n",
       "    .dataframe thead th {\n",
       "        text-align: right;\n",
       "    }\n",
       "</style>\n",
       "<table border=\"1\" class=\"dataframe\">\n",
       "  <thead>\n",
       "    <tr style=\"text-align: right;\">\n",
       "      <th></th>\n",
       "      <th>CC</th>\n",
       "      <th>CN</th>\n",
       "      <th>CU</th>\n",
       "      <th>NU_1m</th>\n",
       "      <th>NU_2m</th>\n",
       "      <th>NU_3m</th>\n",
       "      <th>NU_4m</th>\n",
       "      <th>NU_5m</th>\n",
       "      <th>%U_1m</th>\n",
       "      <th>%U_2m</th>\n",
       "      <th>%U_3m</th>\n",
       "      <th>%U_4m</th>\n",
       "      <th>%U_5m</th>\n",
       "    </tr>\n",
       "  </thead>\n",
       "  <tbody>\n",
       "    <tr>\n",
       "      <th>1</th>\n",
       "      <td>NaN</td>\n",
       "      <td>Global</td>\n",
       "      <td>1439088</td>\n",
       "      <td>14742</td>\n",
       "      <td>23621</td>\n",
       "      <td>35942</td>\n",
       "      <td>50841</td>\n",
       "      <td>67479</td>\n",
       "      <td>1.024399</td>\n",
       "      <td>1.641387</td>\n",
       "      <td>2.497554</td>\n",
       "      <td>3.532862</td>\n",
       "      <td>4.689011</td>\n",
       "    </tr>\n",
       "    <tr>\n",
       "      <th>2</th>\n",
       "      <td>NaN</td>\n",
       "      <td>Latin America / Caribbean</td>\n",
       "      <td>505477</td>\n",
       "      <td>3080</td>\n",
       "      <td>5212</td>\n",
       "      <td>8109</td>\n",
       "      <td>11515</td>\n",
       "      <td>15294</td>\n",
       "      <td>0.609325</td>\n",
       "      <td>1.031105</td>\n",
       "      <td>1.604227</td>\n",
       "      <td>2.278046</td>\n",
       "      <td>3.025657</td>\n",
       "    </tr>\n",
       "    <tr>\n",
       "      <th>3</th>\n",
       "      <td>ARG</td>\n",
       "      <td>Argentina</td>\n",
       "      <td>57351</td>\n",
       "      <td>212</td>\n",
       "      <td>520</td>\n",
       "      <td>971</td>\n",
       "      <td>1293</td>\n",
       "      <td>1802</td>\n",
       "      <td>0.369654</td>\n",
       "      <td>0.906697</td>\n",
       "      <td>1.693083</td>\n",
       "      <td>2.254538</td>\n",
       "      <td>3.142055</td>\n",
       "    </tr>\n",
       "    <tr>\n",
       "      <th>4</th>\n",
       "      <td>BHS</td>\n",
       "      <td>Bahamas</td>\n",
       "      <td>476</td>\n",
       "      <td>19</td>\n",
       "      <td>38</td>\n",
       "      <td>59</td>\n",
       "      <td>114</td>\n",
       "      <td>171</td>\n",
       "      <td>3.991597</td>\n",
       "      <td>7.983193</td>\n",
       "      <td>12.394958</td>\n",
       "      <td>23.949580</td>\n",
       "      <td>35.924370</td>\n",
       "    </tr>\n",
       "    <tr>\n",
       "      <th>5</th>\n",
       "      <td>BLZ</td>\n",
       "      <td>Belize</td>\n",
       "      <td>517</td>\n",
       "      <td>7</td>\n",
       "      <td>25</td>\n",
       "      <td>41</td>\n",
       "      <td>66</td>\n",
       "      <td>90</td>\n",
       "      <td>1.353965</td>\n",
       "      <td>4.835590</td>\n",
       "      <td>7.930368</td>\n",
       "      <td>12.765957</td>\n",
       "      <td>17.408124</td>\n",
       "    </tr>\n",
       "    <tr>\n",
       "      <th>6</th>\n",
       "      <td>BRA</td>\n",
       "      <td>Brazil</td>\n",
       "      <td>186139</td>\n",
       "      <td>987</td>\n",
       "      <td>1668</td>\n",
       "      <td>2624</td>\n",
       "      <td>3828</td>\n",
       "      <td>5097</td>\n",
       "      <td>0.530249</td>\n",
       "      <td>0.896105</td>\n",
       "      <td>1.409699</td>\n",
       "      <td>2.056528</td>\n",
       "      <td>2.738276</td>\n",
       "    </tr>\n",
       "    <tr>\n",
       "      <th>7</th>\n",
       "      <td>CHL</td>\n",
       "      <td>Chile</td>\n",
       "      <td>11043</td>\n",
       "      <td>27</td>\n",
       "      <td>35</td>\n",
       "      <td>43</td>\n",
       "      <td>55</td>\n",
       "      <td>55</td>\n",
       "      <td>0.244499</td>\n",
       "      <td>0.316943</td>\n",
       "      <td>0.389387</td>\n",
       "      <td>0.498053</td>\n",
       "      <td>0.498053</td>\n",
       "    </tr>\n",
       "    <tr>\n",
       "      <th>8</th>\n",
       "      <td>COL</td>\n",
       "      <td>Colombia</td>\n",
       "      <td>35595</td>\n",
       "      <td>165</td>\n",
       "      <td>302</td>\n",
       "      <td>444</td>\n",
       "      <td>651</td>\n",
       "      <td>827</td>\n",
       "      <td>0.463548</td>\n",
       "      <td>0.848434</td>\n",
       "      <td>1.247366</td>\n",
       "      <td>1.828909</td>\n",
       "      <td>2.323360</td>\n",
       "    </tr>\n",
       "    <tr>\n",
       "      <th>9</th>\n",
       "      <td>CRI</td>\n",
       "      <td>Costa Rica</td>\n",
       "      <td>3098</td>\n",
       "      <td>4</td>\n",
       "      <td>6</td>\n",
       "      <td>13</td>\n",
       "      <td>20</td>\n",
       "      <td>32</td>\n",
       "      <td>0.129116</td>\n",
       "      <td>0.193673</td>\n",
       "      <td>0.419626</td>\n",
       "      <td>0.645578</td>\n",
       "      <td>1.032924</td>\n",
       "    </tr>\n",
       "    <tr>\n",
       "      <th>10</th>\n",
       "      <td>CUB</td>\n",
       "      <td>Cuba</td>\n",
       "      <td>9297</td>\n",
       "      <td>37</td>\n",
       "      <td>75</td>\n",
       "      <td>110</td>\n",
       "      <td>190</td>\n",
       "      <td>288</td>\n",
       "      <td>0.397978</td>\n",
       "      <td>0.806712</td>\n",
       "      <td>1.183177</td>\n",
       "      <td>2.043670</td>\n",
       "      <td>3.097773</td>\n",
       "    </tr>\n",
       "  </tbody>\n",
       "</table>\n",
       "</div>"
      ],
      "text/plain": [
       "     CC                         CN       CU  NU_1m  NU_2m  NU_3m  NU_4m  \\\n",
       "1   NaN                     Global  1439088  14742  23621  35942  50841   \n",
       "2   NaN  Latin America / Caribbean   505477   3080   5212   8109  11515   \n",
       "3   ARG                  Argentina    57351    212    520    971   1293   \n",
       "4   BHS                    Bahamas      476     19     38     59    114   \n",
       "5   BLZ                     Belize      517      7     25     41     66   \n",
       "6   BRA                     Brazil   186139    987   1668   2624   3828   \n",
       "7   CHL                      Chile    11043     27     35     43     55   \n",
       "8   COL                   Colombia    35595    165    302    444    651   \n",
       "9   CRI                 Costa Rica     3098      4      6     13     20   \n",
       "10  CUB                       Cuba     9297     37     75    110    190   \n",
       "\n",
       "    NU_5m     %U_1m     %U_2m      %U_3m      %U_4m      %U_5m  \n",
       "1   67479  1.024399  1.641387   2.497554   3.532862   4.689011  \n",
       "2   15294  0.609325  1.031105   1.604227   2.278046   3.025657  \n",
       "3    1802  0.369654  0.906697   1.693083   2.254538   3.142055  \n",
       "4     171  3.991597  7.983193  12.394958  23.949580  35.924370  \n",
       "5      90  1.353965  4.835590   7.930368  12.765957  17.408124  \n",
       "6    5097  0.530249  0.896105   1.409699   2.056528   2.738276  \n",
       "7      55  0.244499  0.316943   0.389387   0.498053   0.498053  \n",
       "8     827  0.463548  0.848434   1.247366   1.828909   2.323360  \n",
       "9      32  0.129116  0.193673   0.419626   0.645578   1.032924  \n",
       "10    288  0.397978  0.806712   1.183177   2.043670   3.097773  "
      ]
     },
     "execution_count": 24,
     "metadata": {},
     "output_type": "execute_result"
    }
   ],
   "source": [
    "df5.columns = ['CC', 'CN', 'CU', 'NU_1m', 'NU_2m', 'NU_3m', 'NU_4m', 'NU_5m', \n",
    "               '%U_1m', '%U_2m', '%U_3m', '%U_4m', '%U_5m']\n",
    "df5.dropna(how = 'all', inplace = True)\n",
    "df5 = df5.reset_index(drop = True)\n",
    "df5.index += 1\n",
    "df5 = df5.astype(dict.fromkeys(['CU', 'NU_1m', 'NU_2m', 'NU_3m', 'NU_4m', 'NU_5m'], int))\n",
    "df5.head(10)"
   ]
  },
  {
   "cell_type": "code",
   "execution_count": 25,
   "metadata": {},
   "outputs": [],
   "source": [
    "df5_regional = df5[df5['CC'].isna()]"
   ]
  },
  {
   "cell_type": "code",
   "execution_count": 26,
   "metadata": {},
   "outputs": [
    {
     "data": {
      "image/png": "[encoded data removed]",
      "text/plain": [
       "<Figure size 432x432 with 1 Axes>"
      ]
     },
     "metadata": {
      "needs_background": "light"
     },
     "output_type": "display_data"
    }
   ],
   "source": [
    "plt.figure(figsize = (6, 6))\n",
    "plt1 = plt.barh(df5_regional['CN'], df5_regional['%U_1m'], alpha = 0.3)\n",
    "plt2 = plt.barh(df5_regional['CN'], df5_regional['%U_2m'], alpha = 0.3)\n",
    "plt3 = plt.barh(df5_regional['CN'], df5_regional['%U_3m'], alpha = 0.3)\n",
    "plt4 = plt.barh(df5_regional['CN'], df5_regional['%U_4m'], alpha = 0.3)\n",
    "plt5 = plt.barh(df5_regional['CN'], df5_regional['%U_5m'], alpha = 0.3)\n",
    "plt.xlabel('%')\n",
    "plt.grid(alpha = 0.2)\n",
    "plt.legend((plt1[0], plt2[0], plt3[0], plt4[0], plt5[0]), ('%U_1m', '%U_2m', '%U_3m', '%U_4m', '%U_5m'))\n",
    "plt.title(\"SLR impacted urban extent by region (%)\", fontsize = 15)\n",
    "plt.show()"
   ]
  },
  {
   "cell_type": "code",
   "execution_count": 27,
   "metadata": {},
   "outputs": [],
   "source": [
    "df5_top10_1m = df5.sort_values(by = '%U_1m', ascending = False).head(10)"
   ]
  },
  {
   "cell_type": "code",
   "execution_count": 28,
   "metadata": {},
   "outputs": [
    {
     "data": {
      "image/png": "[encoded data removed]",
      "text/plain": [
       "<Figure size 432x432 with 1 Axes>"
      ]
     },
     "metadata": {
      "needs_background": "light"
     },
     "output_type": "display_data"
    }
   ],
   "source": [
    "plt.figure(figsize = (6, 6))\n",
    "plt.barh(df5_top10_1m.iloc[::-1]['CN'], df5_top10_1m.iloc[::-1]['%U_1m'], alpha = 0.7)\n",
    "plt.xlabel('%')\n",
    "plt.grid(alpha = 0.2)\n",
    "plt.title(\"Top 10 SLR impacted urban extent by country (%)\", fontsize = 15)\n",
    "plt.show()"
   ]
  },
  {
   "cell_type": "markdown",
   "metadata": {},
   "source": [
    "## 6. Wetland"
   ]
  },
  {
   "cell_type": "code",
   "execution_count": 29,
   "metadata": {},
   "outputs": [
    {
     "data": {
      "text/html": [
       "<div>\n",
       "<style scoped>\n",
       "    .dataframe tbody tr th:only-of-type {\n",
       "        vertical-align: middle;\n",
       "    }\n",
       "\n",
       "    .dataframe tbody tr th {\n",
       "        vertical-align: top;\n",
       "    }\n",
       "\n",
       "    .dataframe thead th {\n",
       "        text-align: right;\n",
       "    }\n",
       "</style>\n",
       "<table border=\"1\" class=\"dataframe\">\n",
       "  <thead>\n",
       "    <tr style=\"text-align: right;\">\n",
       "      <th></th>\n",
       "      <th>CC</th>\n",
       "      <th>CN</th>\n",
       "      <th>CW</th>\n",
       "      <th>NW_1m</th>\n",
       "      <th>NW_2m</th>\n",
       "      <th>NW_3m</th>\n",
       "      <th>NW_4m</th>\n",
       "      <th>NW_5m</th>\n",
       "      <th>%W_1m</th>\n",
       "      <th>%W_2m</th>\n",
       "      <th>%W_3m</th>\n",
       "      <th>%W_4m</th>\n",
       "      <th>%W_5m</th>\n",
       "    </tr>\n",
       "  </thead>\n",
       "  <tbody>\n",
       "    <tr>\n",
       "      <th>1</th>\n",
       "      <td>NaN</td>\n",
       "      <td>Global</td>\n",
       "      <td>4770864</td>\n",
       "      <td>97497</td>\n",
       "      <td>150403</td>\n",
       "      <td>217177</td>\n",
       "      <td>296901</td>\n",
       "      <td>364625</td>\n",
       "      <td>2.043592</td>\n",
       "      <td>3.152532</td>\n",
       "      <td>4.552152</td>\n",
       "      <td>6.223212</td>\n",
       "      <td>7.642746</td>\n",
       "    </tr>\n",
       "    <tr>\n",
       "      <th>2</th>\n",
       "      <td>NaN</td>\n",
       "      <td>Latin America / Caribbean</td>\n",
       "      <td>1651735</td>\n",
       "      <td>22956</td>\n",
       "      <td>39438</td>\n",
       "      <td>61562</td>\n",
       "      <td>86575</td>\n",
       "      <td>109378</td>\n",
       "      <td>1.389811</td>\n",
       "      <td>2.387671</td>\n",
       "      <td>3.727111</td>\n",
       "      <td>5.241458</td>\n",
       "      <td>6.622007</td>\n",
       "    </tr>\n",
       "    <tr>\n",
       "      <th>3</th>\n",
       "      <td>ARG</td>\n",
       "      <td>Argentina</td>\n",
       "      <td>158918</td>\n",
       "      <td>2287</td>\n",
       "      <td>4607</td>\n",
       "      <td>7357</td>\n",
       "      <td>9590</td>\n",
       "      <td>11526</td>\n",
       "      <td>1.439107</td>\n",
       "      <td>2.898979</td>\n",
       "      <td>4.629432</td>\n",
       "      <td>6.034559</td>\n",
       "      <td>7.252797</td>\n",
       "    </tr>\n",
       "    <tr>\n",
       "      <th>4</th>\n",
       "      <td>BHS</td>\n",
       "      <td>Bahamas, The</td>\n",
       "      <td>5060</td>\n",
       "      <td>898</td>\n",
       "      <td>1402</td>\n",
       "      <td>2238</td>\n",
       "      <td>3251</td>\n",
       "      <td>4000</td>\n",
       "      <td>17.747036</td>\n",
       "      <td>27.707510</td>\n",
       "      <td>44.229249</td>\n",
       "      <td>64.249012</td>\n",
       "      <td>79.051383</td>\n",
       "    </tr>\n",
       "    <tr>\n",
       "      <th>5</th>\n",
       "      <td>BLZ</td>\n",
       "      <td>Belize</td>\n",
       "      <td>245</td>\n",
       "      <td>68</td>\n",
       "      <td>93</td>\n",
       "      <td>117</td>\n",
       "      <td>139</td>\n",
       "      <td>164</td>\n",
       "      <td>27.755102</td>\n",
       "      <td>37.959184</td>\n",
       "      <td>47.755102</td>\n",
       "      <td>56.734694</td>\n",
       "      <td>66.938776</td>\n",
       "    </tr>\n",
       "    <tr>\n",
       "      <th>6</th>\n",
       "      <td>BRA</td>\n",
       "      <td>Brazil</td>\n",
       "      <td>961242</td>\n",
       "      <td>7370</td>\n",
       "      <td>13710</td>\n",
       "      <td>23396</td>\n",
       "      <td>35450</td>\n",
       "      <td>46736</td>\n",
       "      <td>0.766716</td>\n",
       "      <td>1.426280</td>\n",
       "      <td>2.433934</td>\n",
       "      <td>3.687937</td>\n",
       "      <td>4.862043</td>\n",
       "    </tr>\n",
       "    <tr>\n",
       "      <th>7</th>\n",
       "      <td>CHL</td>\n",
       "      <td>Chile</td>\n",
       "      <td>19765</td>\n",
       "      <td>375</td>\n",
       "      <td>483</td>\n",
       "      <td>574</td>\n",
       "      <td>667</td>\n",
       "      <td>667</td>\n",
       "      <td>1.897293</td>\n",
       "      <td>2.443714</td>\n",
       "      <td>2.904123</td>\n",
       "      <td>3.374652</td>\n",
       "      <td>3.374652</td>\n",
       "    </tr>\n",
       "    <tr>\n",
       "      <th>8</th>\n",
       "      <td>COL</td>\n",
       "      <td>Colombia</td>\n",
       "      <td>74082</td>\n",
       "      <td>1011</td>\n",
       "      <td>1595</td>\n",
       "      <td>2384</td>\n",
       "      <td>3231</td>\n",
       "      <td>3949</td>\n",
       "      <td>1.364704</td>\n",
       "      <td>2.153020</td>\n",
       "      <td>3.218056</td>\n",
       "      <td>4.361383</td>\n",
       "      <td>5.330580</td>\n",
       "    </tr>\n",
       "    <tr>\n",
       "      <th>9</th>\n",
       "      <td>CRI</td>\n",
       "      <td>Costa Rica</td>\n",
       "      <td>6039</td>\n",
       "      <td>63</td>\n",
       "      <td>100</td>\n",
       "      <td>164</td>\n",
       "      <td>258</td>\n",
       "      <td>380</td>\n",
       "      <td>1.043219</td>\n",
       "      <td>1.655903</td>\n",
       "      <td>2.715681</td>\n",
       "      <td>4.272231</td>\n",
       "      <td>6.292433</td>\n",
       "    </tr>\n",
       "    <tr>\n",
       "      <th>10</th>\n",
       "      <td>CUB</td>\n",
       "      <td>Cuba</td>\n",
       "      <td>13573</td>\n",
       "      <td>1317</td>\n",
       "      <td>2305</td>\n",
       "      <td>3746</td>\n",
       "      <td>5645</td>\n",
       "      <td>7565</td>\n",
       "      <td>9.703087</td>\n",
       "      <td>16.982244</td>\n",
       "      <td>27.598910</td>\n",
       "      <td>41.589921</td>\n",
       "      <td>55.735652</td>\n",
       "    </tr>\n",
       "  </tbody>\n",
       "</table>\n",
       "</div>"
      ],
      "text/plain": [
       "     CC                         CN       CW  NW_1m   NW_2m   NW_3m   NW_4m  \\\n",
       "1   NaN                     Global  4770864  97497  150403  217177  296901   \n",
       "2   NaN  Latin America / Caribbean  1651735  22956   39438   61562   86575   \n",
       "3   ARG                  Argentina   158918   2287    4607    7357    9590   \n",
       "4   BHS               Bahamas, The     5060    898    1402    2238    3251   \n",
       "5   BLZ                     Belize      245     68      93     117     139   \n",
       "6   BRA                     Brazil   961242   7370   13710   23396   35450   \n",
       "7   CHL                      Chile    19765    375     483     574     667   \n",
       "8   COL                   Colombia    74082   1011    1595    2384    3231   \n",
       "9   CRI                 Costa Rica     6039     63     100     164     258   \n",
       "10  CUB                       Cuba    13573   1317    2305    3746    5645   \n",
       "\n",
       "     NW_5m      %W_1m      %W_2m      %W_3m      %W_4m      %W_5m  \n",
       "1   364625   2.043592   3.152532   4.552152   6.223212   7.642746  \n",
       "2   109378   1.389811   2.387671   3.727111   5.241458   6.622007  \n",
       "3    11526   1.439107   2.898979   4.629432   6.034559   7.252797  \n",
       "4     4000  17.747036  27.707510  44.229249  64.249012  79.051383  \n",
       "5      164  27.755102  37.959184  47.755102  56.734694  66.938776  \n",
       "6    46736   0.766716   1.426280   2.433934   3.687937   4.862043  \n",
       "7      667   1.897293   2.443714   2.904123   3.374652   3.374652  \n",
       "8     3949   1.364704   2.153020   3.218056   4.361383   5.330580  \n",
       "9      380   1.043219   1.655903   2.715681   4.272231   6.292433  \n",
       "10    7565   9.703087  16.982244  27.598910  41.589921  55.735652  "
      ]
     },
     "execution_count": 29,
     "metadata": {},
     "output_type": "execute_result"
    }
   ],
   "source": [
    "df6.columns = ['CC', 'CN', 'CW', 'NW_1m', 'NW_2m', 'NW_3m', 'NW_4m', 'NW_5m', \n",
    "               '%W_1m', '%W_2m', '%W_3m', '%W_4m', '%W_5m']\n",
    "df6.dropna(how = 'all', inplace = True)\n",
    "df6 = df6.reset_index(drop = True)\n",
    "df6.index += 1\n",
    "df6 = df6.astype(dict.fromkeys(['CW', 'NW_1m', 'NW_2m', 'NW_3m', 'NW_4m', 'NW_5m'], int))\n",
    "df6.head(10)"
   ]
  },
  {
   "cell_type": "code",
   "execution_count": 30,
   "metadata": {},
   "outputs": [],
   "source": [
    "df6_regional = df6[df6['CC'].isna()]"
   ]
  },
  {
   "cell_type": "code",
   "execution_count": 31,
   "metadata": {},
   "outputs": [
    {
     "data": {
      "image/png": "[encoded data removed]",
      "text/plain": [
       "<Figure size 432x432 with 1 Axes>"
      ]
     },
     "metadata": {
      "needs_background": "light"
     },
     "output_type": "display_data"
    }
   ],
   "source": [
    "plt.figure(figsize = (6, 6))\n",
    "plt1 = plt.barh(df6_regional['CN'], df6_regional['%W_1m'], alpha = 0.3)\n",
    "plt2 = plt.barh(df6_regional['CN'], df6_regional['%W_2m'], alpha = 0.3)\n",
    "plt3 = plt.barh(df6_regional['CN'], df6_regional['%W_3m'], alpha = 0.3)\n",
    "plt4 = plt.barh(df6_regional['CN'], df6_regional['%W_4m'], alpha = 0.3)\n",
    "plt5 = plt.barh(df6_regional['CN'], df6_regional['%W_5m'], alpha = 0.3)\n",
    "plt.xlabel('%')\n",
    "plt.grid(alpha = 0.2)\n",
    "plt.legend((plt1[0], plt2[0], plt3[0], plt4[0], plt5[0]), ('%W_1m', '%W_2m', '%W_3m', '%W_4m', '%W_5m'))\n",
    "plt.title(\"SLR impacted wetland by region (%)\", fontsize = 15)\n",
    "plt.show()"
   ]
  },
  {
   "cell_type": "code",
   "execution_count": 32,
   "metadata": {},
   "outputs": [],
   "source": [
    "df6_top10_1m = df6.sort_values(by = '%W_1m', ascending = False).head(10)"
   ]
  },
  {
   "cell_type": "code",
   "execution_count": 33,
   "metadata": {},
   "outputs": [
    {
     "data": {
      "image/png": "[encoded data removed]",
      "text/plain": [
       "<Figure size 432x432 with 1 Axes>"
      ]
     },
     "metadata": {
      "needs_background": "light"
     },
     "output_type": "display_data"
    }
   ],
   "source": [
    "plt.figure(figsize = (6, 6))\n",
    "plt.barh(df6_top10_1m.iloc[::-1]['CN'], df6_top10_1m.iloc[::-1]['%W_1m'], alpha = 0.7)\n",
    "plt.xlabel('%')\n",
    "plt.grid(alpha = 0.2)\n",
    "plt.title(\"Top 10 SLR impacted Wetland by country (%)\", fontsize = 15)\n",
    "plt.show()"
   ]
  },
  {
   "cell_type": "markdown",
   "metadata": {},
   "source": [
    "## Summary"
   ]
  },
  {
   "cell_type": "code",
   "execution_count": 34,
   "metadata": {
    "scrolled": true
   },
   "outputs": [],
   "source": [
    "df = pd.concat([df1_regional[['CN', '%A_1m']], df2_regional['%P_1m'], df3_regional['%GDP_1m'],\n",
    "          df4_regional['%Ag_1m'], df5_regional['%U_1m'], df6_regional['%W_1m'],\n",
    "          df1_regional['%A_5m'], df2_regional['%P_5m'], df3_regional['%GDP_5m'],\n",
    "          df4_regional['%Ag_5m'], df5_regional['%U_5m'], df6_regional['%W_5m']], axis=1)"
   ]
  },
  {
   "cell_type": "code",
   "execution_count": 35,
   "metadata": {},
   "outputs": [
    {
     "data": {
      "text/html": [
       "        <script type=\"text/javascript\">\n",
       "        window.PlotlyConfig = {MathJaxConfig: 'local'};\n",
       "        if (window.MathJax) {MathJax.Hub.Config({SVG: {font: \"STIX-Web\"}});}\n",
       "        if (typeof require !== 'undefined') {\n",
       "        require.undef(\"plotly\");\n",
       "        requirejs.config({\n",
       "            paths: {\n",
       "                'plotly': ['https://cdn.plot.ly/plotly-latest.min']\n",
       "            }\n",
       "        });\n",
       "        require(['plotly'], function(Plotly) {\n",
       "            window._Plotly = Plotly;\n",
       "        });\n",
       "        }\n",
       "        </script>\n",
       "        "
      ]
     },
     "metadata": {},
     "output_type": "display_data"
    },
    {
     "data": {
      "text/html": [
       "        <script type=\"text/javascript\">\n",
       "        window.PlotlyConfig = {MathJaxConfig: 'local'};\n",
       "        if (window.MathJax) {MathJax.Hub.Config({SVG: {font: \"STIX-Web\"}});}\n",
       "        if (typeof require !== 'undefined') {\n",
       "        require.undef(\"plotly\");\n",
       "        requirejs.config({\n",
       "            paths: {\n",
       "                'plotly': ['https://cdn.plot.ly/plotly-latest.min']\n",
       "            }\n",
       "        });\n",
       "        require(['plotly'], function(Plotly) {\n",
       "            window._Plotly = Plotly;\n",
       "        });\n",
       "        }\n",
       "        </script>\n",
       "        "
      ]
     },
     "metadata": {},
     "output_type": "display_data"
    }
   ],
   "source": [
    "import plotly.graph_objs as go\n",
    "import plotly.express as ex\n",
    "from plotly.offline import iplot, init_notebook_mode\n",
    "import cufflinks\n",
    "cufflinks.go_offline(connected=True)\n",
    "init_notebook_mode(connected=True)"
   ]
  },
  {
   "cell_type": "code",
   "execution_count": 36,
   "metadata": {},
   "outputs": [
    {
     "data": {
      "application/vnd.plotly.v1+json": {
       "config": {
        "plotlyServerURL": "https://plot.ly"
       },
       "data": [
        {
         "name": "%A_1m",
         "opacity": 0.8,
         "type": "bar",
         "x": [
          "Global",
          "Latin America / Caribbean",
          "Middle East / North Africa",
          "Sub-Saharan Africa",
          "East Asia",
          "South Asia"
         ],
         "xaxis": "x",
         "y": [
          0.3430560713718533,
          0.3572575965094803,
          0.37650653356888913,
          0.16348986238577343,
          0.5263575872511017,
          0.3150217134350733
         ],
         "yaxis": "y"
        },
        {
         "name": "%A_5m",
         "opacity": 0.8,
         "type": "bar",
         "x": [
          "Global",
          "Latin America / Caribbean",
          "Middle East / North Africa",
          "Sub-Saharan Africa",
          "East Asia",
          "South Asia"
         ],
         "xaxis": "x2",
         "y": [
          1.2480029923657772,
          1.2644232625166976,
          0.7739173832771042,
          0.5085100087874124,
          2.309280677632267,
          1.7538480085753
         ],
         "yaxis": "y2"
        },
        {
         "name": "%P_1m",
         "opacity": 0.8,
         "type": "bar",
         "x": [
          "Global",
          "Latin America / Caribbean",
          "Middle East / North Africa",
          "Sub-Saharan Africa",
          "East Asia",
          "South Asia"
         ],
         "xaxis": "x3",
         "y": [
          1.279206528365434,
          0.5754018542518193,
          3.234744560440408,
          0.44614889829048376,
          1.9758596522153737,
          0.48996935454737495
         ],
         "yaxis": "y3"
        },
        {
         "name": "%P_5m",
         "opacity": 0.8,
         "type": "bar",
         "x": [
          "Global",
          "Latin America / Caribbean",
          "Middle East / North Africa",
          "Sub-Saharan Africa",
          "East Asia",
          "South Asia"
         ],
         "xaxis": "x4",
         "y": [
          5.602052074104924,
          2.692320805502941,
          7.539713796666102,
          2.1669921703007446,
          8.629252784979561,
          3.3439592332820025
         ],
         "yaxis": "y4"
        },
        {
         "name": "%GDP_1m",
         "opacity": 0.8,
         "type": "bar",
         "x": [
          "Global",
          "Latin America / Caribbean",
          "Middle East / North Africa",
          "Sub-Saharan Africa",
          "East Asia",
          "South Asia"
         ],
         "xaxis": "x5",
         "y": [
          1.301561908536279,
          0.540943976419084,
          1.5102494179298953,
          0.23788929478357623,
          2.0908498462361984,
          0.5660027546094496
         ],
         "yaxis": "y5"
        },
        {
         "name": "%GDP_5m",
         "opacity": 0.8,
         "type": "bar",
         "x": [
          "Global",
          "Latin America / Caribbean",
          "Middle East / North Africa",
          "Sub-Saharan Africa",
          "East Asia",
          "South Asia"
         ],
         "xaxis": "x6",
         "y": [
          6.073516672829969,
          2.385408678064219,
          3.9560118763661736,
          1.3780933782360525,
          10.203972282131435,
          3.001607917544993
         ],
         "yaxis": "y6"
        }
       ],
       "layout": {
        "height": 1200,
        "legend": {
         "y": 0.5
        },
        "paper_bgcolor": "rgb(245, 246, 250)",
        "plot_bgcolor": "rgb(245, 246, 250)",
        "template": {
         "data": {
          "bar": [
           {
            "error_x": {
             "color": "#2a3f5f"
            },
            "error_y": {
             "color": "#2a3f5f"
            },
            "marker": {
             "line": {
              "color": "#E5ECF6",
              "width": 0.5
             }
            },
            "type": "bar"
           }
          ],
          "barpolar": [
           {
            "marker": {
             "line": {
              "color": "#E5ECF6",
              "width": 0.5
             }
            },
            "type": "barpolar"
           }
          ],
          "carpet": [
           {
            "aaxis": {
             "endlinecolor": "#2a3f5f",
             "gridcolor": "white",
             "linecolor": "white",
             "minorgridcolor": "white",
             "startlinecolor": "#2a3f5f"
            },
            "baxis": {
             "endlinecolor": "#2a3f5f",
             "gridcolor": "white",
             "linecolor": "white",
             "minorgridcolor": "white",
             "startlinecolor": "#2a3f5f"
            },
            "type": "carpet"
           }
          ],
          "choropleth": [
           {
            "colorbar": {
             "outlinewidth": 0,
             "ticks": ""
            },
            "type": "choropleth"
           }
          ],
          "contour": [
           {
            "colorbar": {
             "outlinewidth": 0,
             "ticks": ""
            },
            "colorscale": [
             [
              0,
              "#0d0887"
             ],
             [
              0.1111111111111111,
              "#46039f"
             ],
             [
              0.2222222222222222,
              "#7201a8"
             ],
             [
              0.3333333333333333,
              "#9c179e"
             ],
             [
              0.4444444444444444,
              "#bd3786"
             ],
             [
              0.5555555555555556,
              "#d8576b"
             ],
             [
              0.6666666666666666,
              "#ed7953"
             ],
             [
              0.7777777777777778,
              "#fb9f3a"
             ],
             [
              0.8888888888888888,
              "#fdca26"
             ],
             [
              1,
              "#f0f921"
             ]
            ],
            "type": "contour"
           }
          ],
          "contourcarpet": [
           {
            "colorbar": {
             "outlinewidth": 0,
             "ticks": ""
            },
            "type": "contourcarpet"
           }
          ],
          "heatmap": [
           {
            "colorbar": {
             "outlinewidth": 0,
             "ticks": ""
            },
            "colorscale": [
             [
              0,
              "#0d0887"
             ],
             [
              0.1111111111111111,
              "#46039f"
             ],
             [
              0.2222222222222222,
              "#7201a8"
             ],
             [
              0.3333333333333333,
              "#9c179e"
             ],
             [
              0.4444444444444444,
              "#bd3786"
             ],
             [
              0.5555555555555556,
              "#d8576b"
             ],
             [
              0.6666666666666666,
              "#ed7953"
             ],
             [
              0.7777777777777778,
              "#fb9f3a"
             ],
             [
              0.8888888888888888,
              "#fdca26"
             ],
             [
              1,
              "#f0f921"
             ]
            ],
            "type": "heatmap"
           }
          ],
          "heatmapgl": [
           {
            "colorbar": {
             "outlinewidth": 0,
             "ticks": ""
            },
            "colorscale": [
             [
              0,
              "#0d0887"
             ],
             [
              0.1111111111111111,
              "#46039f"
             ],
             [
              0.2222222222222222,
              "#7201a8"
             ],
             [
              0.3333333333333333,
              "#9c179e"
             ],
             [
              0.4444444444444444,
              "#bd3786"
             ],
             [
              0.5555555555555556,
              "#d8576b"
             ],
             [
              0.6666666666666666,
              "#ed7953"
             ],
             [
              0.7777777777777778,
              "#fb9f3a"
             ],
             [
              0.8888888888888888,
              "#fdca26"
             ],
             [
              1,
              "#f0f921"
             ]
            ],
            "type": "heatmapgl"
           }
          ],
          "histogram": [
           {
            "marker": {
             "colorbar": {
              "outlinewidth": 0,
              "ticks": ""
             }
            },
            "type": "histogram"
           }
          ],
          "histogram2d": [
           {
            "colorbar": {
             "outlinewidth": 0,
             "ticks": ""
            },
            "colorscale": [
             [
              0,
              "#0d0887"
             ],
             [
              0.1111111111111111,
              "#46039f"
             ],
             [
              0.2222222222222222,
              "#7201a8"
             ],
             [
              0.3333333333333333,
              "#9c179e"
             ],
             [
              0.4444444444444444,
              "#bd3786"
             ],
             [
              0.5555555555555556,
              "#d8576b"
             ],
             [
              0.6666666666666666,
              "#ed7953"
             ],
             [
              0.7777777777777778,
              "#fb9f3a"
             ],
             [
              0.8888888888888888,
              "#fdca26"
             ],
             [
              1,
              "#f0f921"
             ]
            ],
            "type": "histogram2d"
           }
          ],
          "histogram2dcontour": [
           {
            "colorbar": {
             "outlinewidth": 0,
             "ticks": ""
            },
            "colorscale": [
             [
              0,
              "#0d0887"
             ],
             [
              0.1111111111111111,
              "#46039f"
             ],
             [
              0.2222222222222222,
              "#7201a8"
             ],
             [
              0.3333333333333333,
              "#9c179e"
             ],
             [
              0.4444444444444444,
              "#bd3786"
             ],
             [
              0.5555555555555556,
              "#d8576b"
             ],
             [
              0.6666666666666666,
              "#ed7953"
             ],
             [
              0.7777777777777778,
              "#fb9f3a"
             ],
             [
              0.8888888888888888,
              "#fdca26"
             ],
             [
              1,
              "#f0f921"
             ]
            ],
            "type": "histogram2dcontour"
           }
          ],
          "mesh3d": [
           {
            "colorbar": {
             "outlinewidth": 0,
             "ticks": ""
            },
            "type": "mesh3d"
           }
          ],
          "parcoords": [
           {
            "line": {
             "colorbar": {
              "outlinewidth": 0,
              "ticks": ""
             }
            },
            "type": "parcoords"
           }
          ],
          "pie": [
           {
            "automargin": true,
            "type": "pie"
           }
          ],
          "scatter": [
           {
            "marker": {
             "colorbar": {
              "outlinewidth": 0,
              "ticks": ""
             }
            },
            "type": "scatter"
           }
          ],
          "scatter3d": [
           {
            "line": {
             "colorbar": {
              "outlinewidth": 0,
              "ticks": ""
             }
            },
            "marker": {
             "colorbar": {
              "outlinewidth": 0,
              "ticks": ""
             }
            },
            "type": "scatter3d"
           }
          ],
          "scattercarpet": [
           {
            "marker": {
             "colorbar": {
              "outlinewidth": 0,
              "ticks": ""
             }
            },
            "type": "scattercarpet"
           }
          ],
          "scattergeo": [
           {
            "marker": {
             "colorbar": {
              "outlinewidth": 0,
              "ticks": ""
             }
            },
            "type": "scattergeo"
           }
          ],
          "scattergl": [
           {
            "marker": {
             "colorbar": {
              "outlinewidth": 0,
              "ticks": ""
             }
            },
            "type": "scattergl"
           }
          ],
          "scattermapbox": [
           {
            "marker": {
             "colorbar": {
              "outlinewidth": 0,
              "ticks": ""
             }
            },
            "type": "scattermapbox"
           }
          ],
          "scatterpolar": [
           {
            "marker": {
             "colorbar": {
              "outlinewidth": 0,
              "ticks": ""
             }
            },
            "type": "scatterpolar"
           }
          ],
          "scatterpolargl": [
           {
            "marker": {
             "colorbar": {
              "outlinewidth": 0,
              "ticks": ""
             }
            },
            "type": "scatterpolargl"
           }
          ],
          "scatterternary": [
           {
            "marker": {
             "colorbar": {
              "outlinewidth": 0,
              "ticks": ""
             }
            },
            "type": "scatterternary"
           }
          ],
          "surface": [
           {
            "colorbar": {
             "outlinewidth": 0,
             "ticks": ""
            },
            "colorscale": [
             [
              0,
              "#0d0887"
             ],
             [
              0.1111111111111111,
              "#46039f"
             ],
             [
              0.2222222222222222,
              "#7201a8"
             ],
             [
              0.3333333333333333,
              "#9c179e"
             ],
             [
              0.4444444444444444,
              "#bd3786"
             ],
             [
              0.5555555555555556,
              "#d8576b"
             ],
             [
              0.6666666666666666,
              "#ed7953"
             ],
             [
              0.7777777777777778,
              "#fb9f3a"
             ],
             [
              0.8888888888888888,
              "#fdca26"
             ],
             [
              1,
              "#f0f921"
             ]
            ],
            "type": "surface"
           }
          ],
          "table": [
           {
            "cells": {
             "fill": {
              "color": "#EBF0F8"
             },
             "line": {
              "color": "white"
             }
            },
            "header": {
             "fill": {
              "color": "#C8D4E3"
             },
             "line": {
              "color": "white"
             }
            },
            "type": "table"
           }
          ]
         },
         "layout": {
          "annotationdefaults": {
           "arrowcolor": "#2a3f5f",
           "arrowhead": 0,
           "arrowwidth": 1
          },
          "coloraxis": {
           "colorbar": {
            "outlinewidth": 0,
            "ticks": ""
           }
          },
          "colorscale": {
           "diverging": [
            [
             0,
             "#8e0152"
            ],
            [
             0.1,
             "#c51b7d"
            ],
            [
             0.2,
             "#de77ae"
            ],
            [
             0.3,
             "#f1b6da"
            ],
            [
             0.4,
             "#fde0ef"
            ],
            [
             0.5,
             "#f7f7f7"
            ],
            [
             0.6,
             "#e6f5d0"
            ],
            [
             0.7,
             "#b8e186"
            ],
            [
             0.8,
             "#7fbc41"
            ],
            [
             0.9,
             "#4d9221"
            ],
            [
             1,
             "#276419"
            ]
           ],
           "sequential": [
            [
             0,
             "#0d0887"
            ],
            [
             0.1111111111111111,
             "#46039f"
            ],
            [
             0.2222222222222222,
             "#7201a8"
            ],
            [
             0.3333333333333333,
             "#9c179e"
            ],
            [
             0.4444444444444444,
             "#bd3786"
            ],
            [
             0.5555555555555556,
             "#d8576b"
            ],
            [
             0.6666666666666666,
             "#ed7953"
            ],
            [
             0.7777777777777778,
             "#fb9f3a"
            ],
            [
             0.8888888888888888,
             "#fdca26"
            ],
            [
             1,
             "#f0f921"
            ]
           ],
           "sequentialminus": [
            [
             0,
             "#0d0887"
            ],
            [
             0.1111111111111111,
             "#46039f"
            ],
            [
             0.2222222222222222,
             "#7201a8"
            ],
            [
             0.3333333333333333,
             "#9c179e"
            ],
            [
             0.4444444444444444,
             "#bd3786"
            ],
            [
             0.5555555555555556,
             "#d8576b"
            ],
            [
             0.6666666666666666,
             "#ed7953"
            ],
            [
             0.7777777777777778,
             "#fb9f3a"
            ],
            [
             0.8888888888888888,
             "#fdca26"
            ],
            [
             1,
             "#f0f921"
            ]
           ]
          },
          "colorway": [
           "#636efa",
           "#EF553B",
           "#00cc96",
           "#ab63fa",
           "#FFA15A",
           "#19d3f3",
           "#FF6692",
           "#B6E880",
           "#FF97FF",
           "#FECB52"
          ],
          "font": {
           "color": "#2a3f5f"
          },
          "geo": {
           "bgcolor": "white",
           "lakecolor": "white",
           "landcolor": "#E5ECF6",
           "showlakes": true,
           "showland": true,
           "subunitcolor": "white"
          },
          "hoverlabel": {
           "align": "left"
          },
          "hovermode": "closest",
          "mapbox": {
           "style": "light"
          },
          "paper_bgcolor": "white",
          "plot_bgcolor": "#E5ECF6",
          "polar": {
           "angularaxis": {
            "gridcolor": "white",
            "linecolor": "white",
            "ticks": ""
           },
           "bgcolor": "#E5ECF6",
           "radialaxis": {
            "gridcolor": "white",
            "linecolor": "white",
            "ticks": ""
           }
          },
          "scene": {
           "xaxis": {
            "backgroundcolor": "#E5ECF6",
            "gridcolor": "white",
            "gridwidth": 2,
            "linecolor": "white",
            "showbackground": true,
            "ticks": "",
            "zerolinecolor": "white"
           },
           "yaxis": {
            "backgroundcolor": "#E5ECF6",
            "gridcolor": "white",
            "gridwidth": 2,
            "linecolor": "white",
            "showbackground": true,
            "ticks": "",
            "zerolinecolor": "white"
           },
           "zaxis": {
            "backgroundcolor": "#E5ECF6",
            "gridcolor": "white",
            "gridwidth": 2,
            "linecolor": "white",
            "showbackground": true,
            "ticks": "",
            "zerolinecolor": "white"
           }
          },
          "shapedefaults": {
           "line": {
            "color": "#2a3f5f"
           }
          },
          "ternary": {
           "aaxis": {
            "gridcolor": "white",
            "linecolor": "white",
            "ticks": ""
           },
           "baxis": {
            "gridcolor": "white",
            "linecolor": "white",
            "ticks": ""
           },
           "bgcolor": "#E5ECF6",
           "caxis": {
            "gridcolor": "white",
            "linecolor": "white",
            "ticks": ""
           }
          },
          "title": {
           "x": 0.05
          },
          "xaxis": {
           "automargin": true,
           "gridcolor": "white",
           "linecolor": "white",
           "ticks": "",
           "title": {
            "standoff": 15
           },
           "zerolinecolor": "white",
           "zerolinewidth": 2
          },
          "yaxis": {
           "automargin": true,
           "gridcolor": "white",
           "linecolor": "white",
           "ticks": "",
           "title": {
            "standoff": 15
           },
           "zerolinecolor": "white",
           "zerolinewidth": 2
          }
         }
        },
        "title": {
         "font": {
          "size": 22
         },
         "text": "Sea Level Rise 1m & 5m impact summary (%)",
         "x": 0.5
        },
        "xaxis": {
         "anchor": "y",
         "domain": [
          0,
          0.45
         ]
        },
        "xaxis2": {
         "anchor": "y2",
         "domain": [
          0.55,
          1
         ]
        },
        "xaxis3": {
         "anchor": "y3",
         "domain": [
          0,
          0.45
         ]
        },
        "xaxis4": {
         "anchor": "y4",
         "domain": [
          0.55,
          1
         ]
        },
        "xaxis5": {
         "anchor": "y5",
         "domain": [
          0,
          0.45
         ]
        },
        "xaxis6": {
         "anchor": "y6",
         "domain": [
          0.55,
          1
         ]
        },
        "yaxis": {
         "anchor": "x",
         "domain": [
          0.7333333333333333,
          1
         ]
        },
        "yaxis2": {
         "anchor": "x2",
         "domain": [
          0.7333333333333333,
          1
         ]
        },
        "yaxis3": {
         "anchor": "x3",
         "domain": [
          0.36666666666666664,
          0.6333333333333333
         ]
        },
        "yaxis4": {
         "anchor": "x4",
         "domain": [
          0.36666666666666664,
          0.6333333333333333
         ]
        },
        "yaxis5": {
         "anchor": "x5",
         "domain": [
          0,
          0.26666666666666666
         ]
        },
        "yaxis6": {
         "anchor": "x6",
         "domain": [
          0,
          0.26666666666666666
         ]
        }
       }
      },
      "text/html": [
       "<div>                            <div id=\"3a5be475-a1f5-4ac7-935f-6cc04e80a3ee\" class=\"plotly-graph-div\" style=\"height:1200px; width:100%;\"></div>            <script type=\"text/javascript\">                require([\"plotly\"], function(Plotly) {                    window.PLOTLYENV=window.PLOTLYENV || {};                                    if (document.getElementById(\"3a5be475-a1f5-4ac7-935f-6cc04e80a3ee\")) {                    Plotly.newPlot(                        \"3a5be475-a1f5-4ac7-935f-6cc04e80a3ee\",                        [{\"name\": \"%A_1m\", \"opacity\": 0.8, \"type\": \"bar\", \"x\": [\"Global\", \"Latin America / Caribbean\", \"Middle East / North Africa\", \"Sub-Saharan Africa\", \"East Asia\", \"South Asia\"], \"xaxis\": \"x\", \"y\": [0.3430560713718533, 0.3572575965094803, 0.37650653356888913, 0.16348986238577343, 0.5263575872511017, 0.3150217134350733], \"yaxis\": \"y\"}, {\"name\": \"%A_5m\", \"opacity\": 0.8, \"type\": \"bar\", \"x\": [\"Global\", \"Latin America / Caribbean\", \"Middle East / North Africa\", \"Sub-Saharan Africa\", \"East Asia\", \"South Asia\"], \"xaxis\": \"x2\", \"y\": [1.2480029923657772, 1.2644232625166976, 0.7739173832771042, 0.5085100087874124, 2.309280677632267, 1.7538480085753], \"yaxis\": \"y2\"}, {\"name\": \"%P_1m\", \"opacity\": 0.8, \"type\": \"bar\", \"x\": [\"Global\", \"Latin America / Caribbean\", \"Middle East / North Africa\", \"Sub-Saharan Africa\", \"East Asia\", \"South Asia\"], \"xaxis\": \"x3\", \"y\": [1.279206528365434, 0.5754018542518193, 3.234744560440408, 0.44614889829048376, 1.9758596522153737, 0.48996935454737495], \"yaxis\": \"y3\"}, {\"name\": \"%P_5m\", \"opacity\": 0.8, \"type\": \"bar\", \"x\": [\"Global\", \"Latin America / Caribbean\", \"Middle East / North Africa\", \"Sub-Saharan Africa\", \"East Asia\", \"South Asia\"], \"xaxis\": \"x4\", \"y\": [5.602052074104924, 2.692320805502941, 7.539713796666102, 2.1669921703007446, 8.629252784979561, 3.3439592332820025], \"yaxis\": \"y4\"}, {\"name\": \"%GDP_1m\", \"opacity\": 0.8, \"type\": \"bar\", \"x\": [\"Global\", \"Latin America / Caribbean\", \"Middle East / North Africa\", \"Sub-Saharan Africa\", \"East Asia\", \"South Asia\"], \"xaxis\": \"x5\", \"y\": [1.301561908536279, 0.540943976419084, 1.5102494179298953, 0.23788929478357623, 2.0908498462361984, 0.5660027546094496], \"yaxis\": \"y5\"}, {\"name\": \"%GDP_5m\", \"opacity\": 0.8, \"type\": \"bar\", \"x\": [\"Global\", \"Latin America / Caribbean\", \"Middle East / North Africa\", \"Sub-Saharan Africa\", \"East Asia\", \"South Asia\"], \"xaxis\": \"x6\", \"y\": [6.073516672829969, 2.385408678064219, 3.9560118763661736, 1.3780933782360525, 10.203972282131435, 3.001607917544993], \"yaxis\": \"y6\"}],                        {\"height\": 1200, \"legend\": {\"y\": 0.5}, \"paper_bgcolor\": \"rgb(245, 246, 250)\", \"plot_bgcolor\": \"rgb(245, 246, 250)\", \"template\": {\"data\": {\"bar\": [{\"error_x\": {\"color\": \"#2a3f5f\"}, \"error_y\": {\"color\": \"#2a3f5f\"}, \"marker\": {\"line\": {\"color\": \"#E5ECF6\", \"width\": 0.5}}, \"type\": \"bar\"}], \"barpolar\": [{\"marker\": {\"line\": {\"color\": \"#E5ECF6\", \"width\": 0.5}}, \"type\": \"barpolar\"}], \"carpet\": [{\"aaxis\": {\"endlinecolor\": \"#2a3f5f\", \"gridcolor\": \"white\", \"linecolor\": \"white\", \"minorgridcolor\": \"white\", \"startlinecolor\": \"#2a3f5f\"}, \"baxis\": {\"endlinecolor\": \"#2a3f5f\", \"gridcolor\": \"white\", \"linecolor\": \"white\", \"minorgridcolor\": \"white\", \"startlinecolor\": \"#2a3f5f\"}, \"type\": \"carpet\"}], \"choropleth\": [{\"colorbar\": {\"outlinewidth\": 0, \"ticks\": \"\"}, \"type\": \"choropleth\"}], \"contour\": [{\"colorbar\": {\"outlinewidth\": 0, \"ticks\": \"\"}, \"colorscale\": [[0.0, \"#0d0887\"], [0.1111111111111111, \"#46039f\"], [0.2222222222222222, \"#7201a8\"], [0.3333333333333333, \"#9c179e\"], [0.4444444444444444, \"#bd3786\"], [0.5555555555555556, \"#d8576b\"], [0.6666666666666666, \"#ed7953\"], [0.7777777777777778, \"#fb9f3a\"], [0.8888888888888888, \"#fdca26\"], [1.0, \"#f0f921\"]], \"type\": \"contour\"}], \"contourcarpet\": [{\"colorbar\": {\"outlinewidth\": 0, \"ticks\": \"\"}, \"type\": \"contourcarpet\"}], \"heatmap\": [{\"colorbar\": {\"outlinewidth\": 0, \"ticks\": \"\"}, \"colorscale\": [[0.0, \"#0d0887\"], [0.1111111111111111, \"#46039f\"], [0.2222222222222222, \"#7201a8\"], [0.3333333333333333, \"#9c179e\"], [0.4444444444444444, \"#bd3786\"], [0.5555555555555556, \"#d8576b\"], [0.6666666666666666, \"#ed7953\"], [0.7777777777777778, \"#fb9f3a\"], [0.8888888888888888, \"#fdca26\"], [1.0, \"#f0f921\"]], \"type\": \"heatmap\"}], \"heatmapgl\": [{\"colorbar\": {\"outlinewidth\": 0, \"ticks\": \"\"}, \"colorscale\": [[0.0, \"#0d0887\"], [0.1111111111111111, \"#46039f\"], [0.2222222222222222, \"#7201a8\"], [0.3333333333333333, \"#9c179e\"], [0.4444444444444444, \"#bd3786\"], [0.5555555555555556, \"#d8576b\"], [0.6666666666666666, \"#ed7953\"], [0.7777777777777778, \"#fb9f3a\"], [0.8888888888888888, \"#fdca26\"], [1.0, \"#f0f921\"]], \"type\": \"heatmapgl\"}], \"histogram\": [{\"marker\": {\"colorbar\": {\"outlinewidth\": 0, \"ticks\": \"\"}}, \"type\": \"histogram\"}], \"histogram2d\": [{\"colorbar\": {\"outlinewidth\": 0, \"ticks\": \"\"}, \"colorscale\": [[0.0, \"#0d0887\"], [0.1111111111111111, \"#46039f\"], [0.2222222222222222, \"#7201a8\"], [0.3333333333333333, \"#9c179e\"], [0.4444444444444444, \"#bd3786\"], [0.5555555555555556, \"#d8576b\"], [0.6666666666666666, \"#ed7953\"], [0.7777777777777778, \"#fb9f3a\"], [0.8888888888888888, \"#fdca26\"], [1.0, \"#f0f921\"]], \"type\": \"histogram2d\"}], \"histogram2dcontour\": [{\"colorbar\": {\"outlinewidth\": 0, \"ticks\": \"\"}, \"colorscale\": [[0.0, \"#0d0887\"], [0.1111111111111111, \"#46039f\"], [0.2222222222222222, \"#7201a8\"], [0.3333333333333333, \"#9c179e\"], [0.4444444444444444, \"#bd3786\"], [0.5555555555555556, \"#d8576b\"], [0.6666666666666666, \"#ed7953\"], [0.7777777777777778, \"#fb9f3a\"], [0.8888888888888888, \"#fdca26\"], [1.0, \"#f0f921\"]], \"type\": \"histogram2dcontour\"}], \"mesh3d\": [{\"colorbar\": {\"outlinewidth\": 0, \"ticks\": \"\"}, \"type\": \"mesh3d\"}], \"parcoords\": [{\"line\": {\"colorbar\": {\"outlinewidth\": 0, \"ticks\": \"\"}}, \"type\": \"parcoords\"}], \"pie\": [{\"automargin\": true, \"type\": \"pie\"}], \"scatter\": [{\"marker\": {\"colorbar\": {\"outlinewidth\": 0, \"ticks\": \"\"}}, \"type\": \"scatter\"}], \"scatter3d\": [{\"line\": {\"colorbar\": {\"outlinewidth\": 0, \"ticks\": \"\"}}, \"marker\": {\"colorbar\": {\"outlinewidth\": 0, \"ticks\": \"\"}}, \"type\": \"scatter3d\"}], \"scattercarpet\": [{\"marker\": {\"colorbar\": {\"outlinewidth\": 0, \"ticks\": \"\"}}, \"type\": \"scattercarpet\"}], \"scattergeo\": [{\"marker\": {\"colorbar\": {\"outlinewidth\": 0, \"ticks\": \"\"}}, \"type\": \"scattergeo\"}], \"scattergl\": [{\"marker\": {\"colorbar\": {\"outlinewidth\": 0, \"ticks\": \"\"}}, \"type\": \"scattergl\"}], \"scattermapbox\": [{\"marker\": {\"colorbar\": {\"outlinewidth\": 0, \"ticks\": \"\"}}, \"type\": \"scattermapbox\"}], \"scatterpolar\": [{\"marker\": {\"colorbar\": {\"outlinewidth\": 0, \"ticks\": \"\"}}, \"type\": \"scatterpolar\"}], \"scatterpolargl\": [{\"marker\": {\"colorbar\": {\"outlinewidth\": 0, \"ticks\": \"\"}}, \"type\": \"scatterpolargl\"}], \"scatterternary\": [{\"marker\": {\"colorbar\": {\"outlinewidth\": 0, \"ticks\": \"\"}}, \"type\": \"scatterternary\"}], \"surface\": [{\"colorbar\": {\"outlinewidth\": 0, \"ticks\": \"\"}, \"colorscale\": [[0.0, \"#0d0887\"], [0.1111111111111111, \"#46039f\"], [0.2222222222222222, \"#7201a8\"], [0.3333333333333333, \"#9c179e\"], [0.4444444444444444, \"#bd3786\"], [0.5555555555555556, \"#d8576b\"], [0.6666666666666666, \"#ed7953\"], [0.7777777777777778, \"#fb9f3a\"], [0.8888888888888888, \"#fdca26\"], [1.0, \"#f0f921\"]], \"type\": \"surface\"}], \"table\": [{\"cells\": {\"fill\": {\"color\": \"#EBF0F8\"}, \"line\": {\"color\": \"white\"}}, \"header\": {\"fill\": {\"color\": \"#C8D4E3\"}, \"line\": {\"color\": \"white\"}}, \"type\": \"table\"}]}, \"layout\": {\"annotationdefaults\": {\"arrowcolor\": \"#2a3f5f\", \"arrowhead\": 0, \"arrowwidth\": 1}, \"coloraxis\": {\"colorbar\": {\"outlinewidth\": 0, \"ticks\": \"\"}}, \"colorscale\": {\"diverging\": [[0, \"#8e0152\"], [0.1, \"#c51b7d\"], [0.2, \"#de77ae\"], [0.3, \"#f1b6da\"], [0.4, \"#fde0ef\"], [0.5, \"#f7f7f7\"], [0.6, \"#e6f5d0\"], [0.7, \"#b8e186\"], [0.8, \"#7fbc41\"], [0.9, \"#4d9221\"], [1, \"#276419\"]], \"sequential\": [[0.0, \"#0d0887\"], [0.1111111111111111, \"#46039f\"], [0.2222222222222222, \"#7201a8\"], [0.3333333333333333, \"#9c179e\"], [0.4444444444444444, \"#bd3786\"], [0.5555555555555556, \"#d8576b\"], [0.6666666666666666, \"#ed7953\"], [0.7777777777777778, \"#fb9f3a\"], [0.8888888888888888, \"#fdca26\"], [1.0, \"#f0f921\"]], \"sequentialminus\": [[0.0, \"#0d0887\"], [0.1111111111111111, \"#46039f\"], [0.2222222222222222, \"#7201a8\"], [0.3333333333333333, \"#9c179e\"], [0.4444444444444444, \"#bd3786\"], [0.5555555555555556, \"#d8576b\"], [0.6666666666666666, \"#ed7953\"], [0.7777777777777778, \"#fb9f3a\"], [0.8888888888888888, \"#fdca26\"], [1.0, \"#f0f921\"]]}, \"colorway\": [\"#636efa\", \"#EF553B\", \"#00cc96\", \"#ab63fa\", \"#FFA15A\", \"#19d3f3\", \"#FF6692\", \"#B6E880\", \"#FF97FF\", \"#FECB52\"], \"font\": {\"color\": \"#2a3f5f\"}, \"geo\": {\"bgcolor\": \"white\", \"lakecolor\": \"white\", \"landcolor\": \"#E5ECF6\", \"showlakes\": true, \"showland\": true, \"subunitcolor\": \"white\"}, \"hoverlabel\": {\"align\": \"left\"}, \"hovermode\": \"closest\", \"mapbox\": {\"style\": \"light\"}, \"paper_bgcolor\": \"white\", \"plot_bgcolor\": \"#E5ECF6\", \"polar\": {\"angularaxis\": {\"gridcolor\": \"white\", \"linecolor\": \"white\", \"ticks\": \"\"}, \"bgcolor\": \"#E5ECF6\", \"radialaxis\": {\"gridcolor\": \"white\", \"linecolor\": \"white\", \"ticks\": \"\"}}, \"scene\": {\"xaxis\": {\"backgroundcolor\": \"#E5ECF6\", \"gridcolor\": \"white\", \"gridwidth\": 2, \"linecolor\": \"white\", \"showbackground\": true, \"ticks\": \"\", \"zerolinecolor\": \"white\"}, \"yaxis\": {\"backgroundcolor\": \"#E5ECF6\", \"gridcolor\": \"white\", \"gridwidth\": 2, \"linecolor\": \"white\", \"showbackground\": true, \"ticks\": \"\", \"zerolinecolor\": \"white\"}, \"zaxis\": {\"backgroundcolor\": \"#E5ECF6\", \"gridcolor\": \"white\", \"gridwidth\": 2, \"linecolor\": \"white\", \"showbackground\": true, \"ticks\": \"\", \"zerolinecolor\": \"white\"}}, \"shapedefaults\": {\"line\": {\"color\": \"#2a3f5f\"}}, \"ternary\": {\"aaxis\": {\"gridcolor\": \"white\", \"linecolor\": \"white\", \"ticks\": \"\"}, \"baxis\": {\"gridcolor\": \"white\", \"linecolor\": \"white\", \"ticks\": \"\"}, \"bgcolor\": \"#E5ECF6\", \"caxis\": {\"gridcolor\": \"white\", \"linecolor\": \"white\", \"ticks\": \"\"}}, \"title\": {\"x\": 0.05}, \"xaxis\": {\"automargin\": true, \"gridcolor\": \"white\", \"linecolor\": \"white\", \"ticks\": \"\", \"title\": {\"standoff\": 15}, \"zerolinecolor\": \"white\", \"zerolinewidth\": 2}, \"yaxis\": {\"automargin\": true, \"gridcolor\": \"white\", \"linecolor\": \"white\", \"ticks\": \"\", \"title\": {\"standoff\": 15}, \"zerolinecolor\": \"white\", \"zerolinewidth\": 2}}}, \"title\": {\"font\": {\"size\": 22}, \"text\": \"Sea Level Rise 1m & 5m impact summary (%)\", \"x\": 0.5}, \"xaxis\": {\"anchor\": \"y\", \"domain\": [0.0, 0.45]}, \"xaxis2\": {\"anchor\": \"y2\", \"domain\": [0.55, 1.0]}, \"xaxis3\": {\"anchor\": \"y3\", \"domain\": [0.0, 0.45]}, \"xaxis4\": {\"anchor\": \"y4\", \"domain\": [0.55, 1.0]}, \"xaxis5\": {\"anchor\": \"y5\", \"domain\": [0.0, 0.45]}, \"xaxis6\": {\"anchor\": \"y6\", \"domain\": [0.55, 1.0]}, \"yaxis\": {\"anchor\": \"x\", \"domain\": [0.7333333333333333, 1.0]}, \"yaxis2\": {\"anchor\": \"x2\", \"domain\": [0.7333333333333333, 1.0]}, \"yaxis3\": {\"anchor\": \"x3\", \"domain\": [0.36666666666666664, 0.6333333333333333]}, \"yaxis4\": {\"anchor\": \"x4\", \"domain\": [0.36666666666666664, 0.6333333333333333]}, \"yaxis5\": {\"anchor\": \"x5\", \"domain\": [0.0, 0.26666666666666666]}, \"yaxis6\": {\"anchor\": \"x6\", \"domain\": [0.0, 0.26666666666666666]}},                        {\"responsive\": true}                    ).then(function(){\n",
       "                            \n",
       "var gd = document.getElementById('3a5be475-a1f5-4ac7-935f-6cc04e80a3ee');\n",
       "var x = new MutationObserver(function (mutations, observer) {{\n",
       "        var display = window.getComputedStyle(gd).display;\n",
       "        if (!display || display === 'none') {{\n",
       "            console.log([gd, 'removed!']);\n",
       "            Plotly.purge(gd);\n",
       "            observer.disconnect();\n",
       "        }}\n",
       "}});\n",
       "\n",
       "// Listen for the removal of the full notebook cells\n",
       "var notebookContainer = gd.closest('#notebook-container');\n",
       "if (notebookContainer) {{\n",
       "    x.observe(notebookContainer, {childList: true});\n",
       "}}\n",
       "\n",
       "// Listen for the clearing of the current output cell\n",
       "var outputEl = gd.closest('.output');\n",
       "if (outputEl) {{\n",
       "    x.observe(outputEl, {childList: true});\n",
       "}}\n",
       "\n",
       "                        })                };                });            </script>        </div>"
      ]
     },
     "metadata": {},
     "output_type": "display_data"
    }
   ],
   "source": [
    "from plotly.subplots import make_subplots\n",
    "fig = make_subplots(rows = 3, cols = 2)\n",
    "fig.add_trace(go.Bar(\n",
    "                x=df['CN'],\n",
    "                y=df['%A_1m'],\n",
    "                name=\"%A_1m\",\n",
    "                opacity=0.8),\n",
    "             row = 1, col = 1)\n",
    "fig.add_trace(go.Bar(\n",
    "                x=df['CN'],\n",
    "                y=df['%A_5m'],\n",
    "                name=\"%A_5m\",\n",
    "                opacity=0.8),\n",
    "             row = 1, col = 2)\n",
    "fig.add_trace(go.Bar(\n",
    "                x=df['CN'],\n",
    "                y=df['%P_1m'],\n",
    "                name=\"%P_1m\",\n",
    "                opacity=0.8),\n",
    "             row = 2, col = 1)\n",
    "fig.add_trace(go.Bar(\n",
    "                x=df['CN'],\n",
    "                y=df['%P_5m'],\n",
    "                name=\"%P_5m\",\n",
    "                opacity=0.8),\n",
    "             row = 2, col = 2)\n",
    "fig.add_trace(go.Bar(\n",
    "                x=df['CN'],\n",
    "                y=df['%GDP_1m'],\n",
    "                name=\"%GDP_1m\",\n",
    "                opacity=0.8),\n",
    "             row = 3, col = 1)\n",
    "fig.add_trace(go.Bar(\n",
    "                x=df['CN'],\n",
    "                y=df['%GDP_5m'],\n",
    "                name=\"%GDP_5m\",\n",
    "                opacity=0.8),\n",
    "             row = 3, col = 2)\n",
    "fig.update_layout(title_text = \"Sea Level Rise 1m & 5m impact summary (%)\", title_x=0.5, title_font_size = 22,\n",
    "                  paper_bgcolor = 'rgb(245, 246, 250)', plot_bgcolor = 'rgb(245, 246, 250)',\n",
    "                 height = 1200, legend_y = 0.5)"
   ]
  },
  {
   "cell_type": "code",
   "execution_count": 37,
   "metadata": {},
   "outputs": [
    {
     "data": {
      "application/vnd.plotly.v1+json": {
       "config": {
        "plotlyServerURL": "https://plot.ly"
       },
       "data": [
        {
         "name": "%A_1m",
         "opacity": 0.7,
         "orientation": "h",
         "type": "bar",
         "x": [
          1.3291139240506329,
          1.4686887049705784,
          1.5127838303803969,
          1.5846285509206859,
          1.5881437782713874,
          1.6360601001669448,
          1.9021982951996412,
          2.697530301649503,
          5.167485960399958,
          11.5711897887859
         ],
         "xaxis": "x",
         "y": [
          "Jamaica",
          "Djibouti",
          "Bangladesh",
          "Taiwan China",
          "Cuba",
          "Puerto Rico",
          "Belize",
          "Qatar",
          "Vietnam",
          "Bahamas"
         ],
         "yaxis": "y"
        },
        {
         "name": "%P_1m",
         "opacity": 0.7,
         "orientation": "h",
         "type": "bar",
         "x": [
          3.924776785714286,
          4.562171052631579,
          4.588679969301611,
          4.889417485992176,
          5.418181818181819,
          6.297503285151117,
          7.003117505995204,
          7.9487429643527205,
          9.275075128159802,
          10.797793618900137
         ],
         "xaxis": "x2",
         "y": [
          "Benin",
          "Bahamas, The",
          "United Arab Emirates",
          "Tunisia",
          "French Guiana",
          "Guyana",
          "Suriname",
          "Mauritania",
          "Egypt",
          "Vietnam"
         ],
         "yaxis": "y2"
        },
        {
         "name": "%GDP_1m",
         "opacity": 0.7,
         "orientation": "h",
         "type": "bar",
         "x": [
          2.6594416421115716,
          2.9330419640113363,
          3.0240902101486418,
          4.641106947247045,
          4.735993550987505,
          5.635692720563569,
          6.418918918918918,
          6.436499149361345,
          9.352373290426389,
          10.210805817025978
         ],
         "xaxis": "x3",
         "y": [
          "Ecuador",
          "Tunisia",
          "French Guiana",
          "Guyana",
          "Bahamas",
          "Benin",
          "Suriname",
          "Egypt",
          "Mauritania",
          "Vietnam"
         ],
         "yaxis": "y3"
        }
       ],
       "layout": {
        "height": 1600,
        "legend": {
         "y": 0.5
        },
        "paper_bgcolor": "rgb(245, 246, 250)",
        "plot_bgcolor": "rgb(245, 246, 250)",
        "template": {
         "data": {
          "bar": [
           {
            "error_x": {
             "color": "#2a3f5f"
            },
            "error_y": {
             "color": "#2a3f5f"
            },
            "marker": {
             "line": {
              "color": "#E5ECF6",
              "width": 0.5
             }
            },
            "type": "bar"
           }
          ],
          "barpolar": [
           {
            "marker": {
             "line": {
              "color": "#E5ECF6",
              "width": 0.5
             }
            },
            "type": "barpolar"
           }
          ],
          "carpet": [
           {
            "aaxis": {
             "endlinecolor": "#2a3f5f",
             "gridcolor": "white",
             "linecolor": "white",
             "minorgridcolor": "white",
             "startlinecolor": "#2a3f5f"
            },
            "baxis": {
             "endlinecolor": "#2a3f5f",
             "gridcolor": "white",
             "linecolor": "white",
             "minorgridcolor": "white",
             "startlinecolor": "#2a3f5f"
            },
            "type": "carpet"
           }
          ],
          "choropleth": [
           {
            "colorbar": {
             "outlinewidth": 0,
             "ticks": ""
            },
            "type": "choropleth"
           }
          ],
          "contour": [
           {
            "colorbar": {
             "outlinewidth": 0,
             "ticks": ""
            },
            "colorscale": [
             [
              0,
              "#0d0887"
             ],
             [
              0.1111111111111111,
              "#46039f"
             ],
             [
              0.2222222222222222,
              "#7201a8"
             ],
             [
              0.3333333333333333,
              "#9c179e"
             ],
             [
              0.4444444444444444,
              "#bd3786"
             ],
             [
              0.5555555555555556,
              "#d8576b"
             ],
             [
              0.6666666666666666,
              "#ed7953"
             ],
             [
              0.7777777777777778,
              "#fb9f3a"
             ],
             [
              0.8888888888888888,
              "#fdca26"
             ],
             [
              1,
              "#f0f921"
             ]
            ],
            "type": "contour"
           }
          ],
          "contourcarpet": [
           {
            "colorbar": {
             "outlinewidth": 0,
             "ticks": ""
            },
            "type": "contourcarpet"
           }
          ],
          "heatmap": [
           {
            "colorbar": {
             "outlinewidth": 0,
             "ticks": ""
            },
            "colorscale": [
             [
              0,
              "#0d0887"
             ],
             [
              0.1111111111111111,
              "#46039f"
             ],
             [
              0.2222222222222222,
              "#7201a8"
             ],
             [
              0.3333333333333333,
              "#9c179e"
             ],
             [
              0.4444444444444444,
              "#bd3786"
             ],
             [
              0.5555555555555556,
              "#d8576b"
             ],
             [
              0.6666666666666666,
              "#ed7953"
             ],
             [
              0.7777777777777778,
              "#fb9f3a"
             ],
             [
              0.8888888888888888,
              "#fdca26"
             ],
             [
              1,
              "#f0f921"
             ]
            ],
            "type": "heatmap"
           }
          ],
          "heatmapgl": [
           {
            "colorbar": {
             "outlinewidth": 0,
             "ticks": ""
            },
            "colorscale": [
             [
              0,
              "#0d0887"
             ],
             [
              0.1111111111111111,
              "#46039f"
             ],
             [
              0.2222222222222222,
              "#7201a8"
             ],
             [
              0.3333333333333333,
              "#9c179e"
             ],
             [
              0.4444444444444444,
              "#bd3786"
             ],
             [
              0.5555555555555556,
              "#d8576b"
             ],
             [
              0.6666666666666666,
              "#ed7953"
             ],
             [
              0.7777777777777778,
              "#fb9f3a"
             ],
             [
              0.8888888888888888,
              "#fdca26"
             ],
             [
              1,
              "#f0f921"
             ]
            ],
            "type": "heatmapgl"
           }
          ],
          "histogram": [
           {
            "marker": {
             "colorbar": {
              "outlinewidth": 0,
              "ticks": ""
             }
            },
            "type": "histogram"
           }
          ],
          "histogram2d": [
           {
            "colorbar": {
             "outlinewidth": 0,
             "ticks": ""
            },
            "colorscale": [
             [
              0,
              "#0d0887"
             ],
             [
              0.1111111111111111,
              "#46039f"
             ],
             [
              0.2222222222222222,
              "#7201a8"
             ],
             [
              0.3333333333333333,
              "#9c179e"
             ],
             [
              0.4444444444444444,
              "#bd3786"
             ],
             [
              0.5555555555555556,
              "#d8576b"
             ],
             [
              0.6666666666666666,
              "#ed7953"
             ],
             [
              0.7777777777777778,
              "#fb9f3a"
             ],
             [
              0.8888888888888888,
              "#fdca26"
             ],
             [
              1,
              "#f0f921"
             ]
            ],
            "type": "histogram2d"
           }
          ],
          "histogram2dcontour": [
           {
            "colorbar": {
             "outlinewidth": 0,
             "ticks": ""
            },
            "colorscale": [
             [
              0,
              "#0d0887"
             ],
             [
              0.1111111111111111,
              "#46039f"
             ],
             [
              0.2222222222222222,
              "#7201a8"
             ],
             [
              0.3333333333333333,
              "#9c179e"
             ],
             [
              0.4444444444444444,
              "#bd3786"
             ],
             [
              0.5555555555555556,
              "#d8576b"
             ],
             [
              0.6666666666666666,
              "#ed7953"
             ],
             [
              0.7777777777777778,
              "#fb9f3a"
             ],
             [
              0.8888888888888888,
              "#fdca26"
             ],
             [
              1,
              "#f0f921"
             ]
            ],
            "type": "histogram2dcontour"
           }
          ],
          "mesh3d": [
           {
            "colorbar": {
             "outlinewidth": 0,
             "ticks": ""
            },
            "type": "mesh3d"
           }
          ],
          "parcoords": [
           {
            "line": {
             "colorbar": {
              "outlinewidth": 0,
              "ticks": ""
             }
            },
            "type": "parcoords"
           }
          ],
          "pie": [
           {
            "automargin": true,
            "type": "pie"
           }
          ],
          "scatter": [
           {
            "marker": {
             "colorbar": {
              "outlinewidth": 0,
              "ticks": ""
             }
            },
            "type": "scatter"
           }
          ],
          "scatter3d": [
           {
            "line": {
             "colorbar": {
              "outlinewidth": 0,
              "ticks": ""
             }
            },
            "marker": {
             "colorbar": {
              "outlinewidth": 0,
              "ticks": ""
             }
            },
            "type": "scatter3d"
           }
          ],
          "scattercarpet": [
           {
            "marker": {
             "colorbar": {
              "outlinewidth": 0,
              "ticks": ""
             }
            },
            "type": "scattercarpet"
           }
          ],
          "scattergeo": [
           {
            "marker": {
             "colorbar": {
              "outlinewidth": 0,
              "ticks": ""
             }
            },
            "type": "scattergeo"
           }
          ],
          "scattergl": [
           {
            "marker": {
             "colorbar": {
              "outlinewidth": 0,
              "ticks": ""
             }
            },
            "type": "scattergl"
           }
          ],
          "scattermapbox": [
           {
            "marker": {
             "colorbar": {
              "outlinewidth": 0,
              "ticks": ""
             }
            },
            "type": "scattermapbox"
           }
          ],
          "scatterpolar": [
           {
            "marker": {
             "colorbar": {
              "outlinewidth": 0,
              "ticks": ""
             }
            },
            "type": "scatterpolar"
           }
          ],
          "scatterpolargl": [
           {
            "marker": {
             "colorbar": {
              "outlinewidth": 0,
              "ticks": ""
             }
            },
            "type": "scatterpolargl"
           }
          ],
          "scatterternary": [
           {
            "marker": {
             "colorbar": {
              "outlinewidth": 0,
              "ticks": ""
             }
            },
            "type": "scatterternary"
           }
          ],
          "surface": [
           {
            "colorbar": {
             "outlinewidth": 0,
             "ticks": ""
            },
            "colorscale": [
             [
              0,
              "#0d0887"
             ],
             [
              0.1111111111111111,
              "#46039f"
             ],
             [
              0.2222222222222222,
              "#7201a8"
             ],
             [
              0.3333333333333333,
              "#9c179e"
             ],
             [
              0.4444444444444444,
              "#bd3786"
             ],
             [
              0.5555555555555556,
              "#d8576b"
             ],
             [
              0.6666666666666666,
              "#ed7953"
             ],
             [
              0.7777777777777778,
              "#fb9f3a"
             ],
             [
              0.8888888888888888,
              "#fdca26"
             ],
             [
              1,
              "#f0f921"
             ]
            ],
            "type": "surface"
           }
          ],
          "table": [
           {
            "cells": {
             "fill": {
              "color": "#EBF0F8"
             },
             "line": {
              "color": "white"
             }
            },
            "header": {
             "fill": {
              "color": "#C8D4E3"
             },
             "line": {
              "color": "white"
             }
            },
            "type": "table"
           }
          ]
         },
         "layout": {
          "annotationdefaults": {
           "arrowcolor": "#2a3f5f",
           "arrowhead": 0,
           "arrowwidth": 1
          },
          "coloraxis": {
           "colorbar": {
            "outlinewidth": 0,
            "ticks": ""
           }
          },
          "colorscale": {
           "diverging": [
            [
             0,
             "#8e0152"
            ],
            [
             0.1,
             "#c51b7d"
            ],
            [
             0.2,
             "#de77ae"
            ],
            [
             0.3,
             "#f1b6da"
            ],
            [
             0.4,
             "#fde0ef"
            ],
            [
             0.5,
             "#f7f7f7"
            ],
            [
             0.6,
             "#e6f5d0"
            ],
            [
             0.7,
             "#b8e186"
            ],
            [
             0.8,
             "#7fbc41"
            ],
            [
             0.9,
             "#4d9221"
            ],
            [
             1,
             "#276419"
            ]
           ],
           "sequential": [
            [
             0,
             "#0d0887"
            ],
            [
             0.1111111111111111,
             "#46039f"
            ],
            [
             0.2222222222222222,
             "#7201a8"
            ],
            [
             0.3333333333333333,
             "#9c179e"
            ],
            [
             0.4444444444444444,
             "#bd3786"
            ],
            [
             0.5555555555555556,
             "#d8576b"
            ],
            [
             0.6666666666666666,
             "#ed7953"
            ],
            [
             0.7777777777777778,
             "#fb9f3a"
            ],
            [
             0.8888888888888888,
             "#fdca26"
            ],
            [
             1,
             "#f0f921"
            ]
           ],
           "sequentialminus": [
            [
             0,
             "#0d0887"
            ],
            [
             0.1111111111111111,
             "#46039f"
            ],
            [
             0.2222222222222222,
             "#7201a8"
            ],
            [
             0.3333333333333333,
             "#9c179e"
            ],
            [
             0.4444444444444444,
             "#bd3786"
            ],
            [
             0.5555555555555556,
             "#d8576b"
            ],
            [
             0.6666666666666666,
             "#ed7953"
            ],
            [
             0.7777777777777778,
             "#fb9f3a"
            ],
            [
             0.8888888888888888,
             "#fdca26"
            ],
            [
             1,
             "#f0f921"
            ]
           ]
          },
          "colorway": [
           "#636efa",
           "#EF553B",
           "#00cc96",
           "#ab63fa",
           "#FFA15A",
           "#19d3f3",
           "#FF6692",
           "#B6E880",
           "#FF97FF",
           "#FECB52"
          ],
          "font": {
           "color": "#2a3f5f"
          },
          "geo": {
           "bgcolor": "white",
           "lakecolor": "white",
           "landcolor": "#E5ECF6",
           "showlakes": true,
           "showland": true,
           "subunitcolor": "white"
          },
          "hoverlabel": {
           "align": "left"
          },
          "hovermode": "closest",
          "mapbox": {
           "style": "light"
          },
          "paper_bgcolor": "white",
          "plot_bgcolor": "#E5ECF6",
          "polar": {
           "angularaxis": {
            "gridcolor": "white",
            "linecolor": "white",
            "ticks": ""
           },
           "bgcolor": "#E5ECF6",
           "radialaxis": {
            "gridcolor": "white",
            "linecolor": "white",
            "ticks": ""
           }
          },
          "scene": {
           "xaxis": {
            "backgroundcolor": "#E5ECF6",
            "gridcolor": "white",
            "gridwidth": 2,
            "linecolor": "white",
            "showbackground": true,
            "ticks": "",
            "zerolinecolor": "white"
           },
           "yaxis": {
            "backgroundcolor": "#E5ECF6",
            "gridcolor": "white",
            "gridwidth": 2,
            "linecolor": "white",
            "showbackground": true,
            "ticks": "",
            "zerolinecolor": "white"
           },
           "zaxis": {
            "backgroundcolor": "#E5ECF6",
            "gridcolor": "white",
            "gridwidth": 2,
            "linecolor": "white",
            "showbackground": true,
            "ticks": "",
            "zerolinecolor": "white"
           }
          },
          "shapedefaults": {
           "line": {
            "color": "#2a3f5f"
           }
          },
          "ternary": {
           "aaxis": {
            "gridcolor": "white",
            "linecolor": "white",
            "ticks": ""
           },
           "baxis": {
            "gridcolor": "white",
            "linecolor": "white",
            "ticks": ""
           },
           "bgcolor": "#E5ECF6",
           "caxis": {
            "gridcolor": "white",
            "linecolor": "white",
            "ticks": ""
           }
          },
          "title": {
           "x": 0.05
          },
          "xaxis": {
           "automargin": true,
           "gridcolor": "white",
           "linecolor": "white",
           "ticks": "",
           "title": {
            "standoff": 15
           },
           "zerolinecolor": "white",
           "zerolinewidth": 2
          },
          "yaxis": {
           "automargin": true,
           "gridcolor": "white",
           "linecolor": "white",
           "ticks": "",
           "title": {
            "standoff": 15
           },
           "zerolinecolor": "white",
           "zerolinewidth": 2
          }
         }
        },
        "title": {
         "font": {
          "size": 22
         },
         "text": "Top 10 Countries impacted by SLR summary (%)",
         "x": 0.5
        },
        "width": 800,
        "xaxis": {
         "anchor": "y",
         "domain": [
          0,
          1
         ]
        },
        "xaxis2": {
         "anchor": "y2",
         "domain": [
          0,
          1
         ]
        },
        "xaxis3": {
         "anchor": "y3",
         "domain": [
          0,
          1
         ]
        },
        "yaxis": {
         "anchor": "x",
         "domain": [
          0.7333333333333333,
          1
         ]
        },
        "yaxis2": {
         "anchor": "x2",
         "domain": [
          0.36666666666666664,
          0.6333333333333333
         ]
        },
        "yaxis3": {
         "anchor": "x3",
         "domain": [
          0,
          0.26666666666666666
         ]
        }
       }
      },
      "text/html": [
       "<div>                            <div id=\"43a9c815-e2b2-41e6-9c61-9e7e7287a69a\" class=\"plotly-graph-div\" style=\"height:1600px; width:800px;\"></div>            <script type=\"text/javascript\">                require([\"plotly\"], function(Plotly) {                    window.PLOTLYENV=window.PLOTLYENV || {};                                    if (document.getElementById(\"43a9c815-e2b2-41e6-9c61-9e7e7287a69a\")) {                    Plotly.newPlot(                        \"43a9c815-e2b2-41e6-9c61-9e7e7287a69a\",                        [{\"name\": \"%A_1m\", \"opacity\": 0.7, \"orientation\": \"h\", \"type\": \"bar\", \"x\": [1.3291139240506329, 1.4686887049705784, 1.5127838303803969, 1.5846285509206859, 1.5881437782713874, 1.6360601001669448, 1.9021982951996412, 2.697530301649503, 5.167485960399958, 11.5711897887859], \"xaxis\": \"x\", \"y\": [\"Jamaica\", \"Djibouti\", \"Bangladesh\", \"Taiwan China\", \"Cuba\", \"Puerto Rico\", \"Belize\", \"Qatar\", \"Vietnam\", \"Bahamas\"], \"yaxis\": \"y\"}, {\"name\": \"%P_1m\", \"opacity\": 0.7, \"orientation\": \"h\", \"type\": \"bar\", \"x\": [3.924776785714286, 4.562171052631579, 4.588679969301611, 4.889417485992176, 5.418181818181819, 6.297503285151117, 7.003117505995204, 7.9487429643527205, 9.275075128159802, 10.797793618900137], \"xaxis\": \"x2\", \"y\": [\"Benin\", \"Bahamas, The\", \"United Arab Emirates\", \"Tunisia\", \"French Guiana\", \"Guyana\", \"Suriname\", \"Mauritania\", \"Egypt\", \"Vietnam\"], \"yaxis\": \"y2\"}, {\"name\": \"%GDP_1m\", \"opacity\": 0.7, \"orientation\": \"h\", \"type\": \"bar\", \"x\": [2.6594416421115716, 2.9330419640113363, 3.0240902101486418, 4.641106947247045, 4.735993550987505, 5.635692720563569, 6.418918918918918, 6.436499149361345, 9.352373290426389, 10.210805817025978], \"xaxis\": \"x3\", \"y\": [\"Ecuador\", \"Tunisia\", \"French Guiana\", \"Guyana\", \"Bahamas\", \"Benin\", \"Suriname\", \"Egypt\", \"Mauritania\", \"Vietnam\"], \"yaxis\": \"y3\"}],                        {\"height\": 1600, \"legend\": {\"y\": 0.5}, \"paper_bgcolor\": \"rgb(245, 246, 250)\", \"plot_bgcolor\": \"rgb(245, 246, 250)\", \"template\": {\"data\": {\"bar\": [{\"error_x\": {\"color\": \"#2a3f5f\"}, \"error_y\": {\"color\": \"#2a3f5f\"}, \"marker\": {\"line\": {\"color\": \"#E5ECF6\", \"width\": 0.5}}, \"type\": \"bar\"}], \"barpolar\": [{\"marker\": {\"line\": {\"color\": \"#E5ECF6\", \"width\": 0.5}}, \"type\": \"barpolar\"}], \"carpet\": [{\"aaxis\": {\"endlinecolor\": \"#2a3f5f\", \"gridcolor\": \"white\", \"linecolor\": \"white\", \"minorgridcolor\": \"white\", \"startlinecolor\": \"#2a3f5f\"}, \"baxis\": {\"endlinecolor\": \"#2a3f5f\", \"gridcolor\": \"white\", \"linecolor\": \"white\", \"minorgridcolor\": \"white\", \"startlinecolor\": \"#2a3f5f\"}, \"type\": \"carpet\"}], \"choropleth\": [{\"colorbar\": {\"outlinewidth\": 0, \"ticks\": \"\"}, \"type\": \"choropleth\"}], \"contour\": [{\"colorbar\": {\"outlinewidth\": 0, \"ticks\": \"\"}, \"colorscale\": [[0.0, \"#0d0887\"], [0.1111111111111111, \"#46039f\"], [0.2222222222222222, \"#7201a8\"], [0.3333333333333333, \"#9c179e\"], [0.4444444444444444, \"#bd3786\"], [0.5555555555555556, \"#d8576b\"], [0.6666666666666666, \"#ed7953\"], [0.7777777777777778, \"#fb9f3a\"], [0.8888888888888888, \"#fdca26\"], [1.0, \"#f0f921\"]], \"type\": \"contour\"}], \"contourcarpet\": [{\"colorbar\": {\"outlinewidth\": 0, \"ticks\": \"\"}, \"type\": \"contourcarpet\"}], \"heatmap\": [{\"colorbar\": {\"outlinewidth\": 0, \"ticks\": \"\"}, \"colorscale\": [[0.0, \"#0d0887\"], [0.1111111111111111, \"#46039f\"], [0.2222222222222222, \"#7201a8\"], [0.3333333333333333, \"#9c179e\"], [0.4444444444444444, \"#bd3786\"], [0.5555555555555556, \"#d8576b\"], [0.6666666666666666, \"#ed7953\"], [0.7777777777777778, \"#fb9f3a\"], [0.8888888888888888, \"#fdca26\"], [1.0, \"#f0f921\"]], \"type\": \"heatmap\"}], \"heatmapgl\": [{\"colorbar\": {\"outlinewidth\": 0, \"ticks\": \"\"}, \"colorscale\": [[0.0, \"#0d0887\"], [0.1111111111111111, \"#46039f\"], [0.2222222222222222, \"#7201a8\"], [0.3333333333333333, \"#9c179e\"], [0.4444444444444444, \"#bd3786\"], [0.5555555555555556, \"#d8576b\"], [0.6666666666666666, \"#ed7953\"], [0.7777777777777778, \"#fb9f3a\"], [0.8888888888888888, \"#fdca26\"], [1.0, \"#f0f921\"]], \"type\": \"heatmapgl\"}], \"histogram\": [{\"marker\": {\"colorbar\": {\"outlinewidth\": 0, \"ticks\": \"\"}}, \"type\": \"histogram\"}], \"histogram2d\": [{\"colorbar\": {\"outlinewidth\": 0, \"ticks\": \"\"}, \"colorscale\": [[0.0, \"#0d0887\"], [0.1111111111111111, \"#46039f\"], [0.2222222222222222, \"#7201a8\"], [0.3333333333333333, \"#9c179e\"], [0.4444444444444444, \"#bd3786\"], [0.5555555555555556, \"#d8576b\"], [0.6666666666666666, \"#ed7953\"], [0.7777777777777778, \"#fb9f3a\"], [0.8888888888888888, \"#fdca26\"], [1.0, \"#f0f921\"]], \"type\": \"histogram2d\"}], \"histogram2dcontour\": [{\"colorbar\": {\"outlinewidth\": 0, \"ticks\": \"\"}, \"colorscale\": [[0.0, \"#0d0887\"], [0.1111111111111111, \"#46039f\"], [0.2222222222222222, \"#7201a8\"], [0.3333333333333333, \"#9c179e\"], [0.4444444444444444, \"#bd3786\"], [0.5555555555555556, \"#d8576b\"], [0.6666666666666666, \"#ed7953\"], [0.7777777777777778, \"#fb9f3a\"], [0.8888888888888888, \"#fdca26\"], [1.0, \"#f0f921\"]], \"type\": \"histogram2dcontour\"}], \"mesh3d\": [{\"colorbar\": {\"outlinewidth\": 0, \"ticks\": \"\"}, \"type\": \"mesh3d\"}], \"parcoords\": [{\"line\": {\"colorbar\": {\"outlinewidth\": 0, \"ticks\": \"\"}}, \"type\": \"parcoords\"}], \"pie\": [{\"automargin\": true, \"type\": \"pie\"}], \"scatter\": [{\"marker\": {\"colorbar\": {\"outlinewidth\": 0, \"ticks\": \"\"}}, \"type\": \"scatter\"}], \"scatter3d\": [{\"line\": {\"colorbar\": {\"outlinewidth\": 0, \"ticks\": \"\"}}, \"marker\": {\"colorbar\": {\"outlinewidth\": 0, \"ticks\": \"\"}}, \"type\": \"scatter3d\"}], \"scattercarpet\": [{\"marker\": {\"colorbar\": {\"outlinewidth\": 0, \"ticks\": \"\"}}, \"type\": \"scattercarpet\"}], \"scattergeo\": [{\"marker\": {\"colorbar\": {\"outlinewidth\": 0, \"ticks\": \"\"}}, \"type\": \"scattergeo\"}], \"scattergl\": [{\"marker\": {\"colorbar\": {\"outlinewidth\": 0, \"ticks\": \"\"}}, \"type\": \"scattergl\"}], \"scattermapbox\": [{\"marker\": {\"colorbar\": {\"outlinewidth\": 0, \"ticks\": \"\"}}, \"type\": \"scattermapbox\"}], \"scatterpolar\": [{\"marker\": {\"colorbar\": {\"outlinewidth\": 0, \"ticks\": \"\"}}, \"type\": \"scatterpolar\"}], \"scatterpolargl\": [{\"marker\": {\"colorbar\": {\"outlinewidth\": 0, \"ticks\": \"\"}}, \"type\": \"scatterpolargl\"}], \"scatterternary\": [{\"marker\": {\"colorbar\": {\"outlinewidth\": 0, \"ticks\": \"\"}}, \"type\": \"scatterternary\"}], \"surface\": [{\"colorbar\": {\"outlinewidth\": 0, \"ticks\": \"\"}, \"colorscale\": [[0.0, \"#0d0887\"], [0.1111111111111111, \"#46039f\"], [0.2222222222222222, \"#7201a8\"], [0.3333333333333333, \"#9c179e\"], [0.4444444444444444, \"#bd3786\"], [0.5555555555555556, \"#d8576b\"], [0.6666666666666666, \"#ed7953\"], [0.7777777777777778, \"#fb9f3a\"], [0.8888888888888888, \"#fdca26\"], [1.0, \"#f0f921\"]], \"type\": \"surface\"}], \"table\": [{\"cells\": {\"fill\": {\"color\": \"#EBF0F8\"}, \"line\": {\"color\": \"white\"}}, \"header\": {\"fill\": {\"color\": \"#C8D4E3\"}, \"line\": {\"color\": \"white\"}}, \"type\": \"table\"}]}, \"layout\": {\"annotationdefaults\": {\"arrowcolor\": \"#2a3f5f\", \"arrowhead\": 0, \"arrowwidth\": 1}, \"coloraxis\": {\"colorbar\": {\"outlinewidth\": 0, \"ticks\": \"\"}}, \"colorscale\": {\"diverging\": [[0, \"#8e0152\"], [0.1, \"#c51b7d\"], [0.2, \"#de77ae\"], [0.3, \"#f1b6da\"], [0.4, \"#fde0ef\"], [0.5, \"#f7f7f7\"], [0.6, \"#e6f5d0\"], [0.7, \"#b8e186\"], [0.8, \"#7fbc41\"], [0.9, \"#4d9221\"], [1, \"#276419\"]], \"sequential\": [[0.0, \"#0d0887\"], [0.1111111111111111, \"#46039f\"], [0.2222222222222222, \"#7201a8\"], [0.3333333333333333, \"#9c179e\"], [0.4444444444444444, \"#bd3786\"], [0.5555555555555556, \"#d8576b\"], [0.6666666666666666, \"#ed7953\"], [0.7777777777777778, \"#fb9f3a\"], [0.8888888888888888, \"#fdca26\"], [1.0, \"#f0f921\"]], \"sequentialminus\": [[0.0, \"#0d0887\"], [0.1111111111111111, \"#46039f\"], [0.2222222222222222, \"#7201a8\"], [0.3333333333333333, \"#9c179e\"], [0.4444444444444444, \"#bd3786\"], [0.5555555555555556, \"#d8576b\"], [0.6666666666666666, \"#ed7953\"], [0.7777777777777778, \"#fb9f3a\"], [0.8888888888888888, \"#fdca26\"], [1.0, \"#f0f921\"]]}, \"colorway\": [\"#636efa\", \"#EF553B\", \"#00cc96\", \"#ab63fa\", \"#FFA15A\", \"#19d3f3\", \"#FF6692\", \"#B6E880\", \"#FF97FF\", \"#FECB52\"], \"font\": {\"color\": \"#2a3f5f\"}, \"geo\": {\"bgcolor\": \"white\", \"lakecolor\": \"white\", \"landcolor\": \"#E5ECF6\", \"showlakes\": true, \"showland\": true, \"subunitcolor\": \"white\"}, \"hoverlabel\": {\"align\": \"left\"}, \"hovermode\": \"closest\", \"mapbox\": {\"style\": \"light\"}, \"paper_bgcolor\": \"white\", \"plot_bgcolor\": \"#E5ECF6\", \"polar\": {\"angularaxis\": {\"gridcolor\": \"white\", \"linecolor\": \"white\", \"ticks\": \"\"}, \"bgcolor\": \"#E5ECF6\", \"radialaxis\": {\"gridcolor\": \"white\", \"linecolor\": \"white\", \"ticks\": \"\"}}, \"scene\": {\"xaxis\": {\"backgroundcolor\": \"#E5ECF6\", \"gridcolor\": \"white\", \"gridwidth\": 2, \"linecolor\": \"white\", \"showbackground\": true, \"ticks\": \"\", \"zerolinecolor\": \"white\"}, \"yaxis\": {\"backgroundcolor\": \"#E5ECF6\", \"gridcolor\": \"white\", \"gridwidth\": 2, \"linecolor\": \"white\", \"showbackground\": true, \"ticks\": \"\", \"zerolinecolor\": \"white\"}, \"zaxis\": {\"backgroundcolor\": \"#E5ECF6\", \"gridcolor\": \"white\", \"gridwidth\": 2, \"linecolor\": \"white\", \"showbackground\": true, \"ticks\": \"\", \"zerolinecolor\": \"white\"}}, \"shapedefaults\": {\"line\": {\"color\": \"#2a3f5f\"}}, \"ternary\": {\"aaxis\": {\"gridcolor\": \"white\", \"linecolor\": \"white\", \"ticks\": \"\"}, \"baxis\": {\"gridcolor\": \"white\", \"linecolor\": \"white\", \"ticks\": \"\"}, \"bgcolor\": \"#E5ECF6\", \"caxis\": {\"gridcolor\": \"white\", \"linecolor\": \"white\", \"ticks\": \"\"}}, \"title\": {\"x\": 0.05}, \"xaxis\": {\"automargin\": true, \"gridcolor\": \"white\", \"linecolor\": \"white\", \"ticks\": \"\", \"title\": {\"standoff\": 15}, \"zerolinecolor\": \"white\", \"zerolinewidth\": 2}, \"yaxis\": {\"automargin\": true, \"gridcolor\": \"white\", \"linecolor\": \"white\", \"ticks\": \"\", \"title\": {\"standoff\": 15}, \"zerolinecolor\": \"white\", \"zerolinewidth\": 2}}}, \"title\": {\"font\": {\"size\": 22}, \"text\": \"Top 10 Countries impacted by SLR summary (%)\", \"x\": 0.5}, \"width\": 800, \"xaxis\": {\"anchor\": \"y\", \"domain\": [0.0, 1.0]}, \"xaxis2\": {\"anchor\": \"y2\", \"domain\": [0.0, 1.0]}, \"xaxis3\": {\"anchor\": \"y3\", \"domain\": [0.0, 1.0]}, \"yaxis\": {\"anchor\": \"x\", \"domain\": [0.7333333333333333, 1.0]}, \"yaxis2\": {\"anchor\": \"x2\", \"domain\": [0.36666666666666664, 0.6333333333333333]}, \"yaxis3\": {\"anchor\": \"x3\", \"domain\": [0.0, 0.26666666666666666]}},                        {\"responsive\": true}                    ).then(function(){\n",
       "                            \n",
       "var gd = document.getElementById('43a9c815-e2b2-41e6-9c61-9e7e7287a69a');\n",
       "var x = new MutationObserver(function (mutations, observer) {{\n",
       "        var display = window.getComputedStyle(gd).display;\n",
       "        if (!display || display === 'none') {{\n",
       "            console.log([gd, 'removed!']);\n",
       "            Plotly.purge(gd);\n",
       "            observer.disconnect();\n",
       "        }}\n",
       "}});\n",
       "\n",
       "// Listen for the removal of the full notebook cells\n",
       "var notebookContainer = gd.closest('#notebook-container');\n",
       "if (notebookContainer) {{\n",
       "    x.observe(notebookContainer, {childList: true});\n",
       "}}\n",
       "\n",
       "// Listen for the clearing of the current output cell\n",
       "var outputEl = gd.closest('.output');\n",
       "if (outputEl) {{\n",
       "    x.observe(outputEl, {childList: true});\n",
       "}}\n",
       "\n",
       "                        })                };                });            </script>        </div>"
      ]
     },
     "metadata": {},
     "output_type": "display_data"
    }
   ],
   "source": [
    "fig = make_subplots(rows = 3, cols = 1)\n",
    "fig.add_trace(go.Bar(\n",
    "                y=df1_top10_1m.iloc[::-1]['CN'],\n",
    "                x=df1_top10_1m.iloc[::-1]['%A_1m'],\n",
    "                name=\"%A_1m\",\n",
    "                opacity=0.7,\n",
    "                orientation='h'),\n",
    "             row = 1, col = 1)\n",
    "fig.add_trace(go.Bar(\n",
    "                y=df2_top10_1m.iloc[::-1]['CN'],\n",
    "                x=df2_top10_1m.iloc[::-1]['%P_1m'],\n",
    "                name=\"%P_1m\",\n",
    "                opacity=0.7,\n",
    "                orientation='h'),\n",
    "             row = 2, col = 1)\n",
    "fig.add_trace(go.Bar(\n",
    "                y=df3_top10_1m.iloc[::-1]['CN'],\n",
    "                x=df3_top10_1m.iloc[::-1]['%GDP_1m'],\n",
    "                name=\"%GDP_1m\",\n",
    "                opacity=0.7, \n",
    "                orientation='h'),\n",
    "             row = 3, col = 1)\n",
    "fig.update_layout(title_text = \"Top 10 Countries impacted by SLR summary (%)\", title_x=0.5, title_font_size = 22,\n",
    "                  paper_bgcolor = 'rgb(245, 246, 250)', plot_bgcolor = 'rgb(245, 246, 250)',\n",
    "                  height = 1600, width = 800, legend_y = 0.5)"
   ]
  },
  {
   "cell_type": "code",
   "execution_count": null,
   "metadata": {},
   "outputs": [],
   "source": []
  }
 ],
 "metadata": {
  "kernelspec": {
   "display_name": "Python 3",
   "language": "python",
   "name": "python3"
  },
  "language_info": {
   "codemirror_mode": {
    "name": "ipython",
    "version": 3
   },
   "file_extension": ".py",
   "mimetype": "text/x-python",
   "name": "python",
   "nbconvert_exporter": "python",
   "pygments_lexer": "ipython3",
   "version": "3.7.3"
  }
 },
 "nbformat": 4,
 "nbformat_minor": 2
}
