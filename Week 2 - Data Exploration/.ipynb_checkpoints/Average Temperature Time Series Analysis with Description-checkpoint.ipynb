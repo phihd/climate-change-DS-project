{
 "cells": [
  {
   "cell_type": "markdown",
   "metadata": {},
   "source": [
    "# Importing the necessary libraries\n"
   ]
  },
  {
   "cell_type": "code",
   "execution_count": 1,
   "metadata": {},
   "outputs": [
    {
     "data": {
      "text/plain": [
       "'4.10.0'"
      ]
     },
     "execution_count": 1,
     "metadata": {},
     "output_type": "execute_result"
    }
   ],
   "source": [
    "import plotly\n",
    "plotly.__version__"
   ]
  },
  {
   "cell_type": "code",
   "execution_count": 2,
   "metadata": {},
   "outputs": [
    {
     "ename": "ModuleNotFoundError",
     "evalue": "No module named 'mpl_toolkits.basemap'",
     "output_type": "error",
     "traceback": [
      "\u001b[1;31m---------------------------------------------------------------------------\u001b[0m",
      "\u001b[1;31mModuleNotFoundError\u001b[0m                       Traceback (most recent call last)",
      "\u001b[1;32m<ipython-input-2-cbaa997a15bb>\u001b[0m in \u001b[0;36m<module>\u001b[1;34m\u001b[0m\n\u001b[0;32m      4\u001b[0m \u001b[1;32mimport\u001b[0m \u001b[0mnumpy\u001b[0m \u001b[1;32mas\u001b[0m \u001b[0mnp\u001b[0m\u001b[1;33m\u001b[0m\u001b[1;33m\u001b[0m\u001b[0m\n\u001b[0;32m      5\u001b[0m \u001b[1;32mfrom\u001b[0m \u001b[0mscipy\u001b[0m\u001b[1;33m.\u001b[0m\u001b[0mio\u001b[0m \u001b[1;32mimport\u001b[0m \u001b[0mnetcdf\u001b[0m\u001b[1;33m\u001b[0m\u001b[1;33m\u001b[0m\u001b[0m\n\u001b[1;32m----> 6\u001b[1;33m \u001b[1;32mfrom\u001b[0m \u001b[0mmpl_toolkits\u001b[0m\u001b[1;33m.\u001b[0m\u001b[0mbasemap\u001b[0m \u001b[1;32mimport\u001b[0m \u001b[0mBasemap\u001b[0m\u001b[1;33m\u001b[0m\u001b[1;33m\u001b[0m\u001b[0m\n\u001b[0m",
      "\u001b[1;31mModuleNotFoundError\u001b[0m: No module named 'mpl_toolkits.basemap'"
     ]
    }
   ],
   "source": [
    "import plotly.express as ex\n",
    "import plotly.graph_objs as go\n",
    "import pandas as pd\n",
    "import numpy as np           \n",
    "from scipy.io import netcdf  \n",
    "from mpl_toolkits.basemap import Basemap"
   ]
  },
  {
   "cell_type": "markdown",
   "metadata": {},
   "source": [
    "# Description of the Data and Analysis"
   ]
  },
  {
   "cell_type": "markdown",
   "metadata": {},
   "source": [
    "\"Temperature Anomaly\" is the difference between the long-term average temperature  and the temperature that is actually occurring. In other words, the long-term average temperature is one that would be expected; the anomaly is the difference between what you would expect and what is happening.\n",
    "\n",
    "A positive anomaly means that the temperature was warmer than normal; a negative anomaly indicates that the temperature was cooler than normal. Actual temperature measurements are often difficult to gather. Some areas in the world have few temperature measurement stations, and temperatures must be estimated over large regions. Using anomalies allows more accurate descriptions over larger areas than actual temperatures and provides a frame of reference that allows easier analysis. \n",
    "\n"
   ]
  },
  {
   "cell_type": "markdown",
   "metadata": {},
   "source": [
    "# Importing CSV Dataset"
   ]
  },
  {
   "cell_type": "code",
   "execution_count": null,
   "metadata": {},
   "outputs": [],
   "source": [
    "# Dataset available at: https://datahub.io/core/global-temp#readme\n",
    "df = pd.read_csv(\"annual_csv.csv\")\n",
    "df.head()"
   ]
  },
  {
   "cell_type": "markdown",
   "metadata": {},
   "source": [
    "NOAA National Climatic Data Center (NCDC)'s \n",
    "Global component of Climate at a Glance (GCAG):\n",
    "\n",
    "Global temperature anomaly data come from the Global Historical Climatology Network-Monthly (GHCN-M) data set and International Comprehensive Ocean-Atmosphere Data Set (ICOADS), which have data from 1880 to the present. These two datasets are blended into a single product to produce the combined global land and ocean temperature anomalies. The available timeseries of global-scale temperature anomalies are calculated with respect to the 20th century average.\n",
    "\n",
    "Average global mean temperature anomalies in degrees Celsius relative to a base period. GISTEMP base period: 1951-1980. GCAG base period: 20th century average. The term temperature anomaly means a departure from a reference value or long-term average. A positive anomaly indicates that the observed temperature was warmer than the reference value, while a negative anomaly indicates that the observed temperature was cooler than the reference value."
   ]
  },
  {
   "cell_type": "markdown",
   "metadata": {},
   "source": [
    "# Testing the Plotly's basic plot"
   ]
  },
  {
   "cell_type": "code",
   "execution_count": null,
   "metadata": {},
   "outputs": [],
   "source": [
    "fig = ex.line(df, x = 'Year', y = 'Mean')\n",
    "fig.show()"
   ]
  },
  {
   "cell_type": "markdown",
   "metadata": {},
   "source": [
    "#  Cleaning and unifying messy and complex data sets "
   ]
  },
  {
   "cell_type": "code",
   "execution_count": null,
   "metadata": {},
   "outputs": [],
   "source": [
    "# Only the GCAG data and its columns 'Year' and 'Mean' will be used for this analysis\n",
    "GCAG_df = df[df.Source == 'GCAG'][['Year','Mean']].rename(columns={\"Mean\": \"GCAG_Mean\"})\n",
    "\n",
    "# GISTEMP Global Land-Ocean Temperature Index\n",
    "GISTEMP_df = df[df.Source == 'GISTEMP'][['Mean']].rename(columns={\"Mean\": \"GISTEMP_Mean\"})\n",
    "\n",
    "GCAG_df.index = range(len(GCAG_df))\n",
    "GISTEMP_df.index = range(len(GISTEMP_df))"
   ]
  },
  {
   "cell_type": "code",
   "execution_count": null,
   "metadata": {},
   "outputs": [],
   "source": [
    "GCAG_df.head()"
   ]
  },
  {
   "cell_type": "code",
   "execution_count": null,
   "metadata": {},
   "outputs": [],
   "source": [
    "GISTEMP_df.head()"
   ]
  },
  {
   "cell_type": "markdown",
   "metadata": {},
   "source": [
    "# Concatenating GCAG and GISTEMP Mean Data"
   ]
  },
  {
   "cell_type": "code",
   "execution_count": null,
   "metadata": {},
   "outputs": [],
   "source": [
    "df_final = pd.concat([GCAG_df,GISTEMP_df],axis = 1)\n",
    "df_final.head()"
   ]
  },
  {
   "cell_type": "markdown",
   "metadata": {},
   "source": [
    "# Visualization with the Plotly"
   ]
  },
  {
   "cell_type": "code",
   "execution_count": null,
   "metadata": {},
   "outputs": [],
   "source": [
    "fig = go.Figure(layout = go.Layout(\n",
    "        xaxis=dict(showgrid = True,title = \"Year\",color = 'black'),\n",
    "        yaxis=dict(showgrid = True,title = \"Temperature Change\",color = 'black'),\n",
    "    ))\n",
    "\n",
    "fig.add_trace(go.Scatter(\n",
    "                x=df_final.Year,\n",
    "                y=df_final['GCAG_Mean'],\n",
    "                name=\"GCAG_Mean\",\n",
    "                line_color='INDIANRED',\n",
    "                opacity=0.8))\n",
    "\n",
    "fig.add_trace(go.Scatter(\n",
    "                x=df_final.Year,\n",
    "                y=df_final['GISTEMP_Mean'],\n",
    "                name=\"GISTEMP_Mean\",\n",
    "                line_color='TEAL',\n",
    "                opacity=0.8))\n",
    "\n",
    "# Use date string to set xaxis range\n",
    "fig.update_layout(title_text = \"Change in Temperature between 1880 ~ 2016\", title_x=0.5, title_font_family=\"Times New Roman\", \\\n",
    "                  title_font_size = 22, paper_bgcolor = 'rgba(233,233,233,1)', plot_bgcolor = 'rgba(240,235,228,1)')\n",
    "fig.show()"
   ]
  },
  {
   "cell_type": "markdown",
   "metadata": {},
   "source": [
    "# Applying Linear Predictive Model with 'sklearn'"
   ]
  },
  {
   "cell_type": "code",
   "execution_count": null,
   "metadata": {},
   "outputs": [],
   "source": [
    "from sklearn.linear_model import LinearRegression"
   ]
  },
  {
   "cell_type": "code",
   "execution_count": null,
   "metadata": {},
   "outputs": [],
   "source": [
    "X = df_final.iloc[:,0:1]\n",
    "GCAG_y = df_final.iloc[:,1]\n",
    "GISTEMP_y = df_final.iloc[:,2]"
   ]
  },
  {
   "cell_type": "code",
   "execution_count": null,
   "metadata": {},
   "outputs": [],
   "source": [
    "model = LinearRegression()\n",
    "model.fit(X,GCAG_y)"
   ]
  },
  {
   "cell_type": "code",
   "execution_count": null,
   "metadata": {},
   "outputs": [],
   "source": [
    "pred_gcag = model.predict(X)"
   ]
  },
  {
   "cell_type": "code",
   "execution_count": null,
   "metadata": {},
   "outputs": [],
   "source": [
    "model.fit(X,GISTEMP_y)"
   ]
  },
  {
   "cell_type": "code",
   "execution_count": null,
   "metadata": {},
   "outputs": [],
   "source": [
    "pred_gistemp = model.predict(X)"
   ]
  },
  {
   "cell_type": "markdown",
   "metadata": {},
   "source": [
    "# Visualization of the regression result to the previous plot"
   ]
  },
  {
   "cell_type": "code",
   "execution_count": null,
   "metadata": {},
   "outputs": [],
   "source": [
    "fig = go.Figure( layout=go.Layout(\n",
    "        xaxis=dict(showgrid = True,title = \"Year\", color = 'black'),\n",
    "        yaxis=dict(showgrid = True,title = \"Temperature Change\", color = 'black'),\n",
    "    ))\n",
    "\n",
    "fig.add_trace(go.Scatter(\n",
    "                x=df_final.Year,\n",
    "                y=df_final['GCAG_Mean'],\n",
    "                name=\"GCAG_Mean\",\n",
    "                line_color= 'rgb(203, 67, 53)',\n",
    "                opacity=0.8))\n",
    "\n",
    "fig.add_trace(go.Scatter(\n",
    "                x=df_final.Year,\n",
    "                y=df_final['GISTEMP_Mean'],\n",
    "                name=\"GISTEMP_Mean\",\n",
    "                line_color='rgb(40, 116, 166)',\n",
    "                opacity=0.8))\n",
    "\n",
    "fig.add_trace(go.Scatter(\n",
    "                x = df_final.Year,\n",
    "                y = pred_gcag,\n",
    "                name=\"GCAG_Predicted\",\n",
    "                line_color='rgb(22, 160, 133)',\n",
    "                opacity=0.8))\n",
    "\n",
    "fig.add_trace(go.Scatter(\n",
    "                x = df_final.Year,\n",
    "                y = pred_gistemp,\n",
    "                name=\"GISTEMP_Predicted\",\n",
    "                line_color='rgb(142, 68, 173)',\n",
    "                opacity=0.8))\n",
    "\n",
    "# Use date string to set xaxis range\n",
    "fig.update_layout(title_text = \"Change in Temperature between 1880 ~ 2016\", title_x=0.5, title_font_family=\"Times New Roman\", \\\n",
    "                  title_font_size = 22, paper_bgcolor = 'rgba(233,233,233,1)', plot_bgcolor = 'rgba(240,235,228,1)')\n",
    "fig.show()"
   ]
  },
  {
   "cell_type": "markdown",
   "metadata": {},
   "source": [
    "## Smoother prediction line with Polynomial Features"
   ]
  },
  {
   "cell_type": "code",
   "execution_count": null,
   "metadata": {},
   "outputs": [],
   "source": [
    "from sklearn.preprocessing import PolynomialFeatures\n",
    "poly_reg = PolynomialFeatures(degree = 2)\n",
    "X_poly = poly_reg.fit_transform(X)\n",
    "poly_reg.fit(X_poly, GCAG_y)\n",
    "lin_reg_2 = LinearRegression()\n",
    "lin_reg_2.fit(X_poly, GCAG_y)"
   ]
  },
  {
   "cell_type": "code",
   "execution_count": null,
   "metadata": {},
   "outputs": [],
   "source": [
    "poly_reg.fit(X_poly, GISTEMP_y)\n",
    "lin_reg_3 = LinearRegression()\n",
    "lin_reg_3.fit(X_poly, GISTEMP_y)"
   ]
  },
  {
   "cell_type": "code",
   "execution_count": null,
   "metadata": {},
   "outputs": [],
   "source": [
    "pred_poly_gcag = lin_reg_2.predict(X_poly)"
   ]
  },
  {
   "cell_type": "code",
   "execution_count": null,
   "metadata": {},
   "outputs": [],
   "source": [
    "pred_poly_gistemp = lin_reg_3.predict(X_poly)"
   ]
  },
  {
   "cell_type": "code",
   "execution_count": null,
   "metadata": {
    "scrolled": false
   },
   "outputs": [],
   "source": [
    "fig = go.Figure( layout=go.Layout(\n",
    "        xaxis=dict(showgrid = True,title = \"Year\", title_font = dict(family = 'Times New Roman', size = 16), color = 'black'),\n",
    "        yaxis=dict(showgrid = True,title = \"Global Temperature Anomaly\", title_font = dict(family = 'Times New Roman', size = 16)\\\n",
    "                   , color = 'black'),\n",
    "    ))\n",
    "\n",
    "fig.add_trace(go.Scatter(\n",
    "                x=df_final.Year,\n",
    "                y=df_final['GCAG_Mean'],\n",
    "                name=\"GCAG_Mean\",\n",
    "                line_color='rgb(203, 67, 53)',\n",
    "                opacity=0.8))\n",
    "\n",
    "fig.add_trace(go.Scatter(\n",
    "                x=df_final.Year,\n",
    "                y=df_final['GISTEMP_Mean'],\n",
    "                name=\"GISTEMP_Mean\",\n",
    "                line_color='rgb(40, 116, 166)',\n",
    "                opacity=0.8))\n",
    "\n",
    "fig.add_trace(go.Scatter(\n",
    "                x = df_final.Year,\n",
    "                y = pred_poly_gcag,\n",
    "                name=\"GCAG_Predicted Poly\",\n",
    "                line_color='rgb(22, 160, 133)',\n",
    "                opacity=0.8))\n",
    "\n",
    "fig.add_trace(go.Scatter(\n",
    "                x = df_final.Year,\n",
    "                y = pred_poly_gistemp,\n",
    "                name=\"GISTEMP_Predicted Poly\",\n",
    "                line_color='rgb(142, 68, 173)',\n",
    "                opacity=0.8))\n",
    "\n",
    "# Use date string to set xaxis range\n",
    "fig.update_layout(title_text = \"Global Average Temperature 1880 - 2016\", title_x=0.5, title_font_family=\"Times New Roman\", \\\n",
    "                  title_font_size = 22, paper_bgcolor = 'rgba(233,233,233,1)', plot_bgcolor = 'rgba(240,235,228,1)')\n",
    "fig.show()"
   ]
  },
  {
   "cell_type": "markdown",
   "metadata": {},
   "source": [
    "## Prediction with a specific year as an argument\n",
    "Available from the starting year 1880 to infinity, based on the polynomial regression model"
   ]
  },
  {
   "cell_type": "code",
   "execution_count": null,
   "metadata": {},
   "outputs": [],
   "source": [
    "temp_rise_gcag = lin_reg_2.predict(poly_reg.fit_transform([[2020]]))\n",
    "temp_rise_gistemp = lin_reg_3.predict(poly_reg.fit_transform([[2020]]))\n",
    "print(\"The temperature rise in GCAG is {}, and GISTEMPT is {}\".format(temp_rise_gcag, temp_rise_gistemp))"
   ]
  },
  {
   "cell_type": "markdown",
   "metadata": {},
   "source": [
    " # Conclusion"
   ]
  },
  {
   "cell_type": "markdown",
   "metadata": {},
   "source": [
    "Based on the prediction model, the global mean temerature in the year 2020 was extimated to be 0.8220652, by GCAG, and 0.83537488, by GISTEMPT above the 1951 to 1980 average. And the value has been clearly increasing from the base period: 1951-1980. Therefore, this analysis concludes that global average temperature in increasing over time."
   ]
  },
  {
   "cell_type": "code",
   "execution_count": null,
   "metadata": {},
   "outputs": [],
   "source": []
  }
 ],
 "metadata": {
  "kernelspec": {
   "display_name": "Python 3",
   "language": "python",
   "name": "python3"
  },
  "language_info": {
   "codemirror_mode": {
    "name": "ipython",
    "version": 3
   },
   "file_extension": ".py",
   "mimetype": "text/x-python",
   "name": "python",
   "nbconvert_exporter": "python",
   "pygments_lexer": "ipython3",
   "version": "3.7.3"
  }
 },
 "nbformat": 4,
 "nbformat_minor": 4
}
