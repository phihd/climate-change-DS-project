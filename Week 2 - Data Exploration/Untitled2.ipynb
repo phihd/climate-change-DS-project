{
 "cells": [
  {
   "cell_type": "code",
   "execution_count": 1,
   "metadata": {},
   "outputs": [
    {
     "name": "stderr",
     "output_type": "stream",
     "text": [
      "C:\\Users\\ACER\\Anaconda3\\lib\\site-packages\\statsmodels\\tools\\_testing.py:19: FutureWarning: pandas.util.testing is deprecated. Use the functions in the public API at pandas.testing instead.\n",
      "  import pandas.util.testing as tm\n"
     ]
    }
   ],
   "source": [
    "import numpy as np\n",
    "import matplotlib.pyplot as plt\n",
    "import pandas as pd\n",
    "import seaborn as sns\n",
    "import statsmodels as sm\n",
    "from datetime import timedelta, datetime\n",
    "from sklearn.metrics import mean_squared_error, mean_absolute_error, r2_score\n",
    "import datetime"
   ]
  },
  {
   "cell_type": "code",
   "execution_count": 32,
   "metadata": {},
   "outputs": [],
   "source": [
    "df = pd.read_csv('GlobalLandTemperaturesByCountry.csv',header=None,\n",
    "                   names=['dt', 'AverageTemperature', 'AverageTemperatureUncertainty','Country'])\n",
    "df[df['Country'] == 'Vietnam']\n",
    "df2 = pd.DataFrame()\n",
    "df2['Year'] = df[df['Country'] == 'Vietnam']['dt']\n",
    "df2['Avg_Temp'] = df[df['Country'] == 'Vietnam']['AverageTemperature']\n",
    "df2 = df2[:-1]"
   ]
  },
  {
   "cell_type": "code",
   "execution_count": 37,
   "metadata": {},
   "outputs": [
    {
     "data": {
      "text/html": [
       "<div>\n",
       "<style scoped>\n",
       "    .dataframe tbody tr th:only-of-type {\n",
       "        vertical-align: middle;\n",
       "    }\n",
       "\n",
       "    .dataframe tbody tr th {\n",
       "        vertical-align: top;\n",
       "    }\n",
       "\n",
       "    .dataframe thead th {\n",
       "        text-align: right;\n",
       "    }\n",
       "</style>\n",
       "<table border=\"1\" class=\"dataframe\">\n",
       "  <thead>\n",
       "    <tr style=\"text-align: right;\">\n",
       "      <th></th>\n",
       "      <th>Avg_Temp</th>\n",
       "    </tr>\n",
       "    <tr>\n",
       "      <th>Year</th>\n",
       "      <th></th>\n",
       "    </tr>\n",
       "  </thead>\n",
       "  <tbody>\n",
       "    <tr>\n",
       "      <th>1825-01-01</th>\n",
       "      <td>19.539</td>\n",
       "    </tr>\n",
       "    <tr>\n",
       "      <th>1825-02-01</th>\n",
       "      <td>19.797</td>\n",
       "    </tr>\n",
       "    <tr>\n",
       "      <th>1825-03-01</th>\n",
       "      <td>22.176</td>\n",
       "    </tr>\n",
       "    <tr>\n",
       "      <th>1825-04-01</th>\n",
       "      <td>25.197</td>\n",
       "    </tr>\n",
       "    <tr>\n",
       "      <th>1825-05-01</th>\n",
       "      <td>26.235</td>\n",
       "    </tr>\n",
       "    <tr>\n",
       "      <th>...</th>\n",
       "      <td>...</td>\n",
       "    </tr>\n",
       "    <tr>\n",
       "      <th>2013-04-01</th>\n",
       "      <td>25.887</td>\n",
       "    </tr>\n",
       "    <tr>\n",
       "      <th>2013-05-01</th>\n",
       "      <td>27.443</td>\n",
       "    </tr>\n",
       "    <tr>\n",
       "      <th>2013-06-01</th>\n",
       "      <td>27.623</td>\n",
       "    </tr>\n",
       "    <tr>\n",
       "      <th>2013-07-01</th>\n",
       "      <td>27.109</td>\n",
       "    </tr>\n",
       "    <tr>\n",
       "      <th>2013-08-01</th>\n",
       "      <td>27.026</td>\n",
       "    </tr>\n",
       "  </tbody>\n",
       "</table>\n",
       "<p>2264 rows × 1 columns</p>\n",
       "</div>"
      ],
      "text/plain": [
       "            Avg_Temp\n",
       "Year                \n",
       "1825-01-01    19.539\n",
       "1825-02-01    19.797\n",
       "1825-03-01    22.176\n",
       "1825-04-01    25.197\n",
       "1825-05-01    26.235\n",
       "...              ...\n",
       "2013-04-01    25.887\n",
       "2013-05-01    27.443\n",
       "2013-06-01    27.623\n",
       "2013-07-01    27.109\n",
       "2013-08-01    27.026\n",
       "\n",
       "[2264 rows x 1 columns]"
      ]
     },
     "execution_count": 37,
     "metadata": {},
     "output_type": "execute_result"
    }
   ],
   "source": [
    "df2"
   ]
  },
  {
   "cell_type": "markdown",
   "metadata": {},
   "source": [
    "## 1. Facebook Prophet"
   ]
  },
  {
   "cell_type": "code",
   "execution_count": 33,
   "metadata": {},
   "outputs": [],
   "source": [
    "def prophet(df):\n",
    "    df2['Year'] = df2['Year'].apply(pd.to_datetime)\n",
    "    df2.set_index('Year', inplace = True)\n",
    "    df_train = df2.iloc[:1800]\n",
    "    df_test = df2.iloc[1800:]\n",
    "    \n",
    "    from fbprophet import Prophet\n",
    "    pp = Prophet()\n",
    "    df_prophet = pd.DataFrame()\n",
    "    df_prophet['ds'] = df_train.index.values\n",
    "    df_prophet['y'] = df_train['Avg_Temp'].values\n",
    "    pp.fit(df_prophet)\n",
    "    future = pd.DataFrame(data = df_test.index.values, columns = ['ds'])\n",
    "    forecast = pp.predict(future)\n",
    "    \n",
    "    print(\"RMSE:\", np.sqrt(mean_squared_error(df_test, forecast['yhat'])))\n",
    "    print(\"MAE:\", mean_absolute_error(df_test, forecast['yhat']))\n",
    "    print(\"R square score:\", r2_score(df_test, forecast['yhat']))"
   ]
  },
  {
   "cell_type": "code",
   "execution_count": 34,
   "metadata": {
    "scrolled": false
   },
   "outputs": [
    {
     "name": "stderr",
     "output_type": "stream",
     "text": [
      "INFO:fbprophet:Disabling weekly seasonality. Run prophet with weekly_seasonality=True to override this.\n",
      "INFO:fbprophet:Disabling daily seasonality. Run prophet with daily_seasonality=True to override this.\n",
      "C:\\Users\\ACER\\Anaconda3\\lib\\site-packages\\pystan\\misc.py:399: FutureWarning: Conversion of the second argument of issubdtype from `float` to `np.floating` is deprecated. In future, it will be treated as `np.float64 == np.dtype(float).type`.\n",
      "  elif np.issubdtype(np.asarray(v).dtype, float):\n"
     ]
    },
    {
     "name": "stdout",
     "output_type": "stream",
     "text": [
      "RMSE: 0.756842268130477\n",
      "MAE: 0.5680797875396175\n",
      "R square score: 0.9294796206120167\n"
     ]
    }
   ],
   "source": [
    "prophet(df2)"
   ]
  },
  {
   "cell_type": "code",
   "execution_count": 83,
   "metadata": {
    "scrolled": true
   },
   "outputs": [
    {
     "data": {
      "text/plain": [
       "2264"
      ]
     },
     "execution_count": 83,
     "metadata": {},
     "output_type": "execute_result"
    }
   ],
   "source": [
    "len(df2['Avg_Temp'].values.reshape(1,2264).flatten())"
   ]
  },
  {
   "cell_type": "code",
   "execution_count": 96,
   "metadata": {},
   "outputs": [
    {
     "data": {
      "text/html": [
       "<div>\n",
       "<style scoped>\n",
       "    .dataframe tbody tr th:only-of-type {\n",
       "        vertical-align: middle;\n",
       "    }\n",
       "\n",
       "    .dataframe tbody tr th {\n",
       "        vertical-align: top;\n",
       "    }\n",
       "\n",
       "    .dataframe thead th {\n",
       "        text-align: right;\n",
       "    }\n",
       "</style>\n",
       "<table border=\"1\" class=\"dataframe\">\n",
       "  <thead>\n",
       "    <tr style=\"text-align: right;\">\n",
       "      <th></th>\n",
       "      <th>Avg_Temp</th>\n",
       "    </tr>\n",
       "    <tr>\n",
       "      <th>Year</th>\n",
       "      <th></th>\n",
       "    </tr>\n",
       "  </thead>\n",
       "  <tbody>\n",
       "    <tr>\n",
       "      <th>1826-01-01</th>\n",
       "      <td>NaN</td>\n",
       "    </tr>\n",
       "    <tr>\n",
       "      <th>1826-02-01</th>\n",
       "      <td>NaN</td>\n",
       "    </tr>\n",
       "    <tr>\n",
       "      <th>1826-03-01</th>\n",
       "      <td>NaN</td>\n",
       "    </tr>\n",
       "    <tr>\n",
       "      <th>1826-04-01</th>\n",
       "      <td>NaN</td>\n",
       "    </tr>\n",
       "    <tr>\n",
       "      <th>1826-05-01</th>\n",
       "      <td>NaN</td>\n",
       "    </tr>\n",
       "    <tr>\n",
       "      <th>...</th>\n",
       "      <td>...</td>\n",
       "    </tr>\n",
       "    <tr>\n",
       "      <th>1862-08-01</th>\n",
       "      <td>NaN</td>\n",
       "    </tr>\n",
       "    <tr>\n",
       "      <th>1862-09-01</th>\n",
       "      <td>NaN</td>\n",
       "    </tr>\n",
       "    <tr>\n",
       "      <th>1862-10-01</th>\n",
       "      <td>NaN</td>\n",
       "    </tr>\n",
       "    <tr>\n",
       "      <th>1862-11-01</th>\n",
       "      <td>NaN</td>\n",
       "    </tr>\n",
       "    <tr>\n",
       "      <th>1862-12-01</th>\n",
       "      <td>NaN</td>\n",
       "    </tr>\n",
       "  </tbody>\n",
       "</table>\n",
       "<p>171 rows × 1 columns</p>\n",
       "</div>"
      ],
      "text/plain": [
       "            Avg_Temp\n",
       "Year                \n",
       "1826-01-01       NaN\n",
       "1826-02-01       NaN\n",
       "1826-03-01       NaN\n",
       "1826-04-01       NaN\n",
       "1826-05-01       NaN\n",
       "...              ...\n",
       "1862-08-01       NaN\n",
       "1862-09-01       NaN\n",
       "1862-10-01       NaN\n",
       "1862-11-01       NaN\n",
       "1862-12-01       NaN\n",
       "\n",
       "[171 rows x 1 columns]"
      ]
     },
     "execution_count": 96,
     "metadata": {},
     "output_type": "execute_result"
    }
   ],
   "source": [
    "df2[df2['Avg_Temp'].isnull()]"
   ]
  },
  {
   "cell_type": "code",
   "execution_count": 88,
   "metadata": {
    "scrolled": true
   },
   "outputs": [
    {
     "data": {
      "text/plain": [
       "array([19.539, 19.797, 22.176, ..., 27.623, 27.109, 27.026])"
      ]
     },
     "execution_count": 88,
     "metadata": {},
     "output_type": "execute_result"
    }
   ],
   "source": [
    "from sklearn.experimental import enable_iterative_imputer\n",
    "from sklearn.impute import IterativeImputer\n",
    "imputer = IterativeImputer()\n",
    "trans_data = imputer.fit_transform(df2['Avg_Temp'].values.reshape(1,2264))\n",
    "trans_data.flatten()"
   ]
  },
  {
   "cell_type": "code",
   "execution_count": 103,
   "metadata": {},
   "outputs": [
    {
     "data": {
      "text/plain": [
       "array([[1. , 2. , 3. , 4. , 5. , 6. , 7.5, 9. ],\n",
       "       [1. , 2. , 3. , 4. , 5. , 6. , 7. , 9. ],\n",
       "       [1. , 2. , 3. , 4. , 5. , 6. , 8. , 9. ]])"
      ]
     },
     "execution_count": 103,
     "metadata": {},
     "output_type": "execute_result"
    }
   ],
   "source": [
    "imputer.fit_transform(X = [[1,2,3,4,5,np.nan,np.nan,np.nan,9],[1,2,3,4,5,6,np.nan,7,9],[1,2,3,4,5,np.nan,np.nan,8,9]])"
   ]
  }
 ],
 "metadata": {
  "kernelspec": {
   "display_name": "Python 3",
   "language": "python",
   "name": "python3"
  },
  "language_info": {
   "codemirror_mode": {
    "name": "ipython",
    "version": 3
   },
   "file_extension": ".py",
   "mimetype": "text/x-python",
   "name": "python",
   "nbconvert_exporter": "python",
   "pygments_lexer": "ipython3",
   "version": "3.7.3"
  }
 },
 "nbformat": 4,
 "nbformat_minor": 2
}
