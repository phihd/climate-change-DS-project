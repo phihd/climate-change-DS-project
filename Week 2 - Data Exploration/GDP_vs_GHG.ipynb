{
 "cells": [
  {
   "cell_type": "code",
   "execution_count": 1,
   "metadata": {
    "scrolled": true
   },
   "outputs": [
    {
     "name": "stderr",
     "output_type": "stream",
     "text": [
      "C:\\Users\\ACER\\Anaconda3\\lib\\site-packages\\statsmodels\\tools\\_testing.py:19: FutureWarning: pandas.util.testing is deprecated. Use the functions in the public API at pandas.testing instead.\n",
      "  import pandas.util.testing as tm\n"
     ]
    },
    {
     "data": {
      "text/html": [
       "        <script type=\"text/javascript\">\n",
       "        window.PlotlyConfig = {MathJaxConfig: 'local'};\n",
       "        if (window.MathJax) {MathJax.Hub.Config({SVG: {font: \"STIX-Web\"}});}\n",
       "        if (typeof require !== 'undefined') {\n",
       "        require.undef(\"plotly\");\n",
       "        requirejs.config({\n",
       "            paths: {\n",
       "                'plotly': ['https://cdn.plot.ly/plotly-latest.min']\n",
       "            }\n",
       "        });\n",
       "        require(['plotly'], function(Plotly) {\n",
       "            window._Plotly = Plotly;\n",
       "        });\n",
       "        }\n",
       "        </script>\n",
       "        "
      ]
     },
     "metadata": {},
     "output_type": "display_data"
    },
    {
     "data": {
      "text/html": [
       "        <script type=\"text/javascript\">\n",
       "        window.PlotlyConfig = {MathJaxConfig: 'local'};\n",
       "        if (window.MathJax) {MathJax.Hub.Config({SVG: {font: \"STIX-Web\"}});}\n",
       "        if (typeof require !== 'undefined') {\n",
       "        require.undef(\"plotly\");\n",
       "        requirejs.config({\n",
       "            paths: {\n",
       "                'plotly': ['https://cdn.plot.ly/plotly-latest.min']\n",
       "            }\n",
       "        });\n",
       "        require(['plotly'], function(Plotly) {\n",
       "            window._Plotly = Plotly;\n",
       "        });\n",
       "        }\n",
       "        </script>\n",
       "        "
      ]
     },
     "metadata": {},
     "output_type": "display_data"
    }
   ],
   "source": [
    "import numpy as np\n",
    "import matplotlib.pyplot as plt\n",
    "import pandas as pd\n",
    "import seaborn as sns\n",
    "import statsmodels as sm\n",
    "from datetime import timedelta, datetime\n",
    "import plotly.graph_objs as go\n",
    "import plotly.express as ex\n",
    "from plotly.offline import iplot, init_notebook_mode\n",
    "import cufflinks\n",
    "cufflinks.go_offline(connected=True)\n",
    "init_notebook_mode(connected=True)\n",
    "from scipy.stats import pearsonr"
   ]
  },
  {
   "cell_type": "markdown",
   "metadata": {},
   "source": [
    "GDP per capita:"
   ]
  },
  {
   "cell_type": "code",
   "execution_count": 2,
   "metadata": {},
   "outputs": [
    {
     "name": "stdout",
     "output_type": "stream",
     "text": [
      "Missing value raio: 14.15/60 = 23.58%\n"
     ]
    }
   ],
   "source": [
    "GDP_data = pd.read_csv('API_NY.GDP.PCAP.CD_DS2_en_csv_v2_1429392.csv', skiprows = 4)\n",
    "GDP_data = GDP_data.drop(['Indicator Name', 'Indicator Code', 'Unnamed: 65'], axis = 1)\n",
    "missing = GDP_data.isna().sum(axis = 1).mean()\n",
    "print(\"Missing value raio: {:.2f}/{:d} = {:.2f}%\".format(missing, 2020 - 1960, 100*missing/(2020 - 1960)))\n",
    "#raw_data.isna().sum().head(50)"
   ]
  },
  {
   "cell_type": "markdown",
   "metadata": {},
   "source": [
    "GDP total:"
   ]
  },
  {
   "cell_type": "code",
   "execution_count": 3,
   "metadata": {},
   "outputs": [
    {
     "name": "stdout",
     "output_type": "stream",
     "text": [
      "Missing value raio: 14.15/60 = 23.58%\n"
     ]
    }
   ],
   "source": [
    "GDP_data_2 = pd.read_csv('API_NY.GDP.MKTP.CD_DS2_en_csv_v2_1495053.csv', skiprows = 4)\n",
    "GDP_data_2 = GDP_data_2.drop(['Indicator Name', 'Indicator Code', 'Unnamed: 65'], axis = 1)\n",
    "missing = GDP_data.isna().sum(axis = 1).mean()\n",
    "print(\"Missing value raio: {:.2f}/{:d} = {:.2f}%\".format(missing, 2020 - 1960, 100*missing/(2020 - 1960)))"
   ]
  },
  {
   "cell_type": "code",
   "execution_count": 4,
   "metadata": {},
   "outputs": [
    {
     "name": "stdout",
     "output_type": "stream",
     "text": [
      "Missing value raio: 22.97/60 = 38.29%\n"
     ]
    }
   ],
   "source": [
    "CO2_data = pd.read_csv('API_EN.ATM.GHGT.KT.CE_DS2_en_csv_v2_1429804.csv', skiprows = 4)\n",
    "CO2_data = CO2_data.drop(['Indicator Name', 'Indicator Code', 'Unnamed: 65'], axis = 1)\n",
    "missing = CO2_data.isna().sum(axis = 1).mean()\n",
    "print(\"Missing value raio: {:.2f}/{:d} = {:.2f}%\".format(missing, 2020 - 1960, 100*missing/(2020 - 1960)))\n",
    "#raw_data.isna().sum().head(50)"
   ]
  },
  {
   "cell_type": "code",
   "execution_count": 5,
   "metadata": {
    "scrolled": true
   },
   "outputs": [],
   "source": [
    "CO2_data_2 = pd.read_csv('annual-co-emissions-by-region.csv')\n",
    "CO2_data_2 = CO2_data_2[CO2_data_2['Year'] >= 1960]\n",
    "CO2_data_2.reset_index(drop = True, inplace = True)\n",
    "df = pd.DataFrame(columns = GDP_data.columns)\n",
    "#df"
   ]
  },
  {
   "cell_type": "code",
   "execution_count": 7,
   "metadata": {
    "scrolled": false
   },
   "outputs": [
    {
     "data": {
      "text/html": [
       "<div>\n",
       "<style scoped>\n",
       "    .dataframe tbody tr th:only-of-type {\n",
       "        vertical-align: middle;\n",
       "    }\n",
       "\n",
       "    .dataframe tbody tr th {\n",
       "        vertical-align: top;\n",
       "    }\n",
       "\n",
       "    .dataframe thead th {\n",
       "        text-align: right;\n",
       "    }\n",
       "</style>\n",
       "<table border=\"1\" class=\"dataframe\">\n",
       "  <thead>\n",
       "    <tr style=\"text-align: right;\">\n",
       "      <th></th>\n",
       "      <th>Country Name</th>\n",
       "      <th>Country Code</th>\n",
       "      <th>1960</th>\n",
       "      <th>1961</th>\n",
       "      <th>1962</th>\n",
       "      <th>1963</th>\n",
       "      <th>1964</th>\n",
       "      <th>1965</th>\n",
       "      <th>1966</th>\n",
       "      <th>1967</th>\n",
       "      <th>...</th>\n",
       "      <th>2011</th>\n",
       "      <th>2012</th>\n",
       "      <th>2013</th>\n",
       "      <th>2014</th>\n",
       "      <th>2015</th>\n",
       "      <th>2016</th>\n",
       "      <th>2017</th>\n",
       "      <th>2018</th>\n",
       "      <th>2019</th>\n",
       "      <th>2020</th>\n",
       "    </tr>\n",
       "  </thead>\n",
       "  <tbody>\n",
       "    <tr>\n",
       "      <th>0</th>\n",
       "      <td>Aruba</td>\n",
       "      <td>ABW</td>\n",
       "      <td>0.618561</td>\n",
       "      <td>0.645553</td>\n",
       "      <td>0.708942</td>\n",
       "      <td>0.679088</td>\n",
       "      <td>0.660275</td>\n",
       "      <td>0.592387</td>\n",
       "      <td>0.553944</td>\n",
       "      <td>0.682359</td>\n",
       "      <td>...</td>\n",
       "      <td>2.49885</td>\n",
       "      <td>1.34835</td>\n",
       "      <td>0.86104</td>\n",
       "      <td>0.872032</td>\n",
       "      <td>0.89768</td>\n",
       "      <td>0.883024</td>\n",
       "      <td>0.89074</td>\n",
       "      <td>0.897147</td>\n",
       "      <td>NaN</td>\n",
       "      <td>NaN</td>\n",
       "    </tr>\n",
       "    <tr>\n",
       "      <th>1</th>\n",
       "      <td>Afghanistan</td>\n",
       "      <td>AFG</td>\n",
       "      <td>0.413885</td>\n",
       "      <td>0.490798</td>\n",
       "      <td>0.688594</td>\n",
       "      <td>0.706736</td>\n",
       "      <td>0.838551</td>\n",
       "      <td>1.00692</td>\n",
       "      <td>1.09116</td>\n",
       "      <td>1.28187</td>\n",
       "      <td>...</td>\n",
       "      <td>12.226</td>\n",
       "      <td>10.7421</td>\n",
       "      <td>9.03678</td>\n",
       "      <td>8.44988</td>\n",
       "      <td>9.01951</td>\n",
       "      <td>8.65335</td>\n",
       "      <td>8.97107</td>\n",
       "      <td>9.43879</td>\n",
       "      <td>NaN</td>\n",
       "      <td>NaN</td>\n",
       "    </tr>\n",
       "    <tr>\n",
       "      <th>2</th>\n",
       "      <td>Angola</td>\n",
       "      <td>AGO</td>\n",
       "      <td>0.548951</td>\n",
       "      <td>0.453707</td>\n",
       "      <td>1.17913</td>\n",
       "      <td>1.14972</td>\n",
       "      <td>1.22291</td>\n",
       "      <td>1.18616</td>\n",
       "      <td>1.55247</td>\n",
       "      <td>0.991815</td>\n",
       "      <td>...</td>\n",
       "      <td>30.3297</td>\n",
       "      <td>33.8006</td>\n",
       "      <td>33.2285</td>\n",
       "      <td>44.2489</td>\n",
       "      <td>33.979</td>\n",
       "      <td>34.1109</td>\n",
       "      <td>34.112</td>\n",
       "      <td>34.5372</td>\n",
       "      <td>NaN</td>\n",
       "      <td>NaN</td>\n",
       "    </tr>\n",
       "    <tr>\n",
       "      <th>3</th>\n",
       "      <td>Albania</td>\n",
       "      <td>ALB</td>\n",
       "      <td>2.02253</td>\n",
       "      <td>2.27901</td>\n",
       "      <td>2.46221</td>\n",
       "      <td>2.08115</td>\n",
       "      <td>2.0152</td>\n",
       "      <td>2.17275</td>\n",
       "      <td>2.55014</td>\n",
       "      <td>2.67838</td>\n",
       "      <td>...</td>\n",
       "      <td>5.23586</td>\n",
       "      <td>4.92075</td>\n",
       "      <td>4.90976</td>\n",
       "      <td>5.48501</td>\n",
       "      <td>4.61298</td>\n",
       "      <td>4.53237</td>\n",
       "      <td>4.65135</td>\n",
       "      <td>4.56996</td>\n",
       "      <td>NaN</td>\n",
       "      <td>NaN</td>\n",
       "    </tr>\n",
       "    <tr>\n",
       "      <th>4</th>\n",
       "      <td>Andorra</td>\n",
       "      <td>AND</td>\n",
       "      <td>NaN</td>\n",
       "      <td>NaN</td>\n",
       "      <td>NaN</td>\n",
       "      <td>NaN</td>\n",
       "      <td>NaN</td>\n",
       "      <td>NaN</td>\n",
       "      <td>NaN</td>\n",
       "      <td>NaN</td>\n",
       "      <td>...</td>\n",
       "      <td>0.490976</td>\n",
       "      <td>0.487312</td>\n",
       "      <td>0.47632</td>\n",
       "      <td>0.461664</td>\n",
       "      <td>0.465328</td>\n",
       "      <td>0.468992</td>\n",
       "      <td>0.482251</td>\n",
       "      <td>0.470909</td>\n",
       "      <td>NaN</td>\n",
       "      <td>NaN</td>\n",
       "    </tr>\n",
       "    <tr>\n",
       "      <th>...</th>\n",
       "      <td>...</td>\n",
       "      <td>...</td>\n",
       "      <td>...</td>\n",
       "      <td>...</td>\n",
       "      <td>...</td>\n",
       "      <td>...</td>\n",
       "      <td>...</td>\n",
       "      <td>...</td>\n",
       "      <td>...</td>\n",
       "      <td>...</td>\n",
       "      <td>...</td>\n",
       "      <td>...</td>\n",
       "      <td>...</td>\n",
       "      <td>...</td>\n",
       "      <td>...</td>\n",
       "      <td>...</td>\n",
       "      <td>...</td>\n",
       "      <td>...</td>\n",
       "      <td>...</td>\n",
       "      <td>...</td>\n",
       "      <td>...</td>\n",
       "    </tr>\n",
       "    <tr>\n",
       "      <th>259</th>\n",
       "      <td>Kosovo</td>\n",
       "      <td>XKX</td>\n",
       "      <td>NaN</td>\n",
       "      <td>NaN</td>\n",
       "      <td>NaN</td>\n",
       "      <td>NaN</td>\n",
       "      <td>NaN</td>\n",
       "      <td>NaN</td>\n",
       "      <td>NaN</td>\n",
       "      <td>NaN</td>\n",
       "      <td>...</td>\n",
       "      <td>8.36125</td>\n",
       "      <td>7.93622</td>\n",
       "      <td>8.06813</td>\n",
       "      <td>7.25472</td>\n",
       "      <td>8.40155</td>\n",
       "      <td>8.9365</td>\n",
       "      <td>8.92947</td>\n",
       "      <td>8.88676</td>\n",
       "      <td>NaN</td>\n",
       "      <td>NaN</td>\n",
       "    </tr>\n",
       "    <tr>\n",
       "      <th>260</th>\n",
       "      <td>Yemen, Rep.</td>\n",
       "      <td>YEM</td>\n",
       "      <td>NaN</td>\n",
       "      <td>NaN</td>\n",
       "      <td>NaN</td>\n",
       "      <td>NaN</td>\n",
       "      <td>NaN</td>\n",
       "      <td>NaN</td>\n",
       "      <td>NaN</td>\n",
       "      <td>NaN</td>\n",
       "      <td>...</td>\n",
       "      <td>NaN</td>\n",
       "      <td>NaN</td>\n",
       "      <td>NaN</td>\n",
       "      <td>NaN</td>\n",
       "      <td>NaN</td>\n",
       "      <td>NaN</td>\n",
       "      <td>NaN</td>\n",
       "      <td>NaN</td>\n",
       "      <td>NaN</td>\n",
       "      <td>NaN</td>\n",
       "    </tr>\n",
       "    <tr>\n",
       "      <th>261</th>\n",
       "      <td>South Africa</td>\n",
       "      <td>ZAF</td>\n",
       "      <td>97.8435</td>\n",
       "      <td>102.12</td>\n",
       "      <td>105.67</td>\n",
       "      <td>109.725</td>\n",
       "      <td>119.546</td>\n",
       "      <td>128.14</td>\n",
       "      <td>128.235</td>\n",
       "      <td>133.76</td>\n",
       "      <td>...</td>\n",
       "      <td>475.814</td>\n",
       "      <td>462.949</td>\n",
       "      <td>457.441</td>\n",
       "      <td>482.764</td>\n",
       "      <td>462.3</td>\n",
       "      <td>474.981</td>\n",
       "      <td>462.812</td>\n",
       "      <td>467.562</td>\n",
       "      <td>NaN</td>\n",
       "      <td>NaN</td>\n",
       "    </tr>\n",
       "    <tr>\n",
       "      <th>262</th>\n",
       "      <td>Zambia</td>\n",
       "      <td>ZMB</td>\n",
       "      <td>4.35526</td>\n",
       "      <td>3.70897</td>\n",
       "      <td>3.58269</td>\n",
       "      <td>3.44449</td>\n",
       "      <td>3.27499</td>\n",
       "      <td>3.91226</td>\n",
       "      <td>3.49823</td>\n",
       "      <td>4.78763</td>\n",
       "      <td>...</td>\n",
       "      <td>2.78152</td>\n",
       "      <td>3.4891</td>\n",
       "      <td>3.75614</td>\n",
       "      <td>4.25573</td>\n",
       "      <td>4.29582</td>\n",
       "      <td>4.83785</td>\n",
       "      <td>5.12156</td>\n",
       "      <td>5.22804</td>\n",
       "      <td>NaN</td>\n",
       "      <td>NaN</td>\n",
       "    </tr>\n",
       "    <tr>\n",
       "      <th>263</th>\n",
       "      <td>Zimbabwe</td>\n",
       "      <td>ZWE</td>\n",
       "      <td>5.94312</td>\n",
       "      <td>5.06126</td>\n",
       "      <td>4.88896</td>\n",
       "      <td>4.70038</td>\n",
       "      <td>4.46907</td>\n",
       "      <td>5.2092</td>\n",
       "      <td>6.04093</td>\n",
       "      <td>5.29448</td>\n",
       "      <td>...</td>\n",
       "      <td>9.49847</td>\n",
       "      <td>7.69521</td>\n",
       "      <td>11.6315</td>\n",
       "      <td>11.9616</td>\n",
       "      <td>12.1631</td>\n",
       "      <td>10.8074</td>\n",
       "      <td>12.0259</td>\n",
       "      <td>12.2627</td>\n",
       "      <td>NaN</td>\n",
       "      <td>NaN</td>\n",
       "    </tr>\n",
       "  </tbody>\n",
       "</table>\n",
       "<p>264 rows × 63 columns</p>\n",
       "</div>"
      ],
      "text/plain": [
       "     Country Name Country Code      1960      1961      1962      1963  \\\n",
       "0           Aruba          ABW  0.618561  0.645553  0.708942  0.679088   \n",
       "1     Afghanistan          AFG  0.413885  0.490798  0.688594  0.706736   \n",
       "2          Angola          AGO  0.548951  0.453707   1.17913   1.14972   \n",
       "3         Albania          ALB   2.02253   2.27901   2.46221   2.08115   \n",
       "4         Andorra          AND       NaN       NaN       NaN       NaN   \n",
       "..            ...          ...       ...       ...       ...       ...   \n",
       "259        Kosovo          XKX       NaN       NaN       NaN       NaN   \n",
       "260   Yemen, Rep.          YEM       NaN       NaN       NaN       NaN   \n",
       "261  South Africa          ZAF   97.8435    102.12    105.67   109.725   \n",
       "262        Zambia          ZMB   4.35526   3.70897   3.58269   3.44449   \n",
       "263      Zimbabwe          ZWE   5.94312   5.06126   4.88896   4.70038   \n",
       "\n",
       "         1964      1965      1966      1967  ...      2011      2012     2013  \\\n",
       "0    0.660275  0.592387  0.553944  0.682359  ...   2.49885   1.34835  0.86104   \n",
       "1    0.838551   1.00692   1.09116   1.28187  ...    12.226   10.7421  9.03678   \n",
       "2     1.22291   1.18616   1.55247  0.991815  ...   30.3297   33.8006  33.2285   \n",
       "3      2.0152   2.17275   2.55014   2.67838  ...   5.23586   4.92075  4.90976   \n",
       "4         NaN       NaN       NaN       NaN  ...  0.490976  0.487312  0.47632   \n",
       "..        ...       ...       ...       ...  ...       ...       ...      ...   \n",
       "259       NaN       NaN       NaN       NaN  ...   8.36125   7.93622  8.06813   \n",
       "260       NaN       NaN       NaN       NaN  ...       NaN       NaN      NaN   \n",
       "261   119.546    128.14   128.235    133.76  ...   475.814   462.949  457.441   \n",
       "262   3.27499   3.91226   3.49823   4.78763  ...   2.78152    3.4891  3.75614   \n",
       "263   4.46907    5.2092   6.04093   5.29448  ...   9.49847   7.69521  11.6315   \n",
       "\n",
       "         2014      2015      2016      2017      2018 2019 2020  \n",
       "0    0.872032   0.89768  0.883024   0.89074  0.897147  NaN  NaN  \n",
       "1     8.44988   9.01951   8.65335   8.97107   9.43879  NaN  NaN  \n",
       "2     44.2489    33.979   34.1109    34.112   34.5372  NaN  NaN  \n",
       "3     5.48501   4.61298   4.53237   4.65135   4.56996  NaN  NaN  \n",
       "4    0.461664  0.465328  0.468992  0.482251  0.470909  NaN  NaN  \n",
       "..        ...       ...       ...       ...       ...  ...  ...  \n",
       "259   7.25472   8.40155    8.9365   8.92947   8.88676  NaN  NaN  \n",
       "260       NaN       NaN       NaN       NaN       NaN  NaN  NaN  \n",
       "261   482.764     462.3   474.981   462.812   467.562  NaN  NaN  \n",
       "262   4.25573   4.29582   4.83785   5.12156   5.22804  NaN  NaN  \n",
       "263   11.9616   12.1631   10.8074   12.0259   12.2627  NaN  NaN  \n",
       "\n",
       "[264 rows x 63 columns]"
      ]
     },
     "execution_count": 7,
     "metadata": {},
     "output_type": "execute_result"
    }
   ],
   "source": [
    "df = pd.DataFrame(columns = GDP_data.columns)\n",
    "df['Country Name'] = GDP_data['Country Name']\n",
    "df['Country Code'] = GDP_data['Country Code']\n",
    "for i in range(CO2_data_2.index.size):\n",
    "    row = CO2_data_2.loc[i]\n",
    "    #df[df['Country Name'] == row['Entity']][str(row['Year'])] = row['Annual CO2 emissions']\n",
    "    df.loc[df['Country Name'] == row['Entity'], str(row['Year'])] = row['Annual CO2 emissions']\n",
    "df[df['Country Name'] == 'North America']\n",
    "df"
   ]
  },
  {
   "cell_type": "raw",
   "metadata": {
    "scrolled": true
   },
   "source": [
    "df['tmp'] = 0\n",
    "df.fillna(df.median(), inplace = True)\n",
    "df.drop('tmp', axis = 'columns', inplace = True)\n",
    "GDP_data_2.fillna(GDP_data_2.median(), inplace = True)\n",
    "GDP_data.fillna(GDP_data_2.median(), inplace = True)\n",
    "GDP_data"
   ]
  },
  {
   "cell_type": "code",
   "execution_count": 8,
   "metadata": {},
   "outputs": [],
   "source": [
    "# 1960 - 2018\n",
    "def corr_by_country(name):\n",
    "    x = GDP_data_2[GDP_data_2['Country Name'] == name].drop(['Country Name', 'Country Code'], axis = 1).values.flatten()[:-2]\n",
    "    y = df[df['Country Name'] == name].drop(['Country Name', 'Country Code'], axis = 1).values.flatten()[:-2]\n",
    "    while len(x) > 0 and len(y) > 0 and (pd.isna(x[0]) or pd.isna(y[0])):\n",
    "        x = x[1:]\n",
    "        y = y[1:]\n",
    "    if len(x) > 0 and len(y) > 0:\n",
    "        corr, _ = pearsonr(x, y)\n",
    "    else:\n",
    "        corr = pd.NA\n",
    "    return x, y, corr\n",
    "\n",
    "def corr_by_country_PC(name):\n",
    "    x = GDP_data[GDP_data['Country Name'] == name].drop(['Country Name', 'Country Code'], axis = 1).values.flatten()[:-2]\n",
    "    y = df[df['Country Name'] == name].drop(['Country Name', 'Country Code'], axis = 1).values.flatten()[:-2]\n",
    "    while len(x) > 0 and len(y) > 0 and (pd.isna(x[0]) or pd.isna(y[0])):\n",
    "        x = x[1:]\n",
    "        y = y[1:]\n",
    "    if len(x) > 0 and len(y) > 0:\n",
    "        corr, _ = pearsonr(x, y)\n",
    "    else:\n",
    "        corr = pd.NA\n",
    "    return x, y, corr"
   ]
  },
  {
   "cell_type": "code",
   "execution_count": 9,
   "metadata": {
    "scrolled": true
   },
   "outputs": [
    {
     "name": "stdout",
     "output_type": "stream",
     "text": [
      "Mean corr =  0.6533176371463502\n",
      "Mean corr PC =  0.63836684099107\n"
     ]
    }
   ],
   "source": [
    "mean_corr = 0\n",
    "mean_corr_2 = 0\n",
    "corr_list = []\n",
    "corr_PC_list = []\n",
    "n1 = 0\n",
    "n2 = 0\n",
    "for index, row in df.iterrows():\n",
    "    _, _, corr = corr_by_country(row['Country Name'])\n",
    "    corr_list.append(corr)\n",
    "    if not pd.isna(corr):\n",
    "        n1 += 1\n",
    "        mean_corr += corr\n",
    "    \n",
    "    _, _, corr = corr_by_country_PC(row['Country Name'])\n",
    "    corr_PC_list.append(corr)\n",
    "    if not pd.isna(corr):\n",
    "        n2 += 1\n",
    "        mean_corr_2 += corr\n",
    "mean_corr /= n1\n",
    "mean_corr_2 /= n2\n",
    "print(\"Mean corr = \", mean_corr)\n",
    "print(\"Mean corr PC = \", mean_corr_2)"
   ]
  },
  {
   "cell_type": "code",
   "execution_count": 29,
   "metadata": {
    "scrolled": true
   },
   "outputs": [
    {
     "data": {
      "text/html": [
       "<div>\n",
       "<style scoped>\n",
       "    .dataframe tbody tr th:only-of-type {\n",
       "        vertical-align: middle;\n",
       "    }\n",
       "\n",
       "    .dataframe tbody tr th {\n",
       "        vertical-align: top;\n",
       "    }\n",
       "\n",
       "    .dataframe thead th {\n",
       "        text-align: right;\n",
       "    }\n",
       "</style>\n",
       "<table border=\"1\" class=\"dataframe\">\n",
       "  <thead>\n",
       "    <tr style=\"text-align: right;\">\n",
       "      <th></th>\n",
       "      <th>Country Name</th>\n",
       "      <th>Country Code</th>\n",
       "      <th>1960</th>\n",
       "      <th>1961</th>\n",
       "      <th>1962</th>\n",
       "      <th>1963</th>\n",
       "      <th>1964</th>\n",
       "      <th>1965</th>\n",
       "      <th>1966</th>\n",
       "      <th>1967</th>\n",
       "      <th>...</th>\n",
       "      <th>2011</th>\n",
       "      <th>2012</th>\n",
       "      <th>2013</th>\n",
       "      <th>2014</th>\n",
       "      <th>2015</th>\n",
       "      <th>2016</th>\n",
       "      <th>2017</th>\n",
       "      <th>2018</th>\n",
       "      <th>Corr</th>\n",
       "      <th>Corr PC</th>\n",
       "    </tr>\n",
       "  </thead>\n",
       "  <tbody>\n",
       "    <tr>\n",
       "      <th>257</th>\n",
       "      <td>World</td>\n",
       "      <td>WLD</td>\n",
       "      <td>9410.53</td>\n",
       "      <td>9452.11</td>\n",
       "      <td>9838.2</td>\n",
       "      <td>10379.1</td>\n",
       "      <td>10969.3</td>\n",
       "      <td>11466.2</td>\n",
       "      <td>12045.6</td>\n",
       "      <td>12431</td>\n",
       "      <td>...</td>\n",
       "      <td>34357.4</td>\n",
       "      <td>34919.3</td>\n",
       "      <td>35207.9</td>\n",
       "      <td>35505.8</td>\n",
       "      <td>35462.7</td>\n",
       "      <td>35675.1</td>\n",
       "      <td>36153.3</td>\n",
       "      <td>36572.8</td>\n",
       "      <td>0.968426</td>\n",
       "      <td>0.981819</td>\n",
       "    </tr>\n",
       "    <tr>\n",
       "      <th>38</th>\n",
       "      <td>China</td>\n",
       "      <td>CHN</td>\n",
       "      <td>778.979</td>\n",
       "      <td>550.959</td>\n",
       "      <td>439.342</td>\n",
       "      <td>435.518</td>\n",
       "      <td>435.704</td>\n",
       "      <td>474.681</td>\n",
       "      <td>521.459</td>\n",
       "      <td>432.224</td>\n",
       "      <td>...</td>\n",
       "      <td>9388.2</td>\n",
       "      <td>9633.9</td>\n",
       "      <td>9796.53</td>\n",
       "      <td>9820.36</td>\n",
       "      <td>9716.47</td>\n",
       "      <td>9704.48</td>\n",
       "      <td>9838.75</td>\n",
       "      <td>10064.7</td>\n",
       "      <td>0.928588</td>\n",
       "      <td>0.933004</td>\n",
       "    </tr>\n",
       "    <tr>\n",
       "      <th>168</th>\n",
       "      <td>North America</td>\n",
       "      <td>NAC</td>\n",
       "      <td>3179.81</td>\n",
       "      <td>3175.03</td>\n",
       "      <td>3299.67</td>\n",
       "      <td>3431.66</td>\n",
       "      <td>3609.69</td>\n",
       "      <td>3760.3</td>\n",
       "      <td>3944.27</td>\n",
       "      <td>4115.02</td>\n",
       "      <td>...</td>\n",
       "      <td>6805.62</td>\n",
       "      <td>6613.5</td>\n",
       "      <td>6767.7</td>\n",
       "      <td>6808.88</td>\n",
       "      <td>6662.18</td>\n",
       "      <td>6535.3</td>\n",
       "      <td>6513.05</td>\n",
       "      <td>6645.03</td>\n",
       "      <td>0.812801</td>\n",
       "      <td>0.850652</td>\n",
       "    </tr>\n",
       "    <tr>\n",
       "      <th>249</th>\n",
       "      <td>United States</td>\n",
       "      <td>USA</td>\n",
       "      <td>2887.82</td>\n",
       "      <td>2877.37</td>\n",
       "      <td>2984</td>\n",
       "      <td>3116.02</td>\n",
       "      <td>3252.76</td>\n",
       "      <td>3388.19</td>\n",
       "      <td>3559.18</td>\n",
       "      <td>3693.3</td>\n",
       "      <td>...</td>\n",
       "      <td>5572.58</td>\n",
       "      <td>5371.78</td>\n",
       "      <td>5522.91</td>\n",
       "      <td>5572.11</td>\n",
       "      <td>5422.97</td>\n",
       "      <td>5306.66</td>\n",
       "      <td>5270.75</td>\n",
       "      <td>5416.28</td>\n",
       "      <td>0.76455</td>\n",
       "      <td>0.805148</td>\n",
       "    </tr>\n",
       "    <tr>\n",
       "      <th>107</th>\n",
       "      <td>India</td>\n",
       "      <td>IND</td>\n",
       "      <td>120.576</td>\n",
       "      <td>130.393</td>\n",
       "      <td>143.452</td>\n",
       "      <td>154.068</td>\n",
       "      <td>150.639</td>\n",
       "      <td>165.961</td>\n",
       "      <td>171.688</td>\n",
       "      <td>172.093</td>\n",
       "      <td>...</td>\n",
       "      <td>1811.96</td>\n",
       "      <td>1979.05</td>\n",
       "      <td>1994.1</td>\n",
       "      <td>2199.4</td>\n",
       "      <td>2298.17</td>\n",
       "      <td>2371.75</td>\n",
       "      <td>2456.95</td>\n",
       "      <td>2654.1</td>\n",
       "      <td>0.972368</td>\n",
       "      <td>0.975817</td>\n",
       "    </tr>\n",
       "  </tbody>\n",
       "</table>\n",
       "<p>5 rows × 63 columns</p>\n",
       "</div>"
      ],
      "text/plain": [
       "      Country Name Country Code     1960     1961     1962     1963     1964  \\\n",
       "257          World          WLD  9410.53  9452.11   9838.2  10379.1  10969.3   \n",
       "38           China          CHN  778.979  550.959  439.342  435.518  435.704   \n",
       "168  North America          NAC  3179.81  3175.03  3299.67  3431.66  3609.69   \n",
       "249  United States          USA  2887.82  2877.37     2984  3116.02  3252.76   \n",
       "107          India          IND  120.576  130.393  143.452  154.068  150.639   \n",
       "\n",
       "        1965     1966     1967  ...     2011     2012     2013     2014  \\\n",
       "257  11466.2  12045.6    12431  ...  34357.4  34919.3  35207.9  35505.8   \n",
       "38   474.681  521.459  432.224  ...   9388.2   9633.9  9796.53  9820.36   \n",
       "168   3760.3  3944.27  4115.02  ...  6805.62   6613.5   6767.7  6808.88   \n",
       "249  3388.19  3559.18   3693.3  ...  5572.58  5371.78  5522.91  5572.11   \n",
       "107  165.961  171.688  172.093  ...  1811.96  1979.05   1994.1   2199.4   \n",
       "\n",
       "        2015     2016     2017     2018      Corr   Corr PC  \n",
       "257  35462.7  35675.1  36153.3  36572.8  0.968426  0.981819  \n",
       "38   9716.47  9704.48  9838.75  10064.7  0.928588  0.933004  \n",
       "168  6662.18   6535.3  6513.05  6645.03  0.812801  0.850652  \n",
       "249  5422.97  5306.66  5270.75  5416.28   0.76455  0.805148  \n",
       "107  2298.17  2371.75  2456.95   2654.1  0.972368  0.975817  \n",
       "\n",
       "[5 rows x 63 columns]"
      ]
     },
     "execution_count": 29,
     "metadata": {},
     "output_type": "execute_result"
    }
   ],
   "source": [
    "df1 = df.drop(['2019', '2020'], axis = 'columns')\n",
    "df1['Corr'] = corr_list\n",
    "df1['Corr PC'] = corr_PC_list\n",
    "df1 = df1.sort_values(by=['2018'], ascending = False)\n",
    "df1.head()"
   ]
  },
  {
   "cell_type": "code",
   "execution_count": 30,
   "metadata": {},
   "outputs": [
    {
     "data": {
      "text/html": [
       "<div>\n",
       "<style scoped>\n",
       "    .dataframe tbody tr th:only-of-type {\n",
       "        vertical-align: middle;\n",
       "    }\n",
       "\n",
       "    .dataframe tbody tr th {\n",
       "        vertical-align: top;\n",
       "    }\n",
       "\n",
       "    .dataframe thead th {\n",
       "        text-align: right;\n",
       "    }\n",
       "</style>\n",
       "<table border=\"1\" class=\"dataframe\">\n",
       "  <thead>\n",
       "    <tr style=\"text-align: right;\">\n",
       "      <th></th>\n",
       "      <th>Country Name</th>\n",
       "      <th>CO2 2018</th>\n",
       "      <th>GDP_Corr</th>\n",
       "      <th>GDP_PC_Corr</th>\n",
       "    </tr>\n",
       "  </thead>\n",
       "  <tbody>\n",
       "    <tr>\n",
       "      <th>257</th>\n",
       "      <td>World</td>\n",
       "      <td>36572.8</td>\n",
       "      <td>0.968426</td>\n",
       "      <td>0.981819</td>\n",
       "    </tr>\n",
       "    <tr>\n",
       "      <th>38</th>\n",
       "      <td>China</td>\n",
       "      <td>10064.7</td>\n",
       "      <td>0.928588</td>\n",
       "      <td>0.933004</td>\n",
       "    </tr>\n",
       "    <tr>\n",
       "      <th>168</th>\n",
       "      <td>North America</td>\n",
       "      <td>6645.03</td>\n",
       "      <td>0.812801</td>\n",
       "      <td>0.850652</td>\n",
       "    </tr>\n",
       "    <tr>\n",
       "      <th>249</th>\n",
       "      <td>United States</td>\n",
       "      <td>5416.28</td>\n",
       "      <td>0.76455</td>\n",
       "      <td>0.805148</td>\n",
       "    </tr>\n",
       "    <tr>\n",
       "      <th>107</th>\n",
       "      <td>India</td>\n",
       "      <td>2654.1</td>\n",
       "      <td>0.972368</td>\n",
       "      <td>0.975817</td>\n",
       "    </tr>\n",
       "    <tr>\n",
       "      <th>117</th>\n",
       "      <td>Japan</td>\n",
       "      <td>1161.98</td>\n",
       "      <td>0.871705</td>\n",
       "      <td>0.875774</td>\n",
       "    </tr>\n",
       "    <tr>\n",
       "      <th>53</th>\n",
       "      <td>Germany</td>\n",
       "      <td>759.002</td>\n",
       "      <td>-0.934258</td>\n",
       "      <td>-0.930368</td>\n",
       "    </tr>\n",
       "    <tr>\n",
       "      <th>203</th>\n",
       "      <td>Saudi Arabia</td>\n",
       "      <td>621.302</td>\n",
       "      <td>0.946607</td>\n",
       "      <td>0.850619</td>\n",
       "    </tr>\n",
       "    <tr>\n",
       "      <th>104</th>\n",
       "      <td>Indonesia</td>\n",
       "      <td>614.916</td>\n",
       "      <td>0.921116</td>\n",
       "      <td>0.927406</td>\n",
       "    </tr>\n",
       "    <tr>\n",
       "      <th>33</th>\n",
       "      <td>Canada</td>\n",
       "      <td>568.412</td>\n",
       "      <td>0.824698</td>\n",
       "      <td>0.8556</td>\n",
       "    </tr>\n",
       "    <tr>\n",
       "      <th>152</th>\n",
       "      <td>Mexico</td>\n",
       "      <td>477.322</td>\n",
       "      <td>0.907778</td>\n",
       "      <td>0.936759</td>\n",
       "    </tr>\n",
       "    <tr>\n",
       "      <th>261</th>\n",
       "      <td>South Africa</td>\n",
       "      <td>467.562</td>\n",
       "      <td>0.904381</td>\n",
       "      <td>0.925232</td>\n",
       "    </tr>\n",
       "    <tr>\n",
       "      <th>27</th>\n",
       "      <td>Brazil</td>\n",
       "      <td>457.19</td>\n",
       "      <td>0.916902</td>\n",
       "      <td>0.922511</td>\n",
       "    </tr>\n",
       "    <tr>\n",
       "      <th>242</th>\n",
       "      <td>Turkey</td>\n",
       "      <td>428.18</td>\n",
       "      <td>0.945286</td>\n",
       "      <td>0.948271</td>\n",
       "    </tr>\n",
       "    <tr>\n",
       "      <th>11</th>\n",
       "      <td>Australia</td>\n",
       "      <td>420.221</td>\n",
       "      <td>0.849641</td>\n",
       "      <td>0.881371</td>\n",
       "    </tr>\n",
       "  </tbody>\n",
       "</table>\n",
       "</div>"
      ],
      "text/plain": [
       "      Country Name CO2 2018  GDP_Corr GDP_PC_Corr\n",
       "257          World  36572.8  0.968426    0.981819\n",
       "38           China  10064.7  0.928588    0.933004\n",
       "168  North America  6645.03  0.812801    0.850652\n",
       "249  United States  5416.28   0.76455    0.805148\n",
       "107          India   2654.1  0.972368    0.975817\n",
       "117          Japan  1161.98  0.871705    0.875774\n",
       "53         Germany  759.002 -0.934258   -0.930368\n",
       "203   Saudi Arabia  621.302  0.946607    0.850619\n",
       "104      Indonesia  614.916  0.921116    0.927406\n",
       "33          Canada  568.412  0.824698      0.8556\n",
       "152         Mexico  477.322  0.907778    0.936759\n",
       "261   South Africa  467.562  0.904381    0.925232\n",
       "27          Brazil   457.19  0.916902    0.922511\n",
       "242         Turkey   428.18  0.945286    0.948271\n",
       "11       Australia  420.221  0.849641    0.881371"
      ]
     },
     "execution_count": 30,
     "metadata": {},
     "output_type": "execute_result"
    }
   ],
   "source": [
    "df2 = pd.DataFrame()\n",
    "df2['Country Name'] = df1['Country Name']\n",
    "df2['CO2 2018'] = df1['2018']\n",
    "df2['GDP_Corr'] = df1['Corr']\n",
    "df2['GDP_PC_Corr'] = df1['Corr PC']\n",
    "df2.head(15)"
   ]
  },
  {
   "cell_type": "markdown",
   "metadata": {},
   "source": [
    "# 1. Plot"
   ]
  },
  {
   "cell_type": "markdown",
   "metadata": {},
   "source": [
    "## a) China - US - India - World"
   ]
  },
  {
   "cell_type": "code",
   "execution_count": 35,
   "metadata": {
    "scrolled": false
   },
   "outputs": [
    {
     "data": {
      "application/vnd.plotly.v1+json": {
       "config": {
        "plotlyServerURL": "https://plot.ly"
       },
       "data": [
        {
         "line": {
          "width": 1.5
         },
         "name": "CO2 China",
         "opacity": 0.8,
         "type": "scatter",
         "x": [
          "1960",
          "1961",
          "1962",
          "1963",
          "1964",
          "1965",
          "1966",
          "1967",
          "1968",
          "1969",
          "1970",
          "1971",
          "1972",
          "1973",
          "1974",
          "1975",
          "1976",
          "1977",
          "1978",
          "1979",
          "1980",
          "1981",
          "1982",
          "1983",
          "1984",
          "1985",
          "1986",
          "1987",
          "1988",
          "1989",
          "1990",
          "1991",
          "1992",
          "1993",
          "1994",
          "1995",
          "1996",
          "1997",
          "1998",
          "1999",
          "2000",
          "2001",
          "2002",
          "2003",
          "2004",
          "2005",
          "2006",
          "2007",
          "2008",
          "2009",
          "2010",
          "2011",
          "2012",
          "2013",
          "2014",
          "2015",
          "2016",
          "2017",
          "2018"
         ],
         "xaxis": "x",
         "y": [
          778.9794657662993,
          550.9585373429924,
          439.34210534299217,
          435.51763862975645,
          435.703766942148,
          474.68062484661414,
          521.4588807323603,
          432.22355689322836,
          467.80564296062994,
          575.9446712289763,
          770.1671903294487,
          874.0163107719038,
          928.8939954000067,
          965.6465591167083,
          985.085216024147,
          1142.1019057686135,
          1190.9645976965155,
          1304.4027882230823,
          1455.2575057955469,
          1487.1130101473611,
          1458.886737925048,
          1442.7823848654473,
          1570.4683245640592,
          1655.8104825394935,
          1802.3170956059885,
          1951.773227762688,
          2052.2421281462234,
          2191.053006279405,
          2347.763494150301,
          2386.885124972622,
          2420.3021080000008,
          2538.923968435,
          2657.112405588,
          2835.79547347,
          3010.242208325001,
          3265.056964,
          3408.3465906879997,
          3414.54928638,
          3265.902620510001,
          3258.13488654,
          3349.294776,
          3426.1440619352,
          3782.439297438,
          4452.3102962369,
          5125.894416450001,
          5771.1684399999995,
          6377.748016000001,
          6861.7506520000015,
          7375.189907000001,
          7758.811768000001,
          8500.542695000002,
          9388.199234,
          9633.899303,
          9796.52716,
          9820.360492283753,
          9716.467840234136,
          9704.479431780572,
          9838.754028261345,
          10064.685698137107
         ],
         "yaxis": "y"
        },
        {
         "line": {
          "width": 1.5
         },
         "name": "GDP pc China",
         "opacity": 0.8,
         "type": "scatter",
         "x": [
          "1960",
          "1961",
          "1962",
          "1963",
          "1964",
          "1965",
          "1966",
          "1967",
          "1968",
          "1969",
          "1970",
          "1971",
          "1972",
          "1973",
          "1974",
          "1975",
          "1976",
          "1977",
          "1978",
          "1979",
          "1980",
          "1981",
          "1982",
          "1983",
          "1984",
          "1985",
          "1986",
          "1987",
          "1988",
          "1989",
          "1990",
          "1991",
          "1992",
          "1993",
          "1994",
          "1995",
          "1996",
          "1997",
          "1998",
          "1999",
          "2000",
          "2001",
          "2002",
          "2003",
          "2004",
          "2005",
          "2006",
          "2007",
          "2008",
          "2009",
          "2010",
          "2011",
          "2012",
          "2013",
          "2014",
          "2015",
          "2016",
          "2017",
          "2018"
         ],
         "xaxis": "x",
         "y": [
          89.52054151035841,
          75.8058379259965,
          70.90941166710071,
          74.3136434486145,
          85.4985551596313,
          98.48677775222059,
          104.324566181147,
          96.5895319417819,
          91.4727183066072,
          100.12990326618,
          113.16299155468599,
          118.65457778534599,
          131.883561243868,
          157.090374298657,
          160.140093727686,
          178.34181960809602,
          165.40554037241998,
          185.42283291367298,
          156.396388520044,
          183.983152215978,
          194.80472218683602,
          197.07147449910198,
          203.33491950346402,
          225.431928890812,
          250.71396904698798,
          294.45884850496003,
          281.928120911563,
          251.811956961329,
          283.537695240524,
          310.8819124049,
          317.884673040928,
          333.142145400184,
          366.46069230207297,
          377.38983947995797,
          473.492278718042,
          609.6566792024839,
          709.413755085039,
          781.744164341053,
          828.580479295681,
          873.2870617257901,
          959.372483639691,
          1053.1082430045199,
          1148.5082904417,
          1288.64325183381,
          1508.6680978826598,
          1753.41782925823,
          2099.22943460447,
          2693.9698268348498,
          3468.3044632474703,
          3832.2359515672706,
          4550.45359583857,
          5618.13249134962,
          6316.91886335683,
          7050.64591988963,
          7678.5994316609995,
          8066.94242356745,
          8147.9381477822,
          8879.43814888506,
          9976.676821807729
         ],
         "yaxis": "y2"
        },
        {
         "line": {
          "width": 1.5
         },
         "name": "CO2 US",
         "opacity": 0.8,
         "type": "scatter",
         "x": [
          "1960",
          "1961",
          "1962",
          "1963",
          "1964",
          "1965",
          "1966",
          "1967",
          "1968",
          "1969",
          "1970",
          "1971",
          "1972",
          "1973",
          "1974",
          "1975",
          "1976",
          "1977",
          "1978",
          "1979",
          "1980",
          "1981",
          "1982",
          "1983",
          "1984",
          "1985",
          "1986",
          "1987",
          "1988",
          "1989",
          "1990",
          "1991",
          "1992",
          "1993",
          "1994",
          "1995",
          "1996",
          "1997",
          "1998",
          "1999",
          "2000",
          "2001",
          "2002",
          "2003",
          "2004",
          "2005",
          "2006",
          "2007",
          "2008",
          "2009",
          "2010",
          "2011",
          "2012",
          "2013",
          "2014",
          "2015",
          "2016",
          "2017",
          "2018"
         ],
         "xaxis": "x2",
         "y": [
          2887.820431912968,
          2877.3698481063625,
          2984.0017443161046,
          3116.0223716691944,
          3252.755161800358,
          3388.192677575913,
          3559.1791596079247,
          3693.298171113538,
          3828.3060537992797,
          4021.5026166075895,
          4325.500824893588,
          4351.308687939605,
          4558.452641637212,
          4762.452212156791,
          4592.958260587161,
          4400.795008155399,
          4607.168186988231,
          4735.366317959978,
          4882.964014379146,
          4894.042874661384,
          4716.716355236106,
          4530.369843151662,
          4301.970691121684,
          4335.916562650464,
          4468.262053901565,
          4484.338181946496,
          4487.855869330443,
          4680.834051598381,
          4885.590503218403,
          4948.02116343495,
          5121.179439636218,
          5071.563914129354,
          5174.670600727453,
          5281.386608386349,
          5375.033803130698,
          5436.697985645714,
          5625.041884958039,
          5701.920919441466,
          5749.89305632887,
          5829.519951154611,
          5997.2989122470835,
          5899.855484554803,
          5942.421409609994,
          5991.1909345616505,
          6105.444109771078,
          6130.552416529035,
          6050.3846037128915,
          6127.888221116617,
          5928.256328994959,
          5493.547908151844,
          5700.108336541934,
          5572.584775486274,
          5371.777170152365,
          5522.9083654331735,
          5572.106312157075,
          5422.965677347358,
          5306.662457005159,
          5270.7485254358335,
          5416.2778834816745
         ],
         "yaxis": "y3"
        },
        {
         "line": {
          "width": 1.5
         },
         "name": "GDP pc US",
         "opacity": 0.8,
         "type": "scatter",
         "x": [
          "1960",
          "1961",
          "1962",
          "1963",
          "1964",
          "1965",
          "1966",
          "1967",
          "1968",
          "1969",
          "1970",
          "1971",
          "1972",
          "1973",
          "1974",
          "1975",
          "1976",
          "1977",
          "1978",
          "1979",
          "1980",
          "1981",
          "1982",
          "1983",
          "1984",
          "1985",
          "1986",
          "1987",
          "1988",
          "1989",
          "1990",
          "1991",
          "1992",
          "1993",
          "1994",
          "1995",
          "1996",
          "1997",
          "1998",
          "1999",
          "2000",
          "2001",
          "2002",
          "2003",
          "2004",
          "2005",
          "2006",
          "2007",
          "2008",
          "2009",
          "2010",
          "2011",
          "2012",
          "2013",
          "2014",
          "2015",
          "2016",
          "2017",
          "2018"
         ],
         "xaxis": "x2",
         "y": [
          3007.12344537862,
          3066.56286916615,
          3243.8430775498805,
          3374.51517105082,
          3573.94118474743,
          3827.52710972039,
          4146.31664631665,
          4336.42658722171,
          4695.92339043178,
          5032.14474262003,
          5234.2966662115,
          5609.38259952519,
          6094.017989861651,
          6726.35895596695,
          7225.691359525659,
          7801.45666356443,
          8592.253537276121,
          9452.57651914511,
          10564.9482220275,
          11674.186310013101,
          12574.7915062163,
          13976.109750464098,
          14433.787727053,
          15543.8937174925,
          17121.2254849995,
          18236.827726500902,
          19071.2271949295,
          20038.9410992658,
          21417.0119305191,
          22857.154433005602,
          23888.6000088133,
          24342.2589048189,
          25418.9907763319,
          26387.2937338171,
          27694.853416234,
          28690.875701334702,
          29967.712718174902,
          31459.139002483,
          32853.6769849268,
          34513.5615037271,
          36334.9087770589,
          37133.2428088526,
          38023.1611144021,
          39496.4858751381,
          41712.8010675545,
          44114.7477776705,
          46298.73144409269,
          47975.96767588559,
          48382.55844905519,
          47099.980471134295,
          48467.515776925895,
          49886.818109492306,
          51610.6052783379,
          53117.6678308301,
          55047.725560454404,
          56822.5188202456,
          57927.5168515062,
          59957.72585130321,
          62840.0202387954
         ],
         "yaxis": "y4"
        },
        {
         "line": {
          "width": 1.5
         },
         "name": "CO2 India",
         "opacity": 0.8,
         "type": "scatter",
         "x": [
          "1960",
          "1961",
          "1962",
          "1963",
          "1964",
          "1965",
          "1966",
          "1967",
          "1968",
          "1969",
          "1970",
          "1971",
          "1972",
          "1973",
          "1974",
          "1975",
          "1976",
          "1977",
          "1978",
          "1979",
          "1980",
          "1981",
          "1982",
          "1983",
          "1984",
          "1985",
          "1986",
          "1987",
          "1988",
          "1989",
          "1990",
          "1991",
          "1992",
          "1993",
          "1994",
          "1995",
          "1996",
          "1997",
          "1998",
          "1999",
          "2000",
          "2001",
          "2002",
          "2003",
          "2004",
          "2005",
          "2006",
          "2007",
          "2008",
          "2009",
          "2010",
          "2011",
          "2012",
          "2013",
          "2014",
          "2015",
          "2016",
          "2017",
          "2018"
         ],
         "xaxis": "x3",
         "y": [
          120.57604149900995,
          130.39292920301028,
          143.45184048602306,
          154.06816138213742,
          150.63899388072323,
          165.96136557200026,
          171.6883934865977,
          172.09312712620766,
          187.10461154501408,
          190.4003751625481,
          194.72895601423215,
          205.3295514100089,
          217.18193670260933,
          223.60229500617925,
          231.18471453394008,
          251.19330218513042,
          262.53175448433416,
          277.64831584663847,
          281.5391596832027,
          295.29900996306833,
          312.4849033226539,
          337.10518274930354,
          347.81563407303304,
          376.6763248663662,
          385.92884824620194,
          424.25604500600167,
          455.0665255201792,
          486.06731292386894,
          525.0816668801184,
          576.404561139629,
          616.5792429658998,
          656.740892895225,
          698.7569497146001,
          722.8942594153001,
          764.2421028847226,
          811.4609266723637,
          878.8271197753536,
          915.049312957775,
          933.5492581445627,
          995.23307160885,
          1029.637758989675,
          1035.6403452880097,
          1047.5956514675,
          1091.87300948125,
          1145.5454397884218,
          1210.1456667912673,
          1287.1492113997533,
          1390.2534913318855,
          1547.9908231684851,
          1720.120560262227,
          1700.0273944652188,
          1811.9613917473775,
          1979.0469089680346,
          1994.1009936985627,
          2199.40004124655,
          2298.1700902179664,
          2371.752345655517,
          2456.954485456873,
          2654.101041559118
         ],
         "yaxis": "y5"
        },
        {
         "line": {
          "width": 1.5
         },
         "name": "GDP pc India",
         "opacity": 0.8,
         "type": "scatter",
         "x": [
          "1960",
          "1961",
          "1962",
          "1963",
          "1964",
          "1965",
          "1966",
          "1967",
          "1968",
          "1969",
          "1970",
          "1971",
          "1972",
          "1973",
          "1974",
          "1975",
          "1976",
          "1977",
          "1978",
          "1979",
          "1980",
          "1981",
          "1982",
          "1983",
          "1984",
          "1985",
          "1986",
          "1987",
          "1988",
          "1989",
          "1990",
          "1991",
          "1992",
          "1993",
          "1994",
          "1995",
          "1996",
          "1997",
          "1998",
          "1999",
          "2000",
          "2001",
          "2002",
          "2003",
          "2004",
          "2005",
          "2006",
          "2007",
          "2008",
          "2009",
          "2010",
          "2011",
          "2012",
          "2013",
          "2014",
          "2015",
          "2016",
          "2017",
          "2018"
         ],
         "xaxis": "x3",
         "y": [
          82.1886020091056,
          85.3543011749033,
          89.88175668635981,
          101.126428181221,
          115.537497020064,
          119.318917211719,
          89.9973059630537,
          96.3391366489315,
          99.8759646011063,
          107.622317828827,
          112.434493490322,
          118.603242102118,
          122.981863898262,
          143.778688096538,
          163.478111157501,
          158.036171764282,
          161.092091731697,
          186.21350132527698,
          205.693386086224,
          224.00101683980802,
          266.577848118397,
          270.470602438399,
          274.111331421581,
          291.238110137317,
          276.667958643143,
          296.435151551022,
          310.465935085896,
          340.41683161231003,
          354.149251617083,
          346.11288727162497,
          367.556609311203,
          303.05560534270097,
          316.95392789531104,
          301.159004220577,
          346.102950322606,
          373.766480007829,
          399.950076763934,
          415.49379698177694,
          413.298934242221,
          441.998759593395,
          443.31419339174005,
          451.573001074356,
          470.9867859491599,
          546.726614478728,
          627.774247283919,
          714.861013495661,
          806.753280628799,
          1028.33477107667,
          998.5223390192681,
          1101.96084002239,
          1357.56371913262,
          1458.10352686177,
          1443.87952939042,
          1449.6059123387,
          1573.88149211052,
          1605.6054335548802,
          1732.56426178428,
          1981.6510498992002,
          2005.8630045240302
         ],
         "yaxis": "y6"
        },
        {
         "line": {
          "width": 1.5
         },
         "name": "CO2 World",
         "opacity": 0.8,
         "type": "scatter",
         "x": [
          "1960",
          "1961",
          "1962",
          "1963",
          "1964",
          "1965",
          "1966",
          "1967",
          "1968",
          "1969",
          "1970",
          "1971",
          "1972",
          "1973",
          "1974",
          "1975",
          "1976",
          "1977",
          "1978",
          "1979",
          "1980",
          "1981",
          "1982",
          "1983",
          "1984",
          "1985",
          "1986",
          "1987",
          "1988",
          "1989",
          "1990",
          "1991",
          "1992",
          "1993",
          "1994",
          "1995",
          "1996",
          "1997",
          "1998",
          "1999",
          "2000",
          "2001",
          "2002",
          "2003",
          "2004",
          "2005",
          "2006",
          "2007",
          "2008",
          "2009",
          "2010",
          "2011",
          "2012",
          "2013",
          "2014",
          "2015",
          "2016",
          "2017",
          "2018"
         ],
         "xaxis": "x4",
         "y": [
          9410.529753,
          9452.107735,
          9838.202053,
          10379.06796,
          10969.32514,
          11466.15022,
          12045.55587,
          12431.00938,
          13063.44964,
          13846.42734,
          14845.81498,
          15409.71755,
          16023.99077,
          16893.36143,
          16923.578709999998,
          16825.64095,
          17800.97242,
          18355.43923,
          18561.69885,
          19594.22881,
          19388.09437,
          18787.12262,
          18624.07569,
          18549.44804,
          19216.86605,
          19792.62184,
          20395.94953,
          20912.41349,
          21681.10932,
          22154.335730000006,
          22181.80737,
          22429.37743,
          22195.10513,
          22153.14311,
          22533.83297,
          23007.42538,
          23522.97911,
          23915.3294,
          23984.9839,
          23930.56147,
          24558.69108,
          25137.99969,
          25494.19056,
          26866.738380000006,
          28187.59894,
          29254.90635,
          30286.83639,
          30880.1453,
          31875.7558,
          31523.14297,
          33066.65121,
          34357.36592,
          34919.28871,
          35207.88598,
          35505.82704,
          35462.746739999995,
          35675.09944,
          36153.26165,
          36572.75422
         ],
         "yaxis": "y7"
        },
        {
         "line": {
          "width": 1.5
         },
         "name": "GDP pc World",
         "opacity": 0.8,
         "type": "scatter",
         "x": [
          "1960",
          "1961",
          "1962",
          "1963",
          "1964",
          "1965",
          "1966",
          "1967",
          "1968",
          "1969",
          "1970",
          "1971",
          "1972",
          "1973",
          "1974",
          "1975",
          "1976",
          "1977",
          "1978",
          "1979",
          "1980",
          "1981",
          "1982",
          "1983",
          "1984",
          "1985",
          "1986",
          "1987",
          "1988",
          "1989",
          "1990",
          "1991",
          "1992",
          "1993",
          "1994",
          "1995",
          "1996",
          "1997",
          "1998",
          "1999",
          "2000",
          "2001",
          "2002",
          "2003",
          "2004",
          "2005",
          "2006",
          "2007",
          "2008",
          "2009",
          "2010",
          "2011",
          "2012",
          "2013",
          "2014",
          "2015",
          "2016",
          "2017",
          "2018"
         ],
         "xaxis": "x4",
         "y": [
          451.74421994516194,
          463.82882987354895,
          489.547100519881,
          516.6151057870729,
          554.553301280707,
          591.718115178583,
          628.7387592922989,
          655.873528057314,
          693.901057104183,
          749.725141845917,
          803.946596717798,
          870.4373162524299,
          984.529368180524,
          1178.0888849374498,
          1332.8027901591001,
          1457.15442397903,
          1556.81536533632,
          1729.52627199803,
          2005.1086922473999,
          2288.66604408673,
          2532.76318755003,
          2576.6880067518105,
          2507.32143332923,
          2513.12816495442,
          2560.9982900505397,
          2643.7584018858397,
          3069.91309329166,
          3431.5806878793296,
          3772.40135893383,
          3870.4130050848103,
          4285.2352705352205,
          4464.654311566571,
          4668.240468524221,
          4669.58159701728,
          4939.83490424008,
          5412.34405875824,
          5453.312839128211,
          5357.06916527067,
          5272.633303573571,
          5395.9428354108295,
          5498.32970525151,
          5396.89193859037,
          5533.425293993,
          6131.22322502626,
          6820.615195680811,
          7297.1533986389595,
          7811.936205859871,
          8694.90025662167,
          9423.75725244088,
          8830.306908878309,
          9551.33565289546,
          10488.3340155715,
          10605.208321960401,
          10781.855305371899,
          10952.3444187853,
          10246.5073623909,
          10281.9087997747,
          10817.4819474952,
          11374.8467633071
         ],
         "yaxis": "y8"
        }
       ],
       "layout": {
        "annotations": [
         {
          "font": {
           "size": 16
          },
          "showarrow": false,
          "text": "China",
          "x": 0.185,
          "xanchor": "center",
          "xref": "paper",
          "y": 1,
          "yanchor": "bottom",
          "yref": "paper"
         },
         {
          "font": {
           "size": 16
          },
          "showarrow": false,
          "text": "US",
          "x": 0.7550000000000001,
          "xanchor": "center",
          "xref": "paper",
          "y": 1,
          "yanchor": "bottom",
          "yref": "paper"
         },
         {
          "font": {
           "size": 16
          },
          "showarrow": false,
          "text": "India",
          "x": 0.185,
          "xanchor": "center",
          "xref": "paper",
          "y": 0.375,
          "yanchor": "bottom",
          "yref": "paper"
         },
         {
          "font": {
           "size": 16
          },
          "showarrow": false,
          "text": "World",
          "x": 0.7550000000000001,
          "xanchor": "center",
          "xref": "paper",
          "y": 0.375,
          "yanchor": "bottom",
          "yref": "paper"
         }
        ],
        "legend": {
         "y": 0.5
        },
        "paper_bgcolor": "rgb(245, 246, 250)",
        "plot_bgcolor": "rgb(245, 246, 250)",
        "showlegend": false,
        "template": {
         "data": {
          "bar": [
           {
            "error_x": {
             "color": "#2a3f5f"
            },
            "error_y": {
             "color": "#2a3f5f"
            },
            "marker": {
             "line": {
              "color": "#E5ECF6",
              "width": 0.5
             }
            },
            "type": "bar"
           }
          ],
          "barpolar": [
           {
            "marker": {
             "line": {
              "color": "#E5ECF6",
              "width": 0.5
             }
            },
            "type": "barpolar"
           }
          ],
          "carpet": [
           {
            "aaxis": {
             "endlinecolor": "#2a3f5f",
             "gridcolor": "white",
             "linecolor": "white",
             "minorgridcolor": "white",
             "startlinecolor": "#2a3f5f"
            },
            "baxis": {
             "endlinecolor": "#2a3f5f",
             "gridcolor": "white",
             "linecolor": "white",
             "minorgridcolor": "white",
             "startlinecolor": "#2a3f5f"
            },
            "type": "carpet"
           }
          ],
          "choropleth": [
           {
            "colorbar": {
             "outlinewidth": 0,
             "ticks": ""
            },
            "type": "choropleth"
           }
          ],
          "contour": [
           {
            "colorbar": {
             "outlinewidth": 0,
             "ticks": ""
            },
            "colorscale": [
             [
              0,
              "#0d0887"
             ],
             [
              0.1111111111111111,
              "#46039f"
             ],
             [
              0.2222222222222222,
              "#7201a8"
             ],
             [
              0.3333333333333333,
              "#9c179e"
             ],
             [
              0.4444444444444444,
              "#bd3786"
             ],
             [
              0.5555555555555556,
              "#d8576b"
             ],
             [
              0.6666666666666666,
              "#ed7953"
             ],
             [
              0.7777777777777778,
              "#fb9f3a"
             ],
             [
              0.8888888888888888,
              "#fdca26"
             ],
             [
              1,
              "#f0f921"
             ]
            ],
            "type": "contour"
           }
          ],
          "contourcarpet": [
           {
            "colorbar": {
             "outlinewidth": 0,
             "ticks": ""
            },
            "type": "contourcarpet"
           }
          ],
          "heatmap": [
           {
            "colorbar": {
             "outlinewidth": 0,
             "ticks": ""
            },
            "colorscale": [
             [
              0,
              "#0d0887"
             ],
             [
              0.1111111111111111,
              "#46039f"
             ],
             [
              0.2222222222222222,
              "#7201a8"
             ],
             [
              0.3333333333333333,
              "#9c179e"
             ],
             [
              0.4444444444444444,
              "#bd3786"
             ],
             [
              0.5555555555555556,
              "#d8576b"
             ],
             [
              0.6666666666666666,
              "#ed7953"
             ],
             [
              0.7777777777777778,
              "#fb9f3a"
             ],
             [
              0.8888888888888888,
              "#fdca26"
             ],
             [
              1,
              "#f0f921"
             ]
            ],
            "type": "heatmap"
           }
          ],
          "heatmapgl": [
           {
            "colorbar": {
             "outlinewidth": 0,
             "ticks": ""
            },
            "colorscale": [
             [
              0,
              "#0d0887"
             ],
             [
              0.1111111111111111,
              "#46039f"
             ],
             [
              0.2222222222222222,
              "#7201a8"
             ],
             [
              0.3333333333333333,
              "#9c179e"
             ],
             [
              0.4444444444444444,
              "#bd3786"
             ],
             [
              0.5555555555555556,
              "#d8576b"
             ],
             [
              0.6666666666666666,
              "#ed7953"
             ],
             [
              0.7777777777777778,
              "#fb9f3a"
             ],
             [
              0.8888888888888888,
              "#fdca26"
             ],
             [
              1,
              "#f0f921"
             ]
            ],
            "type": "heatmapgl"
           }
          ],
          "histogram": [
           {
            "marker": {
             "colorbar": {
              "outlinewidth": 0,
              "ticks": ""
             }
            },
            "type": "histogram"
           }
          ],
          "histogram2d": [
           {
            "colorbar": {
             "outlinewidth": 0,
             "ticks": ""
            },
            "colorscale": [
             [
              0,
              "#0d0887"
             ],
             [
              0.1111111111111111,
              "#46039f"
             ],
             [
              0.2222222222222222,
              "#7201a8"
             ],
             [
              0.3333333333333333,
              "#9c179e"
             ],
             [
              0.4444444444444444,
              "#bd3786"
             ],
             [
              0.5555555555555556,
              "#d8576b"
             ],
             [
              0.6666666666666666,
              "#ed7953"
             ],
             [
              0.7777777777777778,
              "#fb9f3a"
             ],
             [
              0.8888888888888888,
              "#fdca26"
             ],
             [
              1,
              "#f0f921"
             ]
            ],
            "type": "histogram2d"
           }
          ],
          "histogram2dcontour": [
           {
            "colorbar": {
             "outlinewidth": 0,
             "ticks": ""
            },
            "colorscale": [
             [
              0,
              "#0d0887"
             ],
             [
              0.1111111111111111,
              "#46039f"
             ],
             [
              0.2222222222222222,
              "#7201a8"
             ],
             [
              0.3333333333333333,
              "#9c179e"
             ],
             [
              0.4444444444444444,
              "#bd3786"
             ],
             [
              0.5555555555555556,
              "#d8576b"
             ],
             [
              0.6666666666666666,
              "#ed7953"
             ],
             [
              0.7777777777777778,
              "#fb9f3a"
             ],
             [
              0.8888888888888888,
              "#fdca26"
             ],
             [
              1,
              "#f0f921"
             ]
            ],
            "type": "histogram2dcontour"
           }
          ],
          "mesh3d": [
           {
            "colorbar": {
             "outlinewidth": 0,
             "ticks": ""
            },
            "type": "mesh3d"
           }
          ],
          "parcoords": [
           {
            "line": {
             "colorbar": {
              "outlinewidth": 0,
              "ticks": ""
             }
            },
            "type": "parcoords"
           }
          ],
          "pie": [
           {
            "automargin": true,
            "type": "pie"
           }
          ],
          "scatter": [
           {
            "marker": {
             "colorbar": {
              "outlinewidth": 0,
              "ticks": ""
             }
            },
            "type": "scatter"
           }
          ],
          "scatter3d": [
           {
            "line": {
             "colorbar": {
              "outlinewidth": 0,
              "ticks": ""
             }
            },
            "marker": {
             "colorbar": {
              "outlinewidth": 0,
              "ticks": ""
             }
            },
            "type": "scatter3d"
           }
          ],
          "scattercarpet": [
           {
            "marker": {
             "colorbar": {
              "outlinewidth": 0,
              "ticks": ""
             }
            },
            "type": "scattercarpet"
           }
          ],
          "scattergeo": [
           {
            "marker": {
             "colorbar": {
              "outlinewidth": 0,
              "ticks": ""
             }
            },
            "type": "scattergeo"
           }
          ],
          "scattergl": [
           {
            "marker": {
             "colorbar": {
              "outlinewidth": 0,
              "ticks": ""
             }
            },
            "type": "scattergl"
           }
          ],
          "scattermapbox": [
           {
            "marker": {
             "colorbar": {
              "outlinewidth": 0,
              "ticks": ""
             }
            },
            "type": "scattermapbox"
           }
          ],
          "scatterpolar": [
           {
            "marker": {
             "colorbar": {
              "outlinewidth": 0,
              "ticks": ""
             }
            },
            "type": "scatterpolar"
           }
          ],
          "scatterpolargl": [
           {
            "marker": {
             "colorbar": {
              "outlinewidth": 0,
              "ticks": ""
             }
            },
            "type": "scatterpolargl"
           }
          ],
          "scatterternary": [
           {
            "marker": {
             "colorbar": {
              "outlinewidth": 0,
              "ticks": ""
             }
            },
            "type": "scatterternary"
           }
          ],
          "surface": [
           {
            "colorbar": {
             "outlinewidth": 0,
             "ticks": ""
            },
            "colorscale": [
             [
              0,
              "#0d0887"
             ],
             [
              0.1111111111111111,
              "#46039f"
             ],
             [
              0.2222222222222222,
              "#7201a8"
             ],
             [
              0.3333333333333333,
              "#9c179e"
             ],
             [
              0.4444444444444444,
              "#bd3786"
             ],
             [
              0.5555555555555556,
              "#d8576b"
             ],
             [
              0.6666666666666666,
              "#ed7953"
             ],
             [
              0.7777777777777778,
              "#fb9f3a"
             ],
             [
              0.8888888888888888,
              "#fdca26"
             ],
             [
              1,
              "#f0f921"
             ]
            ],
            "type": "surface"
           }
          ],
          "table": [
           {
            "cells": {
             "fill": {
              "color": "#EBF0F8"
             },
             "line": {
              "color": "white"
             }
            },
            "header": {
             "fill": {
              "color": "#C8D4E3"
             },
             "line": {
              "color": "white"
             }
            },
            "type": "table"
           }
          ]
         },
         "layout": {
          "annotationdefaults": {
           "arrowcolor": "#2a3f5f",
           "arrowhead": 0,
           "arrowwidth": 1
          },
          "coloraxis": {
           "colorbar": {
            "outlinewidth": 0,
            "ticks": ""
           }
          },
          "colorscale": {
           "diverging": [
            [
             0,
             "#8e0152"
            ],
            [
             0.1,
             "#c51b7d"
            ],
            [
             0.2,
             "#de77ae"
            ],
            [
             0.3,
             "#f1b6da"
            ],
            [
             0.4,
             "#fde0ef"
            ],
            [
             0.5,
             "#f7f7f7"
            ],
            [
             0.6,
             "#e6f5d0"
            ],
            [
             0.7,
             "#b8e186"
            ],
            [
             0.8,
             "#7fbc41"
            ],
            [
             0.9,
             "#4d9221"
            ],
            [
             1,
             "#276419"
            ]
           ],
           "sequential": [
            [
             0,
             "#0d0887"
            ],
            [
             0.1111111111111111,
             "#46039f"
            ],
            [
             0.2222222222222222,
             "#7201a8"
            ],
            [
             0.3333333333333333,
             "#9c179e"
            ],
            [
             0.4444444444444444,
             "#bd3786"
            ],
            [
             0.5555555555555556,
             "#d8576b"
            ],
            [
             0.6666666666666666,
             "#ed7953"
            ],
            [
             0.7777777777777778,
             "#fb9f3a"
            ],
            [
             0.8888888888888888,
             "#fdca26"
            ],
            [
             1,
             "#f0f921"
            ]
           ],
           "sequentialminus": [
            [
             0,
             "#0d0887"
            ],
            [
             0.1111111111111111,
             "#46039f"
            ],
            [
             0.2222222222222222,
             "#7201a8"
            ],
            [
             0.3333333333333333,
             "#9c179e"
            ],
            [
             0.4444444444444444,
             "#bd3786"
            ],
            [
             0.5555555555555556,
             "#d8576b"
            ],
            [
             0.6666666666666666,
             "#ed7953"
            ],
            [
             0.7777777777777778,
             "#fb9f3a"
            ],
            [
             0.8888888888888888,
             "#fdca26"
            ],
            [
             1,
             "#f0f921"
            ]
           ]
          },
          "colorway": [
           "#636efa",
           "#EF553B",
           "#00cc96",
           "#ab63fa",
           "#FFA15A",
           "#19d3f3",
           "#FF6692",
           "#B6E880",
           "#FF97FF",
           "#FECB52"
          ],
          "font": {
           "color": "#2a3f5f"
          },
          "geo": {
           "bgcolor": "white",
           "lakecolor": "white",
           "landcolor": "#E5ECF6",
           "showlakes": true,
           "showland": true,
           "subunitcolor": "white"
          },
          "hoverlabel": {
           "align": "left"
          },
          "hovermode": "closest",
          "mapbox": {
           "style": "light"
          },
          "paper_bgcolor": "white",
          "plot_bgcolor": "#E5ECF6",
          "polar": {
           "angularaxis": {
            "gridcolor": "white",
            "linecolor": "white",
            "ticks": ""
           },
           "bgcolor": "#E5ECF6",
           "radialaxis": {
            "gridcolor": "white",
            "linecolor": "white",
            "ticks": ""
           }
          },
          "scene": {
           "xaxis": {
            "backgroundcolor": "#E5ECF6",
            "gridcolor": "white",
            "gridwidth": 2,
            "linecolor": "white",
            "showbackground": true,
            "ticks": "",
            "zerolinecolor": "white"
           },
           "yaxis": {
            "backgroundcolor": "#E5ECF6",
            "gridcolor": "white",
            "gridwidth": 2,
            "linecolor": "white",
            "showbackground": true,
            "ticks": "",
            "zerolinecolor": "white"
           },
           "zaxis": {
            "backgroundcolor": "#E5ECF6",
            "gridcolor": "white",
            "gridwidth": 2,
            "linecolor": "white",
            "showbackground": true,
            "ticks": "",
            "zerolinecolor": "white"
           }
          },
          "shapedefaults": {
           "line": {
            "color": "#2a3f5f"
           }
          },
          "ternary": {
           "aaxis": {
            "gridcolor": "white",
            "linecolor": "white",
            "ticks": ""
           },
           "baxis": {
            "gridcolor": "white",
            "linecolor": "white",
            "ticks": ""
           },
           "bgcolor": "#E5ECF6",
           "caxis": {
            "gridcolor": "white",
            "linecolor": "white",
            "ticks": ""
           }
          },
          "title": {
           "x": 0.05
          },
          "xaxis": {
           "automargin": true,
           "gridcolor": "white",
           "linecolor": "white",
           "ticks": "",
           "title": {
            "standoff": 15
           },
           "zerolinecolor": "white",
           "zerolinewidth": 2
          },
          "yaxis": {
           "automargin": true,
           "gridcolor": "white",
           "linecolor": "white",
           "ticks": "",
           "title": {
            "standoff": 15
           },
           "zerolinecolor": "white",
           "zerolinewidth": 2
          }
         }
        },
        "title": {
         "font": {
          "size": 22
         },
         "text": "GDP per capita vs CO2 emissions",
         "x": 0.5
        },
        "xaxis": {
         "anchor": "y",
         "domain": [
          0,
          0.37
         ]
        },
        "xaxis2": {
         "anchor": "y3",
         "domain": [
          0.5700000000000001,
          0.9400000000000001
         ]
        },
        "xaxis3": {
         "anchor": "y5",
         "domain": [
          0,
          0.37
         ]
        },
        "xaxis4": {
         "anchor": "y7",
         "domain": [
          0.5700000000000001,
          0.9400000000000001
         ]
        },
        "yaxis": {
         "anchor": "x",
         "domain": [
          0.625,
          1
         ],
         "title": {
          "text": "CO2 (mm)"
         }
        },
        "yaxis2": {
         "anchor": "x",
         "overlaying": "y",
         "side": "right",
         "title": {
          "text": "GDP (thousand USD)"
         }
        },
        "yaxis3": {
         "anchor": "x2",
         "domain": [
          0.625,
          1
         ],
         "title": {
          "text": "CO2 (mm)"
         }
        },
        "yaxis4": {
         "anchor": "x2",
         "overlaying": "y3",
         "side": "right",
         "title": {
          "text": "GDP (thousand USD)"
         }
        },
        "yaxis5": {
         "anchor": "x3",
         "domain": [
          0,
          0.375
         ],
         "title": {
          "text": "CO2 (mm)"
         }
        },
        "yaxis6": {
         "anchor": "x3",
         "overlaying": "y5",
         "side": "right",
         "title": {
          "text": "GDP (thousand USD)"
         }
        },
        "yaxis7": {
         "anchor": "x4",
         "domain": [
          0,
          0.375
         ],
         "title": {
          "text": "CO2 (mm)"
         }
        },
        "yaxis8": {
         "anchor": "x4",
         "overlaying": "y7",
         "side": "right",
         "title": {
          "text": "GDP (thousand USD)"
         }
        }
       }
      },
      "text/html": [
       "<div>                            <div id=\"4c7383e4-83d2-46c8-8e88-8ad25c1556e9\" class=\"plotly-graph-div\" style=\"height:525px; width:100%;\"></div>            <script type=\"text/javascript\">                require([\"plotly\"], function(Plotly) {                    window.PLOTLYENV=window.PLOTLYENV || {};                                    if (document.getElementById(\"4c7383e4-83d2-46c8-8e88-8ad25c1556e9\")) {                    Plotly.newPlot(                        \"4c7383e4-83d2-46c8-8e88-8ad25c1556e9\",                        [{\"line\": {\"width\": 1.5}, \"name\": \"CO2 China\", \"opacity\": 0.8, \"type\": \"scatter\", \"x\": [\"1960\", \"1961\", \"1962\", \"1963\", \"1964\", \"1965\", \"1966\", \"1967\", \"1968\", \"1969\", \"1970\", \"1971\", \"1972\", \"1973\", \"1974\", \"1975\", \"1976\", \"1977\", \"1978\", \"1979\", \"1980\", \"1981\", \"1982\", \"1983\", \"1984\", \"1985\", \"1986\", \"1987\", \"1988\", \"1989\", \"1990\", \"1991\", \"1992\", \"1993\", \"1994\", \"1995\", \"1996\", \"1997\", \"1998\", \"1999\", \"2000\", \"2001\", \"2002\", \"2003\", \"2004\", \"2005\", \"2006\", \"2007\", \"2008\", \"2009\", \"2010\", \"2011\", \"2012\", \"2013\", \"2014\", \"2015\", \"2016\", \"2017\", \"2018\"], \"xaxis\": \"x\", \"y\": [778.9794657662993, 550.9585373429924, 439.34210534299217, 435.51763862975645, 435.703766942148, 474.68062484661414, 521.4588807323603, 432.22355689322836, 467.80564296062994, 575.9446712289763, 770.1671903294487, 874.0163107719038, 928.8939954000067, 965.6465591167083, 985.085216024147, 1142.1019057686135, 1190.9645976965155, 1304.4027882230823, 1455.2575057955469, 1487.1130101473611, 1458.886737925048, 1442.7823848654473, 1570.4683245640592, 1655.8104825394935, 1802.3170956059885, 1951.773227762688, 2052.2421281462234, 2191.053006279405, 2347.763494150301, 2386.885124972622, 2420.3021080000008, 2538.923968435, 2657.112405588, 2835.79547347, 3010.242208325001, 3265.056964, 3408.3465906879997, 3414.54928638, 3265.902620510001, 3258.13488654, 3349.294776, 3426.1440619352, 3782.439297438, 4452.3102962369, 5125.894416450001, 5771.1684399999995, 6377.748016000001, 6861.7506520000015, 7375.189907000001, 7758.811768000001, 8500.542695000002, 9388.199234, 9633.899303, 9796.52716, 9820.360492283753, 9716.467840234136, 9704.479431780572, 9838.754028261345, 10064.685698137107], \"yaxis\": \"y\"}, {\"line\": {\"width\": 1.5}, \"name\": \"GDP pc China\", \"opacity\": 0.8, \"type\": \"scatter\", \"x\": [\"1960\", \"1961\", \"1962\", \"1963\", \"1964\", \"1965\", \"1966\", \"1967\", \"1968\", \"1969\", \"1970\", \"1971\", \"1972\", \"1973\", \"1974\", \"1975\", \"1976\", \"1977\", \"1978\", \"1979\", \"1980\", \"1981\", \"1982\", \"1983\", \"1984\", \"1985\", \"1986\", \"1987\", \"1988\", \"1989\", \"1990\", \"1991\", \"1992\", \"1993\", \"1994\", \"1995\", \"1996\", \"1997\", \"1998\", \"1999\", \"2000\", \"2001\", \"2002\", \"2003\", \"2004\", \"2005\", \"2006\", \"2007\", \"2008\", \"2009\", \"2010\", \"2011\", \"2012\", \"2013\", \"2014\", \"2015\", \"2016\", \"2017\", \"2018\"], \"xaxis\": \"x\", \"y\": [89.52054151035841, 75.8058379259965, 70.90941166710071, 74.3136434486145, 85.4985551596313, 98.48677775222059, 104.324566181147, 96.5895319417819, 91.4727183066072, 100.12990326618, 113.16299155468599, 118.65457778534599, 131.883561243868, 157.090374298657, 160.140093727686, 178.34181960809602, 165.40554037241998, 185.42283291367298, 156.396388520044, 183.983152215978, 194.80472218683602, 197.07147449910198, 203.33491950346402, 225.431928890812, 250.71396904698798, 294.45884850496003, 281.928120911563, 251.811956961329, 283.537695240524, 310.8819124049, 317.884673040928, 333.142145400184, 366.46069230207297, 377.38983947995797, 473.492278718042, 609.6566792024839, 709.413755085039, 781.744164341053, 828.580479295681, 873.2870617257901, 959.372483639691, 1053.1082430045199, 1148.5082904417, 1288.64325183381, 1508.6680978826598, 1753.41782925823, 2099.22943460447, 2693.9698268348498, 3468.3044632474703, 3832.2359515672706, 4550.45359583857, 5618.13249134962, 6316.91886335683, 7050.64591988963, 7678.5994316609995, 8066.94242356745, 8147.9381477822, 8879.43814888506, 9976.676821807729], \"yaxis\": \"y2\"}, {\"line\": {\"width\": 1.5}, \"name\": \"CO2 US\", \"opacity\": 0.8, \"type\": \"scatter\", \"x\": [\"1960\", \"1961\", \"1962\", \"1963\", \"1964\", \"1965\", \"1966\", \"1967\", \"1968\", \"1969\", \"1970\", \"1971\", \"1972\", \"1973\", \"1974\", \"1975\", \"1976\", \"1977\", \"1978\", \"1979\", \"1980\", \"1981\", \"1982\", \"1983\", \"1984\", \"1985\", \"1986\", \"1987\", \"1988\", \"1989\", \"1990\", \"1991\", \"1992\", \"1993\", \"1994\", \"1995\", \"1996\", \"1997\", \"1998\", \"1999\", \"2000\", \"2001\", \"2002\", \"2003\", \"2004\", \"2005\", \"2006\", \"2007\", \"2008\", \"2009\", \"2010\", \"2011\", \"2012\", \"2013\", \"2014\", \"2015\", \"2016\", \"2017\", \"2018\"], \"xaxis\": \"x2\", \"y\": [2887.820431912968, 2877.3698481063625, 2984.0017443161046, 3116.0223716691944, 3252.755161800358, 3388.192677575913, 3559.1791596079247, 3693.298171113538, 3828.3060537992797, 4021.5026166075895, 4325.500824893588, 4351.308687939605, 4558.452641637212, 4762.452212156791, 4592.958260587161, 4400.795008155399, 4607.168186988231, 4735.366317959978, 4882.964014379146, 4894.042874661384, 4716.716355236106, 4530.369843151662, 4301.970691121684, 4335.916562650464, 4468.262053901565, 4484.338181946496, 4487.855869330443, 4680.834051598381, 4885.590503218403, 4948.02116343495, 5121.179439636218, 5071.563914129354, 5174.670600727453, 5281.386608386349, 5375.033803130698, 5436.697985645714, 5625.041884958039, 5701.920919441466, 5749.89305632887, 5829.519951154611, 5997.2989122470835, 5899.855484554803, 5942.421409609994, 5991.1909345616505, 6105.444109771078, 6130.552416529035, 6050.3846037128915, 6127.888221116617, 5928.256328994959, 5493.547908151844, 5700.108336541934, 5572.584775486274, 5371.777170152365, 5522.9083654331735, 5572.106312157075, 5422.965677347358, 5306.662457005159, 5270.7485254358335, 5416.2778834816745], \"yaxis\": \"y3\"}, {\"line\": {\"width\": 1.5}, \"name\": \"GDP pc US\", \"opacity\": 0.8, \"type\": \"scatter\", \"x\": [\"1960\", \"1961\", \"1962\", \"1963\", \"1964\", \"1965\", \"1966\", \"1967\", \"1968\", \"1969\", \"1970\", \"1971\", \"1972\", \"1973\", \"1974\", \"1975\", \"1976\", \"1977\", \"1978\", \"1979\", \"1980\", \"1981\", \"1982\", \"1983\", \"1984\", \"1985\", \"1986\", \"1987\", \"1988\", \"1989\", \"1990\", \"1991\", \"1992\", \"1993\", \"1994\", \"1995\", \"1996\", \"1997\", \"1998\", \"1999\", \"2000\", \"2001\", \"2002\", \"2003\", \"2004\", \"2005\", \"2006\", \"2007\", \"2008\", \"2009\", \"2010\", \"2011\", \"2012\", \"2013\", \"2014\", \"2015\", \"2016\", \"2017\", \"2018\"], \"xaxis\": \"x2\", \"y\": [3007.12344537862, 3066.56286916615, 3243.8430775498805, 3374.51517105082, 3573.94118474743, 3827.52710972039, 4146.31664631665, 4336.42658722171, 4695.92339043178, 5032.14474262003, 5234.2966662115, 5609.38259952519, 6094.017989861651, 6726.35895596695, 7225.691359525659, 7801.45666356443, 8592.253537276121, 9452.57651914511, 10564.9482220275, 11674.186310013101, 12574.7915062163, 13976.109750464098, 14433.787727053, 15543.8937174925, 17121.2254849995, 18236.827726500902, 19071.2271949295, 20038.9410992658, 21417.0119305191, 22857.154433005602, 23888.6000088133, 24342.2589048189, 25418.9907763319, 26387.2937338171, 27694.853416234, 28690.875701334702, 29967.712718174902, 31459.139002483, 32853.6769849268, 34513.5615037271, 36334.9087770589, 37133.2428088526, 38023.1611144021, 39496.4858751381, 41712.8010675545, 44114.7477776705, 46298.73144409269, 47975.96767588559, 48382.55844905519, 47099.980471134295, 48467.515776925895, 49886.818109492306, 51610.6052783379, 53117.6678308301, 55047.725560454404, 56822.5188202456, 57927.5168515062, 59957.72585130321, 62840.0202387954], \"yaxis\": \"y4\"}, {\"line\": {\"width\": 1.5}, \"name\": \"CO2 India\", \"opacity\": 0.8, \"type\": \"scatter\", \"x\": [\"1960\", \"1961\", \"1962\", \"1963\", \"1964\", \"1965\", \"1966\", \"1967\", \"1968\", \"1969\", \"1970\", \"1971\", \"1972\", \"1973\", \"1974\", \"1975\", \"1976\", \"1977\", \"1978\", \"1979\", \"1980\", \"1981\", \"1982\", \"1983\", \"1984\", \"1985\", \"1986\", \"1987\", \"1988\", \"1989\", \"1990\", \"1991\", \"1992\", \"1993\", \"1994\", \"1995\", \"1996\", \"1997\", \"1998\", \"1999\", \"2000\", \"2001\", \"2002\", \"2003\", \"2004\", \"2005\", \"2006\", \"2007\", \"2008\", \"2009\", \"2010\", \"2011\", \"2012\", \"2013\", \"2014\", \"2015\", \"2016\", \"2017\", \"2018\"], \"xaxis\": \"x3\", \"y\": [120.57604149900995, 130.39292920301028, 143.45184048602306, 154.06816138213742, 150.63899388072323, 165.96136557200026, 171.6883934865977, 172.09312712620766, 187.10461154501408, 190.4003751625481, 194.72895601423215, 205.3295514100089, 217.18193670260933, 223.60229500617925, 231.18471453394008, 251.19330218513042, 262.53175448433416, 277.64831584663847, 281.5391596832027, 295.29900996306833, 312.4849033226539, 337.10518274930354, 347.81563407303304, 376.6763248663662, 385.92884824620194, 424.25604500600167, 455.0665255201792, 486.06731292386894, 525.0816668801184, 576.404561139629, 616.5792429658998, 656.740892895225, 698.7569497146001, 722.8942594153001, 764.2421028847226, 811.4609266723637, 878.8271197753536, 915.049312957775, 933.5492581445627, 995.23307160885, 1029.637758989675, 1035.6403452880097, 1047.5956514675, 1091.87300948125, 1145.5454397884218, 1210.1456667912673, 1287.1492113997533, 1390.2534913318855, 1547.9908231684851, 1720.120560262227, 1700.0273944652188, 1811.9613917473775, 1979.0469089680346, 1994.1009936985627, 2199.40004124655, 2298.1700902179664, 2371.752345655517, 2456.954485456873, 2654.101041559118], \"yaxis\": \"y5\"}, {\"line\": {\"width\": 1.5}, \"name\": \"GDP pc India\", \"opacity\": 0.8, \"type\": \"scatter\", \"x\": [\"1960\", \"1961\", \"1962\", \"1963\", \"1964\", \"1965\", \"1966\", \"1967\", \"1968\", \"1969\", \"1970\", \"1971\", \"1972\", \"1973\", \"1974\", \"1975\", \"1976\", \"1977\", \"1978\", \"1979\", \"1980\", \"1981\", \"1982\", \"1983\", \"1984\", \"1985\", \"1986\", \"1987\", \"1988\", \"1989\", \"1990\", \"1991\", \"1992\", \"1993\", \"1994\", \"1995\", \"1996\", \"1997\", \"1998\", \"1999\", \"2000\", \"2001\", \"2002\", \"2003\", \"2004\", \"2005\", \"2006\", \"2007\", \"2008\", \"2009\", \"2010\", \"2011\", \"2012\", \"2013\", \"2014\", \"2015\", \"2016\", \"2017\", \"2018\"], \"xaxis\": \"x3\", \"y\": [82.1886020091056, 85.3543011749033, 89.88175668635981, 101.126428181221, 115.537497020064, 119.318917211719, 89.9973059630537, 96.3391366489315, 99.8759646011063, 107.622317828827, 112.434493490322, 118.603242102118, 122.981863898262, 143.778688096538, 163.478111157501, 158.036171764282, 161.092091731697, 186.21350132527698, 205.693386086224, 224.00101683980802, 266.577848118397, 270.470602438399, 274.111331421581, 291.238110137317, 276.667958643143, 296.435151551022, 310.465935085896, 340.41683161231003, 354.149251617083, 346.11288727162497, 367.556609311203, 303.05560534270097, 316.95392789531104, 301.159004220577, 346.102950322606, 373.766480007829, 399.950076763934, 415.49379698177694, 413.298934242221, 441.998759593395, 443.31419339174005, 451.573001074356, 470.9867859491599, 546.726614478728, 627.774247283919, 714.861013495661, 806.753280628799, 1028.33477107667, 998.5223390192681, 1101.96084002239, 1357.56371913262, 1458.10352686177, 1443.87952939042, 1449.6059123387, 1573.88149211052, 1605.6054335548802, 1732.56426178428, 1981.6510498992002, 2005.8630045240302], \"yaxis\": \"y6\"}, {\"line\": {\"width\": 1.5}, \"name\": \"CO2 World\", \"opacity\": 0.8, \"type\": \"scatter\", \"x\": [\"1960\", \"1961\", \"1962\", \"1963\", \"1964\", \"1965\", \"1966\", \"1967\", \"1968\", \"1969\", \"1970\", \"1971\", \"1972\", \"1973\", \"1974\", \"1975\", \"1976\", \"1977\", \"1978\", \"1979\", \"1980\", \"1981\", \"1982\", \"1983\", \"1984\", \"1985\", \"1986\", \"1987\", \"1988\", \"1989\", \"1990\", \"1991\", \"1992\", \"1993\", \"1994\", \"1995\", \"1996\", \"1997\", \"1998\", \"1999\", \"2000\", \"2001\", \"2002\", \"2003\", \"2004\", \"2005\", \"2006\", \"2007\", \"2008\", \"2009\", \"2010\", \"2011\", \"2012\", \"2013\", \"2014\", \"2015\", \"2016\", \"2017\", \"2018\"], \"xaxis\": \"x4\", \"y\": [9410.529753, 9452.107735, 9838.202053, 10379.06796, 10969.32514, 11466.15022, 12045.55587, 12431.00938, 13063.44964, 13846.42734, 14845.81498, 15409.71755, 16023.99077, 16893.36143, 16923.578709999998, 16825.64095, 17800.97242, 18355.43923, 18561.69885, 19594.22881, 19388.09437, 18787.12262, 18624.07569, 18549.44804, 19216.86605, 19792.62184, 20395.94953, 20912.41349, 21681.10932, 22154.335730000006, 22181.80737, 22429.37743, 22195.10513, 22153.14311, 22533.83297, 23007.42538, 23522.97911, 23915.3294, 23984.9839, 23930.56147, 24558.69108, 25137.99969, 25494.19056, 26866.738380000006, 28187.59894, 29254.90635, 30286.83639, 30880.1453, 31875.7558, 31523.14297, 33066.65121, 34357.36592, 34919.28871, 35207.88598, 35505.82704, 35462.746739999995, 35675.09944, 36153.26165, 36572.75422], \"yaxis\": \"y7\"}, {\"line\": {\"width\": 1.5}, \"name\": \"GDP pc World\", \"opacity\": 0.8, \"type\": \"scatter\", \"x\": [\"1960\", \"1961\", \"1962\", \"1963\", \"1964\", \"1965\", \"1966\", \"1967\", \"1968\", \"1969\", \"1970\", \"1971\", \"1972\", \"1973\", \"1974\", \"1975\", \"1976\", \"1977\", \"1978\", \"1979\", \"1980\", \"1981\", \"1982\", \"1983\", \"1984\", \"1985\", \"1986\", \"1987\", \"1988\", \"1989\", \"1990\", \"1991\", \"1992\", \"1993\", \"1994\", \"1995\", \"1996\", \"1997\", \"1998\", \"1999\", \"2000\", \"2001\", \"2002\", \"2003\", \"2004\", \"2005\", \"2006\", \"2007\", \"2008\", \"2009\", \"2010\", \"2011\", \"2012\", \"2013\", \"2014\", \"2015\", \"2016\", \"2017\", \"2018\"], \"xaxis\": \"x4\", \"y\": [451.74421994516194, 463.82882987354895, 489.547100519881, 516.6151057870729, 554.553301280707, 591.718115178583, 628.7387592922989, 655.873528057314, 693.901057104183, 749.725141845917, 803.946596717798, 870.4373162524299, 984.529368180524, 1178.0888849374498, 1332.8027901591001, 1457.15442397903, 1556.81536533632, 1729.52627199803, 2005.1086922473999, 2288.66604408673, 2532.76318755003, 2576.6880067518105, 2507.32143332923, 2513.12816495442, 2560.9982900505397, 2643.7584018858397, 3069.91309329166, 3431.5806878793296, 3772.40135893383, 3870.4130050848103, 4285.2352705352205, 4464.654311566571, 4668.240468524221, 4669.58159701728, 4939.83490424008, 5412.34405875824, 5453.312839128211, 5357.06916527067, 5272.633303573571, 5395.9428354108295, 5498.32970525151, 5396.89193859037, 5533.425293993, 6131.22322502626, 6820.615195680811, 7297.1533986389595, 7811.936205859871, 8694.90025662167, 9423.75725244088, 8830.306908878309, 9551.33565289546, 10488.3340155715, 10605.208321960401, 10781.855305371899, 10952.3444187853, 10246.5073623909, 10281.9087997747, 10817.4819474952, 11374.8467633071], \"yaxis\": \"y8\"}],                        {\"annotations\": [{\"font\": {\"size\": 16}, \"showarrow\": false, \"text\": \"China\", \"x\": 0.185, \"xanchor\": \"center\", \"xref\": \"paper\", \"y\": 1.0, \"yanchor\": \"bottom\", \"yref\": \"paper\"}, {\"font\": {\"size\": 16}, \"showarrow\": false, \"text\": \"US\", \"x\": 0.7550000000000001, \"xanchor\": \"center\", \"xref\": \"paper\", \"y\": 1.0, \"yanchor\": \"bottom\", \"yref\": \"paper\"}, {\"font\": {\"size\": 16}, \"showarrow\": false, \"text\": \"India\", \"x\": 0.185, \"xanchor\": \"center\", \"xref\": \"paper\", \"y\": 0.375, \"yanchor\": \"bottom\", \"yref\": \"paper\"}, {\"font\": {\"size\": 16}, \"showarrow\": false, \"text\": \"World\", \"x\": 0.7550000000000001, \"xanchor\": \"center\", \"xref\": \"paper\", \"y\": 0.375, \"yanchor\": \"bottom\", \"yref\": \"paper\"}], \"legend\": {\"y\": 0.5}, \"paper_bgcolor\": \"rgb(245, 246, 250)\", \"plot_bgcolor\": \"rgb(245, 246, 250)\", \"showlegend\": false, \"template\": {\"data\": {\"bar\": [{\"error_x\": {\"color\": \"#2a3f5f\"}, \"error_y\": {\"color\": \"#2a3f5f\"}, \"marker\": {\"line\": {\"color\": \"#E5ECF6\", \"width\": 0.5}}, \"type\": \"bar\"}], \"barpolar\": [{\"marker\": {\"line\": {\"color\": \"#E5ECF6\", \"width\": 0.5}}, \"type\": \"barpolar\"}], \"carpet\": [{\"aaxis\": {\"endlinecolor\": \"#2a3f5f\", \"gridcolor\": \"white\", \"linecolor\": \"white\", \"minorgridcolor\": \"white\", \"startlinecolor\": \"#2a3f5f\"}, \"baxis\": {\"endlinecolor\": \"#2a3f5f\", \"gridcolor\": \"white\", \"linecolor\": \"white\", \"minorgridcolor\": \"white\", \"startlinecolor\": \"#2a3f5f\"}, \"type\": \"carpet\"}], \"choropleth\": [{\"colorbar\": {\"outlinewidth\": 0, \"ticks\": \"\"}, \"type\": \"choropleth\"}], \"contour\": [{\"colorbar\": {\"outlinewidth\": 0, \"ticks\": \"\"}, \"colorscale\": [[0.0, \"#0d0887\"], [0.1111111111111111, \"#46039f\"], [0.2222222222222222, \"#7201a8\"], [0.3333333333333333, \"#9c179e\"], [0.4444444444444444, \"#bd3786\"], [0.5555555555555556, \"#d8576b\"], [0.6666666666666666, \"#ed7953\"], [0.7777777777777778, \"#fb9f3a\"], [0.8888888888888888, \"#fdca26\"], [1.0, \"#f0f921\"]], \"type\": \"contour\"}], \"contourcarpet\": [{\"colorbar\": {\"outlinewidth\": 0, \"ticks\": \"\"}, \"type\": \"contourcarpet\"}], \"heatmap\": [{\"colorbar\": {\"outlinewidth\": 0, \"ticks\": \"\"}, \"colorscale\": [[0.0, \"#0d0887\"], [0.1111111111111111, \"#46039f\"], [0.2222222222222222, \"#7201a8\"], [0.3333333333333333, \"#9c179e\"], [0.4444444444444444, \"#bd3786\"], [0.5555555555555556, \"#d8576b\"], [0.6666666666666666, \"#ed7953\"], [0.7777777777777778, \"#fb9f3a\"], [0.8888888888888888, \"#fdca26\"], [1.0, \"#f0f921\"]], \"type\": \"heatmap\"}], \"heatmapgl\": [{\"colorbar\": {\"outlinewidth\": 0, \"ticks\": \"\"}, \"colorscale\": [[0.0, \"#0d0887\"], [0.1111111111111111, \"#46039f\"], [0.2222222222222222, \"#7201a8\"], [0.3333333333333333, \"#9c179e\"], [0.4444444444444444, \"#bd3786\"], [0.5555555555555556, \"#d8576b\"], [0.6666666666666666, \"#ed7953\"], [0.7777777777777778, \"#fb9f3a\"], [0.8888888888888888, \"#fdca26\"], [1.0, \"#f0f921\"]], \"type\": \"heatmapgl\"}], \"histogram\": [{\"marker\": {\"colorbar\": {\"outlinewidth\": 0, \"ticks\": \"\"}}, \"type\": \"histogram\"}], \"histogram2d\": [{\"colorbar\": {\"outlinewidth\": 0, \"ticks\": \"\"}, \"colorscale\": [[0.0, \"#0d0887\"], [0.1111111111111111, \"#46039f\"], [0.2222222222222222, \"#7201a8\"], [0.3333333333333333, \"#9c179e\"], [0.4444444444444444, \"#bd3786\"], [0.5555555555555556, \"#d8576b\"], [0.6666666666666666, \"#ed7953\"], [0.7777777777777778, \"#fb9f3a\"], [0.8888888888888888, \"#fdca26\"], [1.0, \"#f0f921\"]], \"type\": \"histogram2d\"}], \"histogram2dcontour\": [{\"colorbar\": {\"outlinewidth\": 0, \"ticks\": \"\"}, \"colorscale\": [[0.0, \"#0d0887\"], [0.1111111111111111, \"#46039f\"], [0.2222222222222222, \"#7201a8\"], [0.3333333333333333, \"#9c179e\"], [0.4444444444444444, \"#bd3786\"], [0.5555555555555556, \"#d8576b\"], [0.6666666666666666, \"#ed7953\"], [0.7777777777777778, \"#fb9f3a\"], [0.8888888888888888, \"#fdca26\"], [1.0, \"#f0f921\"]], \"type\": \"histogram2dcontour\"}], \"mesh3d\": [{\"colorbar\": {\"outlinewidth\": 0, \"ticks\": \"\"}, \"type\": \"mesh3d\"}], \"parcoords\": [{\"line\": {\"colorbar\": {\"outlinewidth\": 0, \"ticks\": \"\"}}, \"type\": \"parcoords\"}], \"pie\": [{\"automargin\": true, \"type\": \"pie\"}], \"scatter\": [{\"marker\": {\"colorbar\": {\"outlinewidth\": 0, \"ticks\": \"\"}}, \"type\": \"scatter\"}], \"scatter3d\": [{\"line\": {\"colorbar\": {\"outlinewidth\": 0, \"ticks\": \"\"}}, \"marker\": {\"colorbar\": {\"outlinewidth\": 0, \"ticks\": \"\"}}, \"type\": \"scatter3d\"}], \"scattercarpet\": [{\"marker\": {\"colorbar\": {\"outlinewidth\": 0, \"ticks\": \"\"}}, \"type\": \"scattercarpet\"}], \"scattergeo\": [{\"marker\": {\"colorbar\": {\"outlinewidth\": 0, \"ticks\": \"\"}}, \"type\": \"scattergeo\"}], \"scattergl\": [{\"marker\": {\"colorbar\": {\"outlinewidth\": 0, \"ticks\": \"\"}}, \"type\": \"scattergl\"}], \"scattermapbox\": [{\"marker\": {\"colorbar\": {\"outlinewidth\": 0, \"ticks\": \"\"}}, \"type\": \"scattermapbox\"}], \"scatterpolar\": [{\"marker\": {\"colorbar\": {\"outlinewidth\": 0, \"ticks\": \"\"}}, \"type\": \"scatterpolar\"}], \"scatterpolargl\": [{\"marker\": {\"colorbar\": {\"outlinewidth\": 0, \"ticks\": \"\"}}, \"type\": \"scatterpolargl\"}], \"scatterternary\": [{\"marker\": {\"colorbar\": {\"outlinewidth\": 0, \"ticks\": \"\"}}, \"type\": \"scatterternary\"}], \"surface\": [{\"colorbar\": {\"outlinewidth\": 0, \"ticks\": \"\"}, \"colorscale\": [[0.0, \"#0d0887\"], [0.1111111111111111, \"#46039f\"], [0.2222222222222222, \"#7201a8\"], [0.3333333333333333, \"#9c179e\"], [0.4444444444444444, \"#bd3786\"], [0.5555555555555556, \"#d8576b\"], [0.6666666666666666, \"#ed7953\"], [0.7777777777777778, \"#fb9f3a\"], [0.8888888888888888, \"#fdca26\"], [1.0, \"#f0f921\"]], \"type\": \"surface\"}], \"table\": [{\"cells\": {\"fill\": {\"color\": \"#EBF0F8\"}, \"line\": {\"color\": \"white\"}}, \"header\": {\"fill\": {\"color\": \"#C8D4E3\"}, \"line\": {\"color\": \"white\"}}, \"type\": \"table\"}]}, \"layout\": {\"annotationdefaults\": {\"arrowcolor\": \"#2a3f5f\", \"arrowhead\": 0, \"arrowwidth\": 1}, \"coloraxis\": {\"colorbar\": {\"outlinewidth\": 0, \"ticks\": \"\"}}, \"colorscale\": {\"diverging\": [[0, \"#8e0152\"], [0.1, \"#c51b7d\"], [0.2, \"#de77ae\"], [0.3, \"#f1b6da\"], [0.4, \"#fde0ef\"], [0.5, \"#f7f7f7\"], [0.6, \"#e6f5d0\"], [0.7, \"#b8e186\"], [0.8, \"#7fbc41\"], [0.9, \"#4d9221\"], [1, \"#276419\"]], \"sequential\": [[0.0, \"#0d0887\"], [0.1111111111111111, \"#46039f\"], [0.2222222222222222, \"#7201a8\"], [0.3333333333333333, \"#9c179e\"], [0.4444444444444444, \"#bd3786\"], [0.5555555555555556, \"#d8576b\"], [0.6666666666666666, \"#ed7953\"], [0.7777777777777778, \"#fb9f3a\"], [0.8888888888888888, \"#fdca26\"], [1.0, \"#f0f921\"]], \"sequentialminus\": [[0.0, \"#0d0887\"], [0.1111111111111111, \"#46039f\"], [0.2222222222222222, \"#7201a8\"], [0.3333333333333333, \"#9c179e\"], [0.4444444444444444, \"#bd3786\"], [0.5555555555555556, \"#d8576b\"], [0.6666666666666666, \"#ed7953\"], [0.7777777777777778, \"#fb9f3a\"], [0.8888888888888888, \"#fdca26\"], [1.0, \"#f0f921\"]]}, \"colorway\": [\"#636efa\", \"#EF553B\", \"#00cc96\", \"#ab63fa\", \"#FFA15A\", \"#19d3f3\", \"#FF6692\", \"#B6E880\", \"#FF97FF\", \"#FECB52\"], \"font\": {\"color\": \"#2a3f5f\"}, \"geo\": {\"bgcolor\": \"white\", \"lakecolor\": \"white\", \"landcolor\": \"#E5ECF6\", \"showlakes\": true, \"showland\": true, \"subunitcolor\": \"white\"}, \"hoverlabel\": {\"align\": \"left\"}, \"hovermode\": \"closest\", \"mapbox\": {\"style\": \"light\"}, \"paper_bgcolor\": \"white\", \"plot_bgcolor\": \"#E5ECF6\", \"polar\": {\"angularaxis\": {\"gridcolor\": \"white\", \"linecolor\": \"white\", \"ticks\": \"\"}, \"bgcolor\": \"#E5ECF6\", \"radialaxis\": {\"gridcolor\": \"white\", \"linecolor\": \"white\", \"ticks\": \"\"}}, \"scene\": {\"xaxis\": {\"backgroundcolor\": \"#E5ECF6\", \"gridcolor\": \"white\", \"gridwidth\": 2, \"linecolor\": \"white\", \"showbackground\": true, \"ticks\": \"\", \"zerolinecolor\": \"white\"}, \"yaxis\": {\"backgroundcolor\": \"#E5ECF6\", \"gridcolor\": \"white\", \"gridwidth\": 2, \"linecolor\": \"white\", \"showbackground\": true, \"ticks\": \"\", \"zerolinecolor\": \"white\"}, \"zaxis\": {\"backgroundcolor\": \"#E5ECF6\", \"gridcolor\": \"white\", \"gridwidth\": 2, \"linecolor\": \"white\", \"showbackground\": true, \"ticks\": \"\", \"zerolinecolor\": \"white\"}}, \"shapedefaults\": {\"line\": {\"color\": \"#2a3f5f\"}}, \"ternary\": {\"aaxis\": {\"gridcolor\": \"white\", \"linecolor\": \"white\", \"ticks\": \"\"}, \"baxis\": {\"gridcolor\": \"white\", \"linecolor\": \"white\", \"ticks\": \"\"}, \"bgcolor\": \"#E5ECF6\", \"caxis\": {\"gridcolor\": \"white\", \"linecolor\": \"white\", \"ticks\": \"\"}}, \"title\": {\"x\": 0.05}, \"xaxis\": {\"automargin\": true, \"gridcolor\": \"white\", \"linecolor\": \"white\", \"ticks\": \"\", \"title\": {\"standoff\": 15}, \"zerolinecolor\": \"white\", \"zerolinewidth\": 2}, \"yaxis\": {\"automargin\": true, \"gridcolor\": \"white\", \"linecolor\": \"white\", \"ticks\": \"\", \"title\": {\"standoff\": 15}, \"zerolinecolor\": \"white\", \"zerolinewidth\": 2}}}, \"title\": {\"font\": {\"size\": 22}, \"text\": \"GDP per capita vs CO2 emissions\", \"x\": 0.5}, \"xaxis\": {\"anchor\": \"y\", \"domain\": [0.0, 0.37]}, \"xaxis2\": {\"anchor\": \"y3\", \"domain\": [0.5700000000000001, 0.9400000000000001]}, \"xaxis3\": {\"anchor\": \"y5\", \"domain\": [0.0, 0.37]}, \"xaxis4\": {\"anchor\": \"y7\", \"domain\": [0.5700000000000001, 0.9400000000000001]}, \"yaxis\": {\"anchor\": \"x\", \"domain\": [0.625, 1.0], \"title\": {\"text\": \"CO2 (mm)\"}}, \"yaxis2\": {\"anchor\": \"x\", \"overlaying\": \"y\", \"side\": \"right\", \"title\": {\"text\": \"GDP (thousand USD)\"}}, \"yaxis3\": {\"anchor\": \"x2\", \"domain\": [0.625, 1.0], \"title\": {\"text\": \"CO2 (mm)\"}}, \"yaxis4\": {\"anchor\": \"x2\", \"overlaying\": \"y3\", \"side\": \"right\", \"title\": {\"text\": \"GDP (thousand USD)\"}}, \"yaxis5\": {\"anchor\": \"x3\", \"domain\": [0.0, 0.375], \"title\": {\"text\": \"CO2 (mm)\"}}, \"yaxis6\": {\"anchor\": \"x3\", \"overlaying\": \"y5\", \"side\": \"right\", \"title\": {\"text\": \"GDP (thousand USD)\"}}, \"yaxis7\": {\"anchor\": \"x4\", \"domain\": [0.0, 0.375], \"title\": {\"text\": \"CO2 (mm)\"}}, \"yaxis8\": {\"anchor\": \"x4\", \"overlaying\": \"y7\", \"side\": \"right\", \"title\": {\"text\": \"GDP (thousand USD)\"}}},                        {\"responsive\": true}                    ).then(function(){\n",
       "                            \n",
       "var gd = document.getElementById('4c7383e4-83d2-46c8-8e88-8ad25c1556e9');\n",
       "var x = new MutationObserver(function (mutations, observer) {{\n",
       "        var display = window.getComputedStyle(gd).display;\n",
       "        if (!display || display === 'none') {{\n",
       "            console.log([gd, 'removed!']);\n",
       "            Plotly.purge(gd);\n",
       "            observer.disconnect();\n",
       "        }}\n",
       "}});\n",
       "\n",
       "// Listen for the removal of the full notebook cells\n",
       "var notebookContainer = gd.closest('#notebook-container');\n",
       "if (notebookContainer) {{\n",
       "    x.observe(notebookContainer, {childList: true});\n",
       "}}\n",
       "\n",
       "// Listen for the clearing of the current output cell\n",
       "var outputEl = gd.closest('.output');\n",
       "if (outputEl) {{\n",
       "    x.observe(outputEl, {childList: true});\n",
       "}}\n",
       "\n",
       "                        })                };                });            </script>        </div>"
      ]
     },
     "metadata": {},
     "output_type": "display_data"
    }
   ],
   "source": [
    "from plotly.subplots import make_subplots\n",
    "fig = make_subplots(rows=2, cols=2,\n",
    "                    specs=[[{\"secondary_y\": True},{\"secondary_y\": True}],\n",
    "                           [{\"secondary_y\": True},{\"secondary_y\": True}]],\n",
    "                   subplot_titles=(\"China\", \"US\", \"India\", \"World\"))\n",
    "#fig = go.Figure( layout=go.Layout(xaxis=dict(title = \"Year\", color = 'black'),\n",
    "#    ))\n",
    "#fig = make_subplots(specs=[[{\"secondary_y\": True}]])\n",
    "\n",
    "fig.add_trace(go.Scatter(\n",
    "                x=df1.transpose()[38][2:-2].index,\n",
    "                y=df1.transpose()[38][2:-2],\n",
    "                name=\"CO2 China\",\n",
    "                line_width = 1.5,\n",
    "                opacity=0.8),\n",
    "             row = 1, col = 1,\n",
    "              secondary_y = False,\n",
    "             )\n",
    "\n",
    "fig.add_trace(go.Scatter(\n",
    "                x=GDP_data.transpose()[38][2:-2].index,\n",
    "                y=GDP_data.transpose()[38][2:-2],\n",
    "                name=\"GDP pc China\",\n",
    "                line_width = 1.5,\n",
    "                opacity=0.8),\n",
    "             row = 1, col = 1,\n",
    "              secondary_y = True\n",
    "             )\n",
    "\n",
    "fig.add_trace(go.Scatter(\n",
    "                x=df1.transpose()[249][2:-2].index,\n",
    "                y=df1.transpose()[249][2:-2],\n",
    "                name=\"CO2 US\",\n",
    "                line_width = 1.5,\n",
    "                opacity=0.8),\n",
    "             row = 1, col = 2,\n",
    "              secondary_y = False\n",
    "             )\n",
    "\n",
    "fig.add_trace(go.Scatter(\n",
    "                x=GDP_data.transpose()[249][2:-2].index,\n",
    "                y=GDP_data.transpose()[249][2:-2],\n",
    "                name=\"GDP pc US\",\n",
    "                line_width = 1.5,\n",
    "                opacity=0.8),\n",
    "             row = 1, col = 2,\n",
    "             secondary_y = True\n",
    "             )\n",
    "fig.add_trace(go.Scatter(\n",
    "                x=df1.transpose()[107][2:-2].index,\n",
    "                y=df1.transpose()[107][2:-2],\n",
    "                name=\"CO2 India\",\n",
    "                line_width = 1.5,\n",
    "                opacity=0.8),\n",
    "             row = 2, col = 1,\n",
    "              secondary_y = False\n",
    "             )\n",
    "\n",
    "fig.add_trace(go.Scatter(\n",
    "                x=GDP_data.transpose()[107][2:-2].index,\n",
    "                y=GDP_data.transpose()[107][2:-2],\n",
    "                name=\"GDP pc India\",\n",
    "                line_width = 1.5,\n",
    "                opacity=0.8),\n",
    "             row = 2, col = 1,\n",
    "             secondary_y = True\n",
    "             )\n",
    "\n",
    "fig.add_trace(go.Scatter(\n",
    "                x=df1.transpose()[257][2:-2].index,\n",
    "                y=df1.transpose()[257][2:-2],\n",
    "                name=\"CO2 World\",\n",
    "                line_width = 1.5,\n",
    "                opacity=0.8),\n",
    "             row = 2, col = 2,\n",
    "              secondary_y = False\n",
    "             )\n",
    "\n",
    "fig.add_trace(go.Scatter(\n",
    "                x=GDP_data.transpose()[257][2:-2].index,\n",
    "                y=GDP_data.transpose()[257][2:-2],\n",
    "                name=\"GDP pc World\",\n",
    "                line_width = 1.5,\n",
    "                opacity=0.8),\n",
    "             row = 2, col = 2,\n",
    "             secondary_y = True\n",
    "             )\n",
    "\n",
    "\n",
    "# Use date string to set xaxis range\n",
    "fig.update_layout(title_text = \"GDP per capita vs CO2 emissions\", \n",
    "                  title_x=0.5, title_font_size = 22, legend_y = 0.5,showlegend=False,\n",
    "                  paper_bgcolor = 'rgb(245, 246, 250)', plot_bgcolor = 'rgb(245, 246, 250)')\n",
    "fig.update_yaxes(title_text=\"CO2 (mm)\", secondary_y=False)\n",
    "fig.update_yaxes(title_text=\"GDP (thousand USD)\", secondary_y=True)\n",
    "fig.show()"
   ]
  },
  {
   "cell_type": "markdown",
   "metadata": {},
   "source": [
    "## b) Germany - negative correlation example"
   ]
  },
  {
   "cell_type": "code",
   "execution_count": 38,
   "metadata": {},
   "outputs": [
    {
     "data": {
      "application/vnd.plotly.v1+json": {
       "config": {
        "plotlyServerURL": "https://plot.ly"
       },
       "data": [
        {
         "line": {
          "width": 1.5
         },
         "name": "CO2 Germany",
         "opacity": 0.8,
         "type": "scatter",
         "x": [
          "1960",
          "1961",
          "1962",
          "1963",
          "1964",
          "1965",
          "1966",
          "1967",
          "1968",
          "1969",
          "1970",
          "1971",
          "1972",
          "1973",
          "1974",
          "1975",
          "1976",
          "1977",
          "1978",
          "1979",
          "1980",
          "1981",
          "1982",
          "1983",
          "1984",
          "1985",
          "1986",
          "1987",
          "1988",
          "1989",
          "1990",
          "1991",
          "1992",
          "1993",
          "1994",
          "1995",
          "1996",
          "1997",
          "1998",
          "1999",
          "2000",
          "2001",
          "2002",
          "2003",
          "2004",
          "2005",
          "2006",
          "2007",
          "2008",
          "2009",
          "2010",
          "2011",
          "2012",
          "2013",
          "2014",
          "2015",
          "2016",
          "2017",
          "2018"
         ],
         "xaxis": "x",
         "y": [
          813.9502100041775,
          834.8396231475238,
          883.1686033597508,
          945.4979855055118,
          968.9174855762759,
          960.1022379968506,
          951.4219925723693,
          936.2294177234646,
          984.7908132104976,
          1052.0008317820473,
          1026.022305227087,
          1037.2360869220004,
          1041.4795084604634,
          1085.7362505674969,
          1062.7243395242765,
          1002.4438870483431,
          1090.836539846684,
          1052.6041056500637,
          1079.1272321165327,
          1117.882127283857,
          1100.0594495452076,
          1048.5166083480487,
          1015.726852103224,
          1011.5971956790685,
          1033.2366270507378,
          1044.1100860783301,
          1047.4632414909156,
          1032.433845601188,
          1029.014343594865,
          1008.7814687983375,
          1052.5201332520164,
          1014.4400373797192,
          966.1767657342656,
          956.5174687287836,
          939.9083528490668,
          939.5428335838153,
          959.6063472315907,
          931.7503371827702,
          923.8236976200327,
          896.3125922989598,
          900.3762597043793,
          916.9125218842172,
          900.3872961965254,
          901.4093236690642,
          887.4579484411639,
          866.640497302709,
          878.0764627261162,
          851.4184983775659,
          853.7714169755214,
          788.9235139433493,
          832.3876799342643,
          809.748546283835,
          814.1379783550665,
          831.5703541787424,
          792.7931853654477,
          795.9395490363329,
          801.6548292243831,
          797.9664001392047,
          759.0019458216713
         ],
         "yaxis": "y"
        },
        {
         "line": {
          "width": 1.5
         },
         "name": "GDP pc Germany",
         "opacity": 0.8,
         "type": "scatter",
         "x": [
          "1960",
          "1961",
          "1962",
          "1963",
          "1964",
          "1965",
          "1966",
          "1967",
          "1968",
          "1969",
          "1970",
          "1971",
          "1972",
          "1973",
          "1974",
          "1975",
          "1976",
          "1977",
          "1978",
          "1979",
          "1980",
          "1981",
          "1982",
          "1983",
          "1984",
          "1985",
          "1986",
          "1987",
          "1988",
          "1989",
          "1990",
          "1991",
          "1992",
          "1993",
          "1994",
          "1995",
          "1996",
          "1997",
          "1998",
          "1999",
          "2000",
          "2001",
          "2002",
          "2003",
          "2004",
          "2005",
          "2006",
          "2007",
          "2008",
          "2009",
          "2010",
          "2011",
          "2012",
          "2013",
          "2014",
          "2015",
          "2016",
          "2017",
          "2018"
         ],
         "xaxis": "x",
         "y": [
          null,
          null,
          null,
          null,
          null,
          null,
          null,
          null,
          null,
          null,
          2761.16683631154,
          3192.1336177736,
          3809.9814472330895,
          5046.75510676642,
          5639.07761842548,
          6236.358885340501,
          6634.85689909309,
          7682.953776006421,
          9482.04284590652,
          11281.0233217764,
          12138.3081048011,
          10209.073113177099,
          9913.73764365182,
          9864.3449403866,
          9313.169414196529,
          9429.56921260612,
          13461.8310057324,
          16677.5107867621,
          17931.282325738,
          17764.3764392283,
          22303.9613327585,
          23357.757725073,
          26438.2303888417,
          25522.629573361803,
          27076.60675014,
          31658.349378913503,
          30485.8665482279,
          26964.0494672673,
          27289.0593603191,
          26725.9152182573,
          23635.929220397702,
          23607.882855392203,
          25077.7290759602,
          30243.5765296979,
          34044.0536341248,
          34507.368814233196,
          36323.4477421822,
          41587.2128984264,
          45427.151677489004,
          41485.9016495139,
          41531.934197868904,
          46644.776027968,
          43858.3630551076,
          46285.764068840705,
          47959.9932737599,
          41139.5445685533,
          42098.9204453545,
          44349.589655275704,
          47639.0034407122
         ],
         "yaxis": "y2"
        }
       ],
       "layout": {
        "legend": {
         "y": 0.5
        },
        "paper_bgcolor": "rgb(245, 246, 250)",
        "plot_bgcolor": "rgb(245, 246, 250)",
        "showlegend": false,
        "template": {
         "data": {
          "bar": [
           {
            "error_x": {
             "color": "#2a3f5f"
            },
            "error_y": {
             "color": "#2a3f5f"
            },
            "marker": {
             "line": {
              "color": "#E5ECF6",
              "width": 0.5
             }
            },
            "type": "bar"
           }
          ],
          "barpolar": [
           {
            "marker": {
             "line": {
              "color": "#E5ECF6",
              "width": 0.5
             }
            },
            "type": "barpolar"
           }
          ],
          "carpet": [
           {
            "aaxis": {
             "endlinecolor": "#2a3f5f",
             "gridcolor": "white",
             "linecolor": "white",
             "minorgridcolor": "white",
             "startlinecolor": "#2a3f5f"
            },
            "baxis": {
             "endlinecolor": "#2a3f5f",
             "gridcolor": "white",
             "linecolor": "white",
             "minorgridcolor": "white",
             "startlinecolor": "#2a3f5f"
            },
            "type": "carpet"
           }
          ],
          "choropleth": [
           {
            "colorbar": {
             "outlinewidth": 0,
             "ticks": ""
            },
            "type": "choropleth"
           }
          ],
          "contour": [
           {
            "colorbar": {
             "outlinewidth": 0,
             "ticks": ""
            },
            "colorscale": [
             [
              0,
              "#0d0887"
             ],
             [
              0.1111111111111111,
              "#46039f"
             ],
             [
              0.2222222222222222,
              "#7201a8"
             ],
             [
              0.3333333333333333,
              "#9c179e"
             ],
             [
              0.4444444444444444,
              "#bd3786"
             ],
             [
              0.5555555555555556,
              "#d8576b"
             ],
             [
              0.6666666666666666,
              "#ed7953"
             ],
             [
              0.7777777777777778,
              "#fb9f3a"
             ],
             [
              0.8888888888888888,
              "#fdca26"
             ],
             [
              1,
              "#f0f921"
             ]
            ],
            "type": "contour"
           }
          ],
          "contourcarpet": [
           {
            "colorbar": {
             "outlinewidth": 0,
             "ticks": ""
            },
            "type": "contourcarpet"
           }
          ],
          "heatmap": [
           {
            "colorbar": {
             "outlinewidth": 0,
             "ticks": ""
            },
            "colorscale": [
             [
              0,
              "#0d0887"
             ],
             [
              0.1111111111111111,
              "#46039f"
             ],
             [
              0.2222222222222222,
              "#7201a8"
             ],
             [
              0.3333333333333333,
              "#9c179e"
             ],
             [
              0.4444444444444444,
              "#bd3786"
             ],
             [
              0.5555555555555556,
              "#d8576b"
             ],
             [
              0.6666666666666666,
              "#ed7953"
             ],
             [
              0.7777777777777778,
              "#fb9f3a"
             ],
             [
              0.8888888888888888,
              "#fdca26"
             ],
             [
              1,
              "#f0f921"
             ]
            ],
            "type": "heatmap"
           }
          ],
          "heatmapgl": [
           {
            "colorbar": {
             "outlinewidth": 0,
             "ticks": ""
            },
            "colorscale": [
             [
              0,
              "#0d0887"
             ],
             [
              0.1111111111111111,
              "#46039f"
             ],
             [
              0.2222222222222222,
              "#7201a8"
             ],
             [
              0.3333333333333333,
              "#9c179e"
             ],
             [
              0.4444444444444444,
              "#bd3786"
             ],
             [
              0.5555555555555556,
              "#d8576b"
             ],
             [
              0.6666666666666666,
              "#ed7953"
             ],
             [
              0.7777777777777778,
              "#fb9f3a"
             ],
             [
              0.8888888888888888,
              "#fdca26"
             ],
             [
              1,
              "#f0f921"
             ]
            ],
            "type": "heatmapgl"
           }
          ],
          "histogram": [
           {
            "marker": {
             "colorbar": {
              "outlinewidth": 0,
              "ticks": ""
             }
            },
            "type": "histogram"
           }
          ],
          "histogram2d": [
           {
            "colorbar": {
             "outlinewidth": 0,
             "ticks": ""
            },
            "colorscale": [
             [
              0,
              "#0d0887"
             ],
             [
              0.1111111111111111,
              "#46039f"
             ],
             [
              0.2222222222222222,
              "#7201a8"
             ],
             [
              0.3333333333333333,
              "#9c179e"
             ],
             [
              0.4444444444444444,
              "#bd3786"
             ],
             [
              0.5555555555555556,
              "#d8576b"
             ],
             [
              0.6666666666666666,
              "#ed7953"
             ],
             [
              0.7777777777777778,
              "#fb9f3a"
             ],
             [
              0.8888888888888888,
              "#fdca26"
             ],
             [
              1,
              "#f0f921"
             ]
            ],
            "type": "histogram2d"
           }
          ],
          "histogram2dcontour": [
           {
            "colorbar": {
             "outlinewidth": 0,
             "ticks": ""
            },
            "colorscale": [
             [
              0,
              "#0d0887"
             ],
             [
              0.1111111111111111,
              "#46039f"
             ],
             [
              0.2222222222222222,
              "#7201a8"
             ],
             [
              0.3333333333333333,
              "#9c179e"
             ],
             [
              0.4444444444444444,
              "#bd3786"
             ],
             [
              0.5555555555555556,
              "#d8576b"
             ],
             [
              0.6666666666666666,
              "#ed7953"
             ],
             [
              0.7777777777777778,
              "#fb9f3a"
             ],
             [
              0.8888888888888888,
              "#fdca26"
             ],
             [
              1,
              "#f0f921"
             ]
            ],
            "type": "histogram2dcontour"
           }
          ],
          "mesh3d": [
           {
            "colorbar": {
             "outlinewidth": 0,
             "ticks": ""
            },
            "type": "mesh3d"
           }
          ],
          "parcoords": [
           {
            "line": {
             "colorbar": {
              "outlinewidth": 0,
              "ticks": ""
             }
            },
            "type": "parcoords"
           }
          ],
          "pie": [
           {
            "automargin": true,
            "type": "pie"
           }
          ],
          "scatter": [
           {
            "marker": {
             "colorbar": {
              "outlinewidth": 0,
              "ticks": ""
             }
            },
            "type": "scatter"
           }
          ],
          "scatter3d": [
           {
            "line": {
             "colorbar": {
              "outlinewidth": 0,
              "ticks": ""
             }
            },
            "marker": {
             "colorbar": {
              "outlinewidth": 0,
              "ticks": ""
             }
            },
            "type": "scatter3d"
           }
          ],
          "scattercarpet": [
           {
            "marker": {
             "colorbar": {
              "outlinewidth": 0,
              "ticks": ""
             }
            },
            "type": "scattercarpet"
           }
          ],
          "scattergeo": [
           {
            "marker": {
             "colorbar": {
              "outlinewidth": 0,
              "ticks": ""
             }
            },
            "type": "scattergeo"
           }
          ],
          "scattergl": [
           {
            "marker": {
             "colorbar": {
              "outlinewidth": 0,
              "ticks": ""
             }
            },
            "type": "scattergl"
           }
          ],
          "scattermapbox": [
           {
            "marker": {
             "colorbar": {
              "outlinewidth": 0,
              "ticks": ""
             }
            },
            "type": "scattermapbox"
           }
          ],
          "scatterpolar": [
           {
            "marker": {
             "colorbar": {
              "outlinewidth": 0,
              "ticks": ""
             }
            },
            "type": "scatterpolar"
           }
          ],
          "scatterpolargl": [
           {
            "marker": {
             "colorbar": {
              "outlinewidth": 0,
              "ticks": ""
             }
            },
            "type": "scatterpolargl"
           }
          ],
          "scatterternary": [
           {
            "marker": {
             "colorbar": {
              "outlinewidth": 0,
              "ticks": ""
             }
            },
            "type": "scatterternary"
           }
          ],
          "surface": [
           {
            "colorbar": {
             "outlinewidth": 0,
             "ticks": ""
            },
            "colorscale": [
             [
              0,
              "#0d0887"
             ],
             [
              0.1111111111111111,
              "#46039f"
             ],
             [
              0.2222222222222222,
              "#7201a8"
             ],
             [
              0.3333333333333333,
              "#9c179e"
             ],
             [
              0.4444444444444444,
              "#bd3786"
             ],
             [
              0.5555555555555556,
              "#d8576b"
             ],
             [
              0.6666666666666666,
              "#ed7953"
             ],
             [
              0.7777777777777778,
              "#fb9f3a"
             ],
             [
              0.8888888888888888,
              "#fdca26"
             ],
             [
              1,
              "#f0f921"
             ]
            ],
            "type": "surface"
           }
          ],
          "table": [
           {
            "cells": {
             "fill": {
              "color": "#EBF0F8"
             },
             "line": {
              "color": "white"
             }
            },
            "header": {
             "fill": {
              "color": "#C8D4E3"
             },
             "line": {
              "color": "white"
             }
            },
            "type": "table"
           }
          ]
         },
         "layout": {
          "annotationdefaults": {
           "arrowcolor": "#2a3f5f",
           "arrowhead": 0,
           "arrowwidth": 1
          },
          "coloraxis": {
           "colorbar": {
            "outlinewidth": 0,
            "ticks": ""
           }
          },
          "colorscale": {
           "diverging": [
            [
             0,
             "#8e0152"
            ],
            [
             0.1,
             "#c51b7d"
            ],
            [
             0.2,
             "#de77ae"
            ],
            [
             0.3,
             "#f1b6da"
            ],
            [
             0.4,
             "#fde0ef"
            ],
            [
             0.5,
             "#f7f7f7"
            ],
            [
             0.6,
             "#e6f5d0"
            ],
            [
             0.7,
             "#b8e186"
            ],
            [
             0.8,
             "#7fbc41"
            ],
            [
             0.9,
             "#4d9221"
            ],
            [
             1,
             "#276419"
            ]
           ],
           "sequential": [
            [
             0,
             "#0d0887"
            ],
            [
             0.1111111111111111,
             "#46039f"
            ],
            [
             0.2222222222222222,
             "#7201a8"
            ],
            [
             0.3333333333333333,
             "#9c179e"
            ],
            [
             0.4444444444444444,
             "#bd3786"
            ],
            [
             0.5555555555555556,
             "#d8576b"
            ],
            [
             0.6666666666666666,
             "#ed7953"
            ],
            [
             0.7777777777777778,
             "#fb9f3a"
            ],
            [
             0.8888888888888888,
             "#fdca26"
            ],
            [
             1,
             "#f0f921"
            ]
           ],
           "sequentialminus": [
            [
             0,
             "#0d0887"
            ],
            [
             0.1111111111111111,
             "#46039f"
            ],
            [
             0.2222222222222222,
             "#7201a8"
            ],
            [
             0.3333333333333333,
             "#9c179e"
            ],
            [
             0.4444444444444444,
             "#bd3786"
            ],
            [
             0.5555555555555556,
             "#d8576b"
            ],
            [
             0.6666666666666666,
             "#ed7953"
            ],
            [
             0.7777777777777778,
             "#fb9f3a"
            ],
            [
             0.8888888888888888,
             "#fdca26"
            ],
            [
             1,
             "#f0f921"
            ]
           ]
          },
          "colorway": [
           "#636efa",
           "#EF553B",
           "#00cc96",
           "#ab63fa",
           "#FFA15A",
           "#19d3f3",
           "#FF6692",
           "#B6E880",
           "#FF97FF",
           "#FECB52"
          ],
          "font": {
           "color": "#2a3f5f"
          },
          "geo": {
           "bgcolor": "white",
           "lakecolor": "white",
           "landcolor": "#E5ECF6",
           "showlakes": true,
           "showland": true,
           "subunitcolor": "white"
          },
          "hoverlabel": {
           "align": "left"
          },
          "hovermode": "closest",
          "mapbox": {
           "style": "light"
          },
          "paper_bgcolor": "white",
          "plot_bgcolor": "#E5ECF6",
          "polar": {
           "angularaxis": {
            "gridcolor": "white",
            "linecolor": "white",
            "ticks": ""
           },
           "bgcolor": "#E5ECF6",
           "radialaxis": {
            "gridcolor": "white",
            "linecolor": "white",
            "ticks": ""
           }
          },
          "scene": {
           "xaxis": {
            "backgroundcolor": "#E5ECF6",
            "gridcolor": "white",
            "gridwidth": 2,
            "linecolor": "white",
            "showbackground": true,
            "ticks": "",
            "zerolinecolor": "white"
           },
           "yaxis": {
            "backgroundcolor": "#E5ECF6",
            "gridcolor": "white",
            "gridwidth": 2,
            "linecolor": "white",
            "showbackground": true,
            "ticks": "",
            "zerolinecolor": "white"
           },
           "zaxis": {
            "backgroundcolor": "#E5ECF6",
            "gridcolor": "white",
            "gridwidth": 2,
            "linecolor": "white",
            "showbackground": true,
            "ticks": "",
            "zerolinecolor": "white"
           }
          },
          "shapedefaults": {
           "line": {
            "color": "#2a3f5f"
           }
          },
          "ternary": {
           "aaxis": {
            "gridcolor": "white",
            "linecolor": "white",
            "ticks": ""
           },
           "baxis": {
            "gridcolor": "white",
            "linecolor": "white",
            "ticks": ""
           },
           "bgcolor": "#E5ECF6",
           "caxis": {
            "gridcolor": "white",
            "linecolor": "white",
            "ticks": ""
           }
          },
          "title": {
           "x": 0.05
          },
          "xaxis": {
           "automargin": true,
           "gridcolor": "white",
           "linecolor": "white",
           "ticks": "",
           "title": {
            "standoff": 15
           },
           "zerolinecolor": "white",
           "zerolinewidth": 2
          },
          "yaxis": {
           "automargin": true,
           "gridcolor": "white",
           "linecolor": "white",
           "ticks": "",
           "title": {
            "standoff": 15
           },
           "zerolinecolor": "white",
           "zerolinewidth": 2
          }
         }
        },
        "title": {
         "font": {
          "size": 22
         },
         "text": "GDP per capita vs CO2 emissions (Germany)",
         "x": 0.5
        },
        "xaxis": {
         "anchor": "y",
         "domain": [
          0,
          0.94
         ]
        },
        "yaxis": {
         "anchor": "x",
         "domain": [
          0,
          1
         ],
         "title": {
          "text": "CO2 (mm)"
         }
        },
        "yaxis2": {
         "anchor": "x",
         "overlaying": "y",
         "side": "right",
         "title": {
          "text": "GDP (thousand USD)"
         }
        }
       }
      },
      "text/html": [
       "<div>                            <div id=\"fecfdcf3-17e9-4389-a321-33581e7e0fb8\" class=\"plotly-graph-div\" style=\"height:525px; width:100%;\"></div>            <script type=\"text/javascript\">                require([\"plotly\"], function(Plotly) {                    window.PLOTLYENV=window.PLOTLYENV || {};                                    if (document.getElementById(\"fecfdcf3-17e9-4389-a321-33581e7e0fb8\")) {                    Plotly.newPlot(                        \"fecfdcf3-17e9-4389-a321-33581e7e0fb8\",                        [{\"line\": {\"width\": 1.5}, \"name\": \"CO2 Germany\", \"opacity\": 0.8, \"type\": \"scatter\", \"x\": [\"1960\", \"1961\", \"1962\", \"1963\", \"1964\", \"1965\", \"1966\", \"1967\", \"1968\", \"1969\", \"1970\", \"1971\", \"1972\", \"1973\", \"1974\", \"1975\", \"1976\", \"1977\", \"1978\", \"1979\", \"1980\", \"1981\", \"1982\", \"1983\", \"1984\", \"1985\", \"1986\", \"1987\", \"1988\", \"1989\", \"1990\", \"1991\", \"1992\", \"1993\", \"1994\", \"1995\", \"1996\", \"1997\", \"1998\", \"1999\", \"2000\", \"2001\", \"2002\", \"2003\", \"2004\", \"2005\", \"2006\", \"2007\", \"2008\", \"2009\", \"2010\", \"2011\", \"2012\", \"2013\", \"2014\", \"2015\", \"2016\", \"2017\", \"2018\"], \"xaxis\": \"x\", \"y\": [813.9502100041775, 834.8396231475238, 883.1686033597508, 945.4979855055118, 968.9174855762759, 960.1022379968506, 951.4219925723693, 936.2294177234646, 984.7908132104976, 1052.0008317820473, 1026.022305227087, 1037.2360869220004, 1041.4795084604634, 1085.7362505674969, 1062.7243395242765, 1002.4438870483431, 1090.836539846684, 1052.6041056500637, 1079.1272321165327, 1117.882127283857, 1100.0594495452076, 1048.5166083480487, 1015.726852103224, 1011.5971956790685, 1033.2366270507378, 1044.1100860783301, 1047.4632414909156, 1032.433845601188, 1029.014343594865, 1008.7814687983375, 1052.5201332520164, 1014.4400373797192, 966.1767657342656, 956.5174687287836, 939.9083528490668, 939.5428335838153, 959.6063472315907, 931.7503371827702, 923.8236976200327, 896.3125922989598, 900.3762597043793, 916.9125218842172, 900.3872961965254, 901.4093236690642, 887.4579484411639, 866.640497302709, 878.0764627261162, 851.4184983775659, 853.7714169755214, 788.9235139433493, 832.3876799342643, 809.748546283835, 814.1379783550665, 831.5703541787424, 792.7931853654477, 795.9395490363329, 801.6548292243831, 797.9664001392047, 759.0019458216713], \"yaxis\": \"y\"}, {\"line\": {\"width\": 1.5}, \"name\": \"GDP pc Germany\", \"opacity\": 0.8, \"type\": \"scatter\", \"x\": [\"1960\", \"1961\", \"1962\", \"1963\", \"1964\", \"1965\", \"1966\", \"1967\", \"1968\", \"1969\", \"1970\", \"1971\", \"1972\", \"1973\", \"1974\", \"1975\", \"1976\", \"1977\", \"1978\", \"1979\", \"1980\", \"1981\", \"1982\", \"1983\", \"1984\", \"1985\", \"1986\", \"1987\", \"1988\", \"1989\", \"1990\", \"1991\", \"1992\", \"1993\", \"1994\", \"1995\", \"1996\", \"1997\", \"1998\", \"1999\", \"2000\", \"2001\", \"2002\", \"2003\", \"2004\", \"2005\", \"2006\", \"2007\", \"2008\", \"2009\", \"2010\", \"2011\", \"2012\", \"2013\", \"2014\", \"2015\", \"2016\", \"2017\", \"2018\"], \"xaxis\": \"x\", \"y\": [null, null, null, null, null, null, null, null, null, null, 2761.16683631154, 3192.1336177736, 3809.9814472330895, 5046.75510676642, 5639.07761842548, 6236.358885340501, 6634.85689909309, 7682.953776006421, 9482.04284590652, 11281.0233217764, 12138.3081048011, 10209.073113177099, 9913.73764365182, 9864.3449403866, 9313.169414196529, 9429.56921260612, 13461.8310057324, 16677.5107867621, 17931.282325738, 17764.3764392283, 22303.9613327585, 23357.757725073, 26438.2303888417, 25522.629573361803, 27076.60675014, 31658.349378913503, 30485.8665482279, 26964.0494672673, 27289.0593603191, 26725.9152182573, 23635.929220397702, 23607.882855392203, 25077.7290759602, 30243.5765296979, 34044.0536341248, 34507.368814233196, 36323.4477421822, 41587.2128984264, 45427.151677489004, 41485.9016495139, 41531.934197868904, 46644.776027968, 43858.3630551076, 46285.764068840705, 47959.9932737599, 41139.5445685533, 42098.9204453545, 44349.589655275704, 47639.0034407122], \"yaxis\": \"y2\"}],                        {\"legend\": {\"y\": 0.5}, \"paper_bgcolor\": \"rgb(245, 246, 250)\", \"plot_bgcolor\": \"rgb(245, 246, 250)\", \"showlegend\": false, \"template\": {\"data\": {\"bar\": [{\"error_x\": {\"color\": \"#2a3f5f\"}, \"error_y\": {\"color\": \"#2a3f5f\"}, \"marker\": {\"line\": {\"color\": \"#E5ECF6\", \"width\": 0.5}}, \"type\": \"bar\"}], \"barpolar\": [{\"marker\": {\"line\": {\"color\": \"#E5ECF6\", \"width\": 0.5}}, \"type\": \"barpolar\"}], \"carpet\": [{\"aaxis\": {\"endlinecolor\": \"#2a3f5f\", \"gridcolor\": \"white\", \"linecolor\": \"white\", \"minorgridcolor\": \"white\", \"startlinecolor\": \"#2a3f5f\"}, \"baxis\": {\"endlinecolor\": \"#2a3f5f\", \"gridcolor\": \"white\", \"linecolor\": \"white\", \"minorgridcolor\": \"white\", \"startlinecolor\": \"#2a3f5f\"}, \"type\": \"carpet\"}], \"choropleth\": [{\"colorbar\": {\"outlinewidth\": 0, \"ticks\": \"\"}, \"type\": \"choropleth\"}], \"contour\": [{\"colorbar\": {\"outlinewidth\": 0, \"ticks\": \"\"}, \"colorscale\": [[0.0, \"#0d0887\"], [0.1111111111111111, \"#46039f\"], [0.2222222222222222, \"#7201a8\"], [0.3333333333333333, \"#9c179e\"], [0.4444444444444444, \"#bd3786\"], [0.5555555555555556, \"#d8576b\"], [0.6666666666666666, \"#ed7953\"], [0.7777777777777778, \"#fb9f3a\"], [0.8888888888888888, \"#fdca26\"], [1.0, \"#f0f921\"]], \"type\": \"contour\"}], \"contourcarpet\": [{\"colorbar\": {\"outlinewidth\": 0, \"ticks\": \"\"}, \"type\": \"contourcarpet\"}], \"heatmap\": [{\"colorbar\": {\"outlinewidth\": 0, \"ticks\": \"\"}, \"colorscale\": [[0.0, \"#0d0887\"], [0.1111111111111111, \"#46039f\"], [0.2222222222222222, \"#7201a8\"], [0.3333333333333333, \"#9c179e\"], [0.4444444444444444, \"#bd3786\"], [0.5555555555555556, \"#d8576b\"], [0.6666666666666666, \"#ed7953\"], [0.7777777777777778, \"#fb9f3a\"], [0.8888888888888888, \"#fdca26\"], [1.0, \"#f0f921\"]], \"type\": \"heatmap\"}], \"heatmapgl\": [{\"colorbar\": {\"outlinewidth\": 0, \"ticks\": \"\"}, \"colorscale\": [[0.0, \"#0d0887\"], [0.1111111111111111, \"#46039f\"], [0.2222222222222222, \"#7201a8\"], [0.3333333333333333, \"#9c179e\"], [0.4444444444444444, \"#bd3786\"], [0.5555555555555556, \"#d8576b\"], [0.6666666666666666, \"#ed7953\"], [0.7777777777777778, \"#fb9f3a\"], [0.8888888888888888, \"#fdca26\"], [1.0, \"#f0f921\"]], \"type\": \"heatmapgl\"}], \"histogram\": [{\"marker\": {\"colorbar\": {\"outlinewidth\": 0, \"ticks\": \"\"}}, \"type\": \"histogram\"}], \"histogram2d\": [{\"colorbar\": {\"outlinewidth\": 0, \"ticks\": \"\"}, \"colorscale\": [[0.0, \"#0d0887\"], [0.1111111111111111, \"#46039f\"], [0.2222222222222222, \"#7201a8\"], [0.3333333333333333, \"#9c179e\"], [0.4444444444444444, \"#bd3786\"], [0.5555555555555556, \"#d8576b\"], [0.6666666666666666, \"#ed7953\"], [0.7777777777777778, \"#fb9f3a\"], [0.8888888888888888, \"#fdca26\"], [1.0, \"#f0f921\"]], \"type\": \"histogram2d\"}], \"histogram2dcontour\": [{\"colorbar\": {\"outlinewidth\": 0, \"ticks\": \"\"}, \"colorscale\": [[0.0, \"#0d0887\"], [0.1111111111111111, \"#46039f\"], [0.2222222222222222, \"#7201a8\"], [0.3333333333333333, \"#9c179e\"], [0.4444444444444444, \"#bd3786\"], [0.5555555555555556, \"#d8576b\"], [0.6666666666666666, \"#ed7953\"], [0.7777777777777778, \"#fb9f3a\"], [0.8888888888888888, \"#fdca26\"], [1.0, \"#f0f921\"]], \"type\": \"histogram2dcontour\"}], \"mesh3d\": [{\"colorbar\": {\"outlinewidth\": 0, \"ticks\": \"\"}, \"type\": \"mesh3d\"}], \"parcoords\": [{\"line\": {\"colorbar\": {\"outlinewidth\": 0, \"ticks\": \"\"}}, \"type\": \"parcoords\"}], \"pie\": [{\"automargin\": true, \"type\": \"pie\"}], \"scatter\": [{\"marker\": {\"colorbar\": {\"outlinewidth\": 0, \"ticks\": \"\"}}, \"type\": \"scatter\"}], \"scatter3d\": [{\"line\": {\"colorbar\": {\"outlinewidth\": 0, \"ticks\": \"\"}}, \"marker\": {\"colorbar\": {\"outlinewidth\": 0, \"ticks\": \"\"}}, \"type\": \"scatter3d\"}], \"scattercarpet\": [{\"marker\": {\"colorbar\": {\"outlinewidth\": 0, \"ticks\": \"\"}}, \"type\": \"scattercarpet\"}], \"scattergeo\": [{\"marker\": {\"colorbar\": {\"outlinewidth\": 0, \"ticks\": \"\"}}, \"type\": \"scattergeo\"}], \"scattergl\": [{\"marker\": {\"colorbar\": {\"outlinewidth\": 0, \"ticks\": \"\"}}, \"type\": \"scattergl\"}], \"scattermapbox\": [{\"marker\": {\"colorbar\": {\"outlinewidth\": 0, \"ticks\": \"\"}}, \"type\": \"scattermapbox\"}], \"scatterpolar\": [{\"marker\": {\"colorbar\": {\"outlinewidth\": 0, \"ticks\": \"\"}}, \"type\": \"scatterpolar\"}], \"scatterpolargl\": [{\"marker\": {\"colorbar\": {\"outlinewidth\": 0, \"ticks\": \"\"}}, \"type\": \"scatterpolargl\"}], \"scatterternary\": [{\"marker\": {\"colorbar\": {\"outlinewidth\": 0, \"ticks\": \"\"}}, \"type\": \"scatterternary\"}], \"surface\": [{\"colorbar\": {\"outlinewidth\": 0, \"ticks\": \"\"}, \"colorscale\": [[0.0, \"#0d0887\"], [0.1111111111111111, \"#46039f\"], [0.2222222222222222, \"#7201a8\"], [0.3333333333333333, \"#9c179e\"], [0.4444444444444444, \"#bd3786\"], [0.5555555555555556, \"#d8576b\"], [0.6666666666666666, \"#ed7953\"], [0.7777777777777778, \"#fb9f3a\"], [0.8888888888888888, \"#fdca26\"], [1.0, \"#f0f921\"]], \"type\": \"surface\"}], \"table\": [{\"cells\": {\"fill\": {\"color\": \"#EBF0F8\"}, \"line\": {\"color\": \"white\"}}, \"header\": {\"fill\": {\"color\": \"#C8D4E3\"}, \"line\": {\"color\": \"white\"}}, \"type\": \"table\"}]}, \"layout\": {\"annotationdefaults\": {\"arrowcolor\": \"#2a3f5f\", \"arrowhead\": 0, \"arrowwidth\": 1}, \"coloraxis\": {\"colorbar\": {\"outlinewidth\": 0, \"ticks\": \"\"}}, \"colorscale\": {\"diverging\": [[0, \"#8e0152\"], [0.1, \"#c51b7d\"], [0.2, \"#de77ae\"], [0.3, \"#f1b6da\"], [0.4, \"#fde0ef\"], [0.5, \"#f7f7f7\"], [0.6, \"#e6f5d0\"], [0.7, \"#b8e186\"], [0.8, \"#7fbc41\"], [0.9, \"#4d9221\"], [1, \"#276419\"]], \"sequential\": [[0.0, \"#0d0887\"], [0.1111111111111111, \"#46039f\"], [0.2222222222222222, \"#7201a8\"], [0.3333333333333333, \"#9c179e\"], [0.4444444444444444, \"#bd3786\"], [0.5555555555555556, \"#d8576b\"], [0.6666666666666666, \"#ed7953\"], [0.7777777777777778, \"#fb9f3a\"], [0.8888888888888888, \"#fdca26\"], [1.0, \"#f0f921\"]], \"sequentialminus\": [[0.0, \"#0d0887\"], [0.1111111111111111, \"#46039f\"], [0.2222222222222222, \"#7201a8\"], [0.3333333333333333, \"#9c179e\"], [0.4444444444444444, \"#bd3786\"], [0.5555555555555556, \"#d8576b\"], [0.6666666666666666, \"#ed7953\"], [0.7777777777777778, \"#fb9f3a\"], [0.8888888888888888, \"#fdca26\"], [1.0, \"#f0f921\"]]}, \"colorway\": [\"#636efa\", \"#EF553B\", \"#00cc96\", \"#ab63fa\", \"#FFA15A\", \"#19d3f3\", \"#FF6692\", \"#B6E880\", \"#FF97FF\", \"#FECB52\"], \"font\": {\"color\": \"#2a3f5f\"}, \"geo\": {\"bgcolor\": \"white\", \"lakecolor\": \"white\", \"landcolor\": \"#E5ECF6\", \"showlakes\": true, \"showland\": true, \"subunitcolor\": \"white\"}, \"hoverlabel\": {\"align\": \"left\"}, \"hovermode\": \"closest\", \"mapbox\": {\"style\": \"light\"}, \"paper_bgcolor\": \"white\", \"plot_bgcolor\": \"#E5ECF6\", \"polar\": {\"angularaxis\": {\"gridcolor\": \"white\", \"linecolor\": \"white\", \"ticks\": \"\"}, \"bgcolor\": \"#E5ECF6\", \"radialaxis\": {\"gridcolor\": \"white\", \"linecolor\": \"white\", \"ticks\": \"\"}}, \"scene\": {\"xaxis\": {\"backgroundcolor\": \"#E5ECF6\", \"gridcolor\": \"white\", \"gridwidth\": 2, \"linecolor\": \"white\", \"showbackground\": true, \"ticks\": \"\", \"zerolinecolor\": \"white\"}, \"yaxis\": {\"backgroundcolor\": \"#E5ECF6\", \"gridcolor\": \"white\", \"gridwidth\": 2, \"linecolor\": \"white\", \"showbackground\": true, \"ticks\": \"\", \"zerolinecolor\": \"white\"}, \"zaxis\": {\"backgroundcolor\": \"#E5ECF6\", \"gridcolor\": \"white\", \"gridwidth\": 2, \"linecolor\": \"white\", \"showbackground\": true, \"ticks\": \"\", \"zerolinecolor\": \"white\"}}, \"shapedefaults\": {\"line\": {\"color\": \"#2a3f5f\"}}, \"ternary\": {\"aaxis\": {\"gridcolor\": \"white\", \"linecolor\": \"white\", \"ticks\": \"\"}, \"baxis\": {\"gridcolor\": \"white\", \"linecolor\": \"white\", \"ticks\": \"\"}, \"bgcolor\": \"#E5ECF6\", \"caxis\": {\"gridcolor\": \"white\", \"linecolor\": \"white\", \"ticks\": \"\"}}, \"title\": {\"x\": 0.05}, \"xaxis\": {\"automargin\": true, \"gridcolor\": \"white\", \"linecolor\": \"white\", \"ticks\": \"\", \"title\": {\"standoff\": 15}, \"zerolinecolor\": \"white\", \"zerolinewidth\": 2}, \"yaxis\": {\"automargin\": true, \"gridcolor\": \"white\", \"linecolor\": \"white\", \"ticks\": \"\", \"title\": {\"standoff\": 15}, \"zerolinecolor\": \"white\", \"zerolinewidth\": 2}}}, \"title\": {\"font\": {\"size\": 22}, \"text\": \"GDP per capita vs CO2 emissions (Germany)\", \"x\": 0.5}, \"xaxis\": {\"anchor\": \"y\", \"domain\": [0.0, 0.94]}, \"yaxis\": {\"anchor\": \"x\", \"domain\": [0.0, 1.0], \"title\": {\"text\": \"CO2 (mm)\"}}, \"yaxis2\": {\"anchor\": \"x\", \"overlaying\": \"y\", \"side\": \"right\", \"title\": {\"text\": \"GDP (thousand USD)\"}}},                        {\"responsive\": true}                    ).then(function(){\n",
       "                            \n",
       "var gd = document.getElementById('fecfdcf3-17e9-4389-a321-33581e7e0fb8');\n",
       "var x = new MutationObserver(function (mutations, observer) {{\n",
       "        var display = window.getComputedStyle(gd).display;\n",
       "        if (!display || display === 'none') {{\n",
       "            console.log([gd, 'removed!']);\n",
       "            Plotly.purge(gd);\n",
       "            observer.disconnect();\n",
       "        }}\n",
       "}});\n",
       "\n",
       "// Listen for the removal of the full notebook cells\n",
       "var notebookContainer = gd.closest('#notebook-container');\n",
       "if (notebookContainer) {{\n",
       "    x.observe(notebookContainer, {childList: true});\n",
       "}}\n",
       "\n",
       "// Listen for the clearing of the current output cell\n",
       "var outputEl = gd.closest('.output');\n",
       "if (outputEl) {{\n",
       "    x.observe(outputEl, {childList: true});\n",
       "}}\n",
       "\n",
       "                        })                };                });            </script>        </div>"
      ]
     },
     "metadata": {},
     "output_type": "display_data"
    }
   ],
   "source": [
    "from plotly.subplots import make_subplots\n",
    "fig = make_subplots(rows=1, cols=1,\n",
    "                    specs=[[{\"secondary_y\": True}]])\n",
    "fig.add_trace(go.Scatter(\n",
    "                x=df1.transpose()[53][2:-2].index,\n",
    "                y=df1.transpose()[53][2:-2],\n",
    "                name=\"CO2 Germany\",\n",
    "                line_width = 1.5,\n",
    "                opacity=0.8),\n",
    "             row = 1, col = 1,\n",
    "              secondary_y = False,\n",
    "             )\n",
    "\n",
    "fig.add_trace(go.Scatter(\n",
    "                x=GDP_data.transpose()[53][2:-2].index,\n",
    "                y=GDP_data.transpose()[53][2:-2],\n",
    "                name=\"GDP pc Germany\",\n",
    "                line_width = 1.5,\n",
    "                opacity=0.8),\n",
    "             row = 1, col = 1,\n",
    "              secondary_y = True\n",
    "             )\n",
    "\n",
    "fig.update_layout(title_text = \"GDP per capita vs CO2 emissions (Germany)\", \n",
    "                  title_x=0.5, title_font_size = 22, legend_y = 0.5,showlegend=False,\n",
    "                  paper_bgcolor = 'rgb(245, 246, 250)', plot_bgcolor = 'rgb(245, 246, 250)')\n",
    "fig.update_yaxes(title_text=\"CO2 (mm)\", secondary_y=False)\n",
    "fig.update_yaxes(title_text=\"GDP (thousand USD)\", secondary_y=True)\n",
    "fig.show()"
   ]
  }
 ],
 "metadata": {
  "kernelspec": {
   "display_name": "Python 3",
   "language": "python",
   "name": "python3"
  },
  "language_info": {
   "codemirror_mode": {
    "name": "ipython",
    "version": 3
   },
   "file_extension": ".py",
   "mimetype": "text/x-python",
   "name": "python",
   "nbconvert_exporter": "python",
   "pygments_lexer": "ipython3",
   "version": "3.7.3"
  }
 },
 "nbformat": 4,
 "nbformat_minor": 2
}
