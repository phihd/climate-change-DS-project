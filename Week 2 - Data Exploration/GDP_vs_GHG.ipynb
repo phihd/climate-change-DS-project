{
 "cells": [
  {
   "cell_type": "code",
   "execution_count": 1,
   "metadata": {
    "scrolled": true
   },
   "outputs": [
    {
     "name": "stderr",
     "output_type": "stream",
     "text": [
      "C:\\Users\\ACER\\Anaconda3\\lib\\site-packages\\statsmodels\\tools\\_testing.py:19: FutureWarning: pandas.util.testing is deprecated. Use the functions in the public API at pandas.testing instead.\n",
      "  import pandas.util.testing as tm\n"
     ]
    },
    {
     "data": {
      "text/html": [
       "        <script type=\"text/javascript\">\n",
       "        window.PlotlyConfig = {MathJaxConfig: 'local'};\n",
       "        if (window.MathJax) {MathJax.Hub.Config({SVG: {font: \"STIX-Web\"}});}\n",
       "        if (typeof require !== 'undefined') {\n",
       "        require.undef(\"plotly\");\n",
       "        requirejs.config({\n",
       "            paths: {\n",
       "                'plotly': ['https://cdn.plot.ly/plotly-latest.min']\n",
       "            }\n",
       "        });\n",
       "        require(['plotly'], function(Plotly) {\n",
       "            window._Plotly = Plotly;\n",
       "        });\n",
       "        }\n",
       "        </script>\n",
       "        "
      ]
     },
     "metadata": {},
     "output_type": "display_data"
    },
    {
     "data": {
      "text/html": [
       "        <script type=\"text/javascript\">\n",
       "        window.PlotlyConfig = {MathJaxConfig: 'local'};\n",
       "        if (window.MathJax) {MathJax.Hub.Config({SVG: {font: \"STIX-Web\"}});}\n",
       "        if (typeof require !== 'undefined') {\n",
       "        require.undef(\"plotly\");\n",
       "        requirejs.config({\n",
       "            paths: {\n",
       "                'plotly': ['https://cdn.plot.ly/plotly-latest.min']\n",
       "            }\n",
       "        });\n",
       "        require(['plotly'], function(Plotly) {\n",
       "            window._Plotly = Plotly;\n",
       "        });\n",
       "        }\n",
       "        </script>\n",
       "        "
      ]
     },
     "metadata": {},
     "output_type": "display_data"
    }
   ],
   "source": [
    "import numpy as np\n",
    "import matplotlib.pyplot as plt\n",
    "import pandas as pd\n",
    "import seaborn as sns\n",
    "import statsmodels as sm\n",
    "from datetime import timedelta, datetime\n",
    "import plotly.graph_objs as go\n",
    "import plotly.express as ex\n",
    "from plotly.offline import iplot, init_notebook_mode\n",
    "import cufflinks\n",
    "cufflinks.go_offline(connected=True)\n",
    "init_notebook_mode(connected=True)\n",
    "from scipy.stats import pearsonr"
   ]
  },
  {
   "cell_type": "code",
   "execution_count": 2,
   "metadata": {},
   "outputs": [
    {
     "name": "stdout",
     "output_type": "stream",
     "text": [
      "Missing value raio: 14.15/60 = 23.58%\n"
     ]
    }
   ],
   "source": [
    "GDP_data = pd.read_csv('API_NY.GDP.PCAP.CD_DS2_en_csv_v2_1429392.csv', skiprows = 4)\n",
    "GDP_data = GDP_data.drop(['Indicator Name', 'Indicator Code', 'Unnamed: 65'], axis = 1)\n",
    "missing = GDP_data.isna().sum(axis = 1).mean()\n",
    "print(\"Missing value raio: {:.2f}/{:d} = {:.2f}%\".format(missing, 2020 - 1960, 100*missing/(2020 - 1960)))\n",
    "#raw_data.isna().sum().head(50)"
   ]
  },
  {
   "cell_type": "code",
   "execution_count": null,
   "metadata": {},
   "outputs": [],
   "source": []
  },
  {
   "cell_type": "code",
   "execution_count": 3,
   "metadata": {},
   "outputs": [
    {
     "name": "stdout",
     "output_type": "stream",
     "text": [
      "Missing value raio: 14.15/60 = 23.58%\n"
     ]
    }
   ],
   "source": [
    "GDP_data_2 = pd.read_csv('API_NY.GDP.MKTP.CD_DS2_en_csv_v2_1495053.csv', skiprows = 4)\n",
    "GDP_data_2 = GDP_data_2.drop(['Indicator Name', 'Indicator Code', 'Unnamed: 65'], axis = 1)\n",
    "missing = GDP_data.isna().sum(axis = 1).mean()\n",
    "print(\"Missing value raio: {:.2f}/{:d} = {:.2f}%\".format(missing, 2020 - 1960, 100*missing/(2020 - 1960)))"
   ]
  },
  {
   "cell_type": "code",
   "execution_count": 4,
   "metadata": {},
   "outputs": [
    {
     "name": "stdout",
     "output_type": "stream",
     "text": [
      "Missing value raio: 22.97/60 = 38.29%\n"
     ]
    }
   ],
   "source": [
    "CO2_data = pd.read_csv('API_EN.ATM.GHGT.KT.CE_DS2_en_csv_v2_1429804.csv', skiprows = 4)\n",
    "CO2_data = CO2_data.drop(['Indicator Name', 'Indicator Code', 'Unnamed: 65'], axis = 1)\n",
    "missing = CO2_data.isna().sum(axis = 1).mean()\n",
    "print(\"Missing value raio: {:.2f}/{:d} = {:.2f}%\".format(missing, 2020 - 1960, 100*missing/(2020 - 1960)))\n",
    "#raw_data.isna().sum().head(50)"
   ]
  },
  {
   "cell_type": "code",
   "execution_count": 5,
   "metadata": {
    "scrolled": true
   },
   "outputs": [],
   "source": [
    "CO2_data_2 = pd.read_csv('annual-co-emissions-by-region.csv')\n",
    "CO2_data_2 = CO2_data_2[CO2_data_2['Year'] >= 1960]\n",
    "CO2_data_2.reset_index(drop = True, inplace = True)\n",
    "df = pd.DataFrame(columns = GDP_data.columns)\n",
    "#df"
   ]
  },
  {
   "cell_type": "code",
   "execution_count": 6,
   "metadata": {
    "scrolled": true
   },
   "outputs": [
    {
     "data": {
      "text/html": [
       "<div>\n",
       "<style scoped>\n",
       "    .dataframe tbody tr th:only-of-type {\n",
       "        vertical-align: middle;\n",
       "    }\n",
       "\n",
       "    .dataframe tbody tr th {\n",
       "        vertical-align: top;\n",
       "    }\n",
       "\n",
       "    .dataframe thead th {\n",
       "        text-align: right;\n",
       "    }\n",
       "</style>\n",
       "<table border=\"1\" class=\"dataframe\">\n",
       "  <thead>\n",
       "    <tr style=\"text-align: right;\">\n",
       "      <th></th>\n",
       "      <th>Entity</th>\n",
       "      <th>Code</th>\n",
       "      <th>Year</th>\n",
       "      <th>Annual CO2 emissions</th>\n",
       "    </tr>\n",
       "  </thead>\n",
       "  <tbody>\n",
       "    <tr>\n",
       "      <th>9146</th>\n",
       "      <td>North America</td>\n",
       "      <td>NaN</td>\n",
       "      <td>1960</td>\n",
       "      <td>3179.805610</td>\n",
       "    </tr>\n",
       "    <tr>\n",
       "      <th>9147</th>\n",
       "      <td>North America</td>\n",
       "      <td>NaN</td>\n",
       "      <td>1961</td>\n",
       "      <td>3175.034687</td>\n",
       "    </tr>\n",
       "    <tr>\n",
       "      <th>9148</th>\n",
       "      <td>North America</td>\n",
       "      <td>NaN</td>\n",
       "      <td>1962</td>\n",
       "      <td>3299.671365</td>\n",
       "    </tr>\n",
       "    <tr>\n",
       "      <th>9149</th>\n",
       "      <td>North America</td>\n",
       "      <td>NaN</td>\n",
       "      <td>1963</td>\n",
       "      <td>3431.660214</td>\n",
       "    </tr>\n",
       "    <tr>\n",
       "      <th>9150</th>\n",
       "      <td>North America</td>\n",
       "      <td>NaN</td>\n",
       "      <td>1964</td>\n",
       "      <td>3609.686660</td>\n",
       "    </tr>\n",
       "    <tr>\n",
       "      <th>9151</th>\n",
       "      <td>North America</td>\n",
       "      <td>NaN</td>\n",
       "      <td>1965</td>\n",
       "      <td>3760.302407</td>\n",
       "    </tr>\n",
       "    <tr>\n",
       "      <th>9152</th>\n",
       "      <td>North America</td>\n",
       "      <td>NaN</td>\n",
       "      <td>1966</td>\n",
       "      <td>3944.265236</td>\n",
       "    </tr>\n",
       "    <tr>\n",
       "      <th>9153</th>\n",
       "      <td>North America</td>\n",
       "      <td>NaN</td>\n",
       "      <td>1967</td>\n",
       "      <td>4115.021506</td>\n",
       "    </tr>\n",
       "    <tr>\n",
       "      <th>9154</th>\n",
       "      <td>North America</td>\n",
       "      <td>NaN</td>\n",
       "      <td>1968</td>\n",
       "      <td>4276.993701</td>\n",
       "    </tr>\n",
       "    <tr>\n",
       "      <th>9155</th>\n",
       "      <td>North America</td>\n",
       "      <td>NaN</td>\n",
       "      <td>1969</td>\n",
       "      <td>4488.300807</td>\n",
       "    </tr>\n",
       "    <tr>\n",
       "      <th>9156</th>\n",
       "      <td>North America</td>\n",
       "      <td>NaN</td>\n",
       "      <td>1970</td>\n",
       "      <td>4848.484785</td>\n",
       "    </tr>\n",
       "    <tr>\n",
       "      <th>9157</th>\n",
       "      <td>North America</td>\n",
       "      <td>NaN</td>\n",
       "      <td>1971</td>\n",
       "      <td>4902.182716</td>\n",
       "    </tr>\n",
       "    <tr>\n",
       "      <th>9158</th>\n",
       "      <td>North America</td>\n",
       "      <td>NaN</td>\n",
       "      <td>1972</td>\n",
       "      <td>5147.829469</td>\n",
       "    </tr>\n",
       "    <tr>\n",
       "      <th>9159</th>\n",
       "      <td>North America</td>\n",
       "      <td>NaN</td>\n",
       "      <td>1973</td>\n",
       "      <td>5374.816175</td>\n",
       "    </tr>\n",
       "    <tr>\n",
       "      <th>9160</th>\n",
       "      <td>North America</td>\n",
       "      <td>NaN</td>\n",
       "      <td>1974</td>\n",
       "      <td>5223.486632</td>\n",
       "    </tr>\n",
       "    <tr>\n",
       "      <th>9161</th>\n",
       "      <td>North America</td>\n",
       "      <td>NaN</td>\n",
       "      <td>1975</td>\n",
       "      <td>5050.793732</td>\n",
       "    </tr>\n",
       "    <tr>\n",
       "      <th>9162</th>\n",
       "      <td>North America</td>\n",
       "      <td>NaN</td>\n",
       "      <td>1976</td>\n",
       "      <td>5294.237923</td>\n",
       "    </tr>\n",
       "    <tr>\n",
       "      <th>9163</th>\n",
       "      <td>North America</td>\n",
       "      <td>NaN</td>\n",
       "      <td>1977</td>\n",
       "      <td>5437.064304</td>\n",
       "    </tr>\n",
       "    <tr>\n",
       "      <th>9164</th>\n",
       "      <td>North America</td>\n",
       "      <td>NaN</td>\n",
       "      <td>1978</td>\n",
       "      <td>5618.893999</td>\n",
       "    </tr>\n",
       "    <tr>\n",
       "      <th>9165</th>\n",
       "      <td>North America</td>\n",
       "      <td>NaN</td>\n",
       "      <td>1979</td>\n",
       "      <td>5678.118073</td>\n",
       "    </tr>\n",
       "    <tr>\n",
       "      <th>9166</th>\n",
       "      <td>North America</td>\n",
       "      <td>NaN</td>\n",
       "      <td>1980</td>\n",
       "      <td>5529.780429</td>\n",
       "    </tr>\n",
       "    <tr>\n",
       "      <th>9167</th>\n",
       "      <td>North America</td>\n",
       "      <td>NaN</td>\n",
       "      <td>1981</td>\n",
       "      <td>5340.006557</td>\n",
       "    </tr>\n",
       "    <tr>\n",
       "      <th>9168</th>\n",
       "      <td>North America</td>\n",
       "      <td>NaN</td>\n",
       "      <td>1982</td>\n",
       "      <td>5118.834719</td>\n",
       "    </tr>\n",
       "    <tr>\n",
       "      <th>9169</th>\n",
       "      <td>North America</td>\n",
       "      <td>NaN</td>\n",
       "      <td>1983</td>\n",
       "      <td>5110.572939</td>\n",
       "    </tr>\n",
       "    <tr>\n",
       "      <th>9170</th>\n",
       "      <td>North America</td>\n",
       "      <td>NaN</td>\n",
       "      <td>1984</td>\n",
       "      <td>5268.494268</td>\n",
       "    </tr>\n",
       "    <tr>\n",
       "      <th>9171</th>\n",
       "      <td>North America</td>\n",
       "      <td>NaN</td>\n",
       "      <td>1985</td>\n",
       "      <td>5297.346771</td>\n",
       "    </tr>\n",
       "    <tr>\n",
       "      <th>9172</th>\n",
       "      <td>North America</td>\n",
       "      <td>NaN</td>\n",
       "      <td>1986</td>\n",
       "      <td>5278.134512</td>\n",
       "    </tr>\n",
       "    <tr>\n",
       "      <th>9173</th>\n",
       "      <td>North America</td>\n",
       "      <td>NaN</td>\n",
       "      <td>1987</td>\n",
       "      <td>5514.884107</td>\n",
       "    </tr>\n",
       "    <tr>\n",
       "      <th>9174</th>\n",
       "      <td>North America</td>\n",
       "      <td>NaN</td>\n",
       "      <td>1988</td>\n",
       "      <td>5744.423536</td>\n",
       "    </tr>\n",
       "    <tr>\n",
       "      <th>9175</th>\n",
       "      <td>North America</td>\n",
       "      <td>NaN</td>\n",
       "      <td>1989</td>\n",
       "      <td>5876.531894</td>\n",
       "    </tr>\n",
       "    <tr>\n",
       "      <th>9176</th>\n",
       "      <td>North America</td>\n",
       "      <td>NaN</td>\n",
       "      <td>1990</td>\n",
       "      <td>6005.415248</td>\n",
       "    </tr>\n",
       "    <tr>\n",
       "      <th>9177</th>\n",
       "      <td>North America</td>\n",
       "      <td>NaN</td>\n",
       "      <td>1991</td>\n",
       "      <td>5955.593147</td>\n",
       "    </tr>\n",
       "    <tr>\n",
       "      <th>9178</th>\n",
       "      <td>North America</td>\n",
       "      <td>NaN</td>\n",
       "      <td>1992</td>\n",
       "      <td>6072.274005</td>\n",
       "    </tr>\n",
       "    <tr>\n",
       "      <th>9179</th>\n",
       "      <td>North America</td>\n",
       "      <td>NaN</td>\n",
       "      <td>1993</td>\n",
       "      <td>6186.753061</td>\n",
       "    </tr>\n",
       "    <tr>\n",
       "      <th>9180</th>\n",
       "      <td>North America</td>\n",
       "      <td>NaN</td>\n",
       "      <td>1994</td>\n",
       "      <td>6313.801769</td>\n",
       "    </tr>\n",
       "    <tr>\n",
       "      <th>9181</th>\n",
       "      <td>North America</td>\n",
       "      <td>NaN</td>\n",
       "      <td>1995</td>\n",
       "      <td>6377.097968</td>\n",
       "    </tr>\n",
       "    <tr>\n",
       "      <th>9182</th>\n",
       "      <td>North America</td>\n",
       "      <td>NaN</td>\n",
       "      <td>1996</td>\n",
       "      <td>6602.058691</td>\n",
       "    </tr>\n",
       "    <tr>\n",
       "      <th>9183</th>\n",
       "      <td>North America</td>\n",
       "      <td>NaN</td>\n",
       "      <td>1997</td>\n",
       "      <td>6717.582021</td>\n",
       "    </tr>\n",
       "    <tr>\n",
       "      <th>9184</th>\n",
       "      <td>North America</td>\n",
       "      <td>NaN</td>\n",
       "      <td>1998</td>\n",
       "      <td>6788.682387</td>\n",
       "    </tr>\n",
       "    <tr>\n",
       "      <th>9185</th>\n",
       "      <td>North America</td>\n",
       "      <td>NaN</td>\n",
       "      <td>1999</td>\n",
       "      <td>6894.952121</td>\n",
       "    </tr>\n",
       "    <tr>\n",
       "      <th>9186</th>\n",
       "      <td>North America</td>\n",
       "      <td>NaN</td>\n",
       "      <td>2000</td>\n",
       "      <td>7104.886087</td>\n",
       "    </tr>\n",
       "    <tr>\n",
       "      <th>9187</th>\n",
       "      <td>North America</td>\n",
       "      <td>NaN</td>\n",
       "      <td>2001</td>\n",
       "      <td>7020.709104</td>\n",
       "    </tr>\n",
       "    <tr>\n",
       "      <th>9188</th>\n",
       "      <td>North America</td>\n",
       "      <td>NaN</td>\n",
       "      <td>2002</td>\n",
       "      <td>7075.438287</td>\n",
       "    </tr>\n",
       "    <tr>\n",
       "      <th>9189</th>\n",
       "      <td>North America</td>\n",
       "      <td>NaN</td>\n",
       "      <td>2003</td>\n",
       "      <td>7172.691561</td>\n",
       "    </tr>\n",
       "    <tr>\n",
       "      <th>9190</th>\n",
       "      <td>North America</td>\n",
       "      <td>NaN</td>\n",
       "      <td>2004</td>\n",
       "      <td>7287.006804</td>\n",
       "    </tr>\n",
       "    <tr>\n",
       "      <th>9191</th>\n",
       "      <td>North America</td>\n",
       "      <td>NaN</td>\n",
       "      <td>2005</td>\n",
       "      <td>7335.558424</td>\n",
       "    </tr>\n",
       "    <tr>\n",
       "      <th>9192</th>\n",
       "      <td>North America</td>\n",
       "      <td>NaN</td>\n",
       "      <td>2006</td>\n",
       "      <td>7271.120851</td>\n",
       "    </tr>\n",
       "    <tr>\n",
       "      <th>9193</th>\n",
       "      <td>North America</td>\n",
       "      <td>NaN</td>\n",
       "      <td>2007</td>\n",
       "      <td>7381.908859</td>\n",
       "    </tr>\n",
       "    <tr>\n",
       "      <th>9194</th>\n",
       "      <td>North America</td>\n",
       "      <td>NaN</td>\n",
       "      <td>2008</td>\n",
       "      <td>7175.044178</td>\n",
       "    </tr>\n",
       "    <tr>\n",
       "      <th>9195</th>\n",
       "      <td>North America</td>\n",
       "      <td>NaN</td>\n",
       "      <td>2009</td>\n",
       "      <td>6689.014866</td>\n",
       "    </tr>\n",
       "    <tr>\n",
       "      <th>9196</th>\n",
       "      <td>North America</td>\n",
       "      <td>NaN</td>\n",
       "      <td>2010</td>\n",
       "      <td>6902.749190</td>\n",
       "    </tr>\n",
       "    <tr>\n",
       "      <th>9197</th>\n",
       "      <td>North America</td>\n",
       "      <td>NaN</td>\n",
       "      <td>2011</td>\n",
       "      <td>6805.617861</td>\n",
       "    </tr>\n",
       "    <tr>\n",
       "      <th>9198</th>\n",
       "      <td>North America</td>\n",
       "      <td>NaN</td>\n",
       "      <td>2012</td>\n",
       "      <td>6613.496846</td>\n",
       "    </tr>\n",
       "    <tr>\n",
       "      <th>9199</th>\n",
       "      <td>North America</td>\n",
       "      <td>NaN</td>\n",
       "      <td>2013</td>\n",
       "      <td>6767.698054</td>\n",
       "    </tr>\n",
       "    <tr>\n",
       "      <th>9200</th>\n",
       "      <td>North America</td>\n",
       "      <td>NaN</td>\n",
       "      <td>2014</td>\n",
       "      <td>6808.881940</td>\n",
       "    </tr>\n",
       "    <tr>\n",
       "      <th>9201</th>\n",
       "      <td>North America</td>\n",
       "      <td>NaN</td>\n",
       "      <td>2015</td>\n",
       "      <td>6662.182555</td>\n",
       "    </tr>\n",
       "    <tr>\n",
       "      <th>9202</th>\n",
       "      <td>North America</td>\n",
       "      <td>NaN</td>\n",
       "      <td>2016</td>\n",
       "      <td>6535.304885</td>\n",
       "    </tr>\n",
       "    <tr>\n",
       "      <th>9203</th>\n",
       "      <td>North America</td>\n",
       "      <td>NaN</td>\n",
       "      <td>2017</td>\n",
       "      <td>6513.048577</td>\n",
       "    </tr>\n",
       "    <tr>\n",
       "      <th>9204</th>\n",
       "      <td>North America</td>\n",
       "      <td>NaN</td>\n",
       "      <td>2018</td>\n",
       "      <td>6645.028493</td>\n",
       "    </tr>\n",
       "  </tbody>\n",
       "</table>\n",
       "</div>"
      ],
      "text/plain": [
       "             Entity Code  Year  Annual CO2 emissions\n",
       "9146  North America  NaN  1960           3179.805610\n",
       "9147  North America  NaN  1961           3175.034687\n",
       "9148  North America  NaN  1962           3299.671365\n",
       "9149  North America  NaN  1963           3431.660214\n",
       "9150  North America  NaN  1964           3609.686660\n",
       "9151  North America  NaN  1965           3760.302407\n",
       "9152  North America  NaN  1966           3944.265236\n",
       "9153  North America  NaN  1967           4115.021506\n",
       "9154  North America  NaN  1968           4276.993701\n",
       "9155  North America  NaN  1969           4488.300807\n",
       "9156  North America  NaN  1970           4848.484785\n",
       "9157  North America  NaN  1971           4902.182716\n",
       "9158  North America  NaN  1972           5147.829469\n",
       "9159  North America  NaN  1973           5374.816175\n",
       "9160  North America  NaN  1974           5223.486632\n",
       "9161  North America  NaN  1975           5050.793732\n",
       "9162  North America  NaN  1976           5294.237923\n",
       "9163  North America  NaN  1977           5437.064304\n",
       "9164  North America  NaN  1978           5618.893999\n",
       "9165  North America  NaN  1979           5678.118073\n",
       "9166  North America  NaN  1980           5529.780429\n",
       "9167  North America  NaN  1981           5340.006557\n",
       "9168  North America  NaN  1982           5118.834719\n",
       "9169  North America  NaN  1983           5110.572939\n",
       "9170  North America  NaN  1984           5268.494268\n",
       "9171  North America  NaN  1985           5297.346771\n",
       "9172  North America  NaN  1986           5278.134512\n",
       "9173  North America  NaN  1987           5514.884107\n",
       "9174  North America  NaN  1988           5744.423536\n",
       "9175  North America  NaN  1989           5876.531894\n",
       "9176  North America  NaN  1990           6005.415248\n",
       "9177  North America  NaN  1991           5955.593147\n",
       "9178  North America  NaN  1992           6072.274005\n",
       "9179  North America  NaN  1993           6186.753061\n",
       "9180  North America  NaN  1994           6313.801769\n",
       "9181  North America  NaN  1995           6377.097968\n",
       "9182  North America  NaN  1996           6602.058691\n",
       "9183  North America  NaN  1997           6717.582021\n",
       "9184  North America  NaN  1998           6788.682387\n",
       "9185  North America  NaN  1999           6894.952121\n",
       "9186  North America  NaN  2000           7104.886087\n",
       "9187  North America  NaN  2001           7020.709104\n",
       "9188  North America  NaN  2002           7075.438287\n",
       "9189  North America  NaN  2003           7172.691561\n",
       "9190  North America  NaN  2004           7287.006804\n",
       "9191  North America  NaN  2005           7335.558424\n",
       "9192  North America  NaN  2006           7271.120851\n",
       "9193  North America  NaN  2007           7381.908859\n",
       "9194  North America  NaN  2008           7175.044178\n",
       "9195  North America  NaN  2009           6689.014866\n",
       "9196  North America  NaN  2010           6902.749190\n",
       "9197  North America  NaN  2011           6805.617861\n",
       "9198  North America  NaN  2012           6613.496846\n",
       "9199  North America  NaN  2013           6767.698054\n",
       "9200  North America  NaN  2014           6808.881940\n",
       "9201  North America  NaN  2015           6662.182555\n",
       "9202  North America  NaN  2016           6535.304885\n",
       "9203  North America  NaN  2017           6513.048577\n",
       "9204  North America  NaN  2018           6645.028493"
      ]
     },
     "execution_count": 6,
     "metadata": {},
     "output_type": "execute_result"
    }
   ],
   "source": [
    "CO2_data_2[CO2_data_2['Entity'] == \"North America\"]"
   ]
  },
  {
   "cell_type": "code",
   "execution_count": 7,
   "metadata": {
    "scrolled": false
   },
   "outputs": [
    {
     "data": {
      "text/html": [
       "<div>\n",
       "<style scoped>\n",
       "    .dataframe tbody tr th:only-of-type {\n",
       "        vertical-align: middle;\n",
       "    }\n",
       "\n",
       "    .dataframe tbody tr th {\n",
       "        vertical-align: top;\n",
       "    }\n",
       "\n",
       "    .dataframe thead th {\n",
       "        text-align: right;\n",
       "    }\n",
       "</style>\n",
       "<table border=\"1\" class=\"dataframe\">\n",
       "  <thead>\n",
       "    <tr style=\"text-align: right;\">\n",
       "      <th></th>\n",
       "      <th>Country Name</th>\n",
       "      <th>Country Code</th>\n",
       "      <th>1960</th>\n",
       "      <th>1961</th>\n",
       "      <th>1962</th>\n",
       "      <th>1963</th>\n",
       "      <th>1964</th>\n",
       "      <th>1965</th>\n",
       "      <th>1966</th>\n",
       "      <th>1967</th>\n",
       "      <th>...</th>\n",
       "      <th>2011</th>\n",
       "      <th>2012</th>\n",
       "      <th>2013</th>\n",
       "      <th>2014</th>\n",
       "      <th>2015</th>\n",
       "      <th>2016</th>\n",
       "      <th>2017</th>\n",
       "      <th>2018</th>\n",
       "      <th>2019</th>\n",
       "      <th>2020</th>\n",
       "    </tr>\n",
       "  </thead>\n",
       "  <tbody>\n",
       "    <tr>\n",
       "      <th>168</th>\n",
       "      <td>North America</td>\n",
       "      <td>NAC</td>\n",
       "      <td>3179.81</td>\n",
       "      <td>3175.03</td>\n",
       "      <td>3299.67</td>\n",
       "      <td>3431.66</td>\n",
       "      <td>3609.69</td>\n",
       "      <td>3760.3</td>\n",
       "      <td>3944.27</td>\n",
       "      <td>4115.02</td>\n",
       "      <td>...</td>\n",
       "      <td>6805.62</td>\n",
       "      <td>6613.5</td>\n",
       "      <td>6767.7</td>\n",
       "      <td>6808.88</td>\n",
       "      <td>6662.18</td>\n",
       "      <td>6535.3</td>\n",
       "      <td>6513.05</td>\n",
       "      <td>6645.03</td>\n",
       "      <td>NaN</td>\n",
       "      <td>NaN</td>\n",
       "    </tr>\n",
       "  </tbody>\n",
       "</table>\n",
       "<p>1 rows × 63 columns</p>\n",
       "</div>"
      ],
      "text/plain": [
       "      Country Name Country Code     1960     1961     1962     1963     1964  \\\n",
       "168  North America          NAC  3179.81  3175.03  3299.67  3431.66  3609.69   \n",
       "\n",
       "       1965     1966     1967  ...     2011    2012    2013     2014     2015  \\\n",
       "168  3760.3  3944.27  4115.02  ...  6805.62  6613.5  6767.7  6808.88  6662.18   \n",
       "\n",
       "       2016     2017     2018 2019 2020  \n",
       "168  6535.3  6513.05  6645.03  NaN  NaN  \n",
       "\n",
       "[1 rows x 63 columns]"
      ]
     },
     "execution_count": 7,
     "metadata": {},
     "output_type": "execute_result"
    }
   ],
   "source": [
    "df = pd.DataFrame(columns = GDP_data.columns)\n",
    "df['Country Name'] = GDP_data['Country Name']\n",
    "df['Country Code'] = GDP_data['Country Code']\n",
    "for i in range(CO2_data_2.index.size):\n",
    "    row = CO2_data_2.loc[i]\n",
    "    #df[df['Country Name'] == row['Entity']][str(row['Year'])] = row['Annual CO2 emissions']\n",
    "    df.loc[df['Country Name'] == row['Entity'], str(row['Year'])] = row['Annual CO2 emissions']\n",
    "df[df['Country Name'] == 'North America']"
   ]
  },
  {
   "cell_type": "code",
   "execution_count": 8,
   "metadata": {
    "scrolled": true
   },
   "outputs": [
    {
     "name": "stderr",
     "output_type": "stream",
     "text": [
      "C:\\Users\\ACER\\Anaconda3\\lib\\site-packages\\numpy\\lib\\nanfunctions.py:1076: RuntimeWarning:\n",
      "\n",
      "Mean of empty slice\n",
      "\n"
     ]
    },
    {
     "data": {
      "text/html": [
       "<div>\n",
       "<style scoped>\n",
       "    .dataframe tbody tr th:only-of-type {\n",
       "        vertical-align: middle;\n",
       "    }\n",
       "\n",
       "    .dataframe tbody tr th {\n",
       "        vertical-align: top;\n",
       "    }\n",
       "\n",
       "    .dataframe thead th {\n",
       "        text-align: right;\n",
       "    }\n",
       "</style>\n",
       "<table border=\"1\" class=\"dataframe\">\n",
       "  <thead>\n",
       "    <tr style=\"text-align: right;\">\n",
       "      <th></th>\n",
       "      <th>Country Name</th>\n",
       "      <th>Country Code</th>\n",
       "      <th>1960</th>\n",
       "      <th>1961</th>\n",
       "      <th>1962</th>\n",
       "      <th>1963</th>\n",
       "      <th>1964</th>\n",
       "      <th>1965</th>\n",
       "      <th>1966</th>\n",
       "      <th>1967</th>\n",
       "      <th>...</th>\n",
       "      <th>2011</th>\n",
       "      <th>2012</th>\n",
       "      <th>2013</th>\n",
       "      <th>2014</th>\n",
       "      <th>2015</th>\n",
       "      <th>2016</th>\n",
       "      <th>2017</th>\n",
       "      <th>2018</th>\n",
       "      <th>2019</th>\n",
       "      <th>2020</th>\n",
       "    </tr>\n",
       "  </thead>\n",
       "  <tbody>\n",
       "    <tr>\n",
       "      <th>0</th>\n",
       "      <td>Aruba</td>\n",
       "      <td>ABW</td>\n",
       "      <td>0.618561</td>\n",
       "      <td>0.645553</td>\n",
       "      <td>0.708942</td>\n",
       "      <td>0.679088</td>\n",
       "      <td>0.660275</td>\n",
       "      <td>0.592387</td>\n",
       "      <td>0.553944</td>\n",
       "      <td>0.682359</td>\n",
       "      <td>...</td>\n",
       "      <td>2.498848</td>\n",
       "      <td>1.348352</td>\n",
       "      <td>0.861040</td>\n",
       "      <td>0.872032</td>\n",
       "      <td>0.897680</td>\n",
       "      <td>0.883024</td>\n",
       "      <td>0.890740</td>\n",
       "      <td>0.897147</td>\n",
       "      <td>NaN</td>\n",
       "      <td>NaN</td>\n",
       "    </tr>\n",
       "    <tr>\n",
       "      <th>1</th>\n",
       "      <td>Afghanistan</td>\n",
       "      <td>AFG</td>\n",
       "      <td>0.413885</td>\n",
       "      <td>0.490798</td>\n",
       "      <td>0.688594</td>\n",
       "      <td>0.706736</td>\n",
       "      <td>0.838551</td>\n",
       "      <td>1.006917</td>\n",
       "      <td>1.091159</td>\n",
       "      <td>1.281865</td>\n",
       "      <td>...</td>\n",
       "      <td>12.226017</td>\n",
       "      <td>10.742057</td>\n",
       "      <td>9.036782</td>\n",
       "      <td>8.449878</td>\n",
       "      <td>9.019514</td>\n",
       "      <td>8.653351</td>\n",
       "      <td>8.971072</td>\n",
       "      <td>9.438789</td>\n",
       "      <td>NaN</td>\n",
       "      <td>NaN</td>\n",
       "    </tr>\n",
       "    <tr>\n",
       "      <th>2</th>\n",
       "      <td>Angola</td>\n",
       "      <td>AGO</td>\n",
       "      <td>0.548951</td>\n",
       "      <td>0.453707</td>\n",
       "      <td>1.179127</td>\n",
       "      <td>1.149723</td>\n",
       "      <td>1.222914</td>\n",
       "      <td>1.186155</td>\n",
       "      <td>1.552466</td>\n",
       "      <td>0.991815</td>\n",
       "      <td>...</td>\n",
       "      <td>30.329702</td>\n",
       "      <td>33.800564</td>\n",
       "      <td>33.228501</td>\n",
       "      <td>44.248865</td>\n",
       "      <td>33.979025</td>\n",
       "      <td>34.110948</td>\n",
       "      <td>34.111985</td>\n",
       "      <td>34.537201</td>\n",
       "      <td>NaN</td>\n",
       "      <td>NaN</td>\n",
       "    </tr>\n",
       "    <tr>\n",
       "      <th>3</th>\n",
       "      <td>Albania</td>\n",
       "      <td>ALB</td>\n",
       "      <td>2.022528</td>\n",
       "      <td>2.279008</td>\n",
       "      <td>2.462208</td>\n",
       "      <td>2.081152</td>\n",
       "      <td>2.015200</td>\n",
       "      <td>2.172752</td>\n",
       "      <td>2.550144</td>\n",
       "      <td>2.678384</td>\n",
       "      <td>...</td>\n",
       "      <td>5.235856</td>\n",
       "      <td>4.920752</td>\n",
       "      <td>4.909760</td>\n",
       "      <td>5.485008</td>\n",
       "      <td>4.612976</td>\n",
       "      <td>4.532368</td>\n",
       "      <td>4.651350</td>\n",
       "      <td>4.569964</td>\n",
       "      <td>NaN</td>\n",
       "      <td>NaN</td>\n",
       "    </tr>\n",
       "    <tr>\n",
       "      <th>4</th>\n",
       "      <td>Andorra</td>\n",
       "      <td>AND</td>\n",
       "      <td>1.952466</td>\n",
       "      <td>2.279008</td>\n",
       "      <td>2.116990</td>\n",
       "      <td>2.012640</td>\n",
       "      <td>2.206832</td>\n",
       "      <td>2.367200</td>\n",
       "      <td>2.588616</td>\n",
       "      <td>2.931612</td>\n",
       "      <td>...</td>\n",
       "      <td>0.490976</td>\n",
       "      <td>0.487312</td>\n",
       "      <td>0.476320</td>\n",
       "      <td>0.461664</td>\n",
       "      <td>0.465328</td>\n",
       "      <td>0.468992</td>\n",
       "      <td>0.482251</td>\n",
       "      <td>0.470909</td>\n",
       "      <td>NaN</td>\n",
       "      <td>NaN</td>\n",
       "    </tr>\n",
       "    <tr>\n",
       "      <th>...</th>\n",
       "      <td>...</td>\n",
       "      <td>...</td>\n",
       "      <td>...</td>\n",
       "      <td>...</td>\n",
       "      <td>...</td>\n",
       "      <td>...</td>\n",
       "      <td>...</td>\n",
       "      <td>...</td>\n",
       "      <td>...</td>\n",
       "      <td>...</td>\n",
       "      <td>...</td>\n",
       "      <td>...</td>\n",
       "      <td>...</td>\n",
       "      <td>...</td>\n",
       "      <td>...</td>\n",
       "      <td>...</td>\n",
       "      <td>...</td>\n",
       "      <td>...</td>\n",
       "      <td>...</td>\n",
       "      <td>...</td>\n",
       "      <td>...</td>\n",
       "    </tr>\n",
       "    <tr>\n",
       "      <th>259</th>\n",
       "      <td>Kosovo</td>\n",
       "      <td>XKX</td>\n",
       "      <td>1.952466</td>\n",
       "      <td>2.279008</td>\n",
       "      <td>2.116990</td>\n",
       "      <td>2.012640</td>\n",
       "      <td>2.206832</td>\n",
       "      <td>2.367200</td>\n",
       "      <td>2.588616</td>\n",
       "      <td>2.931612</td>\n",
       "      <td>...</td>\n",
       "      <td>8.361248</td>\n",
       "      <td>7.936224</td>\n",
       "      <td>8.068128</td>\n",
       "      <td>7.254720</td>\n",
       "      <td>8.401552</td>\n",
       "      <td>8.936496</td>\n",
       "      <td>8.929470</td>\n",
       "      <td>8.886763</td>\n",
       "      <td>NaN</td>\n",
       "      <td>NaN</td>\n",
       "    </tr>\n",
       "    <tr>\n",
       "      <th>260</th>\n",
       "      <td>Yemen, Rep.</td>\n",
       "      <td>YEM</td>\n",
       "      <td>1.952466</td>\n",
       "      <td>2.279008</td>\n",
       "      <td>2.116990</td>\n",
       "      <td>2.012640</td>\n",
       "      <td>2.206832</td>\n",
       "      <td>2.367200</td>\n",
       "      <td>2.588616</td>\n",
       "      <td>2.931612</td>\n",
       "      <td>...</td>\n",
       "      <td>9.390832</td>\n",
       "      <td>8.966657</td>\n",
       "      <td>9.912026</td>\n",
       "      <td>9.825225</td>\n",
       "      <td>10.876993</td>\n",
       "      <td>10.462961</td>\n",
       "      <td>11.312453</td>\n",
       "      <td>11.710903</td>\n",
       "      <td>NaN</td>\n",
       "      <td>NaN</td>\n",
       "    </tr>\n",
       "    <tr>\n",
       "      <th>261</th>\n",
       "      <td>South Africa</td>\n",
       "      <td>ZAF</td>\n",
       "      <td>97.843513</td>\n",
       "      <td>102.119846</td>\n",
       "      <td>105.669994</td>\n",
       "      <td>109.725151</td>\n",
       "      <td>119.546018</td>\n",
       "      <td>128.140038</td>\n",
       "      <td>128.234886</td>\n",
       "      <td>133.760109</td>\n",
       "      <td>...</td>\n",
       "      <td>475.813928</td>\n",
       "      <td>462.948989</td>\n",
       "      <td>457.441464</td>\n",
       "      <td>482.764094</td>\n",
       "      <td>462.299992</td>\n",
       "      <td>474.981096</td>\n",
       "      <td>462.812494</td>\n",
       "      <td>467.562132</td>\n",
       "      <td>NaN</td>\n",
       "      <td>NaN</td>\n",
       "    </tr>\n",
       "    <tr>\n",
       "      <th>262</th>\n",
       "      <td>Zambia</td>\n",
       "      <td>ZMB</td>\n",
       "      <td>4.355258</td>\n",
       "      <td>3.708972</td>\n",
       "      <td>3.582691</td>\n",
       "      <td>3.444491</td>\n",
       "      <td>3.274992</td>\n",
       "      <td>3.912261</td>\n",
       "      <td>3.498229</td>\n",
       "      <td>4.787631</td>\n",
       "      <td>...</td>\n",
       "      <td>2.781519</td>\n",
       "      <td>3.489096</td>\n",
       "      <td>3.756145</td>\n",
       "      <td>4.255726</td>\n",
       "      <td>4.295821</td>\n",
       "      <td>4.837847</td>\n",
       "      <td>5.121556</td>\n",
       "      <td>5.228035</td>\n",
       "      <td>NaN</td>\n",
       "      <td>NaN</td>\n",
       "    </tr>\n",
       "    <tr>\n",
       "      <th>263</th>\n",
       "      <td>Zimbabwe</td>\n",
       "      <td>ZWE</td>\n",
       "      <td>5.943125</td>\n",
       "      <td>5.061263</td>\n",
       "      <td>4.888959</td>\n",
       "      <td>4.700377</td>\n",
       "      <td>4.469069</td>\n",
       "      <td>5.209198</td>\n",
       "      <td>6.040926</td>\n",
       "      <td>5.294480</td>\n",
       "      <td>...</td>\n",
       "      <td>9.498475</td>\n",
       "      <td>7.695208</td>\n",
       "      <td>11.631544</td>\n",
       "      <td>11.961612</td>\n",
       "      <td>12.163132</td>\n",
       "      <td>10.807433</td>\n",
       "      <td>12.025880</td>\n",
       "      <td>12.262698</td>\n",
       "      <td>NaN</td>\n",
       "      <td>NaN</td>\n",
       "    </tr>\n",
       "  </tbody>\n",
       "</table>\n",
       "<p>264 rows × 63 columns</p>\n",
       "</div>"
      ],
      "text/plain": [
       "     Country Name Country Code       1960        1961        1962        1963  \\\n",
       "0           Aruba          ABW   0.618561    0.645553    0.708942    0.679088   \n",
       "1     Afghanistan          AFG   0.413885    0.490798    0.688594    0.706736   \n",
       "2          Angola          AGO   0.548951    0.453707    1.179127    1.149723   \n",
       "3         Albania          ALB   2.022528    2.279008    2.462208    2.081152   \n",
       "4         Andorra          AND   1.952466    2.279008    2.116990    2.012640   \n",
       "..            ...          ...        ...         ...         ...         ...   \n",
       "259        Kosovo          XKX   1.952466    2.279008    2.116990    2.012640   \n",
       "260   Yemen, Rep.          YEM   1.952466    2.279008    2.116990    2.012640   \n",
       "261  South Africa          ZAF  97.843513  102.119846  105.669994  109.725151   \n",
       "262        Zambia          ZMB   4.355258    3.708972    3.582691    3.444491   \n",
       "263      Zimbabwe          ZWE   5.943125    5.061263    4.888959    4.700377   \n",
       "\n",
       "           1964        1965        1966        1967  ...        2011  \\\n",
       "0      0.660275    0.592387    0.553944    0.682359  ...    2.498848   \n",
       "1      0.838551    1.006917    1.091159    1.281865  ...   12.226017   \n",
       "2      1.222914    1.186155    1.552466    0.991815  ...   30.329702   \n",
       "3      2.015200    2.172752    2.550144    2.678384  ...    5.235856   \n",
       "4      2.206832    2.367200    2.588616    2.931612  ...    0.490976   \n",
       "..          ...         ...         ...         ...  ...         ...   \n",
       "259    2.206832    2.367200    2.588616    2.931612  ...    8.361248   \n",
       "260    2.206832    2.367200    2.588616    2.931612  ...    9.390832   \n",
       "261  119.546018  128.140038  128.234886  133.760109  ...  475.813928   \n",
       "262    3.274992    3.912261    3.498229    4.787631  ...    2.781519   \n",
       "263    4.469069    5.209198    6.040926    5.294480  ...    9.498475   \n",
       "\n",
       "           2012        2013        2014        2015        2016        2017  \\\n",
       "0      1.348352    0.861040    0.872032    0.897680    0.883024    0.890740   \n",
       "1     10.742057    9.036782    8.449878    9.019514    8.653351    8.971072   \n",
       "2     33.800564   33.228501   44.248865   33.979025   34.110948   34.111985   \n",
       "3      4.920752    4.909760    5.485008    4.612976    4.532368    4.651350   \n",
       "4      0.487312    0.476320    0.461664    0.465328    0.468992    0.482251   \n",
       "..          ...         ...         ...         ...         ...         ...   \n",
       "259    7.936224    8.068128    7.254720    8.401552    8.936496    8.929470   \n",
       "260    8.966657    9.912026    9.825225   10.876993   10.462961   11.312453   \n",
       "261  462.948989  457.441464  482.764094  462.299992  474.981096  462.812494   \n",
       "262    3.489096    3.756145    4.255726    4.295821    4.837847    5.121556   \n",
       "263    7.695208   11.631544   11.961612   12.163132   10.807433   12.025880   \n",
       "\n",
       "           2018  2019  2020  \n",
       "0      0.897147   NaN   NaN  \n",
       "1      9.438789   NaN   NaN  \n",
       "2     34.537201   NaN   NaN  \n",
       "3      4.569964   NaN   NaN  \n",
       "4      0.470909   NaN   NaN  \n",
       "..          ...   ...   ...  \n",
       "259    8.886763   NaN   NaN  \n",
       "260   11.710903   NaN   NaN  \n",
       "261  467.562132   NaN   NaN  \n",
       "262    5.228035   NaN   NaN  \n",
       "263   12.262698   NaN   NaN  \n",
       "\n",
       "[264 rows x 63 columns]"
      ]
     },
     "execution_count": 8,
     "metadata": {},
     "output_type": "execute_result"
    }
   ],
   "source": [
    "df['tmp'] = 0\n",
    "df.fillna(df.median(), inplace = True)\n",
    "df.drop('tmp', axis = 'columns', inplace = True)\n",
    "GDP_data_2.fillna(GDP_data_2.median(), inplace = True)\n",
    "GDP_data.fillna(GDP_data_2.median(), inplace = True)\n",
    "df"
   ]
  },
  {
   "cell_type": "code",
   "execution_count": 9,
   "metadata": {},
   "outputs": [],
   "source": [
    "# 1960 - 2018\n",
    "def corr_by_country(name):\n",
    "    x = GDP_data_2[GDP_data_2['Country Name'] == name].drop(['Country Name', 'Country Code'], axis = 1).values.flatten()[:-2]\n",
    "    y = df[df['Country Name'] == name].drop(['Country Name', 'Country Code'], axis = 1).values.flatten()[:-2]\n",
    "    corr, _ = pearsonr(x, y)\n",
    "    return x, y, corr\n",
    "\n",
    "def corr_by_country_PC(name):\n",
    "    x = GDP_data[GDP_data['Country Name'] == name].drop(['Country Name', 'Country Code'], axis = 1).values.flatten()[:-2]\n",
    "    y = df[df['Country Name'] == name].drop(['Country Name', 'Country Code'], axis = 1).values.flatten()[:-2]\n",
    "    corr, _ = pearsonr(x, y)\n",
    "    return x, y, corr"
   ]
  },
  {
   "cell_type": "code",
   "execution_count": 10,
   "metadata": {
    "scrolled": true
   },
   "outputs": [
    {
     "data": {
      "text/plain": [
       "0.9285884544378337"
      ]
     },
     "execution_count": 10,
     "metadata": {},
     "output_type": "execute_result"
    },
    {
     "data": {
      "image/png": "[encoded data removed]",
      "text/plain": [
       "<Figure size 432x288 with 1 Axes>"
      ]
     },
     "metadata": {
      "needs_background": "light"
     },
     "output_type": "display_data"
    }
   ],
   "source": [
    "x, y, corr = corr_by_country('China')\n",
    "plt.scatter(x, y)\n",
    "corr"
   ]
  },
  {
   "cell_type": "code",
   "execution_count": 11,
   "metadata": {},
   "outputs": [
    {
     "data": {
      "text/plain": [
       "0.9330043688166019"
      ]
     },
     "execution_count": 11,
     "metadata": {},
     "output_type": "execute_result"
    },
    {
     "data": {
      "image/png": "[encoded data removed]",
      "text/plain": [
       "<Figure size 432x288 with 1 Axes>"
      ]
     },
     "metadata": {
      "needs_background": "light"
     },
     "output_type": "display_data"
    }
   ],
   "source": [
    "x, y, corr = corr_by_country_PC('China')\n",
    "plt.scatter(x, y)\n",
    "corr"
   ]
  },
  {
   "cell_type": "code",
   "execution_count": 12,
   "metadata": {
    "scrolled": false
   },
   "outputs": [
    {
     "name": "stdout",
     "output_type": "stream",
     "text": [
      "Mean corr =  0.5648458958352159\n",
      "Mean corr PC =  0.32581013191353675\n"
     ]
    }
   ],
   "source": [
    "mean_corr = 0\n",
    "mean_corr_2 = 0\n",
    "corr_list = []\n",
    "corr_PC_list = []\n",
    "for index, row in df.iterrows():\n",
    "    _, _, corr = corr_by_country(row['Country Name'])\n",
    "    corr_list.append(corr)\n",
    "    mean_corr += corr / len(df)\n",
    "    \n",
    "    _, _, corr = corr_by_country_PC(row['Country Name'])\n",
    "    corr_PC_list.append(corr)\n",
    "    mean_corr_2 += corr / len(df)\n",
    "print(\"Mean corr = \", mean_corr)\n",
    "print(\"Mean corr PC = \", mean_corr_2)"
   ]
  },
  {
   "cell_type": "code",
   "execution_count": 13,
   "metadata": {
    "scrolled": true
   },
   "outputs": [
    {
     "data": {
      "text/html": [
       "<div>\n",
       "<style scoped>\n",
       "    .dataframe tbody tr th:only-of-type {\n",
       "        vertical-align: middle;\n",
       "    }\n",
       "\n",
       "    .dataframe tbody tr th {\n",
       "        vertical-align: top;\n",
       "    }\n",
       "\n",
       "    .dataframe thead th {\n",
       "        text-align: right;\n",
       "    }\n",
       "</style>\n",
       "<table border=\"1\" class=\"dataframe\">\n",
       "  <thead>\n",
       "    <tr style=\"text-align: right;\">\n",
       "      <th></th>\n",
       "      <th>Country Name</th>\n",
       "      <th>Country Code</th>\n",
       "      <th>1960</th>\n",
       "      <th>1961</th>\n",
       "      <th>1962</th>\n",
       "      <th>1963</th>\n",
       "      <th>1964</th>\n",
       "      <th>1965</th>\n",
       "      <th>1966</th>\n",
       "      <th>1967</th>\n",
       "      <th>...</th>\n",
       "      <th>2011</th>\n",
       "      <th>2012</th>\n",
       "      <th>2013</th>\n",
       "      <th>2014</th>\n",
       "      <th>2015</th>\n",
       "      <th>2016</th>\n",
       "      <th>2017</th>\n",
       "      <th>2018</th>\n",
       "      <th>Corr</th>\n",
       "      <th>Corr PC</th>\n",
       "    </tr>\n",
       "  </thead>\n",
       "  <tbody>\n",
       "    <tr>\n",
       "      <th>257</th>\n",
       "      <td>World</td>\n",
       "      <td>WLD</td>\n",
       "      <td>9410.529753</td>\n",
       "      <td>9452.107735</td>\n",
       "      <td>9838.202053</td>\n",
       "      <td>10379.067960</td>\n",
       "      <td>10969.325140</td>\n",
       "      <td>11466.150220</td>\n",
       "      <td>12045.555870</td>\n",
       "      <td>12431.009380</td>\n",
       "      <td>...</td>\n",
       "      <td>34357.365920</td>\n",
       "      <td>34919.288710</td>\n",
       "      <td>35207.885980</td>\n",
       "      <td>35505.827040</td>\n",
       "      <td>35462.746740</td>\n",
       "      <td>35675.099440</td>\n",
       "      <td>36153.261650</td>\n",
       "      <td>36572.754220</td>\n",
       "      <td>0.968426</td>\n",
       "      <td>0.981819</td>\n",
       "    </tr>\n",
       "    <tr>\n",
       "      <th>38</th>\n",
       "      <td>China</td>\n",
       "      <td>CHN</td>\n",
       "      <td>778.979466</td>\n",
       "      <td>550.958537</td>\n",
       "      <td>439.342105</td>\n",
       "      <td>435.517639</td>\n",
       "      <td>435.703767</td>\n",
       "      <td>474.680625</td>\n",
       "      <td>521.458881</td>\n",
       "      <td>432.223557</td>\n",
       "      <td>...</td>\n",
       "      <td>9388.199234</td>\n",
       "      <td>9633.899303</td>\n",
       "      <td>9796.527160</td>\n",
       "      <td>9820.360492</td>\n",
       "      <td>9716.467840</td>\n",
       "      <td>9704.479432</td>\n",
       "      <td>9838.754028</td>\n",
       "      <td>10064.685698</td>\n",
       "      <td>0.928588</td>\n",
       "      <td>0.933004</td>\n",
       "    </tr>\n",
       "    <tr>\n",
       "      <th>168</th>\n",
       "      <td>North America</td>\n",
       "      <td>NAC</td>\n",
       "      <td>3179.805610</td>\n",
       "      <td>3175.034687</td>\n",
       "      <td>3299.671365</td>\n",
       "      <td>3431.660214</td>\n",
       "      <td>3609.686660</td>\n",
       "      <td>3760.302407</td>\n",
       "      <td>3944.265236</td>\n",
       "      <td>4115.021506</td>\n",
       "      <td>...</td>\n",
       "      <td>6805.617861</td>\n",
       "      <td>6613.496846</td>\n",
       "      <td>6767.698054</td>\n",
       "      <td>6808.881940</td>\n",
       "      <td>6662.182555</td>\n",
       "      <td>6535.304885</td>\n",
       "      <td>6513.048577</td>\n",
       "      <td>6645.028493</td>\n",
       "      <td>0.812801</td>\n",
       "      <td>0.850652</td>\n",
       "    </tr>\n",
       "    <tr>\n",
       "      <th>249</th>\n",
       "      <td>United States</td>\n",
       "      <td>USA</td>\n",
       "      <td>2887.820432</td>\n",
       "      <td>2877.369848</td>\n",
       "      <td>2984.001744</td>\n",
       "      <td>3116.022372</td>\n",
       "      <td>3252.755162</td>\n",
       "      <td>3388.192678</td>\n",
       "      <td>3559.179160</td>\n",
       "      <td>3693.298171</td>\n",
       "      <td>...</td>\n",
       "      <td>5572.584775</td>\n",
       "      <td>5371.777170</td>\n",
       "      <td>5522.908365</td>\n",
       "      <td>5572.106312</td>\n",
       "      <td>5422.965677</td>\n",
       "      <td>5306.662457</td>\n",
       "      <td>5270.748525</td>\n",
       "      <td>5416.277883</td>\n",
       "      <td>0.764550</td>\n",
       "      <td>0.805148</td>\n",
       "    </tr>\n",
       "    <tr>\n",
       "      <th>107</th>\n",
       "      <td>India</td>\n",
       "      <td>IND</td>\n",
       "      <td>120.576041</td>\n",
       "      <td>130.392929</td>\n",
       "      <td>143.451840</td>\n",
       "      <td>154.068161</td>\n",
       "      <td>150.638994</td>\n",
       "      <td>165.961366</td>\n",
       "      <td>171.688393</td>\n",
       "      <td>172.093127</td>\n",
       "      <td>...</td>\n",
       "      <td>1811.961392</td>\n",
       "      <td>1979.046909</td>\n",
       "      <td>1994.100994</td>\n",
       "      <td>2199.400041</td>\n",
       "      <td>2298.170090</td>\n",
       "      <td>2371.752346</td>\n",
       "      <td>2456.954485</td>\n",
       "      <td>2654.101042</td>\n",
       "      <td>0.972368</td>\n",
       "      <td>0.975817</td>\n",
       "    </tr>\n",
       "    <tr>\n",
       "      <th>...</th>\n",
       "      <td>...</td>\n",
       "      <td>...</td>\n",
       "      <td>...</td>\n",
       "      <td>...</td>\n",
       "      <td>...</td>\n",
       "      <td>...</td>\n",
       "      <td>...</td>\n",
       "      <td>...</td>\n",
       "      <td>...</td>\n",
       "      <td>...</td>\n",
       "      <td>...</td>\n",
       "      <td>...</td>\n",
       "      <td>...</td>\n",
       "      <td>...</td>\n",
       "      <td>...</td>\n",
       "      <td>...</td>\n",
       "      <td>...</td>\n",
       "      <td>...</td>\n",
       "      <td>...</td>\n",
       "      <td>...</td>\n",
       "      <td>...</td>\n",
       "    </tr>\n",
       "    <tr>\n",
       "      <th>237</th>\n",
       "      <td>Tonga</td>\n",
       "      <td>TON</td>\n",
       "      <td>0.010992</td>\n",
       "      <td>0.010992</td>\n",
       "      <td>0.010992</td>\n",
       "      <td>0.010992</td>\n",
       "      <td>0.010992</td>\n",
       "      <td>0.010992</td>\n",
       "      <td>0.010992</td>\n",
       "      <td>0.014656</td>\n",
       "      <td>...</td>\n",
       "      <td>0.102592</td>\n",
       "      <td>0.106256</td>\n",
       "      <td>0.113584</td>\n",
       "      <td>0.113584</td>\n",
       "      <td>0.120912</td>\n",
       "      <td>0.128240</td>\n",
       "      <td>0.131655</td>\n",
       "      <td>0.135287</td>\n",
       "      <td>-0.593071</td>\n",
       "      <td>-0.636921</td>\n",
       "    </tr>\n",
       "    <tr>\n",
       "      <th>217</th>\n",
       "      <td>Sao Tome and Principe</td>\n",
       "      <td>STP</td>\n",
       "      <td>0.010992</td>\n",
       "      <td>0.010992</td>\n",
       "      <td>0.010992</td>\n",
       "      <td>0.007328</td>\n",
       "      <td>0.010992</td>\n",
       "      <td>0.010992</td>\n",
       "      <td>0.010992</td>\n",
       "      <td>0.010992</td>\n",
       "      <td>...</td>\n",
       "      <td>0.102592</td>\n",
       "      <td>0.113584</td>\n",
       "      <td>0.113584</td>\n",
       "      <td>0.113584</td>\n",
       "      <td>0.113584</td>\n",
       "      <td>0.120912</td>\n",
       "      <td>0.120691</td>\n",
       "      <td>0.123728</td>\n",
       "      <td>-0.387083</td>\n",
       "      <td>-0.399740</td>\n",
       "    </tr>\n",
       "    <tr>\n",
       "      <th>122</th>\n",
       "      <td>Kiribati</td>\n",
       "      <td>KIR</td>\n",
       "      <td>1.952466</td>\n",
       "      <td>0.007328</td>\n",
       "      <td>0.010992</td>\n",
       "      <td>0.018320</td>\n",
       "      <td>0.018320</td>\n",
       "      <td>0.010992</td>\n",
       "      <td>0.010992</td>\n",
       "      <td>0.021984</td>\n",
       "      <td>...</td>\n",
       "      <td>0.054960</td>\n",
       "      <td>0.051296</td>\n",
       "      <td>0.051296</td>\n",
       "      <td>0.058624</td>\n",
       "      <td>0.062288</td>\n",
       "      <td>0.065952</td>\n",
       "      <td>0.067708</td>\n",
       "      <td>0.069576</td>\n",
       "      <td>0.198099</td>\n",
       "      <td>0.197720</td>\n",
       "    </tr>\n",
       "    <tr>\n",
       "      <th>177</th>\n",
       "      <td>Nauru</td>\n",
       "      <td>NRU</td>\n",
       "      <td>1.952466</td>\n",
       "      <td>2.279008</td>\n",
       "      <td>2.116990</td>\n",
       "      <td>2.012640</td>\n",
       "      <td>0.029312</td>\n",
       "      <td>0.032976</td>\n",
       "      <td>0.032976</td>\n",
       "      <td>0.047632</td>\n",
       "      <td>...</td>\n",
       "      <td>0.040304</td>\n",
       "      <td>0.040304</td>\n",
       "      <td>0.043968</td>\n",
       "      <td>0.047632</td>\n",
       "      <td>0.047632</td>\n",
       "      <td>0.047632</td>\n",
       "      <td>0.048901</td>\n",
       "      <td>0.050249</td>\n",
       "      <td>-0.228027</td>\n",
       "      <td>-0.226964</td>\n",
       "    </tr>\n",
       "    <tr>\n",
       "      <th>243</th>\n",
       "      <td>Tuvalu</td>\n",
       "      <td>TUV</td>\n",
       "      <td>1.952466</td>\n",
       "      <td>2.279008</td>\n",
       "      <td>2.116990</td>\n",
       "      <td>2.012640</td>\n",
       "      <td>2.206832</td>\n",
       "      <td>2.367200</td>\n",
       "      <td>2.588616</td>\n",
       "      <td>2.931612</td>\n",
       "      <td>...</td>\n",
       "      <td>0.007328</td>\n",
       "      <td>0.010992</td>\n",
       "      <td>0.010992</td>\n",
       "      <td>0.010992</td>\n",
       "      <td>0.010992</td>\n",
       "      <td>0.010992</td>\n",
       "      <td>0.011285</td>\n",
       "      <td>0.011596</td>\n",
       "      <td>0.957349</td>\n",
       "      <td>0.957576</td>\n",
       "    </tr>\n",
       "  </tbody>\n",
       "</table>\n",
       "<p>264 rows × 63 columns</p>\n",
       "</div>"
      ],
      "text/plain": [
       "              Country Name Country Code         1960         1961  \\\n",
       "257                  World          WLD  9410.529753  9452.107735   \n",
       "38                   China          CHN   778.979466   550.958537   \n",
       "168          North America          NAC  3179.805610  3175.034687   \n",
       "249          United States          USA  2887.820432  2877.369848   \n",
       "107                  India          IND   120.576041   130.392929   \n",
       "..                     ...          ...          ...          ...   \n",
       "237                  Tonga          TON     0.010992     0.010992   \n",
       "217  Sao Tome and Principe          STP     0.010992     0.010992   \n",
       "122               Kiribati          KIR     1.952466     0.007328   \n",
       "177                  Nauru          NRU     1.952466     2.279008   \n",
       "243                 Tuvalu          TUV     1.952466     2.279008   \n",
       "\n",
       "            1962          1963          1964          1965          1966  \\\n",
       "257  9838.202053  10379.067960  10969.325140  11466.150220  12045.555870   \n",
       "38    439.342105    435.517639    435.703767    474.680625    521.458881   \n",
       "168  3299.671365   3431.660214   3609.686660   3760.302407   3944.265236   \n",
       "249  2984.001744   3116.022372   3252.755162   3388.192678   3559.179160   \n",
       "107   143.451840    154.068161    150.638994    165.961366    171.688393   \n",
       "..           ...           ...           ...           ...           ...   \n",
       "237     0.010992      0.010992      0.010992      0.010992      0.010992   \n",
       "217     0.010992      0.007328      0.010992      0.010992      0.010992   \n",
       "122     0.010992      0.018320      0.018320      0.010992      0.010992   \n",
       "177     2.116990      2.012640      0.029312      0.032976      0.032976   \n",
       "243     2.116990      2.012640      2.206832      2.367200      2.588616   \n",
       "\n",
       "             1967  ...          2011          2012          2013  \\\n",
       "257  12431.009380  ...  34357.365920  34919.288710  35207.885980   \n",
       "38     432.223557  ...   9388.199234   9633.899303   9796.527160   \n",
       "168   4115.021506  ...   6805.617861   6613.496846   6767.698054   \n",
       "249   3693.298171  ...   5572.584775   5371.777170   5522.908365   \n",
       "107    172.093127  ...   1811.961392   1979.046909   1994.100994   \n",
       "..            ...  ...           ...           ...           ...   \n",
       "237      0.014656  ...      0.102592      0.106256      0.113584   \n",
       "217      0.010992  ...      0.102592      0.113584      0.113584   \n",
       "122      0.021984  ...      0.054960      0.051296      0.051296   \n",
       "177      0.047632  ...      0.040304      0.040304      0.043968   \n",
       "243      2.931612  ...      0.007328      0.010992      0.010992   \n",
       "\n",
       "             2014          2015          2016          2017          2018  \\\n",
       "257  35505.827040  35462.746740  35675.099440  36153.261650  36572.754220   \n",
       "38    9820.360492   9716.467840   9704.479432   9838.754028  10064.685698   \n",
       "168   6808.881940   6662.182555   6535.304885   6513.048577   6645.028493   \n",
       "249   5572.106312   5422.965677   5306.662457   5270.748525   5416.277883   \n",
       "107   2199.400041   2298.170090   2371.752346   2456.954485   2654.101042   \n",
       "..            ...           ...           ...           ...           ...   \n",
       "237      0.113584      0.120912      0.128240      0.131655      0.135287   \n",
       "217      0.113584      0.113584      0.120912      0.120691      0.123728   \n",
       "122      0.058624      0.062288      0.065952      0.067708      0.069576   \n",
       "177      0.047632      0.047632      0.047632      0.048901      0.050249   \n",
       "243      0.010992      0.010992      0.010992      0.011285      0.011596   \n",
       "\n",
       "         Corr   Corr PC  \n",
       "257  0.968426  0.981819  \n",
       "38   0.928588  0.933004  \n",
       "168  0.812801  0.850652  \n",
       "249  0.764550  0.805148  \n",
       "107  0.972368  0.975817  \n",
       "..        ...       ...  \n",
       "237 -0.593071 -0.636921  \n",
       "217 -0.387083 -0.399740  \n",
       "122  0.198099  0.197720  \n",
       "177 -0.228027 -0.226964  \n",
       "243  0.957349  0.957576  \n",
       "\n",
       "[264 rows x 63 columns]"
      ]
     },
     "execution_count": 13,
     "metadata": {},
     "output_type": "execute_result"
    }
   ],
   "source": [
    "df1 = df.drop(['2019', '2020'], axis = 'columns')\n",
    "df1['Corr'] = corr_list\n",
    "df1['Corr PC'] = corr_PC_list\n",
    "df1 = df1.sort_values(by=['2018'], ascending = False)\n",
    "df1.head(15)\n",
    "df1"
   ]
  },
  {
   "cell_type": "code",
   "execution_count": 14,
   "metadata": {},
   "outputs": [
    {
     "data": {
      "text/html": [
       "<div>\n",
       "<style scoped>\n",
       "    .dataframe tbody tr th:only-of-type {\n",
       "        vertical-align: middle;\n",
       "    }\n",
       "\n",
       "    .dataframe tbody tr th {\n",
       "        vertical-align: top;\n",
       "    }\n",
       "\n",
       "    .dataframe thead th {\n",
       "        text-align: right;\n",
       "    }\n",
       "</style>\n",
       "<table border=\"1\" class=\"dataframe\">\n",
       "  <thead>\n",
       "    <tr style=\"text-align: right;\">\n",
       "      <th></th>\n",
       "      <th>Country Name</th>\n",
       "      <th>CO2 2018</th>\n",
       "      <th>GDP_Corr</th>\n",
       "      <th>GDP_PC_Corr</th>\n",
       "    </tr>\n",
       "  </thead>\n",
       "  <tbody>\n",
       "    <tr>\n",
       "      <th>257</th>\n",
       "      <td>World</td>\n",
       "      <td>36572.754220</td>\n",
       "      <td>0.968426</td>\n",
       "      <td>0.981819</td>\n",
       "    </tr>\n",
       "    <tr>\n",
       "      <th>38</th>\n",
       "      <td>China</td>\n",
       "      <td>10064.685698</td>\n",
       "      <td>0.928588</td>\n",
       "      <td>0.933004</td>\n",
       "    </tr>\n",
       "    <tr>\n",
       "      <th>168</th>\n",
       "      <td>North America</td>\n",
       "      <td>6645.028493</td>\n",
       "      <td>0.812801</td>\n",
       "      <td>0.850652</td>\n",
       "    </tr>\n",
       "    <tr>\n",
       "      <th>249</th>\n",
       "      <td>United States</td>\n",
       "      <td>5416.277883</td>\n",
       "      <td>0.764550</td>\n",
       "      <td>0.805148</td>\n",
       "    </tr>\n",
       "    <tr>\n",
       "      <th>107</th>\n",
       "      <td>India</td>\n",
       "      <td>2654.101042</td>\n",
       "      <td>0.972368</td>\n",
       "      <td>0.975817</td>\n",
       "    </tr>\n",
       "    <tr>\n",
       "      <th>117</th>\n",
       "      <td>Japan</td>\n",
       "      <td>1161.981125</td>\n",
       "      <td>0.871705</td>\n",
       "      <td>0.875774</td>\n",
       "    </tr>\n",
       "    <tr>\n",
       "      <th>53</th>\n",
       "      <td>Germany</td>\n",
       "      <td>759.001946</td>\n",
       "      <td>-0.700131</td>\n",
       "      <td>-0.023655</td>\n",
       "    </tr>\n",
       "    <tr>\n",
       "      <th>203</th>\n",
       "      <td>Saudi Arabia</td>\n",
       "      <td>621.302074</td>\n",
       "      <td>0.944283</td>\n",
       "      <td>-0.492357</td>\n",
       "    </tr>\n",
       "    <tr>\n",
       "      <th>104</th>\n",
       "      <td>Indonesia</td>\n",
       "      <td>614.916407</td>\n",
       "      <td>0.922694</td>\n",
       "      <td>-0.393246</td>\n",
       "    </tr>\n",
       "    <tr>\n",
       "      <th>33</th>\n",
       "      <td>Canada</td>\n",
       "      <td>568.412218</td>\n",
       "      <td>0.824698</td>\n",
       "      <td>0.855600</td>\n",
       "    </tr>\n",
       "    <tr>\n",
       "      <th>152</th>\n",
       "      <td>Mexico</td>\n",
       "      <td>477.322219</td>\n",
       "      <td>0.907778</td>\n",
       "      <td>0.936759</td>\n",
       "    </tr>\n",
       "    <tr>\n",
       "      <th>261</th>\n",
       "      <td>South Africa</td>\n",
       "      <td>467.562132</td>\n",
       "      <td>0.904381</td>\n",
       "      <td>0.925232</td>\n",
       "    </tr>\n",
       "    <tr>\n",
       "      <th>27</th>\n",
       "      <td>Brazil</td>\n",
       "      <td>457.190402</td>\n",
       "      <td>0.916902</td>\n",
       "      <td>0.922511</td>\n",
       "    </tr>\n",
       "    <tr>\n",
       "      <th>242</th>\n",
       "      <td>Turkey</td>\n",
       "      <td>428.179586</td>\n",
       "      <td>0.945286</td>\n",
       "      <td>0.948271</td>\n",
       "    </tr>\n",
       "    <tr>\n",
       "      <th>11</th>\n",
       "      <td>Australia</td>\n",
       "      <td>420.220856</td>\n",
       "      <td>0.849641</td>\n",
       "      <td>0.881371</td>\n",
       "    </tr>\n",
       "    <tr>\n",
       "      <th>79</th>\n",
       "      <td>United Kingdom</td>\n",
       "      <td>379.039892</td>\n",
       "      <td>-0.754340</td>\n",
       "      <td>-0.724862</td>\n",
       "    </tr>\n",
       "    <tr>\n",
       "      <th>188</th>\n",
       "      <td>Poland</td>\n",
       "      <td>343.537967</td>\n",
       "      <td>-0.143485</td>\n",
       "      <td>0.623511</td>\n",
       "    </tr>\n",
       "    <tr>\n",
       "      <th>114</th>\n",
       "      <td>Italy</td>\n",
       "      <td>338.026739</td>\n",
       "      <td>0.650777</td>\n",
       "      <td>0.670252</td>\n",
       "    </tr>\n",
       "    <tr>\n",
       "      <th>75</th>\n",
       "      <td>France</td>\n",
       "      <td>337.913411</td>\n",
       "      <td>-0.218323</td>\n",
       "      <td>-0.192558</td>\n",
       "    </tr>\n",
       "    <tr>\n",
       "      <th>118</th>\n",
       "      <td>Kazakhstan</td>\n",
       "      <td>321.786803</td>\n",
       "      <td>0.550265</td>\n",
       "      <td>0.191449</td>\n",
       "    </tr>\n",
       "    <tr>\n",
       "      <th>231</th>\n",
       "      <td>Thailand</td>\n",
       "      <td>288.229160</td>\n",
       "      <td>0.944869</td>\n",
       "      <td>0.950363</td>\n",
       "    </tr>\n",
       "    <tr>\n",
       "      <th>68</th>\n",
       "      <td>Spain</td>\n",
       "      <td>268.233811</td>\n",
       "      <td>0.798465</td>\n",
       "      <td>0.831811</td>\n",
       "    </tr>\n",
       "    <tr>\n",
       "      <th>167</th>\n",
       "      <td>Malaysia</td>\n",
       "      <td>254.526538</td>\n",
       "      <td>0.960642</td>\n",
       "      <td>0.973568</td>\n",
       "    </tr>\n",
       "    <tr>\n",
       "      <th>246</th>\n",
       "      <td>Ukraine</td>\n",
       "      <td>225.018175</td>\n",
       "      <td>-0.357429</td>\n",
       "      <td>0.624189</td>\n",
       "    </tr>\n",
       "    <tr>\n",
       "      <th>182</th>\n",
       "      <td>Pakistan</td>\n",
       "      <td>223.540399</td>\n",
       "      <td>0.959977</td>\n",
       "      <td>0.976066</td>\n",
       "    </tr>\n",
       "    <tr>\n",
       "      <th>255</th>\n",
       "      <td>Vietnam</td>\n",
       "      <td>206.660895</td>\n",
       "      <td>0.969714</td>\n",
       "      <td>-0.450053</td>\n",
       "    </tr>\n",
       "    <tr>\n",
       "      <th>6</th>\n",
       "      <td>United Arab Emirates</td>\n",
       "      <td>205.602326</td>\n",
       "      <td>0.971576</td>\n",
       "      <td>-0.491504</td>\n",
       "    </tr>\n",
       "    <tr>\n",
       "      <th>111</th>\n",
       "      <td>Iraq</td>\n",
       "      <td>204.174922</td>\n",
       "      <td>0.835672</td>\n",
       "      <td>0.017498</td>\n",
       "    </tr>\n",
       "    <tr>\n",
       "      <th>7</th>\n",
       "      <td>Argentina</td>\n",
       "      <td>195.531412</td>\n",
       "      <td>0.915026</td>\n",
       "      <td>-0.307003</td>\n",
       "    </tr>\n",
       "    <tr>\n",
       "      <th>174</th>\n",
       "      <td>Netherlands</td>\n",
       "      <td>161.623960</td>\n",
       "      <td>0.605174</td>\n",
       "      <td>0.629829</td>\n",
       "    </tr>\n",
       "  </tbody>\n",
       "</table>\n",
       "</div>"
      ],
      "text/plain": [
       "             Country Name      CO2 2018  GDP_Corr  GDP_PC_Corr\n",
       "257                 World  36572.754220  0.968426     0.981819\n",
       "38                  China  10064.685698  0.928588     0.933004\n",
       "168         North America   6645.028493  0.812801     0.850652\n",
       "249         United States   5416.277883  0.764550     0.805148\n",
       "107                 India   2654.101042  0.972368     0.975817\n",
       "117                 Japan   1161.981125  0.871705     0.875774\n",
       "53                Germany    759.001946 -0.700131    -0.023655\n",
       "203          Saudi Arabia    621.302074  0.944283    -0.492357\n",
       "104             Indonesia    614.916407  0.922694    -0.393246\n",
       "33                 Canada    568.412218  0.824698     0.855600\n",
       "152                Mexico    477.322219  0.907778     0.936759\n",
       "261          South Africa    467.562132  0.904381     0.925232\n",
       "27                 Brazil    457.190402  0.916902     0.922511\n",
       "242                Turkey    428.179586  0.945286     0.948271\n",
       "11              Australia    420.220856  0.849641     0.881371\n",
       "79         United Kingdom    379.039892 -0.754340    -0.724862\n",
       "188                Poland    343.537967 -0.143485     0.623511\n",
       "114                 Italy    338.026739  0.650777     0.670252\n",
       "75                 France    337.913411 -0.218323    -0.192558\n",
       "118            Kazakhstan    321.786803  0.550265     0.191449\n",
       "231              Thailand    288.229160  0.944869     0.950363\n",
       "68                  Spain    268.233811  0.798465     0.831811\n",
       "167              Malaysia    254.526538  0.960642     0.973568\n",
       "246               Ukraine    225.018175 -0.357429     0.624189\n",
       "182              Pakistan    223.540399  0.959977     0.976066\n",
       "255               Vietnam    206.660895  0.969714    -0.450053\n",
       "6    United Arab Emirates    205.602326  0.971576    -0.491504\n",
       "111                  Iraq    204.174922  0.835672     0.017498\n",
       "7               Argentina    195.531412  0.915026    -0.307003\n",
       "174           Netherlands    161.623960  0.605174     0.629829"
      ]
     },
     "execution_count": 14,
     "metadata": {},
     "output_type": "execute_result"
    }
   ],
   "source": [
    "df2 = pd.DataFrame()\n",
    "df2['Country Name'] = df1['Country Name']\n",
    "df2['CO2 2018'] = df1['2018']\n",
    "df2['GDP_Corr'] = df1['Corr']\n",
    "df2['GDP_PC_Corr'] = df1['Corr PC']\n",
    "df2.head(30)"
   ]
  },
  {
   "cell_type": "code",
   "execution_count": 15,
   "metadata": {
    "scrolled": true
   },
   "outputs": [
    {
     "data": {
      "application/vnd.plotly.v1+json": {
       "config": {
        "plotlyServerURL": "https://plot.ly"
       },
       "data": [
        {
         "line": {
          "width": 1.5
         },
         "name": "CO2",
         "opacity": 0.8,
         "type": "scatter",
         "x": [
          "1960",
          "1961",
          "1962",
          "1963",
          "1964",
          "1965",
          "1966",
          "1967",
          "1968",
          "1969",
          "1970",
          "1971",
          "1972",
          "1973",
          "1974",
          "1975",
          "1976",
          "1977",
          "1978",
          "1979",
          "1980",
          "1981",
          "1982",
          "1983",
          "1984",
          "1985",
          "1986",
          "1987",
          "1988",
          "1989",
          "1990",
          "1991",
          "1992",
          "1993",
          "1994",
          "1995",
          "1996",
          "1997",
          "1998",
          "1999",
          "2000",
          "2001",
          "2002",
          "2003",
          "2004",
          "2005",
          "2006",
          "2007",
          "2008",
          "2009",
          "2010",
          "2011",
          "2012",
          "2013",
          "2014",
          "2015",
          "2016",
          "2017",
          "2018"
         ],
         "y": [
          778.9794657662993,
          550.9585373429924,
          439.34210534299217,
          435.51763862975645,
          435.703766942148,
          474.68062484661414,
          521.4588807323603,
          432.22355689322836,
          467.80564296062994,
          575.9446712289763,
          770.1671903294487,
          874.0163107719038,
          928.8939954000067,
          965.6465591167083,
          985.085216024147,
          1142.1019057686135,
          1190.9645976965155,
          1304.4027882230823,
          1455.2575057955469,
          1487.1130101473611,
          1458.886737925048,
          1442.7823848654473,
          1570.4683245640592,
          1655.8104825394935,
          1802.3170956059885,
          1951.773227762688,
          2052.2421281462234,
          2191.053006279405,
          2347.763494150301,
          2386.885124972622,
          2420.3021080000008,
          2538.923968435,
          2657.112405588,
          2835.79547347,
          3010.242208325001,
          3265.056964,
          3408.3465906879997,
          3414.54928638,
          3265.902620510001,
          3258.13488654,
          3349.294776,
          3426.1440619352,
          3782.439297438,
          4452.3102962369,
          5125.894416450001,
          5771.1684399999995,
          6377.748016000001,
          6861.7506520000015,
          7375.189907000001,
          7758.811768000001,
          8500.542695000002,
          9388.199234,
          9633.899303,
          9796.52716,
          9820.360492283753,
          9716.467840234136,
          9704.479431780572,
          9838.754028261345,
          10064.685698137107
         ]
        },
        {
         "line": {
          "width": 1.5
         },
         "name": "GDP pc",
         "opacity": 0.8,
         "type": "scatter",
         "x": [
          "1960",
          "1961",
          "1962",
          "1963",
          "1964",
          "1965",
          "1966",
          "1967",
          "1968",
          "1969",
          "1970",
          "1971",
          "1972",
          "1973",
          "1974",
          "1975",
          "1976",
          "1977",
          "1978",
          "1979",
          "1980",
          "1981",
          "1982",
          "1983",
          "1984",
          "1985",
          "1986",
          "1987",
          "1988",
          "1989",
          "1990",
          "1991",
          "1992",
          "1993",
          "1994",
          "1995",
          "1996",
          "1997",
          "1998",
          "1999",
          "2000",
          "2001",
          "2002",
          "2003",
          "2004",
          "2005",
          "2006",
          "2007",
          "2008",
          "2009",
          "2010",
          "2011",
          "2012",
          "2013",
          "2014",
          "2015",
          "2016",
          "2017",
          "2018"
         ],
         "y": [
          89.52054151035841,
          75.8058379259965,
          70.90941166710071,
          74.3136434486145,
          85.4985551596313,
          98.48677775222059,
          104.324566181147,
          96.5895319417819,
          91.4727183066072,
          100.12990326618,
          113.16299155468599,
          118.65457778534599,
          131.883561243868,
          157.090374298657,
          160.140093727686,
          178.34181960809602,
          165.40554037241998,
          185.42283291367298,
          156.396388520044,
          183.983152215978,
          194.80472218683602,
          197.07147449910198,
          203.33491950346402,
          225.431928890812,
          250.71396904698798,
          294.45884850496003,
          281.928120911563,
          251.811956961329,
          283.537695240524,
          310.8819124049,
          317.884673040928,
          333.142145400184,
          366.46069230207297,
          377.38983947995797,
          473.492278718042,
          609.6566792024839,
          709.413755085039,
          781.744164341053,
          828.580479295681,
          873.2870617257901,
          959.372483639691,
          1053.1082430045199,
          1148.5082904417,
          1288.64325183381,
          1508.6680978826598,
          1753.41782925823,
          2099.22943460447,
          2693.9698268348498,
          3468.3044632474703,
          3832.2359515672706,
          4550.45359583857,
          5618.13249134962,
          6316.91886335683,
          7050.64591988963,
          7678.5994316609995,
          8066.94242356745,
          8147.9381477822,
          8879.43814888506,
          9976.676821807729
         ]
        }
       ],
       "layout": {
        "paper_bgcolor": "rgb(245, 246, 250)",
        "plot_bgcolor": "rgb(245, 246, 250)",
        "template": {
         "data": {
          "bar": [
           {
            "error_x": {
             "color": "#2a3f5f"
            },
            "error_y": {
             "color": "#2a3f5f"
            },
            "marker": {
             "line": {
              "color": "#E5ECF6",
              "width": 0.5
             }
            },
            "type": "bar"
           }
          ],
          "barpolar": [
           {
            "marker": {
             "line": {
              "color": "#E5ECF6",
              "width": 0.5
             }
            },
            "type": "barpolar"
           }
          ],
          "carpet": [
           {
            "aaxis": {
             "endlinecolor": "#2a3f5f",
             "gridcolor": "white",
             "linecolor": "white",
             "minorgridcolor": "white",
             "startlinecolor": "#2a3f5f"
            },
            "baxis": {
             "endlinecolor": "#2a3f5f",
             "gridcolor": "white",
             "linecolor": "white",
             "minorgridcolor": "white",
             "startlinecolor": "#2a3f5f"
            },
            "type": "carpet"
           }
          ],
          "choropleth": [
           {
            "colorbar": {
             "outlinewidth": 0,
             "ticks": ""
            },
            "type": "choropleth"
           }
          ],
          "contour": [
           {
            "colorbar": {
             "outlinewidth": 0,
             "ticks": ""
            },
            "colorscale": [
             [
              0,
              "#0d0887"
             ],
             [
              0.1111111111111111,
              "#46039f"
             ],
             [
              0.2222222222222222,
              "#7201a8"
             ],
             [
              0.3333333333333333,
              "#9c179e"
             ],
             [
              0.4444444444444444,
              "#bd3786"
             ],
             [
              0.5555555555555556,
              "#d8576b"
             ],
             [
              0.6666666666666666,
              "#ed7953"
             ],
             [
              0.7777777777777778,
              "#fb9f3a"
             ],
             [
              0.8888888888888888,
              "#fdca26"
             ],
             [
              1,
              "#f0f921"
             ]
            ],
            "type": "contour"
           }
          ],
          "contourcarpet": [
           {
            "colorbar": {
             "outlinewidth": 0,
             "ticks": ""
            },
            "type": "contourcarpet"
           }
          ],
          "heatmap": [
           {
            "colorbar": {
             "outlinewidth": 0,
             "ticks": ""
            },
            "colorscale": [
             [
              0,
              "#0d0887"
             ],
             [
              0.1111111111111111,
              "#46039f"
             ],
             [
              0.2222222222222222,
              "#7201a8"
             ],
             [
              0.3333333333333333,
              "#9c179e"
             ],
             [
              0.4444444444444444,
              "#bd3786"
             ],
             [
              0.5555555555555556,
              "#d8576b"
             ],
             [
              0.6666666666666666,
              "#ed7953"
             ],
             [
              0.7777777777777778,
              "#fb9f3a"
             ],
             [
              0.8888888888888888,
              "#fdca26"
             ],
             [
              1,
              "#f0f921"
             ]
            ],
            "type": "heatmap"
           }
          ],
          "heatmapgl": [
           {
            "colorbar": {
             "outlinewidth": 0,
             "ticks": ""
            },
            "colorscale": [
             [
              0,
              "#0d0887"
             ],
             [
              0.1111111111111111,
              "#46039f"
             ],
             [
              0.2222222222222222,
              "#7201a8"
             ],
             [
              0.3333333333333333,
              "#9c179e"
             ],
             [
              0.4444444444444444,
              "#bd3786"
             ],
             [
              0.5555555555555556,
              "#d8576b"
             ],
             [
              0.6666666666666666,
              "#ed7953"
             ],
             [
              0.7777777777777778,
              "#fb9f3a"
             ],
             [
              0.8888888888888888,
              "#fdca26"
             ],
             [
              1,
              "#f0f921"
             ]
            ],
            "type": "heatmapgl"
           }
          ],
          "histogram": [
           {
            "marker": {
             "colorbar": {
              "outlinewidth": 0,
              "ticks": ""
             }
            },
            "type": "histogram"
           }
          ],
          "histogram2d": [
           {
            "colorbar": {
             "outlinewidth": 0,
             "ticks": ""
            },
            "colorscale": [
             [
              0,
              "#0d0887"
             ],
             [
              0.1111111111111111,
              "#46039f"
             ],
             [
              0.2222222222222222,
              "#7201a8"
             ],
             [
              0.3333333333333333,
              "#9c179e"
             ],
             [
              0.4444444444444444,
              "#bd3786"
             ],
             [
              0.5555555555555556,
              "#d8576b"
             ],
             [
              0.6666666666666666,
              "#ed7953"
             ],
             [
              0.7777777777777778,
              "#fb9f3a"
             ],
             [
              0.8888888888888888,
              "#fdca26"
             ],
             [
              1,
              "#f0f921"
             ]
            ],
            "type": "histogram2d"
           }
          ],
          "histogram2dcontour": [
           {
            "colorbar": {
             "outlinewidth": 0,
             "ticks": ""
            },
            "colorscale": [
             [
              0,
              "#0d0887"
             ],
             [
              0.1111111111111111,
              "#46039f"
             ],
             [
              0.2222222222222222,
              "#7201a8"
             ],
             [
              0.3333333333333333,
              "#9c179e"
             ],
             [
              0.4444444444444444,
              "#bd3786"
             ],
             [
              0.5555555555555556,
              "#d8576b"
             ],
             [
              0.6666666666666666,
              "#ed7953"
             ],
             [
              0.7777777777777778,
              "#fb9f3a"
             ],
             [
              0.8888888888888888,
              "#fdca26"
             ],
             [
              1,
              "#f0f921"
             ]
            ],
            "type": "histogram2dcontour"
           }
          ],
          "mesh3d": [
           {
            "colorbar": {
             "outlinewidth": 0,
             "ticks": ""
            },
            "type": "mesh3d"
           }
          ],
          "parcoords": [
           {
            "line": {
             "colorbar": {
              "outlinewidth": 0,
              "ticks": ""
             }
            },
            "type": "parcoords"
           }
          ],
          "pie": [
           {
            "automargin": true,
            "type": "pie"
           }
          ],
          "scatter": [
           {
            "marker": {
             "colorbar": {
              "outlinewidth": 0,
              "ticks": ""
             }
            },
            "type": "scatter"
           }
          ],
          "scatter3d": [
           {
            "line": {
             "colorbar": {
              "outlinewidth": 0,
              "ticks": ""
             }
            },
            "marker": {
             "colorbar": {
              "outlinewidth": 0,
              "ticks": ""
             }
            },
            "type": "scatter3d"
           }
          ],
          "scattercarpet": [
           {
            "marker": {
             "colorbar": {
              "outlinewidth": 0,
              "ticks": ""
             }
            },
            "type": "scattercarpet"
           }
          ],
          "scattergeo": [
           {
            "marker": {
             "colorbar": {
              "outlinewidth": 0,
              "ticks": ""
             }
            },
            "type": "scattergeo"
           }
          ],
          "scattergl": [
           {
            "marker": {
             "colorbar": {
              "outlinewidth": 0,
              "ticks": ""
             }
            },
            "type": "scattergl"
           }
          ],
          "scattermapbox": [
           {
            "marker": {
             "colorbar": {
              "outlinewidth": 0,
              "ticks": ""
             }
            },
            "type": "scattermapbox"
           }
          ],
          "scatterpolar": [
           {
            "marker": {
             "colorbar": {
              "outlinewidth": 0,
              "ticks": ""
             }
            },
            "type": "scatterpolar"
           }
          ],
          "scatterpolargl": [
           {
            "marker": {
             "colorbar": {
              "outlinewidth": 0,
              "ticks": ""
             }
            },
            "type": "scatterpolargl"
           }
          ],
          "scatterternary": [
           {
            "marker": {
             "colorbar": {
              "outlinewidth": 0,
              "ticks": ""
             }
            },
            "type": "scatterternary"
           }
          ],
          "surface": [
           {
            "colorbar": {
             "outlinewidth": 0,
             "ticks": ""
            },
            "colorscale": [
             [
              0,
              "#0d0887"
             ],
             [
              0.1111111111111111,
              "#46039f"
             ],
             [
              0.2222222222222222,
              "#7201a8"
             ],
             [
              0.3333333333333333,
              "#9c179e"
             ],
             [
              0.4444444444444444,
              "#bd3786"
             ],
             [
              0.5555555555555556,
              "#d8576b"
             ],
             [
              0.6666666666666666,
              "#ed7953"
             ],
             [
              0.7777777777777778,
              "#fb9f3a"
             ],
             [
              0.8888888888888888,
              "#fdca26"
             ],
             [
              1,
              "#f0f921"
             ]
            ],
            "type": "surface"
           }
          ],
          "table": [
           {
            "cells": {
             "fill": {
              "color": "#EBF0F8"
             },
             "line": {
              "color": "white"
             }
            },
            "header": {
             "fill": {
              "color": "#C8D4E3"
             },
             "line": {
              "color": "white"
             }
            },
            "type": "table"
           }
          ]
         },
         "layout": {
          "annotationdefaults": {
           "arrowcolor": "#2a3f5f",
           "arrowhead": 0,
           "arrowwidth": 1
          },
          "coloraxis": {
           "colorbar": {
            "outlinewidth": 0,
            "ticks": ""
           }
          },
          "colorscale": {
           "diverging": [
            [
             0,
             "#8e0152"
            ],
            [
             0.1,
             "#c51b7d"
            ],
            [
             0.2,
             "#de77ae"
            ],
            [
             0.3,
             "#f1b6da"
            ],
            [
             0.4,
             "#fde0ef"
            ],
            [
             0.5,
             "#f7f7f7"
            ],
            [
             0.6,
             "#e6f5d0"
            ],
            [
             0.7,
             "#b8e186"
            ],
            [
             0.8,
             "#7fbc41"
            ],
            [
             0.9,
             "#4d9221"
            ],
            [
             1,
             "#276419"
            ]
           ],
           "sequential": [
            [
             0,
             "#0d0887"
            ],
            [
             0.1111111111111111,
             "#46039f"
            ],
            [
             0.2222222222222222,
             "#7201a8"
            ],
            [
             0.3333333333333333,
             "#9c179e"
            ],
            [
             0.4444444444444444,
             "#bd3786"
            ],
            [
             0.5555555555555556,
             "#d8576b"
            ],
            [
             0.6666666666666666,
             "#ed7953"
            ],
            [
             0.7777777777777778,
             "#fb9f3a"
            ],
            [
             0.8888888888888888,
             "#fdca26"
            ],
            [
             1,
             "#f0f921"
            ]
           ],
           "sequentialminus": [
            [
             0,
             "#0d0887"
            ],
            [
             0.1111111111111111,
             "#46039f"
            ],
            [
             0.2222222222222222,
             "#7201a8"
            ],
            [
             0.3333333333333333,
             "#9c179e"
            ],
            [
             0.4444444444444444,
             "#bd3786"
            ],
            [
             0.5555555555555556,
             "#d8576b"
            ],
            [
             0.6666666666666666,
             "#ed7953"
            ],
            [
             0.7777777777777778,
             "#fb9f3a"
            ],
            [
             0.8888888888888888,
             "#fdca26"
            ],
            [
             1,
             "#f0f921"
            ]
           ]
          },
          "colorway": [
           "#636efa",
           "#EF553B",
           "#00cc96",
           "#ab63fa",
           "#FFA15A",
           "#19d3f3",
           "#FF6692",
           "#B6E880",
           "#FF97FF",
           "#FECB52"
          ],
          "font": {
           "color": "#2a3f5f"
          },
          "geo": {
           "bgcolor": "white",
           "lakecolor": "white",
           "landcolor": "#E5ECF6",
           "showlakes": true,
           "showland": true,
           "subunitcolor": "white"
          },
          "hoverlabel": {
           "align": "left"
          },
          "hovermode": "closest",
          "mapbox": {
           "style": "light"
          },
          "paper_bgcolor": "white",
          "plot_bgcolor": "#E5ECF6",
          "polar": {
           "angularaxis": {
            "gridcolor": "white",
            "linecolor": "white",
            "ticks": ""
           },
           "bgcolor": "#E5ECF6",
           "radialaxis": {
            "gridcolor": "white",
            "linecolor": "white",
            "ticks": ""
           }
          },
          "scene": {
           "xaxis": {
            "backgroundcolor": "#E5ECF6",
            "gridcolor": "white",
            "gridwidth": 2,
            "linecolor": "white",
            "showbackground": true,
            "ticks": "",
            "zerolinecolor": "white"
           },
           "yaxis": {
            "backgroundcolor": "#E5ECF6",
            "gridcolor": "white",
            "gridwidth": 2,
            "linecolor": "white",
            "showbackground": true,
            "ticks": "",
            "zerolinecolor": "white"
           },
           "zaxis": {
            "backgroundcolor": "#E5ECF6",
            "gridcolor": "white",
            "gridwidth": 2,
            "linecolor": "white",
            "showbackground": true,
            "ticks": "",
            "zerolinecolor": "white"
           }
          },
          "shapedefaults": {
           "line": {
            "color": "#2a3f5f"
           }
          },
          "ternary": {
           "aaxis": {
            "gridcolor": "white",
            "linecolor": "white",
            "ticks": ""
           },
           "baxis": {
            "gridcolor": "white",
            "linecolor": "white",
            "ticks": ""
           },
           "bgcolor": "#E5ECF6",
           "caxis": {
            "gridcolor": "white",
            "linecolor": "white",
            "ticks": ""
           }
          },
          "title": {
           "x": 0.05
          },
          "xaxis": {
           "automargin": true,
           "gridcolor": "white",
           "linecolor": "white",
           "ticks": "",
           "title": {
            "standoff": 15
           },
           "zerolinecolor": "white",
           "zerolinewidth": 2
          },
          "yaxis": {
           "automargin": true,
           "gridcolor": "white",
           "linecolor": "white",
           "ticks": "",
           "title": {
            "standoff": 15
           },
           "zerolinecolor": "white",
           "zerolinewidth": 2
          }
         }
        },
        "title": {
         "font": {
          "size": 22
         },
         "text": "China GDP per capita vs CO2 emissions",
         "x": 0.5
        },
        "xaxis": {
         "color": "black",
         "title": {
          "text": "Year"
         }
        }
       }
      },
      "text/html": [
       "<div>                            <div id=\"c2ce51cb-0e3e-401f-8d9d-1fa7e56ebbc5\" class=\"plotly-graph-div\" style=\"height:525px; width:100%;\"></div>            <script type=\"text/javascript\">                require([\"plotly\"], function(Plotly) {                    window.PLOTLYENV=window.PLOTLYENV || {};                                    if (document.getElementById(\"c2ce51cb-0e3e-401f-8d9d-1fa7e56ebbc5\")) {                    Plotly.newPlot(                        \"c2ce51cb-0e3e-401f-8d9d-1fa7e56ebbc5\",                        [{\"line\": {\"width\": 1.5}, \"name\": \"CO2\", \"opacity\": 0.8, \"type\": \"scatter\", \"x\": [\"1960\", \"1961\", \"1962\", \"1963\", \"1964\", \"1965\", \"1966\", \"1967\", \"1968\", \"1969\", \"1970\", \"1971\", \"1972\", \"1973\", \"1974\", \"1975\", \"1976\", \"1977\", \"1978\", \"1979\", \"1980\", \"1981\", \"1982\", \"1983\", \"1984\", \"1985\", \"1986\", \"1987\", \"1988\", \"1989\", \"1990\", \"1991\", \"1992\", \"1993\", \"1994\", \"1995\", \"1996\", \"1997\", \"1998\", \"1999\", \"2000\", \"2001\", \"2002\", \"2003\", \"2004\", \"2005\", \"2006\", \"2007\", \"2008\", \"2009\", \"2010\", \"2011\", \"2012\", \"2013\", \"2014\", \"2015\", \"2016\", \"2017\", \"2018\"], \"y\": [778.9794657662993, 550.9585373429924, 439.34210534299217, 435.51763862975645, 435.703766942148, 474.68062484661414, 521.4588807323603, 432.22355689322836, 467.80564296062994, 575.9446712289763, 770.1671903294487, 874.0163107719038, 928.8939954000067, 965.6465591167083, 985.085216024147, 1142.1019057686135, 1190.9645976965155, 1304.4027882230823, 1455.2575057955469, 1487.1130101473611, 1458.886737925048, 1442.7823848654473, 1570.4683245640592, 1655.8104825394935, 1802.3170956059885, 1951.773227762688, 2052.2421281462234, 2191.053006279405, 2347.763494150301, 2386.885124972622, 2420.3021080000008, 2538.923968435, 2657.112405588, 2835.79547347, 3010.242208325001, 3265.056964, 3408.3465906879997, 3414.54928638, 3265.902620510001, 3258.13488654, 3349.294776, 3426.1440619352, 3782.439297438, 4452.3102962369, 5125.894416450001, 5771.1684399999995, 6377.748016000001, 6861.7506520000015, 7375.189907000001, 7758.811768000001, 8500.542695000002, 9388.199234, 9633.899303, 9796.52716, 9820.360492283753, 9716.467840234136, 9704.479431780572, 9838.754028261345, 10064.685698137107]}, {\"line\": {\"width\": 1.5}, \"name\": \"GDP pc\", \"opacity\": 0.8, \"type\": \"scatter\", \"x\": [\"1960\", \"1961\", \"1962\", \"1963\", \"1964\", \"1965\", \"1966\", \"1967\", \"1968\", \"1969\", \"1970\", \"1971\", \"1972\", \"1973\", \"1974\", \"1975\", \"1976\", \"1977\", \"1978\", \"1979\", \"1980\", \"1981\", \"1982\", \"1983\", \"1984\", \"1985\", \"1986\", \"1987\", \"1988\", \"1989\", \"1990\", \"1991\", \"1992\", \"1993\", \"1994\", \"1995\", \"1996\", \"1997\", \"1998\", \"1999\", \"2000\", \"2001\", \"2002\", \"2003\", \"2004\", \"2005\", \"2006\", \"2007\", \"2008\", \"2009\", \"2010\", \"2011\", \"2012\", \"2013\", \"2014\", \"2015\", \"2016\", \"2017\", \"2018\"], \"y\": [89.52054151035841, 75.8058379259965, 70.90941166710071, 74.3136434486145, 85.4985551596313, 98.48677775222059, 104.324566181147, 96.5895319417819, 91.4727183066072, 100.12990326618, 113.16299155468599, 118.65457778534599, 131.883561243868, 157.090374298657, 160.140093727686, 178.34181960809602, 165.40554037241998, 185.42283291367298, 156.396388520044, 183.983152215978, 194.80472218683602, 197.07147449910198, 203.33491950346402, 225.431928890812, 250.71396904698798, 294.45884850496003, 281.928120911563, 251.811956961329, 283.537695240524, 310.8819124049, 317.884673040928, 333.142145400184, 366.46069230207297, 377.38983947995797, 473.492278718042, 609.6566792024839, 709.413755085039, 781.744164341053, 828.580479295681, 873.2870617257901, 959.372483639691, 1053.1082430045199, 1148.5082904417, 1288.64325183381, 1508.6680978826598, 1753.41782925823, 2099.22943460447, 2693.9698268348498, 3468.3044632474703, 3832.2359515672706, 4550.45359583857, 5618.13249134962, 6316.91886335683, 7050.64591988963, 7678.5994316609995, 8066.94242356745, 8147.9381477822, 8879.43814888506, 9976.676821807729]}],                        {\"paper_bgcolor\": \"rgb(245, 246, 250)\", \"plot_bgcolor\": \"rgb(245, 246, 250)\", \"template\": {\"data\": {\"bar\": [{\"error_x\": {\"color\": \"#2a3f5f\"}, \"error_y\": {\"color\": \"#2a3f5f\"}, \"marker\": {\"line\": {\"color\": \"#E5ECF6\", \"width\": 0.5}}, \"type\": \"bar\"}], \"barpolar\": [{\"marker\": {\"line\": {\"color\": \"#E5ECF6\", \"width\": 0.5}}, \"type\": \"barpolar\"}], \"carpet\": [{\"aaxis\": {\"endlinecolor\": \"#2a3f5f\", \"gridcolor\": \"white\", \"linecolor\": \"white\", \"minorgridcolor\": \"white\", \"startlinecolor\": \"#2a3f5f\"}, \"baxis\": {\"endlinecolor\": \"#2a3f5f\", \"gridcolor\": \"white\", \"linecolor\": \"white\", \"minorgridcolor\": \"white\", \"startlinecolor\": \"#2a3f5f\"}, \"type\": \"carpet\"}], \"choropleth\": [{\"colorbar\": {\"outlinewidth\": 0, \"ticks\": \"\"}, \"type\": \"choropleth\"}], \"contour\": [{\"colorbar\": {\"outlinewidth\": 0, \"ticks\": \"\"}, \"colorscale\": [[0.0, \"#0d0887\"], [0.1111111111111111, \"#46039f\"], [0.2222222222222222, \"#7201a8\"], [0.3333333333333333, \"#9c179e\"], [0.4444444444444444, \"#bd3786\"], [0.5555555555555556, \"#d8576b\"], [0.6666666666666666, \"#ed7953\"], [0.7777777777777778, \"#fb9f3a\"], [0.8888888888888888, \"#fdca26\"], [1.0, \"#f0f921\"]], \"type\": \"contour\"}], \"contourcarpet\": [{\"colorbar\": {\"outlinewidth\": 0, \"ticks\": \"\"}, \"type\": \"contourcarpet\"}], \"heatmap\": [{\"colorbar\": {\"outlinewidth\": 0, \"ticks\": \"\"}, \"colorscale\": [[0.0, \"#0d0887\"], [0.1111111111111111, \"#46039f\"], [0.2222222222222222, \"#7201a8\"], [0.3333333333333333, \"#9c179e\"], [0.4444444444444444, \"#bd3786\"], [0.5555555555555556, \"#d8576b\"], [0.6666666666666666, \"#ed7953\"], [0.7777777777777778, \"#fb9f3a\"], [0.8888888888888888, \"#fdca26\"], [1.0, \"#f0f921\"]], \"type\": \"heatmap\"}], \"heatmapgl\": [{\"colorbar\": {\"outlinewidth\": 0, \"ticks\": \"\"}, \"colorscale\": [[0.0, \"#0d0887\"], [0.1111111111111111, \"#46039f\"], [0.2222222222222222, \"#7201a8\"], [0.3333333333333333, \"#9c179e\"], [0.4444444444444444, \"#bd3786\"], [0.5555555555555556, \"#d8576b\"], [0.6666666666666666, \"#ed7953\"], [0.7777777777777778, \"#fb9f3a\"], [0.8888888888888888, \"#fdca26\"], [1.0, \"#f0f921\"]], \"type\": \"heatmapgl\"}], \"histogram\": [{\"marker\": {\"colorbar\": {\"outlinewidth\": 0, \"ticks\": \"\"}}, \"type\": \"histogram\"}], \"histogram2d\": [{\"colorbar\": {\"outlinewidth\": 0, \"ticks\": \"\"}, \"colorscale\": [[0.0, \"#0d0887\"], [0.1111111111111111, \"#46039f\"], [0.2222222222222222, \"#7201a8\"], [0.3333333333333333, \"#9c179e\"], [0.4444444444444444, \"#bd3786\"], [0.5555555555555556, \"#d8576b\"], [0.6666666666666666, \"#ed7953\"], [0.7777777777777778, \"#fb9f3a\"], [0.8888888888888888, \"#fdca26\"], [1.0, \"#f0f921\"]], \"type\": \"histogram2d\"}], \"histogram2dcontour\": [{\"colorbar\": {\"outlinewidth\": 0, \"ticks\": \"\"}, \"colorscale\": [[0.0, \"#0d0887\"], [0.1111111111111111, \"#46039f\"], [0.2222222222222222, \"#7201a8\"], [0.3333333333333333, \"#9c179e\"], [0.4444444444444444, \"#bd3786\"], [0.5555555555555556, \"#d8576b\"], [0.6666666666666666, \"#ed7953\"], [0.7777777777777778, \"#fb9f3a\"], [0.8888888888888888, \"#fdca26\"], [1.0, \"#f0f921\"]], \"type\": \"histogram2dcontour\"}], \"mesh3d\": [{\"colorbar\": {\"outlinewidth\": 0, \"ticks\": \"\"}, \"type\": \"mesh3d\"}], \"parcoords\": [{\"line\": {\"colorbar\": {\"outlinewidth\": 0, \"ticks\": \"\"}}, \"type\": \"parcoords\"}], \"pie\": [{\"automargin\": true, \"type\": \"pie\"}], \"scatter\": [{\"marker\": {\"colorbar\": {\"outlinewidth\": 0, \"ticks\": \"\"}}, \"type\": \"scatter\"}], \"scatter3d\": [{\"line\": {\"colorbar\": {\"outlinewidth\": 0, \"ticks\": \"\"}}, \"marker\": {\"colorbar\": {\"outlinewidth\": 0, \"ticks\": \"\"}}, \"type\": \"scatter3d\"}], \"scattercarpet\": [{\"marker\": {\"colorbar\": {\"outlinewidth\": 0, \"ticks\": \"\"}}, \"type\": \"scattercarpet\"}], \"scattergeo\": [{\"marker\": {\"colorbar\": {\"outlinewidth\": 0, \"ticks\": \"\"}}, \"type\": \"scattergeo\"}], \"scattergl\": [{\"marker\": {\"colorbar\": {\"outlinewidth\": 0, \"ticks\": \"\"}}, \"type\": \"scattergl\"}], \"scattermapbox\": [{\"marker\": {\"colorbar\": {\"outlinewidth\": 0, \"ticks\": \"\"}}, \"type\": \"scattermapbox\"}], \"scatterpolar\": [{\"marker\": {\"colorbar\": {\"outlinewidth\": 0, \"ticks\": \"\"}}, \"type\": \"scatterpolar\"}], \"scatterpolargl\": [{\"marker\": {\"colorbar\": {\"outlinewidth\": 0, \"ticks\": \"\"}}, \"type\": \"scatterpolargl\"}], \"scatterternary\": [{\"marker\": {\"colorbar\": {\"outlinewidth\": 0, \"ticks\": \"\"}}, \"type\": \"scatterternary\"}], \"surface\": [{\"colorbar\": {\"outlinewidth\": 0, \"ticks\": \"\"}, \"colorscale\": [[0.0, \"#0d0887\"], [0.1111111111111111, \"#46039f\"], [0.2222222222222222, \"#7201a8\"], [0.3333333333333333, \"#9c179e\"], [0.4444444444444444, \"#bd3786\"], [0.5555555555555556, \"#d8576b\"], [0.6666666666666666, \"#ed7953\"], [0.7777777777777778, \"#fb9f3a\"], [0.8888888888888888, \"#fdca26\"], [1.0, \"#f0f921\"]], \"type\": \"surface\"}], \"table\": [{\"cells\": {\"fill\": {\"color\": \"#EBF0F8\"}, \"line\": {\"color\": \"white\"}}, \"header\": {\"fill\": {\"color\": \"#C8D4E3\"}, \"line\": {\"color\": \"white\"}}, \"type\": \"table\"}]}, \"layout\": {\"annotationdefaults\": {\"arrowcolor\": \"#2a3f5f\", \"arrowhead\": 0, \"arrowwidth\": 1}, \"coloraxis\": {\"colorbar\": {\"outlinewidth\": 0, \"ticks\": \"\"}}, \"colorscale\": {\"diverging\": [[0, \"#8e0152\"], [0.1, \"#c51b7d\"], [0.2, \"#de77ae\"], [0.3, \"#f1b6da\"], [0.4, \"#fde0ef\"], [0.5, \"#f7f7f7\"], [0.6, \"#e6f5d0\"], [0.7, \"#b8e186\"], [0.8, \"#7fbc41\"], [0.9, \"#4d9221\"], [1, \"#276419\"]], \"sequential\": [[0.0, \"#0d0887\"], [0.1111111111111111, \"#46039f\"], [0.2222222222222222, \"#7201a8\"], [0.3333333333333333, \"#9c179e\"], [0.4444444444444444, \"#bd3786\"], [0.5555555555555556, \"#d8576b\"], [0.6666666666666666, \"#ed7953\"], [0.7777777777777778, \"#fb9f3a\"], [0.8888888888888888, \"#fdca26\"], [1.0, \"#f0f921\"]], \"sequentialminus\": [[0.0, \"#0d0887\"], [0.1111111111111111, \"#46039f\"], [0.2222222222222222, \"#7201a8\"], [0.3333333333333333, \"#9c179e\"], [0.4444444444444444, \"#bd3786\"], [0.5555555555555556, \"#d8576b\"], [0.6666666666666666, \"#ed7953\"], [0.7777777777777778, \"#fb9f3a\"], [0.8888888888888888, \"#fdca26\"], [1.0, \"#f0f921\"]]}, \"colorway\": [\"#636efa\", \"#EF553B\", \"#00cc96\", \"#ab63fa\", \"#FFA15A\", \"#19d3f3\", \"#FF6692\", \"#B6E880\", \"#FF97FF\", \"#FECB52\"], \"font\": {\"color\": \"#2a3f5f\"}, \"geo\": {\"bgcolor\": \"white\", \"lakecolor\": \"white\", \"landcolor\": \"#E5ECF6\", \"showlakes\": true, \"showland\": true, \"subunitcolor\": \"white\"}, \"hoverlabel\": {\"align\": \"left\"}, \"hovermode\": \"closest\", \"mapbox\": {\"style\": \"light\"}, \"paper_bgcolor\": \"white\", \"plot_bgcolor\": \"#E5ECF6\", \"polar\": {\"angularaxis\": {\"gridcolor\": \"white\", \"linecolor\": \"white\", \"ticks\": \"\"}, \"bgcolor\": \"#E5ECF6\", \"radialaxis\": {\"gridcolor\": \"white\", \"linecolor\": \"white\", \"ticks\": \"\"}}, \"scene\": {\"xaxis\": {\"backgroundcolor\": \"#E5ECF6\", \"gridcolor\": \"white\", \"gridwidth\": 2, \"linecolor\": \"white\", \"showbackground\": true, \"ticks\": \"\", \"zerolinecolor\": \"white\"}, \"yaxis\": {\"backgroundcolor\": \"#E5ECF6\", \"gridcolor\": \"white\", \"gridwidth\": 2, \"linecolor\": \"white\", \"showbackground\": true, \"ticks\": \"\", \"zerolinecolor\": \"white\"}, \"zaxis\": {\"backgroundcolor\": \"#E5ECF6\", \"gridcolor\": \"white\", \"gridwidth\": 2, \"linecolor\": \"white\", \"showbackground\": true, \"ticks\": \"\", \"zerolinecolor\": \"white\"}}, \"shapedefaults\": {\"line\": {\"color\": \"#2a3f5f\"}}, \"ternary\": {\"aaxis\": {\"gridcolor\": \"white\", \"linecolor\": \"white\", \"ticks\": \"\"}, \"baxis\": {\"gridcolor\": \"white\", \"linecolor\": \"white\", \"ticks\": \"\"}, \"bgcolor\": \"#E5ECF6\", \"caxis\": {\"gridcolor\": \"white\", \"linecolor\": \"white\", \"ticks\": \"\"}}, \"title\": {\"x\": 0.05}, \"xaxis\": {\"automargin\": true, \"gridcolor\": \"white\", \"linecolor\": \"white\", \"ticks\": \"\", \"title\": {\"standoff\": 15}, \"zerolinecolor\": \"white\", \"zerolinewidth\": 2}, \"yaxis\": {\"automargin\": true, \"gridcolor\": \"white\", \"linecolor\": \"white\", \"ticks\": \"\", \"title\": {\"standoff\": 15}, \"zerolinecolor\": \"white\", \"zerolinewidth\": 2}}}, \"title\": {\"font\": {\"size\": 22}, \"text\": \"China GDP per capita vs CO2 emissions\", \"x\": 0.5}, \"xaxis\": {\"color\": \"black\", \"title\": {\"text\": \"Year\"}}},                        {\"responsive\": true}                    ).then(function(){\n",
       "                            \n",
       "var gd = document.getElementById('c2ce51cb-0e3e-401f-8d9d-1fa7e56ebbc5');\n",
       "var x = new MutationObserver(function (mutations, observer) {{\n",
       "        var display = window.getComputedStyle(gd).display;\n",
       "        if (!display || display === 'none') {{\n",
       "            console.log([gd, 'removed!']);\n",
       "            Plotly.purge(gd);\n",
       "            observer.disconnect();\n",
       "        }}\n",
       "}});\n",
       "\n",
       "// Listen for the removal of the full notebook cells\n",
       "var notebookContainer = gd.closest('#notebook-container');\n",
       "if (notebookContainer) {{\n",
       "    x.observe(notebookContainer, {childList: true});\n",
       "}}\n",
       "\n",
       "// Listen for the clearing of the current output cell\n",
       "var outputEl = gd.closest('.output');\n",
       "if (outputEl) {{\n",
       "    x.observe(outputEl, {childList: true});\n",
       "}}\n",
       "\n",
       "                        })                };                });            </script>        </div>"
      ]
     },
     "metadata": {},
     "output_type": "display_data"
    }
   ],
   "source": [
    "fig = go.Figure( layout=go.Layout(xaxis=dict(title = \"Year\", color = 'black'),\n",
    "    ))\n",
    "\n",
    "fig.add_trace(go.Scatter(\n",
    "                x=df1.transpose()[38][2:-2].index,\n",
    "                y=df1.transpose()[38][2:-2],\n",
    "                name=\"CO2\",\n",
    "                line_width = 1.5,\n",
    "                opacity=0.8))\n",
    "\n",
    "fig.add_trace(go.Scatter(\n",
    "                x=GDP_data.transpose()[38][2:-2].index,\n",
    "                y=GDP_data.transpose()[38][2:-2],\n",
    "                name=\"GDP pc\",\n",
    "                line_width = 1.5,\n",
    "                opacity=0.8))\n",
    "\n",
    "\n",
    "\n",
    "# Use date string to set xaxis range\n",
    "fig.update_layout(title_text = \"China GDP per capita vs CO2 emissions\", title_x=0.5, title_font_size = 22,\n",
    "                  paper_bgcolor = 'rgb(245, 246, 250)', plot_bgcolor = 'rgb(245, 246, 250)')\n",
    "fig.show()"
   ]
  },
  {
   "cell_type": "code",
   "execution_count": null,
   "metadata": {},
   "outputs": [],
   "source": []
  }
 ],
 "metadata": {
  "kernelspec": {
   "display_name": "Python 3",
   "language": "python",
   "name": "python3"
  },
  "language_info": {
   "codemirror_mode": {
    "name": "ipython",
    "version": 3
   },
   "file_extension": ".py",
   "mimetype": "text/x-python",
   "name": "python",
   "nbconvert_exporter": "python",
   "pygments_lexer": "ipython3",
   "version": "3.7.3"
  }
 },
 "nbformat": 4,
 "nbformat_minor": 2
}
