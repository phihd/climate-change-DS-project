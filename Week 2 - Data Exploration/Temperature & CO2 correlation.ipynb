{
 "cells": [
  {
   "cell_type": "code",
   "execution_count": 1,
   "metadata": {},
   "outputs": [],
   "source": [
    "import numpy as np\n",
    "import pandas as pd\n",
    "import plotly as py\n",
    "\n",
    "import plotly.express as px\n",
    "import plotly.graph_objs as go\n",
    "from plotly.subplots import make_subplots\n",
    "from plotly.offline import download_plotlyjs, init_notebook_mode, plot, iplot"
   ]
  },
  {
   "cell_type": "code",
   "execution_count": 2,
   "metadata": {},
   "outputs": [],
   "source": [
    "# CO2 emission data is one Mathilda uploaded.\n",
    "df = pd.read_csv('annual_csv.csv')\n",
    "df2 = pd.read_csv('CO2emissions.csv')"
   ]
  },
  {
   "cell_type": "code",
   "execution_count": 3,
   "metadata": {},
   "outputs": [
    {
     "data": {
      "text/html": [
       "<div>\n",
       "<style scoped>\n",
       "    .dataframe tbody tr th:only-of-type {\n",
       "        vertical-align: middle;\n",
       "    }\n",
       "\n",
       "    .dataframe tbody tr th {\n",
       "        vertical-align: top;\n",
       "    }\n",
       "\n",
       "    .dataframe thead th {\n",
       "        text-align: right;\n",
       "    }\n",
       "</style>\n",
       "<table border=\"1\" class=\"dataframe\">\n",
       "  <thead>\n",
       "    <tr style=\"text-align: right;\">\n",
       "      <th></th>\n",
       "      <th>Source</th>\n",
       "      <th>Year</th>\n",
       "      <th>Temperature</th>\n",
       "    </tr>\n",
       "  </thead>\n",
       "  <tbody>\n",
       "    <tr>\n",
       "      <th>269</th>\n",
       "      <td>GISTEMP</td>\n",
       "      <td>1882</td>\n",
       "      <td>-0.1000</td>\n",
       "    </tr>\n",
       "    <tr>\n",
       "      <th>270</th>\n",
       "      <td>GCAG</td>\n",
       "      <td>1881</td>\n",
       "      <td>-0.0628</td>\n",
       "    </tr>\n",
       "    <tr>\n",
       "      <th>271</th>\n",
       "      <td>GISTEMP</td>\n",
       "      <td>1881</td>\n",
       "      <td>-0.1200</td>\n",
       "    </tr>\n",
       "    <tr>\n",
       "      <th>272</th>\n",
       "      <td>GCAG</td>\n",
       "      <td>1880</td>\n",
       "      <td>-0.1148</td>\n",
       "    </tr>\n",
       "    <tr>\n",
       "      <th>273</th>\n",
       "      <td>GISTEMP</td>\n",
       "      <td>1880</td>\n",
       "      <td>-0.2000</td>\n",
       "    </tr>\n",
       "  </tbody>\n",
       "</table>\n",
       "</div>"
      ],
      "text/plain": [
       "      Source  Year  Temperature\n",
       "269  GISTEMP  1882      -0.1000\n",
       "270     GCAG  1881      -0.0628\n",
       "271  GISTEMP  1881      -0.1200\n",
       "272     GCAG  1880      -0.1148\n",
       "273  GISTEMP  1880      -0.2000"
      ]
     },
     "execution_count": 3,
     "metadata": {},
     "output_type": "execute_result"
    }
   ],
   "source": [
    "# Tempperature data is available until the year 2016\n",
    "df.head()\n",
    "df = df.rename(columns={\"Mean\" : \"Temperature\"})\n",
    "df.tail()"
   ]
  },
  {
   "cell_type": "code",
   "execution_count": 4,
   "metadata": {},
   "outputs": [
    {
     "data": {
      "text/html": [
       "<div>\n",
       "<style scoped>\n",
       "    .dataframe tbody tr th:only-of-type {\n",
       "        vertical-align: middle;\n",
       "    }\n",
       "\n",
       "    .dataframe tbody tr th {\n",
       "        vertical-align: top;\n",
       "    }\n",
       "\n",
       "    .dataframe thead th {\n",
       "        text-align: right;\n",
       "    }\n",
       "</style>\n",
       "<table border=\"1\" class=\"dataframe\">\n",
       "  <thead>\n",
       "    <tr style=\"text-align: right;\">\n",
       "      <th></th>\n",
       "      <th>Country</th>\n",
       "      <th>Year</th>\n",
       "      <th>CO2_Emission</th>\n",
       "    </tr>\n",
       "  </thead>\n",
       "  <tbody>\n",
       "    <tr>\n",
       "      <th>30639</th>\n",
       "      <td>Vietnam</td>\n",
       "      <td>2012</td>\n",
       "      <td>173.0497</td>\n",
       "    </tr>\n",
       "    <tr>\n",
       "      <th>30640</th>\n",
       "      <td>World</td>\n",
       "      <td>2012</td>\n",
       "      <td>33843.0497</td>\n",
       "    </tr>\n",
       "    <tr>\n",
       "      <th>30641</th>\n",
       "      <td>Yemen</td>\n",
       "      <td>2012</td>\n",
       "      <td>20.5386</td>\n",
       "    </tr>\n",
       "    <tr>\n",
       "      <th>30642</th>\n",
       "      <td>Zambia</td>\n",
       "      <td>2012</td>\n",
       "      <td>2.7600</td>\n",
       "    </tr>\n",
       "    <tr>\n",
       "      <th>30643</th>\n",
       "      <td>Zimbabwe</td>\n",
       "      <td>2012</td>\n",
       "      <td>9.9800</td>\n",
       "    </tr>\n",
       "  </tbody>\n",
       "</table>\n",
       "</div>"
      ],
      "text/plain": [
       "        Country  Year  CO2_Emission\n",
       "30639   Vietnam  2012      173.0497\n",
       "30640     World  2012    33843.0497\n",
       "30641     Yemen  2012       20.5386\n",
       "30642    Zambia  2012        2.7600\n",
       "30643  Zimbabwe  2012        9.9800"
      ]
     },
     "execution_count": 4,
     "metadata": {},
     "output_type": "execute_result"
    }
   ],
   "source": [
    "# CO2 data is available until the year 2012\n",
    "df2 = df2.rename(columns={\"Total CO2 Emissions Excluding Land-Use Change and Forestry (MtCO2)\" : \"CO2_Emission\"})\n",
    "df2.tail()"
   ]
  },
  {
   "cell_type": "code",
   "execution_count": 5,
   "metadata": {},
   "outputs": [],
   "source": [
    "# We use only one source of the Temperature Anomaly data.\n",
    "# Based on my research, GISTEMP has more public confidence over GCAG. \n",
    "# If want, you can change the value below to 'GCAG'\n",
    "df = df.loc[df['Source'] == 'GISTEMP'].sort_values('Year', ascending=True)"
   ]
  },
  {
   "cell_type": "code",
   "execution_count": 6,
   "metadata": {},
   "outputs": [],
   "source": [
    "# Either sum of average wouldn't matter for inicating the increase in CO2 emission over time\n",
    "# but I chose the total sum of worldwide CO2 emission \n",
    "# because the degree of CO2 emission effect on climate change is proportional to the total amount of CO2 emission\n",
    "df2 = df2.groupby(['Year']).sum().reset_index().sort_values('Year', ascending = True) "
   ]
  },
  {
   "cell_type": "code",
   "execution_count": 7,
   "metadata": {},
   "outputs": [
    {
     "data": {
      "text/html": [
       "<div>\n",
       "<style scoped>\n",
       "    .dataframe tbody tr th:only-of-type {\n",
       "        vertical-align: middle;\n",
       "    }\n",
       "\n",
       "    .dataframe tbody tr th {\n",
       "        vertical-align: top;\n",
       "    }\n",
       "\n",
       "    .dataframe thead th {\n",
       "        text-align: right;\n",
       "    }\n",
       "</style>\n",
       "<table border=\"1\" class=\"dataframe\">\n",
       "  <thead>\n",
       "    <tr style=\"text-align: right;\">\n",
       "      <th></th>\n",
       "      <th>Year</th>\n",
       "      <th>CO2_Emission</th>\n",
       "    </tr>\n",
       "  </thead>\n",
       "  <tbody>\n",
       "    <tr>\n",
       "      <th>0</th>\n",
       "      <td>1850</td>\n",
       "      <td>745.1351</td>\n",
       "    </tr>\n",
       "    <tr>\n",
       "      <th>1</th>\n",
       "      <td>1851</td>\n",
       "      <td>740.7692</td>\n",
       "    </tr>\n",
       "    <tr>\n",
       "      <th>2</th>\n",
       "      <td>1852</td>\n",
       "      <td>772.9207</td>\n",
       "    </tr>\n",
       "    <tr>\n",
       "      <th>3</th>\n",
       "      <td>1853</td>\n",
       "      <td>802.1741</td>\n",
       "    </tr>\n",
       "    <tr>\n",
       "      <th>4</th>\n",
       "      <td>1854</td>\n",
       "      <td>945.8544</td>\n",
       "    </tr>\n",
       "    <tr>\n",
       "      <th>...</th>\n",
       "      <td>...</td>\n",
       "      <td>...</td>\n",
       "    </tr>\n",
       "    <tr>\n",
       "      <th>158</th>\n",
       "      <td>2008</td>\n",
       "      <td>68084.3547</td>\n",
       "    </tr>\n",
       "    <tr>\n",
       "      <th>159</th>\n",
       "      <td>2009</td>\n",
       "      <td>66709.4218</td>\n",
       "    </tr>\n",
       "    <tr>\n",
       "      <th>160</th>\n",
       "      <td>2010</td>\n",
       "      <td>70057.4880</td>\n",
       "    </tr>\n",
       "    <tr>\n",
       "      <th>161</th>\n",
       "      <td>2011</td>\n",
       "      <td>71844.0564</td>\n",
       "    </tr>\n",
       "    <tr>\n",
       "      <th>162</th>\n",
       "      <td>2012</td>\n",
       "      <td>72709.8899</td>\n",
       "    </tr>\n",
       "  </tbody>\n",
       "</table>\n",
       "<p>163 rows × 2 columns</p>\n",
       "</div>"
      ],
      "text/plain": [
       "     Year  CO2_Emission\n",
       "0    1850      745.1351\n",
       "1    1851      740.7692\n",
       "2    1852      772.9207\n",
       "3    1853      802.1741\n",
       "4    1854      945.8544\n",
       "..    ...           ...\n",
       "158  2008    68084.3547\n",
       "159  2009    66709.4218\n",
       "160  2010    70057.4880\n",
       "161  2011    71844.0564\n",
       "162  2012    72709.8899\n",
       "\n",
       "[163 rows x 2 columns]"
      ]
     },
     "execution_count": 7,
     "metadata": {},
     "output_type": "execute_result"
    }
   ],
   "source": [
    "df2"
   ]
  },
  {
   "cell_type": "code",
   "execution_count": 8,
   "metadata": {},
   "outputs": [
    {
     "data": {
      "text/plain": [
       "Source         0\n",
       "Year           0\n",
       "Temperature    0\n",
       "dtype: int64"
      ]
     },
     "execution_count": 8,
     "metadata": {},
     "output_type": "execute_result"
    }
   ],
   "source": [
    "df.isna().sum()"
   ]
  },
  {
   "cell_type": "code",
   "execution_count": 9,
   "metadata": {},
   "outputs": [
    {
     "data": {
      "text/plain": [
       "Year            0\n",
       "CO2_Emission    0\n",
       "dtype: int64"
      ]
     },
     "execution_count": 9,
     "metadata": {},
     "output_type": "execute_result"
    }
   ],
   "source": [
    "df2.isna().sum()"
   ]
  },
  {
   "cell_type": "code",
   "execution_count": 10,
   "metadata": {},
   "outputs": [],
   "source": [
    "# Both of them contain no Null data but their starting year differs.\n",
    "# For the consistency with other analysis (The effect of Industrialization)\n",
    "# I chose the starting year to be 1900 and the end year to be 2012. \n",
    "# Feel free to change this years if necessary.\n",
    "mask = (df['Year'] >= 1900) & (df['Year'] <= 2012)\n",
    "mask2 = (df2['Year'] >= 1900) & (df2['Year'] <= 2012)"
   ]
  },
  {
   "cell_type": "code",
   "execution_count": 11,
   "metadata": {},
   "outputs": [],
   "source": [
    "df = df.loc[mask]\n",
    "df2 = df2.loc[mask2]"
   ]
  },
  {
   "cell_type": "code",
   "execution_count": 12,
   "metadata": {},
   "outputs": [
    {
     "data": {
      "text/html": [
       "<div>\n",
       "<style scoped>\n",
       "    .dataframe tbody tr th:only-of-type {\n",
       "        vertical-align: middle;\n",
       "    }\n",
       "\n",
       "    .dataframe tbody tr th {\n",
       "        vertical-align: top;\n",
       "    }\n",
       "\n",
       "    .dataframe thead th {\n",
       "        text-align: right;\n",
       "    }\n",
       "</style>\n",
       "<table border=\"1\" class=\"dataframe\">\n",
       "  <thead>\n",
       "    <tr style=\"text-align: right;\">\n",
       "      <th></th>\n",
       "      <th>Source</th>\n",
       "      <th>Year</th>\n",
       "      <th>Temperature</th>\n",
       "    </tr>\n",
       "  </thead>\n",
       "  <tbody>\n",
       "    <tr>\n",
       "      <th>233</th>\n",
       "      <td>GISTEMP</td>\n",
       "      <td>1900</td>\n",
       "      <td>-0.09</td>\n",
       "    </tr>\n",
       "    <tr>\n",
       "      <th>231</th>\n",
       "      <td>GISTEMP</td>\n",
       "      <td>1901</td>\n",
       "      <td>-0.15</td>\n",
       "    </tr>\n",
       "    <tr>\n",
       "      <th>229</th>\n",
       "      <td>GISTEMP</td>\n",
       "      <td>1902</td>\n",
       "      <td>-0.27</td>\n",
       "    </tr>\n",
       "    <tr>\n",
       "      <th>227</th>\n",
       "      <td>GISTEMP</td>\n",
       "      <td>1903</td>\n",
       "      <td>-0.35</td>\n",
       "    </tr>\n",
       "    <tr>\n",
       "      <th>225</th>\n",
       "      <td>GISTEMP</td>\n",
       "      <td>1904</td>\n",
       "      <td>-0.44</td>\n",
       "    </tr>\n",
       "    <tr>\n",
       "      <th>...</th>\n",
       "      <td>...</td>\n",
       "      <td>...</td>\n",
       "      <td>...</td>\n",
       "    </tr>\n",
       "    <tr>\n",
       "      <th>17</th>\n",
       "      <td>GISTEMP</td>\n",
       "      <td>2008</td>\n",
       "      <td>0.54</td>\n",
       "    </tr>\n",
       "    <tr>\n",
       "      <th>15</th>\n",
       "      <td>GISTEMP</td>\n",
       "      <td>2009</td>\n",
       "      <td>0.64</td>\n",
       "    </tr>\n",
       "    <tr>\n",
       "      <th>13</th>\n",
       "      <td>GISTEMP</td>\n",
       "      <td>2010</td>\n",
       "      <td>0.71</td>\n",
       "    </tr>\n",
       "    <tr>\n",
       "      <th>11</th>\n",
       "      <td>GISTEMP</td>\n",
       "      <td>2011</td>\n",
       "      <td>0.60</td>\n",
       "    </tr>\n",
       "    <tr>\n",
       "      <th>9</th>\n",
       "      <td>GISTEMP</td>\n",
       "      <td>2012</td>\n",
       "      <td>0.63</td>\n",
       "    </tr>\n",
       "  </tbody>\n",
       "</table>\n",
       "<p>113 rows × 3 columns</p>\n",
       "</div>"
      ],
      "text/plain": [
       "      Source  Year  Temperature\n",
       "233  GISTEMP  1900        -0.09\n",
       "231  GISTEMP  1901        -0.15\n",
       "229  GISTEMP  1902        -0.27\n",
       "227  GISTEMP  1903        -0.35\n",
       "225  GISTEMP  1904        -0.44\n",
       "..       ...   ...          ...\n",
       "17   GISTEMP  2008         0.54\n",
       "15   GISTEMP  2009         0.64\n",
       "13   GISTEMP  2010         0.71\n",
       "11   GISTEMP  2011         0.60\n",
       "9    GISTEMP  2012         0.63\n",
       "\n",
       "[113 rows x 3 columns]"
      ]
     },
     "execution_count": 12,
     "metadata": {},
     "output_type": "execute_result"
    }
   ],
   "source": [
    "df"
   ]
  },
  {
   "cell_type": "code",
   "execution_count": 13,
   "metadata": {},
   "outputs": [
    {
     "data": {
      "text/html": [
       "<div>\n",
       "<style scoped>\n",
       "    .dataframe tbody tr th:only-of-type {\n",
       "        vertical-align: middle;\n",
       "    }\n",
       "\n",
       "    .dataframe tbody tr th {\n",
       "        vertical-align: top;\n",
       "    }\n",
       "\n",
       "    .dataframe thead th {\n",
       "        text-align: right;\n",
       "    }\n",
       "</style>\n",
       "<table border=\"1\" class=\"dataframe\">\n",
       "  <thead>\n",
       "    <tr style=\"text-align: right;\">\n",
       "      <th></th>\n",
       "      <th>Year</th>\n",
       "      <th>CO2_Emission</th>\n",
       "    </tr>\n",
       "  </thead>\n",
       "  <tbody>\n",
       "    <tr>\n",
       "      <th>50</th>\n",
       "      <td>1900</td>\n",
       "      <td>6032.3620</td>\n",
       "    </tr>\n",
       "    <tr>\n",
       "      <th>51</th>\n",
       "      <td>1901</td>\n",
       "      <td>6133.6154</td>\n",
       "    </tr>\n",
       "    <tr>\n",
       "      <th>52</th>\n",
       "      <td>1902</td>\n",
       "      <td>6237.6670</td>\n",
       "    </tr>\n",
       "    <tr>\n",
       "      <th>53</th>\n",
       "      <td>1903</td>\n",
       "      <td>6707.2002</td>\n",
       "    </tr>\n",
       "    <tr>\n",
       "      <th>54</th>\n",
       "      <td>1904</td>\n",
       "      <td>6783.3023</td>\n",
       "    </tr>\n",
       "    <tr>\n",
       "      <th>...</th>\n",
       "      <td>...</td>\n",
       "      <td>...</td>\n",
       "    </tr>\n",
       "    <tr>\n",
       "      <th>158</th>\n",
       "      <td>2008</td>\n",
       "      <td>68084.3547</td>\n",
       "    </tr>\n",
       "    <tr>\n",
       "      <th>159</th>\n",
       "      <td>2009</td>\n",
       "      <td>66709.4218</td>\n",
       "    </tr>\n",
       "    <tr>\n",
       "      <th>160</th>\n",
       "      <td>2010</td>\n",
       "      <td>70057.4880</td>\n",
       "    </tr>\n",
       "    <tr>\n",
       "      <th>161</th>\n",
       "      <td>2011</td>\n",
       "      <td>71844.0564</td>\n",
       "    </tr>\n",
       "    <tr>\n",
       "      <th>162</th>\n",
       "      <td>2012</td>\n",
       "      <td>72709.8899</td>\n",
       "    </tr>\n",
       "  </tbody>\n",
       "</table>\n",
       "<p>113 rows × 2 columns</p>\n",
       "</div>"
      ],
      "text/plain": [
       "     Year  CO2_Emission\n",
       "50   1900     6032.3620\n",
       "51   1901     6133.6154\n",
       "52   1902     6237.6670\n",
       "53   1903     6707.2002\n",
       "54   1904     6783.3023\n",
       "..    ...           ...\n",
       "158  2008    68084.3547\n",
       "159  2009    66709.4218\n",
       "160  2010    70057.4880\n",
       "161  2011    71844.0564\n",
       "162  2012    72709.8899\n",
       "\n",
       "[113 rows x 2 columns]"
      ]
     },
     "execution_count": 13,
     "metadata": {},
     "output_type": "execute_result"
    }
   ],
   "source": [
    "df2"
   ]
  },
  {
   "cell_type": "code",
   "execution_count": 14,
   "metadata": {},
   "outputs": [],
   "source": [
    "# Now we merge these two dataframes with common column, 'Year'.\n",
    "df_combine = pd.merge(df, df2, on=['Year'])"
   ]
  },
  {
   "cell_type": "code",
   "execution_count": 15,
   "metadata": {},
   "outputs": [
    {
     "data": {
      "text/html": [
       "<div>\n",
       "<style scoped>\n",
       "    .dataframe tbody tr th:only-of-type {\n",
       "        vertical-align: middle;\n",
       "    }\n",
       "\n",
       "    .dataframe tbody tr th {\n",
       "        vertical-align: top;\n",
       "    }\n",
       "\n",
       "    .dataframe thead th {\n",
       "        text-align: right;\n",
       "    }\n",
       "</style>\n",
       "<table border=\"1\" class=\"dataframe\">\n",
       "  <thead>\n",
       "    <tr style=\"text-align: right;\">\n",
       "      <th></th>\n",
       "      <th>Source</th>\n",
       "      <th>Year</th>\n",
       "      <th>Temperature</th>\n",
       "      <th>CO2_Emission</th>\n",
       "    </tr>\n",
       "  </thead>\n",
       "  <tbody>\n",
       "    <tr>\n",
       "      <th>0</th>\n",
       "      <td>GISTEMP</td>\n",
       "      <td>1900</td>\n",
       "      <td>-0.09</td>\n",
       "      <td>6032.3620</td>\n",
       "    </tr>\n",
       "    <tr>\n",
       "      <th>1</th>\n",
       "      <td>GISTEMP</td>\n",
       "      <td>1901</td>\n",
       "      <td>-0.15</td>\n",
       "      <td>6133.6154</td>\n",
       "    </tr>\n",
       "    <tr>\n",
       "      <th>2</th>\n",
       "      <td>GISTEMP</td>\n",
       "      <td>1902</td>\n",
       "      <td>-0.27</td>\n",
       "      <td>6237.6670</td>\n",
       "    </tr>\n",
       "    <tr>\n",
       "      <th>3</th>\n",
       "      <td>GISTEMP</td>\n",
       "      <td>1903</td>\n",
       "      <td>-0.35</td>\n",
       "      <td>6707.2002</td>\n",
       "    </tr>\n",
       "    <tr>\n",
       "      <th>4</th>\n",
       "      <td>GISTEMP</td>\n",
       "      <td>1904</td>\n",
       "      <td>-0.44</td>\n",
       "      <td>6783.3023</td>\n",
       "    </tr>\n",
       "    <tr>\n",
       "      <th>...</th>\n",
       "      <td>...</td>\n",
       "      <td>...</td>\n",
       "      <td>...</td>\n",
       "      <td>...</td>\n",
       "    </tr>\n",
       "    <tr>\n",
       "      <th>108</th>\n",
       "      <td>GISTEMP</td>\n",
       "      <td>2008</td>\n",
       "      <td>0.54</td>\n",
       "      <td>68084.3547</td>\n",
       "    </tr>\n",
       "    <tr>\n",
       "      <th>109</th>\n",
       "      <td>GISTEMP</td>\n",
       "      <td>2009</td>\n",
       "      <td>0.64</td>\n",
       "      <td>66709.4218</td>\n",
       "    </tr>\n",
       "    <tr>\n",
       "      <th>110</th>\n",
       "      <td>GISTEMP</td>\n",
       "      <td>2010</td>\n",
       "      <td>0.71</td>\n",
       "      <td>70057.4880</td>\n",
       "    </tr>\n",
       "    <tr>\n",
       "      <th>111</th>\n",
       "      <td>GISTEMP</td>\n",
       "      <td>2011</td>\n",
       "      <td>0.60</td>\n",
       "      <td>71844.0564</td>\n",
       "    </tr>\n",
       "    <tr>\n",
       "      <th>112</th>\n",
       "      <td>GISTEMP</td>\n",
       "      <td>2012</td>\n",
       "      <td>0.63</td>\n",
       "      <td>72709.8899</td>\n",
       "    </tr>\n",
       "  </tbody>\n",
       "</table>\n",
       "<p>113 rows × 4 columns</p>\n",
       "</div>"
      ],
      "text/plain": [
       "      Source  Year  Temperature  CO2_Emission\n",
       "0    GISTEMP  1900        -0.09     6032.3620\n",
       "1    GISTEMP  1901        -0.15     6133.6154\n",
       "2    GISTEMP  1902        -0.27     6237.6670\n",
       "3    GISTEMP  1903        -0.35     6707.2002\n",
       "4    GISTEMP  1904        -0.44     6783.3023\n",
       "..       ...   ...          ...           ...\n",
       "108  GISTEMP  2008         0.54    68084.3547\n",
       "109  GISTEMP  2009         0.64    66709.4218\n",
       "110  GISTEMP  2010         0.71    70057.4880\n",
       "111  GISTEMP  2011         0.60    71844.0564\n",
       "112  GISTEMP  2012         0.63    72709.8899\n",
       "\n",
       "[113 rows x 4 columns]"
      ]
     },
     "execution_count": 15,
     "metadata": {},
     "output_type": "execute_result"
    }
   ],
   "source": [
    "df_combine"
   ]
  },
  {
   "cell_type": "code",
   "execution_count": 28,
   "metadata": {},
   "outputs": [
    {
     "data": {
      "application/vnd.plotly.v1+json": {
       "config": {
        "plotlyServerURL": "https://plot.ly"
       },
       "data": [
        {
         "alignmentgroup": "True",
         "customdata": [
          [
           6032.362,
           -0.09
          ],
          [
           6133.615400000001,
           -0.15
          ],
          [
           6237.6669999999995,
           -0.27
          ],
          [
           6707.200199999998,
           -0.35
          ],
          [
           6783.302299999999,
           -0.44
          ],
          [
           7157.1765000000005,
           -0.28
          ],
          [
           7493.837500000001,
           -0.23
          ],
          [
           8358.335900000002,
           -0.4
          ],
          [
           8159.368200000002,
           -0.43
          ],
          [
           8389.6951,
           -0.47
          ],
          [
           8698.8906,
           -0.42
          ],
          [
           8863.625700000002,
           -0.44
          ],
          [
           9240.3954,
           -0.35
          ],
          [
           9976.527799999996,
           -0.34
          ],
          [
           8974.0831,
           -0.16
          ],
          [
           8747.3231,
           -0.11
          ],
          [
           9325.559299999999,
           -0.34
          ],
          [
           9644.476800000002,
           -0.4
          ],
          [
           9370.606899999999,
           -0.26
          ],
          [
           8113.200399999999,
           -0.22
          ],
          [
           9371.921199999999,
           -0.27
          ],
          [
           8240.8503,
           -0.21
          ],
          [
           8807.346099999999,
           -0.28
          ],
          [
           9573.4242,
           -0.24
          ],
          [
           9942.0616,
           -0.28
          ],
          [
           9984.5173,
           -0.21
          ],
          [
           9468.094500000001,
           -0.1
          ],
          [
           10745.829299999996,
           -0.21
          ],
          [
           10739.529700000001,
           -0.21
          ],
          [
           11564.888700000001,
           -0.36
          ],
          [
           10657.280499999999,
           -0.15
          ],
          [
           9558.194399999998,
           -0.09
          ],
          [
           8626.217,
           -0.17
          ],
          [
           9001.5471,
           -0.29
          ],
          [
           9769.6595,
           -0.14
          ],
          [
           10237.683400000002,
           -0.2
          ],
          [
           11107.412100000003,
           -0.15
          ],
          [
           11962.719500000001,
           -0.03
          ],
          [
           11425.8306,
           -0.03
          ],
          [
           11930.359800000004,
           -0.03
          ],
          [
           12732.360500000006,
           0.08
          ],
          [
           12920.256900000004,
           0.12
          ],
          [
           13020.344000000001,
           0.09
          ],
          [
           13323.858000000002,
           0.13
          ],
          [
           12869.886400000003,
           0.25
          ],
          [
           10085.6047,
           0.12
          ],
          [
           11465.431000000004,
           -0.04
          ],
          [
           12845.994100000002,
           -0.05
          ],
          [
           13599.711200000002,
           -0.09
          ],
          [
           13477.554100000001,
           -0.09
          ],
          [
           14884.368599999993,
           -0.18
          ],
          [
           16175.744599999998,
           -0.07
          ],
          [
           16410.391,
           0.01
          ],
          [
           16804.369800000004,
           0.08
          ],
          [
           17228.209100000004,
           -0.13
          ],
          [
           18771.5754,
           -0.15
          ],
          [
           19921.488400000006,
           -0.2
          ],
          [
           20575.224199999997,
           0.04
          ],
          [
           20980.2101,
           0.07
          ],
          [
           21873.120799999993,
           0.03
          ],
          [
           23061.1315,
           -0.02
          ],
          [
           23250.8853,
           0.05
          ],
          [
           24239.151000000005,
           0.03
          ],
          [
           25645.218200000007,
           0.06
          ],
          [
           26904.405900000005,
           -0.2
          ],
          [
           27956.604999999996,
           -0.1
          ],
          [
           29095.080899999997,
           -0.05
          ],
          [
           29813.5522,
           -0.02
          ],
          [
           31377.846299999997,
           -0.07
          ],
          [
           33323.606700000004,
           0.07
          ],
          [
           35653.3164,
           0.02
          ],
          [
           35622.32360000001,
           -0.09
          ],
          [
           37226.90940000002,
           0.01
          ],
          [
           39316.909600000006,
           0.15
          ],
          [
           39111.32069999999,
           -0.07
          ],
          [
           39012.03119999999,
           -0.02
          ],
          [
           41192.476200000005,
           -0.11
          ],
          [
           42393.016800000005,
           0.18
          ],
          [
           43751.820700000004,
           0.07
          ],
          [
           45136.987799999995,
           0.17
          ],
          [
           45050.01079999999,
           0.27
          ],
          [
           44138.421200000004,
           0.33
          ],
          [
           43536.558399999994,
           0.13
          ],
          [
           43835.63310000001,
           0.3
          ],
          [
           44980.42450000001,
           0.15
          ],
          [
           45869.58320000001,
           0.12
          ],
          [
           46599.43620000002,
           0.19
          ],
          [
           48033.3361,
           0.33
          ],
          [
           49489.3429,
           0.41
          ],
          [
           50232.050800000005,
           0.29
          ],
          [
           50004.245199999976,
           0.44
          ],
          [
           50484.3303,
           0.43
          ],
          [
           50090.676299999985,
           0.23
          ],
          [
           50201.43799999999,
           0.24
          ],
          [
           50511.7202,
           0.32
          ],
          [
           51755.2059,
           0.46
          ],
          [
           53140.1217,
           0.35
          ],
          [
           53446.42579999998,
           0.48
          ],
          [
           53664.2404,
           0.64
          ],
          [
           53871.40359999998,
           0.42
          ],
          [
           55607.71070000002,
           0.42
          ],
          [
           56247.86539999999,
           0.55
          ],
          [
           57044.83129999998,
           0.63
          ],
          [
           59559.244699999974,
           0.62
          ],
          [
           62006.66940000001,
           0.55
          ],
          [
           63939.71640000003,
           0.69
          ],
          [
           65817.82149999999,
           0.63
          ],
          [
           67792.9162,
           0.66
          ],
          [
           68084.3547,
           0.54
          ],
          [
           66709.4218,
           0.64
          ],
          [
           70057.488,
           0.71
          ],
          [
           71844.0564,
           0.6
          ],
          [
           72709.88989999998,
           0.63
          ]
         ],
         "hoverlabel": {
          "namelength": 0
         },
         "hovertemplate": "Year=%{x}<br>CO2 Emission=%{customdata[0]}<br>Temperature=%{marker.color}",
         "legendgroup": "",
         "marker": {
          "color": [
           -0.09,
           -0.15,
           -0.27,
           -0.35,
           -0.44,
           -0.28,
           -0.23,
           -0.4,
           -0.43,
           -0.47,
           -0.42,
           -0.44,
           -0.35,
           -0.34,
           -0.16,
           -0.11,
           -0.34,
           -0.4,
           -0.26,
           -0.22,
           -0.27,
           -0.21,
           -0.28,
           -0.24,
           -0.28,
           -0.21,
           -0.1,
           -0.21,
           -0.21,
           -0.36,
           -0.15,
           -0.09,
           -0.17,
           -0.29,
           -0.14,
           -0.2,
           -0.15,
           -0.03,
           -0.03,
           -0.03,
           0.08,
           0.12,
           0.09,
           0.13,
           0.25,
           0.12,
           -0.04,
           -0.05,
           -0.09,
           -0.09,
           -0.18,
           -0.07,
           0.01,
           0.08,
           -0.13,
           -0.15,
           -0.2,
           0.04,
           0.07,
           0.03,
           -0.02,
           0.05,
           0.03,
           0.06,
           -0.2,
           -0.1,
           -0.05,
           -0.02,
           -0.07,
           0.07,
           0.02,
           -0.09,
           0.01,
           0.15,
           -0.07,
           -0.02,
           -0.11,
           0.18,
           0.07,
           0.17,
           0.27,
           0.33,
           0.13,
           0.3,
           0.15,
           0.12,
           0.19,
           0.33,
           0.41,
           0.29,
           0.44,
           0.43,
           0.23,
           0.24,
           0.32,
           0.46,
           0.35,
           0.48,
           0.64,
           0.42,
           0.42,
           0.55,
           0.63,
           0.62,
           0.55,
           0.69,
           0.63,
           0.66,
           0.54,
           0.64,
           0.71,
           0.6,
           0.63
          ],
          "coloraxis": "coloraxis"
         },
         "name": "",
         "offsetgroup": "",
         "orientation": "v",
         "showlegend": false,
         "textposition": "auto",
         "type": "bar",
         "x": [
          1900,
          1901,
          1902,
          1903,
          1904,
          1905,
          1906,
          1907,
          1908,
          1909,
          1910,
          1911,
          1912,
          1913,
          1914,
          1915,
          1916,
          1917,
          1918,
          1919,
          1920,
          1921,
          1922,
          1923,
          1924,
          1925,
          1926,
          1927,
          1928,
          1929,
          1930,
          1931,
          1932,
          1933,
          1934,
          1935,
          1936,
          1937,
          1938,
          1939,
          1940,
          1941,
          1942,
          1943,
          1944,
          1945,
          1946,
          1947,
          1948,
          1949,
          1950,
          1951,
          1952,
          1953,
          1954,
          1955,
          1956,
          1957,
          1958,
          1959,
          1960,
          1961,
          1962,
          1963,
          1964,
          1965,
          1966,
          1967,
          1968,
          1969,
          1970,
          1971,
          1972,
          1973,
          1974,
          1975,
          1976,
          1977,
          1978,
          1979,
          1980,
          1981,
          1982,
          1983,
          1984,
          1985,
          1986,
          1987,
          1988,
          1989,
          1990,
          1991,
          1992,
          1993,
          1994,
          1995,
          1996,
          1997,
          1998,
          1999,
          2000,
          2001,
          2002,
          2003,
          2004,
          2005,
          2006,
          2007,
          2008,
          2009,
          2010,
          2011,
          2012
         ],
         "xaxis": "x",
         "y": [
          6032.362,
          6133.615400000001,
          6237.6669999999995,
          6707.200199999998,
          6783.302299999999,
          7157.1765000000005,
          7493.837500000001,
          8358.335900000002,
          8159.368200000002,
          8389.6951,
          8698.8906,
          8863.625700000002,
          9240.3954,
          9976.527799999996,
          8974.0831,
          8747.3231,
          9325.559299999999,
          9644.476800000002,
          9370.606899999999,
          8113.200399999999,
          9371.921199999999,
          8240.8503,
          8807.346099999999,
          9573.4242,
          9942.0616,
          9984.5173,
          9468.094500000001,
          10745.829299999996,
          10739.529700000001,
          11564.888700000001,
          10657.280499999999,
          9558.194399999998,
          8626.217,
          9001.5471,
          9769.6595,
          10237.683400000002,
          11107.412100000003,
          11962.719500000001,
          11425.8306,
          11930.359800000004,
          12732.360500000006,
          12920.256900000004,
          13020.344000000001,
          13323.858000000002,
          12869.886400000003,
          10085.6047,
          11465.431000000004,
          12845.994100000002,
          13599.711200000002,
          13477.554100000001,
          14884.368599999993,
          16175.744599999998,
          16410.391,
          16804.369800000004,
          17228.209100000004,
          18771.5754,
          19921.488400000006,
          20575.224199999997,
          20980.2101,
          21873.120799999993,
          23061.1315,
          23250.8853,
          24239.151000000005,
          25645.218200000007,
          26904.405900000005,
          27956.604999999996,
          29095.080899999997,
          29813.5522,
          31377.846299999997,
          33323.606700000004,
          35653.3164,
          35622.32360000001,
          37226.90940000002,
          39316.909600000006,
          39111.32069999999,
          39012.03119999999,
          41192.476200000005,
          42393.016800000005,
          43751.820700000004,
          45136.987799999995,
          45050.01079999999,
          44138.421200000004,
          43536.558399999994,
          43835.63310000001,
          44980.42450000001,
          45869.58320000001,
          46599.43620000002,
          48033.3361,
          49489.3429,
          50232.050800000005,
          50004.245199999976,
          50484.3303,
          50090.676299999985,
          50201.43799999999,
          50511.7202,
          51755.2059,
          53140.1217,
          53446.42579999998,
          53664.2404,
          53871.40359999998,
          55607.71070000002,
          56247.86539999999,
          57044.83129999998,
          59559.244699999974,
          62006.66940000001,
          63939.71640000003,
          65817.82149999999,
          67792.9162,
          68084.3547,
          66709.4218,
          70057.488,
          71844.0564,
          72709.88989999998
         ],
         "yaxis": "y"
        }
       ],
       "layout": {
        "barmode": "relative",
        "coloraxis": {
         "colorbar": {
          "title": {
           "text": "Temperature"
          }
         },
         "colorscale": [
          [
           0,
           "#0d0887"
          ],
          [
           0.1111111111111111,
           "#46039f"
          ],
          [
           0.2222222222222222,
           "#7201a8"
          ],
          [
           0.3333333333333333,
           "#9c179e"
          ],
          [
           0.4444444444444444,
           "#bd3786"
          ],
          [
           0.5555555555555556,
           "#d8576b"
          ],
          [
           0.6666666666666666,
           "#ed7953"
          ],
          [
           0.7777777777777778,
           "#fb9f3a"
          ],
          [
           0.8888888888888888,
           "#fdca26"
          ],
          [
           1,
           "#f0f921"
          ]
         ]
        },
        "font": {
         "family": "Times New roman",
         "size": 15
        },
        "height": 520,
        "legend": {
         "tracegroupgap": 0
        },
        "template": {
         "data": {
          "bar": [
           {
            "error_x": {
             "color": "#2a3f5f"
            },
            "error_y": {
             "color": "#2a3f5f"
            },
            "marker": {
             "line": {
              "color": "#E5ECF6",
              "width": 0.5
             }
            },
            "type": "bar"
           }
          ],
          "barpolar": [
           {
            "marker": {
             "line": {
              "color": "#E5ECF6",
              "width": 0.5
             }
            },
            "type": "barpolar"
           }
          ],
          "carpet": [
           {
            "aaxis": {
             "endlinecolor": "#2a3f5f",
             "gridcolor": "white",
             "linecolor": "white",
             "minorgridcolor": "white",
             "startlinecolor": "#2a3f5f"
            },
            "baxis": {
             "endlinecolor": "#2a3f5f",
             "gridcolor": "white",
             "linecolor": "white",
             "minorgridcolor": "white",
             "startlinecolor": "#2a3f5f"
            },
            "type": "carpet"
           }
          ],
          "choropleth": [
           {
            "colorbar": {
             "outlinewidth": 0,
             "ticks": ""
            },
            "type": "choropleth"
           }
          ],
          "contour": [
           {
            "colorbar": {
             "outlinewidth": 0,
             "ticks": ""
            },
            "colorscale": [
             [
              0,
              "#0d0887"
             ],
             [
              0.1111111111111111,
              "#46039f"
             ],
             [
              0.2222222222222222,
              "#7201a8"
             ],
             [
              0.3333333333333333,
              "#9c179e"
             ],
             [
              0.4444444444444444,
              "#bd3786"
             ],
             [
              0.5555555555555556,
              "#d8576b"
             ],
             [
              0.6666666666666666,
              "#ed7953"
             ],
             [
              0.7777777777777778,
              "#fb9f3a"
             ],
             [
              0.8888888888888888,
              "#fdca26"
             ],
             [
              1,
              "#f0f921"
             ]
            ],
            "type": "contour"
           }
          ],
          "contourcarpet": [
           {
            "colorbar": {
             "outlinewidth": 0,
             "ticks": ""
            },
            "type": "contourcarpet"
           }
          ],
          "heatmap": [
           {
            "colorbar": {
             "outlinewidth": 0,
             "ticks": ""
            },
            "colorscale": [
             [
              0,
              "#0d0887"
             ],
             [
              0.1111111111111111,
              "#46039f"
             ],
             [
              0.2222222222222222,
              "#7201a8"
             ],
             [
              0.3333333333333333,
              "#9c179e"
             ],
             [
              0.4444444444444444,
              "#bd3786"
             ],
             [
              0.5555555555555556,
              "#d8576b"
             ],
             [
              0.6666666666666666,
              "#ed7953"
             ],
             [
              0.7777777777777778,
              "#fb9f3a"
             ],
             [
              0.8888888888888888,
              "#fdca26"
             ],
             [
              1,
              "#f0f921"
             ]
            ],
            "type": "heatmap"
           }
          ],
          "heatmapgl": [
           {
            "colorbar": {
             "outlinewidth": 0,
             "ticks": ""
            },
            "colorscale": [
             [
              0,
              "#0d0887"
             ],
             [
              0.1111111111111111,
              "#46039f"
             ],
             [
              0.2222222222222222,
              "#7201a8"
             ],
             [
              0.3333333333333333,
              "#9c179e"
             ],
             [
              0.4444444444444444,
              "#bd3786"
             ],
             [
              0.5555555555555556,
              "#d8576b"
             ],
             [
              0.6666666666666666,
              "#ed7953"
             ],
             [
              0.7777777777777778,
              "#fb9f3a"
             ],
             [
              0.8888888888888888,
              "#fdca26"
             ],
             [
              1,
              "#f0f921"
             ]
            ],
            "type": "heatmapgl"
           }
          ],
          "histogram": [
           {
            "marker": {
             "colorbar": {
              "outlinewidth": 0,
              "ticks": ""
             }
            },
            "type": "histogram"
           }
          ],
          "histogram2d": [
           {
            "colorbar": {
             "outlinewidth": 0,
             "ticks": ""
            },
            "colorscale": [
             [
              0,
              "#0d0887"
             ],
             [
              0.1111111111111111,
              "#46039f"
             ],
             [
              0.2222222222222222,
              "#7201a8"
             ],
             [
              0.3333333333333333,
              "#9c179e"
             ],
             [
              0.4444444444444444,
              "#bd3786"
             ],
             [
              0.5555555555555556,
              "#d8576b"
             ],
             [
              0.6666666666666666,
              "#ed7953"
             ],
             [
              0.7777777777777778,
              "#fb9f3a"
             ],
             [
              0.8888888888888888,
              "#fdca26"
             ],
             [
              1,
              "#f0f921"
             ]
            ],
            "type": "histogram2d"
           }
          ],
          "histogram2dcontour": [
           {
            "colorbar": {
             "outlinewidth": 0,
             "ticks": ""
            },
            "colorscale": [
             [
              0,
              "#0d0887"
             ],
             [
              0.1111111111111111,
              "#46039f"
             ],
             [
              0.2222222222222222,
              "#7201a8"
             ],
             [
              0.3333333333333333,
              "#9c179e"
             ],
             [
              0.4444444444444444,
              "#bd3786"
             ],
             [
              0.5555555555555556,
              "#d8576b"
             ],
             [
              0.6666666666666666,
              "#ed7953"
             ],
             [
              0.7777777777777778,
              "#fb9f3a"
             ],
             [
              0.8888888888888888,
              "#fdca26"
             ],
             [
              1,
              "#f0f921"
             ]
            ],
            "type": "histogram2dcontour"
           }
          ],
          "mesh3d": [
           {
            "colorbar": {
             "outlinewidth": 0,
             "ticks": ""
            },
            "type": "mesh3d"
           }
          ],
          "parcoords": [
           {
            "line": {
             "colorbar": {
              "outlinewidth": 0,
              "ticks": ""
             }
            },
            "type": "parcoords"
           }
          ],
          "scatter": [
           {
            "marker": {
             "colorbar": {
              "outlinewidth": 0,
              "ticks": ""
             }
            },
            "type": "scatter"
           }
          ],
          "scatter3d": [
           {
            "line": {
             "colorbar": {
              "outlinewidth": 0,
              "ticks": ""
             }
            },
            "marker": {
             "colorbar": {
              "outlinewidth": 0,
              "ticks": ""
             }
            },
            "type": "scatter3d"
           }
          ],
          "scattercarpet": [
           {
            "marker": {
             "colorbar": {
              "outlinewidth": 0,
              "ticks": ""
             }
            },
            "type": "scattercarpet"
           }
          ],
          "scattergeo": [
           {
            "marker": {
             "colorbar": {
              "outlinewidth": 0,
              "ticks": ""
             }
            },
            "type": "scattergeo"
           }
          ],
          "scattergl": [
           {
            "marker": {
             "colorbar": {
              "outlinewidth": 0,
              "ticks": ""
             }
            },
            "type": "scattergl"
           }
          ],
          "scattermapbox": [
           {
            "marker": {
             "colorbar": {
              "outlinewidth": 0,
              "ticks": ""
             }
            },
            "type": "scattermapbox"
           }
          ],
          "scatterpolar": [
           {
            "marker": {
             "colorbar": {
              "outlinewidth": 0,
              "ticks": ""
             }
            },
            "type": "scatterpolar"
           }
          ],
          "scatterpolargl": [
           {
            "marker": {
             "colorbar": {
              "outlinewidth": 0,
              "ticks": ""
             }
            },
            "type": "scatterpolargl"
           }
          ],
          "scatterternary": [
           {
            "marker": {
             "colorbar": {
              "outlinewidth": 0,
              "ticks": ""
             }
            },
            "type": "scatterternary"
           }
          ],
          "surface": [
           {
            "colorbar": {
             "outlinewidth": 0,
             "ticks": ""
            },
            "colorscale": [
             [
              0,
              "#0d0887"
             ],
             [
              0.1111111111111111,
              "#46039f"
             ],
             [
              0.2222222222222222,
              "#7201a8"
             ],
             [
              0.3333333333333333,
              "#9c179e"
             ],
             [
              0.4444444444444444,
              "#bd3786"
             ],
             [
              0.5555555555555556,
              "#d8576b"
             ],
             [
              0.6666666666666666,
              "#ed7953"
             ],
             [
              0.7777777777777778,
              "#fb9f3a"
             ],
             [
              0.8888888888888888,
              "#fdca26"
             ],
             [
              1,
              "#f0f921"
             ]
            ],
            "type": "surface"
           }
          ],
          "table": [
           {
            "cells": {
             "fill": {
              "color": "#EBF0F8"
             },
             "line": {
              "color": "white"
             }
            },
            "header": {
             "fill": {
              "color": "#C8D4E3"
             },
             "line": {
              "color": "white"
             }
            },
            "type": "table"
           }
          ]
         },
         "layout": {
          "annotationdefaults": {
           "arrowcolor": "#2a3f5f",
           "arrowhead": 0,
           "arrowwidth": 1
          },
          "colorscale": {
           "diverging": [
            [
             0,
             "#8e0152"
            ],
            [
             0.1,
             "#c51b7d"
            ],
            [
             0.2,
             "#de77ae"
            ],
            [
             0.3,
             "#f1b6da"
            ],
            [
             0.4,
             "#fde0ef"
            ],
            [
             0.5,
             "#f7f7f7"
            ],
            [
             0.6,
             "#e6f5d0"
            ],
            [
             0.7,
             "#b8e186"
            ],
            [
             0.8,
             "#7fbc41"
            ],
            [
             0.9,
             "#4d9221"
            ],
            [
             1,
             "#276419"
            ]
           ],
           "sequential": [
            [
             0,
             "#0d0887"
            ],
            [
             0.1111111111111111,
             "#46039f"
            ],
            [
             0.2222222222222222,
             "#7201a8"
            ],
            [
             0.3333333333333333,
             "#9c179e"
            ],
            [
             0.4444444444444444,
             "#bd3786"
            ],
            [
             0.5555555555555556,
             "#d8576b"
            ],
            [
             0.6666666666666666,
             "#ed7953"
            ],
            [
             0.7777777777777778,
             "#fb9f3a"
            ],
            [
             0.8888888888888888,
             "#fdca26"
            ],
            [
             1,
             "#f0f921"
            ]
           ],
           "sequentialminus": [
            [
             0,
             "#0d0887"
            ],
            [
             0.1111111111111111,
             "#46039f"
            ],
            [
             0.2222222222222222,
             "#7201a8"
            ],
            [
             0.3333333333333333,
             "#9c179e"
            ],
            [
             0.4444444444444444,
             "#bd3786"
            ],
            [
             0.5555555555555556,
             "#d8576b"
            ],
            [
             0.6666666666666666,
             "#ed7953"
            ],
            [
             0.7777777777777778,
             "#fb9f3a"
            ],
            [
             0.8888888888888888,
             "#fdca26"
            ],
            [
             1,
             "#f0f921"
            ]
           ]
          },
          "colorway": [
           "#636efa",
           "#EF553B",
           "#00cc96",
           "#ab63fa",
           "#FFA15A",
           "#19d3f3",
           "#FF6692",
           "#B6E880",
           "#FF97FF",
           "#FECB52"
          ],
          "font": {
           "color": "#2a3f5f"
          },
          "geo": {
           "bgcolor": "white",
           "lakecolor": "white",
           "landcolor": "#E5ECF6",
           "showlakes": true,
           "showland": true,
           "subunitcolor": "white"
          },
          "hoverlabel": {
           "align": "left"
          },
          "hovermode": "closest",
          "mapbox": {
           "style": "light"
          },
          "paper_bgcolor": "white",
          "plot_bgcolor": "#E5ECF6",
          "polar": {
           "angularaxis": {
            "gridcolor": "white",
            "linecolor": "white",
            "ticks": ""
           },
           "bgcolor": "#E5ECF6",
           "radialaxis": {
            "gridcolor": "white",
            "linecolor": "white",
            "ticks": ""
           }
          },
          "scene": {
           "xaxis": {
            "backgroundcolor": "#E5ECF6",
            "gridcolor": "white",
            "gridwidth": 2,
            "linecolor": "white",
            "showbackground": true,
            "ticks": "",
            "zerolinecolor": "white"
           },
           "yaxis": {
            "backgroundcolor": "#E5ECF6",
            "gridcolor": "white",
            "gridwidth": 2,
            "linecolor": "white",
            "showbackground": true,
            "ticks": "",
            "zerolinecolor": "white"
           },
           "zaxis": {
            "backgroundcolor": "#E5ECF6",
            "gridcolor": "white",
            "gridwidth": 2,
            "linecolor": "white",
            "showbackground": true,
            "ticks": "",
            "zerolinecolor": "white"
           }
          },
          "shapedefaults": {
           "line": {
            "color": "#2a3f5f"
           }
          },
          "ternary": {
           "aaxis": {
            "gridcolor": "white",
            "linecolor": "white",
            "ticks": ""
           },
           "baxis": {
            "gridcolor": "white",
            "linecolor": "white",
            "ticks": ""
           },
           "bgcolor": "#E5ECF6",
           "caxis": {
            "gridcolor": "white",
            "linecolor": "white",
            "ticks": ""
           }
          },
          "title": {
           "x": 0.05
          },
          "xaxis": {
           "automargin": true,
           "gridcolor": "white",
           "linecolor": "white",
           "ticks": "",
           "zerolinecolor": "white",
           "zerolinewidth": 2
          },
          "yaxis": {
           "automargin": true,
           "gridcolor": "white",
           "linecolor": "white",
           "ticks": "",
           "zerolinecolor": "white",
           "zerolinewidth": 2
          }
         }
        },
        "title": {
         "font": {
          "family": "Times New Roman",
          "size": 21
         },
         "text": "<b>Global Co2 Emission & Temperature Anomaly<b>",
         "x": 0.5,
         "y": 0.87
        },
        "xaxis": {
         "anchor": "y",
         "domain": [
          0,
          0.98
         ],
         "title": {
          "text": "Year"
         }
        },
        "yaxis": {
         "anchor": "x",
         "domain": [
          0,
          1
         ],
         "title": {
          "text": "CO2 Emission"
         }
        }
       }
      },
      "text/html": [
       "<div>\n",
       "        \n",
       "        \n",
       "            <div id=\"5256deee-4aee-438f-bb83-852c1bab17df\" class=\"plotly-graph-div\" style=\"height:520px; width:100%;\"></div>\n",
       "            <script type=\"text/javascript\">\n",
       "                require([\"plotly\"], function(Plotly) {\n",
       "                    window.PLOTLYENV=window.PLOTLYENV || {};\n",
       "                    \n",
       "                if (document.getElementById(\"5256deee-4aee-438f-bb83-852c1bab17df\")) {\n",
       "                    Plotly.newPlot(\n",
       "                        '5256deee-4aee-438f-bb83-852c1bab17df',\n",
       "                        [{\"alignmentgroup\": \"True\", \"customdata\": [[6032.362, -0.09], [6133.615400000001, -0.15], [6237.6669999999995, -0.27], [6707.200199999998, -0.35], [6783.302299999999, -0.44], [7157.1765000000005, -0.28], [7493.837500000001, -0.23], [8358.335900000002, -0.4], [8159.368200000002, -0.43], [8389.6951, -0.47], [8698.8906, -0.42], [8863.625700000002, -0.44], [9240.3954, -0.35], [9976.527799999996, -0.34], [8974.0831, -0.16], [8747.3231, -0.11], [9325.559299999999, -0.34], [9644.476800000002, -0.4], [9370.606899999999, -0.26], [8113.200399999999, -0.22], [9371.921199999999, -0.27], [8240.8503, -0.21], [8807.346099999999, -0.28], [9573.4242, -0.24], [9942.0616, -0.28], [9984.5173, -0.21], [9468.094500000001, -0.1], [10745.829299999996, -0.21], [10739.529700000001, -0.21], [11564.888700000001, -0.36], [10657.280499999999, -0.15], [9558.194399999998, -0.09], [8626.217, -0.17], [9001.5471, -0.29], [9769.6595, -0.14], [10237.683400000002, -0.2], [11107.412100000003, -0.15], [11962.719500000001, -0.03], [11425.8306, -0.03], [11930.359800000004, -0.03], [12732.360500000006, 0.08], [12920.256900000004, 0.12], [13020.344000000001, 0.09], [13323.858000000002, 0.13], [12869.886400000003, 0.25], [10085.6047, 0.12], [11465.431000000004, -0.04], [12845.994100000002, -0.05], [13599.711200000002, -0.09], [13477.554100000001, -0.09], [14884.368599999993, -0.18], [16175.744599999998, -0.07], [16410.391, 0.01], [16804.369800000004, 0.08], [17228.209100000004, -0.13], [18771.5754, -0.15], [19921.488400000006, -0.2], [20575.224199999997, 0.04], [20980.2101, 0.07], [21873.120799999993, 0.03], [23061.1315, -0.02], [23250.8853, 0.05], [24239.151000000005, 0.03], [25645.218200000007, 0.06], [26904.405900000005, -0.2], [27956.604999999996, -0.1], [29095.080899999997, -0.05], [29813.5522, -0.02], [31377.846299999997, -0.07], [33323.606700000004, 0.07], [35653.3164, 0.02], [35622.32360000001, -0.09], [37226.90940000002, 0.01], [39316.909600000006, 0.15], [39111.32069999999, -0.07], [39012.03119999999, -0.02], [41192.476200000005, -0.11], [42393.016800000005, 0.18], [43751.820700000004, 0.07], [45136.987799999995, 0.17], [45050.01079999999, 0.27], [44138.421200000004, 0.33], [43536.558399999994, 0.13], [43835.63310000001, 0.3], [44980.42450000001, 0.15], [45869.58320000001, 0.12], [46599.43620000002, 0.19], [48033.3361, 0.33], [49489.3429, 0.41], [50232.050800000005, 0.29], [50004.245199999976, 0.44], [50484.3303, 0.43], [50090.676299999985, 0.23], [50201.43799999999, 0.24], [50511.7202, 0.32], [51755.2059, 0.46], [53140.1217, 0.35], [53446.42579999998, 0.48], [53664.2404, 0.64], [53871.40359999998, 0.42], [55607.71070000002, 0.42], [56247.86539999999, 0.55], [57044.83129999998, 0.63], [59559.244699999974, 0.62], [62006.66940000001, 0.55], [63939.71640000003, 0.69], [65817.82149999999, 0.63], [67792.9162, 0.66], [68084.3547, 0.54], [66709.4218, 0.64], [70057.488, 0.71], [71844.0564, 0.6], [72709.88989999998, 0.63]], \"hoverlabel\": {\"namelength\": 0}, \"hovertemplate\": \"Year=%{x}<br>CO2 Emission=%{customdata[0]}<br>Temperature=%{marker.color}\", \"legendgroup\": \"\", \"marker\": {\"color\": [-0.09, -0.15, -0.27, -0.35, -0.44, -0.28, -0.23, -0.4, -0.43, -0.47, -0.42, -0.44, -0.35, -0.34, -0.16, -0.11, -0.34, -0.4, -0.26, -0.22, -0.27, -0.21, -0.28, -0.24, -0.28, -0.21, -0.1, -0.21, -0.21, -0.36, -0.15, -0.09, -0.17, -0.29, -0.14, -0.2, -0.15, -0.03, -0.03, -0.03, 0.08, 0.12, 0.09, 0.13, 0.25, 0.12, -0.04, -0.05, -0.09, -0.09, -0.18, -0.07, 0.01, 0.08, -0.13, -0.15, -0.2, 0.04, 0.07, 0.03, -0.02, 0.05, 0.03, 0.06, -0.2, -0.1, -0.05, -0.02, -0.07, 0.07, 0.02, -0.09, 0.01, 0.15, -0.07, -0.02, -0.11, 0.18, 0.07, 0.17, 0.27, 0.33, 0.13, 0.3, 0.15, 0.12, 0.19, 0.33, 0.41, 0.29, 0.44, 0.43, 0.23, 0.24, 0.32, 0.46, 0.35, 0.48, 0.64, 0.42, 0.42, 0.55, 0.63, 0.62, 0.55, 0.69, 0.63, 0.66, 0.54, 0.64, 0.71, 0.6, 0.63], \"coloraxis\": \"coloraxis\"}, \"name\": \"\", \"offsetgroup\": \"\", \"orientation\": \"v\", \"showlegend\": false, \"textposition\": \"auto\", \"type\": \"bar\", \"x\": [1900, 1901, 1902, 1903, 1904, 1905, 1906, 1907, 1908, 1909, 1910, 1911, 1912, 1913, 1914, 1915, 1916, 1917, 1918, 1919, 1920, 1921, 1922, 1923, 1924, 1925, 1926, 1927, 1928, 1929, 1930, 1931, 1932, 1933, 1934, 1935, 1936, 1937, 1938, 1939, 1940, 1941, 1942, 1943, 1944, 1945, 1946, 1947, 1948, 1949, 1950, 1951, 1952, 1953, 1954, 1955, 1956, 1957, 1958, 1959, 1960, 1961, 1962, 1963, 1964, 1965, 1966, 1967, 1968, 1969, 1970, 1971, 1972, 1973, 1974, 1975, 1976, 1977, 1978, 1979, 1980, 1981, 1982, 1983, 1984, 1985, 1986, 1987, 1988, 1989, 1990, 1991, 1992, 1993, 1994, 1995, 1996, 1997, 1998, 1999, 2000, 2001, 2002, 2003, 2004, 2005, 2006, 2007, 2008, 2009, 2010, 2011, 2012], \"xaxis\": \"x\", \"y\": [6032.362, 6133.615400000001, 6237.6669999999995, 6707.200199999998, 6783.302299999999, 7157.1765000000005, 7493.837500000001, 8358.335900000002, 8159.368200000002, 8389.6951, 8698.8906, 8863.625700000002, 9240.3954, 9976.527799999996, 8974.0831, 8747.3231, 9325.559299999999, 9644.476800000002, 9370.606899999999, 8113.200399999999, 9371.921199999999, 8240.8503, 8807.346099999999, 9573.4242, 9942.0616, 9984.5173, 9468.094500000001, 10745.829299999996, 10739.529700000001, 11564.888700000001, 10657.280499999999, 9558.194399999998, 8626.217, 9001.5471, 9769.6595, 10237.683400000002, 11107.412100000003, 11962.719500000001, 11425.8306, 11930.359800000004, 12732.360500000006, 12920.256900000004, 13020.344000000001, 13323.858000000002, 12869.886400000003, 10085.6047, 11465.431000000004, 12845.994100000002, 13599.711200000002, 13477.554100000001, 14884.368599999993, 16175.744599999998, 16410.391, 16804.369800000004, 17228.209100000004, 18771.5754, 19921.488400000006, 20575.224199999997, 20980.2101, 21873.120799999993, 23061.1315, 23250.8853, 24239.151000000005, 25645.218200000007, 26904.405900000005, 27956.604999999996, 29095.080899999997, 29813.5522, 31377.846299999997, 33323.606700000004, 35653.3164, 35622.32360000001, 37226.90940000002, 39316.909600000006, 39111.32069999999, 39012.03119999999, 41192.476200000005, 42393.016800000005, 43751.820700000004, 45136.987799999995, 45050.01079999999, 44138.421200000004, 43536.558399999994, 43835.63310000001, 44980.42450000001, 45869.58320000001, 46599.43620000002, 48033.3361, 49489.3429, 50232.050800000005, 50004.245199999976, 50484.3303, 50090.676299999985, 50201.43799999999, 50511.7202, 51755.2059, 53140.1217, 53446.42579999998, 53664.2404, 53871.40359999998, 55607.71070000002, 56247.86539999999, 57044.83129999998, 59559.244699999974, 62006.66940000001, 63939.71640000003, 65817.82149999999, 67792.9162, 68084.3547, 66709.4218, 70057.488, 71844.0564, 72709.88989999998], \"yaxis\": \"y\"}],\n",
       "                        {\"barmode\": \"relative\", \"coloraxis\": {\"colorbar\": {\"title\": {\"text\": \"Temperature\"}}, \"colorscale\": [[0.0, \"#0d0887\"], [0.1111111111111111, \"#46039f\"], [0.2222222222222222, \"#7201a8\"], [0.3333333333333333, \"#9c179e\"], [0.4444444444444444, \"#bd3786\"], [0.5555555555555556, \"#d8576b\"], [0.6666666666666666, \"#ed7953\"], [0.7777777777777778, \"#fb9f3a\"], [0.8888888888888888, \"#fdca26\"], [1.0, \"#f0f921\"]]}, \"font\": {\"family\": \"Times New roman\", \"size\": 15}, \"height\": 520, \"legend\": {\"tracegroupgap\": 0}, \"template\": {\"data\": {\"bar\": [{\"error_x\": {\"color\": \"#2a3f5f\"}, \"error_y\": {\"color\": \"#2a3f5f\"}, \"marker\": {\"line\": {\"color\": \"#E5ECF6\", \"width\": 0.5}}, \"type\": \"bar\"}], \"barpolar\": [{\"marker\": {\"line\": {\"color\": \"#E5ECF6\", \"width\": 0.5}}, \"type\": \"barpolar\"}], \"carpet\": [{\"aaxis\": {\"endlinecolor\": \"#2a3f5f\", \"gridcolor\": \"white\", \"linecolor\": \"white\", \"minorgridcolor\": \"white\", \"startlinecolor\": \"#2a3f5f\"}, \"baxis\": {\"endlinecolor\": \"#2a3f5f\", \"gridcolor\": \"white\", \"linecolor\": \"white\", \"minorgridcolor\": \"white\", \"startlinecolor\": \"#2a3f5f\"}, \"type\": \"carpet\"}], \"choropleth\": [{\"colorbar\": {\"outlinewidth\": 0, \"ticks\": \"\"}, \"type\": \"choropleth\"}], \"contour\": [{\"colorbar\": {\"outlinewidth\": 0, \"ticks\": \"\"}, \"colorscale\": [[0.0, \"#0d0887\"], [0.1111111111111111, \"#46039f\"], [0.2222222222222222, \"#7201a8\"], [0.3333333333333333, \"#9c179e\"], [0.4444444444444444, \"#bd3786\"], [0.5555555555555556, \"#d8576b\"], [0.6666666666666666, \"#ed7953\"], [0.7777777777777778, \"#fb9f3a\"], [0.8888888888888888, \"#fdca26\"], [1.0, \"#f0f921\"]], \"type\": \"contour\"}], \"contourcarpet\": [{\"colorbar\": {\"outlinewidth\": 0, \"ticks\": \"\"}, \"type\": \"contourcarpet\"}], \"heatmap\": [{\"colorbar\": {\"outlinewidth\": 0, \"ticks\": \"\"}, \"colorscale\": [[0.0, \"#0d0887\"], [0.1111111111111111, \"#46039f\"], [0.2222222222222222, \"#7201a8\"], [0.3333333333333333, \"#9c179e\"], [0.4444444444444444, \"#bd3786\"], [0.5555555555555556, \"#d8576b\"], [0.6666666666666666, \"#ed7953\"], [0.7777777777777778, \"#fb9f3a\"], [0.8888888888888888, \"#fdca26\"], [1.0, \"#f0f921\"]], \"type\": \"heatmap\"}], \"heatmapgl\": [{\"colorbar\": {\"outlinewidth\": 0, \"ticks\": \"\"}, \"colorscale\": [[0.0, \"#0d0887\"], [0.1111111111111111, \"#46039f\"], [0.2222222222222222, \"#7201a8\"], [0.3333333333333333, \"#9c179e\"], [0.4444444444444444, \"#bd3786\"], [0.5555555555555556, \"#d8576b\"], [0.6666666666666666, \"#ed7953\"], [0.7777777777777778, \"#fb9f3a\"], [0.8888888888888888, \"#fdca26\"], [1.0, \"#f0f921\"]], \"type\": \"heatmapgl\"}], \"histogram\": [{\"marker\": {\"colorbar\": {\"outlinewidth\": 0, \"ticks\": \"\"}}, \"type\": \"histogram\"}], \"histogram2d\": [{\"colorbar\": {\"outlinewidth\": 0, \"ticks\": \"\"}, \"colorscale\": [[0.0, \"#0d0887\"], [0.1111111111111111, \"#46039f\"], [0.2222222222222222, \"#7201a8\"], [0.3333333333333333, \"#9c179e\"], [0.4444444444444444, \"#bd3786\"], [0.5555555555555556, \"#d8576b\"], [0.6666666666666666, \"#ed7953\"], [0.7777777777777778, \"#fb9f3a\"], [0.8888888888888888, \"#fdca26\"], [1.0, \"#f0f921\"]], \"type\": \"histogram2d\"}], \"histogram2dcontour\": [{\"colorbar\": {\"outlinewidth\": 0, \"ticks\": \"\"}, \"colorscale\": [[0.0, \"#0d0887\"], [0.1111111111111111, \"#46039f\"], [0.2222222222222222, \"#7201a8\"], [0.3333333333333333, \"#9c179e\"], [0.4444444444444444, \"#bd3786\"], [0.5555555555555556, \"#d8576b\"], [0.6666666666666666, \"#ed7953\"], [0.7777777777777778, \"#fb9f3a\"], [0.8888888888888888, \"#fdca26\"], [1.0, \"#f0f921\"]], \"type\": \"histogram2dcontour\"}], \"mesh3d\": [{\"colorbar\": {\"outlinewidth\": 0, \"ticks\": \"\"}, \"type\": \"mesh3d\"}], \"parcoords\": [{\"line\": {\"colorbar\": {\"outlinewidth\": 0, \"ticks\": \"\"}}, \"type\": \"parcoords\"}], \"scatter\": [{\"marker\": {\"colorbar\": {\"outlinewidth\": 0, \"ticks\": \"\"}}, \"type\": \"scatter\"}], \"scatter3d\": [{\"line\": {\"colorbar\": {\"outlinewidth\": 0, \"ticks\": \"\"}}, \"marker\": {\"colorbar\": {\"outlinewidth\": 0, \"ticks\": \"\"}}, \"type\": \"scatter3d\"}], \"scattercarpet\": [{\"marker\": {\"colorbar\": {\"outlinewidth\": 0, \"ticks\": \"\"}}, \"type\": \"scattercarpet\"}], \"scattergeo\": [{\"marker\": {\"colorbar\": {\"outlinewidth\": 0, \"ticks\": \"\"}}, \"type\": \"scattergeo\"}], \"scattergl\": [{\"marker\": {\"colorbar\": {\"outlinewidth\": 0, \"ticks\": \"\"}}, \"type\": \"scattergl\"}], \"scattermapbox\": [{\"marker\": {\"colorbar\": {\"outlinewidth\": 0, \"ticks\": \"\"}}, \"type\": \"scattermapbox\"}], \"scatterpolar\": [{\"marker\": {\"colorbar\": {\"outlinewidth\": 0, \"ticks\": \"\"}}, \"type\": \"scatterpolar\"}], \"scatterpolargl\": [{\"marker\": {\"colorbar\": {\"outlinewidth\": 0, \"ticks\": \"\"}}, \"type\": \"scatterpolargl\"}], \"scatterternary\": [{\"marker\": {\"colorbar\": {\"outlinewidth\": 0, \"ticks\": \"\"}}, \"type\": \"scatterternary\"}], \"surface\": [{\"colorbar\": {\"outlinewidth\": 0, \"ticks\": \"\"}, \"colorscale\": [[0.0, \"#0d0887\"], [0.1111111111111111, \"#46039f\"], [0.2222222222222222, \"#7201a8\"], [0.3333333333333333, \"#9c179e\"], [0.4444444444444444, \"#bd3786\"], [0.5555555555555556, \"#d8576b\"], [0.6666666666666666, \"#ed7953\"], [0.7777777777777778, \"#fb9f3a\"], [0.8888888888888888, \"#fdca26\"], [1.0, \"#f0f921\"]], \"type\": \"surface\"}], \"table\": [{\"cells\": {\"fill\": {\"color\": \"#EBF0F8\"}, \"line\": {\"color\": \"white\"}}, \"header\": {\"fill\": {\"color\": \"#C8D4E3\"}, \"line\": {\"color\": \"white\"}}, \"type\": \"table\"}]}, \"layout\": {\"annotationdefaults\": {\"arrowcolor\": \"#2a3f5f\", \"arrowhead\": 0, \"arrowwidth\": 1}, \"colorscale\": {\"diverging\": [[0, \"#8e0152\"], [0.1, \"#c51b7d\"], [0.2, \"#de77ae\"], [0.3, \"#f1b6da\"], [0.4, \"#fde0ef\"], [0.5, \"#f7f7f7\"], [0.6, \"#e6f5d0\"], [0.7, \"#b8e186\"], [0.8, \"#7fbc41\"], [0.9, \"#4d9221\"], [1, \"#276419\"]], \"sequential\": [[0.0, \"#0d0887\"], [0.1111111111111111, \"#46039f\"], [0.2222222222222222, \"#7201a8\"], [0.3333333333333333, \"#9c179e\"], [0.4444444444444444, \"#bd3786\"], [0.5555555555555556, \"#d8576b\"], [0.6666666666666666, \"#ed7953\"], [0.7777777777777778, \"#fb9f3a\"], [0.8888888888888888, \"#fdca26\"], [1.0, \"#f0f921\"]], \"sequentialminus\": [[0.0, \"#0d0887\"], [0.1111111111111111, \"#46039f\"], [0.2222222222222222, \"#7201a8\"], [0.3333333333333333, \"#9c179e\"], [0.4444444444444444, \"#bd3786\"], [0.5555555555555556, \"#d8576b\"], [0.6666666666666666, \"#ed7953\"], [0.7777777777777778, \"#fb9f3a\"], [0.8888888888888888, \"#fdca26\"], [1.0, \"#f0f921\"]]}, \"colorway\": [\"#636efa\", \"#EF553B\", \"#00cc96\", \"#ab63fa\", \"#FFA15A\", \"#19d3f3\", \"#FF6692\", \"#B6E880\", \"#FF97FF\", \"#FECB52\"], \"font\": {\"color\": \"#2a3f5f\"}, \"geo\": {\"bgcolor\": \"white\", \"lakecolor\": \"white\", \"landcolor\": \"#E5ECF6\", \"showlakes\": true, \"showland\": true, \"subunitcolor\": \"white\"}, \"hoverlabel\": {\"align\": \"left\"}, \"hovermode\": \"closest\", \"mapbox\": {\"style\": \"light\"}, \"paper_bgcolor\": \"white\", \"plot_bgcolor\": \"#E5ECF6\", \"polar\": {\"angularaxis\": {\"gridcolor\": \"white\", \"linecolor\": \"white\", \"ticks\": \"\"}, \"bgcolor\": \"#E5ECF6\", \"radialaxis\": {\"gridcolor\": \"white\", \"linecolor\": \"white\", \"ticks\": \"\"}}, \"scene\": {\"xaxis\": {\"backgroundcolor\": \"#E5ECF6\", \"gridcolor\": \"white\", \"gridwidth\": 2, \"linecolor\": \"white\", \"showbackground\": true, \"ticks\": \"\", \"zerolinecolor\": \"white\"}, \"yaxis\": {\"backgroundcolor\": \"#E5ECF6\", \"gridcolor\": \"white\", \"gridwidth\": 2, \"linecolor\": \"white\", \"showbackground\": true, \"ticks\": \"\", \"zerolinecolor\": \"white\"}, \"zaxis\": {\"backgroundcolor\": \"#E5ECF6\", \"gridcolor\": \"white\", \"gridwidth\": 2, \"linecolor\": \"white\", \"showbackground\": true, \"ticks\": \"\", \"zerolinecolor\": \"white\"}}, \"shapedefaults\": {\"line\": {\"color\": \"#2a3f5f\"}}, \"ternary\": {\"aaxis\": {\"gridcolor\": \"white\", \"linecolor\": \"white\", \"ticks\": \"\"}, \"baxis\": {\"gridcolor\": \"white\", \"linecolor\": \"white\", \"ticks\": \"\"}, \"bgcolor\": \"#E5ECF6\", \"caxis\": {\"gridcolor\": \"white\", \"linecolor\": \"white\", \"ticks\": \"\"}}, \"title\": {\"x\": 0.05}, \"xaxis\": {\"automargin\": true, \"gridcolor\": \"white\", \"linecolor\": \"white\", \"ticks\": \"\", \"zerolinecolor\": \"white\", \"zerolinewidth\": 2}, \"yaxis\": {\"automargin\": true, \"gridcolor\": \"white\", \"linecolor\": \"white\", \"ticks\": \"\", \"zerolinecolor\": \"white\", \"zerolinewidth\": 2}}}, \"title\": {\"font\": {\"family\": \"Times New Roman\", \"size\": 21}, \"text\": \"<b>Global Co2 Emission & Temperature Anomaly<b>\", \"x\": 0.5, \"y\": 0.87}, \"xaxis\": {\"anchor\": \"y\", \"domain\": [0.0, 0.98], \"title\": {\"text\": \"Year\"}}, \"yaxis\": {\"anchor\": \"x\", \"domain\": [0.0, 1.0], \"title\": {\"text\": \"CO2 Emission\"}}},\n",
       "                        {\"responsive\": true}\n",
       "                    ).then(function(){\n",
       "                            \n",
       "var gd = document.getElementById('5256deee-4aee-438f-bb83-852c1bab17df');\n",
       "var x = new MutationObserver(function (mutations, observer) {{\n",
       "        var display = window.getComputedStyle(gd).display;\n",
       "        if (!display || display === 'none') {{\n",
       "            console.log([gd, 'removed!']);\n",
       "            Plotly.purge(gd);\n",
       "            observer.disconnect();\n",
       "        }}\n",
       "}});\n",
       "\n",
       "// Listen for the removal of the full notebook cells\n",
       "var notebookContainer = gd.closest('#notebook-container');\n",
       "if (notebookContainer) {{\n",
       "    x.observe(notebookContainer, {childList: true});\n",
       "}}\n",
       "\n",
       "// Listen for the clearing of the current output cell\n",
       "var outputEl = gd.closest('.output');\n",
       "if (outputEl) {{\n",
       "    x.observe(outputEl, {childList: true});\n",
       "}}\n",
       "\n",
       "                        })\n",
       "                };\n",
       "                });\n",
       "            </script>\n",
       "        </div>"
      ]
     },
     "metadata": {},
     "output_type": "display_data"
    }
   ],
   "source": [
    "fig = px.bar(df_combine, x='Year', y='CO2_Emission',\n",
    "hover_data=['CO2_Emission', 'Temperature'], color='Temperature',\n",
    "title= '<b>Global Co2 Emission & Temperature Anomaly<b>', \n",
    "labels={'CO2_Emission':'CO2 Emission'}, height=520)\n",
    "\n",
    "fig.update_layout(\n",
    "font = dict(\n",
    "    family = \"Times New roman\",\n",
    "    size = 15),\n",
    "title_font_family = \"Times New Roman\",\n",
    "title_font_size = 21,\n",
    "title_x = 0.5,\n",
    "title_y = 0.87\n",
    ")\n",
    "\n",
    "fig.show()\n"
   ]
  },
  {
   "cell_type": "code",
   "execution_count": null,
   "metadata": {},
   "outputs": [],
   "source": []
  }
 ],
 "metadata": {
  "kernelspec": {
   "display_name": "Python 3",
   "language": "python",
   "name": "python3"
  },
  "language_info": {
   "codemirror_mode": {
    "name": "ipython",
    "version": 3
   },
   "file_extension": ".py",
   "mimetype": "text/x-python",
   "name": "python",
   "nbconvert_exporter": "python",
   "pygments_lexer": "ipython3",
   "version": "3.8.3"
  }
 },
 "nbformat": 4,
 "nbformat_minor": 4
}
