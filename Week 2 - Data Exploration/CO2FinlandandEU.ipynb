{
 "cells": [
  {
   "cell_type": "code",
   "execution_count": 7,
   "metadata": {},
   "outputs": [],
   "source": [
    "import plotly\n",
    "import plotly.express as ex\n",
    "import plotly.graph_objs as go\n",
    "import pandas as pd\n",
    "import numpy as np           \n",
    "from scipy.io import netcdf  \n",
    "import pandas as pd # data processing, CSV file I/O (e.g. pd.read_csv)\n",
    "import numpy as np # linear algebra\n",
    "import matplotlib \n",
    "import matplotlib.pyplot as plt\n",
    "import sklearn\n",
    "%matplotlib inline"
   ]
  },
  {
   "cell_type": "code",
   "execution_count": 14,
   "metadata": {},
   "outputs": [
    {
     "name": "stdout",
     "output_type": "stream",
     "text": [
      "Collecting chart_studio\n",
      "  Downloading chart_studio-1.1.0-py3-none-any.whl (64 kB)\n",
      "\u001b[K     |██████████████████████████████▌ | 61 kB 2.6 MB/s eta 0:00:011     |████████████████████████████████| 64 kB 1.7 MB/s \n",
      "\u001b[?25hRequirement already satisfied: plotly in /srv/conda/envs/notebook/lib/python3.7/site-packages (from chart_studio) (4.12.0)\n",
      "Requirement already satisfied: six in /srv/conda/envs/notebook/lib/python3.7/site-packages (from chart_studio) (1.15.0)\n",
      "Requirement already satisfied: requests in /srv/conda/envs/notebook/lib/python3.7/site-packages (from chart_studio) (2.24.0)\n",
      "Requirement already satisfied: retrying>=1.3.3 in /srv/conda/envs/notebook/lib/python3.7/site-packages (from chart_studio) (1.3.3)\n",
      "Requirement already satisfied: urllib3!=1.25.0,!=1.25.1,<1.26,>=1.21.1 in /srv/conda/envs/notebook/lib/python3.7/site-packages (from requests->chart_studio) (1.25.10)\n",
      "Requirement already satisfied: certifi>=2017.4.17 in /srv/conda/envs/notebook/lib/python3.7/site-packages (from requests->chart_studio) (2020.6.20)\n",
      "Requirement already satisfied: idna<3,>=2.5 in /srv/conda/envs/notebook/lib/python3.7/site-packages (from requests->chart_studio) (2.10)\n",
      "Requirement already satisfied: chardet<4,>=3.0.2 in /srv/conda/envs/notebook/lib/python3.7/site-packages (from requests->chart_studio) (3.0.4)\n",
      "Installing collected packages: chart-studio\n",
      "Successfully installed chart-studio-1.1.0\n",
      "Note: you may need to restart the kernel to use updated packages.\n"
     ]
    }
   ],
   "source": [
    "pip install chart_studio"
   ]
  },
  {
   "cell_type": "code",
   "execution_count": 9,
   "metadata": {},
   "outputs": [],
   "source": [
    "import plotly"
   ]
  },
  {
   "cell_type": "code",
   "execution_count": 10,
   "metadata": {},
   "outputs": [],
   "source": [
    "df = pd.read_csv(\"gases.csv\")"
   ]
  },
  {
   "cell_type": "code",
   "execution_count": 11,
   "metadata": {},
   "outputs": [
    {
     "data": {
      "text/html": [
       "<div>\n",
       "<style scoped>\n",
       "    .dataframe tbody tr th:only-of-type {\n",
       "        vertical-align: middle;\n",
       "    }\n",
       "\n",
       "    .dataframe tbody tr th {\n",
       "        vertical-align: top;\n",
       "    }\n",
       "\n",
       "    .dataframe thead th {\n",
       "        text-align: right;\n",
       "    }\n",
       "</style>\n",
       "<table border=\"1\" class=\"dataframe\">\n",
       "  <thead>\n",
       "    <tr style=\"text-align: right;\">\n",
       "      <th></th>\n",
       "      <th>country_or_area</th>\n",
       "      <th>year</th>\n",
       "      <th>value</th>\n",
       "      <th>category</th>\n",
       "    </tr>\n",
       "  </thead>\n",
       "  <tbody>\n",
       "    <tr>\n",
       "      <th>0</th>\n",
       "      <td>Australia</td>\n",
       "      <td>2014</td>\n",
       "      <td>393126.946994</td>\n",
       "      <td>carbon_dioxide_co2_emissions_without_land_use_...</td>\n",
       "    </tr>\n",
       "    <tr>\n",
       "      <th>1</th>\n",
       "      <td>Australia</td>\n",
       "      <td>2013</td>\n",
       "      <td>396913.936530</td>\n",
       "      <td>carbon_dioxide_co2_emissions_without_land_use_...</td>\n",
       "    </tr>\n",
       "    <tr>\n",
       "      <th>2</th>\n",
       "      <td>Australia</td>\n",
       "      <td>2012</td>\n",
       "      <td>406462.847704</td>\n",
       "      <td>carbon_dioxide_co2_emissions_without_land_use_...</td>\n",
       "    </tr>\n",
       "    <tr>\n",
       "      <th>3</th>\n",
       "      <td>Australia</td>\n",
       "      <td>2011</td>\n",
       "      <td>403705.528314</td>\n",
       "      <td>carbon_dioxide_co2_emissions_without_land_use_...</td>\n",
       "    </tr>\n",
       "    <tr>\n",
       "      <th>4</th>\n",
       "      <td>Australia</td>\n",
       "      <td>2010</td>\n",
       "      <td>406200.993184</td>\n",
       "      <td>carbon_dioxide_co2_emissions_without_land_use_...</td>\n",
       "    </tr>\n",
       "  </tbody>\n",
       "</table>\n",
       "</div>"
      ],
      "text/plain": [
       "  country_or_area  year          value  \\\n",
       "0       Australia  2014  393126.946994   \n",
       "1       Australia  2013  396913.936530   \n",
       "2       Australia  2012  406462.847704   \n",
       "3       Australia  2011  403705.528314   \n",
       "4       Australia  2010  406200.993184   \n",
       "\n",
       "                                            category  \n",
       "0  carbon_dioxide_co2_emissions_without_land_use_...  \n",
       "1  carbon_dioxide_co2_emissions_without_land_use_...  \n",
       "2  carbon_dioxide_co2_emissions_without_land_use_...  \n",
       "3  carbon_dioxide_co2_emissions_without_land_use_...  \n",
       "4  carbon_dioxide_co2_emissions_without_land_use_...  "
      ]
     },
     "execution_count": 11,
     "metadata": {},
     "output_type": "execute_result"
    }
   ],
   "source": [
    "df.head()"
   ]
  },
  {
   "cell_type": "code",
   "execution_count": 12,
   "metadata": {},
   "outputs": [
    {
     "data": {
      "text/html": [
       "<div>\n",
       "<style scoped>\n",
       "    .dataframe tbody tr th:only-of-type {\n",
       "        vertical-align: middle;\n",
       "    }\n",
       "\n",
       "    .dataframe tbody tr th {\n",
       "        vertical-align: top;\n",
       "    }\n",
       "\n",
       "    .dataframe thead th {\n",
       "        text-align: right;\n",
       "    }\n",
       "</style>\n",
       "<table border=\"1\" class=\"dataframe\">\n",
       "  <thead>\n",
       "    <tr style=\"text-align: right;\">\n",
       "      <th></th>\n",
       "      <th>category</th>\n",
       "      <th>carbon_dioxide_co2_emissions_without_land_use_land_use_change_and_forestry_lulucf_in_kilotonne_co2_equivalent</th>\n",
       "      <th>greenhouse_gas_ghgs_emissions_including_indirect_co2_without_lulucf_in_kilotonne_co2_equivalent</th>\n",
       "      <th>greenhouse_gas_ghgs_emissions_without_land_use_land_use_change_and_forestry_lulucf_in_kilotonne_co2_equivalent</th>\n",
       "      <th>hydrofluorocarbons_hfcs_emissions_in_kilotonne_co2_equivalent</th>\n",
       "      <th>methane_ch4_emissions_without_land_use_land_use_change_and_forestry_lulucf_in_kilotonne_co2_equivalent</th>\n",
       "      <th>nitrogen_trifluoride_nf3_emissions_in_kilotonne_co2_equivalent</th>\n",
       "      <th>nitrous_oxide_n2o_emissions_without_land_use_land_use_change_and_forestry_lulucf_in_kilotonne_co2_equivalent</th>\n",
       "      <th>perfluorocarbons_pfcs_emissions_in_kilotonne_co2_equivalent</th>\n",
       "      <th>sulphur_hexafluoride_sf6_emissions_in_kilotonne_co2_equivalent</th>\n",
       "      <th>unspecified_mix_of_hydrofluorocarbons_hfcs_and_perfluorocarbons_pfcs_emissions_in_kilotonne_co2_equivalent</th>\n",
       "    </tr>\n",
       "    <tr>\n",
       "      <th>country_or_area</th>\n",
       "      <th>year</th>\n",
       "      <th></th>\n",
       "      <th></th>\n",
       "      <th></th>\n",
       "      <th></th>\n",
       "      <th></th>\n",
       "      <th></th>\n",
       "      <th></th>\n",
       "      <th></th>\n",
       "      <th></th>\n",
       "      <th></th>\n",
       "    </tr>\n",
       "  </thead>\n",
       "  <tbody>\n",
       "    <tr>\n",
       "      <th rowspan=\"5\" valign=\"top\">Australia</th>\n",
       "      <th>1990</th>\n",
       "      <td>278265.898941</td>\n",
       "      <td>418623.049563</td>\n",
       "      <td>418623.049563</td>\n",
       "      <td>1424.683520</td>\n",
       "      <td>118768.837813</td>\n",
       "      <td>NaN</td>\n",
       "      <td>15345.597858</td>\n",
       "      <td>4607.012919</td>\n",
       "      <td>211.018511</td>\n",
       "      <td>NaN</td>\n",
       "    </tr>\n",
       "    <tr>\n",
       "      <th>1991</th>\n",
       "      <td>279741.639012</td>\n",
       "      <td>418674.057494</td>\n",
       "      <td>418674.057494</td>\n",
       "      <td>1424.683520</td>\n",
       "      <td>117744.641814</td>\n",
       "      <td>NaN</td>\n",
       "      <td>14923.405021</td>\n",
       "      <td>4610.743294</td>\n",
       "      <td>228.944834</td>\n",
       "      <td>NaN</td>\n",
       "    </tr>\n",
       "    <tr>\n",
       "      <th>1992</th>\n",
       "      <td>284766.092718</td>\n",
       "      <td>423080.108191</td>\n",
       "      <td>423080.108191</td>\n",
       "      <td>1333.184000</td>\n",
       "      <td>116837.506726</td>\n",
       "      <td>NaN</td>\n",
       "      <td>15293.183355</td>\n",
       "      <td>4603.282544</td>\n",
       "      <td>246.858849</td>\n",
       "      <td>NaN</td>\n",
       "    </tr>\n",
       "    <tr>\n",
       "      <th>1993</th>\n",
       "      <td>289142.267681</td>\n",
       "      <td>423764.932564</td>\n",
       "      <td>423764.932564</td>\n",
       "      <td>1829.872000</td>\n",
       "      <td>113837.511923</td>\n",
       "      <td>NaN</td>\n",
       "      <td>15374.993428</td>\n",
       "      <td>3315.528376</td>\n",
       "      <td>264.759156</td>\n",
       "      <td>NaN</td>\n",
       "    </tr>\n",
       "    <tr>\n",
       "      <th>1994</th>\n",
       "      <td>293830.709141</td>\n",
       "      <td>424092.959373</td>\n",
       "      <td>424092.959373</td>\n",
       "      <td>1027.343549</td>\n",
       "      <td>110997.410185</td>\n",
       "      <td>NaN</td>\n",
       "      <td>15790.426852</td>\n",
       "      <td>2164.428749</td>\n",
       "      <td>282.640896</td>\n",
       "      <td>NaN</td>\n",
       "    </tr>\n",
       "  </tbody>\n",
       "</table>\n",
       "</div>"
      ],
      "text/plain": [
       "category              carbon_dioxide_co2_emissions_without_land_use_land_use_change_and_forestry_lulucf_in_kilotonne_co2_equivalent  \\\n",
       "country_or_area year                                                                                                                  \n",
       "Australia       1990                                      278265.898941                                                               \n",
       "                1991                                      279741.639012                                                               \n",
       "                1992                                      284766.092718                                                               \n",
       "                1993                                      289142.267681                                                               \n",
       "                1994                                      293830.709141                                                               \n",
       "\n",
       "category              greenhouse_gas_ghgs_emissions_including_indirect_co2_without_lulucf_in_kilotonne_co2_equivalent  \\\n",
       "country_or_area year                                                                                                    \n",
       "Australia       1990                                      418623.049563                                                 \n",
       "                1991                                      418674.057494                                                 \n",
       "                1992                                      423080.108191                                                 \n",
       "                1993                                      423764.932564                                                 \n",
       "                1994                                      424092.959373                                                 \n",
       "\n",
       "category              greenhouse_gas_ghgs_emissions_without_land_use_land_use_change_and_forestry_lulucf_in_kilotonne_co2_equivalent  \\\n",
       "country_or_area year                                                                                                                   \n",
       "Australia       1990                                      418623.049563                                                                \n",
       "                1991                                      418674.057494                                                                \n",
       "                1992                                      423080.108191                                                                \n",
       "                1993                                      423764.932564                                                                \n",
       "                1994                                      424092.959373                                                                \n",
       "\n",
       "category              hydrofluorocarbons_hfcs_emissions_in_kilotonne_co2_equivalent  \\\n",
       "country_or_area year                                                                  \n",
       "Australia       1990                                        1424.683520               \n",
       "                1991                                        1424.683520               \n",
       "                1992                                        1333.184000               \n",
       "                1993                                        1829.872000               \n",
       "                1994                                        1027.343549               \n",
       "\n",
       "category              methane_ch4_emissions_without_land_use_land_use_change_and_forestry_lulucf_in_kilotonne_co2_equivalent  \\\n",
       "country_or_area year                                                                                                           \n",
       "Australia       1990                                      118768.837813                                                        \n",
       "                1991                                      117744.641814                                                        \n",
       "                1992                                      116837.506726                                                        \n",
       "                1993                                      113837.511923                                                        \n",
       "                1994                                      110997.410185                                                        \n",
       "\n",
       "category              nitrogen_trifluoride_nf3_emissions_in_kilotonne_co2_equivalent  \\\n",
       "country_or_area year                                                                   \n",
       "Australia       1990                                                NaN                \n",
       "                1991                                                NaN                \n",
       "                1992                                                NaN                \n",
       "                1993                                                NaN                \n",
       "                1994                                                NaN                \n",
       "\n",
       "category              nitrous_oxide_n2o_emissions_without_land_use_land_use_change_and_forestry_lulucf_in_kilotonne_co2_equivalent  \\\n",
       "country_or_area year                                                                                                                 \n",
       "Australia       1990                                       15345.597858                                                              \n",
       "                1991                                       14923.405021                                                              \n",
       "                1992                                       15293.183355                                                              \n",
       "                1993                                       15374.993428                                                              \n",
       "                1994                                       15790.426852                                                              \n",
       "\n",
       "category              perfluorocarbons_pfcs_emissions_in_kilotonne_co2_equivalent  \\\n",
       "country_or_area year                                                                \n",
       "Australia       1990                                        4607.012919             \n",
       "                1991                                        4610.743294             \n",
       "                1992                                        4603.282544             \n",
       "                1993                                        3315.528376             \n",
       "                1994                                        2164.428749             \n",
       "\n",
       "category              sulphur_hexafluoride_sf6_emissions_in_kilotonne_co2_equivalent  \\\n",
       "country_or_area year                                                                   \n",
       "Australia       1990                                         211.018511                \n",
       "                1991                                         228.944834                \n",
       "                1992                                         246.858849                \n",
       "                1993                                         264.759156                \n",
       "                1994                                         282.640896                \n",
       "\n",
       "category              unspecified_mix_of_hydrofluorocarbons_hfcs_and_perfluorocarbons_pfcs_emissions_in_kilotonne_co2_equivalent  \n",
       "country_or_area year                                                                                                              \n",
       "Australia       1990                                                NaN                                                           \n",
       "                1991                                                NaN                                                           \n",
       "                1992                                                NaN                                                           \n",
       "                1993                                                NaN                                                           \n",
       "                1994                                                NaN                                                           "
      ]
     },
     "execution_count": 12,
     "metadata": {},
     "output_type": "execute_result"
    }
   ],
   "source": [
    "graph = pd.pivot_table(df, values='value', index=['country_or_area', 'year'], columns=['category'])\n",
    "graph.head()"
   ]
  },
  {
   "cell_type": "code",
   "execution_count": 36,
   "metadata": {},
   "outputs": [],
   "source": [
    "finland_df = df[df.country_or_area == 'Finland'][['year','category', 'value']]\n",
    "\n",
    "eu_df = df[df.country_or_area == 'European Union'][['year', 'category', 'value']]"
   ]
  },
  {
   "cell_type": "code",
   "execution_count": 33,
   "metadata": {},
   "outputs": [
    {
     "data": {
      "text/html": [
       "<div>\n",
       "<style scoped>\n",
       "    .dataframe tbody tr th:only-of-type {\n",
       "        vertical-align: middle;\n",
       "    }\n",
       "\n",
       "    .dataframe tbody tr th {\n",
       "        vertical-align: top;\n",
       "    }\n",
       "\n",
       "    .dataframe thead th {\n",
       "        text-align: right;\n",
       "    }\n",
       "</style>\n",
       "<table border=\"1\" class=\"dataframe\">\n",
       "  <thead>\n",
       "    <tr style=\"text-align: right;\">\n",
       "      <th></th>\n",
       "      <th>year</th>\n",
       "      <th>category</th>\n",
       "      <th>value</th>\n",
       "    </tr>\n",
       "  </thead>\n",
       "  <tbody>\n",
       "    <tr>\n",
       "      <th>300</th>\n",
       "      <td>2014</td>\n",
       "      <td>carbon_dioxide_co2_emissions_without_land_use_...</td>\n",
       "      <td>47597.733527</td>\n",
       "    </tr>\n",
       "    <tr>\n",
       "      <th>301</th>\n",
       "      <td>2013</td>\n",
       "      <td>carbon_dioxide_co2_emissions_without_land_use_...</td>\n",
       "      <td>51834.696738</td>\n",
       "    </tr>\n",
       "    <tr>\n",
       "      <th>302</th>\n",
       "      <td>2012</td>\n",
       "      <td>carbon_dioxide_co2_emissions_without_land_use_...</td>\n",
       "      <td>50983.272875</td>\n",
       "    </tr>\n",
       "    <tr>\n",
       "      <th>303</th>\n",
       "      <td>2011</td>\n",
       "      <td>carbon_dioxide_co2_emissions_without_land_use_...</td>\n",
       "      <td>56478.745589</td>\n",
       "    </tr>\n",
       "    <tr>\n",
       "      <th>304</th>\n",
       "      <td>2010</td>\n",
       "      <td>carbon_dioxide_co2_emissions_without_land_use_...</td>\n",
       "      <td>63828.018228</td>\n",
       "    </tr>\n",
       "  </tbody>\n",
       "</table>\n",
       "</div>"
      ],
      "text/plain": [
       "     year                                           category         value\n",
       "300  2014  carbon_dioxide_co2_emissions_without_land_use_...  47597.733527\n",
       "301  2013  carbon_dioxide_co2_emissions_without_land_use_...  51834.696738\n",
       "302  2012  carbon_dioxide_co2_emissions_without_land_use_...  50983.272875\n",
       "303  2011  carbon_dioxide_co2_emissions_without_land_use_...  56478.745589\n",
       "304  2010  carbon_dioxide_co2_emissions_without_land_use_...  63828.018228"
      ]
     },
     "execution_count": 33,
     "metadata": {},
     "output_type": "execute_result"
    }
   ],
   "source": [
    "finland_df.head()"
   ]
  },
  {
   "cell_type": "code",
   "execution_count": 37,
   "metadata": {},
   "outputs": [
    {
     "data": {
      "text/html": [
       "<div>\n",
       "<style scoped>\n",
       "    .dataframe tbody tr th:only-of-type {\n",
       "        vertical-align: middle;\n",
       "    }\n",
       "\n",
       "    .dataframe tbody tr th {\n",
       "        vertical-align: top;\n",
       "    }\n",
       "\n",
       "    .dataframe thead th {\n",
       "        text-align: right;\n",
       "    }\n",
       "</style>\n",
       "<table border=\"1\" class=\"dataframe\">\n",
       "  <thead>\n",
       "    <tr style=\"text-align: right;\">\n",
       "      <th></th>\n",
       "      <th>year</th>\n",
       "      <th>category</th>\n",
       "      <th>value</th>\n",
       "    </tr>\n",
       "  </thead>\n",
       "  <tbody>\n",
       "    <tr>\n",
       "      <th>275</th>\n",
       "      <td>2014</td>\n",
       "      <td>carbon_dioxide_co2_emissions_without_land_use_...</td>\n",
       "      <td>3.463398e+06</td>\n",
       "    </tr>\n",
       "    <tr>\n",
       "      <th>276</th>\n",
       "      <td>2013</td>\n",
       "      <td>carbon_dioxide_co2_emissions_without_land_use_...</td>\n",
       "      <td>3.646390e+06</td>\n",
       "    </tr>\n",
       "    <tr>\n",
       "      <th>277</th>\n",
       "      <td>2012</td>\n",
       "      <td>carbon_dioxide_co2_emissions_without_land_use_...</td>\n",
       "      <td>3.728965e+06</td>\n",
       "    </tr>\n",
       "    <tr>\n",
       "      <th>278</th>\n",
       "      <td>2011</td>\n",
       "      <td>carbon_dioxide_co2_emissions_without_land_use_...</td>\n",
       "      <td>3.789764e+06</td>\n",
       "    </tr>\n",
       "    <tr>\n",
       "      <th>279</th>\n",
       "      <td>2010</td>\n",
       "      <td>carbon_dioxide_co2_emissions_without_land_use_...</td>\n",
       "      <td>3.933291e+06</td>\n",
       "    </tr>\n",
       "  </tbody>\n",
       "</table>\n",
       "</div>"
      ],
      "text/plain": [
       "     year                                           category         value\n",
       "275  2014  carbon_dioxide_co2_emissions_without_land_use_...  3.463398e+06\n",
       "276  2013  carbon_dioxide_co2_emissions_without_land_use_...  3.646390e+06\n",
       "277  2012  carbon_dioxide_co2_emissions_without_land_use_...  3.728965e+06\n",
       "278  2011  carbon_dioxide_co2_emissions_without_land_use_...  3.789764e+06\n",
       "279  2010  carbon_dioxide_co2_emissions_without_land_use_...  3.933291e+06"
      ]
     },
     "execution_count": 37,
     "metadata": {},
     "output_type": "execute_result"
    }
   ],
   "source": [
    "eu_df.head()"
   ]
  },
  {
   "cell_type": "code",
   "execution_count": 41,
   "metadata": {},
   "outputs": [
    {
     "data": {
      "application/vnd.plotly.v1+json": {
       "config": {
        "plotlyServerURL": "https://plot.ly"
       },
       "data": [
        {
         "line": {
          "color": "rgb(203, 67, 53)"
         },
         "name": "CO2 emissions",
         "opacity": 0.8,
         "type": "scatter",
         "x": [
          [
           2014,
           "carbon_dioxide_co2_emissions_without_land_use_land_use_change_and_forestry_lulucf_in_kilotonne_co2_equivalent",
           47597.7335272535
          ],
          [
           2013,
           "carbon_dioxide_co2_emissions_without_land_use_land_use_change_and_forestry_lulucf_in_kilotonne_co2_equivalent",
           51834.6967381541
          ],
          [
           2012,
           "carbon_dioxide_co2_emissions_without_land_use_land_use_change_and_forestry_lulucf_in_kilotonne_co2_equivalent",
           50983.2728750769
          ],
          [
           2011,
           "carbon_dioxide_co2_emissions_without_land_use_land_use_change_and_forestry_lulucf_in_kilotonne_co2_equivalent",
           56478.745588696394
          ],
          [
           2010,
           "carbon_dioxide_co2_emissions_without_land_use_land_use_change_and_forestry_lulucf_in_kilotonne_co2_equivalent",
           63828.0182275297
          ],
          [
           2009,
           "carbon_dioxide_co2_emissions_without_land_use_land_use_change_and_forestry_lulucf_in_kilotonne_co2_equivalent",
           55635.582769013796
          ],
          [
           2008,
           "carbon_dioxide_co2_emissions_without_land_use_land_use_change_and_forestry_lulucf_in_kilotonne_co2_equivalent",
           58461.6330236854
          ],
          [
           2007,
           "carbon_dioxide_co2_emissions_without_land_use_land_use_change_and_forestry_lulucf_in_kilotonne_co2_equivalent",
           66531.7208142561
          ],
          [
           2006,
           "carbon_dioxide_co2_emissions_without_land_use_land_use_change_and_forestry_lulucf_in_kilotonne_co2_equivalent",
           68201.9059970754
          ],
          [
           2005,
           "carbon_dioxide_co2_emissions_without_land_use_land_use_change_and_forestry_lulucf_in_kilotonne_co2_equivalent",
           56912.31489298231
          ],
          [
           2004,
           "carbon_dioxide_co2_emissions_without_land_use_land_use_change_and_forestry_lulucf_in_kilotonne_co2_equivalent",
           68821.8128908428
          ],
          [
           2003,
           "carbon_dioxide_co2_emissions_without_land_use_land_use_change_and_forestry_lulucf_in_kilotonne_co2_equivalent",
           72522.5901920366
          ],
          [
           2002,
           "carbon_dioxide_co2_emissions_without_land_use_land_use_change_and_forestry_lulucf_in_kilotonne_co2_equivalent",
           64946.46820599151
          ],
          [
           2001,
           "carbon_dioxide_co2_emissions_without_land_use_land_use_change_and_forestry_lulucf_in_kilotonne_co2_equivalent",
           62442.6400686017
          ],
          [
           2000,
           "carbon_dioxide_co2_emissions_without_land_use_land_use_change_and_forestry_lulucf_in_kilotonne_co2_equivalent",
           56973.350527342904
          ],
          [
           1999,
           "carbon_dioxide_co2_emissions_without_land_use_land_use_change_and_forestry_lulucf_in_kilotonne_co2_equivalent",
           58872.9308028447
          ],
          [
           1998,
           "carbon_dioxide_co2_emissions_without_land_use_land_use_change_and_forestry_lulucf_in_kilotonne_co2_equivalent",
           59351.4981462986
          ],
          [
           1997,
           "carbon_dioxide_co2_emissions_without_land_use_land_use_change_and_forestry_lulucf_in_kilotonne_co2_equivalent",
           62698.0867925088
          ],
          [
           1996,
           "carbon_dioxide_co2_emissions_without_land_use_land_use_change_and_forestry_lulucf_in_kilotonne_co2_equivalent",
           64038.9222021128
          ],
          [
           1995,
           "carbon_dioxide_co2_emissions_without_land_use_land_use_change_and_forestry_lulucf_in_kilotonne_co2_equivalent",
           58126.247543132995
          ],
          [
           1994,
           "carbon_dioxide_co2_emissions_without_land_use_land_use_change_and_forestry_lulucf_in_kilotonne_co2_equivalent",
           61696.3853292446
          ],
          [
           1993,
           "carbon_dioxide_co2_emissions_without_land_use_land_use_change_and_forestry_lulucf_in_kilotonne_co2_equivalent",
           56333.26799423
          ],
          [
           1992,
           "carbon_dioxide_co2_emissions_without_land_use_land_use_change_and_forestry_lulucf_in_kilotonne_co2_equivalent",
           54264.3793101323
          ],
          [
           1991,
           "carbon_dioxide_co2_emissions_without_land_use_land_use_change_and_forestry_lulucf_in_kilotonne_co2_equivalent",
           55187.1794528947
          ],
          [
           1990,
           "carbon_dioxide_co2_emissions_without_land_use_land_use_change_and_forestry_lulucf_in_kilotonne_co2_equivalent",
           56950.84818202019
          ],
          [
           2014,
           "greenhouse_gas_ghgs_emissions_including_indirect_co2_without_lulucf_in_kilotonne_co2_equivalent",
           59105.0771867268
          ],
          [
           2013,
           "greenhouse_gas_ghgs_emissions_including_indirect_co2_without_lulucf_in_kilotonne_co2_equivalent",
           63276.8885138436
          ],
          [
           2012,
           "greenhouse_gas_ghgs_emissions_including_indirect_co2_without_lulucf_in_kilotonne_co2_equivalent",
           62403.7480573425
          ],
          [
           2011,
           "greenhouse_gas_ghgs_emissions_including_indirect_co2_without_lulucf_in_kilotonne_co2_equivalent",
           68033.9654261421
          ],
          [
           2010,
           "greenhouse_gas_ghgs_emissions_including_indirect_co2_without_lulucf_in_kilotonne_co2_equivalent",
           75930.9702322258
          ],
          [
           2009,
           "greenhouse_gas_ghgs_emissions_including_indirect_co2_without_lulucf_in_kilotonne_co2_equivalent",
           67670.2911623919
          ],
          [
           2008,
           "greenhouse_gas_ghgs_emissions_including_indirect_co2_without_lulucf_in_kilotonne_co2_equivalent",
           71324.5754374347
          ],
          [
           2007,
           "greenhouse_gas_ghgs_emissions_including_indirect_co2_without_lulucf_in_kilotonne_co2_equivalent",
           79212.739202928
          ],
          [
           2006,
           "greenhouse_gas_ghgs_emissions_including_indirect_co2_without_lulucf_in_kilotonne_co2_equivalent",
           80739.06851817759
          ],
          [
           2005,
           "greenhouse_gas_ghgs_emissions_including_indirect_co2_without_lulucf_in_kilotonne_co2_equivalent",
           69548.8578469739
          ],
          [
           2004,
           "greenhouse_gas_ghgs_emissions_including_indirect_co2_without_lulucf_in_kilotonne_co2_equivalent",
           81433.97219130759
          ],
          [
           2003,
           "greenhouse_gas_ghgs_emissions_including_indirect_co2_without_lulucf_in_kilotonne_co2_equivalent",
           85219.2986612438
          ],
          [
           2002,
           "greenhouse_gas_ghgs_emissions_including_indirect_co2_without_lulucf_in_kilotonne_co2_equivalent",
           77740.96020796741
          ],
          [
           2001,
           "greenhouse_gas_ghgs_emissions_including_indirect_co2_without_lulucf_in_kilotonne_co2_equivalent",
           75324.0562236299
          ],
          [
           2000,
           "greenhouse_gas_ghgs_emissions_including_indirect_co2_without_lulucf_in_kilotonne_co2_equivalent",
           70009.50458996299
          ],
          [
           1999,
           "greenhouse_gas_ghgs_emissions_including_indirect_co2_without_lulucf_in_kilotonne_co2_equivalent",
           71916.2671877857
          ],
          [
           1998,
           "greenhouse_gas_ghgs_emissions_including_indirect_co2_without_lulucf_in_kilotonne_co2_equivalent",
           72547.80106975509
          ],
          [
           1997,
           "greenhouse_gas_ghgs_emissions_including_indirect_co2_without_lulucf_in_kilotonne_co2_equivalent",
           76216.9343799597
          ],
          [
           1996,
           "greenhouse_gas_ghgs_emissions_including_indirect_co2_without_lulucf_in_kilotonne_co2_equivalent",
           77635.8988543123
          ],
          [
           1995,
           "greenhouse_gas_ghgs_emissions_including_indirect_co2_without_lulucf_in_kilotonne_co2_equivalent",
           71848.4217814197
          ],
          [
           1994,
           "greenhouse_gas_ghgs_emissions_including_indirect_co2_without_lulucf_in_kilotonne_co2_equivalent",
           75401.5416216613
          ],
          [
           1993,
           "greenhouse_gas_ghgs_emissions_including_indirect_co2_without_lulucf_in_kilotonne_co2_equivalent",
           69898.9316762607
          ],
          [
           1992,
           "greenhouse_gas_ghgs_emissions_including_indirect_co2_without_lulucf_in_kilotonne_co2_equivalent",
           67657.2551627947
          ],
          [
           1991,
           "greenhouse_gas_ghgs_emissions_including_indirect_co2_without_lulucf_in_kilotonne_co2_equivalent",
           69069.9524625108
          ],
          [
           1990,
           "greenhouse_gas_ghgs_emissions_including_indirect_co2_without_lulucf_in_kilotonne_co2_equivalent",
           71338.5623970918
          ],
          [
           2014,
           "greenhouse_gas_ghgs_emissions_without_land_use_land_use_change_and_forestry_lulucf_in_kilotonne_co2_equivalent",
           59028.9870736425
          ],
          [
           2013,
           "greenhouse_gas_ghgs_emissions_without_land_use_land_use_change_and_forestry_lulucf_in_kilotonne_co2_equivalent",
           63196.6016281563
          ],
          [
           2012,
           "greenhouse_gas_ghgs_emissions_without_land_use_land_use_change_and_forestry_lulucf_in_kilotonne_co2_equivalent",
           62320.6350025736
          ],
          [
           2011,
           "greenhouse_gas_ghgs_emissions_without_land_use_land_use_change_and_forestry_lulucf_in_kilotonne_co2_equivalent",
           67947.0752353953
          ],
          [
           2010,
           "greenhouse_gas_ghgs_emissions_without_land_use_land_use_change_and_forestry_lulucf_in_kilotonne_co2_equivalent",
           75835.02042471571
          ],
          [
           2009,
           "greenhouse_gas_ghgs_emissions_without_land_use_land_use_change_and_forestry_lulucf_in_kilotonne_co2_equivalent",
           67575.29720161611
          ],
          [
           2008,
           "greenhouse_gas_ghgs_emissions_without_land_use_land_use_change_and_forestry_lulucf_in_kilotonne_co2_equivalent",
           71219.4402188768
          ],
          [
           2007,
           "greenhouse_gas_ghgs_emissions_without_land_use_land_use_change_and_forestry_lulucf_in_kilotonne_co2_equivalent",
           79096.3253832404
          ],
          [
           2006,
           "greenhouse_gas_ghgs_emissions_without_land_use_land_use_change_and_forestry_lulucf_in_kilotonne_co2_equivalent",
           80616.21920221
          ],
          [
           2005,
           "greenhouse_gas_ghgs_emissions_without_land_use_land_use_change_and_forestry_lulucf_in_kilotonne_co2_equivalent",
           69426.5733995718
          ],
          [
           2004,
           "greenhouse_gas_ghgs_emissions_without_land_use_land_use_change_and_forestry_lulucf_in_kilotonne_co2_equivalent",
           81300.6190152811
          ],
          [
           2003,
           "greenhouse_gas_ghgs_emissions_without_land_use_land_use_change_and_forestry_lulucf_in_kilotonne_co2_equivalent",
           85082.5791584517
          ],
          [
           2002,
           "greenhouse_gas_ghgs_emissions_without_land_use_land_use_change_and_forestry_lulucf_in_kilotonne_co2_equivalent",
           77600.20469346941
          ],
          [
           2001,
           "greenhouse_gas_ghgs_emissions_without_land_use_land_use_change_and_forestry_lulucf_in_kilotonne_co2_equivalent",
           75171.3885800538
          ],
          [
           2000,
           "greenhouse_gas_ghgs_emissions_without_land_use_land_use_change_and_forestry_lulucf_in_kilotonne_co2_equivalent",
           69855.01064532429
          ],
          [
           1999,
           "greenhouse_gas_ghgs_emissions_without_land_use_land_use_change_and_forestry_lulucf_in_kilotonne_co2_equivalent",
           71755.398003318
          ],
          [
           1998,
           "greenhouse_gas_ghgs_emissions_without_land_use_land_use_change_and_forestry_lulucf_in_kilotonne_co2_equivalent",
           72378.9825031932
          ],
          [
           1997,
           "greenhouse_gas_ghgs_emissions_without_land_use_land_use_change_and_forestry_lulucf_in_kilotonne_co2_equivalent",
           76038.3268859278
          ],
          [
           1996,
           "greenhouse_gas_ghgs_emissions_without_land_use_land_use_change_and_forestry_lulucf_in_kilotonne_co2_equivalent",
           77446.12727040281
          ],
          [
           1995,
           "greenhouse_gas_ghgs_emissions_without_land_use_land_use_change_and_forestry_lulucf_in_kilotonne_co2_equivalent",
           71644.301372275
          ],
          [
           1994,
           "greenhouse_gas_ghgs_emissions_without_land_use_land_use_change_and_forestry_lulucf_in_kilotonne_co2_equivalent",
           75186.22054528231
          ],
          [
           1993,
           "greenhouse_gas_ghgs_emissions_without_land_use_land_use_change_and_forestry_lulucf_in_kilotonne_co2_equivalent",
           69675.9495168867
          ],
          [
           1992,
           "greenhouse_gas_ghgs_emissions_without_land_use_land_use_change_and_forestry_lulucf_in_kilotonne_co2_equivalent",
           67421.2277150837
          ],
          [
           1991,
           "greenhouse_gas_ghgs_emissions_without_land_use_land_use_change_and_forestry_lulucf_in_kilotonne_co2_equivalent",
           68823.8503769894
          ],
          [
           1990,
           "greenhouse_gas_ghgs_emissions_without_land_use_land_use_change_and_forestry_lulucf_in_kilotonne_co2_equivalent",
           71076.99553431981
          ],
          [
           2014,
           "hydrofluorocarbons_hfcs_emissions_in_kilotonne_co2_equivalent",
           1743.2789877172102
          ],
          [
           2013,
           "hydrofluorocarbons_hfcs_emissions_in_kilotonne_co2_equivalent",
           1612.49060382639
          ],
          [
           2012,
           "hydrofluorocarbons_hfcs_emissions_in_kilotonne_co2_equivalent",
           1517.24760807946
          ],
          [
           2011,
           "hydrofluorocarbons_hfcs_emissions_in_kilotonne_co2_equivalent",
           1587.89581113814
          ],
          [
           2010,
           "hydrofluorocarbons_hfcs_emissions_in_kilotonne_co2_equivalent",
           1820.34465424587
          ],
          [
           2009,
           "hydrofluorocarbons_hfcs_emissions_in_kilotonne_co2_equivalent",
           1425.5620974960998
          ],
          [
           2008,
           "hydrofluorocarbons_hfcs_emissions_in_kilotonne_co2_equivalent",
           1338.7891627285198
          ],
          [
           2007,
           "hydrofluorocarbons_hfcs_emissions_in_kilotonne_co2_equivalent",
           1149.94356980483
          ],
          [
           2006,
           "hydrofluorocarbons_hfcs_emissions_in_kilotonne_co2_equivalent",
           910.5522551728751
          ],
          [
           2005,
           "hydrofluorocarbons_hfcs_emissions_in_kilotonne_co2_equivalent",
           895.4224777880639
          ],
          [
           2004,
           "hydrofluorocarbons_hfcs_emissions_in_kilotonne_co2_equivalent",
           688.64946146022
          ],
          [
           2003,
           "hydrofluorocarbons_hfcs_emissions_in_kilotonne_co2_equivalent",
           635.744609730428
          ],
          [
           2002,
           "hydrofluorocarbons_hfcs_emissions_in_kilotonne_co2_equivalent",
           634.0249759806591
          ],
          [
           2001,
           "hydrofluorocarbons_hfcs_emissions_in_kilotonne_co2_equivalent",
           592.117170735794
          ],
          [
           2000,
           "hydrofluorocarbons_hfcs_emissions_in_kilotonne_co2_equivalent",
           559.31846514369
          ],
          [
           1999,
           "hydrofluorocarbons_hfcs_emissions_in_kilotonne_co2_equivalent",
           330.627569534521
          ],
          [
           1998,
           "hydrofluorocarbons_hfcs_emissions_in_kilotonne_co2_equivalent",
           247.07648750263198
          ],
          [
           1997,
           "hydrofluorocarbons_hfcs_emissions_in_kilotonne_co2_equivalent",
           149.487601978443
          ],
          [
           1996,
           "hydrofluorocarbons_hfcs_emissions_in_kilotonne_co2_equivalent",
           74.188748278584
          ],
          [
           1995,
           "hydrofluorocarbons_hfcs_emissions_in_kilotonne_co2_equivalent",
           26.902252736683998
          ],
          [
           1994,
           "hydrofluorocarbons_hfcs_emissions_in_kilotonne_co2_equivalent",
           5.344578130212
          ],
          [
           1993,
           "hydrofluorocarbons_hfcs_emissions_in_kilotonne_co2_equivalent",
           0.19054196965599998
          ],
          [
           1992,
           "hydrofluorocarbons_hfcs_emissions_in_kilotonne_co2_equivalent",
           0.040504529712
          ],
          [
           1991,
           "hydrofluorocarbons_hfcs_emissions_in_kilotonne_co2_equivalent",
           0.03195116838
          ],
          [
           1990,
           "hydrofluorocarbons_hfcs_emissions_in_kilotonne_co2_equivalent",
           0.024024986
          ],
          [
           2014,
           "methane_ch4_emissions_without_land_use_land_use_change_and_forestry_lulucf_in_kilotonne_co2_equivalent",
           5016.974759271239
          ],
          [
           2013,
           "methane_ch4_emissions_without_land_use_land_use_change_and_forestry_lulucf_in_kilotonne_co2_equivalent",
           5122.63476634708
          ],
          [
           2012,
           "methane_ch4_emissions_without_land_use_land_use_change_and_forestry_lulucf_in_kilotonne_co2_equivalent",
           5264.8760815570295
          ],
          [
           2011,
           "methane_ch4_emissions_without_land_use_land_use_change_and_forestry_lulucf_in_kilotonne_co2_equivalent",
           5306.52535118825
          ],
          [
           2010,
           "methane_ch4_emissions_without_land_use_land_use_change_and_forestry_lulucf_in_kilotonne_co2_equivalent",
           5487.22228155129
          ],
          [
           2009,
           "methane_ch4_emissions_without_land_use_land_use_change_and_forestry_lulucf_in_kilotonne_co2_equivalent",
           5404.95544159765
          ],
          [
           2008,
           "methane_ch4_emissions_without_land_use_land_use_change_and_forestry_lulucf_in_kilotonne_co2_equivalent",
           5460.81837555993
          ],
          [
           2007,
           "methane_ch4_emissions_without_land_use_land_use_change_and_forestry_lulucf_in_kilotonne_co2_equivalent",
           5591.48730557558
          ],
          [
           2006,
           "methane_ch4_emissions_without_land_use_land_use_change_and_forestry_lulucf_in_kilotonne_co2_equivalent",
           5731.23824153894
          ],
          [
           2005,
           "methane_ch4_emissions_without_land_use_land_use_change_and_forestry_lulucf_in_kilotonne_co2_equivalent",
           5659.29231113621
          ],
          [
           2004,
           "methane_ch4_emissions_without_land_use_land_use_change_and_forestry_lulucf_in_kilotonne_co2_equivalent",
           5907.357864861109
          ],
          [
           2003,
           "methane_ch4_emissions_without_land_use_land_use_change_and_forestry_lulucf_in_kilotonne_co2_equivalent",
           6092.653114519279
          ],
          [
           2002,
           "methane_ch4_emissions_without_land_use_land_use_change_and_forestry_lulucf_in_kilotonne_co2_equivalent",
           6301.453498145811
          ],
          [
           2001,
           "methane_ch4_emissions_without_land_use_land_use_change_and_forestry_lulucf_in_kilotonne_co2_equivalent",
           6519.0265386705705
          ],
          [
           2000,
           "methane_ch4_emissions_without_land_use_land_use_change_and_forestry_lulucf_in_kilotonne_co2_equivalent",
           6661.09848014005
          ],
          [
           1999,
           "methane_ch4_emissions_without_land_use_land_use_change_and_forestry_lulucf_in_kilotonne_co2_equivalent",
           6911.88870684184
          ],
          [
           1998,
           "methane_ch4_emissions_without_land_use_land_use_change_and_forestry_lulucf_in_kilotonne_co2_equivalent",
           7062.38153640282
          ],
          [
           1997,
           "methane_ch4_emissions_without_land_use_land_use_change_and_forestry_lulucf_in_kilotonne_co2_equivalent",
           7308.33510699067
          ],
          [
           1996,
           "methane_ch4_emissions_without_land_use_land_use_change_and_forestry_lulucf_in_kilotonne_co2_equivalent",
           7392.08120336162
          ],
          [
           1995,
           "methane_ch4_emissions_without_land_use_land_use_change_and_forestry_lulucf_in_kilotonne_co2_equivalent",
           7469.55919015096
          ],
          [
           1994,
           "methane_ch4_emissions_without_land_use_land_use_change_and_forestry_lulucf_in_kilotonne_co2_equivalent",
           7674.10373712289
          ],
          [
           1993,
           "methane_ch4_emissions_without_land_use_land_use_change_and_forestry_lulucf_in_kilotonne_co2_equivalent",
           7707.9832414101
          ],
          [
           1992,
           "methane_ch4_emissions_without_land_use_land_use_change_and_forestry_lulucf_in_kilotonne_co2_equivalent",
           7669.45024354611
          ],
          [
           1991,
           "methane_ch4_emissions_without_land_use_land_use_change_and_forestry_lulucf_in_kilotonne_co2_equivalent",
           7714.302362410259
          ],
          [
           1990,
           "methane_ch4_emissions_without_land_use_land_use_change_and_forestry_lulucf_in_kilotonne_co2_equivalent",
           7744.716488145649
          ],
          [
           2014,
           "nitrous_oxide_n2o_emissions_without_land_use_land_use_change_and_forestry_lulucf_in_kilotonne_co2_equivalent",
           4626.44529423974
          ],
          [
           2013,
           "nitrous_oxide_n2o_emissions_without_land_use_land_use_change_and_forestry_lulucf_in_kilotonne_co2_equivalent",
           4589.41603649606
          ],
          [
           2012,
           "nitrous_oxide_n2o_emissions_without_land_use_land_use_change_and_forestry_lulucf_in_kilotonne_co2_equivalent",
           4527.42472097089
          ],
          [
           2011,
           "nitrous_oxide_n2o_emissions_without_land_use_land_use_change_and_forestry_lulucf_in_kilotonne_co2_equivalent",
           4547.93466904221
          ],
          [
           2010,
           "nitrous_oxide_n2o_emissions_without_land_use_land_use_change_and_forestry_lulucf_in_kilotonne_co2_equivalent",
           4676.58281741075
          ],
          [
           2009,
           "nitrous_oxide_n2o_emissions_without_land_use_land_use_change_and_forestry_lulucf_in_kilotonne_co2_equivalent",
           5070.90249707673
          ],
          [
           2008,
           "nitrous_oxide_n2o_emissions_without_land_use_land_use_change_and_forestry_lulucf_in_kilotonne_co2_equivalent",
           5917.6058746115
          ],
          [
           2007,
           "nitrous_oxide_n2o_emissions_without_land_use_land_use_change_and_forestry_lulucf_in_kilotonne_co2_equivalent",
           5793.79319374182
          ],
          [
           2006,
           "nitrous_oxide_n2o_emissions_without_land_use_land_use_change_and_forestry_lulucf_in_kilotonne_co2_equivalent",
           5725.750867327671
          ],
          [
           2005,
           "nitrous_oxide_n2o_emissions_without_land_use_land_use_change_and_forestry_lulucf_in_kilotonne_co2_equivalent",
           5921.3804785276
          ],
          [
           2004,
           "nitrous_oxide_n2o_emissions_without_land_use_land_use_change_and_forestry_lulucf_in_kilotonne_co2_equivalent",
           5844.56970927116
          ],
          [
           2003,
           "nitrous_oxide_n2o_emissions_without_land_use_land_use_change_and_forestry_lulucf_in_kilotonne_co2_equivalent",
           5787.699006248579
          ],
          [
           2002,
           "nitrous_oxide_n2o_emissions_without_land_use_land_use_change_and_forestry_lulucf_in_kilotonne_co2_equivalent",
           5676.418352843941
          ],
          [
           2001,
           "nitrous_oxide_n2o_emissions_without_land_use_land_use_change_and_forestry_lulucf_in_kilotonne_co2_equivalent",
           5569.394004287779
          ],
          [
           2000,
           "nitrous_oxide_n2o_emissions_without_land_use_land_use_change_and_forestry_lulucf_in_kilotonne_co2_equivalent",
           5621.95734522058
          ],
          [
           1999,
           "nitrous_oxide_n2o_emissions_without_land_use_land_use_change_and_forestry_lulucf_in_kilotonne_co2_equivalent",
           5573.50049147288
          ],
          [
           1998,
           "nitrous_oxide_n2o_emissions_without_land_use_land_use_change_and_forestry_lulucf_in_kilotonne_co2_equivalent",
           5678.76837027459
          ],
          [
           1997,
           "nitrous_oxide_n2o_emissions_without_land_use_land_use_change_and_forestry_lulucf_in_kilotonne_co2_equivalent",
           5831.75844753035
          ],
          [
           1996,
           "nitrous_oxide_n2o_emissions_without_land_use_land_use_change_and_forestry_lulucf_in_kilotonne_co2_equivalent",
           5886.29683034134
          ],
          [
           1995,
           "nitrous_oxide_n2o_emissions_without_land_use_land_use_change_and_forestry_lulucf_in_kilotonne_co2_equivalent",
           5984.195755668511
          ],
          [
           1994,
           "nitrous_oxide_n2o_emissions_without_land_use_land_use_change_and_forestry_lulucf_in_kilotonne_co2_equivalent",
           5786.16374762057
          ],
          [
           1993,
           "nitrous_oxide_n2o_emissions_without_land_use_land_use_change_and_forestry_lulucf_in_kilotonne_co2_equivalent",
           5614.44591958677
          ],
          [
           1992,
           "nitrous_oxide_n2o_emissions_without_land_use_land_use_change_and_forestry_lulucf_in_kilotonne_co2_equivalent",
           5461.41289768856
          ],
          [
           1991,
           "nitrous_oxide_n2o_emissions_without_land_use_land_use_change_and_forestry_lulucf_in_kilotonne_co2_equivalent",
           5881.936750306079
          ],
          [
           1990,
           "nitrous_oxide_n2o_emissions_without_land_use_land_use_change_and_forestry_lulucf_in_kilotonne_co2_equivalent",
           6328.71648460905
          ],
          [
           2014,
           "perfluorocarbons_pfcs_emissions_in_kilotonne_co2_equivalent",
           10.303868640736999
          ],
          [
           2013,
           "perfluorocarbons_pfcs_emissions_in_kilotonne_co2_equivalent",
           6.66307129273
          ],
          [
           2012,
           "perfluorocarbons_pfcs_emissions_in_kilotonne_co2_equivalent",
           5.65778724924
          ],
          [
           2011,
           "perfluorocarbons_pfcs_emissions_in_kilotonne_co2_equivalent",
           2.29971034165
          ],
          [
           2010,
           "perfluorocarbons_pfcs_emissions_in_kilotonne_co2_equivalent",
           1.060941
          ],
          [
           2009,
           "perfluorocarbons_pfcs_emissions_in_kilotonne_co2_equivalent",
           11.583874447780001
          ],
          [
           2008,
           "perfluorocarbons_pfcs_emissions_in_kilotonne_co2_equivalent",
           13.934893891920002
          ],
          [
           2007,
           "perfluorocarbons_pfcs_emissions_in_kilotonne_co2_equivalent",
           10.20663632902
          ],
          [
           2006,
           "perfluorocarbons_pfcs_emissions_in_kilotonne_co2_equivalent",
           19.2075921
          ],
          [
           2005,
           "perfluorocarbons_pfcs_emissions_in_kilotonne_co2_equivalent",
           15.9741532
          ],
          [
           2004,
           "perfluorocarbons_pfcs_emissions_in_kilotonne_co2_equivalent",
           14.3909954
          ],
          [
           2003,
           "perfluorocarbons_pfcs_emissions_in_kilotonne_co2_equivalent",
           18.32408905674
          ],
          [
           2002,
           "perfluorocarbons_pfcs_emissions_in_kilotonne_co2_equivalent",
           16.50458664744
          ],
          [
           2001,
           "perfluorocarbons_pfcs_emissions_in_kilotonne_co2_equivalent",
           22.6845372266
          ],
          [
           2000,
           "perfluorocarbons_pfcs_emissions_in_kilotonne_co2_equivalent",
           13.226121095
          ],
          [
           1999,
           "perfluorocarbons_pfcs_emissions_in_kilotonne_co2_equivalent",
           35.693488200000004
          ],
          [
           1998,
           "perfluorocarbons_pfcs_emissions_in_kilotonne_co2_equivalent",
           0.633393
          ],
          [
           1997,
           "perfluorocarbons_pfcs_emissions_in_kilotonne_co2_equivalent",
           0.5507770000000001
          ],
          [
           1996,
           "perfluorocarbons_pfcs_emissions_in_kilotonne_co2_equivalent",
           0.478937
          ],
          [
           1995,
           "perfluorocarbons_pfcs_emissions_in_kilotonne_co2_equivalent",
           0.416466
          ],
          [
           1994,
           "perfluorocarbons_pfcs_emissions_in_kilotonne_co2_equivalent",
           0.362145
          ],
          [
           1993,
           "perfluorocarbons_pfcs_emissions_in_kilotonne_co2_equivalent",
           0.31490799999999997
          ],
          [
           1992,
           "perfluorocarbons_pfcs_emissions_in_kilotonne_co2_equivalent",
           0.273833
          ],
          [
           1991,
           "perfluorocarbons_pfcs_emissions_in_kilotonne_co2_equivalent",
           0.238116
          ],
          [
           1990,
           "perfluorocarbons_pfcs_emissions_in_kilotonne_co2_equivalent",
           0.20705700000000002
          ],
          [
           2014,
           "sulphur_hexafluoride_sf6_emissions_in_kilotonne_co2_equivalent",
           34.25063652
          ],
          [
           2013,
           "sulphur_hexafluoride_sf6_emissions_in_kilotonne_co2_equivalent",
           30.70041204
          ],
          [
           2012,
           "sulphur_hexafluoride_sf6_emissions_in_kilotonne_co2_equivalent",
           22.15592964
          ],
          [
           2011,
           "sulphur_hexafluoride_sf6_emissions_in_kilotonne_co2_equivalent",
           23.67410498868
          ],
          [
           2010,
           "sulphur_hexafluoride_sf6_emissions_in_kilotonne_co2_equivalent",
           21.791502978144003
          ],
          [
           2009,
           "sulphur_hexafluoride_sf6_emissions_in_kilotonne_co2_equivalent",
           26.710521984108
          ],
          [
           2008,
           "sulphur_hexafluoride_sf6_emissions_in_kilotonne_co2_equivalent",
           26.658888399587997
          ],
          [
           2007,
           "sulphur_hexafluoride_sf6_emissions_in_kilotonne_co2_equivalent",
           19.173863533092
          ],
          [
           2006,
           "sulphur_hexafluoride_sf6_emissions_in_kilotonne_co2_equivalent",
           27.564248995128
          ],
          [
           2005,
           "sulphur_hexafluoride_sf6_emissions_in_kilotonne_co2_equivalent",
           22.189085937624
          ],
          [
           2004,
           "sulphur_hexafluoride_sf6_emissions_in_kilotonne_co2_equivalent",
           23.838093445812
          ],
          [
           2003,
           "sulphur_hexafluoride_sf6_emissions_in_kilotonne_co2_equivalent",
           25.56814686
          ],
          [
           2002,
           "sulphur_hexafluoride_sf6_emissions_in_kilotonne_co2_equivalent",
           25.33507386
          ],
          [
           2001,
           "sulphur_hexafluoride_sf6_emissions_in_kilotonne_co2_equivalent",
           25.526260531296
          ],
          [
           2000,
           "sulphur_hexafluoride_sf6_emissions_in_kilotonne_co2_equivalent",
           26.059706382048002
          ],
          [
           1999,
           "sulphur_hexafluoride_sf6_emissions_in_kilotonne_co2_equivalent",
           30.756944424084
          ],
          [
           1998,
           "sulphur_hexafluoride_sf6_emissions_in_kilotonne_co2_equivalent",
           38.624569714559996
          ],
          [
           1997,
           "sulphur_hexafluoride_sf6_emissions_in_kilotonne_co2_equivalent",
           50.108159919528
          ],
          [
           1996,
           "sulphur_hexafluoride_sf6_emissions_in_kilotonne_co2_equivalent",
           54.159349308492004
          ],
          [
           1995,
           "sulphur_hexafluoride_sf6_emissions_in_kilotonne_co2_equivalent",
           36.980164585872004
          ],
          [
           1994,
           "sulphur_hexafluoride_sf6_emissions_in_kilotonne_co2_equivalent",
           23.861008164012
          ],
          [
           1993,
           "sulphur_hexafluoride_sf6_emissions_in_kilotonne_co2_equivalent",
           19.746911690172
          ],
          [
           1992,
           "sulphur_hexafluoride_sf6_emissions_in_kilotonne_co2_equivalent",
           25.670926187016
          ],
          [
           1991,
           "sulphur_hexafluoride_sf6_emissions_in_kilotonne_co2_equivalent",
           40.161744209988
          ],
          [
           1990,
           "sulphur_hexafluoride_sf6_emissions_in_kilotonne_co2_equivalent",
           52.483297558872
          ]
         ],
         "y": [
          278265.89894076803,
          279741.639011863,
          284766.092717838,
          289142.267681326,
          293830.70914119197,
          305162.543548735,
          311914.819824229,
          320439.116819391,
          334328.142646602,
          343713.906947774,
          349885.43310892803,
          357653.329899303,
          361861.38789602794,
          368345.97742510703,
          381519.261592783,
          385581.132806466,
          391134.100909449,
          398816.453543549,
          404237.82821407705,
          408448.47899963,
          406200.993184341,
          403705.52831399103,
          406462.84770359995,
          396913.93653029,
          393126.94699428795,
          62297.1655681668,
          65903.51330825599,
          60432.2493410185,
          60790.7577213156,
          61189.1025048542,
          64202.1592201769,
          67667.2626980903,
          67455.8927304212,
          67047.25066801769,
          65660.1336422327,
          66274.7432545115,
          70299.4711482287,
          72126.5914446168,
          78023.9538963192,
          78388.9974250799,
          79588.5018807541,
          76934.9515340371,
          74268.1107226333,
          74066.25579207629,
          67682.72514935481,
          72531.826129136,
          70327.1670444138,
          67698.6586349119,
          67957.1211123863,
          64262.5639931315,
          100438.09506370801,
          93649.166141388,
          87060.81028961,
          75551.755291625,
          62402.279082903,
          56005.93938238,
          57251.355700374006,
          60971.816305307,
          57426.329584039006,
          55033.952116896,
          53686.857490672,
          53783.847673632,
          53843.704423847004,
          54845.145835185,
          58457.64761596,
          59664.73908178,
          62229.398882869005,
          61563.881729087996,
          63846.103794367,
          59596.205375555,
          61632.492704327,
          61128.400592577,
          60636.851387067,
          61510.987153812996,
          60615.645730992,
          119982.50341850599,
          123130.652897225,
          122217.919518023,
          121156.964954729,
          124426.88570984801,
          125519.441990638,
          129010.471708927,
          123495.742758683,
          129737.090031462,
          124208.07176996401,
          126315.209948975,
          125649.37053871699,
          126015.194675856,
          127523.989700176,
          128640.48346799,
          125118.01650407599,
          122319.593759433,
          118027.408646158,
          120362.60984256199,
          107282.543508312,
          114155.386728776,
          104945.713770963,
          100931.595609756,
          101744.736736883,
          96325.4131833302,
          78197.88125701991,
          59769.3415026104,
          56551.5935722778,
          57203.9355176784,
          55649.08131534309,
          57221.6062924032,
          57581.194759982005,
          54790.134156638895,
          52143.356769363796,
          45751.789097251,
          44896.670545605,
          48568.917831870494,
          45786.29471979821,
          49971.1515762142,
          49170.337689434804,
          50191.116064429196,
          51446.2829381283,
          55184.4241047849,
          53655.1401671903,
          45487.8735503956,
          47678.6489573594,
          53020.9811161954,
          48117.5560830313,
          42534.9272034699,
          45139.955286200995,
          463493.33238757704,
          454246.137946001,
          468546.45891205897,
          467607.237235461,
          482691.67127179797,
          497224.83692526,
          510619.68221014796,
          525120.011175522,
          533794.453645326,
          550183.063388038,
          572290.3855184721,
          564617.020300164,
          569862.145645112,
          587306.6785377121,
          585414.8605743339,
          579225.3357199039,
          573479.269701141,
          596041.321973836,
          577444.930222255,
          542829.458896225,
          555003.760260925,
          558152.72293811,
          563423.613154917,
          573094.038846396,
          574099.775511611,
          23390.075209187,
          17268.9103457996,
          16607.1344792414,
          17081.2280227503,
          16342.1818762402,
          16992.8004192757,
          17587.8984604534,
          18666.4669752133,
          19372.3876004329,
          20215.653226001003,
          19789.1217501208,
          20943.109958683897,
          22031.1266650621,
          23355.2211046544,
          23005.234853535298,
          23451.845846674598,
          23684.9350307817,
          24955.3759314165,
          23715.3843178607,
          21965.6352675347,
          21183.709310531,
          20614.4404738916,
          18776.381348248302,
          18359.4998410627,
          17607.3224145688,
          4621.007176785,
          5107.0828868809995,
          5482.9748696609995,
          5733.674102128,
          5977.257104601999,
          5848.043785196,
          6156.132133960999,
          6287.031657389,
          6580.296149717,
          6847.659115971999,
          7095.964384675,
          6969.466175788,
          7160.3884576030005,
          7550.081927808001,
          7776.909404745,
          7961.983988964001,
          8152.492308125,
          8458.664261444,
          8620.395581741,
          8372.396591774,
          8004.912020821999,
          7696.667805268001,
          7160.971875548001,
          6449.610812026999,
          6878.555308563001,
          161662.01887173599,
          146047.33959314,
          141565.719740237,
          135588.565572531,
          129188.73410927199,
          129767.166426691,
          132234.071786388,
          128732.63871086901,
          123696.517294897,
          115475.25999595801,
          125841.96926861301,
          125541.536474736,
          122593.400101873,
          126151.648802001,
          126876.91616231599,
          124590.137925265,
          125923.402444959,
          126933.162985254,
          121780.71631373199,
          113970.029219436,
          115757.36858641,
          114113.146744787,
          109841.328902436,
          106477.08866661,
          101159.12216724,
          54306.4333356516,
          64874.8138594637,
          58960.3115236108,
          61038.6712439614,
          64988.7809040025,
          61914.161012889694,
          75110.840989738,
          65457.834843324104,
          61117.341629151604,
          58456.415819836795,
          54148.9049729906,
          55845.14718054901,
          55339.6716999691,
          60493.961716299505,
          54916.9105639724,
          51307.2445174626,
          59162.49963168849,
          54429.0851744511,
          50935.6715289027,
          48592.21138513691,
          48993.417375547404,
          43970.7892561051,
          39524.4020330104,
          41537.0358081307,
          37460.656458826496,
          36666.027297448396,
          33662.372514402996,
          24187.827575952997,
          18810.9639158495,
          19626.445943231698,
          17953.7359736926,
          18666.1359705806,
          18223.6042706384,
          16684.3031468739,
          15518.490620718701,
          15141.3877177023,
          15493.8609887605,
          15020.2841500601,
          16833.2142927367,
          17055.0742451822,
          16330.7338304477,
          15719.5289253761,
          18755.6479305233,
          17264.5200333765,
          14153.005161793999,
          17833.779609148998,
          18449.9308643309,
          17304.637227643798,
          19566.3683734371,
          18918.7153387101,
          4462205.14458363,
          4403723.16147676,
          4259922.81188982,
          4177106.50927114,
          4161321.31739286,
          4204480.85553967,
          4304793.28338046,
          4216524.73281421,
          4207666.03163804,
          4139002.99479822,
          4165145.4407136003,
          4232036.86327499,
          4208860.12268355,
          4306103.94478558,
          4314560.87112777,
          4290586.66799942,
          4297988.16195699,
          4244213.12941646,
          4149624.29618927,
          3814305.25795781,
          3933290.52224844,
          3789763.64094378,
          3728965.03097874,
          3646389.52530377,
          3463397.56376209,
          56950.84818202019,
          55187.1794528947,
          54264.3793101323,
          56333.26799423,
          61696.3853292446,
          58126.247543132995,
          64038.9222021128,
          62698.0867925088,
          59351.4981462986,
          58872.9308028447,
          56973.350527342904,
          62442.6400686017,
          64946.46820599151,
          72522.5901920366,
          68821.8128908428,
          56912.31489298231,
          68201.9059970754,
          66531.7208142561,
          58461.6330236854,
          55635.582769013796,
          63828.0182275297,
          56478.745588696394,
          50983.2728750769,
          51834.6967381541,
          47597.7335272535,
          400652.624020681,
          425042.92070284794,
          414955.076785321,
          394334.83380057,
          394536.96243659203,
          401571.22545173205,
          414013.070054113,
          407475.111806521,
          429051.49992304604,
          420506.32195738796,
          417116.544673865,
          417864.70558616,
          413569.247853298,
          422312.88446679706,
          423168.636085445,
          428557.610248936,
          417662.678913825,
          408508.589897444,
          401878.86465183,
          383957.624293905,
          394235.67413665896,
          368183.438441815,
          370491.15370314795,
          369985.594525824,
          341152.531504158,
          1052238.2340002,
          1014119.71977239,
          965790.8352714891,
          955977.599356065,
          939207.328236553,
          938148.0930919001,
          958368.7246982291,
          930768.560542915,
          922778.540047935,
          895336.786172859,
          899284.993390718,
          915634.439635279,
          899161.567421003,
          900377.585440517,
          886344.629703686,
          865958.513395873,
          877422.45689212,
          850795.7207596999,
          853229.9407522541,
          788422.437923384,
          832259.203309583,
          812483.2196210709,
          817031.4401976591,
          835792.632256705,
          792902.788025434,
          83403.7199982216,
          83390.3546805713,
          84949.02582987481,
          84263.0078976228,
          86425.85651187871,
          86980.6457725937,
          89134.4253965711,
          93839.8699189575,
          98663.19416252141,
          97979.7783523224,
          103019.66469008802,
          105407.30759830901,
          105051.46619910099,
          109126.567554916,
          109571.060909579,
          113219.822395958,
          111777.743714104,
          114127.554270902,
          110255.76552190699,
          103969.78429385,
          97035.0827603655,
          94102.9439816174,
          90710.5742463723,
          82910.62595830549,
          79628.2743994757,
          73115.1986276439,
          69392.7256389081,
          62050.126397283304,
          63174.978373230704,
          61568.3745934751,
          61354.4620207158,
          62950.2532137021,
          61549.912464161396,
          61087.7637948753,
          61593.1410164197,
          58336.8070649933,
          59995.734475138204,
          58968.227770258396,
          61766.839595490994,
          60231.6619844867,
          60329.505012084905,
          59751.7310814697,
          58419.039167147195,
          57325.1623293437,
          51630.690024407304,
          52108.8927624657,
          50272.8651021622,
          46774.944845299906,
          43930.8781767816,
          43573.4088387418,
          2106.02606837613,
          2042.93697601045,
          2172.61936326312,
          2294.50464413142,
          2248.36895252634,
          2299.61365454463,
          2385.91382557077,
          2450.2439197906697,
          2450.2342634285396,
          2655.39472544564,
          2728.93748510151,
          2710.29472706565,
          2795.90731167373,
          2792.7231318536797,
          2837.02901057771,
          2797.3145919784497,
          2939.27659673656,
          3236.89533653359,
          3567.2092596622706,
          3521.8907096149,
          3383.55221868805,
          3298.56768958589,
          3290.5764313292602,
          3301.79631376577,
          3272.20823296511,
          32768.5267614461,
          33508.44202382,
          33344.1023763207,
          33574.971741581496,
          34696.485727221,
          35718.7485642434,
          37335.1081070614,
          38675.594023595,
          40572.1758596239,
          42302.0878630807,
          45123.335442264404,
          47482.7207784323,
          45952.7301698154,
          45554.322521515,
          46042.4022484132,
          47952.2043880837,
          47405.9667288105,
          47493.1266838399,
          47175.5402654915,
          41996.3246778451,
          41558.2750861697,
          37895.195427036604,
          38031.618716193596,
          37049.423831397595,
          36559.0685812916,
          436204.249867101,
          435938.613895185,
          435535.83511771203,
          429158.009174904,
          421404.09992213297,
          447201.16875556705,
          440235.50720009796,
          444055.43353522295,
          454967.633181096,
          459840.64226897,
          465175.073350703,
          471124.276709558,
          473504.059244666,
          489595.50811926,
          492746.255602992,
          490914.262890322,
          486594.066569872,
          478237.711240526,
          467933.59324447,
          418881.07690329297,
          428879.68119438103,
          416499.534208263,
          389340.763399181,
          362063.64929626795,
          342826.677130676,
          1155993.61991868,
          1164474.34578731,
          1174619.00608734,
          1167714.71812869,
          1228936.69128837,
          1242494.02197198,
          1255264.19757618,
          1253057.30667741,
          1218257.76164334,
          1253082.14716425,
          1274297.98807522,
          1257384.56001844,
          1294399.19841025,
          1299490.60851261,
          1298433.88847959,
          1305938.82350271,
          1285177.83728116,
          1319799.19357988,
          1235455.81022118,
          1162606.19176432,
          1212970.22514141,
          1261862.93795353,
          1296186.35836425,
          1311509.14921749,
          1265490.60931631,
          19794.2944546485,
          18021.1952417204,
          14244.653385041102,
          11966.1455063059,
          10399.1411291737,
          9141.35351650325,
          9216.3839879477,
          8677.545810834781,
          8300.595278010831,
          7709.04999256645,
          7069.94204019894,
          7480.50260667025,
          7508.743242011859,
          7703.77150791307,
          7709.46076182043,
          7790.40393195636,
          8289.2066784209,
          8610.25539674785,
          8184.971246543109,
          7443.28601054364,
          8524.087226609341,
          7807.65940956673,
          7521.1225279261,
          7353.22044369415,
          7158.71803669862,
          198.775112043709,
          206.14670684560502,
          206.776032802858,
          214.86769081200902,
          200.961153022994,
          204.05592043076,
          205.809089624326,
          218.235372862382,
          229.11710392683997,
          226.448838014394,
          216.750456413769,
          214.58531081683898,
          219.94720455154598,
          229.265875097937,
          229.29632162645302,
          228.970323897819,
          231.21730511588402,
          200.920107913985,
          219.698915477856,
          205.59054373337898,
          191.047501716787,
          177.08804024541402,
          185.63243136026,
          192.86441578871498,
          161.541816662752,
          35812.8936845412,
          37908.6124957275,
          21207.8873890696,
          16347.171825514799,
          15765.4147628091,
          15022.544134694399,
          15676.831031798898,
          15086.2857611334,
          15901.5175726569,
          13422.1511465775,
          11801.964898672,
          12507.966675104099,
          12614.4250089828,
          12605.238201652099,
          13185.4933655222,
          13946.884303249699,
          14303.032680413,
          15624.07633974,
          14963.254716258401,
          12727.12003622,
          13618.9126645228,
          13919.015498466599,
          13975.5232139658,
          12987.817531471599,
          12732.798863701,
          11944.007385281202,
          12467.513194858899,
          12253.5715940463,
          12375.507079302,
          11560.571694451799,
          9155.85264991365,
          9217.19030053529,
          8530.7453454746,
          7619.363289974209,
          7986.155880568521,
          8798.1820808658,
          9311.91612729174,
          10068.1403163216,
          10443.3832173203,
          11871.1077184731,
          12130.9137942819,
          11995.820174913999,
          11398.7059208596,
          11245.8724868627,
          10725.5221348792,
          11285.027417134399,
          11168.5116663343,
          10872.0644823704,
          10303.0396071267,
          9826.25327758284,
          1860.47364818374,
          2041.24609263112,
          2174.6344662953,
          2252.06276712832,
          2302.77027658996,
          2313.21608944717,
          2329.18169821771,
          2331.95473493565,
          2338.06278770006,
          2418.5555646106895,
          2414.28381121499,
          2550.60406083421,
          2464.21222943374,
          2666.13432525932,
          2604.7448318278603,
          2736.31293358517,
          2776.31430670588,
          2831.64226468627,
          2822.40616690519,
          2684.52129301397,
          2690.51803520544,
          2785.89656845722,
          2868.6381281432696,
          2476.0744290959196,
          2483.5367864507,
          95.3851833205759,
          96.14720457957961,
          101.74260303885401,
          100.88193845588499,
          101.872636286934,
          98.99042989343651,
          102.31953844658001,
          101.0844813444,
          99.81685913522449,
          100.659281930126,
          98.3243559267737,
          98.5488680526432,
          98.16127571954571,
          95.29885497874581,
          90.2005037527358,
          88.7506912513649,
          82.1239180016564,
          82.7191922532151,
          81.376901087813,
          77.7719361035662,
          75.4682651256747,
          71.88189545089949,
          75.1655688427013,
          74.4309201897803,
          162497.55962272198,
          171081.473914794,
          170975.24288850802,
          171497.891064769,
          175008.703110698,
          173196.297429017,
          182573.582902116,
          175487.970753103,
          176617.168521043,
          171228.109552445,
          172059.812230581,
          177037.401595998,
          176462.400587543,
          179867.888967448,
          181546.25702136,
          177540.473199828,
          172772.89277910301,
          173178.42039588199,
          176174.418350642,
          170796.156580042,
          182529.786939532,
          169792.13654140302,
          165665.023774753,
          165475.88439356,
          157789.581719585,
          25419.7716716116,
          26108.064501553,
          28099.6999900939,
          27697.2273476821,
          27879.0592141093,
          28143.4576273053,
          29368.264992275897,
          31363.452619479198,
          29927.501379690697,
          31523.186091685402,
          32355.957023316,
          34581.7227646535,
          34768.2781829264,
          36497.1710064703,
          36063.663329171,
          37645.434299041,
          37519.1047271712,
          36651.3714858119,
          37674.0517694367,
          34806.4020881589,
          35017.2413542609,
          34366.5826844218,
          35621.026019351804,
          35094.2867396817,
          35616.9853050414,
          35694.8243978959,
          34070.978364376,
          34833.2478178252,
          36520.7838206741,
          38434.7651928654,
          38464.9066615123,
          41586.7085615304,
          41683.1333687712,
          41939.0379176034,
          42691.7563679429,
          42194.6191784625,
          43530.3487635507,
          42655.8748276072,
          43906.7096554175,
          44320.004884584196,
          43548.2302876495,
          43913.7448222241,
          45842.8095311711,
          44893.0941871551,
          43212.0924688473,
          45833.8920681508,
          44946.8693532922,
          44553.965659781905,
          44309.0559727695,
          43869.451092480296,
          378782.53916616796,
          375684.15694778,
          365865.15951878,
          366427.66091343603,
          362012.958757259,
          363885.77757322794,
          377308.59613738,
          368415.85328044294,
          339145.82962033,
          329380.898350257,
          319120.405105406,
          315274.093567475,
          307535.64219939697,
          320230.170467384,
          324279.449842642,
          323372.578397668,
          336500.578934838,
          336268.110889212,
          329338.17108487897,
          315937.965878291,
          334026.154705205,
          333713.650695256,
          326597.79054972896,
          322440.486501595,
          310307.297357959,
          45809.0714101803,
          47406.842485675304,
          51850.565673314806,
          50502.1225996005,
          51303.204149317804,
          55134.32946640481,
          52348.468811075305,
          55454.21105734981,
          59976.20991864,
          67612.8118918815,
          66411.3299157974,
          66113.7557093707,
          69954.4945153443,
          64697.2992169906,
          67458.1591415789,
          70034.5294076015,
          65465.41971559,
          62791.147766638496,
          60550.040203182805,
          58004.1969738053,
          53583.885859873895,
          52150.653443810996,
          50262.422441618895,
          48495.550477338,
          48353.6903302063,
          174731.886787722,
          143586.607530198,
          132732.908743069,
          124819.100092444,
          122610.776956391,
          128587.00363972699,
          131939.69450211,
          123515.853269646,
          106813.97752929901,
          90443.3507659838,
          95190.9034483113,
          100377.98696272199,
          100655.31311867,
          105737.481034365,
          104575.07775696699,
          102414.252372896,
          106175.991142102,
          104540.350942151,
          101035.42080608901,
          85288.2940231284,
          80795.77402592769,
          86163.6343263804,
          84661.2305445011,
          74083.358238036,
          74046.4676268308,
          2589725.30553003,
          2433187.64541119,
          2013175.48242406,
          1909577.84022625,
          1685494.54694021,
          1629496.29767829,
          1581293.21958917,
          1502079.86636293,
          1476588.92527691,
          1512651.93084896,
          1504182.72891476,
          1542500.06477849,
          1531200.21174359,
          1568510.14348381,
          1575180.85973468,
          1593933.34385535,
          1653289.19267186,
          1653139.05550251,
          1684999.82263502,
          1576703.96685802,
          1662592.25855081,
          1717221.95058062,
          1727489.10411795,
          1666644.42307436,
          1671568.65225681,
          61837.5667856109,
          53447.440015000306,
          48979.1257649755,
          46467.5491941913,
          43638.4901175531,
          44679.5449583075,
          44978.911578943495,
          45040.2697406883,
          44016.987001717695,
          43181.3144851094,
          41155.011450614904,
          43468.0933515512,
          41593.5332476528,
          42060.5502497607,
          42576.9588896981,
          42581.0225015084,
          42320.4844795718,
          40725.2998364864,
          41236.324036934,
          37433.4334191131,
          38385.9425232062,
          37880.853145543304,
          35867.8962742317,
          35395.154862923904,
          33387.4287224285,
          15088.305046245601,
          14007.2826135476,
          14009.3986307298,
          14303.993650433702,
          14648.7255407292,
          15277.744775225901,
          15945.176113675301,
          16275.559666751598,
          15980.4778466171,
          15353.0714374852,
          15460.154173141002,
          16384.7561407934,
          16526.3127114803,
          16289.385897298,
          16639.1710998347,
          16938.3242617391,
          17129.8019864058,
          17272.379186678798,
          18219.7304323115,
          16328.2103332782,
          16363.4297727931,
          16348.2391107374,
          15800.18723876,
          15148.7253832075,
          13489.9800352085,
          230154.963134126,
          239725.18368910602,
          248407.16013564102,
          239938.28725599102,
          252389.348341529,
          265725.3506663,
          253708.870128625,
          266391.92680196,
          274911.096949235,
          298531.02791303396,
          311599.72388392803,
          312395.403164009,
          332200.842752654,
          336672.422515549,
          353472.612328343,
          368745.068407983,
          360063.336319558,
          367292.283251434,
          335994.803720112,
          296617.991048484,
          283581.400657324,
          283918.679194864,
          279830.308257069,
          252259.69048815302,
          253466.91795777602,
          57546.5432515479,
          57755.634675433,
          57482.0646582609,
          57425.9514469075,
          59876.998756461,
          59318.672714076,
          63238.7859377907,
          58154.52971929179,
          58733.4063631372,
          55861.2192155216,
          54730.4244140378,
          55686.7457499206,
          56631.8961687906,
          57203.59907400559,
          56428.8031427144,
          53859.20572584731,
          53697.6559330674,
          52911.72672728769,
          50831.576814380096,
          47267.446667312695,
          53057.7346342268,
          49133.5869433916,
          46559.640023029904,
          44899.151935718604,
          43404.9031709849,
          44115.53408597309,
          46144.809538992995,
          45974.7025405505,
          43556.2764199287,
          42613.303737038,
          43368.4571561622,
          44088.334946669405,
          42971.6244552183,
          44522.371421324904,
          44354.5431186679,
          43545.9597055165,
          45002.278774229904,
          43373.9855504706,
          44587.9802671018,
          45149.667089312,
          45778.0894571267,
          45351.1719954308,
          43360.3856976932,
          44676.9439665557,
          43509.0865581053,
          45027.0644798623,
          40973.1491672158,
          42241.5536052143,
          43181.659439514304,
          39265.0525915552,
          146750.63697943,
          152335.17422431402,
          158571.546483621,
          167443.152055541,
          164623.553279146,
          178812.409473623,
          194751.77940590002,
          208480.069613411,
          208365.343988278,
          206388.619824108,
          232549.18950468,
          217469.50328560802,
          226365.412047989,
          240902.462872633,
          253172.078433031,
          279130.740814477,
          302195.954579745,
          333166.418749646,
          323536.545145816,
          310580.701035275,
          320356.658972933,
          338094.408177677,
          363126.007248006,
          354961.042273042,
          382213.40168630704,
          693024.76655995,
          621305.2363994321,
          577064.259624575,
          498504.838991931,
          409721.673978029,
          380871.283680675,
          344347.189394243,
          334208.70221489196,
          309207.662874893,
          284109.569319534,
          271429.773920677,
          290774.709706588,
          281939.349721843,
          285720.47993753,
          296753.731531998,
          307341.483489843,
          325586.622022044,
          330087.250809744,
          317063.84372919396,
          269598.42182821897,
          287113.606385185,
          301273.502167972,
          295706.06434745603,
          287436.404374375,
          247561.22104158,
          596398.4732074271,
          604652.896877579,
          589306.018141796,
          574764.752712009,
          569458.364876459,
          561202.9539948001,
          582752.784369152,
          557608.779401985,
          561253.722845185,
          553827.549146135,
          561280.866183966,
          570697.030328595,
          554227.635799311,
          565475.5203474,
          566598.164015122,
          563783.537554562,
          562083.094783584,
          553719.939024983,
          539916.163191626,
          489012.500484764,
          507595.711988819,
          464885.74892695295,
          484388.090389505,
          475832.05058692704,
          434794.556933168,
          5115095.04749812,
          5064879.75034285,
          5170274.35048577,
          5284758.62020545,
          5377492.21747199,
          5441599.22972902,
          5630113.71546884,
          5704996.86860223,
          5744672.1958021,
          5818972.385413901,
          5992438.03977823,
          5894462.94151346,
          5935738.78360961,
          5982289.16712555,
          6096978.36306809,
          6122746.6118598,
          6042393.61487176,
          6121653.86307212,
          5923201.37582301,
          5488320.28042503,
          5688756.00501015,
          5559507.66443653,
          5349220.94664921,
          5502550.71398641,
          5556006.57780565
         ]
        }
       ],
       "layout": {
        "paper_bgcolor": "rgba(233,233,233,1)",
        "plot_bgcolor": "rgba(240,235,228,1)",
        "template": {
         "data": {
          "bar": [
           {
            "error_x": {
             "color": "#2a3f5f"
            },
            "error_y": {
             "color": "#2a3f5f"
            },
            "marker": {
             "line": {
              "color": "#E5ECF6",
              "width": 0.5
             }
            },
            "type": "bar"
           }
          ],
          "barpolar": [
           {
            "marker": {
             "line": {
              "color": "#E5ECF6",
              "width": 0.5
             }
            },
            "type": "barpolar"
           }
          ],
          "carpet": [
           {
            "aaxis": {
             "endlinecolor": "#2a3f5f",
             "gridcolor": "white",
             "linecolor": "white",
             "minorgridcolor": "white",
             "startlinecolor": "#2a3f5f"
            },
            "baxis": {
             "endlinecolor": "#2a3f5f",
             "gridcolor": "white",
             "linecolor": "white",
             "minorgridcolor": "white",
             "startlinecolor": "#2a3f5f"
            },
            "type": "carpet"
           }
          ],
          "choropleth": [
           {
            "colorbar": {
             "outlinewidth": 0,
             "ticks": ""
            },
            "type": "choropleth"
           }
          ],
          "contour": [
           {
            "colorbar": {
             "outlinewidth": 0,
             "ticks": ""
            },
            "colorscale": [
             [
              0,
              "#0d0887"
             ],
             [
              0.1111111111111111,
              "#46039f"
             ],
             [
              0.2222222222222222,
              "#7201a8"
             ],
             [
              0.3333333333333333,
              "#9c179e"
             ],
             [
              0.4444444444444444,
              "#bd3786"
             ],
             [
              0.5555555555555556,
              "#d8576b"
             ],
             [
              0.6666666666666666,
              "#ed7953"
             ],
             [
              0.7777777777777778,
              "#fb9f3a"
             ],
             [
              0.8888888888888888,
              "#fdca26"
             ],
             [
              1,
              "#f0f921"
             ]
            ],
            "type": "contour"
           }
          ],
          "contourcarpet": [
           {
            "colorbar": {
             "outlinewidth": 0,
             "ticks": ""
            },
            "type": "contourcarpet"
           }
          ],
          "heatmap": [
           {
            "colorbar": {
             "outlinewidth": 0,
             "ticks": ""
            },
            "colorscale": [
             [
              0,
              "#0d0887"
             ],
             [
              0.1111111111111111,
              "#46039f"
             ],
             [
              0.2222222222222222,
              "#7201a8"
             ],
             [
              0.3333333333333333,
              "#9c179e"
             ],
             [
              0.4444444444444444,
              "#bd3786"
             ],
             [
              0.5555555555555556,
              "#d8576b"
             ],
             [
              0.6666666666666666,
              "#ed7953"
             ],
             [
              0.7777777777777778,
              "#fb9f3a"
             ],
             [
              0.8888888888888888,
              "#fdca26"
             ],
             [
              1,
              "#f0f921"
             ]
            ],
            "type": "heatmap"
           }
          ],
          "heatmapgl": [
           {
            "colorbar": {
             "outlinewidth": 0,
             "ticks": ""
            },
            "colorscale": [
             [
              0,
              "#0d0887"
             ],
             [
              0.1111111111111111,
              "#46039f"
             ],
             [
              0.2222222222222222,
              "#7201a8"
             ],
             [
              0.3333333333333333,
              "#9c179e"
             ],
             [
              0.4444444444444444,
              "#bd3786"
             ],
             [
              0.5555555555555556,
              "#d8576b"
             ],
             [
              0.6666666666666666,
              "#ed7953"
             ],
             [
              0.7777777777777778,
              "#fb9f3a"
             ],
             [
              0.8888888888888888,
              "#fdca26"
             ],
             [
              1,
              "#f0f921"
             ]
            ],
            "type": "heatmapgl"
           }
          ],
          "histogram": [
           {
            "marker": {
             "colorbar": {
              "outlinewidth": 0,
              "ticks": ""
             }
            },
            "type": "histogram"
           }
          ],
          "histogram2d": [
           {
            "colorbar": {
             "outlinewidth": 0,
             "ticks": ""
            },
            "colorscale": [
             [
              0,
              "#0d0887"
             ],
             [
              0.1111111111111111,
              "#46039f"
             ],
             [
              0.2222222222222222,
              "#7201a8"
             ],
             [
              0.3333333333333333,
              "#9c179e"
             ],
             [
              0.4444444444444444,
              "#bd3786"
             ],
             [
              0.5555555555555556,
              "#d8576b"
             ],
             [
              0.6666666666666666,
              "#ed7953"
             ],
             [
              0.7777777777777778,
              "#fb9f3a"
             ],
             [
              0.8888888888888888,
              "#fdca26"
             ],
             [
              1,
              "#f0f921"
             ]
            ],
            "type": "histogram2d"
           }
          ],
          "histogram2dcontour": [
           {
            "colorbar": {
             "outlinewidth": 0,
             "ticks": ""
            },
            "colorscale": [
             [
              0,
              "#0d0887"
             ],
             [
              0.1111111111111111,
              "#46039f"
             ],
             [
              0.2222222222222222,
              "#7201a8"
             ],
             [
              0.3333333333333333,
              "#9c179e"
             ],
             [
              0.4444444444444444,
              "#bd3786"
             ],
             [
              0.5555555555555556,
              "#d8576b"
             ],
             [
              0.6666666666666666,
              "#ed7953"
             ],
             [
              0.7777777777777778,
              "#fb9f3a"
             ],
             [
              0.8888888888888888,
              "#fdca26"
             ],
             [
              1,
              "#f0f921"
             ]
            ],
            "type": "histogram2dcontour"
           }
          ],
          "mesh3d": [
           {
            "colorbar": {
             "outlinewidth": 0,
             "ticks": ""
            },
            "type": "mesh3d"
           }
          ],
          "parcoords": [
           {
            "line": {
             "colorbar": {
              "outlinewidth": 0,
              "ticks": ""
             }
            },
            "type": "parcoords"
           }
          ],
          "pie": [
           {
            "automargin": true,
            "type": "pie"
           }
          ],
          "scatter": [
           {
            "marker": {
             "colorbar": {
              "outlinewidth": 0,
              "ticks": ""
             }
            },
            "type": "scatter"
           }
          ],
          "scatter3d": [
           {
            "line": {
             "colorbar": {
              "outlinewidth": 0,
              "ticks": ""
             }
            },
            "marker": {
             "colorbar": {
              "outlinewidth": 0,
              "ticks": ""
             }
            },
            "type": "scatter3d"
           }
          ],
          "scattercarpet": [
           {
            "marker": {
             "colorbar": {
              "outlinewidth": 0,
              "ticks": ""
             }
            },
            "type": "scattercarpet"
           }
          ],
          "scattergeo": [
           {
            "marker": {
             "colorbar": {
              "outlinewidth": 0,
              "ticks": ""
             }
            },
            "type": "scattergeo"
           }
          ],
          "scattergl": [
           {
            "marker": {
             "colorbar": {
              "outlinewidth": 0,
              "ticks": ""
             }
            },
            "type": "scattergl"
           }
          ],
          "scattermapbox": [
           {
            "marker": {
             "colorbar": {
              "outlinewidth": 0,
              "ticks": ""
             }
            },
            "type": "scattermapbox"
           }
          ],
          "scatterpolar": [
           {
            "marker": {
             "colorbar": {
              "outlinewidth": 0,
              "ticks": ""
             }
            },
            "type": "scatterpolar"
           }
          ],
          "scatterpolargl": [
           {
            "marker": {
             "colorbar": {
              "outlinewidth": 0,
              "ticks": ""
             }
            },
            "type": "scatterpolargl"
           }
          ],
          "scatterternary": [
           {
            "marker": {
             "colorbar": {
              "outlinewidth": 0,
              "ticks": ""
             }
            },
            "type": "scatterternary"
           }
          ],
          "surface": [
           {
            "colorbar": {
             "outlinewidth": 0,
             "ticks": ""
            },
            "colorscale": [
             [
              0,
              "#0d0887"
             ],
             [
              0.1111111111111111,
              "#46039f"
             ],
             [
              0.2222222222222222,
              "#7201a8"
             ],
             [
              0.3333333333333333,
              "#9c179e"
             ],
             [
              0.4444444444444444,
              "#bd3786"
             ],
             [
              0.5555555555555556,
              "#d8576b"
             ],
             [
              0.6666666666666666,
              "#ed7953"
             ],
             [
              0.7777777777777778,
              "#fb9f3a"
             ],
             [
              0.8888888888888888,
              "#fdca26"
             ],
             [
              1,
              "#f0f921"
             ]
            ],
            "type": "surface"
           }
          ],
          "table": [
           {
            "cells": {
             "fill": {
              "color": "#EBF0F8"
             },
             "line": {
              "color": "white"
             }
            },
            "header": {
             "fill": {
              "color": "#C8D4E3"
             },
             "line": {
              "color": "white"
             }
            },
            "type": "table"
           }
          ]
         },
         "layout": {
          "annotationdefaults": {
           "arrowcolor": "#2a3f5f",
           "arrowhead": 0,
           "arrowwidth": 1
          },
          "coloraxis": {
           "colorbar": {
            "outlinewidth": 0,
            "ticks": ""
           }
          },
          "colorscale": {
           "diverging": [
            [
             0,
             "#8e0152"
            ],
            [
             0.1,
             "#c51b7d"
            ],
            [
             0.2,
             "#de77ae"
            ],
            [
             0.3,
             "#f1b6da"
            ],
            [
             0.4,
             "#fde0ef"
            ],
            [
             0.5,
             "#f7f7f7"
            ],
            [
             0.6,
             "#e6f5d0"
            ],
            [
             0.7,
             "#b8e186"
            ],
            [
             0.8,
             "#7fbc41"
            ],
            [
             0.9,
             "#4d9221"
            ],
            [
             1,
             "#276419"
            ]
           ],
           "sequential": [
            [
             0,
             "#0d0887"
            ],
            [
             0.1111111111111111,
             "#46039f"
            ],
            [
             0.2222222222222222,
             "#7201a8"
            ],
            [
             0.3333333333333333,
             "#9c179e"
            ],
            [
             0.4444444444444444,
             "#bd3786"
            ],
            [
             0.5555555555555556,
             "#d8576b"
            ],
            [
             0.6666666666666666,
             "#ed7953"
            ],
            [
             0.7777777777777778,
             "#fb9f3a"
            ],
            [
             0.8888888888888888,
             "#fdca26"
            ],
            [
             1,
             "#f0f921"
            ]
           ],
           "sequentialminus": [
            [
             0,
             "#0d0887"
            ],
            [
             0.1111111111111111,
             "#46039f"
            ],
            [
             0.2222222222222222,
             "#7201a8"
            ],
            [
             0.3333333333333333,
             "#9c179e"
            ],
            [
             0.4444444444444444,
             "#bd3786"
            ],
            [
             0.5555555555555556,
             "#d8576b"
            ],
            [
             0.6666666666666666,
             "#ed7953"
            ],
            [
             0.7777777777777778,
             "#fb9f3a"
            ],
            [
             0.8888888888888888,
             "#fdca26"
            ],
            [
             1,
             "#f0f921"
            ]
           ]
          },
          "colorway": [
           "#636efa",
           "#EF553B",
           "#00cc96",
           "#ab63fa",
           "#FFA15A",
           "#19d3f3",
           "#FF6692",
           "#B6E880",
           "#FF97FF",
           "#FECB52"
          ],
          "font": {
           "color": "#2a3f5f"
          },
          "geo": {
           "bgcolor": "white",
           "lakecolor": "white",
           "landcolor": "#E5ECF6",
           "showlakes": true,
           "showland": true,
           "subunitcolor": "white"
          },
          "hoverlabel": {
           "align": "left"
          },
          "hovermode": "closest",
          "mapbox": {
           "style": "light"
          },
          "paper_bgcolor": "white",
          "plot_bgcolor": "#E5ECF6",
          "polar": {
           "angularaxis": {
            "gridcolor": "white",
            "linecolor": "white",
            "ticks": ""
           },
           "bgcolor": "#E5ECF6",
           "radialaxis": {
            "gridcolor": "white",
            "linecolor": "white",
            "ticks": ""
           }
          },
          "scene": {
           "xaxis": {
            "backgroundcolor": "#E5ECF6",
            "gridcolor": "white",
            "gridwidth": 2,
            "linecolor": "white",
            "showbackground": true,
            "ticks": "",
            "zerolinecolor": "white"
           },
           "yaxis": {
            "backgroundcolor": "#E5ECF6",
            "gridcolor": "white",
            "gridwidth": 2,
            "linecolor": "white",
            "showbackground": true,
            "ticks": "",
            "zerolinecolor": "white"
           },
           "zaxis": {
            "backgroundcolor": "#E5ECF6",
            "gridcolor": "white",
            "gridwidth": 2,
            "linecolor": "white",
            "showbackground": true,
            "ticks": "",
            "zerolinecolor": "white"
           }
          },
          "shapedefaults": {
           "line": {
            "color": "#2a3f5f"
           }
          },
          "ternary": {
           "aaxis": {
            "gridcolor": "white",
            "linecolor": "white",
            "ticks": ""
           },
           "baxis": {
            "gridcolor": "white",
            "linecolor": "white",
            "ticks": ""
           },
           "bgcolor": "#E5ECF6",
           "caxis": {
            "gridcolor": "white",
            "linecolor": "white",
            "ticks": ""
           }
          },
          "title": {
           "x": 0.05
          },
          "xaxis": {
           "automargin": true,
           "gridcolor": "white",
           "linecolor": "white",
           "ticks": "",
           "title": {
            "standoff": 15
           },
           "zerolinecolor": "white",
           "zerolinewidth": 2
          },
          "yaxis": {
           "automargin": true,
           "gridcolor": "white",
           "linecolor": "white",
           "ticks": "",
           "title": {
            "standoff": 15
           },
           "zerolinecolor": "white",
           "zerolinewidth": 2
          }
         }
        },
        "title": {
         "font": {
          "family": "Times New Roman",
          "size": 22
         },
         "text": "Change in CO2 between 1880 ~ 2016",
         "x": 0.5
        },
        "xaxis": {
         "color": "black",
         "showgrid": true,
         "title": {
          "text": "year"
         }
        },
        "yaxis": {
         "color": "black",
         "showgrid": true,
         "title": {
          "text": "value"
         }
        }
       }
      },
      "text/html": [
       "<div>                            <div id=\"2d0251a5-5765-431f-82b2-d5121f7ddf80\" class=\"plotly-graph-div\" style=\"height:525px; width:100%;\"></div>            <script type=\"text/javascript\">                require([\"plotly\"], function(Plotly) {                    window.PLOTLYENV=window.PLOTLYENV || {};                                    if (document.getElementById(\"2d0251a5-5765-431f-82b2-d5121f7ddf80\")) {                    Plotly.newPlot(                        \"2d0251a5-5765-431f-82b2-d5121f7ddf80\",                        [{\"line\": {\"color\": \"rgb(203, 67, 53)\"}, \"name\": \"CO2 emissions\", \"opacity\": 0.8, \"type\": \"scatter\", \"x\": [[2014, \"carbon_dioxide_co2_emissions_without_land_use_land_use_change_and_forestry_lulucf_in_kilotonne_co2_equivalent\", 47597.7335272535], [2013, \"carbon_dioxide_co2_emissions_without_land_use_land_use_change_and_forestry_lulucf_in_kilotonne_co2_equivalent\", 51834.6967381541], [2012, \"carbon_dioxide_co2_emissions_without_land_use_land_use_change_and_forestry_lulucf_in_kilotonne_co2_equivalent\", 50983.2728750769], [2011, \"carbon_dioxide_co2_emissions_without_land_use_land_use_change_and_forestry_lulucf_in_kilotonne_co2_equivalent\", 56478.745588696394], [2010, \"carbon_dioxide_co2_emissions_without_land_use_land_use_change_and_forestry_lulucf_in_kilotonne_co2_equivalent\", 63828.0182275297], [2009, \"carbon_dioxide_co2_emissions_without_land_use_land_use_change_and_forestry_lulucf_in_kilotonne_co2_equivalent\", 55635.582769013796], [2008, \"carbon_dioxide_co2_emissions_without_land_use_land_use_change_and_forestry_lulucf_in_kilotonne_co2_equivalent\", 58461.6330236854], [2007, \"carbon_dioxide_co2_emissions_without_land_use_land_use_change_and_forestry_lulucf_in_kilotonne_co2_equivalent\", 66531.7208142561], [2006, \"carbon_dioxide_co2_emissions_without_land_use_land_use_change_and_forestry_lulucf_in_kilotonne_co2_equivalent\", 68201.9059970754], [2005, \"carbon_dioxide_co2_emissions_without_land_use_land_use_change_and_forestry_lulucf_in_kilotonne_co2_equivalent\", 56912.31489298231], [2004, \"carbon_dioxide_co2_emissions_without_land_use_land_use_change_and_forestry_lulucf_in_kilotonne_co2_equivalent\", 68821.8128908428], [2003, \"carbon_dioxide_co2_emissions_without_land_use_land_use_change_and_forestry_lulucf_in_kilotonne_co2_equivalent\", 72522.5901920366], [2002, \"carbon_dioxide_co2_emissions_without_land_use_land_use_change_and_forestry_lulucf_in_kilotonne_co2_equivalent\", 64946.46820599151], [2001, \"carbon_dioxide_co2_emissions_without_land_use_land_use_change_and_forestry_lulucf_in_kilotonne_co2_equivalent\", 62442.6400686017], [2000, \"carbon_dioxide_co2_emissions_without_land_use_land_use_change_and_forestry_lulucf_in_kilotonne_co2_equivalent\", 56973.350527342904], [1999, \"carbon_dioxide_co2_emissions_without_land_use_land_use_change_and_forestry_lulucf_in_kilotonne_co2_equivalent\", 58872.9308028447], [1998, \"carbon_dioxide_co2_emissions_without_land_use_land_use_change_and_forestry_lulucf_in_kilotonne_co2_equivalent\", 59351.4981462986], [1997, \"carbon_dioxide_co2_emissions_without_land_use_land_use_change_and_forestry_lulucf_in_kilotonne_co2_equivalent\", 62698.0867925088], [1996, \"carbon_dioxide_co2_emissions_without_land_use_land_use_change_and_forestry_lulucf_in_kilotonne_co2_equivalent\", 64038.9222021128], [1995, \"carbon_dioxide_co2_emissions_without_land_use_land_use_change_and_forestry_lulucf_in_kilotonne_co2_equivalent\", 58126.247543132995], [1994, \"carbon_dioxide_co2_emissions_without_land_use_land_use_change_and_forestry_lulucf_in_kilotonne_co2_equivalent\", 61696.3853292446], [1993, \"carbon_dioxide_co2_emissions_without_land_use_land_use_change_and_forestry_lulucf_in_kilotonne_co2_equivalent\", 56333.26799423], [1992, \"carbon_dioxide_co2_emissions_without_land_use_land_use_change_and_forestry_lulucf_in_kilotonne_co2_equivalent\", 54264.3793101323], [1991, \"carbon_dioxide_co2_emissions_without_land_use_land_use_change_and_forestry_lulucf_in_kilotonne_co2_equivalent\", 55187.1794528947], [1990, \"carbon_dioxide_co2_emissions_without_land_use_land_use_change_and_forestry_lulucf_in_kilotonne_co2_equivalent\", 56950.84818202019], [2014, \"greenhouse_gas_ghgs_emissions_including_indirect_co2_without_lulucf_in_kilotonne_co2_equivalent\", 59105.0771867268], [2013, \"greenhouse_gas_ghgs_emissions_including_indirect_co2_without_lulucf_in_kilotonne_co2_equivalent\", 63276.8885138436], [2012, \"greenhouse_gas_ghgs_emissions_including_indirect_co2_without_lulucf_in_kilotonne_co2_equivalent\", 62403.7480573425], [2011, \"greenhouse_gas_ghgs_emissions_including_indirect_co2_without_lulucf_in_kilotonne_co2_equivalent\", 68033.9654261421], [2010, \"greenhouse_gas_ghgs_emissions_including_indirect_co2_without_lulucf_in_kilotonne_co2_equivalent\", 75930.9702322258], [2009, \"greenhouse_gas_ghgs_emissions_including_indirect_co2_without_lulucf_in_kilotonne_co2_equivalent\", 67670.2911623919], [2008, \"greenhouse_gas_ghgs_emissions_including_indirect_co2_without_lulucf_in_kilotonne_co2_equivalent\", 71324.5754374347], [2007, \"greenhouse_gas_ghgs_emissions_including_indirect_co2_without_lulucf_in_kilotonne_co2_equivalent\", 79212.739202928], [2006, \"greenhouse_gas_ghgs_emissions_including_indirect_co2_without_lulucf_in_kilotonne_co2_equivalent\", 80739.06851817759], [2005, \"greenhouse_gas_ghgs_emissions_including_indirect_co2_without_lulucf_in_kilotonne_co2_equivalent\", 69548.8578469739], [2004, \"greenhouse_gas_ghgs_emissions_including_indirect_co2_without_lulucf_in_kilotonne_co2_equivalent\", 81433.97219130759], [2003, \"greenhouse_gas_ghgs_emissions_including_indirect_co2_without_lulucf_in_kilotonne_co2_equivalent\", 85219.2986612438], [2002, \"greenhouse_gas_ghgs_emissions_including_indirect_co2_without_lulucf_in_kilotonne_co2_equivalent\", 77740.96020796741], [2001, \"greenhouse_gas_ghgs_emissions_including_indirect_co2_without_lulucf_in_kilotonne_co2_equivalent\", 75324.0562236299], [2000, \"greenhouse_gas_ghgs_emissions_including_indirect_co2_without_lulucf_in_kilotonne_co2_equivalent\", 70009.50458996299], [1999, \"greenhouse_gas_ghgs_emissions_including_indirect_co2_without_lulucf_in_kilotonne_co2_equivalent\", 71916.2671877857], [1998, \"greenhouse_gas_ghgs_emissions_including_indirect_co2_without_lulucf_in_kilotonne_co2_equivalent\", 72547.80106975509], [1997, \"greenhouse_gas_ghgs_emissions_including_indirect_co2_without_lulucf_in_kilotonne_co2_equivalent\", 76216.9343799597], [1996, \"greenhouse_gas_ghgs_emissions_including_indirect_co2_without_lulucf_in_kilotonne_co2_equivalent\", 77635.8988543123], [1995, \"greenhouse_gas_ghgs_emissions_including_indirect_co2_without_lulucf_in_kilotonne_co2_equivalent\", 71848.4217814197], [1994, \"greenhouse_gas_ghgs_emissions_including_indirect_co2_without_lulucf_in_kilotonne_co2_equivalent\", 75401.5416216613], [1993, \"greenhouse_gas_ghgs_emissions_including_indirect_co2_without_lulucf_in_kilotonne_co2_equivalent\", 69898.9316762607], [1992, \"greenhouse_gas_ghgs_emissions_including_indirect_co2_without_lulucf_in_kilotonne_co2_equivalent\", 67657.2551627947], [1991, \"greenhouse_gas_ghgs_emissions_including_indirect_co2_without_lulucf_in_kilotonne_co2_equivalent\", 69069.9524625108], [1990, \"greenhouse_gas_ghgs_emissions_including_indirect_co2_without_lulucf_in_kilotonne_co2_equivalent\", 71338.5623970918], [2014, \"greenhouse_gas_ghgs_emissions_without_land_use_land_use_change_and_forestry_lulucf_in_kilotonne_co2_equivalent\", 59028.9870736425], [2013, \"greenhouse_gas_ghgs_emissions_without_land_use_land_use_change_and_forestry_lulucf_in_kilotonne_co2_equivalent\", 63196.6016281563], [2012, \"greenhouse_gas_ghgs_emissions_without_land_use_land_use_change_and_forestry_lulucf_in_kilotonne_co2_equivalent\", 62320.6350025736], [2011, \"greenhouse_gas_ghgs_emissions_without_land_use_land_use_change_and_forestry_lulucf_in_kilotonne_co2_equivalent\", 67947.0752353953], [2010, \"greenhouse_gas_ghgs_emissions_without_land_use_land_use_change_and_forestry_lulucf_in_kilotonne_co2_equivalent\", 75835.02042471571], [2009, \"greenhouse_gas_ghgs_emissions_without_land_use_land_use_change_and_forestry_lulucf_in_kilotonne_co2_equivalent\", 67575.29720161611], [2008, \"greenhouse_gas_ghgs_emissions_without_land_use_land_use_change_and_forestry_lulucf_in_kilotonne_co2_equivalent\", 71219.4402188768], [2007, \"greenhouse_gas_ghgs_emissions_without_land_use_land_use_change_and_forestry_lulucf_in_kilotonne_co2_equivalent\", 79096.3253832404], [2006, \"greenhouse_gas_ghgs_emissions_without_land_use_land_use_change_and_forestry_lulucf_in_kilotonne_co2_equivalent\", 80616.21920221], [2005, \"greenhouse_gas_ghgs_emissions_without_land_use_land_use_change_and_forestry_lulucf_in_kilotonne_co2_equivalent\", 69426.5733995718], [2004, \"greenhouse_gas_ghgs_emissions_without_land_use_land_use_change_and_forestry_lulucf_in_kilotonne_co2_equivalent\", 81300.6190152811], [2003, \"greenhouse_gas_ghgs_emissions_without_land_use_land_use_change_and_forestry_lulucf_in_kilotonne_co2_equivalent\", 85082.5791584517], [2002, \"greenhouse_gas_ghgs_emissions_without_land_use_land_use_change_and_forestry_lulucf_in_kilotonne_co2_equivalent\", 77600.20469346941], [2001, \"greenhouse_gas_ghgs_emissions_without_land_use_land_use_change_and_forestry_lulucf_in_kilotonne_co2_equivalent\", 75171.3885800538], [2000, \"greenhouse_gas_ghgs_emissions_without_land_use_land_use_change_and_forestry_lulucf_in_kilotonne_co2_equivalent\", 69855.01064532429], [1999, \"greenhouse_gas_ghgs_emissions_without_land_use_land_use_change_and_forestry_lulucf_in_kilotonne_co2_equivalent\", 71755.398003318], [1998, \"greenhouse_gas_ghgs_emissions_without_land_use_land_use_change_and_forestry_lulucf_in_kilotonne_co2_equivalent\", 72378.9825031932], [1997, \"greenhouse_gas_ghgs_emissions_without_land_use_land_use_change_and_forestry_lulucf_in_kilotonne_co2_equivalent\", 76038.3268859278], [1996, \"greenhouse_gas_ghgs_emissions_without_land_use_land_use_change_and_forestry_lulucf_in_kilotonne_co2_equivalent\", 77446.12727040281], [1995, \"greenhouse_gas_ghgs_emissions_without_land_use_land_use_change_and_forestry_lulucf_in_kilotonne_co2_equivalent\", 71644.301372275], [1994, \"greenhouse_gas_ghgs_emissions_without_land_use_land_use_change_and_forestry_lulucf_in_kilotonne_co2_equivalent\", 75186.22054528231], [1993, \"greenhouse_gas_ghgs_emissions_without_land_use_land_use_change_and_forestry_lulucf_in_kilotonne_co2_equivalent\", 69675.9495168867], [1992, \"greenhouse_gas_ghgs_emissions_without_land_use_land_use_change_and_forestry_lulucf_in_kilotonne_co2_equivalent\", 67421.2277150837], [1991, \"greenhouse_gas_ghgs_emissions_without_land_use_land_use_change_and_forestry_lulucf_in_kilotonne_co2_equivalent\", 68823.8503769894], [1990, \"greenhouse_gas_ghgs_emissions_without_land_use_land_use_change_and_forestry_lulucf_in_kilotonne_co2_equivalent\", 71076.99553431981], [2014, \"hydrofluorocarbons_hfcs_emissions_in_kilotonne_co2_equivalent\", 1743.2789877172102], [2013, \"hydrofluorocarbons_hfcs_emissions_in_kilotonne_co2_equivalent\", 1612.49060382639], [2012, \"hydrofluorocarbons_hfcs_emissions_in_kilotonne_co2_equivalent\", 1517.24760807946], [2011, \"hydrofluorocarbons_hfcs_emissions_in_kilotonne_co2_equivalent\", 1587.89581113814], [2010, \"hydrofluorocarbons_hfcs_emissions_in_kilotonne_co2_equivalent\", 1820.34465424587], [2009, \"hydrofluorocarbons_hfcs_emissions_in_kilotonne_co2_equivalent\", 1425.5620974960998], [2008, \"hydrofluorocarbons_hfcs_emissions_in_kilotonne_co2_equivalent\", 1338.7891627285198], [2007, \"hydrofluorocarbons_hfcs_emissions_in_kilotonne_co2_equivalent\", 1149.94356980483], [2006, \"hydrofluorocarbons_hfcs_emissions_in_kilotonne_co2_equivalent\", 910.5522551728751], [2005, \"hydrofluorocarbons_hfcs_emissions_in_kilotonne_co2_equivalent\", 895.4224777880639], [2004, \"hydrofluorocarbons_hfcs_emissions_in_kilotonne_co2_equivalent\", 688.64946146022], [2003, \"hydrofluorocarbons_hfcs_emissions_in_kilotonne_co2_equivalent\", 635.744609730428], [2002, \"hydrofluorocarbons_hfcs_emissions_in_kilotonne_co2_equivalent\", 634.0249759806591], [2001, \"hydrofluorocarbons_hfcs_emissions_in_kilotonne_co2_equivalent\", 592.117170735794], [2000, \"hydrofluorocarbons_hfcs_emissions_in_kilotonne_co2_equivalent\", 559.31846514369], [1999, \"hydrofluorocarbons_hfcs_emissions_in_kilotonne_co2_equivalent\", 330.627569534521], [1998, \"hydrofluorocarbons_hfcs_emissions_in_kilotonne_co2_equivalent\", 247.07648750263198], [1997, \"hydrofluorocarbons_hfcs_emissions_in_kilotonne_co2_equivalent\", 149.487601978443], [1996, \"hydrofluorocarbons_hfcs_emissions_in_kilotonne_co2_equivalent\", 74.188748278584], [1995, \"hydrofluorocarbons_hfcs_emissions_in_kilotonne_co2_equivalent\", 26.902252736683998], [1994, \"hydrofluorocarbons_hfcs_emissions_in_kilotonne_co2_equivalent\", 5.344578130212], [1993, \"hydrofluorocarbons_hfcs_emissions_in_kilotonne_co2_equivalent\", 0.19054196965599998], [1992, \"hydrofluorocarbons_hfcs_emissions_in_kilotonne_co2_equivalent\", 0.040504529712], [1991, \"hydrofluorocarbons_hfcs_emissions_in_kilotonne_co2_equivalent\", 0.03195116838], [1990, \"hydrofluorocarbons_hfcs_emissions_in_kilotonne_co2_equivalent\", 0.024024986], [2014, \"methane_ch4_emissions_without_land_use_land_use_change_and_forestry_lulucf_in_kilotonne_co2_equivalent\", 5016.974759271239], [2013, \"methane_ch4_emissions_without_land_use_land_use_change_and_forestry_lulucf_in_kilotonne_co2_equivalent\", 5122.63476634708], [2012, \"methane_ch4_emissions_without_land_use_land_use_change_and_forestry_lulucf_in_kilotonne_co2_equivalent\", 5264.8760815570295], [2011, \"methane_ch4_emissions_without_land_use_land_use_change_and_forestry_lulucf_in_kilotonne_co2_equivalent\", 5306.52535118825], [2010, \"methane_ch4_emissions_without_land_use_land_use_change_and_forestry_lulucf_in_kilotonne_co2_equivalent\", 5487.22228155129], [2009, \"methane_ch4_emissions_without_land_use_land_use_change_and_forestry_lulucf_in_kilotonne_co2_equivalent\", 5404.95544159765], [2008, \"methane_ch4_emissions_without_land_use_land_use_change_and_forestry_lulucf_in_kilotonne_co2_equivalent\", 5460.81837555993], [2007, \"methane_ch4_emissions_without_land_use_land_use_change_and_forestry_lulucf_in_kilotonne_co2_equivalent\", 5591.48730557558], [2006, \"methane_ch4_emissions_without_land_use_land_use_change_and_forestry_lulucf_in_kilotonne_co2_equivalent\", 5731.23824153894], [2005, \"methane_ch4_emissions_without_land_use_land_use_change_and_forestry_lulucf_in_kilotonne_co2_equivalent\", 5659.29231113621], [2004, \"methane_ch4_emissions_without_land_use_land_use_change_and_forestry_lulucf_in_kilotonne_co2_equivalent\", 5907.357864861109], [2003, \"methane_ch4_emissions_without_land_use_land_use_change_and_forestry_lulucf_in_kilotonne_co2_equivalent\", 6092.653114519279], [2002, \"methane_ch4_emissions_without_land_use_land_use_change_and_forestry_lulucf_in_kilotonne_co2_equivalent\", 6301.453498145811], [2001, \"methane_ch4_emissions_without_land_use_land_use_change_and_forestry_lulucf_in_kilotonne_co2_equivalent\", 6519.0265386705705], [2000, \"methane_ch4_emissions_without_land_use_land_use_change_and_forestry_lulucf_in_kilotonne_co2_equivalent\", 6661.09848014005], [1999, \"methane_ch4_emissions_without_land_use_land_use_change_and_forestry_lulucf_in_kilotonne_co2_equivalent\", 6911.88870684184], [1998, \"methane_ch4_emissions_without_land_use_land_use_change_and_forestry_lulucf_in_kilotonne_co2_equivalent\", 7062.38153640282], [1997, \"methane_ch4_emissions_without_land_use_land_use_change_and_forestry_lulucf_in_kilotonne_co2_equivalent\", 7308.33510699067], [1996, \"methane_ch4_emissions_without_land_use_land_use_change_and_forestry_lulucf_in_kilotonne_co2_equivalent\", 7392.08120336162], [1995, \"methane_ch4_emissions_without_land_use_land_use_change_and_forestry_lulucf_in_kilotonne_co2_equivalent\", 7469.55919015096], [1994, \"methane_ch4_emissions_without_land_use_land_use_change_and_forestry_lulucf_in_kilotonne_co2_equivalent\", 7674.10373712289], [1993, \"methane_ch4_emissions_without_land_use_land_use_change_and_forestry_lulucf_in_kilotonne_co2_equivalent\", 7707.9832414101], [1992, \"methane_ch4_emissions_without_land_use_land_use_change_and_forestry_lulucf_in_kilotonne_co2_equivalent\", 7669.45024354611], [1991, \"methane_ch4_emissions_without_land_use_land_use_change_and_forestry_lulucf_in_kilotonne_co2_equivalent\", 7714.302362410259], [1990, \"methane_ch4_emissions_without_land_use_land_use_change_and_forestry_lulucf_in_kilotonne_co2_equivalent\", 7744.716488145649], [2014, \"nitrous_oxide_n2o_emissions_without_land_use_land_use_change_and_forestry_lulucf_in_kilotonne_co2_equivalent\", 4626.44529423974], [2013, \"nitrous_oxide_n2o_emissions_without_land_use_land_use_change_and_forestry_lulucf_in_kilotonne_co2_equivalent\", 4589.41603649606], [2012, \"nitrous_oxide_n2o_emissions_without_land_use_land_use_change_and_forestry_lulucf_in_kilotonne_co2_equivalent\", 4527.42472097089], [2011, \"nitrous_oxide_n2o_emissions_without_land_use_land_use_change_and_forestry_lulucf_in_kilotonne_co2_equivalent\", 4547.93466904221], [2010, \"nitrous_oxide_n2o_emissions_without_land_use_land_use_change_and_forestry_lulucf_in_kilotonne_co2_equivalent\", 4676.58281741075], [2009, \"nitrous_oxide_n2o_emissions_without_land_use_land_use_change_and_forestry_lulucf_in_kilotonne_co2_equivalent\", 5070.90249707673], [2008, \"nitrous_oxide_n2o_emissions_without_land_use_land_use_change_and_forestry_lulucf_in_kilotonne_co2_equivalent\", 5917.6058746115], [2007, \"nitrous_oxide_n2o_emissions_without_land_use_land_use_change_and_forestry_lulucf_in_kilotonne_co2_equivalent\", 5793.79319374182], [2006, \"nitrous_oxide_n2o_emissions_without_land_use_land_use_change_and_forestry_lulucf_in_kilotonne_co2_equivalent\", 5725.750867327671], [2005, \"nitrous_oxide_n2o_emissions_without_land_use_land_use_change_and_forestry_lulucf_in_kilotonne_co2_equivalent\", 5921.3804785276], [2004, \"nitrous_oxide_n2o_emissions_without_land_use_land_use_change_and_forestry_lulucf_in_kilotonne_co2_equivalent\", 5844.56970927116], [2003, \"nitrous_oxide_n2o_emissions_without_land_use_land_use_change_and_forestry_lulucf_in_kilotonne_co2_equivalent\", 5787.699006248579], [2002, \"nitrous_oxide_n2o_emissions_without_land_use_land_use_change_and_forestry_lulucf_in_kilotonne_co2_equivalent\", 5676.418352843941], [2001, \"nitrous_oxide_n2o_emissions_without_land_use_land_use_change_and_forestry_lulucf_in_kilotonne_co2_equivalent\", 5569.394004287779], [2000, \"nitrous_oxide_n2o_emissions_without_land_use_land_use_change_and_forestry_lulucf_in_kilotonne_co2_equivalent\", 5621.95734522058], [1999, \"nitrous_oxide_n2o_emissions_without_land_use_land_use_change_and_forestry_lulucf_in_kilotonne_co2_equivalent\", 5573.50049147288], [1998, \"nitrous_oxide_n2o_emissions_without_land_use_land_use_change_and_forestry_lulucf_in_kilotonne_co2_equivalent\", 5678.76837027459], [1997, \"nitrous_oxide_n2o_emissions_without_land_use_land_use_change_and_forestry_lulucf_in_kilotonne_co2_equivalent\", 5831.75844753035], [1996, \"nitrous_oxide_n2o_emissions_without_land_use_land_use_change_and_forestry_lulucf_in_kilotonne_co2_equivalent\", 5886.29683034134], [1995, \"nitrous_oxide_n2o_emissions_without_land_use_land_use_change_and_forestry_lulucf_in_kilotonne_co2_equivalent\", 5984.195755668511], [1994, \"nitrous_oxide_n2o_emissions_without_land_use_land_use_change_and_forestry_lulucf_in_kilotonne_co2_equivalent\", 5786.16374762057], [1993, \"nitrous_oxide_n2o_emissions_without_land_use_land_use_change_and_forestry_lulucf_in_kilotonne_co2_equivalent\", 5614.44591958677], [1992, \"nitrous_oxide_n2o_emissions_without_land_use_land_use_change_and_forestry_lulucf_in_kilotonne_co2_equivalent\", 5461.41289768856], [1991, \"nitrous_oxide_n2o_emissions_without_land_use_land_use_change_and_forestry_lulucf_in_kilotonne_co2_equivalent\", 5881.936750306079], [1990, \"nitrous_oxide_n2o_emissions_without_land_use_land_use_change_and_forestry_lulucf_in_kilotonne_co2_equivalent\", 6328.71648460905], [2014, \"perfluorocarbons_pfcs_emissions_in_kilotonne_co2_equivalent\", 10.303868640736999], [2013, \"perfluorocarbons_pfcs_emissions_in_kilotonne_co2_equivalent\", 6.66307129273], [2012, \"perfluorocarbons_pfcs_emissions_in_kilotonne_co2_equivalent\", 5.65778724924], [2011, \"perfluorocarbons_pfcs_emissions_in_kilotonne_co2_equivalent\", 2.29971034165], [2010, \"perfluorocarbons_pfcs_emissions_in_kilotonne_co2_equivalent\", 1.060941], [2009, \"perfluorocarbons_pfcs_emissions_in_kilotonne_co2_equivalent\", 11.583874447780001], [2008, \"perfluorocarbons_pfcs_emissions_in_kilotonne_co2_equivalent\", 13.934893891920002], [2007, \"perfluorocarbons_pfcs_emissions_in_kilotonne_co2_equivalent\", 10.20663632902], [2006, \"perfluorocarbons_pfcs_emissions_in_kilotonne_co2_equivalent\", 19.2075921], [2005, \"perfluorocarbons_pfcs_emissions_in_kilotonne_co2_equivalent\", 15.9741532], [2004, \"perfluorocarbons_pfcs_emissions_in_kilotonne_co2_equivalent\", 14.3909954], [2003, \"perfluorocarbons_pfcs_emissions_in_kilotonne_co2_equivalent\", 18.32408905674], [2002, \"perfluorocarbons_pfcs_emissions_in_kilotonne_co2_equivalent\", 16.50458664744], [2001, \"perfluorocarbons_pfcs_emissions_in_kilotonne_co2_equivalent\", 22.6845372266], [2000, \"perfluorocarbons_pfcs_emissions_in_kilotonne_co2_equivalent\", 13.226121095], [1999, \"perfluorocarbons_pfcs_emissions_in_kilotonne_co2_equivalent\", 35.693488200000004], [1998, \"perfluorocarbons_pfcs_emissions_in_kilotonne_co2_equivalent\", 0.633393], [1997, \"perfluorocarbons_pfcs_emissions_in_kilotonne_co2_equivalent\", 0.5507770000000001], [1996, \"perfluorocarbons_pfcs_emissions_in_kilotonne_co2_equivalent\", 0.478937], [1995, \"perfluorocarbons_pfcs_emissions_in_kilotonne_co2_equivalent\", 0.416466], [1994, \"perfluorocarbons_pfcs_emissions_in_kilotonne_co2_equivalent\", 0.362145], [1993, \"perfluorocarbons_pfcs_emissions_in_kilotonne_co2_equivalent\", 0.31490799999999997], [1992, \"perfluorocarbons_pfcs_emissions_in_kilotonne_co2_equivalent\", 0.273833], [1991, \"perfluorocarbons_pfcs_emissions_in_kilotonne_co2_equivalent\", 0.238116], [1990, \"perfluorocarbons_pfcs_emissions_in_kilotonne_co2_equivalent\", 0.20705700000000002], [2014, \"sulphur_hexafluoride_sf6_emissions_in_kilotonne_co2_equivalent\", 34.25063652], [2013, \"sulphur_hexafluoride_sf6_emissions_in_kilotonne_co2_equivalent\", 30.70041204], [2012, \"sulphur_hexafluoride_sf6_emissions_in_kilotonne_co2_equivalent\", 22.15592964], [2011, \"sulphur_hexafluoride_sf6_emissions_in_kilotonne_co2_equivalent\", 23.67410498868], [2010, \"sulphur_hexafluoride_sf6_emissions_in_kilotonne_co2_equivalent\", 21.791502978144003], [2009, \"sulphur_hexafluoride_sf6_emissions_in_kilotonne_co2_equivalent\", 26.710521984108], [2008, \"sulphur_hexafluoride_sf6_emissions_in_kilotonne_co2_equivalent\", 26.658888399587997], [2007, \"sulphur_hexafluoride_sf6_emissions_in_kilotonne_co2_equivalent\", 19.173863533092], [2006, \"sulphur_hexafluoride_sf6_emissions_in_kilotonne_co2_equivalent\", 27.564248995128], [2005, \"sulphur_hexafluoride_sf6_emissions_in_kilotonne_co2_equivalent\", 22.189085937624], [2004, \"sulphur_hexafluoride_sf6_emissions_in_kilotonne_co2_equivalent\", 23.838093445812], [2003, \"sulphur_hexafluoride_sf6_emissions_in_kilotonne_co2_equivalent\", 25.56814686], [2002, \"sulphur_hexafluoride_sf6_emissions_in_kilotonne_co2_equivalent\", 25.33507386], [2001, \"sulphur_hexafluoride_sf6_emissions_in_kilotonne_co2_equivalent\", 25.526260531296], [2000, \"sulphur_hexafluoride_sf6_emissions_in_kilotonne_co2_equivalent\", 26.059706382048002], [1999, \"sulphur_hexafluoride_sf6_emissions_in_kilotonne_co2_equivalent\", 30.756944424084], [1998, \"sulphur_hexafluoride_sf6_emissions_in_kilotonne_co2_equivalent\", 38.624569714559996], [1997, \"sulphur_hexafluoride_sf6_emissions_in_kilotonne_co2_equivalent\", 50.108159919528], [1996, \"sulphur_hexafluoride_sf6_emissions_in_kilotonne_co2_equivalent\", 54.159349308492004], [1995, \"sulphur_hexafluoride_sf6_emissions_in_kilotonne_co2_equivalent\", 36.980164585872004], [1994, \"sulphur_hexafluoride_sf6_emissions_in_kilotonne_co2_equivalent\", 23.861008164012], [1993, \"sulphur_hexafluoride_sf6_emissions_in_kilotonne_co2_equivalent\", 19.746911690172], [1992, \"sulphur_hexafluoride_sf6_emissions_in_kilotonne_co2_equivalent\", 25.670926187016], [1991, \"sulphur_hexafluoride_sf6_emissions_in_kilotonne_co2_equivalent\", 40.161744209988], [1990, \"sulphur_hexafluoride_sf6_emissions_in_kilotonne_co2_equivalent\", 52.483297558872]], \"y\": [278265.89894076803, 279741.639011863, 284766.092717838, 289142.267681326, 293830.70914119197, 305162.543548735, 311914.819824229, 320439.116819391, 334328.142646602, 343713.906947774, 349885.43310892803, 357653.329899303, 361861.38789602794, 368345.97742510703, 381519.261592783, 385581.132806466, 391134.100909449, 398816.453543549, 404237.82821407705, 408448.47899963, 406200.993184341, 403705.52831399103, 406462.84770359995, 396913.93653029, 393126.94699428795, 62297.1655681668, 65903.51330825599, 60432.2493410185, 60790.7577213156, 61189.1025048542, 64202.1592201769, 67667.2626980903, 67455.8927304212, 67047.25066801769, 65660.1336422327, 66274.7432545115, 70299.4711482287, 72126.5914446168, 78023.9538963192, 78388.9974250799, 79588.5018807541, 76934.9515340371, 74268.1107226333, 74066.25579207629, 67682.72514935481, 72531.826129136, 70327.1670444138, 67698.6586349119, 67957.1211123863, 64262.5639931315, 100438.09506370801, 93649.166141388, 87060.81028961, 75551.755291625, 62402.279082903, 56005.93938238, 57251.355700374006, 60971.816305307, 57426.329584039006, 55033.952116896, 53686.857490672, 53783.847673632, 53843.704423847004, 54845.145835185, 58457.64761596, 59664.73908178, 62229.398882869005, 61563.881729087996, 63846.103794367, 59596.205375555, 61632.492704327, 61128.400592577, 60636.851387067, 61510.987153812996, 60615.645730992, 119982.50341850599, 123130.652897225, 122217.919518023, 121156.964954729, 124426.88570984801, 125519.441990638, 129010.471708927, 123495.742758683, 129737.090031462, 124208.07176996401, 126315.209948975, 125649.37053871699, 126015.194675856, 127523.989700176, 128640.48346799, 125118.01650407599, 122319.593759433, 118027.408646158, 120362.60984256199, 107282.543508312, 114155.386728776, 104945.713770963, 100931.595609756, 101744.736736883, 96325.4131833302, 78197.88125701991, 59769.3415026104, 56551.5935722778, 57203.9355176784, 55649.08131534309, 57221.6062924032, 57581.194759982005, 54790.134156638895, 52143.356769363796, 45751.789097251, 44896.670545605, 48568.917831870494, 45786.29471979821, 49971.1515762142, 49170.337689434804, 50191.116064429196, 51446.2829381283, 55184.4241047849, 53655.1401671903, 45487.8735503956, 47678.6489573594, 53020.9811161954, 48117.5560830313, 42534.9272034699, 45139.955286200995, 463493.33238757704, 454246.137946001, 468546.45891205897, 467607.237235461, 482691.67127179797, 497224.83692526, 510619.68221014796, 525120.011175522, 533794.453645326, 550183.063388038, 572290.3855184721, 564617.020300164, 569862.145645112, 587306.6785377121, 585414.8605743339, 579225.3357199039, 573479.269701141, 596041.321973836, 577444.930222255, 542829.458896225, 555003.760260925, 558152.72293811, 563423.613154917, 573094.038846396, 574099.775511611, 23390.075209187, 17268.9103457996, 16607.1344792414, 17081.2280227503, 16342.1818762402, 16992.8004192757, 17587.8984604534, 18666.4669752133, 19372.3876004329, 20215.653226001003, 19789.1217501208, 20943.109958683897, 22031.1266650621, 23355.2211046544, 23005.234853535298, 23451.845846674598, 23684.9350307817, 24955.3759314165, 23715.3843178607, 21965.6352675347, 21183.709310531, 20614.4404738916, 18776.381348248302, 18359.4998410627, 17607.3224145688, 4621.007176785, 5107.0828868809995, 5482.9748696609995, 5733.674102128, 5977.257104601999, 5848.043785196, 6156.132133960999, 6287.031657389, 6580.296149717, 6847.659115971999, 7095.964384675, 6969.466175788, 7160.3884576030005, 7550.081927808001, 7776.909404745, 7961.983988964001, 8152.492308125, 8458.664261444, 8620.395581741, 8372.396591774, 8004.912020821999, 7696.667805268001, 7160.971875548001, 6449.610812026999, 6878.555308563001, 161662.01887173599, 146047.33959314, 141565.719740237, 135588.565572531, 129188.73410927199, 129767.166426691, 132234.071786388, 128732.63871086901, 123696.517294897, 115475.25999595801, 125841.96926861301, 125541.536474736, 122593.400101873, 126151.648802001, 126876.91616231599, 124590.137925265, 125923.402444959, 126933.162985254, 121780.71631373199, 113970.029219436, 115757.36858641, 114113.146744787, 109841.328902436, 106477.08866661, 101159.12216724, 54306.4333356516, 64874.8138594637, 58960.3115236108, 61038.6712439614, 64988.7809040025, 61914.161012889694, 75110.840989738, 65457.834843324104, 61117.341629151604, 58456.415819836795, 54148.9049729906, 55845.14718054901, 55339.6716999691, 60493.961716299505, 54916.9105639724, 51307.2445174626, 59162.49963168849, 54429.0851744511, 50935.6715289027, 48592.21138513691, 48993.417375547404, 43970.7892561051, 39524.4020330104, 41537.0358081307, 37460.656458826496, 36666.027297448396, 33662.372514402996, 24187.827575952997, 18810.9639158495, 19626.445943231698, 17953.7359736926, 18666.1359705806, 18223.6042706384, 16684.3031468739, 15518.490620718701, 15141.3877177023, 15493.8609887605, 15020.2841500601, 16833.2142927367, 17055.0742451822, 16330.7338304477, 15719.5289253761, 18755.6479305233, 17264.5200333765, 14153.005161793999, 17833.779609148998, 18449.9308643309, 17304.637227643798, 19566.3683734371, 18918.7153387101, 4462205.14458363, 4403723.16147676, 4259922.81188982, 4177106.50927114, 4161321.31739286, 4204480.85553967, 4304793.28338046, 4216524.73281421, 4207666.03163804, 4139002.99479822, 4165145.4407136003, 4232036.86327499, 4208860.12268355, 4306103.94478558, 4314560.87112777, 4290586.66799942, 4297988.16195699, 4244213.12941646, 4149624.29618927, 3814305.25795781, 3933290.52224844, 3789763.64094378, 3728965.03097874, 3646389.52530377, 3463397.56376209, 56950.84818202019, 55187.1794528947, 54264.3793101323, 56333.26799423, 61696.3853292446, 58126.247543132995, 64038.9222021128, 62698.0867925088, 59351.4981462986, 58872.9308028447, 56973.350527342904, 62442.6400686017, 64946.46820599151, 72522.5901920366, 68821.8128908428, 56912.31489298231, 68201.9059970754, 66531.7208142561, 58461.6330236854, 55635.582769013796, 63828.0182275297, 56478.745588696394, 50983.2728750769, 51834.6967381541, 47597.7335272535, 400652.624020681, 425042.92070284794, 414955.076785321, 394334.83380057, 394536.96243659203, 401571.22545173205, 414013.070054113, 407475.111806521, 429051.49992304604, 420506.32195738796, 417116.544673865, 417864.70558616, 413569.247853298, 422312.88446679706, 423168.636085445, 428557.610248936, 417662.678913825, 408508.589897444, 401878.86465183, 383957.624293905, 394235.67413665896, 368183.438441815, 370491.15370314795, 369985.594525824, 341152.531504158, 1052238.2340002, 1014119.71977239, 965790.8352714891, 955977.599356065, 939207.328236553, 938148.0930919001, 958368.7246982291, 930768.560542915, 922778.540047935, 895336.786172859, 899284.993390718, 915634.439635279, 899161.567421003, 900377.585440517, 886344.629703686, 865958.513395873, 877422.45689212, 850795.7207596999, 853229.9407522541, 788422.437923384, 832259.203309583, 812483.2196210709, 817031.4401976591, 835792.632256705, 792902.788025434, 83403.7199982216, 83390.3546805713, 84949.02582987481, 84263.0078976228, 86425.85651187871, 86980.6457725937, 89134.4253965711, 93839.8699189575, 98663.19416252141, 97979.7783523224, 103019.66469008802, 105407.30759830901, 105051.46619910099, 109126.567554916, 109571.060909579, 113219.822395958, 111777.743714104, 114127.554270902, 110255.76552190699, 103969.78429385, 97035.0827603655, 94102.9439816174, 90710.5742463723, 82910.62595830549, 79628.2743994757, 73115.1986276439, 69392.7256389081, 62050.126397283304, 63174.978373230704, 61568.3745934751, 61354.4620207158, 62950.2532137021, 61549.912464161396, 61087.7637948753, 61593.1410164197, 58336.8070649933, 59995.734475138204, 58968.227770258396, 61766.839595490994, 60231.6619844867, 60329.505012084905, 59751.7310814697, 58419.039167147195, 57325.1623293437, 51630.690024407304, 52108.8927624657, 50272.8651021622, 46774.944845299906, 43930.8781767816, 43573.4088387418, 2106.02606837613, 2042.93697601045, 2172.61936326312, 2294.50464413142, 2248.36895252634, 2299.61365454463, 2385.91382557077, 2450.2439197906697, 2450.2342634285396, 2655.39472544564, 2728.93748510151, 2710.29472706565, 2795.90731167373, 2792.7231318536797, 2837.02901057771, 2797.3145919784497, 2939.27659673656, 3236.89533653359, 3567.2092596622706, 3521.8907096149, 3383.55221868805, 3298.56768958589, 3290.5764313292602, 3301.79631376577, 3272.20823296511, 32768.5267614461, 33508.44202382, 33344.1023763207, 33574.971741581496, 34696.485727221, 35718.7485642434, 37335.1081070614, 38675.594023595, 40572.1758596239, 42302.0878630807, 45123.335442264404, 47482.7207784323, 45952.7301698154, 45554.322521515, 46042.4022484132, 47952.2043880837, 47405.9667288105, 47493.1266838399, 47175.5402654915, 41996.3246778451, 41558.2750861697, 37895.195427036604, 38031.618716193596, 37049.423831397595, 36559.0685812916, 436204.249867101, 435938.613895185, 435535.83511771203, 429158.009174904, 421404.09992213297, 447201.16875556705, 440235.50720009796, 444055.43353522295, 454967.633181096, 459840.64226897, 465175.073350703, 471124.276709558, 473504.059244666, 489595.50811926, 492746.255602992, 490914.262890322, 486594.066569872, 478237.711240526, 467933.59324447, 418881.07690329297, 428879.68119438103, 416499.534208263, 389340.763399181, 362063.64929626795, 342826.677130676, 1155993.61991868, 1164474.34578731, 1174619.00608734, 1167714.71812869, 1228936.69128837, 1242494.02197198, 1255264.19757618, 1253057.30667741, 1218257.76164334, 1253082.14716425, 1274297.98807522, 1257384.56001844, 1294399.19841025, 1299490.60851261, 1298433.88847959, 1305938.82350271, 1285177.83728116, 1319799.19357988, 1235455.81022118, 1162606.19176432, 1212970.22514141, 1261862.93795353, 1296186.35836425, 1311509.14921749, 1265490.60931631, 19794.2944546485, 18021.1952417204, 14244.653385041102, 11966.1455063059, 10399.1411291737, 9141.35351650325, 9216.3839879477, 8677.545810834781, 8300.595278010831, 7709.04999256645, 7069.94204019894, 7480.50260667025, 7508.743242011859, 7703.77150791307, 7709.46076182043, 7790.40393195636, 8289.2066784209, 8610.25539674785, 8184.971246543109, 7443.28601054364, 8524.087226609341, 7807.65940956673, 7521.1225279261, 7353.22044369415, 7158.71803669862, 198.775112043709, 206.14670684560502, 206.776032802858, 214.86769081200902, 200.961153022994, 204.05592043076, 205.809089624326, 218.235372862382, 229.11710392683997, 226.448838014394, 216.750456413769, 214.58531081683898, 219.94720455154598, 229.265875097937, 229.29632162645302, 228.970323897819, 231.21730511588402, 200.920107913985, 219.698915477856, 205.59054373337898, 191.047501716787, 177.08804024541402, 185.63243136026, 192.86441578871498, 161.541816662752, 35812.8936845412, 37908.6124957275, 21207.8873890696, 16347.171825514799, 15765.4147628091, 15022.544134694399, 15676.831031798898, 15086.2857611334, 15901.5175726569, 13422.1511465775, 11801.964898672, 12507.966675104099, 12614.4250089828, 12605.238201652099, 13185.4933655222, 13946.884303249699, 14303.032680413, 15624.07633974, 14963.254716258401, 12727.12003622, 13618.9126645228, 13919.015498466599, 13975.5232139658, 12987.817531471599, 12732.798863701, 11944.007385281202, 12467.513194858899, 12253.5715940463, 12375.507079302, 11560.571694451799, 9155.85264991365, 9217.19030053529, 8530.7453454746, 7619.363289974209, 7986.155880568521, 8798.1820808658, 9311.91612729174, 10068.1403163216, 10443.3832173203, 11871.1077184731, 12130.9137942819, 11995.820174913999, 11398.7059208596, 11245.8724868627, 10725.5221348792, 11285.027417134399, 11168.5116663343, 10872.0644823704, 10303.0396071267, 9826.25327758284, 1860.47364818374, 2041.24609263112, 2174.6344662953, 2252.06276712832, 2302.77027658996, 2313.21608944717, 2329.18169821771, 2331.95473493565, 2338.06278770006, 2418.5555646106895, 2414.28381121499, 2550.60406083421, 2464.21222943374, 2666.13432525932, 2604.7448318278603, 2736.31293358517, 2776.31430670588, 2831.64226468627, 2822.40616690519, 2684.52129301397, 2690.51803520544, 2785.89656845722, 2868.6381281432696, 2476.0744290959196, 2483.5367864507, 95.3851833205759, 96.14720457957961, 101.74260303885401, 100.88193845588499, 101.872636286934, 98.99042989343651, 102.31953844658001, 101.0844813444, 99.81685913522449, 100.659281930126, 98.3243559267737, 98.5488680526432, 98.16127571954571, 95.29885497874581, 90.2005037527358, 88.7506912513649, 82.1239180016564, 82.7191922532151, 81.376901087813, 77.7719361035662, 75.4682651256747, 71.88189545089949, 75.1655688427013, 74.4309201897803, 162497.55962272198, 171081.473914794, 170975.24288850802, 171497.891064769, 175008.703110698, 173196.297429017, 182573.582902116, 175487.970753103, 176617.168521043, 171228.109552445, 172059.812230581, 177037.401595998, 176462.400587543, 179867.888967448, 181546.25702136, 177540.473199828, 172772.89277910301, 173178.42039588199, 176174.418350642, 170796.156580042, 182529.786939532, 169792.13654140302, 165665.023774753, 165475.88439356, 157789.581719585, 25419.7716716116, 26108.064501553, 28099.6999900939, 27697.2273476821, 27879.0592141093, 28143.4576273053, 29368.264992275897, 31363.452619479198, 29927.501379690697, 31523.186091685402, 32355.957023316, 34581.7227646535, 34768.2781829264, 36497.1710064703, 36063.663329171, 37645.434299041, 37519.1047271712, 36651.3714858119, 37674.0517694367, 34806.4020881589, 35017.2413542609, 34366.5826844218, 35621.026019351804, 35094.2867396817, 35616.9853050414, 35694.8243978959, 34070.978364376, 34833.2478178252, 36520.7838206741, 38434.7651928654, 38464.9066615123, 41586.7085615304, 41683.1333687712, 41939.0379176034, 42691.7563679429, 42194.6191784625, 43530.3487635507, 42655.8748276072, 43906.7096554175, 44320.004884584196, 43548.2302876495, 43913.7448222241, 45842.8095311711, 44893.0941871551, 43212.0924688473, 45833.8920681508, 44946.8693532922, 44553.965659781905, 44309.0559727695, 43869.451092480296, 378782.53916616796, 375684.15694778, 365865.15951878, 366427.66091343603, 362012.958757259, 363885.77757322794, 377308.59613738, 368415.85328044294, 339145.82962033, 329380.898350257, 319120.405105406, 315274.093567475, 307535.64219939697, 320230.170467384, 324279.449842642, 323372.578397668, 336500.578934838, 336268.110889212, 329338.17108487897, 315937.965878291, 334026.154705205, 333713.650695256, 326597.79054972896, 322440.486501595, 310307.297357959, 45809.0714101803, 47406.842485675304, 51850.565673314806, 50502.1225996005, 51303.204149317804, 55134.32946640481, 52348.468811075305, 55454.21105734981, 59976.20991864, 67612.8118918815, 66411.3299157974, 66113.7557093707, 69954.4945153443, 64697.2992169906, 67458.1591415789, 70034.5294076015, 65465.41971559, 62791.147766638496, 60550.040203182805, 58004.1969738053, 53583.885859873895, 52150.653443810996, 50262.422441618895, 48495.550477338, 48353.6903302063, 174731.886787722, 143586.607530198, 132732.908743069, 124819.100092444, 122610.776956391, 128587.00363972699, 131939.69450211, 123515.853269646, 106813.97752929901, 90443.3507659838, 95190.9034483113, 100377.98696272199, 100655.31311867, 105737.481034365, 104575.07775696699, 102414.252372896, 106175.991142102, 104540.350942151, 101035.42080608901, 85288.2940231284, 80795.77402592769, 86163.6343263804, 84661.2305445011, 74083.358238036, 74046.4676268308, 2589725.30553003, 2433187.64541119, 2013175.48242406, 1909577.84022625, 1685494.54694021, 1629496.29767829, 1581293.21958917, 1502079.86636293, 1476588.92527691, 1512651.93084896, 1504182.72891476, 1542500.06477849, 1531200.21174359, 1568510.14348381, 1575180.85973468, 1593933.34385535, 1653289.19267186, 1653139.05550251, 1684999.82263502, 1576703.96685802, 1662592.25855081, 1717221.95058062, 1727489.10411795, 1666644.42307436, 1671568.65225681, 61837.5667856109, 53447.440015000306, 48979.1257649755, 46467.5491941913, 43638.4901175531, 44679.5449583075, 44978.911578943495, 45040.2697406883, 44016.987001717695, 43181.3144851094, 41155.011450614904, 43468.0933515512, 41593.5332476528, 42060.5502497607, 42576.9588896981, 42581.0225015084, 42320.4844795718, 40725.2998364864, 41236.324036934, 37433.4334191131, 38385.9425232062, 37880.853145543304, 35867.8962742317, 35395.154862923904, 33387.4287224285, 15088.305046245601, 14007.2826135476, 14009.3986307298, 14303.993650433702, 14648.7255407292, 15277.744775225901, 15945.176113675301, 16275.559666751598, 15980.4778466171, 15353.0714374852, 15460.154173141002, 16384.7561407934, 16526.3127114803, 16289.385897298, 16639.1710998347, 16938.3242617391, 17129.8019864058, 17272.379186678798, 18219.7304323115, 16328.2103332782, 16363.4297727931, 16348.2391107374, 15800.18723876, 15148.7253832075, 13489.9800352085, 230154.963134126, 239725.18368910602, 248407.16013564102, 239938.28725599102, 252389.348341529, 265725.3506663, 253708.870128625, 266391.92680196, 274911.096949235, 298531.02791303396, 311599.72388392803, 312395.403164009, 332200.842752654, 336672.422515549, 353472.612328343, 368745.068407983, 360063.336319558, 367292.283251434, 335994.803720112, 296617.991048484, 283581.400657324, 283918.679194864, 279830.308257069, 252259.69048815302, 253466.91795777602, 57546.5432515479, 57755.634675433, 57482.0646582609, 57425.9514469075, 59876.998756461, 59318.672714076, 63238.7859377907, 58154.52971929179, 58733.4063631372, 55861.2192155216, 54730.4244140378, 55686.7457499206, 56631.8961687906, 57203.59907400559, 56428.8031427144, 53859.20572584731, 53697.6559330674, 52911.72672728769, 50831.576814380096, 47267.446667312695, 53057.7346342268, 49133.5869433916, 46559.640023029904, 44899.151935718604, 43404.9031709849, 44115.53408597309, 46144.809538992995, 45974.7025405505, 43556.2764199287, 42613.303737038, 43368.4571561622, 44088.334946669405, 42971.6244552183, 44522.371421324904, 44354.5431186679, 43545.9597055165, 45002.278774229904, 43373.9855504706, 44587.9802671018, 45149.667089312, 45778.0894571267, 45351.1719954308, 43360.3856976932, 44676.9439665557, 43509.0865581053, 45027.0644798623, 40973.1491672158, 42241.5536052143, 43181.659439514304, 39265.0525915552, 146750.63697943, 152335.17422431402, 158571.546483621, 167443.152055541, 164623.553279146, 178812.409473623, 194751.77940590002, 208480.069613411, 208365.343988278, 206388.619824108, 232549.18950468, 217469.50328560802, 226365.412047989, 240902.462872633, 253172.078433031, 279130.740814477, 302195.954579745, 333166.418749646, 323536.545145816, 310580.701035275, 320356.658972933, 338094.408177677, 363126.007248006, 354961.042273042, 382213.40168630704, 693024.76655995, 621305.2363994321, 577064.259624575, 498504.838991931, 409721.673978029, 380871.283680675, 344347.189394243, 334208.70221489196, 309207.662874893, 284109.569319534, 271429.773920677, 290774.709706588, 281939.349721843, 285720.47993753, 296753.731531998, 307341.483489843, 325586.622022044, 330087.250809744, 317063.84372919396, 269598.42182821897, 287113.606385185, 301273.502167972, 295706.06434745603, 287436.404374375, 247561.22104158, 596398.4732074271, 604652.896877579, 589306.018141796, 574764.752712009, 569458.364876459, 561202.9539948001, 582752.784369152, 557608.779401985, 561253.722845185, 553827.549146135, 561280.866183966, 570697.030328595, 554227.635799311, 565475.5203474, 566598.164015122, 563783.537554562, 562083.094783584, 553719.939024983, 539916.163191626, 489012.500484764, 507595.711988819, 464885.74892695295, 484388.090389505, 475832.05058692704, 434794.556933168, 5115095.04749812, 5064879.75034285, 5170274.35048577, 5284758.62020545, 5377492.21747199, 5441599.22972902, 5630113.71546884, 5704996.86860223, 5744672.1958021, 5818972.385413901, 5992438.03977823, 5894462.94151346, 5935738.78360961, 5982289.16712555, 6096978.36306809, 6122746.6118598, 6042393.61487176, 6121653.86307212, 5923201.37582301, 5488320.28042503, 5688756.00501015, 5559507.66443653, 5349220.94664921, 5502550.71398641, 5556006.57780565]}],                        {\"paper_bgcolor\": \"rgba(233,233,233,1)\", \"plot_bgcolor\": \"rgba(240,235,228,1)\", \"template\": {\"data\": {\"bar\": [{\"error_x\": {\"color\": \"#2a3f5f\"}, \"error_y\": {\"color\": \"#2a3f5f\"}, \"marker\": {\"line\": {\"color\": \"#E5ECF6\", \"width\": 0.5}}, \"type\": \"bar\"}], \"barpolar\": [{\"marker\": {\"line\": {\"color\": \"#E5ECF6\", \"width\": 0.5}}, \"type\": \"barpolar\"}], \"carpet\": [{\"aaxis\": {\"endlinecolor\": \"#2a3f5f\", \"gridcolor\": \"white\", \"linecolor\": \"white\", \"minorgridcolor\": \"white\", \"startlinecolor\": \"#2a3f5f\"}, \"baxis\": {\"endlinecolor\": \"#2a3f5f\", \"gridcolor\": \"white\", \"linecolor\": \"white\", \"minorgridcolor\": \"white\", \"startlinecolor\": \"#2a3f5f\"}, \"type\": \"carpet\"}], \"choropleth\": [{\"colorbar\": {\"outlinewidth\": 0, \"ticks\": \"\"}, \"type\": \"choropleth\"}], \"contour\": [{\"colorbar\": {\"outlinewidth\": 0, \"ticks\": \"\"}, \"colorscale\": [[0.0, \"#0d0887\"], [0.1111111111111111, \"#46039f\"], [0.2222222222222222, \"#7201a8\"], [0.3333333333333333, \"#9c179e\"], [0.4444444444444444, \"#bd3786\"], [0.5555555555555556, \"#d8576b\"], [0.6666666666666666, \"#ed7953\"], [0.7777777777777778, \"#fb9f3a\"], [0.8888888888888888, \"#fdca26\"], [1.0, \"#f0f921\"]], \"type\": \"contour\"}], \"contourcarpet\": [{\"colorbar\": {\"outlinewidth\": 0, \"ticks\": \"\"}, \"type\": \"contourcarpet\"}], \"heatmap\": [{\"colorbar\": {\"outlinewidth\": 0, \"ticks\": \"\"}, \"colorscale\": [[0.0, \"#0d0887\"], [0.1111111111111111, \"#46039f\"], [0.2222222222222222, \"#7201a8\"], [0.3333333333333333, \"#9c179e\"], [0.4444444444444444, \"#bd3786\"], [0.5555555555555556, \"#d8576b\"], [0.6666666666666666, \"#ed7953\"], [0.7777777777777778, \"#fb9f3a\"], [0.8888888888888888, \"#fdca26\"], [1.0, \"#f0f921\"]], \"type\": \"heatmap\"}], \"heatmapgl\": [{\"colorbar\": {\"outlinewidth\": 0, \"ticks\": \"\"}, \"colorscale\": [[0.0, \"#0d0887\"], [0.1111111111111111, \"#46039f\"], [0.2222222222222222, \"#7201a8\"], [0.3333333333333333, \"#9c179e\"], [0.4444444444444444, \"#bd3786\"], [0.5555555555555556, \"#d8576b\"], [0.6666666666666666, \"#ed7953\"], [0.7777777777777778, \"#fb9f3a\"], [0.8888888888888888, \"#fdca26\"], [1.0, \"#f0f921\"]], \"type\": \"heatmapgl\"}], \"histogram\": [{\"marker\": {\"colorbar\": {\"outlinewidth\": 0, \"ticks\": \"\"}}, \"type\": \"histogram\"}], \"histogram2d\": [{\"colorbar\": {\"outlinewidth\": 0, \"ticks\": \"\"}, \"colorscale\": [[0.0, \"#0d0887\"], [0.1111111111111111, \"#46039f\"], [0.2222222222222222, \"#7201a8\"], [0.3333333333333333, \"#9c179e\"], [0.4444444444444444, \"#bd3786\"], [0.5555555555555556, \"#d8576b\"], [0.6666666666666666, \"#ed7953\"], [0.7777777777777778, \"#fb9f3a\"], [0.8888888888888888, \"#fdca26\"], [1.0, \"#f0f921\"]], \"type\": \"histogram2d\"}], \"histogram2dcontour\": [{\"colorbar\": {\"outlinewidth\": 0, \"ticks\": \"\"}, \"colorscale\": [[0.0, \"#0d0887\"], [0.1111111111111111, \"#46039f\"], [0.2222222222222222, \"#7201a8\"], [0.3333333333333333, \"#9c179e\"], [0.4444444444444444, \"#bd3786\"], [0.5555555555555556, \"#d8576b\"], [0.6666666666666666, \"#ed7953\"], [0.7777777777777778, \"#fb9f3a\"], [0.8888888888888888, \"#fdca26\"], [1.0, \"#f0f921\"]], \"type\": \"histogram2dcontour\"}], \"mesh3d\": [{\"colorbar\": {\"outlinewidth\": 0, \"ticks\": \"\"}, \"type\": \"mesh3d\"}], \"parcoords\": [{\"line\": {\"colorbar\": {\"outlinewidth\": 0, \"ticks\": \"\"}}, \"type\": \"parcoords\"}], \"pie\": [{\"automargin\": true, \"type\": \"pie\"}], \"scatter\": [{\"marker\": {\"colorbar\": {\"outlinewidth\": 0, \"ticks\": \"\"}}, \"type\": \"scatter\"}], \"scatter3d\": [{\"line\": {\"colorbar\": {\"outlinewidth\": 0, \"ticks\": \"\"}}, \"marker\": {\"colorbar\": {\"outlinewidth\": 0, \"ticks\": \"\"}}, \"type\": \"scatter3d\"}], \"scattercarpet\": [{\"marker\": {\"colorbar\": {\"outlinewidth\": 0, \"ticks\": \"\"}}, \"type\": \"scattercarpet\"}], \"scattergeo\": [{\"marker\": {\"colorbar\": {\"outlinewidth\": 0, \"ticks\": \"\"}}, \"type\": \"scattergeo\"}], \"scattergl\": [{\"marker\": {\"colorbar\": {\"outlinewidth\": 0, \"ticks\": \"\"}}, \"type\": \"scattergl\"}], \"scattermapbox\": [{\"marker\": {\"colorbar\": {\"outlinewidth\": 0, \"ticks\": \"\"}}, \"type\": \"scattermapbox\"}], \"scatterpolar\": [{\"marker\": {\"colorbar\": {\"outlinewidth\": 0, \"ticks\": \"\"}}, \"type\": \"scatterpolar\"}], \"scatterpolargl\": [{\"marker\": {\"colorbar\": {\"outlinewidth\": 0, \"ticks\": \"\"}}, \"type\": \"scatterpolargl\"}], \"scatterternary\": [{\"marker\": {\"colorbar\": {\"outlinewidth\": 0, \"ticks\": \"\"}}, \"type\": \"scatterternary\"}], \"surface\": [{\"colorbar\": {\"outlinewidth\": 0, \"ticks\": \"\"}, \"colorscale\": [[0.0, \"#0d0887\"], [0.1111111111111111, \"#46039f\"], [0.2222222222222222, \"#7201a8\"], [0.3333333333333333, \"#9c179e\"], [0.4444444444444444, \"#bd3786\"], [0.5555555555555556, \"#d8576b\"], [0.6666666666666666, \"#ed7953\"], [0.7777777777777778, \"#fb9f3a\"], [0.8888888888888888, \"#fdca26\"], [1.0, \"#f0f921\"]], \"type\": \"surface\"}], \"table\": [{\"cells\": {\"fill\": {\"color\": \"#EBF0F8\"}, \"line\": {\"color\": \"white\"}}, \"header\": {\"fill\": {\"color\": \"#C8D4E3\"}, \"line\": {\"color\": \"white\"}}, \"type\": \"table\"}]}, \"layout\": {\"annotationdefaults\": {\"arrowcolor\": \"#2a3f5f\", \"arrowhead\": 0, \"arrowwidth\": 1}, \"coloraxis\": {\"colorbar\": {\"outlinewidth\": 0, \"ticks\": \"\"}}, \"colorscale\": {\"diverging\": [[0, \"#8e0152\"], [0.1, \"#c51b7d\"], [0.2, \"#de77ae\"], [0.3, \"#f1b6da\"], [0.4, \"#fde0ef\"], [0.5, \"#f7f7f7\"], [0.6, \"#e6f5d0\"], [0.7, \"#b8e186\"], [0.8, \"#7fbc41\"], [0.9, \"#4d9221\"], [1, \"#276419\"]], \"sequential\": [[0.0, \"#0d0887\"], [0.1111111111111111, \"#46039f\"], [0.2222222222222222, \"#7201a8\"], [0.3333333333333333, \"#9c179e\"], [0.4444444444444444, \"#bd3786\"], [0.5555555555555556, \"#d8576b\"], [0.6666666666666666, \"#ed7953\"], [0.7777777777777778, \"#fb9f3a\"], [0.8888888888888888, \"#fdca26\"], [1.0, \"#f0f921\"]], \"sequentialminus\": [[0.0, \"#0d0887\"], [0.1111111111111111, \"#46039f\"], [0.2222222222222222, \"#7201a8\"], [0.3333333333333333, \"#9c179e\"], [0.4444444444444444, \"#bd3786\"], [0.5555555555555556, \"#d8576b\"], [0.6666666666666666, \"#ed7953\"], [0.7777777777777778, \"#fb9f3a\"], [0.8888888888888888, \"#fdca26\"], [1.0, \"#f0f921\"]]}, \"colorway\": [\"#636efa\", \"#EF553B\", \"#00cc96\", \"#ab63fa\", \"#FFA15A\", \"#19d3f3\", \"#FF6692\", \"#B6E880\", \"#FF97FF\", \"#FECB52\"], \"font\": {\"color\": \"#2a3f5f\"}, \"geo\": {\"bgcolor\": \"white\", \"lakecolor\": \"white\", \"landcolor\": \"#E5ECF6\", \"showlakes\": true, \"showland\": true, \"subunitcolor\": \"white\"}, \"hoverlabel\": {\"align\": \"left\"}, \"hovermode\": \"closest\", \"mapbox\": {\"style\": \"light\"}, \"paper_bgcolor\": \"white\", \"plot_bgcolor\": \"#E5ECF6\", \"polar\": {\"angularaxis\": {\"gridcolor\": \"white\", \"linecolor\": \"white\", \"ticks\": \"\"}, \"bgcolor\": \"#E5ECF6\", \"radialaxis\": {\"gridcolor\": \"white\", \"linecolor\": \"white\", \"ticks\": \"\"}}, \"scene\": {\"xaxis\": {\"backgroundcolor\": \"#E5ECF6\", \"gridcolor\": \"white\", \"gridwidth\": 2, \"linecolor\": \"white\", \"showbackground\": true, \"ticks\": \"\", \"zerolinecolor\": \"white\"}, \"yaxis\": {\"backgroundcolor\": \"#E5ECF6\", \"gridcolor\": \"white\", \"gridwidth\": 2, \"linecolor\": \"white\", \"showbackground\": true, \"ticks\": \"\", \"zerolinecolor\": \"white\"}, \"zaxis\": {\"backgroundcolor\": \"#E5ECF6\", \"gridcolor\": \"white\", \"gridwidth\": 2, \"linecolor\": \"white\", \"showbackground\": true, \"ticks\": \"\", \"zerolinecolor\": \"white\"}}, \"shapedefaults\": {\"line\": {\"color\": \"#2a3f5f\"}}, \"ternary\": {\"aaxis\": {\"gridcolor\": \"white\", \"linecolor\": \"white\", \"ticks\": \"\"}, \"baxis\": {\"gridcolor\": \"white\", \"linecolor\": \"white\", \"ticks\": \"\"}, \"bgcolor\": \"#E5ECF6\", \"caxis\": {\"gridcolor\": \"white\", \"linecolor\": \"white\", \"ticks\": \"\"}}, \"title\": {\"x\": 0.05}, \"xaxis\": {\"automargin\": true, \"gridcolor\": \"white\", \"linecolor\": \"white\", \"ticks\": \"\", \"title\": {\"standoff\": 15}, \"zerolinecolor\": \"white\", \"zerolinewidth\": 2}, \"yaxis\": {\"automargin\": true, \"gridcolor\": \"white\", \"linecolor\": \"white\", \"ticks\": \"\", \"title\": {\"standoff\": 15}, \"zerolinecolor\": \"white\", \"zerolinewidth\": 2}}}, \"title\": {\"font\": {\"family\": \"Times New Roman\", \"size\": 22}, \"text\": \"Change in CO2 between 1880 ~ 2016\", \"x\": 0.5}, \"xaxis\": {\"color\": \"black\", \"showgrid\": true, \"title\": {\"text\": \"year\"}}, \"yaxis\": {\"color\": \"black\", \"showgrid\": true, \"title\": {\"text\": \"value\"}}},                        {\"responsive\": true}                    ).then(function(){\n",
       "                            \n",
       "var gd = document.getElementById('2d0251a5-5765-431f-82b2-d5121f7ddf80');\n",
       "var x = new MutationObserver(function (mutations, observer) {{\n",
       "        var display = window.getComputedStyle(gd).display;\n",
       "        if (!display || display === 'none') {{\n",
       "            console.log([gd, 'removed!']);\n",
       "            Plotly.purge(gd);\n",
       "            observer.disconnect();\n",
       "        }}\n",
       "}});\n",
       "\n",
       "// Listen for the removal of the full notebook cells\n",
       "var notebookContainer = gd.closest('#notebook-container');\n",
       "if (notebookContainer) {{\n",
       "    x.observe(notebookContainer, {childList: true});\n",
       "}}\n",
       "\n",
       "// Listen for the clearing of the current output cell\n",
       "var outputEl = gd.closest('.output');\n",
       "if (outputEl) {{\n",
       "    x.observe(outputEl, {childList: true});\n",
       "}}\n",
       "\n",
       "                        })                };                });            </script>        </div>"
      ]
     },
     "metadata": {},
     "output_type": "display_data"
    }
   ],
   "source": [
    "fig = go.Figure(layout = go.Layout(\n",
    "        xaxis=dict(showgrid = True,title = \"year\",color = 'black'),\n",
    "        yaxis=dict(showgrid = True,title = \"value\",color = 'black'),\n",
    "    ))\n",
    "\n",
    "fig.add_trace(go.Scatter(\n",
    "                x=finland_df.values,\n",
    "                y=graph['carbon_dioxide_co2_emissions_without_land_use_land_use_change_and_forestry_lulucf_in_kilotonne_co2_equivalent'],\n",
    "                name=\"CO2 emissions\",\n",
    "                line_color='rgb(203, 67, 53)',\n",
    "                opacity=0.8))\n",
    "fig.update_layout(title_text = \"Change in CO2 between 1880 ~ 2016\", title_x=0.5, title_font_family=\"Times New Roman\", \\\n",
    "                  title_font_size = 22, paper_bgcolor = 'rgba(233,233,233,1)', plot_bgcolor = 'rgba(240,235,228,1)')\n",
    "fig.show()"
   ]
  },
  {
   "cell_type": "code",
   "execution_count": 40,
   "metadata": {},
   "outputs": [
    {
     "data": {
      "application/vnd.plotly.v1+json": {
       "config": {
        "plotlyServerURL": "https://plot.ly"
       },
       "data": [
        {
         "line": {
          "color": "rgb(203, 67, 53)"
         },
         "name": "CO2 emissions",
         "opacity": 0.8,
         "type": "scatter",
         "x": [
          [
           2014,
           "carbon_dioxide_co2_emissions_without_land_use_land_use_change_and_forestry_lulucf_in_kilotonne_co2_equivalent",
           47597.7335272535
          ],
          [
           2013,
           "carbon_dioxide_co2_emissions_without_land_use_land_use_change_and_forestry_lulucf_in_kilotonne_co2_equivalent",
           51834.6967381541
          ],
          [
           2012,
           "carbon_dioxide_co2_emissions_without_land_use_land_use_change_and_forestry_lulucf_in_kilotonne_co2_equivalent",
           50983.2728750769
          ],
          [
           2011,
           "carbon_dioxide_co2_emissions_without_land_use_land_use_change_and_forestry_lulucf_in_kilotonne_co2_equivalent",
           56478.745588696394
          ],
          [
           2010,
           "carbon_dioxide_co2_emissions_without_land_use_land_use_change_and_forestry_lulucf_in_kilotonne_co2_equivalent",
           63828.0182275297
          ],
          [
           2009,
           "carbon_dioxide_co2_emissions_without_land_use_land_use_change_and_forestry_lulucf_in_kilotonne_co2_equivalent",
           55635.582769013796
          ],
          [
           2008,
           "carbon_dioxide_co2_emissions_without_land_use_land_use_change_and_forestry_lulucf_in_kilotonne_co2_equivalent",
           58461.6330236854
          ],
          [
           2007,
           "carbon_dioxide_co2_emissions_without_land_use_land_use_change_and_forestry_lulucf_in_kilotonne_co2_equivalent",
           66531.7208142561
          ],
          [
           2006,
           "carbon_dioxide_co2_emissions_without_land_use_land_use_change_and_forestry_lulucf_in_kilotonne_co2_equivalent",
           68201.9059970754
          ],
          [
           2005,
           "carbon_dioxide_co2_emissions_without_land_use_land_use_change_and_forestry_lulucf_in_kilotonne_co2_equivalent",
           56912.31489298231
          ],
          [
           2004,
           "carbon_dioxide_co2_emissions_without_land_use_land_use_change_and_forestry_lulucf_in_kilotonne_co2_equivalent",
           68821.8128908428
          ],
          [
           2003,
           "carbon_dioxide_co2_emissions_without_land_use_land_use_change_and_forestry_lulucf_in_kilotonne_co2_equivalent",
           72522.5901920366
          ],
          [
           2002,
           "carbon_dioxide_co2_emissions_without_land_use_land_use_change_and_forestry_lulucf_in_kilotonne_co2_equivalent",
           64946.46820599151
          ],
          [
           2001,
           "carbon_dioxide_co2_emissions_without_land_use_land_use_change_and_forestry_lulucf_in_kilotonne_co2_equivalent",
           62442.6400686017
          ],
          [
           2000,
           "carbon_dioxide_co2_emissions_without_land_use_land_use_change_and_forestry_lulucf_in_kilotonne_co2_equivalent",
           56973.350527342904
          ],
          [
           1999,
           "carbon_dioxide_co2_emissions_without_land_use_land_use_change_and_forestry_lulucf_in_kilotonne_co2_equivalent",
           58872.9308028447
          ],
          [
           1998,
           "carbon_dioxide_co2_emissions_without_land_use_land_use_change_and_forestry_lulucf_in_kilotonne_co2_equivalent",
           59351.4981462986
          ],
          [
           1997,
           "carbon_dioxide_co2_emissions_without_land_use_land_use_change_and_forestry_lulucf_in_kilotonne_co2_equivalent",
           62698.0867925088
          ],
          [
           1996,
           "carbon_dioxide_co2_emissions_without_land_use_land_use_change_and_forestry_lulucf_in_kilotonne_co2_equivalent",
           64038.9222021128
          ],
          [
           1995,
           "carbon_dioxide_co2_emissions_without_land_use_land_use_change_and_forestry_lulucf_in_kilotonne_co2_equivalent",
           58126.247543132995
          ],
          [
           1994,
           "carbon_dioxide_co2_emissions_without_land_use_land_use_change_and_forestry_lulucf_in_kilotonne_co2_equivalent",
           61696.3853292446
          ],
          [
           1993,
           "carbon_dioxide_co2_emissions_without_land_use_land_use_change_and_forestry_lulucf_in_kilotonne_co2_equivalent",
           56333.26799423
          ],
          [
           1992,
           "carbon_dioxide_co2_emissions_without_land_use_land_use_change_and_forestry_lulucf_in_kilotonne_co2_equivalent",
           54264.3793101323
          ],
          [
           1991,
           "carbon_dioxide_co2_emissions_without_land_use_land_use_change_and_forestry_lulucf_in_kilotonne_co2_equivalent",
           55187.1794528947
          ],
          [
           1990,
           "carbon_dioxide_co2_emissions_without_land_use_land_use_change_and_forestry_lulucf_in_kilotonne_co2_equivalent",
           56950.84818202019
          ],
          [
           2014,
           "greenhouse_gas_ghgs_emissions_including_indirect_co2_without_lulucf_in_kilotonne_co2_equivalent",
           59105.0771867268
          ],
          [
           2013,
           "greenhouse_gas_ghgs_emissions_including_indirect_co2_without_lulucf_in_kilotonne_co2_equivalent",
           63276.8885138436
          ],
          [
           2012,
           "greenhouse_gas_ghgs_emissions_including_indirect_co2_without_lulucf_in_kilotonne_co2_equivalent",
           62403.7480573425
          ],
          [
           2011,
           "greenhouse_gas_ghgs_emissions_including_indirect_co2_without_lulucf_in_kilotonne_co2_equivalent",
           68033.9654261421
          ],
          [
           2010,
           "greenhouse_gas_ghgs_emissions_including_indirect_co2_without_lulucf_in_kilotonne_co2_equivalent",
           75930.9702322258
          ],
          [
           2009,
           "greenhouse_gas_ghgs_emissions_including_indirect_co2_without_lulucf_in_kilotonne_co2_equivalent",
           67670.2911623919
          ],
          [
           2008,
           "greenhouse_gas_ghgs_emissions_including_indirect_co2_without_lulucf_in_kilotonne_co2_equivalent",
           71324.5754374347
          ],
          [
           2007,
           "greenhouse_gas_ghgs_emissions_including_indirect_co2_without_lulucf_in_kilotonne_co2_equivalent",
           79212.739202928
          ],
          [
           2006,
           "greenhouse_gas_ghgs_emissions_including_indirect_co2_without_lulucf_in_kilotonne_co2_equivalent",
           80739.06851817759
          ],
          [
           2005,
           "greenhouse_gas_ghgs_emissions_including_indirect_co2_without_lulucf_in_kilotonne_co2_equivalent",
           69548.8578469739
          ],
          [
           2004,
           "greenhouse_gas_ghgs_emissions_including_indirect_co2_without_lulucf_in_kilotonne_co2_equivalent",
           81433.97219130759
          ],
          [
           2003,
           "greenhouse_gas_ghgs_emissions_including_indirect_co2_without_lulucf_in_kilotonne_co2_equivalent",
           85219.2986612438
          ],
          [
           2002,
           "greenhouse_gas_ghgs_emissions_including_indirect_co2_without_lulucf_in_kilotonne_co2_equivalent",
           77740.96020796741
          ],
          [
           2001,
           "greenhouse_gas_ghgs_emissions_including_indirect_co2_without_lulucf_in_kilotonne_co2_equivalent",
           75324.0562236299
          ],
          [
           2000,
           "greenhouse_gas_ghgs_emissions_including_indirect_co2_without_lulucf_in_kilotonne_co2_equivalent",
           70009.50458996299
          ],
          [
           1999,
           "greenhouse_gas_ghgs_emissions_including_indirect_co2_without_lulucf_in_kilotonne_co2_equivalent",
           71916.2671877857
          ],
          [
           1998,
           "greenhouse_gas_ghgs_emissions_including_indirect_co2_without_lulucf_in_kilotonne_co2_equivalent",
           72547.80106975509
          ],
          [
           1997,
           "greenhouse_gas_ghgs_emissions_including_indirect_co2_without_lulucf_in_kilotonne_co2_equivalent",
           76216.9343799597
          ],
          [
           1996,
           "greenhouse_gas_ghgs_emissions_including_indirect_co2_without_lulucf_in_kilotonne_co2_equivalent",
           77635.8988543123
          ],
          [
           1995,
           "greenhouse_gas_ghgs_emissions_including_indirect_co2_without_lulucf_in_kilotonne_co2_equivalent",
           71848.4217814197
          ],
          [
           1994,
           "greenhouse_gas_ghgs_emissions_including_indirect_co2_without_lulucf_in_kilotonne_co2_equivalent",
           75401.5416216613
          ],
          [
           1993,
           "greenhouse_gas_ghgs_emissions_including_indirect_co2_without_lulucf_in_kilotonne_co2_equivalent",
           69898.9316762607
          ],
          [
           1992,
           "greenhouse_gas_ghgs_emissions_including_indirect_co2_without_lulucf_in_kilotonne_co2_equivalent",
           67657.2551627947
          ],
          [
           1991,
           "greenhouse_gas_ghgs_emissions_including_indirect_co2_without_lulucf_in_kilotonne_co2_equivalent",
           69069.9524625108
          ],
          [
           1990,
           "greenhouse_gas_ghgs_emissions_including_indirect_co2_without_lulucf_in_kilotonne_co2_equivalent",
           71338.5623970918
          ],
          [
           2014,
           "greenhouse_gas_ghgs_emissions_without_land_use_land_use_change_and_forestry_lulucf_in_kilotonne_co2_equivalent",
           59028.9870736425
          ],
          [
           2013,
           "greenhouse_gas_ghgs_emissions_without_land_use_land_use_change_and_forestry_lulucf_in_kilotonne_co2_equivalent",
           63196.6016281563
          ],
          [
           2012,
           "greenhouse_gas_ghgs_emissions_without_land_use_land_use_change_and_forestry_lulucf_in_kilotonne_co2_equivalent",
           62320.6350025736
          ],
          [
           2011,
           "greenhouse_gas_ghgs_emissions_without_land_use_land_use_change_and_forestry_lulucf_in_kilotonne_co2_equivalent",
           67947.0752353953
          ],
          [
           2010,
           "greenhouse_gas_ghgs_emissions_without_land_use_land_use_change_and_forestry_lulucf_in_kilotonne_co2_equivalent",
           75835.02042471571
          ],
          [
           2009,
           "greenhouse_gas_ghgs_emissions_without_land_use_land_use_change_and_forestry_lulucf_in_kilotonne_co2_equivalent",
           67575.29720161611
          ],
          [
           2008,
           "greenhouse_gas_ghgs_emissions_without_land_use_land_use_change_and_forestry_lulucf_in_kilotonne_co2_equivalent",
           71219.4402188768
          ],
          [
           2007,
           "greenhouse_gas_ghgs_emissions_without_land_use_land_use_change_and_forestry_lulucf_in_kilotonne_co2_equivalent",
           79096.3253832404
          ],
          [
           2006,
           "greenhouse_gas_ghgs_emissions_without_land_use_land_use_change_and_forestry_lulucf_in_kilotonne_co2_equivalent",
           80616.21920221
          ],
          [
           2005,
           "greenhouse_gas_ghgs_emissions_without_land_use_land_use_change_and_forestry_lulucf_in_kilotonne_co2_equivalent",
           69426.5733995718
          ],
          [
           2004,
           "greenhouse_gas_ghgs_emissions_without_land_use_land_use_change_and_forestry_lulucf_in_kilotonne_co2_equivalent",
           81300.6190152811
          ],
          [
           2003,
           "greenhouse_gas_ghgs_emissions_without_land_use_land_use_change_and_forestry_lulucf_in_kilotonne_co2_equivalent",
           85082.5791584517
          ],
          [
           2002,
           "greenhouse_gas_ghgs_emissions_without_land_use_land_use_change_and_forestry_lulucf_in_kilotonne_co2_equivalent",
           77600.20469346941
          ],
          [
           2001,
           "greenhouse_gas_ghgs_emissions_without_land_use_land_use_change_and_forestry_lulucf_in_kilotonne_co2_equivalent",
           75171.3885800538
          ],
          [
           2000,
           "greenhouse_gas_ghgs_emissions_without_land_use_land_use_change_and_forestry_lulucf_in_kilotonne_co2_equivalent",
           69855.01064532429
          ],
          [
           1999,
           "greenhouse_gas_ghgs_emissions_without_land_use_land_use_change_and_forestry_lulucf_in_kilotonne_co2_equivalent",
           71755.398003318
          ],
          [
           1998,
           "greenhouse_gas_ghgs_emissions_without_land_use_land_use_change_and_forestry_lulucf_in_kilotonne_co2_equivalent",
           72378.9825031932
          ],
          [
           1997,
           "greenhouse_gas_ghgs_emissions_without_land_use_land_use_change_and_forestry_lulucf_in_kilotonne_co2_equivalent",
           76038.3268859278
          ],
          [
           1996,
           "greenhouse_gas_ghgs_emissions_without_land_use_land_use_change_and_forestry_lulucf_in_kilotonne_co2_equivalent",
           77446.12727040281
          ],
          [
           1995,
           "greenhouse_gas_ghgs_emissions_without_land_use_land_use_change_and_forestry_lulucf_in_kilotonne_co2_equivalent",
           71644.301372275
          ],
          [
           1994,
           "greenhouse_gas_ghgs_emissions_without_land_use_land_use_change_and_forestry_lulucf_in_kilotonne_co2_equivalent",
           75186.22054528231
          ],
          [
           1993,
           "greenhouse_gas_ghgs_emissions_without_land_use_land_use_change_and_forestry_lulucf_in_kilotonne_co2_equivalent",
           69675.9495168867
          ],
          [
           1992,
           "greenhouse_gas_ghgs_emissions_without_land_use_land_use_change_and_forestry_lulucf_in_kilotonne_co2_equivalent",
           67421.2277150837
          ],
          [
           1991,
           "greenhouse_gas_ghgs_emissions_without_land_use_land_use_change_and_forestry_lulucf_in_kilotonne_co2_equivalent",
           68823.8503769894
          ],
          [
           1990,
           "greenhouse_gas_ghgs_emissions_without_land_use_land_use_change_and_forestry_lulucf_in_kilotonne_co2_equivalent",
           71076.99553431981
          ],
          [
           2014,
           "hydrofluorocarbons_hfcs_emissions_in_kilotonne_co2_equivalent",
           1743.2789877172102
          ],
          [
           2013,
           "hydrofluorocarbons_hfcs_emissions_in_kilotonne_co2_equivalent",
           1612.49060382639
          ],
          [
           2012,
           "hydrofluorocarbons_hfcs_emissions_in_kilotonne_co2_equivalent",
           1517.24760807946
          ],
          [
           2011,
           "hydrofluorocarbons_hfcs_emissions_in_kilotonne_co2_equivalent",
           1587.89581113814
          ],
          [
           2010,
           "hydrofluorocarbons_hfcs_emissions_in_kilotonne_co2_equivalent",
           1820.34465424587
          ],
          [
           2009,
           "hydrofluorocarbons_hfcs_emissions_in_kilotonne_co2_equivalent",
           1425.5620974960998
          ],
          [
           2008,
           "hydrofluorocarbons_hfcs_emissions_in_kilotonne_co2_equivalent",
           1338.7891627285198
          ],
          [
           2007,
           "hydrofluorocarbons_hfcs_emissions_in_kilotonne_co2_equivalent",
           1149.94356980483
          ],
          [
           2006,
           "hydrofluorocarbons_hfcs_emissions_in_kilotonne_co2_equivalent",
           910.5522551728751
          ],
          [
           2005,
           "hydrofluorocarbons_hfcs_emissions_in_kilotonne_co2_equivalent",
           895.4224777880639
          ],
          [
           2004,
           "hydrofluorocarbons_hfcs_emissions_in_kilotonne_co2_equivalent",
           688.64946146022
          ],
          [
           2003,
           "hydrofluorocarbons_hfcs_emissions_in_kilotonne_co2_equivalent",
           635.744609730428
          ],
          [
           2002,
           "hydrofluorocarbons_hfcs_emissions_in_kilotonne_co2_equivalent",
           634.0249759806591
          ],
          [
           2001,
           "hydrofluorocarbons_hfcs_emissions_in_kilotonne_co2_equivalent",
           592.117170735794
          ],
          [
           2000,
           "hydrofluorocarbons_hfcs_emissions_in_kilotonne_co2_equivalent",
           559.31846514369
          ],
          [
           1999,
           "hydrofluorocarbons_hfcs_emissions_in_kilotonne_co2_equivalent",
           330.627569534521
          ],
          [
           1998,
           "hydrofluorocarbons_hfcs_emissions_in_kilotonne_co2_equivalent",
           247.07648750263198
          ],
          [
           1997,
           "hydrofluorocarbons_hfcs_emissions_in_kilotonne_co2_equivalent",
           149.487601978443
          ],
          [
           1996,
           "hydrofluorocarbons_hfcs_emissions_in_kilotonne_co2_equivalent",
           74.188748278584
          ],
          [
           1995,
           "hydrofluorocarbons_hfcs_emissions_in_kilotonne_co2_equivalent",
           26.902252736683998
          ],
          [
           1994,
           "hydrofluorocarbons_hfcs_emissions_in_kilotonne_co2_equivalent",
           5.344578130212
          ],
          [
           1993,
           "hydrofluorocarbons_hfcs_emissions_in_kilotonne_co2_equivalent",
           0.19054196965599998
          ],
          [
           1992,
           "hydrofluorocarbons_hfcs_emissions_in_kilotonne_co2_equivalent",
           0.040504529712
          ],
          [
           1991,
           "hydrofluorocarbons_hfcs_emissions_in_kilotonne_co2_equivalent",
           0.03195116838
          ],
          [
           1990,
           "hydrofluorocarbons_hfcs_emissions_in_kilotonne_co2_equivalent",
           0.024024986
          ],
          [
           2014,
           "methane_ch4_emissions_without_land_use_land_use_change_and_forestry_lulucf_in_kilotonne_co2_equivalent",
           5016.974759271239
          ],
          [
           2013,
           "methane_ch4_emissions_without_land_use_land_use_change_and_forestry_lulucf_in_kilotonne_co2_equivalent",
           5122.63476634708
          ],
          [
           2012,
           "methane_ch4_emissions_without_land_use_land_use_change_and_forestry_lulucf_in_kilotonne_co2_equivalent",
           5264.8760815570295
          ],
          [
           2011,
           "methane_ch4_emissions_without_land_use_land_use_change_and_forestry_lulucf_in_kilotonne_co2_equivalent",
           5306.52535118825
          ],
          [
           2010,
           "methane_ch4_emissions_without_land_use_land_use_change_and_forestry_lulucf_in_kilotonne_co2_equivalent",
           5487.22228155129
          ],
          [
           2009,
           "methane_ch4_emissions_without_land_use_land_use_change_and_forestry_lulucf_in_kilotonne_co2_equivalent",
           5404.95544159765
          ],
          [
           2008,
           "methane_ch4_emissions_without_land_use_land_use_change_and_forestry_lulucf_in_kilotonne_co2_equivalent",
           5460.81837555993
          ],
          [
           2007,
           "methane_ch4_emissions_without_land_use_land_use_change_and_forestry_lulucf_in_kilotonne_co2_equivalent",
           5591.48730557558
          ],
          [
           2006,
           "methane_ch4_emissions_without_land_use_land_use_change_and_forestry_lulucf_in_kilotonne_co2_equivalent",
           5731.23824153894
          ],
          [
           2005,
           "methane_ch4_emissions_without_land_use_land_use_change_and_forestry_lulucf_in_kilotonne_co2_equivalent",
           5659.29231113621
          ],
          [
           2004,
           "methane_ch4_emissions_without_land_use_land_use_change_and_forestry_lulucf_in_kilotonne_co2_equivalent",
           5907.357864861109
          ],
          [
           2003,
           "methane_ch4_emissions_without_land_use_land_use_change_and_forestry_lulucf_in_kilotonne_co2_equivalent",
           6092.653114519279
          ],
          [
           2002,
           "methane_ch4_emissions_without_land_use_land_use_change_and_forestry_lulucf_in_kilotonne_co2_equivalent",
           6301.453498145811
          ],
          [
           2001,
           "methane_ch4_emissions_without_land_use_land_use_change_and_forestry_lulucf_in_kilotonne_co2_equivalent",
           6519.0265386705705
          ],
          [
           2000,
           "methane_ch4_emissions_without_land_use_land_use_change_and_forestry_lulucf_in_kilotonne_co2_equivalent",
           6661.09848014005
          ],
          [
           1999,
           "methane_ch4_emissions_without_land_use_land_use_change_and_forestry_lulucf_in_kilotonne_co2_equivalent",
           6911.88870684184
          ],
          [
           1998,
           "methane_ch4_emissions_without_land_use_land_use_change_and_forestry_lulucf_in_kilotonne_co2_equivalent",
           7062.38153640282
          ],
          [
           1997,
           "methane_ch4_emissions_without_land_use_land_use_change_and_forestry_lulucf_in_kilotonne_co2_equivalent",
           7308.33510699067
          ],
          [
           1996,
           "methane_ch4_emissions_without_land_use_land_use_change_and_forestry_lulucf_in_kilotonne_co2_equivalent",
           7392.08120336162
          ],
          [
           1995,
           "methane_ch4_emissions_without_land_use_land_use_change_and_forestry_lulucf_in_kilotonne_co2_equivalent",
           7469.55919015096
          ],
          [
           1994,
           "methane_ch4_emissions_without_land_use_land_use_change_and_forestry_lulucf_in_kilotonne_co2_equivalent",
           7674.10373712289
          ],
          [
           1993,
           "methane_ch4_emissions_without_land_use_land_use_change_and_forestry_lulucf_in_kilotonne_co2_equivalent",
           7707.9832414101
          ],
          [
           1992,
           "methane_ch4_emissions_without_land_use_land_use_change_and_forestry_lulucf_in_kilotonne_co2_equivalent",
           7669.45024354611
          ],
          [
           1991,
           "methane_ch4_emissions_without_land_use_land_use_change_and_forestry_lulucf_in_kilotonne_co2_equivalent",
           7714.302362410259
          ],
          [
           1990,
           "methane_ch4_emissions_without_land_use_land_use_change_and_forestry_lulucf_in_kilotonne_co2_equivalent",
           7744.716488145649
          ],
          [
           2014,
           "nitrous_oxide_n2o_emissions_without_land_use_land_use_change_and_forestry_lulucf_in_kilotonne_co2_equivalent",
           4626.44529423974
          ],
          [
           2013,
           "nitrous_oxide_n2o_emissions_without_land_use_land_use_change_and_forestry_lulucf_in_kilotonne_co2_equivalent",
           4589.41603649606
          ],
          [
           2012,
           "nitrous_oxide_n2o_emissions_without_land_use_land_use_change_and_forestry_lulucf_in_kilotonne_co2_equivalent",
           4527.42472097089
          ],
          [
           2011,
           "nitrous_oxide_n2o_emissions_without_land_use_land_use_change_and_forestry_lulucf_in_kilotonne_co2_equivalent",
           4547.93466904221
          ],
          [
           2010,
           "nitrous_oxide_n2o_emissions_without_land_use_land_use_change_and_forestry_lulucf_in_kilotonne_co2_equivalent",
           4676.58281741075
          ],
          [
           2009,
           "nitrous_oxide_n2o_emissions_without_land_use_land_use_change_and_forestry_lulucf_in_kilotonne_co2_equivalent",
           5070.90249707673
          ],
          [
           2008,
           "nitrous_oxide_n2o_emissions_without_land_use_land_use_change_and_forestry_lulucf_in_kilotonne_co2_equivalent",
           5917.6058746115
          ],
          [
           2007,
           "nitrous_oxide_n2o_emissions_without_land_use_land_use_change_and_forestry_lulucf_in_kilotonne_co2_equivalent",
           5793.79319374182
          ],
          [
           2006,
           "nitrous_oxide_n2o_emissions_without_land_use_land_use_change_and_forestry_lulucf_in_kilotonne_co2_equivalent",
           5725.750867327671
          ],
          [
           2005,
           "nitrous_oxide_n2o_emissions_without_land_use_land_use_change_and_forestry_lulucf_in_kilotonne_co2_equivalent",
           5921.3804785276
          ],
          [
           2004,
           "nitrous_oxide_n2o_emissions_without_land_use_land_use_change_and_forestry_lulucf_in_kilotonne_co2_equivalent",
           5844.56970927116
          ],
          [
           2003,
           "nitrous_oxide_n2o_emissions_without_land_use_land_use_change_and_forestry_lulucf_in_kilotonne_co2_equivalent",
           5787.699006248579
          ],
          [
           2002,
           "nitrous_oxide_n2o_emissions_without_land_use_land_use_change_and_forestry_lulucf_in_kilotonne_co2_equivalent",
           5676.418352843941
          ],
          [
           2001,
           "nitrous_oxide_n2o_emissions_without_land_use_land_use_change_and_forestry_lulucf_in_kilotonne_co2_equivalent",
           5569.394004287779
          ],
          [
           2000,
           "nitrous_oxide_n2o_emissions_without_land_use_land_use_change_and_forestry_lulucf_in_kilotonne_co2_equivalent",
           5621.95734522058
          ],
          [
           1999,
           "nitrous_oxide_n2o_emissions_without_land_use_land_use_change_and_forestry_lulucf_in_kilotonne_co2_equivalent",
           5573.50049147288
          ],
          [
           1998,
           "nitrous_oxide_n2o_emissions_without_land_use_land_use_change_and_forestry_lulucf_in_kilotonne_co2_equivalent",
           5678.76837027459
          ],
          [
           1997,
           "nitrous_oxide_n2o_emissions_without_land_use_land_use_change_and_forestry_lulucf_in_kilotonne_co2_equivalent",
           5831.75844753035
          ],
          [
           1996,
           "nitrous_oxide_n2o_emissions_without_land_use_land_use_change_and_forestry_lulucf_in_kilotonne_co2_equivalent",
           5886.29683034134
          ],
          [
           1995,
           "nitrous_oxide_n2o_emissions_without_land_use_land_use_change_and_forestry_lulucf_in_kilotonne_co2_equivalent",
           5984.195755668511
          ],
          [
           1994,
           "nitrous_oxide_n2o_emissions_without_land_use_land_use_change_and_forestry_lulucf_in_kilotonne_co2_equivalent",
           5786.16374762057
          ],
          [
           1993,
           "nitrous_oxide_n2o_emissions_without_land_use_land_use_change_and_forestry_lulucf_in_kilotonne_co2_equivalent",
           5614.44591958677
          ],
          [
           1992,
           "nitrous_oxide_n2o_emissions_without_land_use_land_use_change_and_forestry_lulucf_in_kilotonne_co2_equivalent",
           5461.41289768856
          ],
          [
           1991,
           "nitrous_oxide_n2o_emissions_without_land_use_land_use_change_and_forestry_lulucf_in_kilotonne_co2_equivalent",
           5881.936750306079
          ],
          [
           1990,
           "nitrous_oxide_n2o_emissions_without_land_use_land_use_change_and_forestry_lulucf_in_kilotonne_co2_equivalent",
           6328.71648460905
          ],
          [
           2014,
           "perfluorocarbons_pfcs_emissions_in_kilotonne_co2_equivalent",
           10.303868640736999
          ],
          [
           2013,
           "perfluorocarbons_pfcs_emissions_in_kilotonne_co2_equivalent",
           6.66307129273
          ],
          [
           2012,
           "perfluorocarbons_pfcs_emissions_in_kilotonne_co2_equivalent",
           5.65778724924
          ],
          [
           2011,
           "perfluorocarbons_pfcs_emissions_in_kilotonne_co2_equivalent",
           2.29971034165
          ],
          [
           2010,
           "perfluorocarbons_pfcs_emissions_in_kilotonne_co2_equivalent",
           1.060941
          ],
          [
           2009,
           "perfluorocarbons_pfcs_emissions_in_kilotonne_co2_equivalent",
           11.583874447780001
          ],
          [
           2008,
           "perfluorocarbons_pfcs_emissions_in_kilotonne_co2_equivalent",
           13.934893891920002
          ],
          [
           2007,
           "perfluorocarbons_pfcs_emissions_in_kilotonne_co2_equivalent",
           10.20663632902
          ],
          [
           2006,
           "perfluorocarbons_pfcs_emissions_in_kilotonne_co2_equivalent",
           19.2075921
          ],
          [
           2005,
           "perfluorocarbons_pfcs_emissions_in_kilotonne_co2_equivalent",
           15.9741532
          ],
          [
           2004,
           "perfluorocarbons_pfcs_emissions_in_kilotonne_co2_equivalent",
           14.3909954
          ],
          [
           2003,
           "perfluorocarbons_pfcs_emissions_in_kilotonne_co2_equivalent",
           18.32408905674
          ],
          [
           2002,
           "perfluorocarbons_pfcs_emissions_in_kilotonne_co2_equivalent",
           16.50458664744
          ],
          [
           2001,
           "perfluorocarbons_pfcs_emissions_in_kilotonne_co2_equivalent",
           22.6845372266
          ],
          [
           2000,
           "perfluorocarbons_pfcs_emissions_in_kilotonne_co2_equivalent",
           13.226121095
          ],
          [
           1999,
           "perfluorocarbons_pfcs_emissions_in_kilotonne_co2_equivalent",
           35.693488200000004
          ],
          [
           1998,
           "perfluorocarbons_pfcs_emissions_in_kilotonne_co2_equivalent",
           0.633393
          ],
          [
           1997,
           "perfluorocarbons_pfcs_emissions_in_kilotonne_co2_equivalent",
           0.5507770000000001
          ],
          [
           1996,
           "perfluorocarbons_pfcs_emissions_in_kilotonne_co2_equivalent",
           0.478937
          ],
          [
           1995,
           "perfluorocarbons_pfcs_emissions_in_kilotonne_co2_equivalent",
           0.416466
          ],
          [
           1994,
           "perfluorocarbons_pfcs_emissions_in_kilotonne_co2_equivalent",
           0.362145
          ],
          [
           1993,
           "perfluorocarbons_pfcs_emissions_in_kilotonne_co2_equivalent",
           0.31490799999999997
          ],
          [
           1992,
           "perfluorocarbons_pfcs_emissions_in_kilotonne_co2_equivalent",
           0.273833
          ],
          [
           1991,
           "perfluorocarbons_pfcs_emissions_in_kilotonne_co2_equivalent",
           0.238116
          ],
          [
           1990,
           "perfluorocarbons_pfcs_emissions_in_kilotonne_co2_equivalent",
           0.20705700000000002
          ],
          [
           2014,
           "sulphur_hexafluoride_sf6_emissions_in_kilotonne_co2_equivalent",
           34.25063652
          ],
          [
           2013,
           "sulphur_hexafluoride_sf6_emissions_in_kilotonne_co2_equivalent",
           30.70041204
          ],
          [
           2012,
           "sulphur_hexafluoride_sf6_emissions_in_kilotonne_co2_equivalent",
           22.15592964
          ],
          [
           2011,
           "sulphur_hexafluoride_sf6_emissions_in_kilotonne_co2_equivalent",
           23.67410498868
          ],
          [
           2010,
           "sulphur_hexafluoride_sf6_emissions_in_kilotonne_co2_equivalent",
           21.791502978144003
          ],
          [
           2009,
           "sulphur_hexafluoride_sf6_emissions_in_kilotonne_co2_equivalent",
           26.710521984108
          ],
          [
           2008,
           "sulphur_hexafluoride_sf6_emissions_in_kilotonne_co2_equivalent",
           26.658888399587997
          ],
          [
           2007,
           "sulphur_hexafluoride_sf6_emissions_in_kilotonne_co2_equivalent",
           19.173863533092
          ],
          [
           2006,
           "sulphur_hexafluoride_sf6_emissions_in_kilotonne_co2_equivalent",
           27.564248995128
          ],
          [
           2005,
           "sulphur_hexafluoride_sf6_emissions_in_kilotonne_co2_equivalent",
           22.189085937624
          ],
          [
           2004,
           "sulphur_hexafluoride_sf6_emissions_in_kilotonne_co2_equivalent",
           23.838093445812
          ],
          [
           2003,
           "sulphur_hexafluoride_sf6_emissions_in_kilotonne_co2_equivalent",
           25.56814686
          ],
          [
           2002,
           "sulphur_hexafluoride_sf6_emissions_in_kilotonne_co2_equivalent",
           25.33507386
          ],
          [
           2001,
           "sulphur_hexafluoride_sf6_emissions_in_kilotonne_co2_equivalent",
           25.526260531296
          ],
          [
           2000,
           "sulphur_hexafluoride_sf6_emissions_in_kilotonne_co2_equivalent",
           26.059706382048002
          ],
          [
           1999,
           "sulphur_hexafluoride_sf6_emissions_in_kilotonne_co2_equivalent",
           30.756944424084
          ],
          [
           1998,
           "sulphur_hexafluoride_sf6_emissions_in_kilotonne_co2_equivalent",
           38.624569714559996
          ],
          [
           1997,
           "sulphur_hexafluoride_sf6_emissions_in_kilotonne_co2_equivalent",
           50.108159919528
          ],
          [
           1996,
           "sulphur_hexafluoride_sf6_emissions_in_kilotonne_co2_equivalent",
           54.159349308492004
          ],
          [
           1995,
           "sulphur_hexafluoride_sf6_emissions_in_kilotonne_co2_equivalent",
           36.980164585872004
          ],
          [
           1994,
           "sulphur_hexafluoride_sf6_emissions_in_kilotonne_co2_equivalent",
           23.861008164012
          ],
          [
           1993,
           "sulphur_hexafluoride_sf6_emissions_in_kilotonne_co2_equivalent",
           19.746911690172
          ],
          [
           1992,
           "sulphur_hexafluoride_sf6_emissions_in_kilotonne_co2_equivalent",
           25.670926187016
          ],
          [
           1991,
           "sulphur_hexafluoride_sf6_emissions_in_kilotonne_co2_equivalent",
           40.161744209988
          ],
          [
           1990,
           "sulphur_hexafluoride_sf6_emissions_in_kilotonne_co2_equivalent",
           52.483297558872
          ]
         ],
         "y": [
          278265.89894076803,
          279741.639011863,
          284766.092717838,
          289142.267681326,
          293830.70914119197,
          305162.543548735,
          311914.819824229,
          320439.116819391,
          334328.142646602,
          343713.906947774,
          349885.43310892803,
          357653.329899303,
          361861.38789602794,
          368345.97742510703,
          381519.261592783,
          385581.132806466,
          391134.100909449,
          398816.453543549,
          404237.82821407705,
          408448.47899963,
          406200.993184341,
          403705.52831399103,
          406462.84770359995,
          396913.93653029,
          393126.94699428795,
          62297.1655681668,
          65903.51330825599,
          60432.2493410185,
          60790.7577213156,
          61189.1025048542,
          64202.1592201769,
          67667.2626980903,
          67455.8927304212,
          67047.25066801769,
          65660.1336422327,
          66274.7432545115,
          70299.4711482287,
          72126.5914446168,
          78023.9538963192,
          78388.9974250799,
          79588.5018807541,
          76934.9515340371,
          74268.1107226333,
          74066.25579207629,
          67682.72514935481,
          72531.826129136,
          70327.1670444138,
          67698.6586349119,
          67957.1211123863,
          64262.5639931315,
          100438.09506370801,
          93649.166141388,
          87060.81028961,
          75551.755291625,
          62402.279082903,
          56005.93938238,
          57251.355700374006,
          60971.816305307,
          57426.329584039006,
          55033.952116896,
          53686.857490672,
          53783.847673632,
          53843.704423847004,
          54845.145835185,
          58457.64761596,
          59664.73908178,
          62229.398882869005,
          61563.881729087996,
          63846.103794367,
          59596.205375555,
          61632.492704327,
          61128.400592577,
          60636.851387067,
          61510.987153812996,
          60615.645730992,
          119982.50341850599,
          123130.652897225,
          122217.919518023,
          121156.964954729,
          124426.88570984801,
          125519.441990638,
          129010.471708927,
          123495.742758683,
          129737.090031462,
          124208.07176996401,
          126315.209948975,
          125649.37053871699,
          126015.194675856,
          127523.989700176,
          128640.48346799,
          125118.01650407599,
          122319.593759433,
          118027.408646158,
          120362.60984256199,
          107282.543508312,
          114155.386728776,
          104945.713770963,
          100931.595609756,
          101744.736736883,
          96325.4131833302,
          78197.88125701991,
          59769.3415026104,
          56551.5935722778,
          57203.9355176784,
          55649.08131534309,
          57221.6062924032,
          57581.194759982005,
          54790.134156638895,
          52143.356769363796,
          45751.789097251,
          44896.670545605,
          48568.917831870494,
          45786.29471979821,
          49971.1515762142,
          49170.337689434804,
          50191.116064429196,
          51446.2829381283,
          55184.4241047849,
          53655.1401671903,
          45487.8735503956,
          47678.6489573594,
          53020.9811161954,
          48117.5560830313,
          42534.9272034699,
          45139.955286200995,
          463493.33238757704,
          454246.137946001,
          468546.45891205897,
          467607.237235461,
          482691.67127179797,
          497224.83692526,
          510619.68221014796,
          525120.011175522,
          533794.453645326,
          550183.063388038,
          572290.3855184721,
          564617.020300164,
          569862.145645112,
          587306.6785377121,
          585414.8605743339,
          579225.3357199039,
          573479.269701141,
          596041.321973836,
          577444.930222255,
          542829.458896225,
          555003.760260925,
          558152.72293811,
          563423.613154917,
          573094.038846396,
          574099.775511611,
          23390.075209187,
          17268.9103457996,
          16607.1344792414,
          17081.2280227503,
          16342.1818762402,
          16992.8004192757,
          17587.8984604534,
          18666.4669752133,
          19372.3876004329,
          20215.653226001003,
          19789.1217501208,
          20943.109958683897,
          22031.1266650621,
          23355.2211046544,
          23005.234853535298,
          23451.845846674598,
          23684.9350307817,
          24955.3759314165,
          23715.3843178607,
          21965.6352675347,
          21183.709310531,
          20614.4404738916,
          18776.381348248302,
          18359.4998410627,
          17607.3224145688,
          4621.007176785,
          5107.0828868809995,
          5482.9748696609995,
          5733.674102128,
          5977.257104601999,
          5848.043785196,
          6156.132133960999,
          6287.031657389,
          6580.296149717,
          6847.659115971999,
          7095.964384675,
          6969.466175788,
          7160.3884576030005,
          7550.081927808001,
          7776.909404745,
          7961.983988964001,
          8152.492308125,
          8458.664261444,
          8620.395581741,
          8372.396591774,
          8004.912020821999,
          7696.667805268001,
          7160.971875548001,
          6449.610812026999,
          6878.555308563001,
          161662.01887173599,
          146047.33959314,
          141565.719740237,
          135588.565572531,
          129188.73410927199,
          129767.166426691,
          132234.071786388,
          128732.63871086901,
          123696.517294897,
          115475.25999595801,
          125841.96926861301,
          125541.536474736,
          122593.400101873,
          126151.648802001,
          126876.91616231599,
          124590.137925265,
          125923.402444959,
          126933.162985254,
          121780.71631373199,
          113970.029219436,
          115757.36858641,
          114113.146744787,
          109841.328902436,
          106477.08866661,
          101159.12216724,
          54306.4333356516,
          64874.8138594637,
          58960.3115236108,
          61038.6712439614,
          64988.7809040025,
          61914.161012889694,
          75110.840989738,
          65457.834843324104,
          61117.341629151604,
          58456.415819836795,
          54148.9049729906,
          55845.14718054901,
          55339.6716999691,
          60493.961716299505,
          54916.9105639724,
          51307.2445174626,
          59162.49963168849,
          54429.0851744511,
          50935.6715289027,
          48592.21138513691,
          48993.417375547404,
          43970.7892561051,
          39524.4020330104,
          41537.0358081307,
          37460.656458826496,
          36666.027297448396,
          33662.372514402996,
          24187.827575952997,
          18810.9639158495,
          19626.445943231698,
          17953.7359736926,
          18666.1359705806,
          18223.6042706384,
          16684.3031468739,
          15518.490620718701,
          15141.3877177023,
          15493.8609887605,
          15020.2841500601,
          16833.2142927367,
          17055.0742451822,
          16330.7338304477,
          15719.5289253761,
          18755.6479305233,
          17264.5200333765,
          14153.005161793999,
          17833.779609148998,
          18449.9308643309,
          17304.637227643798,
          19566.3683734371,
          18918.7153387101,
          4462205.14458363,
          4403723.16147676,
          4259922.81188982,
          4177106.50927114,
          4161321.31739286,
          4204480.85553967,
          4304793.28338046,
          4216524.73281421,
          4207666.03163804,
          4139002.99479822,
          4165145.4407136003,
          4232036.86327499,
          4208860.12268355,
          4306103.94478558,
          4314560.87112777,
          4290586.66799942,
          4297988.16195699,
          4244213.12941646,
          4149624.29618927,
          3814305.25795781,
          3933290.52224844,
          3789763.64094378,
          3728965.03097874,
          3646389.52530377,
          3463397.56376209,
          56950.84818202019,
          55187.1794528947,
          54264.3793101323,
          56333.26799423,
          61696.3853292446,
          58126.247543132995,
          64038.9222021128,
          62698.0867925088,
          59351.4981462986,
          58872.9308028447,
          56973.350527342904,
          62442.6400686017,
          64946.46820599151,
          72522.5901920366,
          68821.8128908428,
          56912.31489298231,
          68201.9059970754,
          66531.7208142561,
          58461.6330236854,
          55635.582769013796,
          63828.0182275297,
          56478.745588696394,
          50983.2728750769,
          51834.6967381541,
          47597.7335272535,
          400652.624020681,
          425042.92070284794,
          414955.076785321,
          394334.83380057,
          394536.96243659203,
          401571.22545173205,
          414013.070054113,
          407475.111806521,
          429051.49992304604,
          420506.32195738796,
          417116.544673865,
          417864.70558616,
          413569.247853298,
          422312.88446679706,
          423168.636085445,
          428557.610248936,
          417662.678913825,
          408508.589897444,
          401878.86465183,
          383957.624293905,
          394235.67413665896,
          368183.438441815,
          370491.15370314795,
          369985.594525824,
          341152.531504158,
          1052238.2340002,
          1014119.71977239,
          965790.8352714891,
          955977.599356065,
          939207.328236553,
          938148.0930919001,
          958368.7246982291,
          930768.560542915,
          922778.540047935,
          895336.786172859,
          899284.993390718,
          915634.439635279,
          899161.567421003,
          900377.585440517,
          886344.629703686,
          865958.513395873,
          877422.45689212,
          850795.7207596999,
          853229.9407522541,
          788422.437923384,
          832259.203309583,
          812483.2196210709,
          817031.4401976591,
          835792.632256705,
          792902.788025434,
          83403.7199982216,
          83390.3546805713,
          84949.02582987481,
          84263.0078976228,
          86425.85651187871,
          86980.6457725937,
          89134.4253965711,
          93839.8699189575,
          98663.19416252141,
          97979.7783523224,
          103019.66469008802,
          105407.30759830901,
          105051.46619910099,
          109126.567554916,
          109571.060909579,
          113219.822395958,
          111777.743714104,
          114127.554270902,
          110255.76552190699,
          103969.78429385,
          97035.0827603655,
          94102.9439816174,
          90710.5742463723,
          82910.62595830549,
          79628.2743994757,
          73115.1986276439,
          69392.7256389081,
          62050.126397283304,
          63174.978373230704,
          61568.3745934751,
          61354.4620207158,
          62950.2532137021,
          61549.912464161396,
          61087.7637948753,
          61593.1410164197,
          58336.8070649933,
          59995.734475138204,
          58968.227770258396,
          61766.839595490994,
          60231.6619844867,
          60329.505012084905,
          59751.7310814697,
          58419.039167147195,
          57325.1623293437,
          51630.690024407304,
          52108.8927624657,
          50272.8651021622,
          46774.944845299906,
          43930.8781767816,
          43573.4088387418,
          2106.02606837613,
          2042.93697601045,
          2172.61936326312,
          2294.50464413142,
          2248.36895252634,
          2299.61365454463,
          2385.91382557077,
          2450.2439197906697,
          2450.2342634285396,
          2655.39472544564,
          2728.93748510151,
          2710.29472706565,
          2795.90731167373,
          2792.7231318536797,
          2837.02901057771,
          2797.3145919784497,
          2939.27659673656,
          3236.89533653359,
          3567.2092596622706,
          3521.8907096149,
          3383.55221868805,
          3298.56768958589,
          3290.5764313292602,
          3301.79631376577,
          3272.20823296511,
          32768.5267614461,
          33508.44202382,
          33344.1023763207,
          33574.971741581496,
          34696.485727221,
          35718.7485642434,
          37335.1081070614,
          38675.594023595,
          40572.1758596239,
          42302.0878630807,
          45123.335442264404,
          47482.7207784323,
          45952.7301698154,
          45554.322521515,
          46042.4022484132,
          47952.2043880837,
          47405.9667288105,
          47493.1266838399,
          47175.5402654915,
          41996.3246778451,
          41558.2750861697,
          37895.195427036604,
          38031.618716193596,
          37049.423831397595,
          36559.0685812916,
          436204.249867101,
          435938.613895185,
          435535.83511771203,
          429158.009174904,
          421404.09992213297,
          447201.16875556705,
          440235.50720009796,
          444055.43353522295,
          454967.633181096,
          459840.64226897,
          465175.073350703,
          471124.276709558,
          473504.059244666,
          489595.50811926,
          492746.255602992,
          490914.262890322,
          486594.066569872,
          478237.711240526,
          467933.59324447,
          418881.07690329297,
          428879.68119438103,
          416499.534208263,
          389340.763399181,
          362063.64929626795,
          342826.677130676,
          1155993.61991868,
          1164474.34578731,
          1174619.00608734,
          1167714.71812869,
          1228936.69128837,
          1242494.02197198,
          1255264.19757618,
          1253057.30667741,
          1218257.76164334,
          1253082.14716425,
          1274297.98807522,
          1257384.56001844,
          1294399.19841025,
          1299490.60851261,
          1298433.88847959,
          1305938.82350271,
          1285177.83728116,
          1319799.19357988,
          1235455.81022118,
          1162606.19176432,
          1212970.22514141,
          1261862.93795353,
          1296186.35836425,
          1311509.14921749,
          1265490.60931631,
          19794.2944546485,
          18021.1952417204,
          14244.653385041102,
          11966.1455063059,
          10399.1411291737,
          9141.35351650325,
          9216.3839879477,
          8677.545810834781,
          8300.595278010831,
          7709.04999256645,
          7069.94204019894,
          7480.50260667025,
          7508.743242011859,
          7703.77150791307,
          7709.46076182043,
          7790.40393195636,
          8289.2066784209,
          8610.25539674785,
          8184.971246543109,
          7443.28601054364,
          8524.087226609341,
          7807.65940956673,
          7521.1225279261,
          7353.22044369415,
          7158.71803669862,
          198.775112043709,
          206.14670684560502,
          206.776032802858,
          214.86769081200902,
          200.961153022994,
          204.05592043076,
          205.809089624326,
          218.235372862382,
          229.11710392683997,
          226.448838014394,
          216.750456413769,
          214.58531081683898,
          219.94720455154598,
          229.265875097937,
          229.29632162645302,
          228.970323897819,
          231.21730511588402,
          200.920107913985,
          219.698915477856,
          205.59054373337898,
          191.047501716787,
          177.08804024541402,
          185.63243136026,
          192.86441578871498,
          161.541816662752,
          35812.8936845412,
          37908.6124957275,
          21207.8873890696,
          16347.171825514799,
          15765.4147628091,
          15022.544134694399,
          15676.831031798898,
          15086.2857611334,
          15901.5175726569,
          13422.1511465775,
          11801.964898672,
          12507.966675104099,
          12614.4250089828,
          12605.238201652099,
          13185.4933655222,
          13946.884303249699,
          14303.032680413,
          15624.07633974,
          14963.254716258401,
          12727.12003622,
          13618.9126645228,
          13919.015498466599,
          13975.5232139658,
          12987.817531471599,
          12732.798863701,
          11944.007385281202,
          12467.513194858899,
          12253.5715940463,
          12375.507079302,
          11560.571694451799,
          9155.85264991365,
          9217.19030053529,
          8530.7453454746,
          7619.363289974209,
          7986.155880568521,
          8798.1820808658,
          9311.91612729174,
          10068.1403163216,
          10443.3832173203,
          11871.1077184731,
          12130.9137942819,
          11995.820174913999,
          11398.7059208596,
          11245.8724868627,
          10725.5221348792,
          11285.027417134399,
          11168.5116663343,
          10872.0644823704,
          10303.0396071267,
          9826.25327758284,
          1860.47364818374,
          2041.24609263112,
          2174.6344662953,
          2252.06276712832,
          2302.77027658996,
          2313.21608944717,
          2329.18169821771,
          2331.95473493565,
          2338.06278770006,
          2418.5555646106895,
          2414.28381121499,
          2550.60406083421,
          2464.21222943374,
          2666.13432525932,
          2604.7448318278603,
          2736.31293358517,
          2776.31430670588,
          2831.64226468627,
          2822.40616690519,
          2684.52129301397,
          2690.51803520544,
          2785.89656845722,
          2868.6381281432696,
          2476.0744290959196,
          2483.5367864507,
          95.3851833205759,
          96.14720457957961,
          101.74260303885401,
          100.88193845588499,
          101.872636286934,
          98.99042989343651,
          102.31953844658001,
          101.0844813444,
          99.81685913522449,
          100.659281930126,
          98.3243559267737,
          98.5488680526432,
          98.16127571954571,
          95.29885497874581,
          90.2005037527358,
          88.7506912513649,
          82.1239180016564,
          82.7191922532151,
          81.376901087813,
          77.7719361035662,
          75.4682651256747,
          71.88189545089949,
          75.1655688427013,
          74.4309201897803,
          162497.55962272198,
          171081.473914794,
          170975.24288850802,
          171497.891064769,
          175008.703110698,
          173196.297429017,
          182573.582902116,
          175487.970753103,
          176617.168521043,
          171228.109552445,
          172059.812230581,
          177037.401595998,
          176462.400587543,
          179867.888967448,
          181546.25702136,
          177540.473199828,
          172772.89277910301,
          173178.42039588199,
          176174.418350642,
          170796.156580042,
          182529.786939532,
          169792.13654140302,
          165665.023774753,
          165475.88439356,
          157789.581719585,
          25419.7716716116,
          26108.064501553,
          28099.6999900939,
          27697.2273476821,
          27879.0592141093,
          28143.4576273053,
          29368.264992275897,
          31363.452619479198,
          29927.501379690697,
          31523.186091685402,
          32355.957023316,
          34581.7227646535,
          34768.2781829264,
          36497.1710064703,
          36063.663329171,
          37645.434299041,
          37519.1047271712,
          36651.3714858119,
          37674.0517694367,
          34806.4020881589,
          35017.2413542609,
          34366.5826844218,
          35621.026019351804,
          35094.2867396817,
          35616.9853050414,
          35694.8243978959,
          34070.978364376,
          34833.2478178252,
          36520.7838206741,
          38434.7651928654,
          38464.9066615123,
          41586.7085615304,
          41683.1333687712,
          41939.0379176034,
          42691.7563679429,
          42194.6191784625,
          43530.3487635507,
          42655.8748276072,
          43906.7096554175,
          44320.004884584196,
          43548.2302876495,
          43913.7448222241,
          45842.8095311711,
          44893.0941871551,
          43212.0924688473,
          45833.8920681508,
          44946.8693532922,
          44553.965659781905,
          44309.0559727695,
          43869.451092480296,
          378782.53916616796,
          375684.15694778,
          365865.15951878,
          366427.66091343603,
          362012.958757259,
          363885.77757322794,
          377308.59613738,
          368415.85328044294,
          339145.82962033,
          329380.898350257,
          319120.405105406,
          315274.093567475,
          307535.64219939697,
          320230.170467384,
          324279.449842642,
          323372.578397668,
          336500.578934838,
          336268.110889212,
          329338.17108487897,
          315937.965878291,
          334026.154705205,
          333713.650695256,
          326597.79054972896,
          322440.486501595,
          310307.297357959,
          45809.0714101803,
          47406.842485675304,
          51850.565673314806,
          50502.1225996005,
          51303.204149317804,
          55134.32946640481,
          52348.468811075305,
          55454.21105734981,
          59976.20991864,
          67612.8118918815,
          66411.3299157974,
          66113.7557093707,
          69954.4945153443,
          64697.2992169906,
          67458.1591415789,
          70034.5294076015,
          65465.41971559,
          62791.147766638496,
          60550.040203182805,
          58004.1969738053,
          53583.885859873895,
          52150.653443810996,
          50262.422441618895,
          48495.550477338,
          48353.6903302063,
          174731.886787722,
          143586.607530198,
          132732.908743069,
          124819.100092444,
          122610.776956391,
          128587.00363972699,
          131939.69450211,
          123515.853269646,
          106813.97752929901,
          90443.3507659838,
          95190.9034483113,
          100377.98696272199,
          100655.31311867,
          105737.481034365,
          104575.07775696699,
          102414.252372896,
          106175.991142102,
          104540.350942151,
          101035.42080608901,
          85288.2940231284,
          80795.77402592769,
          86163.6343263804,
          84661.2305445011,
          74083.358238036,
          74046.4676268308,
          2589725.30553003,
          2433187.64541119,
          2013175.48242406,
          1909577.84022625,
          1685494.54694021,
          1629496.29767829,
          1581293.21958917,
          1502079.86636293,
          1476588.92527691,
          1512651.93084896,
          1504182.72891476,
          1542500.06477849,
          1531200.21174359,
          1568510.14348381,
          1575180.85973468,
          1593933.34385535,
          1653289.19267186,
          1653139.05550251,
          1684999.82263502,
          1576703.96685802,
          1662592.25855081,
          1717221.95058062,
          1727489.10411795,
          1666644.42307436,
          1671568.65225681,
          61837.5667856109,
          53447.440015000306,
          48979.1257649755,
          46467.5491941913,
          43638.4901175531,
          44679.5449583075,
          44978.911578943495,
          45040.2697406883,
          44016.987001717695,
          43181.3144851094,
          41155.011450614904,
          43468.0933515512,
          41593.5332476528,
          42060.5502497607,
          42576.9588896981,
          42581.0225015084,
          42320.4844795718,
          40725.2998364864,
          41236.324036934,
          37433.4334191131,
          38385.9425232062,
          37880.853145543304,
          35867.8962742317,
          35395.154862923904,
          33387.4287224285,
          15088.305046245601,
          14007.2826135476,
          14009.3986307298,
          14303.993650433702,
          14648.7255407292,
          15277.744775225901,
          15945.176113675301,
          16275.559666751598,
          15980.4778466171,
          15353.0714374852,
          15460.154173141002,
          16384.7561407934,
          16526.3127114803,
          16289.385897298,
          16639.1710998347,
          16938.3242617391,
          17129.8019864058,
          17272.379186678798,
          18219.7304323115,
          16328.2103332782,
          16363.4297727931,
          16348.2391107374,
          15800.18723876,
          15148.7253832075,
          13489.9800352085,
          230154.963134126,
          239725.18368910602,
          248407.16013564102,
          239938.28725599102,
          252389.348341529,
          265725.3506663,
          253708.870128625,
          266391.92680196,
          274911.096949235,
          298531.02791303396,
          311599.72388392803,
          312395.403164009,
          332200.842752654,
          336672.422515549,
          353472.612328343,
          368745.068407983,
          360063.336319558,
          367292.283251434,
          335994.803720112,
          296617.991048484,
          283581.400657324,
          283918.679194864,
          279830.308257069,
          252259.69048815302,
          253466.91795777602,
          57546.5432515479,
          57755.634675433,
          57482.0646582609,
          57425.9514469075,
          59876.998756461,
          59318.672714076,
          63238.7859377907,
          58154.52971929179,
          58733.4063631372,
          55861.2192155216,
          54730.4244140378,
          55686.7457499206,
          56631.8961687906,
          57203.59907400559,
          56428.8031427144,
          53859.20572584731,
          53697.6559330674,
          52911.72672728769,
          50831.576814380096,
          47267.446667312695,
          53057.7346342268,
          49133.5869433916,
          46559.640023029904,
          44899.151935718604,
          43404.9031709849,
          44115.53408597309,
          46144.809538992995,
          45974.7025405505,
          43556.2764199287,
          42613.303737038,
          43368.4571561622,
          44088.334946669405,
          42971.6244552183,
          44522.371421324904,
          44354.5431186679,
          43545.9597055165,
          45002.278774229904,
          43373.9855504706,
          44587.9802671018,
          45149.667089312,
          45778.0894571267,
          45351.1719954308,
          43360.3856976932,
          44676.9439665557,
          43509.0865581053,
          45027.0644798623,
          40973.1491672158,
          42241.5536052143,
          43181.659439514304,
          39265.0525915552,
          146750.63697943,
          152335.17422431402,
          158571.546483621,
          167443.152055541,
          164623.553279146,
          178812.409473623,
          194751.77940590002,
          208480.069613411,
          208365.343988278,
          206388.619824108,
          232549.18950468,
          217469.50328560802,
          226365.412047989,
          240902.462872633,
          253172.078433031,
          279130.740814477,
          302195.954579745,
          333166.418749646,
          323536.545145816,
          310580.701035275,
          320356.658972933,
          338094.408177677,
          363126.007248006,
          354961.042273042,
          382213.40168630704,
          693024.76655995,
          621305.2363994321,
          577064.259624575,
          498504.838991931,
          409721.673978029,
          380871.283680675,
          344347.189394243,
          334208.70221489196,
          309207.662874893,
          284109.569319534,
          271429.773920677,
          290774.709706588,
          281939.349721843,
          285720.47993753,
          296753.731531998,
          307341.483489843,
          325586.622022044,
          330087.250809744,
          317063.84372919396,
          269598.42182821897,
          287113.606385185,
          301273.502167972,
          295706.06434745603,
          287436.404374375,
          247561.22104158,
          596398.4732074271,
          604652.896877579,
          589306.018141796,
          574764.752712009,
          569458.364876459,
          561202.9539948001,
          582752.784369152,
          557608.779401985,
          561253.722845185,
          553827.549146135,
          561280.866183966,
          570697.030328595,
          554227.635799311,
          565475.5203474,
          566598.164015122,
          563783.537554562,
          562083.094783584,
          553719.939024983,
          539916.163191626,
          489012.500484764,
          507595.711988819,
          464885.74892695295,
          484388.090389505,
          475832.05058692704,
          434794.556933168,
          5115095.04749812,
          5064879.75034285,
          5170274.35048577,
          5284758.62020545,
          5377492.21747199,
          5441599.22972902,
          5630113.71546884,
          5704996.86860223,
          5744672.1958021,
          5818972.385413901,
          5992438.03977823,
          5894462.94151346,
          5935738.78360961,
          5982289.16712555,
          6096978.36306809,
          6122746.6118598,
          6042393.61487176,
          6121653.86307212,
          5923201.37582301,
          5488320.28042503,
          5688756.00501015,
          5559507.66443653,
          5349220.94664921,
          5502550.71398641,
          5556006.57780565
         ]
        }
       ],
       "layout": {
        "paper_bgcolor": "rgba(233,233,233,1)",
        "plot_bgcolor": "rgba(240,235,228,1)",
        "template": {
         "data": {
          "bar": [
           {
            "error_x": {
             "color": "#2a3f5f"
            },
            "error_y": {
             "color": "#2a3f5f"
            },
            "marker": {
             "line": {
              "color": "#E5ECF6",
              "width": 0.5
             }
            },
            "type": "bar"
           }
          ],
          "barpolar": [
           {
            "marker": {
             "line": {
              "color": "#E5ECF6",
              "width": 0.5
             }
            },
            "type": "barpolar"
           }
          ],
          "carpet": [
           {
            "aaxis": {
             "endlinecolor": "#2a3f5f",
             "gridcolor": "white",
             "linecolor": "white",
             "minorgridcolor": "white",
             "startlinecolor": "#2a3f5f"
            },
            "baxis": {
             "endlinecolor": "#2a3f5f",
             "gridcolor": "white",
             "linecolor": "white",
             "minorgridcolor": "white",
             "startlinecolor": "#2a3f5f"
            },
            "type": "carpet"
           }
          ],
          "choropleth": [
           {
            "colorbar": {
             "outlinewidth": 0,
             "ticks": ""
            },
            "type": "choropleth"
           }
          ],
          "contour": [
           {
            "colorbar": {
             "outlinewidth": 0,
             "ticks": ""
            },
            "colorscale": [
             [
              0,
              "#0d0887"
             ],
             [
              0.1111111111111111,
              "#46039f"
             ],
             [
              0.2222222222222222,
              "#7201a8"
             ],
             [
              0.3333333333333333,
              "#9c179e"
             ],
             [
              0.4444444444444444,
              "#bd3786"
             ],
             [
              0.5555555555555556,
              "#d8576b"
             ],
             [
              0.6666666666666666,
              "#ed7953"
             ],
             [
              0.7777777777777778,
              "#fb9f3a"
             ],
             [
              0.8888888888888888,
              "#fdca26"
             ],
             [
              1,
              "#f0f921"
             ]
            ],
            "type": "contour"
           }
          ],
          "contourcarpet": [
           {
            "colorbar": {
             "outlinewidth": 0,
             "ticks": ""
            },
            "type": "contourcarpet"
           }
          ],
          "heatmap": [
           {
            "colorbar": {
             "outlinewidth": 0,
             "ticks": ""
            },
            "colorscale": [
             [
              0,
              "#0d0887"
             ],
             [
              0.1111111111111111,
              "#46039f"
             ],
             [
              0.2222222222222222,
              "#7201a8"
             ],
             [
              0.3333333333333333,
              "#9c179e"
             ],
             [
              0.4444444444444444,
              "#bd3786"
             ],
             [
              0.5555555555555556,
              "#d8576b"
             ],
             [
              0.6666666666666666,
              "#ed7953"
             ],
             [
              0.7777777777777778,
              "#fb9f3a"
             ],
             [
              0.8888888888888888,
              "#fdca26"
             ],
             [
              1,
              "#f0f921"
             ]
            ],
            "type": "heatmap"
           }
          ],
          "heatmapgl": [
           {
            "colorbar": {
             "outlinewidth": 0,
             "ticks": ""
            },
            "colorscale": [
             [
              0,
              "#0d0887"
             ],
             [
              0.1111111111111111,
              "#46039f"
             ],
             [
              0.2222222222222222,
              "#7201a8"
             ],
             [
              0.3333333333333333,
              "#9c179e"
             ],
             [
              0.4444444444444444,
              "#bd3786"
             ],
             [
              0.5555555555555556,
              "#d8576b"
             ],
             [
              0.6666666666666666,
              "#ed7953"
             ],
             [
              0.7777777777777778,
              "#fb9f3a"
             ],
             [
              0.8888888888888888,
              "#fdca26"
             ],
             [
              1,
              "#f0f921"
             ]
            ],
            "type": "heatmapgl"
           }
          ],
          "histogram": [
           {
            "marker": {
             "colorbar": {
              "outlinewidth": 0,
              "ticks": ""
             }
            },
            "type": "histogram"
           }
          ],
          "histogram2d": [
           {
            "colorbar": {
             "outlinewidth": 0,
             "ticks": ""
            },
            "colorscale": [
             [
              0,
              "#0d0887"
             ],
             [
              0.1111111111111111,
              "#46039f"
             ],
             [
              0.2222222222222222,
              "#7201a8"
             ],
             [
              0.3333333333333333,
              "#9c179e"
             ],
             [
              0.4444444444444444,
              "#bd3786"
             ],
             [
              0.5555555555555556,
              "#d8576b"
             ],
             [
              0.6666666666666666,
              "#ed7953"
             ],
             [
              0.7777777777777778,
              "#fb9f3a"
             ],
             [
              0.8888888888888888,
              "#fdca26"
             ],
             [
              1,
              "#f0f921"
             ]
            ],
            "type": "histogram2d"
           }
          ],
          "histogram2dcontour": [
           {
            "colorbar": {
             "outlinewidth": 0,
             "ticks": ""
            },
            "colorscale": [
             [
              0,
              "#0d0887"
             ],
             [
              0.1111111111111111,
              "#46039f"
             ],
             [
              0.2222222222222222,
              "#7201a8"
             ],
             [
              0.3333333333333333,
              "#9c179e"
             ],
             [
              0.4444444444444444,
              "#bd3786"
             ],
             [
              0.5555555555555556,
              "#d8576b"
             ],
             [
              0.6666666666666666,
              "#ed7953"
             ],
             [
              0.7777777777777778,
              "#fb9f3a"
             ],
             [
              0.8888888888888888,
              "#fdca26"
             ],
             [
              1,
              "#f0f921"
             ]
            ],
            "type": "histogram2dcontour"
           }
          ],
          "mesh3d": [
           {
            "colorbar": {
             "outlinewidth": 0,
             "ticks": ""
            },
            "type": "mesh3d"
           }
          ],
          "parcoords": [
           {
            "line": {
             "colorbar": {
              "outlinewidth": 0,
              "ticks": ""
             }
            },
            "type": "parcoords"
           }
          ],
          "pie": [
           {
            "automargin": true,
            "type": "pie"
           }
          ],
          "scatter": [
           {
            "marker": {
             "colorbar": {
              "outlinewidth": 0,
              "ticks": ""
             }
            },
            "type": "scatter"
           }
          ],
          "scatter3d": [
           {
            "line": {
             "colorbar": {
              "outlinewidth": 0,
              "ticks": ""
             }
            },
            "marker": {
             "colorbar": {
              "outlinewidth": 0,
              "ticks": ""
             }
            },
            "type": "scatter3d"
           }
          ],
          "scattercarpet": [
           {
            "marker": {
             "colorbar": {
              "outlinewidth": 0,
              "ticks": ""
             }
            },
            "type": "scattercarpet"
           }
          ],
          "scattergeo": [
           {
            "marker": {
             "colorbar": {
              "outlinewidth": 0,
              "ticks": ""
             }
            },
            "type": "scattergeo"
           }
          ],
          "scattergl": [
           {
            "marker": {
             "colorbar": {
              "outlinewidth": 0,
              "ticks": ""
             }
            },
            "type": "scattergl"
           }
          ],
          "scattermapbox": [
           {
            "marker": {
             "colorbar": {
              "outlinewidth": 0,
              "ticks": ""
             }
            },
            "type": "scattermapbox"
           }
          ],
          "scatterpolar": [
           {
            "marker": {
             "colorbar": {
              "outlinewidth": 0,
              "ticks": ""
             }
            },
            "type": "scatterpolar"
           }
          ],
          "scatterpolargl": [
           {
            "marker": {
             "colorbar": {
              "outlinewidth": 0,
              "ticks": ""
             }
            },
            "type": "scatterpolargl"
           }
          ],
          "scatterternary": [
           {
            "marker": {
             "colorbar": {
              "outlinewidth": 0,
              "ticks": ""
             }
            },
            "type": "scatterternary"
           }
          ],
          "surface": [
           {
            "colorbar": {
             "outlinewidth": 0,
             "ticks": ""
            },
            "colorscale": [
             [
              0,
              "#0d0887"
             ],
             [
              0.1111111111111111,
              "#46039f"
             ],
             [
              0.2222222222222222,
              "#7201a8"
             ],
             [
              0.3333333333333333,
              "#9c179e"
             ],
             [
              0.4444444444444444,
              "#bd3786"
             ],
             [
              0.5555555555555556,
              "#d8576b"
             ],
             [
              0.6666666666666666,
              "#ed7953"
             ],
             [
              0.7777777777777778,
              "#fb9f3a"
             ],
             [
              0.8888888888888888,
              "#fdca26"
             ],
             [
              1,
              "#f0f921"
             ]
            ],
            "type": "surface"
           }
          ],
          "table": [
           {
            "cells": {
             "fill": {
              "color": "#EBF0F8"
             },
             "line": {
              "color": "white"
             }
            },
            "header": {
             "fill": {
              "color": "#C8D4E3"
             },
             "line": {
              "color": "white"
             }
            },
            "type": "table"
           }
          ]
         },
         "layout": {
          "annotationdefaults": {
           "arrowcolor": "#2a3f5f",
           "arrowhead": 0,
           "arrowwidth": 1
          },
          "coloraxis": {
           "colorbar": {
            "outlinewidth": 0,
            "ticks": ""
           }
          },
          "colorscale": {
           "diverging": [
            [
             0,
             "#8e0152"
            ],
            [
             0.1,
             "#c51b7d"
            ],
            [
             0.2,
             "#de77ae"
            ],
            [
             0.3,
             "#f1b6da"
            ],
            [
             0.4,
             "#fde0ef"
            ],
            [
             0.5,
             "#f7f7f7"
            ],
            [
             0.6,
             "#e6f5d0"
            ],
            [
             0.7,
             "#b8e186"
            ],
            [
             0.8,
             "#7fbc41"
            ],
            [
             0.9,
             "#4d9221"
            ],
            [
             1,
             "#276419"
            ]
           ],
           "sequential": [
            [
             0,
             "#0d0887"
            ],
            [
             0.1111111111111111,
             "#46039f"
            ],
            [
             0.2222222222222222,
             "#7201a8"
            ],
            [
             0.3333333333333333,
             "#9c179e"
            ],
            [
             0.4444444444444444,
             "#bd3786"
            ],
            [
             0.5555555555555556,
             "#d8576b"
            ],
            [
             0.6666666666666666,
             "#ed7953"
            ],
            [
             0.7777777777777778,
             "#fb9f3a"
            ],
            [
             0.8888888888888888,
             "#fdca26"
            ],
            [
             1,
             "#f0f921"
            ]
           ],
           "sequentialminus": [
            [
             0,
             "#0d0887"
            ],
            [
             0.1111111111111111,
             "#46039f"
            ],
            [
             0.2222222222222222,
             "#7201a8"
            ],
            [
             0.3333333333333333,
             "#9c179e"
            ],
            [
             0.4444444444444444,
             "#bd3786"
            ],
            [
             0.5555555555555556,
             "#d8576b"
            ],
            [
             0.6666666666666666,
             "#ed7953"
            ],
            [
             0.7777777777777778,
             "#fb9f3a"
            ],
            [
             0.8888888888888888,
             "#fdca26"
            ],
            [
             1,
             "#f0f921"
            ]
           ]
          },
          "colorway": [
           "#636efa",
           "#EF553B",
           "#00cc96",
           "#ab63fa",
           "#FFA15A",
           "#19d3f3",
           "#FF6692",
           "#B6E880",
           "#FF97FF",
           "#FECB52"
          ],
          "font": {
           "color": "#2a3f5f"
          },
          "geo": {
           "bgcolor": "white",
           "lakecolor": "white",
           "landcolor": "#E5ECF6",
           "showlakes": true,
           "showland": true,
           "subunitcolor": "white"
          },
          "hoverlabel": {
           "align": "left"
          },
          "hovermode": "closest",
          "mapbox": {
           "style": "light"
          },
          "paper_bgcolor": "white",
          "plot_bgcolor": "#E5ECF6",
          "polar": {
           "angularaxis": {
            "gridcolor": "white",
            "linecolor": "white",
            "ticks": ""
           },
           "bgcolor": "#E5ECF6",
           "radialaxis": {
            "gridcolor": "white",
            "linecolor": "white",
            "ticks": ""
           }
          },
          "scene": {
           "xaxis": {
            "backgroundcolor": "#E5ECF6",
            "gridcolor": "white",
            "gridwidth": 2,
            "linecolor": "white",
            "showbackground": true,
            "ticks": "",
            "zerolinecolor": "white"
           },
           "yaxis": {
            "backgroundcolor": "#E5ECF6",
            "gridcolor": "white",
            "gridwidth": 2,
            "linecolor": "white",
            "showbackground": true,
            "ticks": "",
            "zerolinecolor": "white"
           },
           "zaxis": {
            "backgroundcolor": "#E5ECF6",
            "gridcolor": "white",
            "gridwidth": 2,
            "linecolor": "white",
            "showbackground": true,
            "ticks": "",
            "zerolinecolor": "white"
           }
          },
          "shapedefaults": {
           "line": {
            "color": "#2a3f5f"
           }
          },
          "ternary": {
           "aaxis": {
            "gridcolor": "white",
            "linecolor": "white",
            "ticks": ""
           },
           "baxis": {
            "gridcolor": "white",
            "linecolor": "white",
            "ticks": ""
           },
           "bgcolor": "#E5ECF6",
           "caxis": {
            "gridcolor": "white",
            "linecolor": "white",
            "ticks": ""
           }
          },
          "title": {
           "x": 0.05
          },
          "xaxis": {
           "automargin": true,
           "gridcolor": "white",
           "linecolor": "white",
           "ticks": "",
           "title": {
            "standoff": 15
           },
           "zerolinecolor": "white",
           "zerolinewidth": 2
          },
          "yaxis": {
           "automargin": true,
           "gridcolor": "white",
           "linecolor": "white",
           "ticks": "",
           "title": {
            "standoff": 15
           },
           "zerolinecolor": "white",
           "zerolinewidth": 2
          }
         }
        },
        "title": {
         "font": {
          "family": "Times New Roman",
          "size": 22
         },
         "text": "Change in CO2 between 1880 ~ 2016",
         "x": 0.5
        },
        "xaxis": {
         "color": "black",
         "showgrid": true,
         "title": {
          "text": "year"
         }
        },
        "yaxis": {
         "color": "black",
         "showgrid": true,
         "title": {
          "text": "value"
         }
        }
       }
      },
      "text/html": [
       "<div>                            <div id=\"690b536e-cb15-4d74-97a4-873c67820e50\" class=\"plotly-graph-div\" style=\"height:525px; width:100%;\"></div>            <script type=\"text/javascript\">                require([\"plotly\"], function(Plotly) {                    window.PLOTLYENV=window.PLOTLYENV || {};                                    if (document.getElementById(\"690b536e-cb15-4d74-97a4-873c67820e50\")) {                    Plotly.newPlot(                        \"690b536e-cb15-4d74-97a4-873c67820e50\",                        [{\"line\": {\"color\": \"rgb(203, 67, 53)\"}, \"name\": \"CO2 emissions\", \"opacity\": 0.8, \"type\": \"scatter\", \"x\": [[2014, \"carbon_dioxide_co2_emissions_without_land_use_land_use_change_and_forestry_lulucf_in_kilotonne_co2_equivalent\", 47597.7335272535], [2013, \"carbon_dioxide_co2_emissions_without_land_use_land_use_change_and_forestry_lulucf_in_kilotonne_co2_equivalent\", 51834.6967381541], [2012, \"carbon_dioxide_co2_emissions_without_land_use_land_use_change_and_forestry_lulucf_in_kilotonne_co2_equivalent\", 50983.2728750769], [2011, \"carbon_dioxide_co2_emissions_without_land_use_land_use_change_and_forestry_lulucf_in_kilotonne_co2_equivalent\", 56478.745588696394], [2010, \"carbon_dioxide_co2_emissions_without_land_use_land_use_change_and_forestry_lulucf_in_kilotonne_co2_equivalent\", 63828.0182275297], [2009, \"carbon_dioxide_co2_emissions_without_land_use_land_use_change_and_forestry_lulucf_in_kilotonne_co2_equivalent\", 55635.582769013796], [2008, \"carbon_dioxide_co2_emissions_without_land_use_land_use_change_and_forestry_lulucf_in_kilotonne_co2_equivalent\", 58461.6330236854], [2007, \"carbon_dioxide_co2_emissions_without_land_use_land_use_change_and_forestry_lulucf_in_kilotonne_co2_equivalent\", 66531.7208142561], [2006, \"carbon_dioxide_co2_emissions_without_land_use_land_use_change_and_forestry_lulucf_in_kilotonne_co2_equivalent\", 68201.9059970754], [2005, \"carbon_dioxide_co2_emissions_without_land_use_land_use_change_and_forestry_lulucf_in_kilotonne_co2_equivalent\", 56912.31489298231], [2004, \"carbon_dioxide_co2_emissions_without_land_use_land_use_change_and_forestry_lulucf_in_kilotonne_co2_equivalent\", 68821.8128908428], [2003, \"carbon_dioxide_co2_emissions_without_land_use_land_use_change_and_forestry_lulucf_in_kilotonne_co2_equivalent\", 72522.5901920366], [2002, \"carbon_dioxide_co2_emissions_without_land_use_land_use_change_and_forestry_lulucf_in_kilotonne_co2_equivalent\", 64946.46820599151], [2001, \"carbon_dioxide_co2_emissions_without_land_use_land_use_change_and_forestry_lulucf_in_kilotonne_co2_equivalent\", 62442.6400686017], [2000, \"carbon_dioxide_co2_emissions_without_land_use_land_use_change_and_forestry_lulucf_in_kilotonne_co2_equivalent\", 56973.350527342904], [1999, \"carbon_dioxide_co2_emissions_without_land_use_land_use_change_and_forestry_lulucf_in_kilotonne_co2_equivalent\", 58872.9308028447], [1998, \"carbon_dioxide_co2_emissions_without_land_use_land_use_change_and_forestry_lulucf_in_kilotonne_co2_equivalent\", 59351.4981462986], [1997, \"carbon_dioxide_co2_emissions_without_land_use_land_use_change_and_forestry_lulucf_in_kilotonne_co2_equivalent\", 62698.0867925088], [1996, \"carbon_dioxide_co2_emissions_without_land_use_land_use_change_and_forestry_lulucf_in_kilotonne_co2_equivalent\", 64038.9222021128], [1995, \"carbon_dioxide_co2_emissions_without_land_use_land_use_change_and_forestry_lulucf_in_kilotonne_co2_equivalent\", 58126.247543132995], [1994, \"carbon_dioxide_co2_emissions_without_land_use_land_use_change_and_forestry_lulucf_in_kilotonne_co2_equivalent\", 61696.3853292446], [1993, \"carbon_dioxide_co2_emissions_without_land_use_land_use_change_and_forestry_lulucf_in_kilotonne_co2_equivalent\", 56333.26799423], [1992, \"carbon_dioxide_co2_emissions_without_land_use_land_use_change_and_forestry_lulucf_in_kilotonne_co2_equivalent\", 54264.3793101323], [1991, \"carbon_dioxide_co2_emissions_without_land_use_land_use_change_and_forestry_lulucf_in_kilotonne_co2_equivalent\", 55187.1794528947], [1990, \"carbon_dioxide_co2_emissions_without_land_use_land_use_change_and_forestry_lulucf_in_kilotonne_co2_equivalent\", 56950.84818202019], [2014, \"greenhouse_gas_ghgs_emissions_including_indirect_co2_without_lulucf_in_kilotonne_co2_equivalent\", 59105.0771867268], [2013, \"greenhouse_gas_ghgs_emissions_including_indirect_co2_without_lulucf_in_kilotonne_co2_equivalent\", 63276.8885138436], [2012, \"greenhouse_gas_ghgs_emissions_including_indirect_co2_without_lulucf_in_kilotonne_co2_equivalent\", 62403.7480573425], [2011, \"greenhouse_gas_ghgs_emissions_including_indirect_co2_without_lulucf_in_kilotonne_co2_equivalent\", 68033.9654261421], [2010, \"greenhouse_gas_ghgs_emissions_including_indirect_co2_without_lulucf_in_kilotonne_co2_equivalent\", 75930.9702322258], [2009, \"greenhouse_gas_ghgs_emissions_including_indirect_co2_without_lulucf_in_kilotonne_co2_equivalent\", 67670.2911623919], [2008, \"greenhouse_gas_ghgs_emissions_including_indirect_co2_without_lulucf_in_kilotonne_co2_equivalent\", 71324.5754374347], [2007, \"greenhouse_gas_ghgs_emissions_including_indirect_co2_without_lulucf_in_kilotonne_co2_equivalent\", 79212.739202928], [2006, \"greenhouse_gas_ghgs_emissions_including_indirect_co2_without_lulucf_in_kilotonne_co2_equivalent\", 80739.06851817759], [2005, \"greenhouse_gas_ghgs_emissions_including_indirect_co2_without_lulucf_in_kilotonne_co2_equivalent\", 69548.8578469739], [2004, \"greenhouse_gas_ghgs_emissions_including_indirect_co2_without_lulucf_in_kilotonne_co2_equivalent\", 81433.97219130759], [2003, \"greenhouse_gas_ghgs_emissions_including_indirect_co2_without_lulucf_in_kilotonne_co2_equivalent\", 85219.2986612438], [2002, \"greenhouse_gas_ghgs_emissions_including_indirect_co2_without_lulucf_in_kilotonne_co2_equivalent\", 77740.96020796741], [2001, \"greenhouse_gas_ghgs_emissions_including_indirect_co2_without_lulucf_in_kilotonne_co2_equivalent\", 75324.0562236299], [2000, \"greenhouse_gas_ghgs_emissions_including_indirect_co2_without_lulucf_in_kilotonne_co2_equivalent\", 70009.50458996299], [1999, \"greenhouse_gas_ghgs_emissions_including_indirect_co2_without_lulucf_in_kilotonne_co2_equivalent\", 71916.2671877857], [1998, \"greenhouse_gas_ghgs_emissions_including_indirect_co2_without_lulucf_in_kilotonne_co2_equivalent\", 72547.80106975509], [1997, \"greenhouse_gas_ghgs_emissions_including_indirect_co2_without_lulucf_in_kilotonne_co2_equivalent\", 76216.9343799597], [1996, \"greenhouse_gas_ghgs_emissions_including_indirect_co2_without_lulucf_in_kilotonne_co2_equivalent\", 77635.8988543123], [1995, \"greenhouse_gas_ghgs_emissions_including_indirect_co2_without_lulucf_in_kilotonne_co2_equivalent\", 71848.4217814197], [1994, \"greenhouse_gas_ghgs_emissions_including_indirect_co2_without_lulucf_in_kilotonne_co2_equivalent\", 75401.5416216613], [1993, \"greenhouse_gas_ghgs_emissions_including_indirect_co2_without_lulucf_in_kilotonne_co2_equivalent\", 69898.9316762607], [1992, \"greenhouse_gas_ghgs_emissions_including_indirect_co2_without_lulucf_in_kilotonne_co2_equivalent\", 67657.2551627947], [1991, \"greenhouse_gas_ghgs_emissions_including_indirect_co2_without_lulucf_in_kilotonne_co2_equivalent\", 69069.9524625108], [1990, \"greenhouse_gas_ghgs_emissions_including_indirect_co2_without_lulucf_in_kilotonne_co2_equivalent\", 71338.5623970918], [2014, \"greenhouse_gas_ghgs_emissions_without_land_use_land_use_change_and_forestry_lulucf_in_kilotonne_co2_equivalent\", 59028.9870736425], [2013, \"greenhouse_gas_ghgs_emissions_without_land_use_land_use_change_and_forestry_lulucf_in_kilotonne_co2_equivalent\", 63196.6016281563], [2012, \"greenhouse_gas_ghgs_emissions_without_land_use_land_use_change_and_forestry_lulucf_in_kilotonne_co2_equivalent\", 62320.6350025736], [2011, \"greenhouse_gas_ghgs_emissions_without_land_use_land_use_change_and_forestry_lulucf_in_kilotonne_co2_equivalent\", 67947.0752353953], [2010, \"greenhouse_gas_ghgs_emissions_without_land_use_land_use_change_and_forestry_lulucf_in_kilotonne_co2_equivalent\", 75835.02042471571], [2009, \"greenhouse_gas_ghgs_emissions_without_land_use_land_use_change_and_forestry_lulucf_in_kilotonne_co2_equivalent\", 67575.29720161611], [2008, \"greenhouse_gas_ghgs_emissions_without_land_use_land_use_change_and_forestry_lulucf_in_kilotonne_co2_equivalent\", 71219.4402188768], [2007, \"greenhouse_gas_ghgs_emissions_without_land_use_land_use_change_and_forestry_lulucf_in_kilotonne_co2_equivalent\", 79096.3253832404], [2006, \"greenhouse_gas_ghgs_emissions_without_land_use_land_use_change_and_forestry_lulucf_in_kilotonne_co2_equivalent\", 80616.21920221], [2005, \"greenhouse_gas_ghgs_emissions_without_land_use_land_use_change_and_forestry_lulucf_in_kilotonne_co2_equivalent\", 69426.5733995718], [2004, \"greenhouse_gas_ghgs_emissions_without_land_use_land_use_change_and_forestry_lulucf_in_kilotonne_co2_equivalent\", 81300.6190152811], [2003, \"greenhouse_gas_ghgs_emissions_without_land_use_land_use_change_and_forestry_lulucf_in_kilotonne_co2_equivalent\", 85082.5791584517], [2002, \"greenhouse_gas_ghgs_emissions_without_land_use_land_use_change_and_forestry_lulucf_in_kilotonne_co2_equivalent\", 77600.20469346941], [2001, \"greenhouse_gas_ghgs_emissions_without_land_use_land_use_change_and_forestry_lulucf_in_kilotonne_co2_equivalent\", 75171.3885800538], [2000, \"greenhouse_gas_ghgs_emissions_without_land_use_land_use_change_and_forestry_lulucf_in_kilotonne_co2_equivalent\", 69855.01064532429], [1999, \"greenhouse_gas_ghgs_emissions_without_land_use_land_use_change_and_forestry_lulucf_in_kilotonne_co2_equivalent\", 71755.398003318], [1998, \"greenhouse_gas_ghgs_emissions_without_land_use_land_use_change_and_forestry_lulucf_in_kilotonne_co2_equivalent\", 72378.9825031932], [1997, \"greenhouse_gas_ghgs_emissions_without_land_use_land_use_change_and_forestry_lulucf_in_kilotonne_co2_equivalent\", 76038.3268859278], [1996, \"greenhouse_gas_ghgs_emissions_without_land_use_land_use_change_and_forestry_lulucf_in_kilotonne_co2_equivalent\", 77446.12727040281], [1995, \"greenhouse_gas_ghgs_emissions_without_land_use_land_use_change_and_forestry_lulucf_in_kilotonne_co2_equivalent\", 71644.301372275], [1994, \"greenhouse_gas_ghgs_emissions_without_land_use_land_use_change_and_forestry_lulucf_in_kilotonne_co2_equivalent\", 75186.22054528231], [1993, \"greenhouse_gas_ghgs_emissions_without_land_use_land_use_change_and_forestry_lulucf_in_kilotonne_co2_equivalent\", 69675.9495168867], [1992, \"greenhouse_gas_ghgs_emissions_without_land_use_land_use_change_and_forestry_lulucf_in_kilotonne_co2_equivalent\", 67421.2277150837], [1991, \"greenhouse_gas_ghgs_emissions_without_land_use_land_use_change_and_forestry_lulucf_in_kilotonne_co2_equivalent\", 68823.8503769894], [1990, \"greenhouse_gas_ghgs_emissions_without_land_use_land_use_change_and_forestry_lulucf_in_kilotonne_co2_equivalent\", 71076.99553431981], [2014, \"hydrofluorocarbons_hfcs_emissions_in_kilotonne_co2_equivalent\", 1743.2789877172102], [2013, \"hydrofluorocarbons_hfcs_emissions_in_kilotonne_co2_equivalent\", 1612.49060382639], [2012, \"hydrofluorocarbons_hfcs_emissions_in_kilotonne_co2_equivalent\", 1517.24760807946], [2011, \"hydrofluorocarbons_hfcs_emissions_in_kilotonne_co2_equivalent\", 1587.89581113814], [2010, \"hydrofluorocarbons_hfcs_emissions_in_kilotonne_co2_equivalent\", 1820.34465424587], [2009, \"hydrofluorocarbons_hfcs_emissions_in_kilotonne_co2_equivalent\", 1425.5620974960998], [2008, \"hydrofluorocarbons_hfcs_emissions_in_kilotonne_co2_equivalent\", 1338.7891627285198], [2007, \"hydrofluorocarbons_hfcs_emissions_in_kilotonne_co2_equivalent\", 1149.94356980483], [2006, \"hydrofluorocarbons_hfcs_emissions_in_kilotonne_co2_equivalent\", 910.5522551728751], [2005, \"hydrofluorocarbons_hfcs_emissions_in_kilotonne_co2_equivalent\", 895.4224777880639], [2004, \"hydrofluorocarbons_hfcs_emissions_in_kilotonne_co2_equivalent\", 688.64946146022], [2003, \"hydrofluorocarbons_hfcs_emissions_in_kilotonne_co2_equivalent\", 635.744609730428], [2002, \"hydrofluorocarbons_hfcs_emissions_in_kilotonne_co2_equivalent\", 634.0249759806591], [2001, \"hydrofluorocarbons_hfcs_emissions_in_kilotonne_co2_equivalent\", 592.117170735794], [2000, \"hydrofluorocarbons_hfcs_emissions_in_kilotonne_co2_equivalent\", 559.31846514369], [1999, \"hydrofluorocarbons_hfcs_emissions_in_kilotonne_co2_equivalent\", 330.627569534521], [1998, \"hydrofluorocarbons_hfcs_emissions_in_kilotonne_co2_equivalent\", 247.07648750263198], [1997, \"hydrofluorocarbons_hfcs_emissions_in_kilotonne_co2_equivalent\", 149.487601978443], [1996, \"hydrofluorocarbons_hfcs_emissions_in_kilotonne_co2_equivalent\", 74.188748278584], [1995, \"hydrofluorocarbons_hfcs_emissions_in_kilotonne_co2_equivalent\", 26.902252736683998], [1994, \"hydrofluorocarbons_hfcs_emissions_in_kilotonne_co2_equivalent\", 5.344578130212], [1993, \"hydrofluorocarbons_hfcs_emissions_in_kilotonne_co2_equivalent\", 0.19054196965599998], [1992, \"hydrofluorocarbons_hfcs_emissions_in_kilotonne_co2_equivalent\", 0.040504529712], [1991, \"hydrofluorocarbons_hfcs_emissions_in_kilotonne_co2_equivalent\", 0.03195116838], [1990, \"hydrofluorocarbons_hfcs_emissions_in_kilotonne_co2_equivalent\", 0.024024986], [2014, \"methane_ch4_emissions_without_land_use_land_use_change_and_forestry_lulucf_in_kilotonne_co2_equivalent\", 5016.974759271239], [2013, \"methane_ch4_emissions_without_land_use_land_use_change_and_forestry_lulucf_in_kilotonne_co2_equivalent\", 5122.63476634708], [2012, \"methane_ch4_emissions_without_land_use_land_use_change_and_forestry_lulucf_in_kilotonne_co2_equivalent\", 5264.8760815570295], [2011, \"methane_ch4_emissions_without_land_use_land_use_change_and_forestry_lulucf_in_kilotonne_co2_equivalent\", 5306.52535118825], [2010, \"methane_ch4_emissions_without_land_use_land_use_change_and_forestry_lulucf_in_kilotonne_co2_equivalent\", 5487.22228155129], [2009, \"methane_ch4_emissions_without_land_use_land_use_change_and_forestry_lulucf_in_kilotonne_co2_equivalent\", 5404.95544159765], [2008, \"methane_ch4_emissions_without_land_use_land_use_change_and_forestry_lulucf_in_kilotonne_co2_equivalent\", 5460.81837555993], [2007, \"methane_ch4_emissions_without_land_use_land_use_change_and_forestry_lulucf_in_kilotonne_co2_equivalent\", 5591.48730557558], [2006, \"methane_ch4_emissions_without_land_use_land_use_change_and_forestry_lulucf_in_kilotonne_co2_equivalent\", 5731.23824153894], [2005, \"methane_ch4_emissions_without_land_use_land_use_change_and_forestry_lulucf_in_kilotonne_co2_equivalent\", 5659.29231113621], [2004, \"methane_ch4_emissions_without_land_use_land_use_change_and_forestry_lulucf_in_kilotonne_co2_equivalent\", 5907.357864861109], [2003, \"methane_ch4_emissions_without_land_use_land_use_change_and_forestry_lulucf_in_kilotonne_co2_equivalent\", 6092.653114519279], [2002, \"methane_ch4_emissions_without_land_use_land_use_change_and_forestry_lulucf_in_kilotonne_co2_equivalent\", 6301.453498145811], [2001, \"methane_ch4_emissions_without_land_use_land_use_change_and_forestry_lulucf_in_kilotonne_co2_equivalent\", 6519.0265386705705], [2000, \"methane_ch4_emissions_without_land_use_land_use_change_and_forestry_lulucf_in_kilotonne_co2_equivalent\", 6661.09848014005], [1999, \"methane_ch4_emissions_without_land_use_land_use_change_and_forestry_lulucf_in_kilotonne_co2_equivalent\", 6911.88870684184], [1998, \"methane_ch4_emissions_without_land_use_land_use_change_and_forestry_lulucf_in_kilotonne_co2_equivalent\", 7062.38153640282], [1997, \"methane_ch4_emissions_without_land_use_land_use_change_and_forestry_lulucf_in_kilotonne_co2_equivalent\", 7308.33510699067], [1996, \"methane_ch4_emissions_without_land_use_land_use_change_and_forestry_lulucf_in_kilotonne_co2_equivalent\", 7392.08120336162], [1995, \"methane_ch4_emissions_without_land_use_land_use_change_and_forestry_lulucf_in_kilotonne_co2_equivalent\", 7469.55919015096], [1994, \"methane_ch4_emissions_without_land_use_land_use_change_and_forestry_lulucf_in_kilotonne_co2_equivalent\", 7674.10373712289], [1993, \"methane_ch4_emissions_without_land_use_land_use_change_and_forestry_lulucf_in_kilotonne_co2_equivalent\", 7707.9832414101], [1992, \"methane_ch4_emissions_without_land_use_land_use_change_and_forestry_lulucf_in_kilotonne_co2_equivalent\", 7669.45024354611], [1991, \"methane_ch4_emissions_without_land_use_land_use_change_and_forestry_lulucf_in_kilotonne_co2_equivalent\", 7714.302362410259], [1990, \"methane_ch4_emissions_without_land_use_land_use_change_and_forestry_lulucf_in_kilotonne_co2_equivalent\", 7744.716488145649], [2014, \"nitrous_oxide_n2o_emissions_without_land_use_land_use_change_and_forestry_lulucf_in_kilotonne_co2_equivalent\", 4626.44529423974], [2013, \"nitrous_oxide_n2o_emissions_without_land_use_land_use_change_and_forestry_lulucf_in_kilotonne_co2_equivalent\", 4589.41603649606], [2012, \"nitrous_oxide_n2o_emissions_without_land_use_land_use_change_and_forestry_lulucf_in_kilotonne_co2_equivalent\", 4527.42472097089], [2011, \"nitrous_oxide_n2o_emissions_without_land_use_land_use_change_and_forestry_lulucf_in_kilotonne_co2_equivalent\", 4547.93466904221], [2010, \"nitrous_oxide_n2o_emissions_without_land_use_land_use_change_and_forestry_lulucf_in_kilotonne_co2_equivalent\", 4676.58281741075], [2009, \"nitrous_oxide_n2o_emissions_without_land_use_land_use_change_and_forestry_lulucf_in_kilotonne_co2_equivalent\", 5070.90249707673], [2008, \"nitrous_oxide_n2o_emissions_without_land_use_land_use_change_and_forestry_lulucf_in_kilotonne_co2_equivalent\", 5917.6058746115], [2007, \"nitrous_oxide_n2o_emissions_without_land_use_land_use_change_and_forestry_lulucf_in_kilotonne_co2_equivalent\", 5793.79319374182], [2006, \"nitrous_oxide_n2o_emissions_without_land_use_land_use_change_and_forestry_lulucf_in_kilotonne_co2_equivalent\", 5725.750867327671], [2005, \"nitrous_oxide_n2o_emissions_without_land_use_land_use_change_and_forestry_lulucf_in_kilotonne_co2_equivalent\", 5921.3804785276], [2004, \"nitrous_oxide_n2o_emissions_without_land_use_land_use_change_and_forestry_lulucf_in_kilotonne_co2_equivalent\", 5844.56970927116], [2003, \"nitrous_oxide_n2o_emissions_without_land_use_land_use_change_and_forestry_lulucf_in_kilotonne_co2_equivalent\", 5787.699006248579], [2002, \"nitrous_oxide_n2o_emissions_without_land_use_land_use_change_and_forestry_lulucf_in_kilotonne_co2_equivalent\", 5676.418352843941], [2001, \"nitrous_oxide_n2o_emissions_without_land_use_land_use_change_and_forestry_lulucf_in_kilotonne_co2_equivalent\", 5569.394004287779], [2000, \"nitrous_oxide_n2o_emissions_without_land_use_land_use_change_and_forestry_lulucf_in_kilotonne_co2_equivalent\", 5621.95734522058], [1999, \"nitrous_oxide_n2o_emissions_without_land_use_land_use_change_and_forestry_lulucf_in_kilotonne_co2_equivalent\", 5573.50049147288], [1998, \"nitrous_oxide_n2o_emissions_without_land_use_land_use_change_and_forestry_lulucf_in_kilotonne_co2_equivalent\", 5678.76837027459], [1997, \"nitrous_oxide_n2o_emissions_without_land_use_land_use_change_and_forestry_lulucf_in_kilotonne_co2_equivalent\", 5831.75844753035], [1996, \"nitrous_oxide_n2o_emissions_without_land_use_land_use_change_and_forestry_lulucf_in_kilotonne_co2_equivalent\", 5886.29683034134], [1995, \"nitrous_oxide_n2o_emissions_without_land_use_land_use_change_and_forestry_lulucf_in_kilotonne_co2_equivalent\", 5984.195755668511], [1994, \"nitrous_oxide_n2o_emissions_without_land_use_land_use_change_and_forestry_lulucf_in_kilotonne_co2_equivalent\", 5786.16374762057], [1993, \"nitrous_oxide_n2o_emissions_without_land_use_land_use_change_and_forestry_lulucf_in_kilotonne_co2_equivalent\", 5614.44591958677], [1992, \"nitrous_oxide_n2o_emissions_without_land_use_land_use_change_and_forestry_lulucf_in_kilotonne_co2_equivalent\", 5461.41289768856], [1991, \"nitrous_oxide_n2o_emissions_without_land_use_land_use_change_and_forestry_lulucf_in_kilotonne_co2_equivalent\", 5881.936750306079], [1990, \"nitrous_oxide_n2o_emissions_without_land_use_land_use_change_and_forestry_lulucf_in_kilotonne_co2_equivalent\", 6328.71648460905], [2014, \"perfluorocarbons_pfcs_emissions_in_kilotonne_co2_equivalent\", 10.303868640736999], [2013, \"perfluorocarbons_pfcs_emissions_in_kilotonne_co2_equivalent\", 6.66307129273], [2012, \"perfluorocarbons_pfcs_emissions_in_kilotonne_co2_equivalent\", 5.65778724924], [2011, \"perfluorocarbons_pfcs_emissions_in_kilotonne_co2_equivalent\", 2.29971034165], [2010, \"perfluorocarbons_pfcs_emissions_in_kilotonne_co2_equivalent\", 1.060941], [2009, \"perfluorocarbons_pfcs_emissions_in_kilotonne_co2_equivalent\", 11.583874447780001], [2008, \"perfluorocarbons_pfcs_emissions_in_kilotonne_co2_equivalent\", 13.934893891920002], [2007, \"perfluorocarbons_pfcs_emissions_in_kilotonne_co2_equivalent\", 10.20663632902], [2006, \"perfluorocarbons_pfcs_emissions_in_kilotonne_co2_equivalent\", 19.2075921], [2005, \"perfluorocarbons_pfcs_emissions_in_kilotonne_co2_equivalent\", 15.9741532], [2004, \"perfluorocarbons_pfcs_emissions_in_kilotonne_co2_equivalent\", 14.3909954], [2003, \"perfluorocarbons_pfcs_emissions_in_kilotonne_co2_equivalent\", 18.32408905674], [2002, \"perfluorocarbons_pfcs_emissions_in_kilotonne_co2_equivalent\", 16.50458664744], [2001, \"perfluorocarbons_pfcs_emissions_in_kilotonne_co2_equivalent\", 22.6845372266], [2000, \"perfluorocarbons_pfcs_emissions_in_kilotonne_co2_equivalent\", 13.226121095], [1999, \"perfluorocarbons_pfcs_emissions_in_kilotonne_co2_equivalent\", 35.693488200000004], [1998, \"perfluorocarbons_pfcs_emissions_in_kilotonne_co2_equivalent\", 0.633393], [1997, \"perfluorocarbons_pfcs_emissions_in_kilotonne_co2_equivalent\", 0.5507770000000001], [1996, \"perfluorocarbons_pfcs_emissions_in_kilotonne_co2_equivalent\", 0.478937], [1995, \"perfluorocarbons_pfcs_emissions_in_kilotonne_co2_equivalent\", 0.416466], [1994, \"perfluorocarbons_pfcs_emissions_in_kilotonne_co2_equivalent\", 0.362145], [1993, \"perfluorocarbons_pfcs_emissions_in_kilotonne_co2_equivalent\", 0.31490799999999997], [1992, \"perfluorocarbons_pfcs_emissions_in_kilotonne_co2_equivalent\", 0.273833], [1991, \"perfluorocarbons_pfcs_emissions_in_kilotonne_co2_equivalent\", 0.238116], [1990, \"perfluorocarbons_pfcs_emissions_in_kilotonne_co2_equivalent\", 0.20705700000000002], [2014, \"sulphur_hexafluoride_sf6_emissions_in_kilotonne_co2_equivalent\", 34.25063652], [2013, \"sulphur_hexafluoride_sf6_emissions_in_kilotonne_co2_equivalent\", 30.70041204], [2012, \"sulphur_hexafluoride_sf6_emissions_in_kilotonne_co2_equivalent\", 22.15592964], [2011, \"sulphur_hexafluoride_sf6_emissions_in_kilotonne_co2_equivalent\", 23.67410498868], [2010, \"sulphur_hexafluoride_sf6_emissions_in_kilotonne_co2_equivalent\", 21.791502978144003], [2009, \"sulphur_hexafluoride_sf6_emissions_in_kilotonne_co2_equivalent\", 26.710521984108], [2008, \"sulphur_hexafluoride_sf6_emissions_in_kilotonne_co2_equivalent\", 26.658888399587997], [2007, \"sulphur_hexafluoride_sf6_emissions_in_kilotonne_co2_equivalent\", 19.173863533092], [2006, \"sulphur_hexafluoride_sf6_emissions_in_kilotonne_co2_equivalent\", 27.564248995128], [2005, \"sulphur_hexafluoride_sf6_emissions_in_kilotonne_co2_equivalent\", 22.189085937624], [2004, \"sulphur_hexafluoride_sf6_emissions_in_kilotonne_co2_equivalent\", 23.838093445812], [2003, \"sulphur_hexafluoride_sf6_emissions_in_kilotonne_co2_equivalent\", 25.56814686], [2002, \"sulphur_hexafluoride_sf6_emissions_in_kilotonne_co2_equivalent\", 25.33507386], [2001, \"sulphur_hexafluoride_sf6_emissions_in_kilotonne_co2_equivalent\", 25.526260531296], [2000, \"sulphur_hexafluoride_sf6_emissions_in_kilotonne_co2_equivalent\", 26.059706382048002], [1999, \"sulphur_hexafluoride_sf6_emissions_in_kilotonne_co2_equivalent\", 30.756944424084], [1998, \"sulphur_hexafluoride_sf6_emissions_in_kilotonne_co2_equivalent\", 38.624569714559996], [1997, \"sulphur_hexafluoride_sf6_emissions_in_kilotonne_co2_equivalent\", 50.108159919528], [1996, \"sulphur_hexafluoride_sf6_emissions_in_kilotonne_co2_equivalent\", 54.159349308492004], [1995, \"sulphur_hexafluoride_sf6_emissions_in_kilotonne_co2_equivalent\", 36.980164585872004], [1994, \"sulphur_hexafluoride_sf6_emissions_in_kilotonne_co2_equivalent\", 23.861008164012], [1993, \"sulphur_hexafluoride_sf6_emissions_in_kilotonne_co2_equivalent\", 19.746911690172], [1992, \"sulphur_hexafluoride_sf6_emissions_in_kilotonne_co2_equivalent\", 25.670926187016], [1991, \"sulphur_hexafluoride_sf6_emissions_in_kilotonne_co2_equivalent\", 40.161744209988], [1990, \"sulphur_hexafluoride_sf6_emissions_in_kilotonne_co2_equivalent\", 52.483297558872]], \"y\": [278265.89894076803, 279741.639011863, 284766.092717838, 289142.267681326, 293830.70914119197, 305162.543548735, 311914.819824229, 320439.116819391, 334328.142646602, 343713.906947774, 349885.43310892803, 357653.329899303, 361861.38789602794, 368345.97742510703, 381519.261592783, 385581.132806466, 391134.100909449, 398816.453543549, 404237.82821407705, 408448.47899963, 406200.993184341, 403705.52831399103, 406462.84770359995, 396913.93653029, 393126.94699428795, 62297.1655681668, 65903.51330825599, 60432.2493410185, 60790.7577213156, 61189.1025048542, 64202.1592201769, 67667.2626980903, 67455.8927304212, 67047.25066801769, 65660.1336422327, 66274.7432545115, 70299.4711482287, 72126.5914446168, 78023.9538963192, 78388.9974250799, 79588.5018807541, 76934.9515340371, 74268.1107226333, 74066.25579207629, 67682.72514935481, 72531.826129136, 70327.1670444138, 67698.6586349119, 67957.1211123863, 64262.5639931315, 100438.09506370801, 93649.166141388, 87060.81028961, 75551.755291625, 62402.279082903, 56005.93938238, 57251.355700374006, 60971.816305307, 57426.329584039006, 55033.952116896, 53686.857490672, 53783.847673632, 53843.704423847004, 54845.145835185, 58457.64761596, 59664.73908178, 62229.398882869005, 61563.881729087996, 63846.103794367, 59596.205375555, 61632.492704327, 61128.400592577, 60636.851387067, 61510.987153812996, 60615.645730992, 119982.50341850599, 123130.652897225, 122217.919518023, 121156.964954729, 124426.88570984801, 125519.441990638, 129010.471708927, 123495.742758683, 129737.090031462, 124208.07176996401, 126315.209948975, 125649.37053871699, 126015.194675856, 127523.989700176, 128640.48346799, 125118.01650407599, 122319.593759433, 118027.408646158, 120362.60984256199, 107282.543508312, 114155.386728776, 104945.713770963, 100931.595609756, 101744.736736883, 96325.4131833302, 78197.88125701991, 59769.3415026104, 56551.5935722778, 57203.9355176784, 55649.08131534309, 57221.6062924032, 57581.194759982005, 54790.134156638895, 52143.356769363796, 45751.789097251, 44896.670545605, 48568.917831870494, 45786.29471979821, 49971.1515762142, 49170.337689434804, 50191.116064429196, 51446.2829381283, 55184.4241047849, 53655.1401671903, 45487.8735503956, 47678.6489573594, 53020.9811161954, 48117.5560830313, 42534.9272034699, 45139.955286200995, 463493.33238757704, 454246.137946001, 468546.45891205897, 467607.237235461, 482691.67127179797, 497224.83692526, 510619.68221014796, 525120.011175522, 533794.453645326, 550183.063388038, 572290.3855184721, 564617.020300164, 569862.145645112, 587306.6785377121, 585414.8605743339, 579225.3357199039, 573479.269701141, 596041.321973836, 577444.930222255, 542829.458896225, 555003.760260925, 558152.72293811, 563423.613154917, 573094.038846396, 574099.775511611, 23390.075209187, 17268.9103457996, 16607.1344792414, 17081.2280227503, 16342.1818762402, 16992.8004192757, 17587.8984604534, 18666.4669752133, 19372.3876004329, 20215.653226001003, 19789.1217501208, 20943.109958683897, 22031.1266650621, 23355.2211046544, 23005.234853535298, 23451.845846674598, 23684.9350307817, 24955.3759314165, 23715.3843178607, 21965.6352675347, 21183.709310531, 20614.4404738916, 18776.381348248302, 18359.4998410627, 17607.3224145688, 4621.007176785, 5107.0828868809995, 5482.9748696609995, 5733.674102128, 5977.257104601999, 5848.043785196, 6156.132133960999, 6287.031657389, 6580.296149717, 6847.659115971999, 7095.964384675, 6969.466175788, 7160.3884576030005, 7550.081927808001, 7776.909404745, 7961.983988964001, 8152.492308125, 8458.664261444, 8620.395581741, 8372.396591774, 8004.912020821999, 7696.667805268001, 7160.971875548001, 6449.610812026999, 6878.555308563001, 161662.01887173599, 146047.33959314, 141565.719740237, 135588.565572531, 129188.73410927199, 129767.166426691, 132234.071786388, 128732.63871086901, 123696.517294897, 115475.25999595801, 125841.96926861301, 125541.536474736, 122593.400101873, 126151.648802001, 126876.91616231599, 124590.137925265, 125923.402444959, 126933.162985254, 121780.71631373199, 113970.029219436, 115757.36858641, 114113.146744787, 109841.328902436, 106477.08866661, 101159.12216724, 54306.4333356516, 64874.8138594637, 58960.3115236108, 61038.6712439614, 64988.7809040025, 61914.161012889694, 75110.840989738, 65457.834843324104, 61117.341629151604, 58456.415819836795, 54148.9049729906, 55845.14718054901, 55339.6716999691, 60493.961716299505, 54916.9105639724, 51307.2445174626, 59162.49963168849, 54429.0851744511, 50935.6715289027, 48592.21138513691, 48993.417375547404, 43970.7892561051, 39524.4020330104, 41537.0358081307, 37460.656458826496, 36666.027297448396, 33662.372514402996, 24187.827575952997, 18810.9639158495, 19626.445943231698, 17953.7359736926, 18666.1359705806, 18223.6042706384, 16684.3031468739, 15518.490620718701, 15141.3877177023, 15493.8609887605, 15020.2841500601, 16833.2142927367, 17055.0742451822, 16330.7338304477, 15719.5289253761, 18755.6479305233, 17264.5200333765, 14153.005161793999, 17833.779609148998, 18449.9308643309, 17304.637227643798, 19566.3683734371, 18918.7153387101, 4462205.14458363, 4403723.16147676, 4259922.81188982, 4177106.50927114, 4161321.31739286, 4204480.85553967, 4304793.28338046, 4216524.73281421, 4207666.03163804, 4139002.99479822, 4165145.4407136003, 4232036.86327499, 4208860.12268355, 4306103.94478558, 4314560.87112777, 4290586.66799942, 4297988.16195699, 4244213.12941646, 4149624.29618927, 3814305.25795781, 3933290.52224844, 3789763.64094378, 3728965.03097874, 3646389.52530377, 3463397.56376209, 56950.84818202019, 55187.1794528947, 54264.3793101323, 56333.26799423, 61696.3853292446, 58126.247543132995, 64038.9222021128, 62698.0867925088, 59351.4981462986, 58872.9308028447, 56973.350527342904, 62442.6400686017, 64946.46820599151, 72522.5901920366, 68821.8128908428, 56912.31489298231, 68201.9059970754, 66531.7208142561, 58461.6330236854, 55635.582769013796, 63828.0182275297, 56478.745588696394, 50983.2728750769, 51834.6967381541, 47597.7335272535, 400652.624020681, 425042.92070284794, 414955.076785321, 394334.83380057, 394536.96243659203, 401571.22545173205, 414013.070054113, 407475.111806521, 429051.49992304604, 420506.32195738796, 417116.544673865, 417864.70558616, 413569.247853298, 422312.88446679706, 423168.636085445, 428557.610248936, 417662.678913825, 408508.589897444, 401878.86465183, 383957.624293905, 394235.67413665896, 368183.438441815, 370491.15370314795, 369985.594525824, 341152.531504158, 1052238.2340002, 1014119.71977239, 965790.8352714891, 955977.599356065, 939207.328236553, 938148.0930919001, 958368.7246982291, 930768.560542915, 922778.540047935, 895336.786172859, 899284.993390718, 915634.439635279, 899161.567421003, 900377.585440517, 886344.629703686, 865958.513395873, 877422.45689212, 850795.7207596999, 853229.9407522541, 788422.437923384, 832259.203309583, 812483.2196210709, 817031.4401976591, 835792.632256705, 792902.788025434, 83403.7199982216, 83390.3546805713, 84949.02582987481, 84263.0078976228, 86425.85651187871, 86980.6457725937, 89134.4253965711, 93839.8699189575, 98663.19416252141, 97979.7783523224, 103019.66469008802, 105407.30759830901, 105051.46619910099, 109126.567554916, 109571.060909579, 113219.822395958, 111777.743714104, 114127.554270902, 110255.76552190699, 103969.78429385, 97035.0827603655, 94102.9439816174, 90710.5742463723, 82910.62595830549, 79628.2743994757, 73115.1986276439, 69392.7256389081, 62050.126397283304, 63174.978373230704, 61568.3745934751, 61354.4620207158, 62950.2532137021, 61549.912464161396, 61087.7637948753, 61593.1410164197, 58336.8070649933, 59995.734475138204, 58968.227770258396, 61766.839595490994, 60231.6619844867, 60329.505012084905, 59751.7310814697, 58419.039167147195, 57325.1623293437, 51630.690024407304, 52108.8927624657, 50272.8651021622, 46774.944845299906, 43930.8781767816, 43573.4088387418, 2106.02606837613, 2042.93697601045, 2172.61936326312, 2294.50464413142, 2248.36895252634, 2299.61365454463, 2385.91382557077, 2450.2439197906697, 2450.2342634285396, 2655.39472544564, 2728.93748510151, 2710.29472706565, 2795.90731167373, 2792.7231318536797, 2837.02901057771, 2797.3145919784497, 2939.27659673656, 3236.89533653359, 3567.2092596622706, 3521.8907096149, 3383.55221868805, 3298.56768958589, 3290.5764313292602, 3301.79631376577, 3272.20823296511, 32768.5267614461, 33508.44202382, 33344.1023763207, 33574.971741581496, 34696.485727221, 35718.7485642434, 37335.1081070614, 38675.594023595, 40572.1758596239, 42302.0878630807, 45123.335442264404, 47482.7207784323, 45952.7301698154, 45554.322521515, 46042.4022484132, 47952.2043880837, 47405.9667288105, 47493.1266838399, 47175.5402654915, 41996.3246778451, 41558.2750861697, 37895.195427036604, 38031.618716193596, 37049.423831397595, 36559.0685812916, 436204.249867101, 435938.613895185, 435535.83511771203, 429158.009174904, 421404.09992213297, 447201.16875556705, 440235.50720009796, 444055.43353522295, 454967.633181096, 459840.64226897, 465175.073350703, 471124.276709558, 473504.059244666, 489595.50811926, 492746.255602992, 490914.262890322, 486594.066569872, 478237.711240526, 467933.59324447, 418881.07690329297, 428879.68119438103, 416499.534208263, 389340.763399181, 362063.64929626795, 342826.677130676, 1155993.61991868, 1164474.34578731, 1174619.00608734, 1167714.71812869, 1228936.69128837, 1242494.02197198, 1255264.19757618, 1253057.30667741, 1218257.76164334, 1253082.14716425, 1274297.98807522, 1257384.56001844, 1294399.19841025, 1299490.60851261, 1298433.88847959, 1305938.82350271, 1285177.83728116, 1319799.19357988, 1235455.81022118, 1162606.19176432, 1212970.22514141, 1261862.93795353, 1296186.35836425, 1311509.14921749, 1265490.60931631, 19794.2944546485, 18021.1952417204, 14244.653385041102, 11966.1455063059, 10399.1411291737, 9141.35351650325, 9216.3839879477, 8677.545810834781, 8300.595278010831, 7709.04999256645, 7069.94204019894, 7480.50260667025, 7508.743242011859, 7703.77150791307, 7709.46076182043, 7790.40393195636, 8289.2066784209, 8610.25539674785, 8184.971246543109, 7443.28601054364, 8524.087226609341, 7807.65940956673, 7521.1225279261, 7353.22044369415, 7158.71803669862, 198.775112043709, 206.14670684560502, 206.776032802858, 214.86769081200902, 200.961153022994, 204.05592043076, 205.809089624326, 218.235372862382, 229.11710392683997, 226.448838014394, 216.750456413769, 214.58531081683898, 219.94720455154598, 229.265875097937, 229.29632162645302, 228.970323897819, 231.21730511588402, 200.920107913985, 219.698915477856, 205.59054373337898, 191.047501716787, 177.08804024541402, 185.63243136026, 192.86441578871498, 161.541816662752, 35812.8936845412, 37908.6124957275, 21207.8873890696, 16347.171825514799, 15765.4147628091, 15022.544134694399, 15676.831031798898, 15086.2857611334, 15901.5175726569, 13422.1511465775, 11801.964898672, 12507.966675104099, 12614.4250089828, 12605.238201652099, 13185.4933655222, 13946.884303249699, 14303.032680413, 15624.07633974, 14963.254716258401, 12727.12003622, 13618.9126645228, 13919.015498466599, 13975.5232139658, 12987.817531471599, 12732.798863701, 11944.007385281202, 12467.513194858899, 12253.5715940463, 12375.507079302, 11560.571694451799, 9155.85264991365, 9217.19030053529, 8530.7453454746, 7619.363289974209, 7986.155880568521, 8798.1820808658, 9311.91612729174, 10068.1403163216, 10443.3832173203, 11871.1077184731, 12130.9137942819, 11995.820174913999, 11398.7059208596, 11245.8724868627, 10725.5221348792, 11285.027417134399, 11168.5116663343, 10872.0644823704, 10303.0396071267, 9826.25327758284, 1860.47364818374, 2041.24609263112, 2174.6344662953, 2252.06276712832, 2302.77027658996, 2313.21608944717, 2329.18169821771, 2331.95473493565, 2338.06278770006, 2418.5555646106895, 2414.28381121499, 2550.60406083421, 2464.21222943374, 2666.13432525932, 2604.7448318278603, 2736.31293358517, 2776.31430670588, 2831.64226468627, 2822.40616690519, 2684.52129301397, 2690.51803520544, 2785.89656845722, 2868.6381281432696, 2476.0744290959196, 2483.5367864507, 95.3851833205759, 96.14720457957961, 101.74260303885401, 100.88193845588499, 101.872636286934, 98.99042989343651, 102.31953844658001, 101.0844813444, 99.81685913522449, 100.659281930126, 98.3243559267737, 98.5488680526432, 98.16127571954571, 95.29885497874581, 90.2005037527358, 88.7506912513649, 82.1239180016564, 82.7191922532151, 81.376901087813, 77.7719361035662, 75.4682651256747, 71.88189545089949, 75.1655688427013, 74.4309201897803, 162497.55962272198, 171081.473914794, 170975.24288850802, 171497.891064769, 175008.703110698, 173196.297429017, 182573.582902116, 175487.970753103, 176617.168521043, 171228.109552445, 172059.812230581, 177037.401595998, 176462.400587543, 179867.888967448, 181546.25702136, 177540.473199828, 172772.89277910301, 173178.42039588199, 176174.418350642, 170796.156580042, 182529.786939532, 169792.13654140302, 165665.023774753, 165475.88439356, 157789.581719585, 25419.7716716116, 26108.064501553, 28099.6999900939, 27697.2273476821, 27879.0592141093, 28143.4576273053, 29368.264992275897, 31363.452619479198, 29927.501379690697, 31523.186091685402, 32355.957023316, 34581.7227646535, 34768.2781829264, 36497.1710064703, 36063.663329171, 37645.434299041, 37519.1047271712, 36651.3714858119, 37674.0517694367, 34806.4020881589, 35017.2413542609, 34366.5826844218, 35621.026019351804, 35094.2867396817, 35616.9853050414, 35694.8243978959, 34070.978364376, 34833.2478178252, 36520.7838206741, 38434.7651928654, 38464.9066615123, 41586.7085615304, 41683.1333687712, 41939.0379176034, 42691.7563679429, 42194.6191784625, 43530.3487635507, 42655.8748276072, 43906.7096554175, 44320.004884584196, 43548.2302876495, 43913.7448222241, 45842.8095311711, 44893.0941871551, 43212.0924688473, 45833.8920681508, 44946.8693532922, 44553.965659781905, 44309.0559727695, 43869.451092480296, 378782.53916616796, 375684.15694778, 365865.15951878, 366427.66091343603, 362012.958757259, 363885.77757322794, 377308.59613738, 368415.85328044294, 339145.82962033, 329380.898350257, 319120.405105406, 315274.093567475, 307535.64219939697, 320230.170467384, 324279.449842642, 323372.578397668, 336500.578934838, 336268.110889212, 329338.17108487897, 315937.965878291, 334026.154705205, 333713.650695256, 326597.79054972896, 322440.486501595, 310307.297357959, 45809.0714101803, 47406.842485675304, 51850.565673314806, 50502.1225996005, 51303.204149317804, 55134.32946640481, 52348.468811075305, 55454.21105734981, 59976.20991864, 67612.8118918815, 66411.3299157974, 66113.7557093707, 69954.4945153443, 64697.2992169906, 67458.1591415789, 70034.5294076015, 65465.41971559, 62791.147766638496, 60550.040203182805, 58004.1969738053, 53583.885859873895, 52150.653443810996, 50262.422441618895, 48495.550477338, 48353.6903302063, 174731.886787722, 143586.607530198, 132732.908743069, 124819.100092444, 122610.776956391, 128587.00363972699, 131939.69450211, 123515.853269646, 106813.97752929901, 90443.3507659838, 95190.9034483113, 100377.98696272199, 100655.31311867, 105737.481034365, 104575.07775696699, 102414.252372896, 106175.991142102, 104540.350942151, 101035.42080608901, 85288.2940231284, 80795.77402592769, 86163.6343263804, 84661.2305445011, 74083.358238036, 74046.4676268308, 2589725.30553003, 2433187.64541119, 2013175.48242406, 1909577.84022625, 1685494.54694021, 1629496.29767829, 1581293.21958917, 1502079.86636293, 1476588.92527691, 1512651.93084896, 1504182.72891476, 1542500.06477849, 1531200.21174359, 1568510.14348381, 1575180.85973468, 1593933.34385535, 1653289.19267186, 1653139.05550251, 1684999.82263502, 1576703.96685802, 1662592.25855081, 1717221.95058062, 1727489.10411795, 1666644.42307436, 1671568.65225681, 61837.5667856109, 53447.440015000306, 48979.1257649755, 46467.5491941913, 43638.4901175531, 44679.5449583075, 44978.911578943495, 45040.2697406883, 44016.987001717695, 43181.3144851094, 41155.011450614904, 43468.0933515512, 41593.5332476528, 42060.5502497607, 42576.9588896981, 42581.0225015084, 42320.4844795718, 40725.2998364864, 41236.324036934, 37433.4334191131, 38385.9425232062, 37880.853145543304, 35867.8962742317, 35395.154862923904, 33387.4287224285, 15088.305046245601, 14007.2826135476, 14009.3986307298, 14303.993650433702, 14648.7255407292, 15277.744775225901, 15945.176113675301, 16275.559666751598, 15980.4778466171, 15353.0714374852, 15460.154173141002, 16384.7561407934, 16526.3127114803, 16289.385897298, 16639.1710998347, 16938.3242617391, 17129.8019864058, 17272.379186678798, 18219.7304323115, 16328.2103332782, 16363.4297727931, 16348.2391107374, 15800.18723876, 15148.7253832075, 13489.9800352085, 230154.963134126, 239725.18368910602, 248407.16013564102, 239938.28725599102, 252389.348341529, 265725.3506663, 253708.870128625, 266391.92680196, 274911.096949235, 298531.02791303396, 311599.72388392803, 312395.403164009, 332200.842752654, 336672.422515549, 353472.612328343, 368745.068407983, 360063.336319558, 367292.283251434, 335994.803720112, 296617.991048484, 283581.400657324, 283918.679194864, 279830.308257069, 252259.69048815302, 253466.91795777602, 57546.5432515479, 57755.634675433, 57482.0646582609, 57425.9514469075, 59876.998756461, 59318.672714076, 63238.7859377907, 58154.52971929179, 58733.4063631372, 55861.2192155216, 54730.4244140378, 55686.7457499206, 56631.8961687906, 57203.59907400559, 56428.8031427144, 53859.20572584731, 53697.6559330674, 52911.72672728769, 50831.576814380096, 47267.446667312695, 53057.7346342268, 49133.5869433916, 46559.640023029904, 44899.151935718604, 43404.9031709849, 44115.53408597309, 46144.809538992995, 45974.7025405505, 43556.2764199287, 42613.303737038, 43368.4571561622, 44088.334946669405, 42971.6244552183, 44522.371421324904, 44354.5431186679, 43545.9597055165, 45002.278774229904, 43373.9855504706, 44587.9802671018, 45149.667089312, 45778.0894571267, 45351.1719954308, 43360.3856976932, 44676.9439665557, 43509.0865581053, 45027.0644798623, 40973.1491672158, 42241.5536052143, 43181.659439514304, 39265.0525915552, 146750.63697943, 152335.17422431402, 158571.546483621, 167443.152055541, 164623.553279146, 178812.409473623, 194751.77940590002, 208480.069613411, 208365.343988278, 206388.619824108, 232549.18950468, 217469.50328560802, 226365.412047989, 240902.462872633, 253172.078433031, 279130.740814477, 302195.954579745, 333166.418749646, 323536.545145816, 310580.701035275, 320356.658972933, 338094.408177677, 363126.007248006, 354961.042273042, 382213.40168630704, 693024.76655995, 621305.2363994321, 577064.259624575, 498504.838991931, 409721.673978029, 380871.283680675, 344347.189394243, 334208.70221489196, 309207.662874893, 284109.569319534, 271429.773920677, 290774.709706588, 281939.349721843, 285720.47993753, 296753.731531998, 307341.483489843, 325586.622022044, 330087.250809744, 317063.84372919396, 269598.42182821897, 287113.606385185, 301273.502167972, 295706.06434745603, 287436.404374375, 247561.22104158, 596398.4732074271, 604652.896877579, 589306.018141796, 574764.752712009, 569458.364876459, 561202.9539948001, 582752.784369152, 557608.779401985, 561253.722845185, 553827.549146135, 561280.866183966, 570697.030328595, 554227.635799311, 565475.5203474, 566598.164015122, 563783.537554562, 562083.094783584, 553719.939024983, 539916.163191626, 489012.500484764, 507595.711988819, 464885.74892695295, 484388.090389505, 475832.05058692704, 434794.556933168, 5115095.04749812, 5064879.75034285, 5170274.35048577, 5284758.62020545, 5377492.21747199, 5441599.22972902, 5630113.71546884, 5704996.86860223, 5744672.1958021, 5818972.385413901, 5992438.03977823, 5894462.94151346, 5935738.78360961, 5982289.16712555, 6096978.36306809, 6122746.6118598, 6042393.61487176, 6121653.86307212, 5923201.37582301, 5488320.28042503, 5688756.00501015, 5559507.66443653, 5349220.94664921, 5502550.71398641, 5556006.57780565]}],                        {\"paper_bgcolor\": \"rgba(233,233,233,1)\", \"plot_bgcolor\": \"rgba(240,235,228,1)\", \"template\": {\"data\": {\"bar\": [{\"error_x\": {\"color\": \"#2a3f5f\"}, \"error_y\": {\"color\": \"#2a3f5f\"}, \"marker\": {\"line\": {\"color\": \"#E5ECF6\", \"width\": 0.5}}, \"type\": \"bar\"}], \"barpolar\": [{\"marker\": {\"line\": {\"color\": \"#E5ECF6\", \"width\": 0.5}}, \"type\": \"barpolar\"}], \"carpet\": [{\"aaxis\": {\"endlinecolor\": \"#2a3f5f\", \"gridcolor\": \"white\", \"linecolor\": \"white\", \"minorgridcolor\": \"white\", \"startlinecolor\": \"#2a3f5f\"}, \"baxis\": {\"endlinecolor\": \"#2a3f5f\", \"gridcolor\": \"white\", \"linecolor\": \"white\", \"minorgridcolor\": \"white\", \"startlinecolor\": \"#2a3f5f\"}, \"type\": \"carpet\"}], \"choropleth\": [{\"colorbar\": {\"outlinewidth\": 0, \"ticks\": \"\"}, \"type\": \"choropleth\"}], \"contour\": [{\"colorbar\": {\"outlinewidth\": 0, \"ticks\": \"\"}, \"colorscale\": [[0.0, \"#0d0887\"], [0.1111111111111111, \"#46039f\"], [0.2222222222222222, \"#7201a8\"], [0.3333333333333333, \"#9c179e\"], [0.4444444444444444, \"#bd3786\"], [0.5555555555555556, \"#d8576b\"], [0.6666666666666666, \"#ed7953\"], [0.7777777777777778, \"#fb9f3a\"], [0.8888888888888888, \"#fdca26\"], [1.0, \"#f0f921\"]], \"type\": \"contour\"}], \"contourcarpet\": [{\"colorbar\": {\"outlinewidth\": 0, \"ticks\": \"\"}, \"type\": \"contourcarpet\"}], \"heatmap\": [{\"colorbar\": {\"outlinewidth\": 0, \"ticks\": \"\"}, \"colorscale\": [[0.0, \"#0d0887\"], [0.1111111111111111, \"#46039f\"], [0.2222222222222222, \"#7201a8\"], [0.3333333333333333, \"#9c179e\"], [0.4444444444444444, \"#bd3786\"], [0.5555555555555556, \"#d8576b\"], [0.6666666666666666, \"#ed7953\"], [0.7777777777777778, \"#fb9f3a\"], [0.8888888888888888, \"#fdca26\"], [1.0, \"#f0f921\"]], \"type\": \"heatmap\"}], \"heatmapgl\": [{\"colorbar\": {\"outlinewidth\": 0, \"ticks\": \"\"}, \"colorscale\": [[0.0, \"#0d0887\"], [0.1111111111111111, \"#46039f\"], [0.2222222222222222, \"#7201a8\"], [0.3333333333333333, \"#9c179e\"], [0.4444444444444444, \"#bd3786\"], [0.5555555555555556, \"#d8576b\"], [0.6666666666666666, \"#ed7953\"], [0.7777777777777778, \"#fb9f3a\"], [0.8888888888888888, \"#fdca26\"], [1.0, \"#f0f921\"]], \"type\": \"heatmapgl\"}], \"histogram\": [{\"marker\": {\"colorbar\": {\"outlinewidth\": 0, \"ticks\": \"\"}}, \"type\": \"histogram\"}], \"histogram2d\": [{\"colorbar\": {\"outlinewidth\": 0, \"ticks\": \"\"}, \"colorscale\": [[0.0, \"#0d0887\"], [0.1111111111111111, \"#46039f\"], [0.2222222222222222, \"#7201a8\"], [0.3333333333333333, \"#9c179e\"], [0.4444444444444444, \"#bd3786\"], [0.5555555555555556, \"#d8576b\"], [0.6666666666666666, \"#ed7953\"], [0.7777777777777778, \"#fb9f3a\"], [0.8888888888888888, \"#fdca26\"], [1.0, \"#f0f921\"]], \"type\": \"histogram2d\"}], \"histogram2dcontour\": [{\"colorbar\": {\"outlinewidth\": 0, \"ticks\": \"\"}, \"colorscale\": [[0.0, \"#0d0887\"], [0.1111111111111111, \"#46039f\"], [0.2222222222222222, \"#7201a8\"], [0.3333333333333333, \"#9c179e\"], [0.4444444444444444, \"#bd3786\"], [0.5555555555555556, \"#d8576b\"], [0.6666666666666666, \"#ed7953\"], [0.7777777777777778, \"#fb9f3a\"], [0.8888888888888888, \"#fdca26\"], [1.0, \"#f0f921\"]], \"type\": \"histogram2dcontour\"}], \"mesh3d\": [{\"colorbar\": {\"outlinewidth\": 0, \"ticks\": \"\"}, \"type\": \"mesh3d\"}], \"parcoords\": [{\"line\": {\"colorbar\": {\"outlinewidth\": 0, \"ticks\": \"\"}}, \"type\": \"parcoords\"}], \"pie\": [{\"automargin\": true, \"type\": \"pie\"}], \"scatter\": [{\"marker\": {\"colorbar\": {\"outlinewidth\": 0, \"ticks\": \"\"}}, \"type\": \"scatter\"}], \"scatter3d\": [{\"line\": {\"colorbar\": {\"outlinewidth\": 0, \"ticks\": \"\"}}, \"marker\": {\"colorbar\": {\"outlinewidth\": 0, \"ticks\": \"\"}}, \"type\": \"scatter3d\"}], \"scattercarpet\": [{\"marker\": {\"colorbar\": {\"outlinewidth\": 0, \"ticks\": \"\"}}, \"type\": \"scattercarpet\"}], \"scattergeo\": [{\"marker\": {\"colorbar\": {\"outlinewidth\": 0, \"ticks\": \"\"}}, \"type\": \"scattergeo\"}], \"scattergl\": [{\"marker\": {\"colorbar\": {\"outlinewidth\": 0, \"ticks\": \"\"}}, \"type\": \"scattergl\"}], \"scattermapbox\": [{\"marker\": {\"colorbar\": {\"outlinewidth\": 0, \"ticks\": \"\"}}, \"type\": \"scattermapbox\"}], \"scatterpolar\": [{\"marker\": {\"colorbar\": {\"outlinewidth\": 0, \"ticks\": \"\"}}, \"type\": \"scatterpolar\"}], \"scatterpolargl\": [{\"marker\": {\"colorbar\": {\"outlinewidth\": 0, \"ticks\": \"\"}}, \"type\": \"scatterpolargl\"}], \"scatterternary\": [{\"marker\": {\"colorbar\": {\"outlinewidth\": 0, \"ticks\": \"\"}}, \"type\": \"scatterternary\"}], \"surface\": [{\"colorbar\": {\"outlinewidth\": 0, \"ticks\": \"\"}, \"colorscale\": [[0.0, \"#0d0887\"], [0.1111111111111111, \"#46039f\"], [0.2222222222222222, \"#7201a8\"], [0.3333333333333333, \"#9c179e\"], [0.4444444444444444, \"#bd3786\"], [0.5555555555555556, \"#d8576b\"], [0.6666666666666666, \"#ed7953\"], [0.7777777777777778, \"#fb9f3a\"], [0.8888888888888888, \"#fdca26\"], [1.0, \"#f0f921\"]], \"type\": \"surface\"}], \"table\": [{\"cells\": {\"fill\": {\"color\": \"#EBF0F8\"}, \"line\": {\"color\": \"white\"}}, \"header\": {\"fill\": {\"color\": \"#C8D4E3\"}, \"line\": {\"color\": \"white\"}}, \"type\": \"table\"}]}, \"layout\": {\"annotationdefaults\": {\"arrowcolor\": \"#2a3f5f\", \"arrowhead\": 0, \"arrowwidth\": 1}, \"coloraxis\": {\"colorbar\": {\"outlinewidth\": 0, \"ticks\": \"\"}}, \"colorscale\": {\"diverging\": [[0, \"#8e0152\"], [0.1, \"#c51b7d\"], [0.2, \"#de77ae\"], [0.3, \"#f1b6da\"], [0.4, \"#fde0ef\"], [0.5, \"#f7f7f7\"], [0.6, \"#e6f5d0\"], [0.7, \"#b8e186\"], [0.8, \"#7fbc41\"], [0.9, \"#4d9221\"], [1, \"#276419\"]], \"sequential\": [[0.0, \"#0d0887\"], [0.1111111111111111, \"#46039f\"], [0.2222222222222222, \"#7201a8\"], [0.3333333333333333, \"#9c179e\"], [0.4444444444444444, \"#bd3786\"], [0.5555555555555556, \"#d8576b\"], [0.6666666666666666, \"#ed7953\"], [0.7777777777777778, \"#fb9f3a\"], [0.8888888888888888, \"#fdca26\"], [1.0, \"#f0f921\"]], \"sequentialminus\": [[0.0, \"#0d0887\"], [0.1111111111111111, \"#46039f\"], [0.2222222222222222, \"#7201a8\"], [0.3333333333333333, \"#9c179e\"], [0.4444444444444444, \"#bd3786\"], [0.5555555555555556, \"#d8576b\"], [0.6666666666666666, \"#ed7953\"], [0.7777777777777778, \"#fb9f3a\"], [0.8888888888888888, \"#fdca26\"], [1.0, \"#f0f921\"]]}, \"colorway\": [\"#636efa\", \"#EF553B\", \"#00cc96\", \"#ab63fa\", \"#FFA15A\", \"#19d3f3\", \"#FF6692\", \"#B6E880\", \"#FF97FF\", \"#FECB52\"], \"font\": {\"color\": \"#2a3f5f\"}, \"geo\": {\"bgcolor\": \"white\", \"lakecolor\": \"white\", \"landcolor\": \"#E5ECF6\", \"showlakes\": true, \"showland\": true, \"subunitcolor\": \"white\"}, \"hoverlabel\": {\"align\": \"left\"}, \"hovermode\": \"closest\", \"mapbox\": {\"style\": \"light\"}, \"paper_bgcolor\": \"white\", \"plot_bgcolor\": \"#E5ECF6\", \"polar\": {\"angularaxis\": {\"gridcolor\": \"white\", \"linecolor\": \"white\", \"ticks\": \"\"}, \"bgcolor\": \"#E5ECF6\", \"radialaxis\": {\"gridcolor\": \"white\", \"linecolor\": \"white\", \"ticks\": \"\"}}, \"scene\": {\"xaxis\": {\"backgroundcolor\": \"#E5ECF6\", \"gridcolor\": \"white\", \"gridwidth\": 2, \"linecolor\": \"white\", \"showbackground\": true, \"ticks\": \"\", \"zerolinecolor\": \"white\"}, \"yaxis\": {\"backgroundcolor\": \"#E5ECF6\", \"gridcolor\": \"white\", \"gridwidth\": 2, \"linecolor\": \"white\", \"showbackground\": true, \"ticks\": \"\", \"zerolinecolor\": \"white\"}, \"zaxis\": {\"backgroundcolor\": \"#E5ECF6\", \"gridcolor\": \"white\", \"gridwidth\": 2, \"linecolor\": \"white\", \"showbackground\": true, \"ticks\": \"\", \"zerolinecolor\": \"white\"}}, \"shapedefaults\": {\"line\": {\"color\": \"#2a3f5f\"}}, \"ternary\": {\"aaxis\": {\"gridcolor\": \"white\", \"linecolor\": \"white\", \"ticks\": \"\"}, \"baxis\": {\"gridcolor\": \"white\", \"linecolor\": \"white\", \"ticks\": \"\"}, \"bgcolor\": \"#E5ECF6\", \"caxis\": {\"gridcolor\": \"white\", \"linecolor\": \"white\", \"ticks\": \"\"}}, \"title\": {\"x\": 0.05}, \"xaxis\": {\"automargin\": true, \"gridcolor\": \"white\", \"linecolor\": \"white\", \"ticks\": \"\", \"title\": {\"standoff\": 15}, \"zerolinecolor\": \"white\", \"zerolinewidth\": 2}, \"yaxis\": {\"automargin\": true, \"gridcolor\": \"white\", \"linecolor\": \"white\", \"ticks\": \"\", \"title\": {\"standoff\": 15}, \"zerolinecolor\": \"white\", \"zerolinewidth\": 2}}}, \"title\": {\"font\": {\"family\": \"Times New Roman\", \"size\": 22}, \"text\": \"Change in CO2 between 1880 ~ 2016\", \"x\": 0.5}, \"xaxis\": {\"color\": \"black\", \"showgrid\": true, \"title\": {\"text\": \"year\"}}, \"yaxis\": {\"color\": \"black\", \"showgrid\": true, \"title\": {\"text\": \"value\"}}},                        {\"responsive\": true}                    ).then(function(){\n",
       "                            \n",
       "var gd = document.getElementById('690b536e-cb15-4d74-97a4-873c67820e50');\n",
       "var x = new MutationObserver(function (mutations, observer) {{\n",
       "        var display = window.getComputedStyle(gd).display;\n",
       "        if (!display || display === 'none') {{\n",
       "            console.log([gd, 'removed!']);\n",
       "            Plotly.purge(gd);\n",
       "            observer.disconnect();\n",
       "        }}\n",
       "}});\n",
       "\n",
       "// Listen for the removal of the full notebook cells\n",
       "var notebookContainer = gd.closest('#notebook-container');\n",
       "if (notebookContainer) {{\n",
       "    x.observe(notebookContainer, {childList: true});\n",
       "}}\n",
       "\n",
       "// Listen for the clearing of the current output cell\n",
       "var outputEl = gd.closest('.output');\n",
       "if (outputEl) {{\n",
       "    x.observe(outputEl, {childList: true});\n",
       "}}\n",
       "\n",
       "                        })                };                });            </script>        </div>"
      ]
     },
     "metadata": {},
     "output_type": "display_data"
    }
   ],
   "source": [
    "fig = go.Figure(layout = go.Layout(\n",
    "        xaxis=dict(showgrid = True,title = \"year\",color = 'black'),\n",
    "        yaxis=dict(showgrid = True,title = \"value\",color = 'black'),\n",
    "    ))\n",
    "\n",
    "fig.add_trace(go.Scatter(\n",
    "                x=eu_df.values,\n",
    "                y=graph['carbon_dioxide_co2_emissions_without_land_use_land_use_change_and_forestry_lulucf_in_kilotonne_co2_equivalent'],\n",
    "                name=\"CO2 emissions\",\n",
    "                line_color='rgb(203, 67, 53)',\n",
    "                opacity=0.8))\n",
    "fig.update_layout(title_text = \"Change in CO2 between 1880 ~ 2016\", title_x=0.5, title_font_family=\"Times New Roman\", \\\n",
    "                  title_font_size = 22, paper_bgcolor = 'rgba(233,233,233,1)', plot_bgcolor = 'rgba(240,235,228,1)')\n",
    "fig.show()"
   ]
  },
  {
   "cell_type": "code",
   "execution_count": null,
   "metadata": {},
   "outputs": [],
   "source": []
  }
 ],
 "metadata": {
  "kernelspec": {
   "display_name": "Python 3",
   "language": "python",
   "name": "python3"
  },
  "language_info": {
   "codemirror_mode": {
    "name": "ipython",
    "version": 3
   },
   "file_extension": ".py",
   "mimetype": "text/x-python",
   "name": "python",
   "nbconvert_exporter": "python",
   "pygments_lexer": "ipython3",
   "version": "3.7.8"
  }
 },
 "nbformat": 4,
 "nbformat_minor": 4
}
